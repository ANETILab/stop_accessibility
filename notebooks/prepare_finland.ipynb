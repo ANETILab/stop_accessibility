{
 "cells": [
  {
   "cell_type": "code",
   "execution_count": 21,
   "metadata": {},
   "outputs": [],
   "source": [
    "from pathlib import Path\n",
    "\n",
    "import geopandas as gpd\n",
    "import pandas as pd"
   ]
  },
  {
   "cell_type": "code",
   "execution_count": 22,
   "metadata": {
    "tags": [
     "parameters"
    ]
   },
   "outputs": [],
   "source": [
    "YEAR = 2023"
   ]
  },
  {
   "cell_type": "code",
   "execution_count": null,
   "metadata": {},
   "outputs": [],
   "source": [
    "data = pd.read_csv(\n",
    "    f\"../data/statistics/finland/009_12f7_{YEAR}_all.csv\",\n",
    "    skiprows=2,\n",
    "    encoding=\"ISO-8859-1\",\n",
    ")\n",
    "\n",
    "data[\"Information\"] = data[\"Information\"].str.replace(\" (HR)\", \"\")\n",
    "data.rename({\"Information\": \"information\"}, axis=1, inplace=True)\n",
    "\n",
    "data[[\"postal_code\", \"area_name\"]] = data[\"Postal code area\"].str.split(\n",
    "    \"  \", expand=True\n",
    ")\n",
    "data.drop([\"Postal code area\"], axis=1, inplace=True)"
   ]
  },
  {
   "cell_type": "code",
   "execution_count": 11,
   "metadata": {},
   "outputs": [],
   "source": [
    "year = data[[\"postal_code\", \"area_name\", \"information\", str(YEAR)]].copy()\n",
    "year = pd.pivot_table(\n",
    "    year, index=[\"postal_code\"], columns=[\"information\"], values=[str(YEAR)]\n",
    ")\n",
    "year.columns = year.columns.droplevel()\n",
    "year.reset_index(inplace=True)\n",
    "year = year.merge(\n",
    "    data[[\"postal_code\", \"area_name\"]].drop_duplicates(), on=\"postal_code\"\n",
    ")\n",
    "year = year[[\"postal_code\", \"area_name\"] + year.columns.tolist()[1:-1]].copy()"
   ]
  },
  {
   "cell_type": "code",
   "execution_count": 18,
   "metadata": {},
   "outputs": [],
   "source": [
    "postal_areas = gpd.read_file(\n",
    "    \"../data/statistics/finland/finland_postalcode_area.geojson\"\n",
    ")\n",
    "postal_areas = postal_areas[postal_areas[\"posti_alue\"].isin(year[\"postal_code\"])].copy()\n",
    "postal_areas = postal_areas[\n",
    "    [\"posti_alue\", \"vuosi\", \"nimi\", \"pinta_ala\", \"geometry\"]\n",
    "].copy()\n",
    "postal_areas.columns = [\"postal_code\", \"year\", \"name\", \"surface_area\", \"geometry\"]"
   ]
  },
  {
   "cell_type": "code",
   "execution_count": 19,
   "metadata": {},
   "outputs": [],
   "source": [
    "merged = postal_areas.merge(year, on=\"postal_code\")"
   ]
  },
  {
   "cell_type": "code",
   "execution_count": 23,
   "metadata": {},
   "outputs": [],
   "source": [
    "Path(f\"../data/statistics/helsinki/{YEAR}/\").mkdir(parents=True, exist_ok=True)\n",
    "merged.to_file(f\"../data/statistics/helsinki/{YEAR}/statistics.geojson\")"
   ]
  },
  {
   "cell_type": "code",
   "execution_count": null,
   "metadata": {},
   "outputs": [],
   "source": [
    "# merged.plot(column=\"Average income of inhabitants\")"
   ]
  },
  {
   "cell_type": "code",
   "execution_count": null,
   "metadata": {},
   "outputs": [],
   "source": []
  }
 ],
 "metadata": {
  "kernelspec": {
   "display_name": "calculate_accessibility-4Q_DyPin-py3.11",
   "language": "python",
   "name": "python3"
  },
  "language_info": {
   "codemirror_mode": {
    "name": "ipython",
    "version": 3
   },
   "file_extension": ".py",
   "mimetype": "text/x-python",
   "name": "python",
   "nbconvert_exporter": "python",
   "pygments_lexer": "ipython3",
   "version": "3.11.11"
  }
 },
 "nbformat": 4,
 "nbformat_minor": 2
}
