{
 "cells": [
  {
   "cell_type": "code",
   "execution_count": null,
   "metadata": {},
   "outputs": [],
   "source": [
    "import geopandas as gpd\n",
    "import h3\n",
    "import matplotlib.pyplot as plt\n",
    "import numpy as np\n",
    "import pandas as pd\n",
    "from scipy.stats import entropy\n",
    "from shapely.geometry import Polygon"
   ]
  },
  {
   "cell_type": "code",
   "execution_count": null,
   "metadata": {
    "tags": [
     "parameters"
    ]
   },
   "outputs": [],
   "source": [
    "CITY = \"budapest\"\n",
    "VERSION = \"20250428\""
   ]
  },
  {
   "cell_type": "code",
   "execution_count": null,
   "metadata": {},
   "outputs": [],
   "source": [
    "# define path for socioecon info\n",
    "szk_path = \"/mnt/common-ssd/zadorzsofi/telekom/BKK/data/szuperkupa_nap_zscores.pkl\"\n",
    "# district path\n",
    "district_path = \"/mnt/common-ssd/zadorzsofi/telekom/BKK/data/city_shapes/Budapest/budapest_districts.shp\"\n",
    "# Gross labour income per capita by income deciles for Hungary\n",
    "income_path = \"/mnt/common-ssd/zadorzsofi/telekom/BKK/data/socioecon/stadat-jov0003-14.8.1.2_income_deciles_total.csv\"\n",
    "# district income path - gross mean income\n",
    "district_income_path = \"/mnt/common-ssd/zadorzsofi/telekom/BKK/data/socioecon/bp_gross_mean_income2024.xlsx\"\n",
    "# multimodal gini path\n",
    "gini_house_multi_path = (\n",
    "    \"/mnt/common-ssd/zadorzsofi/telekom/BKK/data/socioecon/multimodal_stop_gini.csv\"\n",
    ")\n",
    "# walk15 gini path\n",
    "gini_house_walk_path = (\n",
    "    \"/mnt/common-ssd/zadorzsofi/telekom/BKK/data/socioecon/walk15_stop_gini.csv\"\n",
    ")\n",
    "city = \"budapest\"\n",
    "version = \"20250428\"  # if \"\" then no version folder is selected\n",
    "path = f\"/mnt/common-ssd/pintergreg/stop_accessibility/output/{CITY}/{VERSION}/\"\n",
    "\n",
    "\n",
    "# Read the GeoJSON file where for each stop id we know the multimodal area (5 min walk + 10 min BKK) + ellipticity of this shape + size of the area\n",
    "# and multipolygons describing the 5 min walk from each such station\n",
    "multimodal = gpd.read_file(\n",
    "    f\"{path}/stop_geometries_from_walk.geojson\", engine=\"pyogrio\"\n",
    ")\n",
    "# Read GeoJSON file for 15 minute walking distance\n",
    "walking = gpd.read_file(f\"{path}/isochrones.geojson\", engine=\"pyogrio\")\n",
    "# read centrality csv\n",
    "centrality = pd.read_csv(\n",
    "    f\"{path}/merged.csv\",\n",
    "    dtype={\n",
    "        \"stop_id\": str,\n",
    "    },\n",
    ")\n",
    "\n",
    "\n",
    "# read in geojson for city boundary\n",
    "bp = gpd.read_file(f\"../../data/osm/{CITY}/boundary.geojson\", engine=\"pyogrio\")\n",
    "# Read the pickle file into a DataFrame\n",
    "szk_nap = pd.read_pickle(szk_path)\n",
    "# read district geojson\n",
    "dist = gpd.read_file(district_path, engine=\"pyogrio\")\n",
    "# income\n",
    "income = pd.read_csv(income_path, header=1, index_col=0, delimiter=\";\", thousands=\" \")\n",
    "# distrcit income\n",
    "dist_income = pd.read_excel(district_income_path)\n",
    "# gini from house price\n",
    "gini_house_multi = pd.read_csv(gini_house_multi_path)\n",
    "gini_house_walk = pd.read_csv(gini_house_walk_path)"
   ]
  },
  {
   "cell_type": "markdown",
   "metadata": {},
   "source": [
    "# Pipeline\n",
    "\n",
    "0. Filter walking to 15min walk\n",
    "1. match hexagons & other small shapes to walking15 shapes and multimodal\n",
    "2. Append to socioecon data\n",
    "3. For multimodal, count average income, nr poor households/total households (poor household %) within area\n",
    "4. For walking15 count within area\n",
    "5. Calculate a) low income ratio b) Gini, c) income entropy -- however how? income level at each location? and characterise low/mid/high income for Gini?"
   ]
  },
  {
   "cell_type": "markdown",
   "metadata": {},
   "source": [
    "### Filter walking"
   ]
  },
  {
   "cell_type": "code",
   "execution_count": null,
   "metadata": {},
   "outputs": [],
   "source": [
    "walking15 = walking[(walking[\"costing\"] == \"walk\") & (walking[\"range\"] == 15)]\n",
    "walking15 = walking15.copy()\n",
    "walking15.drop(columns=[\"costing\", \"range\"], inplace=True)"
   ]
  },
  {
   "cell_type": "markdown",
   "metadata": {},
   "source": [
    "### 1. Match hex to shapes"
   ]
  },
  {
   "cell_type": "code",
   "execution_count": null,
   "metadata": {},
   "outputs": [],
   "source": [
    "def add_hexagon_ids(geo_df, hex_resolution=10):\n",
    "    \"\"\"\n",
    "    Adds a column of H3 hexagon IDs to a GeoDataFrame based on its geometries.\n",
    "\n",
    "    Parameters:\n",
    "    geo_df (GeoDataFrame): The input GeoDataFrame with geometries.\n",
    "    hex_resolution (int): The H3 resolution level to use.\n",
    "\n",
    "    Returns:\n",
    "    GeoDataFrame: The GeoDataFrame with a new column 'hexagon_ids' containing the hexagon IDs.\n",
    "    \"\"\"\n",
    "    hexagon_lists = []  # List to store hexagon IDs for each geometry\n",
    "\n",
    "    # Loop through each geometry in the GeoDataFrame\n",
    "    for idx, row in geo_df.iterrows():\n",
    "        # Ensure the geometry is valid\n",
    "        if row.geometry.is_valid:\n",
    "            # Initialize an empty set to collect hex IDs\n",
    "            hex_ids = set()\n",
    "\n",
    "            # Check if the geometry is a MultiPolygon\n",
    "            if row.geometry.geom_type == \"MultiPolygon\":\n",
    "                # Loop through each Polygon in the MultiPolygon\n",
    "                for polygon in row.geometry.geoms:\n",
    "                    geom_dict = polygon.__geo_interface__  # Get GeoJSON representation\n",
    "                    hex_ids.update(\n",
    "                        h3.polyfill(geom_dict, hex_resolution, geo_json_conformant=True)\n",
    "                    )\n",
    "            else:\n",
    "                # Handle Polygon geometries\n",
    "                geom_dict = row.geometry.__geo_interface__  # Get GeoJSON representation\n",
    "                hex_ids.update(\n",
    "                    h3.polyfill(geom_dict, hex_resolution, geo_json_conformant=True)\n",
    "                )\n",
    "\n",
    "            # Add the hex IDs to the list\n",
    "            hexagon_lists.append(list(hex_ids))\n",
    "        else:\n",
    "            # Add an empty list for invalid geometries\n",
    "            hexagon_lists.append([])\n",
    "\n",
    "    # Add the hexagon IDs as a new column to the GeoDataFrame\n",
    "    geo_df[\"hexagon_ids\"] = hexagon_lists\n",
    "\n",
    "    # Drop rows where 'hexagon_ids' column is empty or contains NaN\n",
    "    geo_df = geo_df[geo_df[\"hexagon_ids\"].apply(lambda x: bool(x))]"
   ]
  },
  {
   "cell_type": "code",
   "execution_count": null,
   "metadata": {},
   "outputs": [],
   "source": [
    "# match hexagons to 15min walking areas\n",
    "add_hexagon_ids(walking15, hex_resolution=10)\n",
    "# Explode the hexagon_ids column in the walking GeoDataFrame\n",
    "walking15_exploded = walking15.explode(\"hexagon_ids\").rename(\n",
    "    columns={\"hexagon_ids\": \"h3_id\"}\n",
    ")"
   ]
  },
  {
   "cell_type": "code",
   "execution_count": null,
   "metadata": {},
   "outputs": [],
   "source": [
    "# match hexagons to Multimodal areas\n",
    "add_hexagon_ids(multimodal, hex_resolution=10)\n",
    "# Explode the hexagon_ids column in the walking GeoDataFrame\n",
    "multimodal_exploded = multimodal.explode(\"hexagon_ids\").rename(\n",
    "    columns={\"hexagon_ids\": \"h3_id\"}\n",
    ")"
   ]
  },
  {
   "cell_type": "code",
   "execution_count": null,
   "metadata": {},
   "outputs": [
    {
     "data": {
      "image/png": "[encoded data removed]",
      "text/plain": [
       "<Figure size 800x800 with 1 Axes>"
      ]
     },
     "metadata": {},
     "output_type": "display_data"
    }
   ],
   "source": [
    "first_geom = walking15.iloc[5].geometry  # Extract the first row's geometry\n",
    "hex_ids = walking15.iloc[5].hexagon_ids  # Extract H3 hexagon IDs\n",
    "\n",
    "# Convert H3 hexagon IDs to Shapely Polygons\n",
    "hex_geometries = [Polygon(h3.h3_to_geo_boundary(h, geo_json=True)) for h in hex_ids]\n",
    "\n",
    "# Create a GeoDataFrame for the hexagons\n",
    "hex_gdf = gpd.GeoDataFrame(geometry=hex_geometries, crs=walking15.crs)\n",
    "\n",
    "# Plot both layers on top of each other\n",
    "fig, ax = plt.subplots(figsize=(8, 8))\n",
    "\n",
    "# Plot H3 hexagons\n",
    "hex_gdf.plot(ax=ax, color=\"orange\", edgecolor=\"black\", alpha=0.5, label=\"H3 Hexagons\")\n",
    "\n",
    "# Plot original geometry on top\n",
    "gpd.GeoSeries([first_geom]).plot(\n",
    "    ax=ax, color=\"blue\", edgecolor=\"black\", alpha=0.7, label=\"Original Geometry\"\n",
    ")\n",
    "\n",
    "ax.set_title(\"Original Geometry Overlaid on H3 Hexagons\")\n",
    "plt.show()"
   ]
  },
  {
   "cell_type": "markdown",
   "metadata": {},
   "source": [
    "### # 2. Append to socioecon data"
   ]
  },
  {
   "cell_type": "markdown",
   "metadata": {},
   "source": [
    "#### 0. Assign district level gross mean income to each hex in the district"
   ]
  },
  {
   "cell_type": "code",
   "execution_count": null,
   "metadata": {},
   "outputs": [],
   "source": [
    "# Extract the numeric part from 'short_name' in districts2\n",
    "dist[\"district_number\"] = dist[\"short_name\"].str.extract(\"(\\d+)\").astype(int)\n",
    "\n",
    "# Merge the dataframes based on the district number\n",
    "districts3 = pd.merge(\n",
    "    dist,\n",
    "    dist_income[[\"District\", \"Gross mean income monthly 2024\"]],\n",
    "    left_on=\"district_number\",\n",
    "    right_on=\"District\",\n",
    "    how=\"left\",\n",
    ")\n",
    "\n",
    "\n",
    "def h3_to_polygon(h3_id):\n",
    "    \"\"\"Convert a H3 hexagon ID to a Shapely Polygon.\"\"\"\n",
    "    # Get the vertices of the hexagon using h3 library\n",
    "    boundary = h3.h3_to_geo_boundary(h3_id, geo_json=True)\n",
    "    # Convert the list of boundary points into a Polygon\n",
    "    return Polygon(boundary)\n",
    "\n",
    "\n",
    "# Apply the conversion for each raster_id in szk_nap\n",
    "szk_nap[\"geometry\"] = szk_nap[\"raster_id\"].apply(h3_to_polygon)\n",
    "\n",
    "# Now create a GeoDataFrame\n",
    "szk_nap_gdf = gpd.GeoDataFrame(szk_nap, geometry=\"geometry\", crs=\"EPSG:4326\")\n",
    "\n",
    "# Perform a spatial join to map hexagons to districts\n",
    "szk_nap_gdf2 = gpd.sjoin(szk_nap_gdf, districts3, how=\"left\")\n",
    "\n",
    "szk_nap_gdf3 = szk_nap_gdf2.drop(\n",
    "    columns=[\"geometry\", \"index_right\", \"name\", \"short_name\", \"district_number\"]\n",
    ")"
   ]
  },
  {
   "cell_type": "code",
   "execution_count": 34,
   "metadata": {},
   "outputs": [
    {
     "data": {
      "text/html": [
       "<div>\n",
       "<style scoped>\n",
       "    .dataframe tbody tr th:only-of-type {\n",
       "        vertical-align: middle;\n",
       "    }\n",
       "\n",
       "    .dataframe tbody tr th {\n",
       "        vertical-align: top;\n",
       "    }\n",
       "\n",
       "    .dataframe thead th {\n",
       "        text-align: right;\n",
       "    }\n",
       "</style>\n",
       "<table border=\"1\" class=\"dataframe\">\n",
       "  <thead>\n",
       "    <tr style=\"text-align: right;\">\n",
       "      <th></th>\n",
       "      <th>raster_id</th>\n",
       "      <th>traffic</th>\n",
       "      <th>remainers</th>\n",
       "      <th>loc_home</th>\n",
       "      <th>loc_work</th>\n",
       "      <th>loc_freq</th>\n",
       "      <th>sex_female</th>\n",
       "      <th>sex_male</th>\n",
       "      <th>sex_na</th>\n",
       "      <th>arpu_low</th>\n",
       "      <th>...</th>\n",
       "      <th>log_traffic_z_score_full</th>\n",
       "      <th>log_roam_z_score_full</th>\n",
       "      <th>log_local_z_score_full</th>\n",
       "      <th>log_traffic_z_score</th>\n",
       "      <th>log_roam_z_score</th>\n",
       "      <th>log_local_z_score</th>\n",
       "      <th>element</th>\n",
       "      <th>id</th>\n",
       "      <th>District</th>\n",
       "      <th>Gross mean income monthly 2024</th>\n",
       "    </tr>\n",
       "  </thead>\n",
       "  <tbody>\n",
       "    <tr>\n",
       "      <th>87</th>\n",
       "      <td>8a1e0378c367fff</td>\n",
       "      <td>156.000000</td>\n",
       "      <td>46.428571</td>\n",
       "      <td>0.000000</td>\n",
       "      <td>6.428571</td>\n",
       "      <td>1.714286</td>\n",
       "      <td>46.571429</td>\n",
       "      <td>41.000000</td>\n",
       "      <td>68.428571</td>\n",
       "      <td>86.857143</td>\n",
       "      <td>...</td>\n",
       "      <td>0.685984</td>\n",
       "      <td>0.000000</td>\n",
       "      <td>0.685984</td>\n",
       "      <td>0.766493</td>\n",
       "      <td>0.000000</td>\n",
       "      <td>0.766493</td>\n",
       "      <td>relation</td>\n",
       "      <td>1606100.0</td>\n",
       "      <td>8.0</td>\n",
       "      <td>771000.0</td>\n",
       "    </tr>\n",
       "    <tr>\n",
       "      <th>255</th>\n",
       "      <td>8a1e037a85b7fff</td>\n",
       "      <td>365.714286</td>\n",
       "      <td>100.428571</td>\n",
       "      <td>23.428571</td>\n",
       "      <td>22.571429</td>\n",
       "      <td>11.428571</td>\n",
       "      <td>99.571429</td>\n",
       "      <td>103.571429</td>\n",
       "      <td>162.571429</td>\n",
       "      <td>183.000000</td>\n",
       "      <td>...</td>\n",
       "      <td>0.629836</td>\n",
       "      <td>1.815712</td>\n",
       "      <td>0.575585</td>\n",
       "      <td>0.698256</td>\n",
       "      <td>3.227631</td>\n",
       "      <td>0.633760</td>\n",
       "      <td>relation</td>\n",
       "      <td>1606101.0</td>\n",
       "      <td>6.0</td>\n",
       "      <td>847000.0</td>\n",
       "    </tr>\n",
       "    <tr>\n",
       "      <th>423</th>\n",
       "      <td>8a1e0378dd9ffff</td>\n",
       "      <td>91.285714</td>\n",
       "      <td>27.000000</td>\n",
       "      <td>0.000000</td>\n",
       "      <td>5.000000</td>\n",
       "      <td>1.428571</td>\n",
       "      <td>25.571429</td>\n",
       "      <td>24.428571</td>\n",
       "      <td>41.285714</td>\n",
       "      <td>44.857143</td>\n",
       "      <td>...</td>\n",
       "      <td>0.482651</td>\n",
       "      <td>0.000000</td>\n",
       "      <td>0.482651</td>\n",
       "      <td>0.526083</td>\n",
       "      <td>0.000000</td>\n",
       "      <td>0.526083</td>\n",
       "      <td>relation</td>\n",
       "      <td>1606100.0</td>\n",
       "      <td>8.0</td>\n",
       "      <td>771000.0</td>\n",
       "    </tr>\n",
       "    <tr>\n",
       "      <th>591</th>\n",
       "      <td>8a1e0363298ffff</td>\n",
       "      <td>65.714286</td>\n",
       "      <td>20.428571</td>\n",
       "      <td>2.142857</td>\n",
       "      <td>0.000000</td>\n",
       "      <td>0.000000</td>\n",
       "      <td>20.285714</td>\n",
       "      <td>18.428571</td>\n",
       "      <td>17.428571</td>\n",
       "      <td>37.714286</td>\n",
       "      <td>...</td>\n",
       "      <td>0.095352</td>\n",
       "      <td>0.000000</td>\n",
       "      <td>0.095352</td>\n",
       "      <td>0.101641</td>\n",
       "      <td>0.000000</td>\n",
       "      <td>0.101641</td>\n",
       "      <td>relation</td>\n",
       "      <td>1552463.0</td>\n",
       "      <td>10.0</td>\n",
       "      <td>698000.0</td>\n",
       "    </tr>\n",
       "    <tr>\n",
       "      <th>759</th>\n",
       "      <td>8a1e036ac98ffff</td>\n",
       "      <td>33.857143</td>\n",
       "      <td>2.428571</td>\n",
       "      <td>0.000000</td>\n",
       "      <td>0.000000</td>\n",
       "      <td>0.000000</td>\n",
       "      <td>6.000000</td>\n",
       "      <td>7.285714</td>\n",
       "      <td>6.857143</td>\n",
       "      <td>8.000000</td>\n",
       "      <td>...</td>\n",
       "      <td>0.583268</td>\n",
       "      <td>0.000000</td>\n",
       "      <td>0.583268</td>\n",
       "      <td>0.642815</td>\n",
       "      <td>0.000000</td>\n",
       "      <td>0.642815</td>\n",
       "      <td>relation</td>\n",
       "      <td>1550597.0</td>\n",
       "      <td>23.0</td>\n",
       "      <td>688000.0</td>\n",
       "    </tr>\n",
       "  </tbody>\n",
       "</table>\n",
       "<p>5 rows × 41 columns</p>\n",
       "</div>"
      ],
      "text/plain": [
       "           raster_id     traffic   remainers   loc_home   loc_work   loc_freq  \\\n",
       "87   8a1e0378c367fff  156.000000   46.428571   0.000000   6.428571   1.714286   \n",
       "255  8a1e037a85b7fff  365.714286  100.428571  23.428571  22.571429  11.428571   \n",
       "423  8a1e0378dd9ffff   91.285714   27.000000   0.000000   5.000000   1.428571   \n",
       "591  8a1e0363298ffff   65.714286   20.428571   2.142857   0.000000   0.000000   \n",
       "759  8a1e036ac98ffff   33.857143    2.428571   0.000000   0.000000   0.000000   \n",
       "\n",
       "     sex_female    sex_male      sex_na    arpu_low  ...  \\\n",
       "87    46.571429   41.000000   68.428571   86.857143  ...   \n",
       "255   99.571429  103.571429  162.571429  183.000000  ...   \n",
       "423   25.571429   24.428571   41.285714   44.857143  ...   \n",
       "591   20.285714   18.428571   17.428571   37.714286  ...   \n",
       "759    6.000000    7.285714    6.857143    8.000000  ...   \n",
       "\n",
       "     log_traffic_z_score_full  log_roam_z_score_full  log_local_z_score_full  \\\n",
       "87                   0.685984               0.000000                0.685984   \n",
       "255                  0.629836               1.815712                0.575585   \n",
       "423                  0.482651               0.000000                0.482651   \n",
       "591                  0.095352               0.000000                0.095352   \n",
       "759                  0.583268               0.000000                0.583268   \n",
       "\n",
       "     log_traffic_z_score  log_roam_z_score  log_local_z_score   element  \\\n",
       "87              0.766493          0.000000           0.766493  relation   \n",
       "255             0.698256          3.227631           0.633760  relation   \n",
       "423             0.526083          0.000000           0.526083  relation   \n",
       "591             0.101641          0.000000           0.101641  relation   \n",
       "759             0.642815          0.000000           0.642815  relation   \n",
       "\n",
       "            id  District  Gross mean income monthly 2024  \n",
       "87   1606100.0       8.0                        771000.0  \n",
       "255  1606101.0       6.0                        847000.0  \n",
       "423  1606100.0       8.0                        771000.0  \n",
       "591  1552463.0      10.0                        698000.0  \n",
       "759  1550597.0      23.0                        688000.0  \n",
       "\n",
       "[5 rows x 41 columns]"
      ]
     },
     "execution_count": 34,
     "metadata": {},
     "output_type": "execute_result"
    }
   ],
   "source": [
    "szk_nap_gdf3.head()"
   ]
  },
  {
   "cell_type": "code",
   "execution_count": null,
   "metadata": {},
   "outputs": [],
   "source": [
    "# Merge 15 min walk with df_szk on the H3 hexagon IDs\n",
    "stop_walk15 = pd.merge(\n",
    "    walking15_exploded, szk_nap_gdf3, left_on=\"h3_id\", right_on=\"raster_id\", how=\"left\"\n",
    ")"
   ]
  },
  {
   "cell_type": "code",
   "execution_count": null,
   "metadata": {},
   "outputs": [],
   "source": [
    "# Merge with df_szk on the H3 hexagon IDs\n",
    "stop_multimodal = pd.merge(\n",
    "    multimodal_exploded, szk_nap_gdf2, left_on=\"h3_id\", right_on=\"raster_id\", how=\"left\"\n",
    ")"
   ]
  },
  {
   "cell_type": "markdown",
   "metadata": {},
   "source": [
    "### 3. and 4. Get socioecon information for each multimodal and walking area"
   ]
  },
  {
   "cell_type": "code",
   "execution_count": null,
   "metadata": {},
   "outputs": [],
   "source": [
    "# Define the columns to sum and the column to average\n",
    "columns_to_sum = [\n",
    "    \"traffic\",\n",
    "    \"sex_female\",\n",
    "    \"sex_male\",\n",
    "    \"sex_na\",\n",
    "    \"arpu_low\",\n",
    "    \"arpu_mid\",\n",
    "    \"arpu_high\",\n",
    "    \"arpu_na\",\n",
    "    \"age_young\",\n",
    "    \"age_mid\",\n",
    "    \"age_old\",\n",
    "]\n",
    "\n",
    "column_to_avg = \"Gross mean income monthly 2024\"\n",
    "\n",
    "# For 15-min walking area\n",
    "nr_ppl_per_stop_walk15 = (\n",
    "    stop_walk15.groupby(\"stop_id\")\n",
    "    .agg(\n",
    "        {\n",
    "            **{col: \"sum\" for col in columns_to_sum},  # Sum columns\n",
    "            column_to_avg: \"mean\",  # Average for income - so it takes into account if area is in several districts\n",
    "        }\n",
    "    )\n",
    "    .reset_index()\n",
    ")\n",
    "\n",
    "# For multimodal area\n",
    "nr_ppl_per_stop_multimodal = (\n",
    "    stop_multimodal.groupby(\"stop_id\")\n",
    "    .agg(\n",
    "        {\n",
    "            **{col: \"sum\" for col in columns_to_sum},  # Sum  columns\n",
    "            column_to_avg: \"mean\",  # Average for 'Gross mean income monthly 2024'\n",
    "        }\n",
    "    )\n",
    "    .reset_index()\n",
    ")"
   ]
  },
  {
   "cell_type": "markdown",
   "metadata": {},
   "source": [
    "### Calculate socio-econ changes"
   ]
  },
  {
   "cell_type": "markdown",
   "metadata": {},
   "source": [
    "#### a) Income entropy"
   ]
  },
  {
   "cell_type": "code",
   "execution_count": null,
   "metadata": {},
   "outputs": [],
   "source": [
    "nr_ppl_per_stop_multimodal2 = nr_ppl_per_stop_multimodal.set_index(\"stop_id\")\n",
    "multimodal_rev = nr_ppl_per_stop_multimodal2.drop(\n",
    "    columns=[\n",
    "        \"traffic\",\n",
    "        \"sex_female\",\n",
    "        \"sex_male\",\n",
    "        \"sex_na\",\n",
    "        \"age_young\",\n",
    "        \"age_mid\",\n",
    "        \"age_old\",\n",
    "        \"arpu_high\",\n",
    "        \"Gross mean income monthly 2024\",\n",
    "    ]\n",
    ")"
   ]
  },
  {
   "cell_type": "code",
   "execution_count": null,
   "metadata": {},
   "outputs": [],
   "source": [
    "multimodal_rev[\"entropy\"] = multimodal_rev.apply(\n",
    "    lambda row: entropy(row.values, 3), axis=1\n",
    ")"
   ]
  },
  {
   "cell_type": "code",
   "execution_count": null,
   "metadata": {},
   "outputs": [],
   "source": [
    "nr_ppl_per_stop_multimodal = nr_ppl_per_stop_multimodal.merge(\n",
    "    multimodal_rev[[\"entropy\"]],\n",
    "    left_on=\"stop_id\",\n",
    "    right_on=multimodal_rev.index,\n",
    "    how=\"left\",\n",
    ")"
   ]
  },
  {
   "cell_type": "code",
   "execution_count": null,
   "metadata": {},
   "outputs": [],
   "source": [
    "nr_ppl_per_stop_walk15_2 = nr_ppl_per_stop_walk15.set_index(\"stop_id\")\n",
    "walk15_rev = nr_ppl_per_stop_walk15_2.drop(\n",
    "    columns=[\n",
    "        \"traffic\",\n",
    "        \"sex_female\",\n",
    "        \"sex_male\",\n",
    "        \"sex_na\",\n",
    "        \"age_young\",\n",
    "        \"age_mid\",\n",
    "        \"age_old\",\n",
    "        \"arpu_high\",\n",
    "        \"Gross mean income monthly 2024\",\n",
    "    ]\n",
    ")"
   ]
  },
  {
   "cell_type": "code",
   "execution_count": null,
   "metadata": {},
   "outputs": [
    {
     "name": "stderr",
     "output_type": "stream",
     "text": [
      "/tmp/ipykernel_2541198/2723321990.py:4: RuntimeWarning: invalid value encountered in scalar divide\n",
      "  rel_freq = list([i/sum(arr) for i in arr])\n"
     ]
    }
   ],
   "source": [
    "walk15_rev[\"entropy\"] = walk15_rev.apply(lambda row: entropy(row.values, 3), axis=1)\n",
    "nr_ppl_per_stop_walk15 = nr_ppl_per_stop_walk15.merge(\n",
    "    walk15_rev[[\"entropy\"]], left_on=\"stop_id\", right_on=walk15_rev.index, how=\"left\"\n",
    ")"
   ]
  },
  {
   "cell_type": "markdown",
   "metadata": {},
   "source": [
    "#### b) Revenue index"
   ]
  },
  {
   "cell_type": "code",
   "execution_count": null,
   "metadata": {},
   "outputs": [],
   "source": [
    "# Generate Weighted average for multimodal areas\n",
    "\n",
    "# Calculate the total number of people at each stop\n",
    "nr_ppl_per_stop_multimodal[\"total\"] = (\n",
    "    nr_ppl_per_stop_multimodal[\"arpu_low\"]\n",
    "    + nr_ppl_per_stop_multimodal[\"arpu_mid\"]\n",
    "    + nr_ppl_per_stop_multimodal[\"arpu_high\"]\n",
    ")\n",
    "\n",
    "# Calculate the proportion of each category\n",
    "nr_ppl_per_stop_multimodal[\"P_low\"] = (\n",
    "    nr_ppl_per_stop_multimodal[\"arpu_low\"] / nr_ppl_per_stop_multimodal[\"total\"]\n",
    ")\n",
    "nr_ppl_per_stop_multimodal[\"P_mid\"] = (\n",
    "    nr_ppl_per_stop_multimodal[\"arpu_mid\"] / nr_ppl_per_stop_multimodal[\"total\"]\n",
    ")\n",
    "nr_ppl_per_stop_multimodal[\"P_high\"] = (\n",
    "    nr_ppl_per_stop_multimodal[\"arpu_high\"] / nr_ppl_per_stop_multimodal[\"total\"]\n",
    ")\n",
    "\n",
    "# Calculate the revenue index using weights -1, 0, and 1\n",
    "nr_ppl_per_stop_multimodal[\"revenue_index\"] = (\n",
    "    (-1 * nr_ppl_per_stop_multimodal[\"P_low\"])\n",
    "    + (0 * nr_ppl_per_stop_multimodal[\"P_mid\"])\n",
    "    + (1 * nr_ppl_per_stop_multimodal[\"P_high\"])\n",
    ")"
   ]
  },
  {
   "cell_type": "code",
   "execution_count": null,
   "metadata": {},
   "outputs": [],
   "source": [
    "# Generate Weighted average for multimodal areas\n",
    "\n",
    "# Calculate the total number of people at each stop\n",
    "nr_ppl_per_stop_walk15[\"total\"] = (\n",
    "    nr_ppl_per_stop_walk15[\"arpu_low\"]\n",
    "    + nr_ppl_per_stop_walk15[\"arpu_mid\"]\n",
    "    + nr_ppl_per_stop_walk15[\"arpu_high\"]\n",
    ")\n",
    "\n",
    "# Calculate the proportion of each category\n",
    "nr_ppl_per_stop_walk15[\"P_low\"] = (\n",
    "    nr_ppl_per_stop_walk15[\"arpu_low\"] / nr_ppl_per_stop_walk15[\"total\"]\n",
    ")\n",
    "nr_ppl_per_stop_walk15[\"P_mid\"] = (\n",
    "    nr_ppl_per_stop_walk15[\"arpu_mid\"] / nr_ppl_per_stop_walk15[\"total\"]\n",
    ")\n",
    "nr_ppl_per_stop_walk15[\"P_high\"] = (\n",
    "    nr_ppl_per_stop_walk15[\"arpu_high\"] / nr_ppl_per_stop_walk15[\"total\"]\n",
    ")\n",
    "\n",
    "# Calculate the revenue index using weights -1, 0, and 1\n",
    "nr_ppl_per_stop_walk15[\"revenue_index\"] = (\n",
    "    (-1 * nr_ppl_per_stop_walk15[\"P_low\"])\n",
    "    + (0 * nr_ppl_per_stop_walk15[\"P_mid\"])\n",
    "    + (1 * nr_ppl_per_stop_walk15[\"P_high\"])\n",
    ")"
   ]
  },
  {
   "cell_type": "markdown",
   "metadata": {},
   "source": [
    "#### c) Gini coefficient"
   ]
  },
  {
   "cell_type": "markdown",
   "metadata": {},
   "source": [
    "##### 1. Calculate % difference from Hungary income deciles to low-income, medium income and high income"
   ]
  },
  {
   "cell_type": "code",
   "execution_count": null,
   "metadata": {},
   "outputs": [],
   "source": [
    "# For Helsinki I used these deciles, so I'll continue using them for consistency\n",
    "\n",
    "# In the postal code data low-income is nr of people in decile 1 and 2\n",
    "# High-income is nr of people in decile 9-10\n",
    "# So I want to calculate % difference in income from median for low and high income groups and use that in the GINI"
   ]
  },
  {
   "cell_type": "code",
   "execution_count": null,
   "metadata": {},
   "outputs": [],
   "source": [
    "# Compute Bp's Income Differences between median (5th decile) and low/high income\n",
    "median_bp = income.loc[income.index == \"5th income decile\", \"2020\"]\n",
    "\n",
    "low_deciles_avg = income.loc[\n",
    "    income.index.isin([\"1st income decile\", \"2nd income decile\"]), \"2020\"\n",
    "].mean()\n",
    "high_deciles_avg = income.loc[\n",
    "    income.index.isin([\"9th income decile\", \"10th income decile\"]), \"2020\"\n",
    "].mean()\n",
    "\n",
    "low_income_diff = (low_deciles_avg - median_bp) / median_bp\n",
    "high_income_diff = (high_deciles_avg - median_bp) / median_bp"
   ]
  },
  {
   "cell_type": "code",
   "execution_count": null,
   "metadata": {},
   "outputs": [],
   "source": [
    "# Estimate Representative Incomes for walking\n",
    "nr_ppl_per_stop_walk15[\"Low_Income_Rep\"] = nr_ppl_per_stop_walk15[\n",
    "    \"Gross mean income monthly 2024\"\n",
    "] * (1 + float(low_income_diff.iloc[0]))\n",
    "nr_ppl_per_stop_walk15[\"High_Income_Rep\"] = nr_ppl_per_stop_walk15[\n",
    "    \"Gross mean income monthly 2024\"\n",
    "] * (1 + float(high_income_diff.iloc[0]))\n",
    "\n",
    "# Estimate Representative Incomes for multimodal\n",
    "nr_ppl_per_stop_multimodal[\"Low_Income_Rep\"] = nr_ppl_per_stop_multimodal[\n",
    "    \"Gross mean income monthly 2024\"\n",
    "] * (1 + float(low_income_diff.iloc[0]))\n",
    "nr_ppl_per_stop_multimodal[\"High_Income_Rep\"] = nr_ppl_per_stop_multimodal[\n",
    "    \"Gross mean income monthly 2024\"\n",
    "] * (1 + float(high_income_diff.iloc[0]))"
   ]
  },
  {
   "cell_type": "markdown",
   "metadata": {},
   "source": [
    "##### 2. Apply % difference to walking and multimodal areas"
   ]
  },
  {
   "cell_type": "code",
   "execution_count": null,
   "metadata": {},
   "outputs": [],
   "source": [
    "# creating an array (column), where each income category is repeated the houshold nr times\n",
    "# this will be used for gini calculation\n",
    "def create_income_distribution(row):\n",
    "    low_income = [row[\"Low_Income_Rep\"]] * int(row[\"arpu_low\"])\n",
    "    middle_income = [row[\"Gross mean income monthly 2024\"]] * int(row[\"arpu_mid\"])\n",
    "    high_income = [row[\"High_Income_Rep\"]] * int(row[\"arpu_high\"])\n",
    "    return low_income + middle_income + high_income"
   ]
  },
  {
   "cell_type": "code",
   "execution_count": null,
   "metadata": {},
   "outputs": [],
   "source": [
    "# define gini\n",
    "def gini(array):\n",
    "    \"\"\"Calculate the Gini coefficient of a numpy array.\n",
    "    Based on code from: https://github.com/oliviaguest/gini\"\"\"\n",
    "    array = np.array(\n",
    "        array, dtype=float\n",
    "    )  # change from Olivia: Convert to NumPy array and flatten\n",
    "    if (\n",
    "        array.size == 0 or np.sum(array) == 0\n",
    "    ):  # change from Olivia, as I have empty arrays\n",
    "        return np.nan  # handle 0 divisions\n",
    "    array = np.sort(array)\n",
    "    n = array.size\n",
    "    index = np.arange(1, n + 1)\n",
    "    return (np.sum((2 * index - n - 1) * array)) / (n * np.sum(array))"
   ]
  },
  {
   "cell_type": "code",
   "execution_count": null,
   "metadata": {},
   "outputs": [],
   "source": [
    "nr_ppl_per_stop_walk15[\"Income_Distribution\"] = nr_ppl_per_stop_walk15.apply(\n",
    "    create_income_distribution, axis=1\n",
    ")\n",
    "nr_ppl_per_stop_walk15[\"gini\"] = nr_ppl_per_stop_walk15[\"Income_Distribution\"].apply(\n",
    "    gini\n",
    ")"
   ]
  },
  {
   "cell_type": "code",
   "execution_count": null,
   "metadata": {},
   "outputs": [],
   "source": [
    "nr_ppl_per_stop_multimodal[\"Income_Distribution\"] = nr_ppl_per_stop_multimodal.apply(\n",
    "    create_income_distribution, axis=1\n",
    ")\n",
    "nr_ppl_per_stop_multimodal[\"gini\"] = nr_ppl_per_stop_multimodal[\n",
    "    \"Income_Distribution\"\n",
    "].apply(gini)"
   ]
  },
  {
   "cell_type": "markdown",
   "metadata": {},
   "source": [
    "##### 2. Merge Gini from housing prices"
   ]
  },
  {
   "cell_type": "code",
   "execution_count": null,
   "metadata": {},
   "outputs": [],
   "source": [
    "# Rename column in gini_house_multi\n",
    "gini_house_multi = gini_house_multi.rename(columns={\"multimodal_gini\": \"gini_house\"})\n",
    "\n",
    "# Rename column in gini_house_walk\n",
    "gini_house_walk = gini_house_walk.rename(columns={\"walk15_gini\": \"gini_house\"})\n",
    "\n",
    "# Merge for multimodal\n",
    "nr_ppl_per_stop_multimodal = pd.merge(\n",
    "    gini_house_multi,\n",
    "    nr_ppl_per_stop_multimodal,\n",
    "    on=\"stop_id\",\n",
    "    how=\"left\",  # or 'inner' depending on your goal\n",
    ")\n",
    "\n",
    "# Merge for walk\n",
    "nr_ppl_per_stop_walk15 = pd.merge(\n",
    "    gini_house_walk, nr_ppl_per_stop_walk15, on=\"stop_id\", how=\"left\"\n",
    ")"
   ]
  },
  {
   "cell_type": "markdown",
   "metadata": {},
   "source": [
    "#### Calculate socioecon ratios"
   ]
  },
  {
   "cell_type": "code",
   "execution_count": null,
   "metadata": {},
   "outputs": [],
   "source": [
    "nr_ppl_per_stop_walk15[\"fem_ratio\"] = (\n",
    "    nr_ppl_per_stop_walk15[\"sex_female\"] / nr_ppl_per_stop_walk15[\"traffic\"]\n",
    ")\n",
    "nr_ppl_per_stop_walk15[\"arpu_low_ratio\"] = (\n",
    "    nr_ppl_per_stop_walk15[\"arpu_low\"] / nr_ppl_per_stop_walk15[\"traffic\"]\n",
    ")\n",
    "nr_ppl_per_stop_walk15[\"arpu_high_ratio\"] = (\n",
    "    nr_ppl_per_stop_walk15[\"arpu_high\"] / nr_ppl_per_stop_walk15[\"traffic\"]\n",
    ")\n",
    "nr_ppl_per_stop_walk15[\"young_ratio\"] = (\n",
    "    nr_ppl_per_stop_walk15[\"age_young\"] / nr_ppl_per_stop_walk15[\"traffic\"]\n",
    ")\n",
    "nr_ppl_per_stop_walk15[\"old_ratio\"] = (\n",
    "    nr_ppl_per_stop_walk15[\"age_old\"] / nr_ppl_per_stop_walk15[\"traffic\"]\n",
    ")"
   ]
  },
  {
   "cell_type": "code",
   "execution_count": null,
   "metadata": {},
   "outputs": [],
   "source": [
    "nr_ppl_per_stop_multimodal[\"fem_ratio\"] = (\n",
    "    nr_ppl_per_stop_multimodal[\"sex_female\"] / nr_ppl_per_stop_multimodal[\"traffic\"]\n",
    ")\n",
    "nr_ppl_per_stop_multimodal[\"arpu_low_ratio\"] = (\n",
    "    nr_ppl_per_stop_multimodal[\"arpu_low\"] / nr_ppl_per_stop_multimodal[\"traffic\"]\n",
    ")\n",
    "nr_ppl_per_stop_multimodal[\"arpu_high_ratio\"] = (\n",
    "    nr_ppl_per_stop_multimodal[\"arpu_high\"] / nr_ppl_per_stop_multimodal[\"traffic\"]\n",
    ")\n",
    "nr_ppl_per_stop_multimodal[\"young_ratio\"] = (\n",
    "    nr_ppl_per_stop_multimodal[\"age_young\"] / nr_ppl_per_stop_multimodal[\"traffic\"]\n",
    ")\n",
    "nr_ppl_per_stop_multimodal[\"old_ratio\"] = (\n",
    "    nr_ppl_per_stop_multimodal[\"age_old\"] / nr_ppl_per_stop_multimodal[\"traffic\"]\n",
    ")"
   ]
  },
  {
   "cell_type": "markdown",
   "metadata": {},
   "source": [
    "### Merge different datasets"
   ]
  },
  {
   "cell_type": "code",
   "execution_count": null,
   "metadata": {},
   "outputs": [],
   "source": [
    "# Merge the DataFrames on stop_id with suffixes but remove Income_Dist before merging as I won't need this in the final df\n",
    "nr_ppl_per_stop_comparison = pd.merge(\n",
    "    nr_ppl_per_stop_multimodal.drop(columns=[\"Income_Distribution\"]),\n",
    "    nr_ppl_per_stop_walk15.drop(columns=[\"Income_Distribution\"]),\n",
    "    on=\"stop_id\",\n",
    "    suffixes=(\"_multimodal\", \"_walk15\"),\n",
    ")"
   ]
  },
  {
   "cell_type": "code",
   "execution_count": null,
   "metadata": {},
   "outputs": [],
   "source": [
    "# calculate change of some variables\n",
    "nr_ppl_comparison = nr_ppl_per_stop_comparison.dropna()\n",
    "nr_ppl_comparison = nr_ppl_comparison.copy()\n",
    "\n",
    "nr_ppl_comparison.loc[:, \"fem_change\"] = (\n",
    "    nr_ppl_comparison[\"fem_ratio_multimodal\"] - nr_ppl_comparison[\"fem_ratio_walk15\"]\n",
    ")\n",
    "nr_ppl_comparison.loc[:, \"arpu_low_change\"] = (\n",
    "    nr_ppl_comparison[\"arpu_low_ratio_multimodal\"]\n",
    "    - nr_ppl_comparison[\"arpu_low_ratio_walk15\"]\n",
    ")\n",
    "nr_ppl_comparison.loc[:, \"young_change\"] = (\n",
    "    nr_ppl_comparison[\"young_ratio_multimodal\"]\n",
    "    - nr_ppl_comparison[\"young_ratio_walk15\"]\n",
    ")\n",
    "nr_ppl_comparison.loc[:, \"old_change\"] = (\n",
    "    nr_ppl_comparison[\"old_ratio_multimodal\"] - nr_ppl_comparison[\"old_ratio_walk15\"]\n",
    ")"
   ]
  },
  {
   "cell_type": "code",
   "execution_count": null,
   "metadata": {},
   "outputs": [],
   "source": [
    "# Calculate percentage change\n",
    "nr_ppl_comparison[\"percent_change_gini\"] = np.where(\n",
    "    nr_ppl_comparison[\"gini_walk15\"] == 0,\n",
    "    np.nan,  # because division by 0 is not meaningful, or can be flag value as there is more inequality in the multimodal -- what should be the value?\n",
    "    (nr_ppl_comparison[\"gini_multimodal\"] - nr_ppl_comparison[\"gini_walk15\"])\n",
    "    / nr_ppl_comparison[\"gini_walk15\"]\n",
    "    * 100,\n",
    ")\n",
    "\n",
    "nr_ppl_comparison[\"percent_change_house_gini\"] = np.where(\n",
    "    nr_ppl_comparison[\"gini_house_walk15\"] == 0,\n",
    "    np.nan,  # because division by 0 is not meaningful, or can be flag value as there is more inequality in the multimodal -- what should be the value?\n",
    "    (nr_ppl_comparison[\"gini_house_multimodal\"] - nr_ppl_comparison[\"gini_walk15\"])\n",
    "    / nr_ppl_comparison[\"gini_house_walk15\"]\n",
    "    * 100,\n",
    ")\n",
    "\n",
    "nr_ppl_comparison[\"percent_change_rev_index\"] = (\n",
    "    (\n",
    "        nr_ppl_comparison[\"revenue_index_multimodal\"]\n",
    "        - nr_ppl_comparison[\"revenue_index_walk15\"]\n",
    "    )\n",
    "    / nr_ppl_comparison[\"revenue_index_walk15\"]\n",
    ") * 100\n",
    "\n",
    "nr_ppl_comparison[\"percent_change_entropy\"] = (\n",
    "    (nr_ppl_comparison[\"entropy_multimodal\"] - nr_ppl_comparison[\"entropy_walk15\"])\n",
    "    / nr_ppl_comparison[\"entropy_walk15\"]\n",
    ") * 100"
   ]
  },
  {
   "cell_type": "code",
   "execution_count": null,
   "metadata": {},
   "outputs": [
    {
     "name": "stderr",
     "output_type": "stream",
     "text": [
      "/mnt/common-ssd/zadorzsofi/telekom/.venv/lib/python3.10/site-packages/pandas/core/arraylike.py:396: RuntimeWarning: invalid value encountered in log\n",
      "  result = getattr(ufunc, method)(*inputs, **kwargs)\n"
     ]
    }
   ],
   "source": [
    "# Gini log change\n",
    "nr_ppl_comparison[\"log_change_gini\"] = np.where(\n",
    "    (nr_ppl_comparison[\"gini_multimodal\"] > 0) & (nr_ppl_comparison[\"gini_walk15\"] > 0),\n",
    "    np.log(nr_ppl_comparison[\"gini_multimodal\"] / nr_ppl_comparison[\"gini_walk15\"]),\n",
    "    np.nan,\n",
    ")\n",
    "\n",
    "# Gini (households) log change\n",
    "nr_ppl_comparison[\"log_change_house_gini\"] = np.where(\n",
    "    (nr_ppl_comparison[\"gini_house_multimodal\"] > 0)\n",
    "    & (nr_ppl_comparison[\"gini_house_walk15\"] > 0),\n",
    "    np.log(\n",
    "        nr_ppl_comparison[\"gini_house_multimodal\"]\n",
    "        / nr_ppl_comparison[\"gini_house_walk15\"]\n",
    "    ),\n",
    "    np.nan,\n",
    ")\n",
    "\n",
    "# Revenue index log change\n",
    "nr_ppl_comparison[\"log_change_rev_index\"] = np.where(\n",
    "    (nr_ppl_comparison[\"revenue_index_multimodal\"] > 0)\n",
    "    & (nr_ppl_comparison[\"revenue_index_walk15\"] > 0),\n",
    "    np.log(\n",
    "        nr_ppl_comparison[\"revenue_index_multimodal\"]\n",
    "        / nr_ppl_comparison[\"revenue_index_walk15\"]\n",
    "    ),\n",
    "    np.nan,\n",
    ")\n",
    "\n",
    "# Entropy log change\n",
    "nr_ppl_comparison[\"log_change_entropy\"] = np.where(\n",
    "    (nr_ppl_comparison[\"entropy_multimodal\"] > 0)\n",
    "    & (nr_ppl_comparison[\"entropy_walk15\"] > 0),\n",
    "    np.log(\n",
    "        nr_ppl_comparison[\"entropy_multimodal\"] / nr_ppl_comparison[\"entropy_walk15\"]\n",
    "    ),\n",
    "    np.nan,\n",
    ")"
   ]
  },
  {
   "cell_type": "code",
   "execution_count": null,
   "metadata": {},
   "outputs": [],
   "source": [
    "centrality.drop_duplicates(subset=[\"stop_id\"], inplace=True)"
   ]
  },
  {
   "cell_type": "code",
   "execution_count": null,
   "metadata": {},
   "outputs": [],
   "source": [
    "# Merge the DataFrames\n",
    "nr_ppl_comparison2 = pd.merge(nr_ppl_comparison, centrality, on=\"stop_id\", how=\"inner\")"
   ]
  },
  {
   "cell_type": "code",
   "execution_count": null,
   "metadata": {},
   "outputs": [],
   "source": [
    "nr_ppl_comparison2.to_csv(\n",
    "    \"/mnt/common-ssd/zadorzsofi/telekom/BKK/data/socioecon_change/bp_socioecon_merged5.csv\",\n",
    "    index=False,\n",
    ")"
   ]
  }
 ],
 "metadata": {
  "kernelspec": {
   "display_name": "calculate_accessibility-4Q_DyPin-py3.11",
   "language": "python",
   "name": "python3"
  },
  "language_info": {
   "codemirror_mode": {
    "name": "ipython",
    "version": 3
   },
   "file_extension": ".py",
   "mimetype": "text/x-python",
   "name": "python",
   "nbconvert_exporter": "python",
   "pygments_lexer": "ipython3",
   "version": "3.11.12"
  }
 },
 "nbformat": 4,
 "nbformat_minor": 2
}
