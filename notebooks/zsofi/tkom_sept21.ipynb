{
 "cells": [
  {
   "cell_type": "code",
   "execution_count": null,
   "id": "d84359e2",
   "metadata": {},
   "outputs": [],
   "source": [
    "import gzip\n",
    "import tarfile\n",
    "from io import StringIO\n",
    "\n",
    "import h3\n",
    "import pandas as pd"
   ]
  },
  {
   "cell_type": "markdown",
   "id": "2a52d464",
   "metadata": {},
   "source": [
    "#### 1. Read in used day"
   ]
  },
  {
   "cell_type": "code",
   "execution_count": 13,
   "id": "764be03a",
   "metadata": {},
   "outputs": [],
   "source": [
    "# Path to the tar archive\n",
    "tar_path = \"/mnt/common-hdd/raw-sources/tkom-data/2020-09.csv.gz.tar\"\n",
    "\n",
    "target_day = \"2020-9-21.csv.gz\"\n",
    "\n",
    "with tarfile.open(tar_path, \"r:*\") as tar:\n",
    "    # Extract the file object for the specific day\n",
    "    file_member = tar.extractfile(target_day)\n",
    "    with gzip.open(file_member, \"rb\") as f_in:\n",
    "        data = StringIO(f_in.read().decode(\"utf-8\"))\n",
    "        df_sept21 = pd.read_csv(data, index_col=0)\n",
    "        df_sept21[\"count\"] = 1\n",
    "\n",
    "# Reset index if needed\n",
    "df_sept21.reset_index(drop=True, inplace=True)"
   ]
  },
  {
   "cell_type": "markdown",
   "id": "447fa464",
   "metadata": {},
   "source": [
    "### 2. Spatial smoothing"
   ]
  },
  {
   "cell_type": "code",
   "execution_count": null,
   "id": "f7fa7062",
   "metadata": {},
   "outputs": [],
   "source": [
    "columns_to_sum = [\n",
    "    \"traffic\",\n",
    "    \"remainers\",\n",
    "    \"loc_home\",\n",
    "    \"loc_work\",\n",
    "    \"loc_freq\",\n",
    "    \"sex_female\",\n",
    "    \"sex_male\",\n",
    "    \"sex_na\",\n",
    "    \"arpu_low\",\n",
    "    \"arpu_mid\",\n",
    "    \"arpu_high\",\n",
    "    \"arpu_na\",\n",
    "    \"age_young\",\n",
    "    \"age_mid\",\n",
    "    \"age_old\",\n",
    "    \"age_na\",\n",
    "    \"plan_priv\",\n",
    "    \"plan_corp\",\n",
    "    \"plan_roam\",\n",
    "]"
   ]
  },
  {
   "cell_type": "code",
   "execution_count": 15,
   "id": "0ff396e7",
   "metadata": {},
   "outputs": [],
   "source": [
    "# create a custom mean function\n",
    "# this function sums the group values, however always divides by 7, as each group has 7 neighbors, but some values could be NA\n",
    "def custom_mean(group):\n",
    "    # Sum the values of the group\n",
    "    summed_values = group.sum()\n",
    "    # Divide the sum by 7\n",
    "    averaged_values = summed_values / 7\n",
    "    return averaged_values"
   ]
  },
  {
   "cell_type": "code",
   "execution_count": null,
   "id": "c360b02b",
   "metadata": {},
   "outputs": [],
   "source": [
    "def spat_moving_average(data: pd.DataFrame, k: int = 1) -> pd.DataFrame:\n",
    "    records = []\n",
    "    for raster_id in data[\"raster_id\"].unique():\n",
    "        neighbors = h3.k_ring(raster_id, k)\n",
    "        temp = data[data[\"raster_id\"].isin(neighbors)].copy()\n",
    "\n",
    "        moving_average = temp.groupby([\"year\", \"month\", \"day\", \"hour\"])[\n",
    "            columns_to_sum\n",
    "        ].apply(custom_mean)\n",
    "        for i in moving_average.reset_index().values.tolist():\n",
    "            records.append([raster_id] + i)\n",
    "    return pd.DataFrame.from_records(\n",
    "        records, columns=[\"raster_id\", \"year\", \"month\", \"day\", \"hour\"] + columns_to_sum\n",
    "    )"
   ]
  },
  {
   "cell_type": "code",
   "execution_count": null,
   "id": "b299e77a",
   "metadata": {},
   "outputs": [],
   "source": [
    "df_sept21_smoothed = spat_moving_average(df_sept21, 1)"
   ]
  },
  {
   "cell_type": "markdown",
   "id": "78dd3689",
   "metadata": {},
   "source": [
    "### 3. Temporal smoothing (if necessary) or time selection"
   ]
  },
  {
   "cell_type": "code",
   "execution_count": null,
   "id": "22332615",
   "metadata": {},
   "outputs": [],
   "source": [
    "# from scipy.ndimage import gaussian_filter1d\n",
    "\n",
    "# def apply_gaussian_filter(group, columns, sigma=1):\n",
    "#    for col in columns:\n",
    "#        group[col] = gaussian_filter1d(group[col], sigma=sigma)\n",
    "#    return group\n",
    "\n",
    "# cols_to_smooth = ['traffic', 'arpu_low', 'arpu_mid', 'arpu_high']\n",
    "# or all : 'traffic', 'remainers',\n",
    "#   'loc_home', 'loc_work', 'loc_freq', 'sex_female', 'sex_male', 'sex_na',\n",
    "#   'arpu_low', 'arpu_mid', 'arpu_high', 'arpu_na', 'age_young', 'age_mid',\n",
    "#   'age_old', 'age_na', 'plan_priv', 'plan_corp', 'plan_roam'\n",
    "\n",
    "# df_temporalsmooth = df_sept21_smoothed.groupby(\"raster_id\").apply(apply_gaussian_filter, columns=cols_to_smooth).reset_index(drop=True)"
   ]
  },
  {
   "cell_type": "code",
   "execution_count": null,
   "id": "5d876749",
   "metadata": {},
   "outputs": [],
   "source": [
    "# here, we focus on one specific hour so will skip temporal smoothing\n",
    "df_15_spatialsmooth = df_sept21_smoothed[df_sept21_smoothed[\"hour\"] == 15]"
   ]
  },
  {
   "cell_type": "markdown",
   "id": "a0a838dc",
   "metadata": {},
   "source": [
    "### 4. Drop unnecessary columns"
   ]
  },
  {
   "cell_type": "code",
   "execution_count": null,
   "id": "a378050f",
   "metadata": {},
   "outputs": [],
   "source": [
    "df_sept21_final = df_15_spatialsmooth.drop(\n",
    "    columns=[\n",
    "        \"year\",\n",
    "        \"month\",\n",
    "        \"day\",\n",
    "        \"hour\",\n",
    "        \"remainers\",\n",
    "        \"loc_home\",\n",
    "        \"loc_work\",\n",
    "        \"loc_freq\",\n",
    "        \"sex_female\",\n",
    "        \"sex_male\",\n",
    "        \"sex_na\",\n",
    "        \"arpu_na\",\n",
    "        \"age_young\",\n",
    "        \"age_mid\",\n",
    "        \"age_old\",\n",
    "        \"age_na\",\n",
    "        \"plan_priv\",\n",
    "        \"plan_corp\",\n",
    "        \"plan_roam\",\n",
    "    ]\n",
    ").reset_index(drop=True)"
   ]
  },
  {
   "cell_type": "markdown",
   "id": "a43344ba",
   "metadata": {},
   "source": [
    "### 5. Save 21st of Sept 3PM traffic and arpu values to use "
   ]
  },
  {
   "cell_type": "code",
   "execution_count": null,
   "id": "ac2d8e05",
   "metadata": {},
   "outputs": [],
   "source": [
    "df_sept21_final.to_pickle(\"/mnt/common-ssd/zadorzsofi/telekom/BKK/data/tkom_sept21.pkl\")"
   ]
  }
 ],
 "metadata": {
  "kernelspec": {
   "display_name": ".venv",
   "language": "python",
   "name": "python3"
  },
  "language_info": {
   "codemirror_mode": {
    "name": "ipython",
    "version": 3
   },
   "file_extension": ".py",
   "mimetype": "text/x-python",
   "name": "python",
   "nbconvert_exporter": "python",
   "pygments_lexer": "ipython3",
   "version": "3.10.12"
  }
 },
 "nbformat": 4,
 "nbformat_minor": 5
}
