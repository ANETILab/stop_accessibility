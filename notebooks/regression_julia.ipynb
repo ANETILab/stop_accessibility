{
 "cells": [
  {
   "cell_type": "code",
   "execution_count": 1,
   "id": "94bff75e",
   "metadata": {},
   "outputs": [],
   "source": [
    "using CSV, DataFrames, GLM, RegressionTables, FixedEffectModels"
   ]
  },
  {
   "cell_type": "code",
   "execution_count": 2,
   "id": "4b9e2543",
   "metadata": {},
   "outputs": [],
   "source": [
    "walk15_gini = CSV.read(\"../output/budapest/20250428/walk15_stop_gini.csv\", DataFrame)\n",
    "multimodal_gini = CSV.read(\"../output/budapest/20250428/multimodal_stop_gini.csv\", DataFrame)\n",
    "indicators = CSV.read(\"../output/budapest/20250428/merged.csv\", DataFrame)\n",
    ";"
   ]
  },
  {
   "cell_type": "code",
   "execution_count": 3,
   "id": "8950abca",
   "metadata": {},
   "outputs": [],
   "source": [
    "gini = innerjoin(walk15_gini, multimodal_gini, on = :stop_id)\n",
    "data = innerjoin(indicators, gini, on = :stop_id)\n",
    ";"
   ]
  },
  {
   "cell_type": "code",
   "execution_count": null,
   "id": "f8dc7710",
   "metadata": {},
   "outputs": [],
   "source": [
    "CSV.write(\"../output/budapest/20250428/data_merged_in_julia.csv\", data)\n",
    ";"
   ]
  },
  {
   "cell_type": "code",
   "execution_count": null,
   "id": "8080f5c5",
   "metadata": {},
   "outputs": [],
   "source": [
    "data[!, :gini_change] = data[!, :multimodal_gini] .- data[!, :walk15_gini]\n",
    ";"
   ]
  },
  {
   "cell_type": "code",
   "execution_count": null,
   "id": "1720cf15",
   "metadata": {},
   "outputs": [
    {
     "data": {
      "text/html": [
       "<div><div style = \"float: left;\"><span>3×38 DataFrame</span></div><div style = \"clear: both;\"></div></div><div class = \"data-frame\" style = \"overflow-x: scroll;\"><table class = \"data-frame\" style = \"margin-bottom: 6px;\"><thead><tr class = \"header\"><th class = \"rowNumber\" style = \"font-weight: bold; text-align: right;\">Row</th><th style = \"text-align: left;\">stop_id</th><th style = \"text-align: left;\">area</th><th style = \"text-align: left;\">ellipticity</th><th style = \"text-align: left;\">number_of_accessible_stops</th><th style = \"text-align: left;\">concave_area</th><th style = \"text-align: left;\">distance_betweenness</th><th style = \"text-align: left;\">distance_from_landuse_centroid</th><th style = \"text-align: left;\">cultural_institutions_multimodal</th><th style = \"text-align: left;\">drugstores_multimodal</th><th style = \"text-align: left;\">groceries_multimodal</th><th style = \"text-align: left;\">healthcare_multimodal</th><th style = \"text-align: left;\">parks_multimodal</th><th style = \"text-align: left;\">religious_organizations_multimodal</th><th style = \"text-align: left;\">restaurants_multimodal</th><th style = \"text-align: left;\">schools_multimodal</th><th style = \"text-align: left;\">services_multimodal</th><th style = \"text-align: left;\">cultural_institutions_walk15</th><th style = \"text-align: left;\">drugstores_walk15</th><th style = \"text-align: left;\">groceries_walk15</th><th style = \"text-align: left;\">healthcare_walk15</th><th style = \"text-align: left;\">parks_walk15</th><th style = \"text-align: left;\">religious_organizations_walk15</th><th style = \"text-align: left;\">restaurants_walk15</th><th style = \"text-align: left;\">schools_walk15</th><th style = \"text-align: left;\">services_walk15</th><th style = \"text-align: left;\">walk_area</th><th style = \"text-align: left;\">area_difference</th><th style = \"text-align: left;\">stop_name</th><th style = \"text-align: left;\">stop_lat</th><th style = \"text-align: left;\">stop_lon</th><th style = \"text-align: left;\">cluster</th><th style = \"text-align: left;\">eigenvector_centrality</th><th style = \"text-align: left;\">degree_centrality</th><th style = \"text-align: left;\">closeness_centrality</th><th style = \"text-align: left;\">betweenness_centrality</th><th style = \"text-align: left;\">walk15_gini</th><th style = \"text-align: left;\">multimodal_gini</th><th style = \"text-align: left;\">gini_change</th></tr><tr class = \"subheader headerLastRow\"><th class = \"rowNumber\" style = \"font-weight: bold; text-align: right;\"></th><th title = \"String15\" style = \"text-align: left;\">String15</th><th title = \"Float64\" style = \"text-align: left;\">Float64</th><th title = \"Union{Missing, Float64}\" style = \"text-align: left;\">Float64?</th><th title = \"Int64\" style = \"text-align: left;\">Int64</th><th title = \"Float64\" style = \"text-align: left;\">Float64</th><th title = \"Float64\" style = \"text-align: left;\">Float64</th><th title = \"Float64\" style = \"text-align: left;\">Float64</th><th title = \"Int64\" style = \"text-align: left;\">Int64</th><th title = \"Int64\" style = \"text-align: left;\">Int64</th><th title = \"Int64\" style = \"text-align: left;\">Int64</th><th title = \"Int64\" style = \"text-align: left;\">Int64</th><th title = \"Int64\" style = \"text-align: left;\">Int64</th><th title = \"Int64\" style = \"text-align: left;\">Int64</th><th title = \"Int64\" style = \"text-align: left;\">Int64</th><th title = \"Int64\" style = \"text-align: left;\">Int64</th><th title = \"Int64\" style = \"text-align: left;\">Int64</th><th title = \"Int64\" style = \"text-align: left;\">Int64</th><th title = \"Int64\" style = \"text-align: left;\">Int64</th><th title = \"Int64\" style = \"text-align: left;\">Int64</th><th title = \"Int64\" style = \"text-align: left;\">Int64</th><th title = \"Int64\" style = \"text-align: left;\">Int64</th><th title = \"Int64\" style = \"text-align: left;\">Int64</th><th title = \"Int64\" style = \"text-align: left;\">Int64</th><th title = \"Int64\" style = \"text-align: left;\">Int64</th><th title = \"Int64\" style = \"text-align: left;\">Int64</th><th title = \"Float64\" style = \"text-align: left;\">Float64</th><th title = \"Float64\" style = \"text-align: left;\">Float64</th><th title = \"String\" style = \"text-align: left;\">String</th><th title = \"Float64\" style = \"text-align: left;\">Float64</th><th title = \"Float64\" style = \"text-align: left;\">Float64</th><th title = \"Int64\" style = \"text-align: left;\">Int64</th><th title = \"Union{Missing, Float64}\" style = \"text-align: left;\">Float64?</th><th title = \"Union{Missing, Float64}\" style = \"text-align: left;\">Float64?</th><th title = \"Union{Missing, Float64}\" style = \"text-align: left;\">Float64?</th><th title = \"Union{Missing, Float64}\" style = \"text-align: left;\">Float64?</th><th title = \"Float64\" style = \"text-align: left;\">Float64</th><th title = \"Float64\" style = \"text-align: left;\">Float64</th><th title = \"Float64\" style = \"text-align: left;\">Float64</th></tr></thead><tbody><tr><td class = \"rowNumber\" style = \"font-weight: bold; text-align: right;\">1</td><td style = \"text-align: left;\">007877</td><td style = \"text-align: right;\">3.094</td><td style = \"text-align: right;\">0.9241</td><td style = \"text-align: right;\">32</td><td style = \"text-align: right;\">0.513</td><td style = \"text-align: right;\">7.154</td><td style = \"text-align: right;\">8.781</td><td style = \"text-align: right;\">2</td><td style = \"text-align: right;\">5</td><td style = \"text-align: right;\">6</td><td style = \"text-align: right;\">10</td><td style = \"text-align: right;\">22</td><td style = \"text-align: right;\">6</td><td style = \"text-align: right;\">17</td><td style = \"text-align: right;\">12</td><td style = \"text-align: right;\">9</td><td style = \"text-align: right;\">2</td><td style = \"text-align: right;\">2</td><td style = \"text-align: right;\">3</td><td style = \"text-align: right;\">2</td><td style = \"text-align: right;\">11</td><td style = \"text-align: right;\">3</td><td style = \"text-align: right;\">2</td><td style = \"text-align: right;\">12</td><td style = \"text-align: right;\">2</td><td style = \"text-align: right;\">2.081</td><td style = \"text-align: right;\">1.013</td><td style = \"text-align: left;\">Bíróság</td><td style = \"text-align: right;\">47.5195</td><td style = \"text-align: right;\">18.9781</td><td style = \"text-align: right;\">2120</td><td style = \"text-align: right;\">3.23147e-7</td><td style = \"text-align: right;\">0.000983768</td><td style = \"text-align: right;\">0.0540533</td><td style = \"text-align: right;\">0.00686604</td><td style = \"text-align: right;\">0.139</td><td style = \"text-align: right;\">0.1473</td><td style = \"text-align: right;\">0.0083</td></tr><tr><td class = \"rowNumber\" style = \"font-weight: bold; text-align: right;\">2</td><td style = \"text-align: left;\">007878</td><td style = \"text-align: right;\">3.874</td><td style = \"text-align: right;\">0.8772</td><td style = \"text-align: right;\">46</td><td style = \"text-align: right;\">0.77</td><td style = \"text-align: right;\">7.15</td><td style = \"text-align: right;\">8.78</td><td style = \"text-align: right;\">2</td><td style = \"text-align: right;\">6</td><td style = \"text-align: right;\">11</td><td style = \"text-align: right;\">14</td><td style = \"text-align: right;\">31</td><td style = \"text-align: right;\">8</td><td style = \"text-align: right;\">26</td><td style = \"text-align: right;\">24</td><td style = \"text-align: right;\">15</td><td style = \"text-align: right;\">2</td><td style = \"text-align: right;\">2</td><td style = \"text-align: right;\">3</td><td style = \"text-align: right;\">2</td><td style = \"text-align: right;\">11</td><td style = \"text-align: right;\">3</td><td style = \"text-align: right;\">2</td><td style = \"text-align: right;\">12</td><td style = \"text-align: right;\">2</td><td style = \"text-align: right;\">2.099</td><td style = \"text-align: right;\">1.775</td><td style = \"text-align: left;\">Bíróság</td><td style = \"text-align: right;\">47.5194</td><td style = \"text-align: right;\">18.978</td><td style = \"text-align: right;\">2120</td><td style = \"text-align: right;\">3.23147e-7</td><td style = \"text-align: right;\">0.000983768</td><td style = \"text-align: right;\">0.0540533</td><td style = \"text-align: right;\">0.00686604</td><td style = \"text-align: right;\">0.139</td><td style = \"text-align: right;\">0.1484</td><td style = \"text-align: right;\">0.0094</td></tr><tr><td class = \"rowNumber\" style = \"font-weight: bold; text-align: right;\">3</td><td style = \"text-align: left;\">007879</td><td style = \"text-align: right;\">2.639</td><td style = \"text-align: right;\">0.425</td><td style = \"text-align: right;\">16</td><td style = \"text-align: right;\">1.044</td><td style = \"text-align: right;\">9.057</td><td style = \"text-align: right;\">8.701</td><td style = \"text-align: right;\">5</td><td style = \"text-align: right;\">5</td><td style = \"text-align: right;\">14</td><td style = \"text-align: right;\">3</td><td style = \"text-align: right;\">35</td><td style = \"text-align: right;\">2</td><td style = \"text-align: right;\">50</td><td style = \"text-align: right;\">10</td><td style = \"text-align: right;\">24</td><td style = \"text-align: right;\">3</td><td style = \"text-align: right;\">2</td><td style = \"text-align: right;\">10</td><td style = \"text-align: right;\">2</td><td style = \"text-align: right;\">13</td><td style = \"text-align: right;\">1</td><td style = \"text-align: right;\">46</td><td style = \"text-align: right;\">4</td><td style = \"text-align: right;\">15</td><td style = \"text-align: right;\">2.298</td><td style = \"text-align: right;\">0.341</td><td style = \"text-align: left;\">Római úti lakótelep, Varsa utca</td><td style = \"text-align: right;\">47.5709</td><td style = \"text-align: right;\">19.0585</td><td style = \"text-align: right;\">1752</td><td style = \"text-align: right;\">6.26071e-9</td><td style = \"text-align: right;\">0.000491884</td><td style = \"text-align: right;\">0.049765</td><td style = \"text-align: right;\">0.0</td><td style = \"text-align: right;\">0.1582</td><td style = \"text-align: right;\">0.171</td><td style = \"text-align: right;\">0.0128</td></tr></tbody></table></div>"
      ],
      "text/latex": [
       "\\begin{tabular}{r|ccccccc}\n",
       "\t& stop\\_id & area & ellipticity & number\\_of\\_accessible\\_stops & concave\\_area & distance\\_betweenness & \\\\\n",
       "\t\\hline\n",
       "\t& String15 & Float64 & Float64? & Int64 & Float64 & Float64 & \\\\\n",
       "\t\\hline\n",
       "\t1 & 007877 & 3.094 & 0.9241 & 32 & 0.513 & 7.154 & $\\dots$ \\\\\n",
       "\t2 & 007878 & 3.874 & 0.8772 & 46 & 0.77 & 7.15 & $\\dots$ \\\\\n",
       "\t3 & 007879 & 2.639 & 0.425 & 16 & 1.044 & 9.057 & $\\dots$ \\\\\n",
       "\\end{tabular}\n"
      ],
      "text/plain": [
       "\u001b[1m3×38 DataFrame\u001b[0m\n",
       "\u001b[1m Row \u001b[0m│\u001b[1m stop_id  \u001b[0m\u001b[1m area    \u001b[0m\u001b[1m ellipticity \u001b[0m\u001b[1m number_of_accessible_stops \u001b[0m\u001b[1m concave_are\u001b[0m ⋯\n",
       "     │\u001b[90m String15 \u001b[0m\u001b[90m Float64 \u001b[0m\u001b[90m Float64?    \u001b[0m\u001b[90m Int64                      \u001b[0m\u001b[90m Float64    \u001b[0m ⋯\n",
       "─────┼──────────────────────────────────────────────────────────────────────────\n",
       "   1 │ 007877      3.094       0.9241                          32         0.51 ⋯\n",
       "   2 │ 007878      3.874       0.8772                          46         0.77\n",
       "   3 │ 007879      2.639       0.425                           16         1.04\n",
       "\u001b[36m                                                              34 columns omitted\u001b[0m"
      ]
     },
     "execution_count": 23,
     "metadata": {},
     "output_type": "execute_result"
    }
   ],
   "source": [
    "first(data, 3)"
   ]
  },
  {
   "cell_type": "code",
   "execution_count": null,
   "id": "b8981b02",
   "metadata": {},
   "outputs": [
    {
     "data": {
      "text/plain": [
       "                                        FixedEffectModel                                        \n",
       "================================================================================================\n",
       "Number of obs:                             4425  Converged:                                 true\n",
       "dof (model):                                  5  dof (residuals):                           4418\n",
       "R²:                                       0.204  R² adjusted:                              0.203\n",
       "F-statistic:                            226.782  P-value:                                  0.000\n",
       "================================================================================================\n",
       "                          Estimate   Std. Error     t-stat  Pr(>|t|)     Lower 95%     Upper 95%\n",
       "────────────────────────────────────────────────────────────────────────────────────────────────\n",
       "walk15_gini            0.286285     0.0090286    31.7086      <1e-99   0.268584      0.303985\n",
       "area                  -5.56795e-5   0.000143451  -0.388143    0.6979  -0.000336915   0.000225556\n",
       "distance_betweenness   0.000497824  0.000102409   4.86114     <1e-05   0.000297051   0.000698596\n",
       "closeness_centrality   0.385421     0.0316587    12.1742      <1e-32   0.323354      0.447488\n",
       "ellipticity           -0.00403876   0.0014656    -2.7557      0.0059  -0.00691207   -0.00116545\n",
       "(Intercept)            0.0992882    0.00298842   33.2243      <1e-99   0.0934294     0.105147\n",
       "================================================================================================\n"
      ]
     },
     "execution_count": 20,
     "metadata": {},
     "output_type": "execute_result"
    }
   ],
   "source": [
    "# m0 = reg(data, @formula(gini_change ~ area + distance_betweenness + closeness_centrality + ellipticity))\n",
    "m2 = reg(data, @formula(multimodal_gini ~ walk15_gini + area + distance_betweenness + closeness_centrality + ellipticity))"
   ]
  },
  {
   "cell_type": "code",
   "execution_count": null,
   "id": "88523f5c",
   "metadata": {},
   "outputs": [
    {
     "data": {
      "text/plain": [
       "\n",
       "--------------------------------------\n",
       "                       multimodal_gini\n",
       "--------------------------------------\n",
       "(Intercept)                   0.099***\n",
       "                               (0.003)\n",
       "walk15_gini                   0.286***\n",
       "                               (0.009)\n",
       "area                            -0.000\n",
       "                               (0.000)\n",
       "distance_betweenness          0.000***\n",
       "                               (0.000)\n",
       "closeness_centrality          0.385***\n",
       "                               (0.032)\n",
       "ellipticity                   -0.004**\n",
       "                               (0.001)\n",
       "--------------------------------------\n",
       "N                                4,425\n",
       "R2                               0.204\n",
       "--------------------------------------\n",
       "\n"
      ]
     },
     "execution_count": 21,
     "metadata": {},
     "output_type": "execute_result"
    }
   ],
   "source": [
    "regtable([m2]...; render=AsciiTable(), file=\"m1.txt\")"
   ]
  },
  {
   "cell_type": "code",
   "execution_count": null,
   "id": "3d7f463f",
   "metadata": {},
   "outputs": [],
   "source": []
  }
 ],
 "metadata": {
  "kernelspec": {
   "display_name": "Julia 1.11.5",
   "language": "julia",
   "name": "julia-1.11"
  },
  "language_info": {
   "file_extension": ".jl",
   "mimetype": "application/julia",
   "name": "julia",
   "version": "1.11.5"
  }
 },
 "nbformat": 4,
 "nbformat_minor": 5
}
