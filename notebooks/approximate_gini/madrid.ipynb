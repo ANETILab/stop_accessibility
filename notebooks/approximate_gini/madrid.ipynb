{
 "cells": [
  {
   "cell_type": "code",
   "execution_count": 1,
   "metadata": {},
   "outputs": [],
   "source": [
    "import geopandas as gpd\n",
    "import yaml\n",
    "from map_stop_area_to_statistic_unit import (\n",
    "    aggregate_to_stop_area,\n",
    "    merge_stop_area_with_statistics,\n",
    ")\n",
    "\n",
    "with open(\"../../data/crs.yaml\", \"r\") as fp:\n",
    "    crs = yaml.safe_load(fp)"
   ]
  },
  {
   "cell_type": "code",
   "execution_count": 2,
   "metadata": {
    "tags": [
     "parameters"
    ]
   },
   "outputs": [],
   "source": [
    "CITY = \"madrid\"\n",
    "VERSION = \"20250415\"\n",
    "YEAR = 2020"
   ]
  },
  {
   "cell_type": "code",
   "execution_count": 3,
   "metadata": {},
   "outputs": [],
   "source": [
    "path = f\"../../output/{CITY}/{VERSION}/\"\n",
    "\n",
    "# Read the GeoJSON file where for each stop id we know the multimodal area (5 min walk + 10 min BKK) + ellipticity of this shape + size of the area\n",
    "# and multipolygons describing the 5 min walk from each such station\n",
    "multimodal = gpd.read_file(f\"{path}/stop_geometries_from_walk.geojson\")\n",
    "multimodal[\"stop_id\"] = multimodal[\"stop_id\"].astype(str)\n",
    "# Read GeoJSON file for 15 minute walking distance\n",
    "walking = gpd.read_file(f\"{path}/isochrones.geojson\")\n",
    "# filter walking\n",
    "walking15 = walking[(walking[\"costing\"] == \"walk\") & (walking[\"range\"] == 15)]\n",
    "walking15 = walking15.copy()\n",
    "walking15.drop(columns=[\"costing\", \"range\"], inplace=True)\n",
    "\n",
    "gini = gpd.read_file(f\"../../data/statistics/{CITY}/{YEAR}/gini.geojson\")\n",
    "gini.drop(columns=[\"year\", \"municipality\", \"province\"], inplace=True)\n",
    "\n",
    "income = gpd.read_file(f\"../../data/statistics/{CITY}/{YEAR}/income.geojson\")\n",
    "income.drop(columns=[\"year\", \"municipality\", \"province\"], inplace=True)\n",
    "\n",
    "# set projection\n",
    "walking15.to_crs(gini.crs, inplace=True)\n",
    "multimodal.to_crs(gini.crs, inplace=True)"
   ]
  },
  {
   "cell_type": "code",
   "execution_count": null,
   "metadata": {},
   "outputs": [],
   "source": [
    "walk15_to_tract = merge_stop_area_with_statistics(\n",
    "    walking15,\n",
    "    gini,\n",
    "    stat_unit_id=\"tract_code\",\n",
    "    stat_column=\"gini\",\n",
    ")\n",
    "walk15_gini = aggregate_to_stop_area(walk15_to_tract, [\"gini\"])\n",
    "walk15_gini.rename(columns={\"gini\": \"walk15_gini\"}, inplace=True)\n",
    "walk15_gini[\"walk15_gini\"] = round(walk15_gini[\"walk15_gini\"], 6)\n",
    "# walk15_gini.to_csv(f\"{path}/walk15_stop_gini.csv\", index=False, float_format=\"%0.06f\")"
   ]
  },
  {
   "cell_type": "code",
   "execution_count": null,
   "metadata": {},
   "outputs": [],
   "source": [
    "multimodal_to_tract = merge_stop_area_with_statistics(\n",
    "    multimodal,\n",
    "    gini,\n",
    "    stat_unit_id=\"tract_code\",\n",
    "    stat_column=\"gini\",\n",
    ")\n",
    "multimodal_gini = aggregate_to_stop_area(multimodal_to_tract, [\"gini\"])\n",
    "multimodal_gini.rename(columns={\"gini\": \"multimodal_gini\"}, inplace=True)\n",
    "multimodal_gini[\"multimodal_gini\"] = round(multimodal_gini[\"multimodal_gini\"], 6)\n",
    "# multimodal_gini.to_csv(\n",
    "#     f\"{path}/multimodal_stop_gini.csv\",\n",
    "#     index=False,\n",
    "#     float_format=\"%0.06f\",\n",
    "# )"
   ]
  },
  {
   "cell_type": "code",
   "execution_count": 6,
   "metadata": {},
   "outputs": [],
   "source": [
    "# import pandas as pd\n",
    "# ref = pd.read_csv(\"../../output/madrid/socioecon_merged2.csv\")"
   ]
  },
  {
   "cell_type": "code",
   "execution_count": 7,
   "metadata": {},
   "outputs": [],
   "source": [
    "# rw = ref[[\"stop_id\", \"weighted_gini_walk\"]].merge(walk15_gini, on=\"stop_id\")\n",
    "# rw[\"weighted_gini_walk\"].corr(rw[\"gini\"])"
   ]
  },
  {
   "cell_type": "code",
   "execution_count": 8,
   "metadata": {},
   "outputs": [],
   "source": [
    "# rm = ref[[\"stop_id\", \"weighted_gini_multi\"]].merge(multimodal_gini, on=\"stop_id\")\n",
    "# rm[\"weighted_gini_multi\"].corr(rm[\"gini\"])"
   ]
  },
  {
   "cell_type": "code",
   "execution_count": null,
   "metadata": {},
   "outputs": [],
   "source": [
    "walk15_inc_to_tract = merge_stop_area_with_statistics(\n",
    "    walking15,\n",
    "    income.rename(columns={\"net_income_hh\": \"income_walk\"}),\n",
    "    stat_unit_id=\"tract_code\",\n",
    "    stat_column=\"income_walk\",\n",
    ")\n",
    "walk15_inc = aggregate_to_stop_area(walk15_inc_to_tract, [\"income_walk\"])\n",
    "walk15_inc[\"income_walk\"] = round(walk15_inc[\"income_walk\"])\n",
    "# walk15_inc.to_csv(\n",
    "#     f\"{path}/walk15_stop_income.csv\",\n",
    "#     index=False,\n",
    "# )"
   ]
  },
  {
   "cell_type": "code",
   "execution_count": null,
   "metadata": {},
   "outputs": [],
   "source": [
    "multimodal_inc_to_tract = merge_stop_area_with_statistics(\n",
    "    multimodal,\n",
    "    income.rename(columns={\"net_income_hh\": \"income_multimodal\"}),\n",
    "    stat_unit_id=\"tract_code\",\n",
    "    stat_column=\"income_multimodal\",\n",
    ")\n",
    "multimodal_inc = aggregate_to_stop_area(multimodal_inc_to_tract, [\"income_multimodal\"])\n",
    "multimodal_inc[\"income_multimodal\"] = round(multimodal_inc[\"income_multimodal\"])\n",
    "# multimodal_inc.to_csv(\n",
    "#     f\"{path}/multimodal_stop_income.csv\",\n",
    "#     index=False,\n",
    "# )"
   ]
  },
  {
   "cell_type": "code",
   "execution_count": 12,
   "metadata": {},
   "outputs": [],
   "source": [
    "stop_socioecon = (\n",
    "    walk15_gini.merge(multimodal_gini, on=\"stop_id\")\n",
    "    .merge(walk15_inc[[\"stop_id\", \"income_walk\"]], on=\"stop_id\")\n",
    "    .merge(multimodal_inc[[\"stop_id\", \"income_multimodal\"]], on=\"stop_id\")\n",
    ")\n",
    "stop_socioecon.to_csv(f\"{path}/stop_socioecon.csv\")"
   ]
  }
 ],
 "metadata": {
  "kernelspec": {
   "display_name": "calculate_accessibility-4Q_DyPin-py3.11",
   "language": "python",
   "name": "python3"
  },
  "language_info": {
   "codemirror_mode": {
    "name": "ipython",
    "version": 3
   },
   "file_extension": ".py",
   "mimetype": "text/x-python",
   "name": "python",
   "nbconvert_exporter": "python",
   "pygments_lexer": "ipython3",
   "version": "3.11.12"
  }
 },
 "nbformat": 4,
 "nbformat_minor": 2
}
