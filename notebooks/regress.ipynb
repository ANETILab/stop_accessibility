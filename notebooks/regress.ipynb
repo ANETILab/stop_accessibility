{
 "cells": [
  {
   "cell_type": "code",
   "execution_count": null,
   "id": "30ff2a82",
   "metadata": {},
   "outputs": [],
   "source": [
    "import pandas as pd\n",
    "import statsmodels.formula.api as smf\n",
    "from sklearn.linear_model import LinearRegression\n",
    "from stargazer.stargazer import Stargazer\n",
    "from statsmodels.base.model import Model\n",
    "from statsmodels.iolib.summary2 import Summary"
   ]
  },
  {
   "cell_type": "code",
   "execution_count": 5,
   "id": "0490715b",
   "metadata": {},
   "outputs": [],
   "source": [
    "def save_result(model: Summary, output: str) -> None:\n",
    "    with open(output, \"w\") as fp:\n",
    "        print(model, file=fp)\n",
    "\n",
    "\n",
    "def save_model_tables(stargazer: Stargazer, output: str) -> None:\n",
    "    with open(output + \".tex\", \"w\") as fp:\n",
    "        print(stargazer.render_latex(), file=fp)\n",
    "    with open(output + \".html\", \"w\") as fp:\n",
    "        print(stargazer.render_html(), file=fp)\n",
    "\n",
    "\n",
    "def fit_model1(df: pd.DataFrame, output: str) -> Model:\n",
    "    model = smf.ols(\n",
    "        formula=\"mob_ij ~ p_i + p_j + distance_ij\", data=df, missing=\"drop\"\n",
    "    ).fit()\n",
    "    save_result(model.summary2(), f\"{output}/model1.txt\")\n",
    "    print(\"model 1 OK\")\n",
    "    return model"
   ]
  },
  {
   "cell_type": "code",
   "execution_count": 6,
   "id": "607fbcd0",
   "metadata": {
    "tags": [
     "parameters"
    ]
   },
   "outputs": [],
   "source": [
    "CITY = \"helsinki\"\n",
    "VERSION = \"20250428\"\n",
    "YEAR = 2022"
   ]
  },
  {
   "cell_type": "code",
   "execution_count": null,
   "id": "37489e52",
   "metadata": {},
   "outputs": [],
   "source": [
    "data = pd.read_csv(f\"../output/{CITY}/{VERSION}/merged.csv\")\n",
    "# socioecon = pd.read_csv(f\"../output/{CITY}//socioecon_merged4.csv\")\n",
    "socioecon = pd.read_csv(f\"../output/{CITY}//socioecon_change.csv\")"
   ]
  },
  {
   "cell_type": "code",
   "execution_count": 28,
   "id": "d680d89f",
   "metadata": {},
   "outputs": [],
   "source": [
    "data = data.merge(socioecon, on=\"stop_id\")"
   ]
  },
  {
   "cell_type": "markdown",
   "id": "12f7ef9e",
   "metadata": {},
   "source": [
    "```r\n",
    "helsinki1a=lm(multimod_sum-walk_sum ~\n",
    "                walk_sum+\n",
    "                #area+\n",
    "                area_difference*ellipticity+\n",
    "                distance_betweenness*ellipticity,\n",
    "             data=helsinki)\n",
    "```"
   ]
  },
  {
   "cell_type": "code",
   "execution_count": null,
   "id": "7be3cbae",
   "metadata": {},
   "outputs": [],
   "source": [
    "model = smf.ols(\n",
    "    formula=\"total_multimodal - total_walk15 ~ total_walk15 + (area_difference * ellipticity) + (distance_betweenness * ellipticity)\",\n",
    "    data=data,\n",
    "    # missing=\"drop\",\n",
    ").fit()\n",
    "Stargazer([model])"
   ]
  },
  {
   "cell_type": "markdown",
   "id": "970464c8",
   "metadata": {},
   "source": [
    "```r\n",
    "helsinki1=lm(weighted_gini_multi-weighted_gini_walk ~\n",
    "        #area+\n",
    "        weighted_gini_walk+\n",
    "          area_difference*ellipticity+\n",
    "          distance_betweenness*ellipticity,\n",
    "        data=helsinki)\n",
    "```"
   ]
  },
  {
   "cell_type": "code",
   "execution_count": 30,
   "id": "512f59c7",
   "metadata": {},
   "outputs": [
    {
     "data": {
      "text/html": [
       "<table style=\"text-align:center\"><tr><td colspan=\"2\" style=\"border-bottom: 1px solid black\"></td></tr>\n",
       "<tr><td style=\"text-align:left\"></td><td colspan=\"1\"><em>Dependent variable: weighted_gini_multi</em></td></tr><tr><td style=\"text-align:left\"></td><tr><td style=\"text-align:left\"></td><td>(1)</td></tr>\n",
       "<tr><td colspan=\"2\" style=\"border-bottom: 1px solid black\"></td></tr>\n",
       "\n",
       "<tr><td style=\"text-align:left\">Intercept</td><td>0.143<sup>***</sup></td></tr>\n",
       "<tr><td style=\"text-align:left\"></td><td>(0.003)</td></tr>\n",
       "<tr><td style=\"text-align:left\">area_difference</td><td>-0.001<sup>***</sup></td></tr>\n",
       "<tr><td style=\"text-align:left\"></td><td>(0.000)</td></tr>\n",
       "<tr><td style=\"text-align:left\">area_difference:ellipticity</td><td>0.001<sup>***</sup></td></tr>\n",
       "<tr><td style=\"text-align:left\"></td><td>(0.000)</td></tr>\n",
       "<tr><td style=\"text-align:left\">distance_betweenness</td><td>-0.001<sup>***</sup></td></tr>\n",
       "<tr><td style=\"text-align:left\"></td><td>(0.000)</td></tr>\n",
       "<tr><td style=\"text-align:left\">distance_betweenness:ellipticity</td><td>0.002<sup>***</sup></td></tr>\n",
       "<tr><td style=\"text-align:left\"></td><td>(0.000)</td></tr>\n",
       "<tr><td style=\"text-align:left\">ellipticity</td><td>-0.015<sup>***</sup></td></tr>\n",
       "<tr><td style=\"text-align:left\"></td><td>(0.003)</td></tr>\n",
       "<tr><td style=\"text-align:left\">weighted_gini_walk</td><td>0.575<sup>***</sup></td></tr>\n",
       "<tr><td style=\"text-align:left\"></td><td>(0.010)</td></tr>\n",
       "\n",
       "<td colspan=\"2\" style=\"border-bottom: 1px solid black\"></td></tr>\n",
       "<tr><td style=\"text-align: left\">Observations</td><td>2694</td></tr><tr><td style=\"text-align: left\">R<sup>2</sup></td><td>0.624</td></tr><tr><td style=\"text-align: left\">Adjusted R<sup>2</sup></td><td>0.623</td></tr><tr><td style=\"text-align: left\">Residual Std. Error</td><td>0.009 (df=2687)</td></tr><tr><td style=\"text-align: left\">F Statistic</td><td>743.175<sup>***</sup> (df=6; 2687)</td></tr>\n",
       "<tr><td colspan=\"2\" style=\"border-bottom: 1px solid black\"></td></tr><tr><td style=\"text-align: left\">Note:</td><td colspan=\"1\" style=\"text-align: right\"><sup>*</sup>p&lt;0.1; <sup>**</sup>p&lt;0.05; <sup>***</sup>p&lt;0.01</td></tr></table>"
      ],
      "text/plain": [
       "<stargazer.stargazer.Stargazer at 0x7f4148357d10>"
      ]
     },
     "execution_count": 30,
     "metadata": {},
     "output_type": "execute_result"
    }
   ],
   "source": [
    "model = smf.ols(\n",
    "    formula=\"weighted_gini_multi - weighted_gini_walk ~ weighted_gini_walk + (area_difference * ellipticity) + (distance_betweenness * ellipticity)\",\n",
    "    data=data,\n",
    "    # missing=\"drop\",\n",
    ").fit()\n",
    "Stargazer([model])"
   ]
  },
  {
   "cell_type": "code",
   "execution_count": null,
   "id": "481586a2",
   "metadata": {},
   "outputs": [],
   "source": [
    "import statsmodels.api as sm\n",
    "\n",
    "reg = sm.OLS(y, sm.add_constant(X)).fit()\n",
    "reg.summary"
   ]
  },
  {
   "cell_type": "code",
   "execution_count": null,
   "id": "57c236ef",
   "metadata": {},
   "outputs": [],
   "source": [
    "\"weighted_gini_multi - weighted_gini_walk ~ weighted_gini_walk + (area_difference * ellipticity) + (distance_betweenness * ellipticity)\""
   ]
  },
  {
   "cell_type": "code",
   "execution_count": null,
   "id": "32cd1d27",
   "metadata": {},
   "outputs": [
    {
     "ename": "NameError",
     "evalue": "name 'input_file' is not defined",
     "output_type": "error",
     "traceback": [
      "\u001b[0;31m---------------------------------------------------------------------------\u001b[0m",
      "\u001b[0;31mNameError\u001b[0m                                 Traceback (most recent call last)",
      "Cell \u001b[0;32mIn[33], line 4\u001b[0m\n\u001b[1;32m      1\u001b[0m \u001b[38;5;28;01mfrom\u001b[39;00m\u001b[38;5;250m \u001b[39m\u001b[38;5;21;01msklearn\u001b[39;00m\u001b[38;5;21;01m.\u001b[39;00m\u001b[38;5;21;01mlinear_model\u001b[39;00m\u001b[38;5;250m \u001b[39m\u001b[38;5;28;01mimport\u001b[39;00m LinearRegression\n\u001b[1;32m      3\u001b[0m reg_model \u001b[38;5;241m=\u001b[39m LinearRegression() \n\u001b[0;32m----> 4\u001b[0m reg_model\u001b[38;5;241m.\u001b[39mfit(\u001b[43minput_file\u001b[49m[[\u001b[38;5;124m'\u001b[39m\u001b[38;5;124mtue\u001b[39m\u001b[38;5;124m'\u001b[39m, \u001b[38;5;124m'\u001b[39m\u001b[38;5;124mwed\u001b[39m\u001b[38;5;124m'\u001b[39m, \u001b[38;5;124m'\u001b[39m\u001b[38;5;124mthu\u001b[39m\u001b[38;5;124m'\u001b[39m, \u001b[38;5;124m'\u001b[39m\u001b[38;5;124mfri\u001b[39m\u001b[38;5;124m'\u001b[39m, \u001b[38;5;124m'\u001b[39m\u001b[38;5;124msat\u001b[39m\u001b[38;5;124m'\u001b[39m, \u001b[38;5;124m'\u001b[39m\u001b[38;5;124msun\u001b[39m\u001b[38;5;124m'\u001b[39m]], input_file[[\u001b[38;5;124m'\u001b[39m\u001b[38;5;124mvisits\u001b[39m\u001b[38;5;124m'\u001b[39m]])\n\u001b[1;32m      5\u001b[0m coef \u001b[38;5;241m=\u001b[39m pd\u001b[38;5;241m.\u001b[39mDataFrame(reg_model\u001b[38;5;241m.\u001b[39mcoef_, columns\u001b[38;5;241m=\u001b[39m[\u001b[38;5;124m'\u001b[39m\u001b[38;5;124mcoef\u001b[39m\u001b[38;5;124m'\u001b[39m]) \n",
      "\u001b[0;31mNameError\u001b[0m: name 'input_file' is not defined"
     ]
    }
   ],
   "source": [
    "reg_model = LinearRegression()\n",
    "reg_model.fit(data[[\"tue\", \"wed\", \"thu\", \"fri\", \"sat\", \"sun\"]], input_file[[\"visits\"]])\n",
    "coef = pd.DataFrame(reg_model.coef_, columns=[\"coef\"])"
   ]
  }
 ],
 "metadata": {
  "kernelspec": {
   "display_name": "calculate_accessibility-4Q_DyPin-py3.11",
   "language": "python",
   "name": "python3"
  },
  "language_info": {
   "codemirror_mode": {
    "name": "ipython",
    "version": 3
   },
   "file_extension": ".py",
   "mimetype": "text/x-python",
   "name": "python",
   "nbconvert_exporter": "python",
   "pygments_lexer": "ipython3",
   "version": "3.11.12"
  }
 },
 "nbformat": 4,
 "nbformat_minor": 5
}
