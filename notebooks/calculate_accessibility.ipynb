{
 "cells": [
  {
   "cell_type": "code",
   "execution_count": 1,
   "metadata": {},
   "outputs": [],
   "source": [
    "import geopandas as gpd\n",
    "import pandas as pd\n",
    "from shapely.geometry import Point, Polygon\n",
    "from valhalla import Actor, get_config"
   ]
  },
  {
   "cell_type": "code",
   "execution_count": 2,
   "metadata": {},
   "outputs": [],
   "source": [
    "CITY = \"budapest\""
   ]
  },
  {
   "cell_type": "code",
   "execution_count": 6,
   "metadata": {},
   "outputs": [
    {
     "name": "stdout",
     "output_type": "stream",
     "text": [
      "2025/01/28 09:34:22.455419 \u001b[32;1m[INFO]\u001b[0m Tile extract successfully loaded with tile count: 255\n",
      "2025/01/28 09:34:22.455488 \u001b[33;1m[WARN]\u001b[0m (stat): /data/valhalla/traffic.tar No such file or directory\n",
      "2025/01/28 09:34:22.455495 \u001b[33;1m[WARN]\u001b[0m Traffic tile extract could not be loaded\n"
     ]
    }
   ],
   "source": [
    "config = get_config(\n",
    "    tile_extract=f\"../data/valhalla/{CITY}/valhalla_tiles.tar\",\n",
    "    verbose=True,\n",
    ")\n",
    "\n",
    "config[\"service_limits\"][\"isochrone\"][\"max_contours\"] = 10\n",
    "config[\"service_limits\"][\"isochrone\"][\"max_locations\"] = 10_000\n",
    "config[\"service_limits\"][\"isochrone\"][\"max_distance\"] = 100_000\n",
    "\n",
    "# instantiate Actor to load graph and call actions\n",
    "actor = Actor(config)"
   ]
  },
  {
   "cell_type": "code",
   "execution_count": 7,
   "metadata": {},
   "outputs": [
    {
     "data": {
      "text/html": [
       "<div>\n",
       "<style scoped>\n",
       "    .dataframe tbody tr th:only-of-type {\n",
       "        vertical-align: middle;\n",
       "    }\n",
       "\n",
       "    .dataframe tbody tr th {\n",
       "        vertical-align: top;\n",
       "    }\n",
       "\n",
       "    .dataframe thead th {\n",
       "        text-align: right;\n",
       "    }\n",
       "</style>\n",
       "<table border=\"1\" class=\"dataframe\">\n",
       "  <thead>\n",
       "    <tr style=\"text-align: right;\">\n",
       "      <th></th>\n",
       "      <th>stop_id</th>\n",
       "      <th>stop_name</th>\n",
       "      <th>stop_lat</th>\n",
       "      <th>stop_lon</th>\n",
       "      <th>stop_code</th>\n",
       "      <th>location_type</th>\n",
       "      <th>parent_station</th>\n",
       "      <th>wheelchair_boarding</th>\n",
       "      <th>stop_direction</th>\n",
       "      <th>clust</th>\n",
       "      <th>max_distance</th>\n",
       "      <th>quant</th>\n",
       "      <th>geometry</th>\n",
       "    </tr>\n",
       "  </thead>\n",
       "  <tbody>\n",
       "    <tr>\n",
       "      <th>0</th>\n",
       "      <td>008951</td>\n",
       "      <td>Béke tér</td>\n",
       "      <td>47.430019</td>\n",
       "      <td>19.215675</td>\n",
       "      <td>None</td>\n",
       "      <td>NaN</td>\n",
       "      <td>008951</td>\n",
       "      <td>2.0</td>\n",
       "      <td>-64.0</td>\n",
       "      <td>11</td>\n",
       "      <td>0.0</td>\n",
       "      <td>1</td>\n",
       "      <td>POINT (662691.105 231796.227)</td>\n",
       "    </tr>\n",
       "    <tr>\n",
       "      <th>1</th>\n",
       "      <td>F03807</td>\n",
       "      <td>Szent László utca</td>\n",
       "      <td>47.441814</td>\n",
       "      <td>19.207651</td>\n",
       "      <td>None</td>\n",
       "      <td>NaN</td>\n",
       "      <td>F03807</td>\n",
       "      <td>2.0</td>\n",
       "      <td>30.0</td>\n",
       "      <td>12</td>\n",
       "      <td>0.0</td>\n",
       "      <td>1</td>\n",
       "      <td>POINT (662083.110 233106.253)</td>\n",
       "    </tr>\n",
       "    <tr>\n",
       "      <th>2</th>\n",
       "      <td>F03851</td>\n",
       "      <td>Selmecbánya utca</td>\n",
       "      <td>47.438409</td>\n",
       "      <td>19.204790</td>\n",
       "      <td>None</td>\n",
       "      <td>NaN</td>\n",
       "      <td>F03851</td>\n",
       "      <td>2.0</td>\n",
       "      <td>29.0</td>\n",
       "      <td>13</td>\n",
       "      <td>0.0</td>\n",
       "      <td>1</td>\n",
       "      <td>POINT (661868.082 232727.272)</td>\n",
       "    </tr>\n",
       "  </tbody>\n",
       "</table>\n",
       "</div>"
      ],
      "text/plain": [
       "  stop_id          stop_name   stop_lat   stop_lon stop_code  location_type  \\\n",
       "0  008951           Béke tér  47.430019  19.215675      None            NaN   \n",
       "1  F03807  Szent László utca  47.441814  19.207651      None            NaN   \n",
       "2  F03851   Selmecbánya utca  47.438409  19.204790      None            NaN   \n",
       "\n",
       "  parent_station  wheelchair_boarding  stop_direction  clust  max_distance  \\\n",
       "0         008951                  2.0           -64.0     11           0.0   \n",
       "1         F03807                  2.0            30.0     12           0.0   \n",
       "2         F03851                  2.0            29.0     13           0.0   \n",
       "\n",
       "   quant                       geometry  \n",
       "0      1  POINT (662691.105 231796.227)  \n",
       "1      1  POINT (662083.110 233106.253)  \n",
       "2      1  POINT (661868.082 232727.272)  "
      ]
     },
     "execution_count": 7,
     "metadata": {},
     "output_type": "execute_result"
    }
   ],
   "source": [
    "stops = pd.read_csv(f\"../data/stops/{CITY}/stops_15min.csv\", engine=\"pyarrow\")\n",
    "stops[\"geometry\"] = stops.apply(lambda x: Point(x[\"stop_lon\"], x[\"stop_lat\"]), axis=1)\n",
    "stops = gpd.GeoDataFrame(stops, geometry=\"geometry\", crs=4326)\n",
    "stops.to_crs(23700, inplace=True)\n",
    "stops.head(3)"
   ]
  },
  {
   "cell_type": "code",
   "execution_count": 8,
   "metadata": {},
   "outputs": [],
   "source": [
    "locations = []\n",
    "for row in stops.itertuples():\n",
    "    locations.append({\"lon\": row.stop_lon, \"lat\": row.stop_lat})"
   ]
  },
  {
   "cell_type": "code",
   "execution_count": 27,
   "metadata": {},
   "outputs": [],
   "source": [
    "def get_isochrone(query: dict):\n",
    "    result = {}\n",
    "    isochrones = actor.isochrone(query)\n",
    "    for contour_ix, isochrone in enumerate(isochrones[\"features\"]):\n",
    "        geom = isochrone[\"geometry\"][\"coordinates\"]\n",
    "        time = isochrone[\"properties\"][\"contour\"]\n",
    "        result[time] = Polygon(geom)\n",
    "    return result\n",
    "\n",
    "\n",
    "def get_walk_isochrones(location: dict[str, float], times: list[int] = [5, 10, 15, 20]):\n",
    "    query = {\n",
    "        \"locations\": [location],\n",
    "        \"costing\": \"pedestrian\",\n",
    "        \"contours\": [{\"time\": i} for i in times],\n",
    "    }\n",
    "\n",
    "    return get_isochrone(query)\n",
    "\n",
    "\n",
    "def get_bike_isochrones(location: dict[str, float], times: list[int] = [10, 15, 30]):\n",
    "    query = {\n",
    "        \"locations\": [location],\n",
    "        \"costing\": \"bicycle\",\n",
    "        \"contours\": [{\"time\": i} for i in times],\n",
    "    }\n",
    "\n",
    "    return get_isochrone(query)\n",
    "\n",
    "\n",
    "def get_auto_isochrones(location: dict[str, float], times: list[int] = [10, 15, 30]):\n",
    "    query = {\n",
    "        \"locations\": [location],\n",
    "        \"costing\": \"auto\",\n",
    "        \"contours\": [{\"time\": i} for i in times],\n",
    "    }\n",
    "\n",
    "    return get_isochrone(query)"
   ]
  },
  {
   "cell_type": "code",
   "execution_count": null,
   "metadata": {},
   "outputs": [],
   "source": [
    "isochones_wide = []\n",
    "isochones = []\n",
    "for row in stops.itertuples():\n",
    "    w = get_walk_isochrones(\n",
    "        {\"lon\": row.stop_lon, \"lat\": row.stop_lat}, times=[5, 10, 15]\n",
    "    )\n",
    "    b = get_bike_isochrones(\n",
    "        {\"lon\": row.stop_lon, \"lat\": row.stop_lat}, times=[5, 10, 15]\n",
    "    )\n",
    "    # a = get_auto_isochrones({\"lon\": row.stop_lon, \"lat\": row.stop_lat}, times=[10, 15])\n",
    "    # isochones_wide.append(\n",
    "    #     [row.stop_id, w[5], w[10], w[15], b[5], b[10], b[15], a[10], a[15]]\n",
    "    # )\n",
    "    isochones.append([row.stop_id, w[5], \"walk\", 5])\n",
    "    isochones.append([row.stop_id, w[10], \"walk\", 10])\n",
    "    isochones.append([row.stop_id, w[15], \"walk\", 15])\n",
    "    isochones.append([row.stop_id, b[5], \"bicycle\", 5])\n",
    "    isochones.append([row.stop_id, b[10], \"bicycle\", 10])\n",
    "    isochones.append([row.stop_id, b[15], \"bicycle\", 15])\n",
    "    # isochones.append([row.stop_id, a[10], \"car\", 10])\n",
    "    # isochones.append([row.stop_id, a[15], \"car\", 15])\n",
    "isochones_wide = pd.DataFrame.from_records(\n",
    "    isochones_wide,\n",
    "    columns=[\n",
    "        \"stop_id\",\n",
    "        \"walk_5\",\n",
    "        \"walk_10\",\n",
    "        \"walk_15\",\n",
    "        \"bike_5\",\n",
    "        \"bike_10\",\n",
    "        \"bike_15\",\n",
    "        # \"car_10\",\n",
    "        # \"car_15\",\n",
    "    ],\n",
    ")\n",
    "isochones = pd.DataFrame.from_records(\n",
    "    isochones, columns=[\"stop_id\", \"geometry\", \"costing\", \"range\"]\n",
    ")"
   ]
  },
  {
   "cell_type": "code",
   "execution_count": null,
   "metadata": {},
   "outputs": [],
   "source": [
    "isochones.head(10)"
   ]
  },
  {
   "cell_type": "code",
   "execution_count": 12,
   "metadata": {},
   "outputs": [],
   "source": [
    "isochones.to_csv(f\"../output/{CITY}/isochrones.csv\", index=False)"
   ]
  },
  {
   "cell_type": "code",
   "execution_count": 14,
   "metadata": {},
   "outputs": [],
   "source": [
    "isochrones_gdf = gpd.GeoDataFrame(isochones, geometry=\"geometry\", crs=4326)\n",
    "isochrones_gdf.to_file(\"../output/{CITX/isochrones.geojson\")"
   ]
  },
  {
   "cell_type": "code",
   "execution_count": 9,
   "metadata": {},
   "outputs": [],
   "source": [
    "# isochones = pd.read_csv(f\"../output/{CITY}/isochrones.csv\")\n",
    "# print(isochones.head(6).to_markdown(index=False))"
   ]
  },
  {
   "cell_type": "code",
   "execution_count": null,
   "metadata": {},
   "outputs": [],
   "source": []
  }
 ],
 "metadata": {
  "kernelspec": {
   "display_name": "calculate_accessibility-4Q_DyPin-py3.11",
   "language": "python",
   "name": "python3"
  },
  "language_info": {
   "codemirror_mode": {
    "name": "ipython",
    "version": 3
   },
   "file_extension": ".py",
   "mimetype": "text/x-python",
   "name": "python",
   "nbconvert_exporter": "python",
   "pygments_lexer": "ipython3",
   "version": "3.11.11"
  }
 },
 "nbformat": 4,
 "nbformat_minor": 2
}
