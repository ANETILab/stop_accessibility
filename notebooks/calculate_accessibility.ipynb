{
 "cells": [
  {
   "cell_type": "code",
   "execution_count": 1,
   "metadata": {},
   "outputs": [],
   "source": [
    "from pathlib import Path\n",
    "\n",
    "import geopandas as gpd\n",
    "from calculate_accessibility import (\n",
    "    build_walk_query,\n",
    "    determine_isochrones,\n",
    "    initialize_valhalla,\n",
    ")\n",
    "from common import load_stops"
   ]
  },
  {
   "cell_type": "code",
   "execution_count": 2,
   "metadata": {
    "tags": [
     "parameters"
    ]
   },
   "outputs": [],
   "source": [
    "CITY = \"budapest\"\n",
    "VERSION = \"\""
   ]
  },
  {
   "cell_type": "code",
   "execution_count": 3,
   "metadata": {},
   "outputs": [
    {
     "name": "stdout",
     "output_type": "stream",
     "text": [
      "2025/04/10 14:05:43.077404 \u001b[32;1m[INFO]\u001b[0m Tile extract successfully loaded with tile count: 255\n",
      "2025/04/10 14:05:43.077467 \u001b[33;1m[WARN]\u001b[0m (stat): /data/valhalla/traffic.tar No such file or directory\n",
      "2025/04/10 14:05:43.077470 \u001b[33;1m[WARN]\u001b[0m Traffic tile extract could not be loaded\n"
     ]
    }
   ],
   "source": [
    "path = f\"../output/{CITY}/{VERSION}\"\n",
    "Path(path).mkdir(parents=True, exist_ok=True)\n",
    "\n",
    "stops = load_stops(CITY, VERSION)\n",
    "\n",
    "actor = initialize_valhalla(CITY)"
   ]
  },
  {
   "cell_type": "code",
   "execution_count": null,
   "metadata": {},
   "outputs": [],
   "source": [
    "isochones = determine_isochrones(stops, actor)\n",
    "isochones.to_csv(f\"{path}/isochrones.csv\", index=False)\n",
    "\n",
    "isochrones_gdf = gpd.GeoDataFrame(isochones, geometry=\"geometry\", crs=4326)\n",
    "isochrones_gdf.to_file(f\"{path}/isochrones.geojson\")"
   ]
  },
  {
   "cell_type": "code",
   "execution_count": null,
   "metadata": {},
   "outputs": [],
   "source": [
    "# isochones = pd.read_csv(f\"{path}/isochrones.csv\")\n",
    "# print(isochones.head(6).to_markdown(index=False))"
   ]
  },
  {
   "cell_type": "code",
   "execution_count": 4,
   "metadata": {},
   "outputs": [],
   "source": [
    "isochones_w1_15 = determine_isochrones(\n",
    "    stops,\n",
    "    actor,\n",
    "    times=list(range(1, 16)),\n",
    "    costing=[(\"walk\", build_walk_query)],\n",
    ")"
   ]
  },
  {
   "cell_type": "code",
   "execution_count": 5,
   "metadata": {},
   "outputs": [],
   "source": [
    "isochones_w1_15.to_csv(f\"{path}/isochrones_walk_1_15.csv\", index=False)\n",
    "isochrones_w1_15_gdf = gpd.GeoDataFrame(isochones_w1_15, geometry=\"geometry\", crs=4326)\n",
    "isochrones_w1_15_gdf.to_file(f\"{path}/isochrones_walk_1_15.geojson\")"
   ]
  },
  {
   "cell_type": "code",
   "execution_count": null,
   "metadata": {},
   "outputs": [],
   "source": []
  }
 ],
 "metadata": {
  "kernelspec": {
   "display_name": "calculate_accessibility-4Q_DyPin-py3.11",
   "language": "python",
   "name": "python3"
  },
  "language_info": {
   "codemirror_mode": {
    "name": "ipython",
    "version": 3
   },
   "file_extension": ".py",
   "mimetype": "text/x-python",
   "name": "python",
   "nbconvert_exporter": "python",
   "pygments_lexer": "ipython3",
   "version": "3.11.11"
  }
 },
 "nbformat": 4,
 "nbformat_minor": 2
}
