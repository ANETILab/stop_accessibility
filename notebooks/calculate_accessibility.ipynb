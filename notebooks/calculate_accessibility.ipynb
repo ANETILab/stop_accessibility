{
 "cells": [
  {
   "cell_type": "code",
   "execution_count": 11,
   "metadata": {},
   "outputs": [],
   "source": [
    "from pathlib import Path\n",
    "\n",
    "import geopandas as gpd\n",
    "import pandas as pd\n",
    "from shapely.geometry import Point, Polygon\n",
    "from valhalla import Actor, get_config\n",
    "\n",
    "\n",
    "def get_isochrone(query: dict, actor: Actor):\n",
    "    result = {}\n",
    "    isochrones = actor.isochrone(query)\n",
    "    for contour_ix, isochrone in enumerate(isochrones[\"features\"]):\n",
    "        geom = isochrone[\"geometry\"][\"coordinates\"]\n",
    "        time = isochrone[\"properties\"][\"contour\"]\n",
    "        result[time] = Polygon(geom)\n",
    "    return result\n",
    "\n",
    "\n",
    "def build_walk_query(\n",
    "    location: dict[str, float], times: list[int] = [5, 10, 15, 20]\n",
    ") -> dict:\n",
    "    return {\n",
    "        \"locations\": [location],\n",
    "        \"costing\": \"pedestrian\",\n",
    "        \"contours\": [{\"time\": i} for i in times],\n",
    "    }\n",
    "\n",
    "\n",
    "def build_bicycle_query(location: dict[str, float], times: list[int] = [10, 15, 30]):\n",
    "    return {\n",
    "        \"locations\": [location],\n",
    "        \"costing\": \"bicycle\",\n",
    "        \"contours\": [{\"time\": i} for i in times],\n",
    "    }\n",
    "\n",
    "\n",
    "def build_car_query(location: dict[str, float], times: list[int] = [10, 15, 30]):\n",
    "    return {\n",
    "        \"locations\": [location],\n",
    "        \"costing\": \"auto\",\n",
    "        \"contours\": [{\"time\": i} for i in times],\n",
    "    }\n",
    "\n",
    "\n",
    "def determine_isochrones(\n",
    "    stops: gpd.GeoDataFrame, actor: Actor, times: list[int] = [5, 10, 15]\n",
    ") -> pd.DataFrame:\n",
    "    isochones = []\n",
    "    for row in stops.itertuples():\n",
    "        w = get_isochrone(\n",
    "            build_walk_query({\"lon\": row.stop_lon, \"lat\": row.stop_lat}, times=times),\n",
    "            actor,\n",
    "        )\n",
    "        b = get_isochrone(\n",
    "            build_bicycle_query(\n",
    "                {\"lon\": row.stop_lon, \"lat\": row.stop_lat}, times=times\n",
    "            ),\n",
    "            actor,\n",
    "        )\n",
    "        for t in times:\n",
    "            isochones.append([row.stop_id, w[t], \"walk\", t])\n",
    "            isochones.append([row.stop_id, b[t], \"bicycle\", t])\n",
    "    return pd.DataFrame.from_records(\n",
    "        isochones, columns=[\"stop_id\", \"geometry\", \"costing\", \"range\"]\n",
    "    )\n",
    "\n",
    "\n",
    "def initialize_valhalla(city: str) -> Actor:\n",
    "    config = get_config(\n",
    "        tile_extract=f\"../data/valhalla/{city}/valhalla_tiles.tar\",\n",
    "        verbose=True,\n",
    "    )\n",
    "\n",
    "    config[\"service_limits\"][\"isochrone\"][\"max_contours\"] = 10\n",
    "    config[\"service_limits\"][\"isochrone\"][\"max_locations\"] = 10_000\n",
    "    config[\"service_limits\"][\"isochrone\"][\"max_distance\"] = 100_000\n",
    "\n",
    "    # instantiate Actor to load graph and call actions\n",
    "    return Actor(config)"
   ]
  },
  {
   "cell_type": "code",
   "execution_count": 12,
   "metadata": {
    "tags": [
     "parameters"
    ]
   },
   "outputs": [],
   "source": [
    "CITY = \"rotterdam\""
   ]
  },
  {
   "cell_type": "code",
   "execution_count": 13,
   "metadata": {},
   "outputs": [
    {
     "name": "stdout",
     "output_type": "stream",
     "text": [
      "2025/03/25 11:31:21.006540 \u001b[32;1m[INFO]\u001b[0m Tile extract successfully loaded with tile count: 59\n",
      "2025/03/25 11:31:21.006640 \u001b[33;1m[WARN]\u001b[0m (stat): /data/valhalla/traffic.tar No such file or directory\n",
      "2025/03/25 11:31:21.006651 \u001b[33;1m[WARN]\u001b[0m Traffic tile extract could not be loaded\n"
     ]
    }
   ],
   "source": [
    "Path(f\"../output/{CITY}\").mkdir(parents=True, exist_ok=True)\n",
    "\n",
    "actor = initialize_valhalla(CITY)"
   ]
  },
  {
   "cell_type": "code",
   "execution_count": 14,
   "metadata": {},
   "outputs": [
    {
     "data": {
      "text/html": [
       "<div>\n",
       "<style scoped>\n",
       "    .dataframe tbody tr th:only-of-type {\n",
       "        vertical-align: middle;\n",
       "    }\n",
       "\n",
       "    .dataframe tbody tr th {\n",
       "        vertical-align: top;\n",
       "    }\n",
       "\n",
       "    .dataframe thead th {\n",
       "        text-align: right;\n",
       "    }\n",
       "</style>\n",
       "<table border=\"1\" class=\"dataframe\">\n",
       "  <thead>\n",
       "    <tr style=\"text-align: right;\">\n",
       "      <th></th>\n",
       "      <th>Node</th>\n",
       "      <th>Eigenvector Centrality</th>\n",
       "      <th>Degree Centrality</th>\n",
       "      <th>Closeness Centrality</th>\n",
       "      <th>Betweenness Centrality</th>\n",
       "      <th>stop_id</th>\n",
       "      <th>clust</th>\n",
       "      <th>stop_lat</th>\n",
       "      <th>stop_lon</th>\n",
       "      <th>stop_name</th>\n",
       "      <th>geometry</th>\n",
       "    </tr>\n",
       "  </thead>\n",
       "  <tbody>\n",
       "    <tr>\n",
       "      <th>0</th>\n",
       "      <td>1.0</td>\n",
       "      <td>0.000072</td>\n",
       "      <td>0.009302</td>\n",
       "      <td>0.095768</td>\n",
       "      <td>0.006561</td>\n",
       "      <td>2521113</td>\n",
       "      <td>1</td>\n",
       "      <td>51.914311</td>\n",
       "      <td>4.458813</td>\n",
       "      <td>Rotterdam, Claes de Vrieselaan / Mathenesserlaan</td>\n",
       "      <td>POINT (4.45881 51.91431)</td>\n",
       "    </tr>\n",
       "    <tr>\n",
       "      <th>1</th>\n",
       "      <td>1.0</td>\n",
       "      <td>0.000072</td>\n",
       "      <td>0.009302</td>\n",
       "      <td>0.095768</td>\n",
       "      <td>0.006561</td>\n",
       "      <td>2522415</td>\n",
       "      <td>1</td>\n",
       "      <td>51.914240</td>\n",
       "      <td>4.458960</td>\n",
       "      <td>Rotterdam, Claes de Vrieselaan / Mathenesserlaan</td>\n",
       "      <td>POINT (4.45896 51.91424)</td>\n",
       "    </tr>\n",
       "    <tr>\n",
       "      <th>2</th>\n",
       "      <td>1.0</td>\n",
       "      <td>0.000072</td>\n",
       "      <td>0.009302</td>\n",
       "      <td>0.095768</td>\n",
       "      <td>0.006561</td>\n",
       "      <td>2807351</td>\n",
       "      <td>1</td>\n",
       "      <td>51.914311</td>\n",
       "      <td>4.458813</td>\n",
       "      <td>Rotterdam, Claes de Vrieselaan / Mathenesserlaan</td>\n",
       "      <td>POINT (4.45881 51.91431)</td>\n",
       "    </tr>\n",
       "  </tbody>\n",
       "</table>\n",
       "</div>"
      ],
      "text/plain": [
       "   Node  Eigenvector Centrality  Degree Centrality  Closeness Centrality  \\\n",
       "0   1.0                0.000072           0.009302              0.095768   \n",
       "1   1.0                0.000072           0.009302              0.095768   \n",
       "2   1.0                0.000072           0.009302              0.095768   \n",
       "\n",
       "   Betweenness Centrality  stop_id  clust   stop_lat  stop_lon  \\\n",
       "0                0.006561  2521113      1  51.914311  4.458813   \n",
       "1                0.006561  2522415      1  51.914240  4.458960   \n",
       "2                0.006561  2807351      1  51.914311  4.458813   \n",
       "\n",
       "                                          stop_name                  geometry  \n",
       "0  Rotterdam, Claes de Vrieselaan / Mathenesserlaan  POINT (4.45881 51.91431)  \n",
       "1  Rotterdam, Claes de Vrieselaan / Mathenesserlaan  POINT (4.45896 51.91424)  \n",
       "2  Rotterdam, Claes de Vrieselaan / Mathenesserlaan  POINT (4.45881 51.91431)  "
      ]
     },
     "execution_count": 14,
     "metadata": {},
     "output_type": "execute_result"
    }
   ],
   "source": [
    "stops = pd.read_csv(f\"../data/stops/{CITY}/stops_with_centrality.csv\", engine=\"pyarrow\")\n",
    "stops[\"geometry\"] = stops.apply(lambda x: Point(x[\"stop_lon\"], x[\"stop_lat\"]), axis=1)\n",
    "stops = gpd.GeoDataFrame(stops, geometry=\"geometry\", crs=4326)\n",
    "stops.head(3)"
   ]
  },
  {
   "cell_type": "code",
   "execution_count": 15,
   "metadata": {},
   "outputs": [],
   "source": [
    "isochones = determine_isochrones(stops, actor)\n",
    "isochones.to_csv(f\"../output/{CITY}/isochrones.csv\", index=False)\n",
    "\n",
    "isochrones_gdf = gpd.GeoDataFrame(isochones, geometry=\"geometry\", crs=4326)\n",
    "isochrones_gdf.to_file(f\"../output/{CITY}/isochrones.geojson\")"
   ]
  },
  {
   "cell_type": "code",
   "execution_count": null,
   "metadata": {},
   "outputs": [],
   "source": [
    "# isochones = pd.read_csv(f\"../output/{CITY}/isochrones.csv\")\n",
    "# print(isochones.head(6).to_markdown(index=False))"
   ]
  },
  {
   "cell_type": "code",
   "execution_count": null,
   "metadata": {},
   "outputs": [],
   "source": []
  }
 ],
 "metadata": {
  "kernelspec": {
   "display_name": "calculate_accessibility-4Q_DyPin-py3.11",
   "language": "python",
   "name": "python3"
  },
  "language_info": {
   "codemirror_mode": {
    "name": "ipython",
    "version": 3
   },
   "file_extension": ".py",
   "mimetype": "text/x-python",
   "name": "python",
   "nbconvert_exporter": "python",
   "pygments_lexer": "ipython3",
   "version": "3.11.11"
  }
 },
 "nbformat": 4,
 "nbformat_minor": 2
}
