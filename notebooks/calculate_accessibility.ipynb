{
 "cells": [
  {
   "cell_type": "code",
   "execution_count": 40,
   "metadata": {},
   "outputs": [],
   "source": [
    "from pathlib import Path\n",
    "\n",
    "import geopandas as gpd\n",
    "import pandas as pd\n",
    "from shapely.geometry import Point, Polygon\n",
    "from valhalla import Actor, get_config\n",
    "\n",
    "\n",
    "def get_isochrone(query: dict):\n",
    "    result = {}\n",
    "    isochrones = actor.isochrone(query)\n",
    "    for contour_ix, isochrone in enumerate(isochrones[\"features\"]):\n",
    "        geom = isochrone[\"geometry\"][\"coordinates\"]\n",
    "        time = isochrone[\"properties\"][\"contour\"]\n",
    "        result[time] = Polygon(geom)\n",
    "    return result\n",
    "\n",
    "\n",
    "def get_walk_isochrones(location: dict[str, float], times: list[int] = [5, 10, 15, 20]):\n",
    "    query = {\n",
    "        \"locations\": [location],\n",
    "        \"costing\": \"pedestrian\",\n",
    "        \"contours\": [{\"time\": i} for i in times],\n",
    "    }\n",
    "\n",
    "    return get_isochrone(query)\n",
    "\n",
    "\n",
    "def get_bike_isochrones(location: dict[str, float], times: list[int] = [10, 15, 30]):\n",
    "    query = {\n",
    "        \"locations\": [location],\n",
    "        \"costing\": \"bicycle\",\n",
    "        \"contours\": [{\"time\": i} for i in times],\n",
    "    }\n",
    "\n",
    "    return get_isochrone(query)\n",
    "\n",
    "\n",
    "def get_auto_isochrones(location: dict[str, float], times: list[int] = [10, 15, 30]):\n",
    "    query = {\n",
    "        \"locations\": [location],\n",
    "        \"costing\": \"auto\",\n",
    "        \"contours\": [{\"time\": i} for i in times],\n",
    "    }\n",
    "\n",
    "    return get_isochrone(query)"
   ]
  },
  {
   "cell_type": "code",
   "execution_count": null,
   "metadata": {},
   "outputs": [],
   "source": [
    "CITY = \"budapest\"\n",
    "# CSV filename in ../data/stops/{CITY}/\n",
    "\n",
    "CITY = \"madrid\"\n",
    "# CSV filename in ../data/stops/{CITY}/\n",
    "\n",
    "CITY = \"rotterdam\"\n",
    "# CSV filename in ../data/stops/{CITY}/\n",
    "\n",
    "CITY = \"paris\"\n",
    "# CSV filename in ../data/stops/{CITY}/"
   ]
  },
  {
   "cell_type": "code",
   "execution_count": 74,
   "metadata": {},
   "outputs": [],
   "source": [
    "Path(f\"../output/{CITY}\").mkdir(parents=True, exist_ok=True)"
   ]
  },
  {
   "cell_type": "code",
   "execution_count": 75,
   "metadata": {},
   "outputs": [
    {
     "name": "stdout",
     "output_type": "stream",
     "text": [
      "2025/03/04 16:51:04.452583 \u001b[32;1m[INFO]\u001b[0m Tile extract successfully loaded with tile count: 47\n",
      "2025/03/04 16:51:04.452644 \u001b[33;1m[WARN]\u001b[0m (stat): /data/valhalla/traffic.tar No such file or directory\n",
      "2025/03/04 16:51:04.452647 \u001b[33;1m[WARN]\u001b[0m Traffic tile extract could not be loaded\n"
     ]
    }
   ],
   "source": [
    "config = get_config(\n",
    "    tile_extract=f\"../data/valhalla/{CITY}/valhalla_tiles.tar\",\n",
    "    verbose=True,\n",
    ")\n",
    "\n",
    "config[\"service_limits\"][\"isochrone\"][\"max_contours\"] = 10\n",
    "config[\"service_limits\"][\"isochrone\"][\"max_locations\"] = 10_000\n",
    "config[\"service_limits\"][\"isochrone\"][\"max_distance\"] = 100_000\n",
    "\n",
    "# instantiate Actor to load graph and call actions\n",
    "actor = Actor(config)"
   ]
  },
  {
   "cell_type": "code",
   "execution_count": null,
   "metadata": {},
   "outputs": [
    {
     "data": {
      "text/html": [
       "<div>\n",
       "<style scoped>\n",
       "    .dataframe tbody tr th:only-of-type {\n",
       "        vertical-align: middle;\n",
       "    }\n",
       "\n",
       "    .dataframe tbody tr th {\n",
       "        vertical-align: top;\n",
       "    }\n",
       "\n",
       "    .dataframe thead th {\n",
       "        text-align: right;\n",
       "    }\n",
       "</style>\n",
       "<table border=\"1\" class=\"dataframe\">\n",
       "  <thead>\n",
       "    <tr style=\"text-align: right;\">\n",
       "      <th></th>\n",
       "      <th>Node</th>\n",
       "      <th>Eigenvector Centrality</th>\n",
       "      <th>Degree Centrality</th>\n",
       "      <th>Closeness Centrality</th>\n",
       "      <th>Betweenness Centrality</th>\n",
       "      <th>stop_id</th>\n",
       "      <th>clust</th>\n",
       "      <th>stop_lat</th>\n",
       "      <th>stop_lon</th>\n",
       "      <th>geometry</th>\n",
       "    </tr>\n",
       "  </thead>\n",
       "  <tbody>\n",
       "    <tr>\n",
       "      <th>0</th>\n",
       "      <td>1.0</td>\n",
       "      <td>0.000139</td>\n",
       "      <td>0.000171</td>\n",
       "      <td>0.036953</td>\n",
       "      <td>0.000000</td>\n",
       "      <td>9375373</td>\n",
       "      <td>1</td>\n",
       "      <td>49.010502</td>\n",
       "      <td>2.559527</td>\n",
       "      <td>POINT (2.55953 49.0105)</td>\n",
       "    </tr>\n",
       "    <tr>\n",
       "      <th>1</th>\n",
       "      <td>1.0</td>\n",
       "      <td>0.000139</td>\n",
       "      <td>0.000171</td>\n",
       "      <td>0.036953</td>\n",
       "      <td>0.000000</td>\n",
       "      <td>9375374</td>\n",
       "      <td>1</td>\n",
       "      <td>49.010502</td>\n",
       "      <td>2.559527</td>\n",
       "      <td>POINT (2.55953 49.0105)</td>\n",
       "    </tr>\n",
       "    <tr>\n",
       "      <th>2</th>\n",
       "      <td>86.0</td>\n",
       "      <td>0.000725</td>\n",
       "      <td>0.000856</td>\n",
       "      <td>0.038477</td>\n",
       "      <td>0.000865</td>\n",
       "      <td>3672258</td>\n",
       "      <td>86</td>\n",
       "      <td>49.003367</td>\n",
       "      <td>2.564359</td>\n",
       "      <td>POINT (2.56436 49.00337)</td>\n",
       "    </tr>\n",
       "  </tbody>\n",
       "</table>\n",
       "</div>"
      ],
      "text/plain": [
       "   Node  Eigenvector Centrality  Degree Centrality  Closeness Centrality  \\\n",
       "0   1.0                0.000139           0.000171              0.036953   \n",
       "1   1.0                0.000139           0.000171              0.036953   \n",
       "2  86.0                0.000725           0.000856              0.038477   \n",
       "\n",
       "   Betweenness Centrality  stop_id  clust   stop_lat  stop_lon  \\\n",
       "0                0.000000  9375373      1  49.010502  2.559527   \n",
       "1                0.000000  9375374      1  49.010502  2.559527   \n",
       "2                0.000865  3672258     86  49.003367  2.564359   \n",
       "\n",
       "                   geometry  \n",
       "0   POINT (2.55953 49.0105)  \n",
       "1   POINT (2.55953 49.0105)  \n",
       "2  POINT (2.56436 49.00337)  "
      ]
     },
     "execution_count": 76,
     "metadata": {},
     "output_type": "execute_result"
    }
   ],
   "source": [
    "stops = pd.read_csv(f\"../data/stops/{CITY}/stops_with_centrality.csv\", engine=\"pyarrow\")\n",
    "stops[\"geometry\"] = stops.apply(lambda x: Point(x[\"stop_lon\"], x[\"stop_lat\"]), axis=1)\n",
    "stops = gpd.GeoDataFrame(stops, geometry=\"geometry\", crs=4326)\n",
    "# stops.to_crs(CRS, inplace=True)\n",
    "stops.head(3)"
   ]
  },
  {
   "cell_type": "code",
   "execution_count": 77,
   "metadata": {},
   "outputs": [],
   "source": [
    "locations = []\n",
    "for row in stops.itertuples():\n",
    "    locations.append({\"lon\": row.stop_lon, \"lat\": row.stop_lat})"
   ]
  },
  {
   "cell_type": "code",
   "execution_count": 78,
   "metadata": {},
   "outputs": [],
   "source": [
    "isochones_wide = []\n",
    "isochones = []\n",
    "for row in stops.itertuples():\n",
    "    w = get_walk_isochrones(\n",
    "        {\"lon\": row.stop_lon, \"lat\": row.stop_lat}, times=[5, 10, 15]\n",
    "    )\n",
    "    b = get_bike_isochrones(\n",
    "        {\"lon\": row.stop_lon, \"lat\": row.stop_lat}, times=[5, 10, 15]\n",
    "    )\n",
    "    isochones.append([row.stop_id, w[5], \"walk\", 5])\n",
    "    isochones.append([row.stop_id, w[10], \"walk\", 10])\n",
    "    isochones.append([row.stop_id, w[15], \"walk\", 15])\n",
    "    isochones.append([row.stop_id, b[5], \"bicycle\", 5])\n",
    "    isochones.append([row.stop_id, b[10], \"bicycle\", 10])\n",
    "    isochones.append([row.stop_id, b[15], \"bicycle\", 15])\n",
    "isochones_wide = pd.DataFrame.from_records(\n",
    "    isochones_wide,\n",
    "    columns=[\n",
    "        \"stop_id\",\n",
    "        \"walk_5\",\n",
    "        \"walk_10\",\n",
    "        \"walk_15\",\n",
    "        \"bike_5\",\n",
    "        \"bike_10\",\n",
    "        \"bike_15\",\n",
    "    ],\n",
    ")\n",
    "isochones = pd.DataFrame.from_records(\n",
    "    isochones, columns=[\"stop_id\", \"geometry\", \"costing\", \"range\"]\n",
    ")"
   ]
  },
  {
   "cell_type": "code",
   "execution_count": 79,
   "metadata": {},
   "outputs": [],
   "source": [
    "isochones.to_csv(f\"../output/{CITY}/isochrones.csv\", index=False)\n",
    "\n",
    "isochrones_gdf = gpd.GeoDataFrame(isochones, geometry=\"geometry\", crs=4326)\n",
    "isochrones_gdf.to_file(f\"../output/{CITY}/isochrones.geojson\")"
   ]
  },
  {
   "cell_type": "code",
   "execution_count": 80,
   "metadata": {},
   "outputs": [],
   "source": [
    "# isochones = pd.read_csv(f\"../output/{CITY}/isochrones.csv\")\n",
    "# print(isochones.head(6).to_markdown(index=False))"
   ]
  },
  {
   "cell_type": "code",
   "execution_count": null,
   "metadata": {},
   "outputs": [],
   "source": []
  }
 ],
 "metadata": {
  "kernelspec": {
   "display_name": "calculate_accessibility-4Q_DyPin-py3.11",
   "language": "python",
   "name": "python3"
  },
  "language_info": {
   "codemirror_mode": {
    "name": "ipython",
    "version": 3
   },
   "file_extension": ".py",
   "mimetype": "text/x-python",
   "name": "python",
   "nbconvert_exporter": "python",
   "pygments_lexer": "ipython3",
   "version": "3.11.11"
  }
 },
 "nbformat": 4,
 "nbformat_minor": 2
}
