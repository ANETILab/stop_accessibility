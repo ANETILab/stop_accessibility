{
 "cells": [
  {
   "cell_type": "code",
   "execution_count": null,
   "metadata": {},
   "outputs": [],
   "source": [
    "from pathlib import Path\n",
    "\n",
    "import geopandas as gpd\n",
    "import pandas as pd\n",
    "from shapely.geometry import Point, Polygon\n",
    "from valhalla import Actor, get_config\n",
    "\n",
    "\n",
    "def get_isochrone(query: dict, actor: Actor):\n",
    "    result = {}\n",
    "    isochrones = actor.isochrone(query)\n",
    "    for contour_ix, isochrone in enumerate(isochrones[\"features\"]):\n",
    "        geom = isochrone[\"geometry\"][\"coordinates\"]\n",
    "        time = isochrone[\"properties\"][\"contour\"]\n",
    "        result[time] = Polygon(geom)\n",
    "    return result\n",
    "\n",
    "\n",
    "def build_walk_query(\n",
    "    location: dict[str, float], times: list[int] = [5, 10, 15, 20]\n",
    ") -> dict:\n",
    "    return {\n",
    "        \"locations\": [location],\n",
    "        \"costing\": \"pedestrian\",\n",
    "        \"contours\": [{\"time\": i} for i in times],\n",
    "    }\n",
    "\n",
    "\n",
    "def build_bicycle_query(location: dict[str, float], times: list[int] = [10, 15, 30]):\n",
    "    return {\n",
    "        \"locations\": [location],\n",
    "        \"costing\": \"bicycle\",\n",
    "        \"contours\": [{\"time\": i} for i in times],\n",
    "    }\n",
    "\n",
    "\n",
    "def build_car_query(location: dict[str, float], times: list[int] = [10, 15, 30]):\n",
    "    return {\n",
    "        \"locations\": [location],\n",
    "        \"costing\": \"auto\",\n",
    "        \"contours\": [{\"time\": i} for i in times],\n",
    "    }\n",
    "\n",
    "\n",
    "def determine_isochrones(\n",
    "    stops: gpd.GeoDataFrame, actor: Actor, times: list[int] = [5, 10, 15]\n",
    ") -> pd.DataFrame:\n",
    "    isochones = []\n",
    "    for row in stops.itertuples():\n",
    "        w = get_isochrone(\n",
    "            build_walk_query({\"lon\": row.stop_lon, \"lat\": row.stop_lat}, times=times),\n",
    "            actor,\n",
    "        )\n",
    "        b = get_isochrone(\n",
    "            build_bicycle_query(\n",
    "                {\"lon\": row.stop_lon, \"lat\": row.stop_lat}, times=times\n",
    "            ),\n",
    "            actor,\n",
    "        )\n",
    "        for t in times:\n",
    "            isochones.append([row.stop_id, w[t], \"walk\", t])\n",
    "            isochones.append([row.stop_id, b[t], \"bicycle\", t])\n",
    "    return pd.DataFrame.from_records(\n",
    "        isochones, columns=[\"stop_id\", \"geometry\", \"costing\", \"range\"]\n",
    "    )\n",
    "\n",
    "\n",
    "def initialize_valhalla(city: str) -> Actor:\n",
    "    config = get_config(\n",
    "        tile_extract=f\"../data/valhalla/{city}/valhalla_tiles.tar\",\n",
    "        verbose=True,\n",
    "    )\n",
    "\n",
    "    config[\"service_limits\"][\"isochrone\"][\"max_contours\"] = 10\n",
    "    config[\"service_limits\"][\"isochrone\"][\"max_locations\"] = 10_000\n",
    "    config[\"service_limits\"][\"isochrone\"][\"max_distance\"] = 100_000\n",
    "\n",
    "    # instantiate Actor to load graph and call actions\n",
    "    return Actor(config)\n",
    "\n",
    "\n",
    "def load_stops(city: str) -> gpd.GeoDataFrame:\n",
    "    stops = pd.read_csv(\n",
    "        f\"../data/stops/{CITY}/stops_with_centrality.csv\", engine=\"pyarrow\"\n",
    "    )\n",
    "    stops[\"geometry\"] = stops.apply(\n",
    "        lambda x: Point(x[\"stop_lon\"], x[\"stop_lat\"]), axis=1\n",
    "    )\n",
    "    stops = gpd.GeoDataFrame(stops, geometry=\"geometry\", crs=4326)\n",
    "    return stops"
   ]
  },
  {
   "cell_type": "code",
   "execution_count": 12,
   "metadata": {
    "tags": [
     "parameters"
    ]
   },
   "outputs": [],
   "source": [
    "CITY = \"rotterdam\""
   ]
  },
  {
   "cell_type": "code",
   "execution_count": null,
   "metadata": {},
   "outputs": [
    {
     "name": "stdout",
     "output_type": "stream",
     "text": [
      "2025/03/25 11:31:21.006540 \u001b[32;1m[INFO]\u001b[0m Tile extract successfully loaded with tile count: 59\n",
      "2025/03/25 11:31:21.006640 \u001b[33;1m[WARN]\u001b[0m (stat): /data/valhalla/traffic.tar No such file or directory\n",
      "2025/03/25 11:31:21.006651 \u001b[33;1m[WARN]\u001b[0m Traffic tile extract could not be loaded\n"
     ]
    }
   ],
   "source": [
    "Path(f\"../output/{CITY}\").mkdir(parents=True, exist_ok=True)\n",
    "\n",
    "stops = load_stops(CITY)\n",
    "\n",
    "actor = initialize_valhalla(CITY)"
   ]
  },
  {
   "cell_type": "code",
   "execution_count": 15,
   "metadata": {},
   "outputs": [],
   "source": [
    "isochones = determine_isochrones(stops, actor)\n",
    "isochones.to_csv(f\"../output/{CITY}/isochrones.csv\", index=False)\n",
    "\n",
    "isochrones_gdf = gpd.GeoDataFrame(isochones, geometry=\"geometry\", crs=4326)\n",
    "isochrones_gdf.to_file(f\"../output/{CITY}/isochrones.geojson\")"
   ]
  },
  {
   "cell_type": "code",
   "execution_count": null,
   "metadata": {},
   "outputs": [],
   "source": [
    "# isochones = pd.read_csv(f\"../output/{CITY}/isochrones.csv\")\n",
    "# print(isochones.head(6).to_markdown(index=False))"
   ]
  },
  {
   "cell_type": "code",
   "execution_count": null,
   "metadata": {},
   "outputs": [],
   "source": []
  }
 ],
 "metadata": {
  "kernelspec": {
   "display_name": "calculate_accessibility-4Q_DyPin-py3.11",
   "language": "python",
   "name": "python3"
  },
  "language_info": {
   "codemirror_mode": {
    "name": "ipython",
    "version": 3
   },
   "file_extension": ".py",
   "mimetype": "text/x-python",
   "name": "python",
   "nbconvert_exporter": "python",
   "pygments_lexer": "ipython3",
   "version": "3.11.11"
  }
 },
 "nbformat": 4,
 "nbformat_minor": 2
}
