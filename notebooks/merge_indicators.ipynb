{
 "cells": [
  {
   "cell_type": "code",
   "execution_count": 3,
   "metadata": {},
   "outputs": [],
   "source": [
    "import pandas as pd"
   ]
  },
  {
   "cell_type": "code",
   "execution_count": 9,
   "metadata": {
    "tags": [
     "parameters"
    ]
   },
   "outputs": [],
   "source": [
    "CITY = \"madrid\""
   ]
  },
  {
   "cell_type": "code",
   "execution_count": null,
   "metadata": {},
   "outputs": [],
   "source": [
    "distance = pd.read_csv(\n",
    "    f\"../output/{CITY}/distance.csv\",\n",
    "    dtype={\n",
    "        \"stop_id\": str,\n",
    "    },\n",
    ")\n",
    "ac = pd.read_csv(\n",
    "    f\"../output/{CITY}/amenity_counts_in_accessibility.csv\",\n",
    "    dtype={\n",
    "        \"stop_id\": str,\n",
    "    },\n",
    ")\n",
    "pt_ac = pd.read_csv(\n",
    "    f\"../output/{CITY}/amenity_counts_in_public_transport_accessibility.csv\",\n",
    "    dtype={\n",
    "        \"stop_id\": str,\n",
    "    },\n",
    ")\n",
    "stop_geometries = pd.read_csv(\n",
    "    f\"../output/{CITY}/stop_geometries_from_walk.csv\",\n",
    "    dtype={\n",
    "        \"stop_id\": str,\n",
    "    },\n",
    ")\n",
    "\n",
    "stop_centralities = pd.read_csv(\n",
    "    f\"../data/stops/{CITY}/stops_with_centrality.csv\",\n",
    "    dtype={\n",
    "        \"stop_id\": str,\n",
    "    },\n",
    ")\n",
    "stop_centralities.drop([\"Node\"], axis=1, inplace=True)\n",
    "stop_centralities.columns = [\n",
    "    \"eigenvector_centrality\",\n",
    "    \"degree_centrality\",\n",
    "    \"closeness_centrality\",\n",
    "    \"betweenness_centrality\",\n",
    "    \"stop_id\",\n",
    "    \"cluster\",\n",
    "    \"stop_lat\",\n",
    "    \"stop_lon\",\n",
    "    \"stop_name\",\n",
    "]\n",
    "stop_centralities.dropna(subset=[\"stop_id\"], inplace=True)"
   ]
  },
  {
   "cell_type": "code",
   "execution_count": 12,
   "metadata": {},
   "outputs": [],
   "source": [
    "wk_amenity = ac.query(\"costing == 'walk' & range == 15\").copy()\n",
    "wk_amenity.drop([\"costing\", \"range\"], axis=1, inplace=True)\n",
    "wk_amenity.columns = [\"stop_id\"] + [f\"{i}_walk15\" for i in wk_amenity.columns[1:]]\n",
    "mm_amenity = pt_ac.copy()\n",
    "mm_amenity.drop([\"costing\", \"range\"], axis=1, inplace=True)\n",
    "mm_amenity.columns = [\"stop_id\"] + [f\"{i}_multimodal\" for i in mm_amenity.columns[1:]]"
   ]
  },
  {
   "cell_type": "code",
   "execution_count": 13,
   "metadata": {},
   "outputs": [],
   "source": [
    "m = (\n",
    "    stop_geometries.drop(\"geometry\", axis=1)\n",
    "    .merge(distance, on=\"stop_id\")\n",
    "    .merge(mm_amenity, on=\"stop_id\")\n",
    "    .merge(wk_amenity, on=\"stop_id\")\n",
    "    .merge(stop_centralities, on=\"stop_id\")\n",
    ")\n",
    "m.to_csv(f\"../output/{CITY}/merged.csv\", index=False)"
   ]
  },
  {
   "cell_type": "code",
   "execution_count": null,
   "metadata": {},
   "outputs": [],
   "source": []
  }
 ],
 "metadata": {
  "kernelspec": {
   "display_name": "calculate_accessibility-4Q_DyPin-py3.11",
   "language": "python",
   "name": "python3"
  },
  "language_info": {
   "codemirror_mode": {
    "name": "ipython",
    "version": 3
   },
   "file_extension": ".py",
   "mimetype": "text/x-python",
   "name": "python",
   "nbconvert_exporter": "python",
   "pygments_lexer": "ipython3",
   "version": "3.11.11"
  }
 },
 "nbformat": 4,
 "nbformat_minor": 2
}
