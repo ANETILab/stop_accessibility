{
 "cells": [
  {
   "cell_type": "code",
   "execution_count": 5,
   "metadata": {},
   "outputs": [],
   "source": [
    "import geopandas as gpd\n",
    "import pandas as pd"
   ]
  },
  {
   "cell_type": "code",
   "execution_count": null,
   "metadata": {},
   "outputs": [],
   "source": [
    "data = gpd.read_file(\"../data/statistics/spain/census_tracts_2022.gpkg\")\n",
    "gini = pd.read_csv(\n",
    "    \"../data/statistics/spain/gini_p80p20_tract.zip\",\n",
    "    dtype={\"tract_code\": str},\n",
    ")"
   ]
  },
  {
   "cell_type": "code",
   "execution_count": 23,
   "metadata": {},
   "outputs": [],
   "source": [
    "data.merge(gini.query(\"year==2022\"), on=\"tract_code\").query(\n",
    "    \"mun_name == 'Madrid'\"\n",
    ").to_file(\"../data/statistics/madrid/gini.geojson\")"
   ]
  }
 ],
 "metadata": {
  "kernelspec": {
   "display_name": "calculate_accessibility-4Q_DyPin-py3.11",
   "language": "python",
   "name": "python3"
  },
  "language_info": {
   "codemirror_mode": {
    "name": "ipython",
    "version": 3
   },
   "file_extension": ".py",
   "mimetype": "text/x-python",
   "name": "python",
   "nbconvert_exporter": "python",
   "pygments_lexer": "ipython3",
   "version": "3.11.11"
  }
 },
 "nbformat": 4,
 "nbformat_minor": 2
}
