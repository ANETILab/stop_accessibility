{
 "cells": [
  {
   "cell_type": "code",
   "execution_count": 1,
   "metadata": {},
   "outputs": [],
   "source": [
    "import warnings\n",
    "\n",
    "import geopandas as gpd\n",
    "import pandas as pd\n",
    "import xz"
   ]
  },
  {
   "cell_type": "code",
   "execution_count": 14,
   "metadata": {
    "tags": [
     "parameters"
    ]
   },
   "outputs": [],
   "source": [
    "YEAR = 2020"
   ]
  },
  {
   "cell_type": "code",
   "execution_count": 15,
   "metadata": {},
   "outputs": [],
   "source": [
    "with xz.open(f\"../data/statistics/spain/census_tracts_{YEAR}.gpkg.xz\") as fp:\n",
    "    with warnings.catch_warnings():\n",
    "        warnings.filterwarnings(\"ignore\", \".*has GPKG application_id.*\", RuntimeWarning)\n",
    "        data = gpd.read_file(fp)"
   ]
  },
  {
   "cell_type": "code",
   "execution_count": 16,
   "metadata": {},
   "outputs": [],
   "source": [
    "gini = pd.read_csv(\n",
    "    \"../data/statistics/spain/gini_p80p20_tract.zip\",\n",
    "    dtype={\"tract_code\": str},\n",
    ")\n",
    "income = pd.read_csv(\n",
    "    \"../data/statistics/spain/income_tract.zip\",\n",
    "    dtype={\"tract_code\": str},\n",
    ")"
   ]
  },
  {
   "cell_type": "code",
   "execution_count": 17,
   "metadata": {},
   "outputs": [],
   "source": [
    "data.merge(gini.query(f\"year=={YEAR}\"), on=\"tract_code\").query(\n",
    "    \"mun_name == 'Madrid'\"\n",
    ").to_file(f\"../data/statistics/madrid/{YEAR}/gini.geojson\")"
   ]
  },
  {
   "cell_type": "code",
   "execution_count": 18,
   "metadata": {},
   "outputs": [],
   "source": [
    "data.merge(income.query(f\"year=={YEAR}\"), on=\"tract_code\").query(\n",
    "    \"mun_name == 'Madrid'\"\n",
    ").to_file(f\"../data/statistics/madrid/{YEAR}/income.geojson\")"
   ]
  },
  {
   "cell_type": "code",
   "execution_count": 19,
   "metadata": {},
   "outputs": [],
   "source": [
    "data.merge(gini.query(f\"year=={YEAR}\"), on=\"tract_code\").merge(\n",
    "    income.query(f\"year=={YEAR}\").drop(\n",
    "        [\"mun_code\", \"mun_name\", \"prov_code\", \"prov_name\", \"district_code\"], axis=1\n",
    "    ),\n",
    "    on=\"tract_code\",\n",
    ").query(\"mun_name == 'Madrid'\").to_file(\n",
    "    f\"../data/statistics/madrid/{YEAR}/statisitcs.geojson\"\n",
    ")"
   ]
  }
 ],
 "metadata": {
  "kernelspec": {
   "display_name": "calculate_accessibility-4Q_DyPin-py3.11",
   "language": "python",
   "name": "python3"
  },
  "language_info": {
   "codemirror_mode": {
    "name": "ipython",
    "version": 3
   },
   "file_extension": ".py",
   "mimetype": "text/x-python",
   "name": "python",
   "nbconvert_exporter": "python",
   "pygments_lexer": "ipython3",
   "version": "3.11.12"
  }
 },
 "nbformat": 4,
 "nbformat_minor": 2
}
