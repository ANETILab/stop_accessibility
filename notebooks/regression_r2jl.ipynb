{
 "cells": [
  {
   "cell_type": "code",
   "execution_count": 1,
   "id": "94bff75e",
   "metadata": {},
   "outputs": [],
   "source": [
    "using CSV, DataFrames, GLM, RegressionTables, Statistics, PrettyTables\n",
    "\n",
    "\n",
    "function scale(df::DataFrame; cols::Vector{String} = names(df))\n",
    "    result = copy(df)\n",
    "    for col in cols\n",
    "        result[!, col] = (df[!, col] .- mean(df[!, col])) ./ std(df[!, col])\n",
    "    end\n",
    "    return result\n",
    "end\n",
    "\n",
    "function scale(x::AbstractVector)\n",
    "    return (x .- mean(x)) ./ std(x)\n",
    "end\n",
    "function scalem(x::AbstractVector)\n",
    "    return (skipmissing(x) .- mean(skipmissing(x))) ./ std(skipmissing(x))\n",
    "end\n",
    ";"
   ]
  },
  {
   "cell_type": "code",
   "execution_count": 2,
   "id": "5f48dbfe",
   "metadata": {
    "tags": [
     "parameters"
    ]
   },
   "outputs": [],
   "source": [
    "output = \"../output/regression\"\n",
    ";"
   ]
  },
  {
   "cell_type": "code",
   "execution_count": 3,
   "id": "649dacc6",
   "metadata": {},
   "outputs": [],
   "source": [
    "bp=CSV.read(\"../src/regression/budapest/bp_socioecon_merged5.csv\", DataFrame)\n",
    "# madrid=CSV.read(\"../src/regression/madrid/madrid_socioecon_merged2.csv\", DataFrame)\n",
    "madrid=CSV.read(\"../output/madrid/socioecon_merged2.csv\", DataFrame)\n",
    "# helsinki=CSV.read(\"../src/regression/helsinki/helsinki_socioecon_merged4.csv\", DataFrame)\n",
    "helsinki=CSV.read(\"../output/helsinki/socioecon_merged4.csv\", DataFrame)\n",
    ";"
   ]
  },
  {
   "cell_type": "code",
   "execution_count": 4,
   "id": "a5af27c0",
   "metadata": {},
   "outputs": [],
   "source": [
    "cols=[\n",
    "    \"cultural_institutions_multimodal\",\n",
    "    \"drugstores_multimodal\",\n",
    "    \"groceries_multimodal\",\n",
    "    \"healthcare_multimodal\",\n",
    "    \"parks_multimodal\",\n",
    "    \"religious_organizations_multimodal\",\n",
    "    \"restaurants_multimodal\",\n",
    "    \"schools_multimodal\",\n",
    "    \"services_multimodal\",\n",
    "    \"cultural_institutions_walk15\",\n",
    "    \"drugstores_walk15\",\n",
    "    \"groceries_walk15\",\n",
    "    \"healthcare_walk15\",\n",
    "    \"parks_walk15\",\n",
    "    \"religious_organizations_walk15\",\n",
    "    \"restaurants_walk15\",\n",
    "    \"schools_walk15\",\n",
    "    \"services_walk15\",\n",
    "];\n"
   ]
  },
  {
   "cell_type": "code",
   "execution_count": 5,
   "id": "379c1a41",
   "metadata": {},
   "outputs": [],
   "source": [
    "is_there_amenity(x) = x > 0 ? 1 : 0\n",
    "bp = bp[!, cols] .= is_there_amenity.(bp[!, cols])\n",
    "madrid = madrid[!, cols] .= is_there_amenity.(madrid[!, cols])\n",
    "helsinki = helsinki[!, cols] .= is_there_amenity.(helsinki[!, cols])\n",
    ";"
   ]
  },
  {
   "cell_type": "code",
   "execution_count": 6,
   "id": "e0d035c9",
   "metadata": {},
   "outputs": [],
   "source": [
    "bp.walk_sum =\n",
    "    bp.cultural_institutions_walk15 .+ bp.drugstores_walk15 .+ bp.groceries_walk15 .+\n",
    "    bp.healthcare_walk15 .+ bp.parks_walk15 .+ bp.religious_organizations_walk15 .+\n",
    "    bp.restaurants_walk15 .+ bp.schools_walk15 .+ bp.services_walk15\n",
    ";\n",
    "bp.multimod_sum =\n",
    "    bp.cultural_institutions_multimodal .+ bp.drugstores_multimodal .+\n",
    "    bp.groceries_multimodal .+ bp.healthcare_multimodal .+ bp.parks_multimodal .+\n",
    "    bp.religious_organizations_multimodal .+ bp.restaurants_multimodal .+\n",
    "    bp.schools_multimodal .+ bp.services_multimodal\n",
    ";\n",
    "helsinki.walk_sum =\n",
    "    helsinki.cultural_institutions_walk15 .+ helsinki.drugstores_walk15 .+\n",
    "    helsinki.groceries_walk15 .+ helsinki.healthcare_walk15 .+ helsinki.parks_walk15 .+\n",
    "    helsinki.religious_organizations_walk15 .+ helsinki.restaurants_walk15 .+\n",
    "    helsinki.schools_walk15 .+ helsinki.services_walk15\n",
    ";\n",
    "helsinki.multimod_sum =\n",
    "    helsinki.cultural_institutions_multimodal .+ helsinki.drugstores_multimodal .+\n",
    "    helsinki.groceries_multimodal .+ helsinki.healthcare_multimodal .+\n",
    "    helsinki.parks_multimodal .+ helsinki.religious_organizations_multimodal .+\n",
    "    helsinki.restaurants_multimodal .+ helsinki.schools_multimodal .+\n",
    "    helsinki.services_multimodal\n",
    ";\n",
    "madrid.walk_sum =\n",
    "    madrid.cultural_institutions_walk15 .+ madrid.drugstores_walk15 .+\n",
    "    madrid.groceries_walk15 .+ madrid.healthcare_walk15 .+ madrid.parks_walk15 .+\n",
    "    madrid.religious_organizations_walk15 .+ madrid.restaurants_walk15 .+\n",
    "    madrid.schools_walk15 .+ madrid.services_walk15\n",
    ";\n",
    "madrid.multimod_sum =\n",
    "    madrid.cultural_institutions_multimodal .+ madrid.drugstores_multimodal .+\n",
    "    madrid.groceries_multimodal .+ madrid.healthcare_multimodal .+ madrid.parks_multimodal .+\n",
    "    madrid.religious_organizations_multimodal .+ madrid.restaurants_multimodal .+\n",
    "    madrid.schools_multimodal .+ madrid.services_multimodal\n",
    ";\n"
   ]
  },
  {
   "cell_type": "markdown",
   "id": "1dc59580",
   "metadata": {},
   "source": [
    "# 2.0 Main regressions without interactions"
   ]
  },
  {
   "cell_type": "code",
   "execution_count": 7,
   "id": "2031609b",
   "metadata": {},
   "outputs": [],
   "source": [
    "bp.gini_diff = bp.gini_multimodal .- bp.gini_walk15\n",
    "bp.gini_diff_house = bp.gini_house_multimodal .- bp.gini_house_walk15\n",
    "\n",
    "helsinki.gini_diff = helsinki.weighted_gini_multi .- helsinki.weighted_gini_walk\n",
    "madrid.gini_diff = madrid.weighted_gini_multi .- madrid.weighted_gini_walk\n",
    "\n",
    "\n",
    "bp.access_diff = bp.multimod_sum .- bp.walk_sum\n",
    "madrid.access_diff = madrid.multimod_sum .- madrid.walk_sum\n",
    "helsinki.access_diff = helsinki.multimod_sum .- helsinki.walk_sum\n",
    ";"
   ]
  },
  {
   "cell_type": "code",
   "execution_count": 8,
   "id": "f3c7627f",
   "metadata": {},
   "outputs": [
    {
     "data": {
      "text/plain": [
       "StatsModels.TableRegressionModel{LinearModel{GLM.LmResp{Vector{Float64}}, GLM.DensePredChol{Float64, LinearAlgebra.CholeskyPivoted{Float64, Matrix{Float64}, Vector{Int64}}}}, Matrix{Float64}}\n",
       "\n",
       "gini_diff ~ 1 + gini_walk15 + area_difference + ellipticity + distance_betweenness\n",
       "\n",
       "Coefficients:\n",
       "────────────────────────────────────────────────────────────────────────────────────────────\n",
       "                            Coef.   Std. Error       t  Pr(>|t|)     Lower 95%     Upper 95%\n",
       "────────────────────────────────────────────────────────────────────────────────────────────\n",
       "(Intercept)            0.0755072   0.00205188    36.80    <1e-99   0.0714845     0.0795299\n",
       "gini_walk15           -0.342529    0.00856171   -40.01    <1e-99  -0.359314     -0.325744\n",
       "area_difference        6.98962e-5  0.000132644    0.53    0.5983  -0.000190153   0.000329945\n",
       "ellipticity            0.0161454   0.00148294    10.89    <1e-26   0.0132381     0.0190527\n",
       "distance_betweenness  -0.00332919  9.77919e-5   -34.04    <1e-99  -0.00352091   -0.00313747\n",
       "────────────────────────────────────────────────────────────────────────────────────────────"
      ]
     },
     "execution_count": 8,
     "metadata": {},
     "output_type": "execute_result"
    }
   ],
   "source": [
    "# bp1_noint=lm(gini_diff ~\n",
    "#                gini_walk15+\n",
    "#                area_difference+\n",
    "#                ellipticity+\n",
    "#                distance_betweenness,\n",
    "#              data=bp)\n",
    "\n",
    "bp1_noint = lm(\n",
    "    @formula(\n",
    "        gini_diff ~ gini_walk15 + area_difference + ellipticity + distance_betweenness\n",
    "    ),\n",
    "    bp,\n",
    ")\n"
   ]
  },
  {
   "cell_type": "code",
   "execution_count": 9,
   "id": "c9064426",
   "metadata": {},
   "outputs": [
    {
     "data": {
      "text/plain": [
       "StatsModels.TableRegressionModel{LinearModel{GLM.LmResp{Vector{Float64}}, GLM.DensePredChol{Float64, LinearAlgebra.CholeskyPivoted{Float64, Matrix{Float64}, Vector{Int64}}}}, Matrix{Float64}}\n",
       "\n",
       "gini_diff_house ~ 1 + gini_walk15 + area_difference + ellipticity + distance_betweenness\n",
       "\n",
       "Coefficients:\n",
       "────────────────────────────────────────────────────────────────────────────────────────────\n",
       "                             Coef.   Std. Error      t  Pr(>|t|)     Lower 95%     Upper 95%\n",
       "────────────────────────────────────────────────────────────────────────────────────────────\n",
       "(Intercept)            0.00236003   0.0031714     0.74    0.4568  -0.00385751    0.00857756\n",
       "gini_walk15            0.0917521    0.0132331     6.93    <1e-11   0.0658087     0.117696\n",
       "area_difference        0.00128462   0.000205016   6.27    <1e-09   0.000882687   0.00168656\n",
       "ellipticity            0.00113118   0.00229205    0.49    0.6217  -0.00336239    0.00562475\n",
       "distance_betweenness  -0.000950724  0.000151148  -6.29    <1e-09  -0.00124705   -0.000654398\n",
       "────────────────────────────────────────────────────────────────────────────────────────────"
      ]
     },
     "execution_count": 9,
     "metadata": {},
     "output_type": "execute_result"
    }
   ],
   "source": [
    "# bp2_noint=lm(bp$gini_diff_house ~\n",
    "#                gini_walk15+\n",
    "#                area_difference+\n",
    "#                ellipticity+\n",
    "#                distance_betweenness,\n",
    "#              data=bp)\n",
    "bp2_noint = lm(\n",
    "    @formula(\n",
    "        gini_diff_house ~\n",
    "        gini_walk15 + area_difference + ellipticity + distance_betweenness\n",
    "    ),\n",
    "    bp,\n",
    ")\n"
   ]
  },
  {
   "cell_type": "code",
   "execution_count": 10,
   "id": "a0d266e6",
   "metadata": {},
   "outputs": [
    {
     "data": {
      "text/plain": [
       "StatsModels.TableRegressionModel{LinearModel{GLM.LmResp{Vector{Float64}}, GLM.DensePredChol{Float64, LinearAlgebra.CholeskyPivoted{Float64, Matrix{Float64}, Vector{Int64}}}}, Matrix{Float64}}\n",
       "\n",
       "gini_diff ~ 1 + weighted_gini_walk + area_difference + ellipticity + distance_betweenness\n",
       "\n",
       "Coefficients:\n",
       "─────────────────────────────────────────────────────────────────────────────────────────────\n",
       "                             Coef.   Std. Error       t  Pr(>|t|)     Lower 95%     Upper 95%\n",
       "─────────────────────────────────────────────────────────────────────────────────────────────\n",
       "(Intercept)            0.134882     0.00308156    43.77    <1e-99   0.128839      0.140924\n",
       "weighted_gini_walk    -0.426703     0.00956035   -44.63    <1e-99  -0.44545      -0.407957\n",
       "area_difference        0.000134559  5.80749e-5     2.32    0.0206   2.06825e-5    0.000248435\n",
       "ellipticity           -0.000652846  0.000981131   -0.67    0.5059  -0.00257669    0.001271\n",
       "distance_betweenness  -0.00024573   5.76113e-5    -4.27    <1e-04  -0.000358697  -0.000132763\n",
       "─────────────────────────────────────────────────────────────────────────────────────────────"
      ]
     },
     "execution_count": 10,
     "metadata": {},
     "output_type": "execute_result"
    }
   ],
   "source": [
    "# helsinki1_noint=lm(gini_diff ~\n",
    "#                      weighted_gini_walk+\n",
    "#                      area_difference+\n",
    "#                      ellipticity+\n",
    "#                      distance_betweenness,\n",
    "#                    data=helsinki)\n",
    "helsinki1_noint = lm(\n",
    "    @formula(\n",
    "        gini_diff ~\n",
    "        weighted_gini_walk + area_difference + ellipticity + distance_betweenness\n",
    "    ),\n",
    "    helsinki,\n",
    ")\n"
   ]
  },
  {
   "cell_type": "code",
   "execution_count": 11,
   "id": "d862db1f",
   "metadata": {},
   "outputs": [
    {
     "data": {
      "text/plain": [
       "StatsModels.TableRegressionModel{LinearModel{GLM.LmResp{Vector{Float64}}, GLM.DensePredChol{Float64, LinearAlgebra.CholeskyPivoted{Float64, Matrix{Float64}, Vector{Int64}}}}, Matrix{Float64}}\n",
       "\n",
       "gini_diff ~ 1 + weighted_gini_walk + area_difference + ellipticity + distance_betweenness\n",
       "\n",
       "Coefficients:\n",
       "───────────────────────────────────────────────────────────────────────────────────────\n",
       "                           Coef.  Std. Error       t  Pr(>|t|)   Lower 95%    Upper 95%\n",
       "───────────────────────────────────────────────────────────────────────────────────────\n",
       "(Intercept)            6.35123    0.171134     37.11    <1e-99   6.01574     6.68673\n",
       "weighted_gini_walk    -0.178915   0.00470709  -38.01    <1e-99  -0.188143   -0.169687\n",
       "area_difference       -0.0144015  0.0103702    -1.39    0.1650  -0.0347314   0.00592842\n",
       "ellipticity           -0.222714   0.0849451    -2.62    0.0088  -0.389242   -0.0561854\n",
       "distance_betweenness  -0.0809069  0.00592679  -13.65    <1e-40  -0.0925259  -0.0692879\n",
       "───────────────────────────────────────────────────────────────────────────────────────"
      ]
     },
     "execution_count": 11,
     "metadata": {},
     "output_type": "execute_result"
    }
   ],
   "source": [
    "# madrid1_noint=lm(gini_diff ~\n",
    "#                    weighted_gini_walk+\n",
    "#                    area_difference+\n",
    "#                    ellipticity+\n",
    "#                    distance_betweenness,\n",
    "#                  data=madrid)\n",
    "madrid1_noint = lm(\n",
    "    @formula(\n",
    "        gini_diff ~\n",
    "        weighted_gini_walk + area_difference + ellipticity + distance_betweenness\n",
    "    ),\n",
    "    madrid,\n",
    ")\n"
   ]
  },
  {
   "cell_type": "code",
   "execution_count": 12,
   "id": "a207cdb1",
   "metadata": {},
   "outputs": [
    {
     "data": {
      "text/plain": [
       "StatsModels.TableRegressionModel{LinearModel{GLM.LmResp{Vector{Float64}}, GLM.DensePredChol{Float64, LinearAlgebra.CholeskyPivoted{Float64, Matrix{Float64}, Vector{Int64}}}}, Matrix{Float64}}\n",
       "\n",
       "access_diff ~ 1 + walk_sum + area_difference + ellipticity + distance_betweenness\n",
       "\n",
       "Coefficients:\n",
       "────────────────────────────────────────────────────────────────────────────────────────\n",
       "                           Coef.  Std. Error        t  Pr(>|t|)   Lower 95%    Upper 95%\n",
       "────────────────────────────────────────────────────────────────────────────────────────\n",
       "(Intercept)            7.81914    0.0630147    124.08    <1e-99   7.6956      7.94268\n",
       "walk_sum              -0.871587   0.00552744  -157.68    <1e-99  -0.882424   -0.860751\n",
       "area_difference        0.0521302  0.00369288    14.12    <1e-43   0.0448903   0.0593701\n",
       "ellipticity           -0.150181   0.0421979     -3.56    0.0004  -0.23291    -0.067452\n",
       "distance_betweenness  -0.0143395  0.00224907    -6.38    <1e-09  -0.0187488  -0.00993018\n",
       "────────────────────────────────────────────────────────────────────────────────────────"
      ]
     },
     "execution_count": 12,
     "metadata": {},
     "output_type": "execute_result"
    }
   ],
   "source": [
    "# bp1a_noint=lm(access_diff ~\n",
    "#                 walk_sum+\n",
    "#                 area_difference+\n",
    "#                 ellipticity+\n",
    "#                 distance_betweenness,\n",
    "#               data=bp)\n",
    "bp1a_noint = lm(\n",
    "    @formula(access_diff ~ walk_sum + area_difference + ellipticity + distance_betweenness),\n",
    "    bp,\n",
    ")\n"
   ]
  },
  {
   "cell_type": "code",
   "execution_count": 13,
   "id": "2c25d456",
   "metadata": {},
   "outputs": [
    {
     "data": {
      "text/plain": [
       "StatsModels.TableRegressionModel{LinearModel{GLM.LmResp{Vector{Float64}}, GLM.DensePredChol{Float64, LinearAlgebra.CholeskyPivoted{Float64, Matrix{Float64}, Vector{Int64}}}}, Matrix{Float64}}\n",
       "\n",
       "access_diff ~ 1 + walk_sum + area_difference + ellipticity + distance_betweenness\n",
       "\n",
       "Coefficients:\n",
       "──────────────────────────────────────────────────────────────────────────────────────\n",
       "                           Coef.  Std. Error       t  Pr(>|t|)   Lower 95%   Upper 95%\n",
       "──────────────────────────────────────────────────────────────────────────────────────\n",
       "(Intercept)            6.43826    0.0994535    64.74    <1e-99   6.24324     6.63327\n",
       "walk_sum              -0.754409   0.0100793   -74.85    <1e-99  -0.774173   -0.734645\n",
       "area_difference        0.0830943  0.00435907   19.06    <1e-75   0.0745469   0.0916418\n",
       "ellipticity            0.26535    0.0736195     3.60    0.0003   0.120993    0.409706\n",
       "distance_betweenness  -0.0471888  0.00469146  -10.06    <1e-22  -0.056388   -0.0379896\n",
       "──────────────────────────────────────────────────────────────────────────────────────"
      ]
     },
     "execution_count": 13,
     "metadata": {},
     "output_type": "execute_result"
    }
   ],
   "source": [
    "# helsinki1a_noint=lm(access_diff ~\n",
    "#                       walk_sum+\n",
    "#                       area_difference+\n",
    "#                       ellipticity+\n",
    "#                       distance_betweenness,\n",
    "#                     data=helsinki)\n",
    "helsinki1a_noint = lm(\n",
    "    @formula(access_diff ~ walk_sum + area_difference + ellipticity + distance_betweenness),\n",
    "    helsinki,\n",
    ")\n"
   ]
  },
  {
   "cell_type": "code",
   "execution_count": 14,
   "id": "7ecff255",
   "metadata": {},
   "outputs": [
    {
     "data": {
      "text/plain": [
       "StatsModels.TableRegressionModel{LinearModel{GLM.LmResp{Vector{Float64}}, GLM.DensePredChol{Float64, LinearAlgebra.CholeskyPivoted{Float64, Matrix{Float64}, Vector{Int64}}}}, Matrix{Float64}}\n",
       "\n",
       "access_diff ~ 1 + walk_sum + area_difference + ellipticity + distance_betweenness\n",
       "\n",
       "Coefficients:\n",
       "──────────────────────────────────────────────────────────────────────────────────────\n",
       "                           Coef.  Std. Error       t  Pr(>|t|)   Lower 95%   Upper 95%\n",
       "──────────────────────────────────────────────────────────────────────────────────────\n",
       "(Intercept)            5.10217    0.0837467    60.92    <1e-99   4.93799     5.26635\n",
       "walk_sum              -0.570749   0.00815176  -70.02    <1e-99  -0.58673    -0.554768\n",
       "area_difference        0.0918017  0.00510078   18.00    <1e-69   0.081802    0.101801\n",
       "ellipticity            0.0950967  0.0420187     2.26    0.0237   0.0127225   0.177471\n",
       "distance_betweenness  -0.0418843  0.0031428   -13.33    <1e-39  -0.0480455  -0.0357231\n",
       "──────────────────────────────────────────────────────────────────────────────────────"
      ]
     },
     "execution_count": 14,
     "metadata": {},
     "output_type": "execute_result"
    }
   ],
   "source": [
    "# madrid1a_noint=lm(access_diff ~\n",
    "#                     walk_sum+\n",
    "#                     area_difference+\n",
    "#                     ellipticity+\n",
    "#                     distance_betweenness,\n",
    "#                   data=madrid)\n",
    "madrid1a_noint = lm(\n",
    "    @formula(access_diff ~ walk_sum + area_difference + ellipticity + distance_betweenness),\n",
    "    madrid,\n",
    ")\n"
   ]
  },
  {
   "cell_type": "code",
   "execution_count": 15,
   "id": "19386c40",
   "metadata": {},
   "outputs": [],
   "source": [
    "# h1a = helsinki1a_noint\n",
    "# m1a = madrid1a_noint\n",
    "# h1 = helsinki1_noint\n",
    "# m1 = madrid1_noint\n",
    "# b1a = bp1a_noint\n",
    "# b1 = bp1_noint\n",
    "# b2 = bp2_noint\n",
    "\n",
    "# stargazer(h1a, m1a, b1a, h1, m1, b2, b1,\n",
    "#           type=\"latex\",\n",
    "#           style=\"aer\",\n",
    "#           column.labels = c(\"Helsinki - Access\",\n",
    "#                             \"Madrid - Access\",\n",
    "#                             \"BP - Access\",\n",
    "#                             \"Helsinki - Gini\",\n",
    "#                             \"Madrid - Gini\",\n",
    "#                             \"BP residential - Gini\",\n",
    "#                             \"BP experienced - Gini\"),\n",
    "#           dep.var.labels.include = F,\n",
    "#           out=\"SI_Reg_1_noint.tex\")"
   ]
  },
  {
   "cell_type": "code",
   "execution_count": 16,
   "id": "1994b65a",
   "metadata": {},
   "outputs": [
    {
     "data": {
      "text/plain": [
       "\n",
       "----------------------------------------------------------------------------------------------------------------------\n",
       "                        Helsinki     Madrid     Budapest    Helsinki     Madrid                  Budapest             \n",
       "                       ---------   ---------   ---------   ---------   ---------   -----------------------------------\n",
       "                                     Access                   Experienced Gini     Residential Gini   Experienced Gini\n",
       "                       ---------------------------------   ---------------------   ----------------   ----------------\n",
       "                             (1)         (2)         (3)         (4)         (5)                (6)                (7)\n",
       "----------------------------------------------------------------------------------------------------------------------\n",
       "(Intercept)             6.438***    5.102***    7.819***    0.135***    6.351***              0.002           0.076***\n",
       "                         (0.099)     (0.084)     (0.063)     (0.003)     (0.171)            (0.003)            (0.002)\n",
       "walk_sum               -0.754***   -0.571***   -0.872***                                                              \n",
       "                         (0.010)     (0.008)     (0.006)                                                              \n",
       "area_difference         0.083***    0.092***    0.052***      0.000*      -0.014           0.001***              0.000\n",
       "                         (0.004)     (0.005)     (0.004)     (0.000)     (0.010)            (0.000)            (0.000)\n",
       "ellipticity             0.265***      0.095*   -0.150***      -0.001    -0.223**              0.001           0.016***\n",
       "                         (0.074)     (0.042)     (0.042)     (0.001)     (0.085)            (0.002)            (0.001)\n",
       "distance_betweenness   -0.047***   -0.042***   -0.014***   -0.000***   -0.081***          -0.001***          -0.003***\n",
       "                         (0.005)     (0.003)     (0.002)     (0.000)     (0.006)            (0.000)            (0.000)\n",
       "weighted_gini_walk                                         -0.427***   -0.179***                                      \n",
       "                                                             (0.010)     (0.005)                                      \n",
       "gini_walk15                                                                                0.092***          -0.343***\n",
       "                                                                                            (0.013)            (0.009)\n",
       "----------------------------------------------------------------------------------------------------------------------\n",
       "N                          2,694       5,212       4,424       2,694       5,212              4,424              4,424\n",
       "R2                         0.706       0.515       0.870       0.439       0.221              0.073              0.303\n",
       "----------------------------------------------------------------------------------------------------------------------\n",
       "\n"
      ]
     },
     "execution_count": 16,
     "metadata": {},
     "output_type": "execute_result"
    }
   ],
   "source": [
    "regtable(\n",
    "    helsinki1a_noint,\n",
    "    madrid1a_noint,\n",
    "    bp1a_noint,\n",
    "    helsinki1_noint,\n",
    "    madrid1_noint,\n",
    "    bp2_noint,\n",
    "    bp1_noint;\n",
    "    render = LatexTable(),\n",
    "    groups=[\"Helsinki\", \"Madrid\", \"Budapest\", \"Helsinki\", \"Madrid\", \"Budapest\", \"Budapest\"],\n",
    "    labels=Dict(\"access_diff\" => \"Access\", \"gini_diff\" => \"Gini\", \"gini_diff_house\" => \"Residential Gini\", \"gini_diff\" => \"Experienced Gini\"),\n",
    "    wrap_table = true,\n",
    "    label = \"tab:madrid_stats\",\n",
    "    file=\"$(output)/SI_Reg_1_noint.tex\"\n",
    ")\n",
    "# label = \"tab:madrid_stats\", title = \"Summary Statistics for Madrid\", wrap_table = true\n",
    "regtable(\n",
    "    helsinki1a_noint,\n",
    "    madrid1a_noint,\n",
    "    bp1a_noint,\n",
    "    helsinki1_noint,\n",
    "    madrid1_noint,\n",
    "    bp2_noint,\n",
    "    bp1_noint;\n",
    "    render = AsciiTable(),\n",
    "    groups=[\"Helsinki\", \"Madrid\", \"Budapest\", \"Helsinki\", \"Madrid\", \"Budapest\", \"Budapest\"],\n",
    "    labels=Dict(\"access_diff\" => \"Access\", \"gini_diff\" => \"Gini\", \"gini_diff_house\" => \"Residential Gini\", \"gini_diff\" => \"Experienced Gini\"),\n",
    "    file=\"$(output)/SI_Reg_1_noint.txt\"\n",
    ")"
   ]
  },
  {
   "cell_type": "code",
   "execution_count": 18,
   "id": "2293deb2",
   "metadata": {},
   "outputs": [],
   "source": [
    "# pretty_table(stdout, mad_sum, backend = Val(:latex); show_subheader=false, label = \"tab:madrid_stats\", title = \"Summary Statistics for Madrid\", wrap_table = true)"
   ]
  },
  {
   "cell_type": "markdown",
   "id": "2e15bfe1",
   "metadata": {},
   "source": []
  },
  {
   "cell_type": "code",
   "execution_count": 19,
   "id": "f24d6ad8",
   "metadata": {},
   "outputs": [],
   "source": [
    "bp_avg_price = CSV.read(\"../src/regression/budapest/stop_property_price.csv\", DataFrame);\n",
    "bp = leftjoin(bp, bp_avg_price, on=\"stop_id\");"
   ]
  },
  {
   "cell_type": "code",
   "execution_count": 20,
   "id": "3d7f463f",
   "metadata": {},
   "outputs": [
    {
     "data": {
      "text/plain": [
       "StatsModels.TableRegressionModel{LinearModel{GLM.LmResp{Vector{Float64}}, GLM.DensePredChol{Float64, LinearAlgebra.CholeskyPivoted{Float64, Matrix{Float64}, Vector{Int64}}}}, Matrix{Float64}}\n",
       "\n",
       "gini_diff ~ 1 + gini_walk15 + area_difference + ellipticity + distance_betweenness\n",
       "\n",
       "Coefficients:\n",
       "────────────────────────────────────────────────────────────────────────────────────────────\n",
       "                             Coef.   Std. Error       t  Pr(>|t|)     Lower 95%    Upper 95%\n",
       "────────────────────────────────────────────────────────────────────────────────────────────\n",
       "(Intercept)            0.0700856    0.00323664    21.65    <1e-93   0.0637384     0.0764328\n",
       "gini_walk15           -0.277602     0.0117019    -23.72    <1e-99  -0.30055      -0.254654\n",
       "area_difference       -0.000219526  0.000140259   -1.57    0.1177  -0.000494579   5.55274e-5\n",
       "ellipticity            0.010498     0.00180235     5.82    <1e-08   0.00696351    0.0140325\n",
       "distance_betweenness  -0.00386927   0.000207803  -18.62    <1e-71  -0.00427678   -0.00346176\n",
       "────────────────────────────────────────────────────────────────────────────────────────────"
      ]
     },
     "execution_count": 20,
     "metadata": {},
     "output_type": "execute_result"
    }
   ],
   "source": [
    "# bp1_noint_l=lm(gini_diff ~\n",
    "#                  gini_walk15+\n",
    "#                  area_difference+\n",
    "#                  ellipticity+\n",
    "#                  distance_betweenness,\n",
    "#                data=bp[bp$arpu_low_ratio_walk15>\n",
    "#                          median(bp$arpu_low_ratio_walk15),])\n",
    "\n",
    "bp1_noint_l = lm(@formula(\n",
    "  gini_diff ~ gini_walk15 + area_difference + ellipticity + distance_betweenness),\n",
    "    filter(row -> row.arpu_low_ratio_walk15 > median(bp.arpu_low_ratio_walk15), bp),\n",
    ")"
   ]
  },
  {
   "cell_type": "code",
   "execution_count": 21,
   "id": "2a87b61b",
   "metadata": {},
   "outputs": [
    {
     "data": {
      "text/plain": [
       "StatsModels.TableRegressionModel{LinearModel{GLM.LmResp{Vector{Float64}}, GLM.DensePredChol{Float64, LinearAlgebra.CholeskyPivoted{Float64, Matrix{Float64}, Vector{Int64}}}}, Matrix{Float64}}\n",
       "\n",
       "gini_diff ~ 1 + gini_walk15 + area_difference + ellipticity + distance_betweenness\n",
       "\n",
       "Coefficients:\n",
       "────────────────────────────────────────────────────────────────────────────────────────────\n",
       "                            Coef.   Std. Error       t  Pr(>|t|)     Lower 95%     Upper 95%\n",
       "────────────────────────────────────────────────────────────────────────────────────────────\n",
       "(Intercept)            0.11275     0.00311       36.25    <1e-99   0.106651      0.118849\n",
       "gini_walk15           -0.667147    0.0181825    -36.69    <1e-99  -0.702804     -0.631491\n",
       "area_difference       -3.95908e-5  0.000227291   -0.17    0.8617  -0.000485317   0.000406136\n",
       "ellipticity            0.0200523   0.00219426     9.14    <1e-18   0.0157493     0.0243554\n",
       "distance_betweenness  -0.00304315  0.000126564  -24.04    <1e-99  -0.00329135   -0.00279495\n",
       "────────────────────────────────────────────────────────────────────────────────────────────"
      ]
     },
     "execution_count": 21,
     "metadata": {},
     "output_type": "execute_result"
    }
   ],
   "source": [
    "# bp1_noint_h=lm(gini_diff ~\n",
    "#                  gini_walk15+\n",
    "#                  area_difference+\n",
    "#                  ellipticity+\n",
    "#                  distance_betweenness,\n",
    "#                  data=bp[bp$arpu_low_ratio_walk15<\n",
    "#                          median(bp$arpu_low_ratio_walk15),])\n",
    "\n",
    "bp1_noint_h = lm(@formula(\n",
    "  gini_diff ~ gini_walk15 + area_difference + ellipticity + distance_betweenness),\n",
    "    filter(row -> row.arpu_low_ratio_walk15 < median(bp.arpu_low_ratio_walk15), bp),\n",
    ")\n"
   ]
  },
  {
   "cell_type": "code",
   "execution_count": 22,
   "id": "b3e4e201",
   "metadata": {},
   "outputs": [
    {
     "data": {
      "text/plain": [
       "StatsModels.TableRegressionModel{LinearModel{GLM.LmResp{Vector{Float64}}, GLM.DensePredChol{Float64, LinearAlgebra.CholeskyPivoted{Float64, Matrix{Float64}, Vector{Int64}}}}, Matrix{Float64}}\n",
       "\n",
       "gini_diff_house ~ 1 + gini_walk15 + area_difference + ellipticity + distance_betweenness\n",
       "\n",
       "Coefficients:\n",
       "───────────────────────────────────────────────────────────────────────────────────────────\n",
       "                             Coef.   Std. Error      t  Pr(>|t|)    Lower 95%     Upper 95%\n",
       "───────────────────────────────────────────────────────────────────────────────────────────\n",
       "(Intercept)           -0.0148872    0.0051258    -2.90    0.0037  -0.0249397   -0.00483481\n",
       "gini_walk15            0.208286     0.0292797     7.11    <1e-11   0.150864     0.265708\n",
       "area_difference       -0.000187086  0.000339125  -0.55    0.5812  -0.00085216   0.000477987\n",
       "ellipticity            0.0169611    0.00358127    4.74    <1e-05   0.0099377    0.0239845\n",
       "distance_betweenness  -0.000980485  0.000205568  -4.77    <1e-05  -0.00138363  -0.000577335\n",
       "───────────────────────────────────────────────────────────────────────────────────────────"
      ]
     },
     "execution_count": 22,
     "metadata": {},
     "output_type": "execute_result"
    }
   ],
   "source": [
    "# bp2_noint_l=lm(gini_diff_house ~\n",
    "#                  gini_walk15+\n",
    "#                  area_difference+\n",
    "#                  ellipticity+\n",
    "#                  distance_betweenness,\n",
    "#                data=bp[bp$mean_price<\n",
    "#                          median(bp$mean_price, na.rm = T),])\n",
    "\n",
    "bp2_noint_l = lm(@formula(\n",
    "  gini_diff_house ~ gini_walk15 + area_difference + ellipticity + distance_betweenness),\n",
    "    filter(row -> row.mean_price < median(skipmissing(bp.mean_price)), dropmissing(bp, :mean_price)),\n",
    ")"
   ]
  },
  {
   "cell_type": "code",
   "execution_count": 23,
   "id": "1d99c4b2",
   "metadata": {},
   "outputs": [
    {
     "data": {
      "text/plain": [
       "StatsModels.TableRegressionModel{LinearModel{GLM.LmResp{Vector{Float64}}, GLM.DensePredChol{Float64, LinearAlgebra.CholeskyPivoted{Float64, Matrix{Float64}, Vector{Int64}}}}, Matrix{Float64}}\n",
       "\n",
       "gini_diff_house ~ 1 + gini_walk15 + area_difference + ellipticity + distance_betweenness\n",
       "\n",
       "Coefficients:\n",
       "─────────────────────────────────────────────────────────────────────────────────────────\n",
       "                            Coef.   Std. Error      t  Pr(>|t|)    Lower 95%    Upper 95%\n",
       "─────────────────────────────────────────────────────────────────────────────────────────\n",
       "(Intercept)            0.0233656   0.00493647    4.73    <1e-05   0.0136845    0.0330468\n",
       "gini_walk15            0.0171896   0.0177871     0.97    0.3340  -0.0176935    0.0520726\n",
       "area_difference        0.00232848  0.000253649   9.18    <1e-18   0.00183104   0.00282592\n",
       "ellipticity           -0.0122596   0.00291355   -4.21    <1e-04  -0.0179735   -0.00654575\n",
       "distance_betweenness  -0.00213125  0.000315031  -6.77    <1e-10  -0.00274907  -0.00151343\n",
       "─────────────────────────────────────────────────────────────────────────────────────────"
      ]
     },
     "execution_count": 23,
     "metadata": {},
     "output_type": "execute_result"
    }
   ],
   "source": [
    "# bp2_noint_h=lm(gini_diff_house ~\n",
    "#                  gini_walk15+\n",
    "#                  area_difference+\n",
    "#                  ellipticity+\n",
    "#                  distance_betweenness,\n",
    "#                data=bp[bp$mean_price>\n",
    "#                          median(bp$mean_price, na.rm = T),])\n",
    "\n",
    "bp2_noint_h = lm(@formula(\n",
    "  gini_diff_house ~ gini_walk15 + area_difference + ellipticity + distance_betweenness),\n",
    "    filter(row -> row.mean_price > median(skipmissing(bp.mean_price)), dropmissing(bp, :mean_price)),\n",
    ")"
   ]
  },
  {
   "cell_type": "code",
   "execution_count": 24,
   "id": "884e31fb",
   "metadata": {},
   "outputs": [
    {
     "data": {
      "text/plain": [
       "StatsModels.TableRegressionModel{LinearModel{GLM.LmResp{Vector{Float64}}, GLM.DensePredChol{Float64, LinearAlgebra.CholeskyPivoted{Float64, Matrix{Float64}, Vector{Int64}}}}, Matrix{Float64}}\n",
       "\n",
       "gini_diff ~ 1 + weighted_gini_walk + area_difference + ellipticity + distance_betweenness\n",
       "\n",
       "Coefficients:\n",
       "────────────────────────────────────────────────────────────────────────────────────────────\n",
       "                             Coef.  Std. Error       t  Pr(>|t|)     Lower 95%     Upper 95%\n",
       "────────────────────────────────────────────────────────────────────────────────────────────\n",
       "(Intercept)            0.155682     0.00473682   32.87    <1e-99   0.14639       0.164975\n",
       "weighted_gini_walk    -0.48345      0.01468     -32.93    <1e-99  -0.512249     -0.454652\n",
       "area_difference       -0.000235203  7.60645e-5   -3.09    0.0020  -0.000384421  -8.59844e-5\n",
       "ellipticity           -0.00194948   0.00137377   -1.42    0.1561  -0.00464444    0.000745493\n",
       "distance_betweenness  -0.000247697  7.69332e-5   -3.22    0.0013  -0.00039862   -9.67751e-5\n",
       "────────────────────────────────────────────────────────────────────────────────────────────"
      ]
     },
     "execution_count": 24,
     "metadata": {},
     "output_type": "execute_result"
    }
   ],
   "source": [
    "# helsinki1_noint_l=lm(gini_diff ~\n",
    "#                        weighted_gini_walk+\n",
    "#                        area_difference+\n",
    "#                        ellipticity+\n",
    "#                        distance_betweenness,\n",
    "#                      data=helsinki[helsinki$weighted_med_inc_walk<\n",
    "#                                      median(helsinki$weighted_med_inc_walk),])\n",
    "\n",
    "helsinki1_noint_l = lm(@formula(\n",
    "  gini_diff ~ weighted_gini_walk + area_difference + ellipticity + distance_betweenness),\n",
    "    filter(row -> row.weighted_med_inc_walk < median(helsinki.weighted_med_inc_walk), helsinki),\n",
    ")\n"
   ]
  },
  {
   "cell_type": "code",
   "execution_count": 25,
   "id": "460c64e6",
   "metadata": {},
   "outputs": [
    {
     "data": {
      "text/plain": [
       "StatsModels.TableRegressionModel{LinearModel{GLM.LmResp{Vector{Float64}}, GLM.DensePredChol{Float64, LinearAlgebra.CholeskyPivoted{Float64, Matrix{Float64}, Vector{Int64}}}}, Matrix{Float64}}\n",
       "\n",
       "gini_diff ~ 1 + weighted_gini_walk + area_difference + ellipticity + distance_betweenness\n",
       "\n",
       "Coefficients:\n",
       "────────────────────────────────────────────────────────────────────────────────────────────\n",
       "                             Coef.  Std. Error       t  Pr(>|t|)     Lower 95%     Upper 95%\n",
       "────────────────────────────────────────────────────────────────────────────────────────────\n",
       "(Intercept)            0.128247     0.00436481   29.38    <1e-99   0.119684      0.136809\n",
       "weighted_gini_walk    -0.416835     0.0135985   -30.65    <1e-99  -0.443512     -0.390158\n",
       "area_difference        0.000533055  8.78022e-5    6.07    <1e-08   0.000360811   0.0007053\n",
       "ellipticity            0.00247565   0.00139293    1.78    0.0757  -0.000256914   0.00520821\n",
       "distance_betweenness  -0.000282971  8.60749e-5   -3.29    0.0010  -0.000451828  -0.000114115\n",
       "────────────────────────────────────────────────────────────────────────────────────────────"
      ]
     },
     "execution_count": 25,
     "metadata": {},
     "output_type": "execute_result"
    }
   ],
   "source": [
    "# helsinki1_noint_h=lm(gini_diff ~\n",
    "#                        #area+\n",
    "#                        weighted_gini_walk+\n",
    "#                        area_difference+\n",
    "#                        ellipticity+\n",
    "#                        distance_betweenness,\n",
    "#                      data=helsinki[helsinki$weighted_med_inc_walk>\n",
    "#                                      median(helsinki$weighted_med_inc_walk),])\n",
    "helsinki1_noint_h = lm(@formula(\n",
    "  gini_diff ~ weighted_gini_walk + area_difference + ellipticity + distance_betweenness),\n",
    "    filter(row -> row.weighted_med_inc_walk > median(helsinki.weighted_med_inc_walk), helsinki),\n",
    ")"
   ]
  },
  {
   "cell_type": "code",
   "execution_count": 26,
   "id": "5ff44a58",
   "metadata": {},
   "outputs": [
    {
     "data": {
      "text/plain": [
       "StatsModels.TableRegressionModel{LinearModel{GLM.LmResp{Vector{Float64}}, GLM.DensePredChol{Float64, LinearAlgebra.CholeskyPivoted{Float64, Matrix{Float64}, Vector{Int64}}}}, Matrix{Float64}}\n",
       "\n",
       "gini_diff ~ 1 + weighted_gini_walk + area_difference + ellipticity + distance_betweenness\n",
       "\n",
       "Coefficients:\n",
       "──────────────────────────────────────────────────────────────────────────────────────\n",
       "                          Coef.  Std. Error       t  Pr(>|t|)   Lower 95%    Upper 95%\n",
       "──────────────────────────────────────────────────────────────────────────────────────\n",
       "(Intercept)            6.3433    0.300048     21.14    <1e-90   5.75494     6.93166\n",
       "weighted_gini_walk    -0.193874  0.00871532  -22.25    <1e-99  -0.210964   -0.176784\n",
       "area_difference        0.038419  0.00892628    4.30    <1e-04   0.0209157   0.0559223\n",
       "ellipticity           -0.148075  0.0791414    -1.87    0.0615  -0.303261    0.00711207\n",
       "distance_betweenness  -0.050571  0.00815262   -6.20    <1e-09  -0.0665573  -0.0345847\n",
       "──────────────────────────────────────────────────────────────────────────────────────"
      ]
     },
     "execution_count": 26,
     "metadata": {},
     "output_type": "execute_result"
    }
   ],
   "source": [
    "# madrid1_noint_l=lm(gini_diff ~\n",
    "#                      #area+\n",
    "#                      weighted_gini_walk+\n",
    "#                      area_difference+\n",
    "#                      ellipticity+\n",
    "#                      distance_betweenness,\n",
    "#                    data=madrid[madrid$weighted_net_income_hh_walk<\n",
    "#                                  median(madrid$weighted_net_income_hh_walk),])\n",
    "madrid1_noint_l = lm(@formula(\n",
    "  gini_diff ~ weighted_gini_walk + area_difference + ellipticity + distance_betweenness),\n",
    "    filter(row -> row.weighted_net_income_hh_walk < median(madrid.weighted_net_income_hh_walk), madrid),\n",
    ")"
   ]
  },
  {
   "cell_type": "code",
   "execution_count": 27,
   "id": "9c45b4ed",
   "metadata": {},
   "outputs": [
    {
     "data": {
      "text/plain": [
       "StatsModels.TableRegressionModel{LinearModel{GLM.LmResp{Vector{Float64}}, GLM.DensePredChol{Float64, LinearAlgebra.CholeskyPivoted{Float64, Matrix{Float64}, Vector{Int64}}}}, Matrix{Float64}}\n",
       "\n",
       "gini_diff ~ 1 + weighted_gini_walk + area_difference + ellipticity + distance_betweenness\n",
       "\n",
       "Coefficients:\n",
       "─────────────────────────────────────────────────────────────────────────────────────\n",
       "                          Coef.  Std. Error       t  Pr(>|t|)   Lower 95%   Upper 95%\n",
       "─────────────────────────────────────────────────────────────────────────────────────\n",
       "(Intercept)            8.41328   0.274918     30.60    <1e-99   7.8742      8.95236\n",
       "weighted_gini_walk    -0.223695  0.00729244  -30.67    <1e-99  -0.237994   -0.209395\n",
       "area_difference       -0.108638  0.0191365    -5.68    <1e-07  -0.146162   -0.0711138\n",
       "ellipticity            0.191975  0.144916      1.32    0.1854  -0.0921865   0.476136\n",
       "distance_betweenness  -0.144566  0.00913908  -15.82    <1e-53  -0.162486   -0.126645\n",
       "─────────────────────────────────────────────────────────────────────────────────────"
      ]
     },
     "execution_count": 27,
     "metadata": {},
     "output_type": "execute_result"
    }
   ],
   "source": [
    "# madrid1_noint_h=lm(gini_diff ~\n",
    "#                      #area+\n",
    "#                      weighted_gini_walk+\n",
    "#                      area_difference+\n",
    "#                      ellipticity+\n",
    "#                      distance_betweenness,\n",
    "#                    data=madrid[madrid$weighted_net_income_hh_walk>\n",
    "#                                  median(madrid$weighted_net_income_hh_walk),])\n",
    "madrid1_noint_h = lm(@formula(\n",
    "  gini_diff ~ weighted_gini_walk + area_difference + ellipticity + distance_betweenness),\n",
    "    filter(row -> row.weighted_net_income_hh_walk > median(madrid.weighted_net_income_hh_walk), madrid),\n",
    ")"
   ]
  },
  {
   "cell_type": "code",
   "execution_count": 28,
   "id": "d536fe5a",
   "metadata": {},
   "outputs": [
    {
     "data": {
      "text/plain": [
       "StatsModels.TableRegressionModel{LinearModel{GLM.LmResp{Vector{Float64}}, GLM.DensePredChol{Float64, LinearAlgebra.CholeskyPivoted{Float64, Matrix{Float64}, Vector{Int64}}}}, Matrix{Float64}}\n",
       "\n",
       "access_diff ~ 1 + walk_sum + area_difference + ellipticity + distance_betweenness\n",
       "\n",
       "Coefficients:\n",
       "────────────────────────────────────────────────────────────────────────────────────────\n",
       "                           Coef.  Std. Error        t  Pr(>|t|)   Lower 95%    Upper 95%\n",
       "────────────────────────────────────────────────────────────────────────────────────────\n",
       "(Intercept)            8.15807    0.0990653     82.35    <1e-99   7.96379     8.35236\n",
       "walk_sum              -0.895403   0.00801996  -111.65    <1e-99  -0.911131   -0.879674\n",
       "area_difference        0.070804   0.00661468    10.70    <1e-25   0.0578316   0.0837763\n",
       "ellipticity           -0.421569   0.0720148     -5.85    <1e-08  -0.5628     -0.280338\n",
       "distance_betweenness  -0.0176274  0.00390652    -4.51    <1e-05  -0.0252887  -0.00996615\n",
       "────────────────────────────────────────────────────────────────────────────────────────"
      ]
     },
     "execution_count": 28,
     "metadata": {},
     "output_type": "execute_result"
    }
   ],
   "source": [
    "# bp1a_noint_l=lm(access_diff ~\n",
    "#                   walk_sum+\n",
    "#                   #area+\n",
    "#                   area_difference+\n",
    "#                   ellipticity+\n",
    "#                   distance_betweenness,\n",
    "#                 data=bp[bp$mean_price<\n",
    "#                           median(bp$mean_price, na.rm = T),])\n",
    "bp1a_noint_l = lm(\n",
    "    @formula(access_diff ~ walk_sum + area_difference + ellipticity + distance_betweenness),\n",
    "    filter(row -> row.mean_price < median(skipmissing(bp.mean_price)), dropmissing(bp, :mean_price)),\n",
    ")"
   ]
  },
  {
   "cell_type": "code",
   "execution_count": 29,
   "id": "1fe1f709",
   "metadata": {},
   "outputs": [
    {
     "data": {
      "text/plain": [
       "StatsModels.TableRegressionModel{LinearModel{GLM.LmResp{Vector{Float64}}, GLM.DensePredChol{Float64, LinearAlgebra.CholeskyPivoted{Float64, Matrix{Float64}, Vector{Int64}}}}, Matrix{Float64}}\n",
       "\n",
       "access_diff ~ 1 + walk_sum + area_difference + ellipticity + distance_betweenness\n",
       "\n",
       "Coefficients:\n",
       "────────────────────────────────────────────────────────────────────────────────────────\n",
       "                           Coef.  Std. Error        t  Pr(>|t|)   Lower 95%    Upper 95%\n",
       "────────────────────────────────────────────────────────────────────────────────────────\n",
       "(Intercept)            7.59612    0.0860734     88.25    <1e-99   7.42732     7.76492\n",
       "walk_sum              -0.848139   0.00799277  -106.11    <1e-99  -0.863814   -0.832464\n",
       "area_difference        0.0254339  0.0040868      6.22    <1e-09   0.017419    0.0334487\n",
       "ellipticity            0.0195281  0.046779       0.42    0.6764  -0.0722123   0.111268\n",
       "distance_betweenness  -0.0169583  0.00384715    -4.41    <1e-04  -0.0245032  -0.00941352\n",
       "────────────────────────────────────────────────────────────────────────────────────────"
      ]
     },
     "execution_count": 29,
     "metadata": {},
     "output_type": "execute_result"
    }
   ],
   "source": [
    "# bp1a_noint_h=lm(access_diff ~\n",
    "#                   walk_sum+\n",
    "#                   #area+\n",
    "#                   area_difference+\n",
    "#                   ellipticity+\n",
    "#                   distance_betweenness,\n",
    "#                 data=bp[bp$mean_price>\n",
    "#                           median(bp$mean_price, na.rm = T),])\n",
    "bp1a_noint_h = lm(\n",
    "    @formula(access_diff ~ walk_sum + area_difference + ellipticity + distance_betweenness),\n",
    "    filter(row -> row.mean_price > median(skipmissing(bp.mean_price)), dropmissing(bp, :mean_price)),\n",
    ")\n"
   ]
  },
  {
   "cell_type": "code",
   "execution_count": 30,
   "id": "1cb8bf01",
   "metadata": {},
   "outputs": [
    {
     "data": {
      "text/plain": [
       "StatsModels.TableRegressionModel{LinearModel{GLM.LmResp{Vector{Float64}}, GLM.DensePredChol{Float64, LinearAlgebra.CholeskyPivoted{Float64, Matrix{Float64}, Vector{Int64}}}}, Matrix{Float64}}\n",
       "\n",
       "access_diff ~ 1 + walk_sum + area_difference + ellipticity + distance_betweenness\n",
       "\n",
       "Coefficients:\n",
       "──────────────────────────────────────────────────────────────────────────────────────\n",
       "                           Coef.  Std. Error       t  Pr(>|t|)   Lower 95%   Upper 95%\n",
       "──────────────────────────────────────────────────────────────────────────────────────\n",
       "(Intercept)            6.86857    0.122787     55.94    <1e-99   6.62769     7.10944\n",
       "walk_sum              -0.834876   0.013778    -60.59    <1e-99  -0.861904   -0.807847\n",
       "area_difference        0.083716   0.00491704   17.03    <1e-58   0.0740701   0.0933619\n",
       "ellipticity            0.478188   0.0875163     5.46    <1e-07   0.306505    0.649872\n",
       "distance_betweenness  -0.0278045  0.00494624   -5.62    <1e-07  -0.0375077  -0.0181013\n",
       "──────────────────────────────────────────────────────────────────────────────────────"
      ]
     },
     "execution_count": 30,
     "metadata": {},
     "output_type": "execute_result"
    }
   ],
   "source": [
    "# helsinki1a_noint_l=lm(access_diff ~\n",
    "#                         walk_sum+\n",
    "#                         #area+\n",
    "#                         area_difference+\n",
    "#                         ellipticity+\n",
    "#                         distance_betweenness,\n",
    "#                       data=helsinki[helsinki$weighted_med_inc_walk<\n",
    "#                                       median(helsinki$weighted_med_inc_walk),]\n",
    "# )\n",
    "helsinki1a_noint_l = lm(\n",
    "    @formula(access_diff ~ walk_sum + area_difference + ellipticity + distance_betweenness),\n",
    "    filter(row -> row.weighted_med_inc_walk < median(helsinki.weighted_med_inc_walk), helsinki),\n",
    ")\n"
   ]
  },
  {
   "cell_type": "code",
   "execution_count": 31,
   "id": "f356bb5b",
   "metadata": {},
   "outputs": [
    {
     "data": {
      "text/plain": [
       "StatsModels.TableRegressionModel{LinearModel{GLM.LmResp{Vector{Float64}}, GLM.DensePredChol{Float64, LinearAlgebra.CholeskyPivoted{Float64, Matrix{Float64}, Vector{Int64}}}}, Matrix{Float64}}\n",
       "\n",
       "access_diff ~ 1 + walk_sum + area_difference + ellipticity + distance_betweenness\n",
       "\n",
       "Coefficients:\n",
       "──────────────────────────────────────────────────────────────────────────────────────\n",
       "                           Coef.  Std. Error       t  Pr(>|t|)   Lower 95%   Upper 95%\n",
       "──────────────────────────────────────────────────────────────────────────────────────\n",
       "(Intercept)            6.76486    0.167768     40.32    <1e-99   6.43575     7.09398\n",
       "walk_sum              -0.754928   0.0153453   -49.20    <1e-99  -0.785032   -0.724825\n",
       "area_difference        0.0783749  0.00724501   10.82    <1e-25   0.0641621   0.0925877\n",
       "ellipticity            0.017889   0.115897      0.15    0.8774  -0.20947     0.245248\n",
       "distance_betweenness  -0.0830738  0.00863805   -9.62    <1e-20  -0.100019   -0.0661282\n",
       "──────────────────────────────────────────────────────────────────────────────────────"
      ]
     },
     "execution_count": 31,
     "metadata": {},
     "output_type": "execute_result"
    }
   ],
   "source": [
    "# helsinki1a_noint_h=lm(access_diff ~\n",
    "#                         walk_sum+\n",
    "#                         #area+\n",
    "#                         area_difference+\n",
    "#                         ellipticity+\n",
    "#                         distance_betweenness,\n",
    "#                       data=helsinki[helsinki$weighted_med_inc_walk>\n",
    "#                                       median(helsinki$weighted_med_inc_walk),])\n",
    "helsinki1a_noint_h = lm(\n",
    "    @formula(access_diff ~ walk_sum + area_difference + ellipticity + distance_betweenness),\n",
    "    filter(row -> row.weighted_med_inc_walk > median(helsinki.weighted_med_inc_walk), helsinki),\n",
    ")"
   ]
  },
  {
   "cell_type": "code",
   "execution_count": 32,
   "id": "4de4368a",
   "metadata": {},
   "outputs": [
    {
     "data": {
      "text/plain": [
       "StatsModels.TableRegressionModel{LinearModel{GLM.LmResp{Vector{Float64}}, GLM.DensePredChol{Float64, LinearAlgebra.CholeskyPivoted{Float64, Matrix{Float64}, Vector{Int64}}}}, Matrix{Float64}}\n",
       "\n",
       "access_diff ~ 1 + walk_sum + area_difference + ellipticity + distance_betweenness\n",
       "\n",
       "Coefficients:\n",
       "───────────────────────────────────────────────────────────────────────────────────────\n",
       "                           Coef.  Std. Error       t  Pr(>|t|)   Lower 95%    Upper 95%\n",
       "───────────────────────────────────────────────────────────────────────────────────────\n",
       "(Intercept)            4.45046    0.114785     38.77    <1e-99   4.22538     4.67554\n",
       "walk_sum              -0.515345   0.0112196   -45.93    <1e-99  -0.537345   -0.493345\n",
       "area_difference        0.0947684  0.00680429   13.93    <1e-41   0.081426    0.108111\n",
       "ellipticity            0.138275   0.0603813     2.29    0.0221   0.0198748   0.256675\n",
       "distance_betweenness  -0.0146119  0.00533038   -2.74    0.0062  -0.0250642  -0.00415971\n",
       "───────────────────────────────────────────────────────────────────────────────────────"
      ]
     },
     "execution_count": 32,
     "metadata": {},
     "output_type": "execute_result"
    }
   ],
   "source": [
    "# madrid1a_noint_l=lm(access_diff ~\n",
    "#                       walk_sum+\n",
    "#                       #area+\n",
    "#                       area_difference+\n",
    "#                       ellipticity+\n",
    "#                       distance_betweenness,\n",
    "#                     data=madrid[madrid$weighted_net_income_hh_walk<\n",
    "#                                   median(madrid$weighted_net_income_hh_walk),])\n",
    "madrid1a_noint_l = lm(\n",
    "    @formula(access_diff ~ walk_sum + area_difference + ellipticity + distance_betweenness),\n",
    "    filter(row -> row.weighted_net_income_hh_walk < median(madrid.weighted_net_income_hh_walk), madrid),\n",
    ")"
   ]
  },
  {
   "cell_type": "code",
   "execution_count": 33,
   "id": "311fb2f6",
   "metadata": {},
   "outputs": [
    {
     "data": {
      "text/plain": [
       "StatsModels.TableRegressionModel{LinearModel{GLM.LmResp{Vector{Float64}}, GLM.DensePredChol{Float64, LinearAlgebra.CholeskyPivoted{Float64, Matrix{Float64}, Vector{Int64}}}}, Matrix{Float64}}\n",
       "\n",
       "access_diff ~ 1 + walk_sum + area_difference + ellipticity + distance_betweenness\n",
       "\n",
       "Coefficients:\n",
       "──────────────────────────────────────────────────────────────────────────────────────\n",
       "                           Coef.  Std. Error       t  Pr(>|t|)   Lower 95%   Upper 95%\n",
       "──────────────────────────────────────────────────────────────────────────────────────\n",
       "(Intercept)            5.82533    0.121284     48.03    <1e-99   5.58751     6.06315\n",
       "walk_sum              -0.636203   0.0117364   -54.21    <1e-99  -0.659217   -0.61319\n",
       "area_difference        0.078901   0.00772715   10.21    <1e-23   0.063749    0.094053\n",
       "ellipticity            0.0931647  0.0589423     1.58    0.1141  -0.0224138   0.208743\n",
       "distance_betweenness  -0.0653763  0.00416847  -15.68    <1e-52  -0.0735502  -0.0572025\n",
       "──────────────────────────────────────────────────────────────────────────────────────"
      ]
     },
     "execution_count": 33,
     "metadata": {},
     "output_type": "execute_result"
    }
   ],
   "source": [
    "# madrid1a_noint_h=lm(access_diff ~\n",
    "#                       walk_sum+\n",
    "#                       #area+\n",
    "#                       area_difference+\n",
    "#                       ellipticity+\n",
    "#                       distance_betweenness,\n",
    "#                     data=madrid[madrid$weighted_net_income_hh_walk>\n",
    "#                                   median(madrid$weighted_net_income_hh_walk),])\n",
    "madrid1a_noint_h = lm(\n",
    "    @formula(access_diff ~ walk_sum + area_difference + ellipticity + distance_betweenness),\n",
    "    filter(row -> row.weighted_net_income_hh_walk > median(madrid.weighted_net_income_hh_walk), madrid),\n",
    ")"
   ]
  },
  {
   "cell_type": "code",
   "execution_count": 34,
   "id": "e5a3f97c",
   "metadata": {},
   "outputs": [
    {
     "data": {
      "text/plain": [
       "\n",
       "--------------------------------------------------------------------------------------------------------------\n",
       "                                  access_diff                    gini_diff         gini_diff_house   gini_diff\n",
       "                       ---------------------------------   ---------------------   ---------------   ---------\n",
       "                             (1)         (2)         (3)         (4)         (5)               (6)         (7)\n",
       "--------------------------------------------------------------------------------------------------------------\n",
       "(Intercept)             6.869***    4.450***    8.158***    0.156***    6.343***          -0.015**    0.070***\n",
       "                         (0.123)     (0.115)     (0.099)     (0.005)     (0.300)           (0.005)     (0.003)\n",
       "walk_sum               -0.835***   -0.515***   -0.895***                                                      \n",
       "                         (0.014)     (0.011)     (0.008)                                                      \n",
       "area_difference         0.084***    0.095***    0.071***    -0.000**    0.038***            -0.000      -0.000\n",
       "                         (0.005)     (0.007)     (0.007)     (0.000)     (0.009)           (0.000)     (0.000)\n",
       "ellipticity             0.478***      0.138*   -0.422***      -0.002      -0.148          0.017***    0.010***\n",
       "                         (0.088)     (0.060)     (0.072)     (0.001)     (0.079)           (0.004)     (0.002)\n",
       "distance_betweenness   -0.028***    -0.015**   -0.018***    -0.000**   -0.051***         -0.001***   -0.004***\n",
       "                         (0.005)     (0.005)     (0.004)     (0.000)     (0.008)           (0.000)     (0.000)\n",
       "weighted_gini_walk                                         -0.483***   -0.194***                              \n",
       "                                                             (0.015)     (0.009)                              \n",
       "gini_walk15                                                                               0.208***   -0.278***\n",
       "                                                                                           (0.029)     (0.012)\n",
       "--------------------------------------------------------------------------------------------------------------\n",
       "N                          1,348       2,604       2,015       1,348       2,604             2,015       2,213\n",
       "R2                         0.745       0.474       0.872       0.465       0.190             0.059       0.239\n",
       "--------------------------------------------------------------------------------------------------------------\n",
       "\n"
      ]
     },
     "execution_count": 34,
     "metadata": {},
     "output_type": "execute_result"
    }
   ],
   "source": [
    "# stargazer(helsinki1a_noint_l, madrid1a_noint_l, bp1a_noint_l,\n",
    "#           helsinki1_noint_l, madrid1_noint_l, bp2_noint_l, bp1_noint_l,\n",
    "#           type=\"latex\",\n",
    "#           style=\"aer\",\n",
    "#           column.labels = c(\"Helsinki - Access\", \"Madrid - Access\",\n",
    "#                             \"BP - Access\",\n",
    "#                             \"Helsinki - Gini\",\n",
    "#                             \"Madrid - Gini\",\n",
    "#                             \"BP residential - Gini\",\n",
    "#                             \"BP experienced - Gini\"),\n",
    "#           dep.var.labels.include = F,\n",
    "#           out=\"SI_Reg_2_noint_low.tex\")\n",
    "regtable(\n",
    "    helsinki1a_noint_l,\n",
    "    madrid1a_noint_l,\n",
    "    bp1a_noint_l,\n",
    "    helsinki1_noint_l,\n",
    "    madrid1_noint_l,\n",
    "    bp2_noint_l,\n",
    "    bp1_noint_l;\n",
    "    render = AsciiTable(),\n",
    "    file=\"$(output)/SI_Reg_2_noint_low.txt\"\n",
    ")\n"
   ]
  },
  {
   "cell_type": "code",
   "execution_count": 35,
   "id": "9b525b06",
   "metadata": {},
   "outputs": [
    {
     "data": {
      "text/plain": [
       "\n",
       "--------------------------------------------------------------------------------------------------------------\n",
       "                                  access_diff                    gini_diff         gini_diff_house   gini_diff\n",
       "                       ---------------------------------   ---------------------   ---------------   ---------\n",
       "                             (1)         (2)         (3)         (4)         (5)               (6)         (7)\n",
       "--------------------------------------------------------------------------------------------------------------\n",
       "(Intercept)             6.765***    5.825***    7.596***    0.128***    8.413***          0.023***    0.113***\n",
       "                         (0.168)     (0.121)     (0.086)     (0.004)     (0.275)           (0.005)     (0.003)\n",
       "walk_sum               -0.755***   -0.636***   -0.848***                                                      \n",
       "                         (0.015)     (0.012)     (0.008)                                                      \n",
       "area_difference         0.078***    0.079***    0.025***    0.001***   -0.109***          0.002***      -0.000\n",
       "                         (0.007)     (0.008)     (0.004)     (0.000)     (0.019)           (0.000)     (0.000)\n",
       "ellipticity                0.018       0.093       0.020       0.002       0.192         -0.012***    0.020***\n",
       "                         (0.116)     (0.059)     (0.047)     (0.001)     (0.145)           (0.003)     (0.002)\n",
       "distance_betweenness   -0.083***   -0.065***   -0.017***    -0.000**   -0.145***         -0.002***   -0.003***\n",
       "                         (0.009)     (0.004)     (0.004)     (0.000)     (0.009)           (0.000)     (0.000)\n",
       "weighted_gini_walk                                         -0.417***   -0.224***                              \n",
       "                                                             (0.014)     (0.007)                              \n",
       "gini_walk15                                                                                  0.017   -0.667***\n",
       "                                                                                           (0.018)     (0.018)\n",
       "--------------------------------------------------------------------------------------------------------------\n",
       "N                          1,346       2,608       2,015       1,346       2,608             2,015       2,211\n",
       "R2                         0.701       0.563       0.876       0.427       0.282             0.176       0.446\n",
       "--------------------------------------------------------------------------------------------------------------\n",
       "\n"
      ]
     },
     "execution_count": 35,
     "metadata": {},
     "output_type": "execute_result"
    }
   ],
   "source": [
    "# stargazer(helsinki1a_noint_h, madrid1a_noint_h, bp1a_noint_h,\n",
    "#           helsinki1_noint_h, madrid1_noint_h, bp2_noint_h, bp1_noint_h,\n",
    "#           type=\"latex\",\n",
    "#           style=\"aer\",\n",
    "#           column.labels = c(\"Helsinki - Access\", \"Madrid - Access\",\n",
    "#                             \"BP - Access\",\n",
    "#                             \"Helsinki - Gini\",\n",
    "#                             \"Madrid - Gini\",\n",
    "#                             \"BP residential - Gini\",\n",
    "#                             \"BP experienced - Gini\"),\n",
    "#           dep.var.labels.include = F,\n",
    "#           out=\"SI_Reg_3_noint_high.tex\")\n",
    "regtable(\n",
    "    helsinki1a_noint_h,\n",
    "    madrid1a_noint_h,\n",
    "    bp1a_noint_h,\n",
    "    helsinki1_noint_h,\n",
    "    madrid1_noint_h,\n",
    "    bp2_noint_h,\n",
    "    bp1_noint_h;\n",
    "    render = AsciiTable(),\n",
    "    file=\"$(output)/SI_Reg_3_noint_high.txt\"\n",
    ")"
   ]
  },
  {
   "cell_type": "markdown",
   "id": "db04af59",
   "metadata": {},
   "source": [
    "plotting"
   ]
  },
  {
   "cell_type": "code",
   "execution_count": 36,
   "id": "ce40e8dc",
   "metadata": {},
   "outputs": [],
   "source": [
    "model_names = [\"helsinki1a_noint\", \"madrid1a_noint\", \"bp1a_noint\",\n",
    "                 \"helsinki1_noint\", \"madrid1_noint\", \"bp2_noint\", \"bp1_noint\",\n",
    "                 \"helsinki1a_noint_l\", \"madrid1a_noint_l\", \"bp1a_noint_l\",\n",
    "                 \"helsinki1_noint_l\", \"madrid1_noint_l\", \"bp2_noint_l\", \"bp1_noint_l\",\n",
    "                 \"helsinki1a_noint_h\", \"madrid1a_noint_h\", \"bp1a_noint_h\",\n",
    "                 \"helsinki1_noint_h\", \"madrid1_noint_h\", \"bp2_noint_h\", \"bp1_noint_h\"];"
   ]
  },
  {
   "cell_type": "markdown",
   "id": "7f9136ec",
   "metadata": {},
   "source": [
    "# 4.2 Regressions with interactions into SI"
   ]
  },
  {
   "cell_type": "code",
   "execution_count": 37,
   "id": "a7de63f4",
   "metadata": {},
   "outputs": [
    {
     "data": {
      "text/plain": [
       "StatsModels.TableRegressionModel{LinearModel{GLM.LmResp{Vector{Float64}}, GLM.DensePredChol{Float64, LinearAlgebra.CholeskyPivoted{Float64, Matrix{Float64}, Vector{Int64}}}}, Matrix{Float64}}\n",
       "\n",
       ":(gini_multimodal - gini_walk15) ~ 1 + gini_walk15 + area_difference + ellipticity + distance_betweenness + area_difference & ellipticity + distance_betweenness & ellipticity\n",
       "\n",
       "Coefficients:\n",
       "───────────────────────────────────────────────────────────────────────────────────────────────────────────\n",
       "                                           Coef.   Std. Error       t  Pr(>|t|)     Lower 95%     Upper 95%\n",
       "───────────────────────────────────────────────────────────────────────────────────────────────────────────\n",
       "(Intercept)                          0.0778033    0.00311075    25.01    <1e-99   0.0717046     0.0839019\n",
       "gini_walk15                         -0.34399      0.00877219   -39.21    <1e-99  -0.361188     -0.326792\n",
       "area_difference                     -0.000198044  0.000378137   -0.52    0.6005  -0.000939382   0.000543295\n",
       "ellipticity                          0.0126454    0.0038285      3.30    0.0010   0.00513965    0.0201512\n",
       "distance_betweenness                -0.00351769   0.000261733  -13.44    <1e-39  -0.00403082   -0.00300456\n",
       "area_difference & ellipticity        0.000497588  0.000668328    0.74    0.4566  -0.00081267    0.00180785\n",
       "distance_betweenness & ellipticity   0.000312213  0.000411156    0.76    0.4477  -0.000493859   0.00111828\n",
       "───────────────────────────────────────────────────────────────────────────────────────────────────────────"
      ]
     },
     "execution_count": 37,
     "metadata": {},
     "output_type": "execute_result"
    }
   ],
   "source": [
    "# bp1=lm(gini_multimodal-gini_walk15 ~\n",
    "#         #area+\n",
    "#         gini_walk15+\n",
    "#          area_difference*ellipticity+\n",
    "#          distance_betweenness*ellipticity,\n",
    "#         data=bp)\n",
    "\n",
    "bp1 = lm(\n",
    "    @formula(gini_multimodal - gini_walk15 ~ gini_walk15 + (area_difference * ellipticity) + (distance_betweenness * ellipticity)),\n",
    "    bp,\n",
    ")"
   ]
  },
  {
   "cell_type": "code",
   "execution_count": 38,
   "id": "5bab95b8",
   "metadata": {},
   "outputs": [
    {
     "data": {
      "text/plain": [
       "StatsModels.TableRegressionModel{LinearModel{GLM.LmResp{Vector{Float64}}, GLM.DensePredChol{Float64, LinearAlgebra.CholeskyPivoted{Float64, Matrix{Float64}, Vector{Int64}}}}, Matrix{Float64}}\n",
       "\n",
       ":(gini_house_multimodal - gini_house_walk15) ~ 1 + gini_walk15 + area_difference + ellipticity + distance_betweenness + area_difference & ellipticity + distance_betweenness & ellipticity\n",
       "\n",
       "Coefficients:\n",
       "───────────────────────────────────────────────────────────────────────────────────────────────────────\n",
       "                                          Coef.   Std. Error      t  Pr(>|t|)    Lower 95%    Upper 95%\n",
       "───────────────────────────────────────────────────────────────────────────────────────────────────────\n",
       "(Intercept)                          0.0267652   0.00476958    5.61    <1e-07   0.0174144    0.036116\n",
       "gini_walk15                          0.0799321   0.01345       5.94    <1e-08   0.0535633    0.106301\n",
       "area_difference                     -0.0029852   0.000579781  -5.15    <1e-06  -0.00412186  -0.00184854\n",
       "ellipticity                         -0.0366232   0.00587007   -6.24    <1e-09  -0.0481315   -0.0251149\n",
       "distance_betweenness                -0.00249609  0.000401304  -6.22    <1e-09  -0.00328285  -0.00170933\n",
       "area_difference & ellipticity        0.0079995   0.00102472    7.81    <1e-14   0.00599053   0.0100085\n",
       "distance_betweenness & ellipticity   0.00249867  0.000630407   3.96    <1e-04   0.00126275   0.00373458\n",
       "───────────────────────────────────────────────────────────────────────────────────────────────────────"
      ]
     },
     "execution_count": 38,
     "metadata": {},
     "output_type": "execute_result"
    }
   ],
   "source": [
    "# bp2=lm(gini_house_multimodal-gini_house_walk15 ~\n",
    "#         #area+\n",
    "#         gini_walk15+\n",
    "#          area_difference*ellipticity+\n",
    "#          distance_betweenness*ellipticity,\n",
    "#         data=bp)\n",
    "\n",
    "bp2 = lm(\n",
    "    @formula(gini_house_multimodal - gini_house_walk15 ~ gini_walk15 + (area_difference * ellipticity) + (distance_betweenness * ellipticity)),\n",
    "    bp,\n",
    ")"
   ]
  },
  {
   "cell_type": "code",
   "execution_count": 39,
   "id": "98456146",
   "metadata": {},
   "outputs": [
    {
     "data": {
      "text/plain": [
       "StatsModels.TableRegressionModel{LinearModel{GLM.LmResp{Vector{Float64}}, GLM.DensePredChol{Float64, LinearAlgebra.CholeskyPivoted{Float64, Matrix{Float64}, Vector{Int64}}}}, Matrix{Float64}}\n",
       "\n",
       ":(weighted_gini_multi - weighted_gini_walk) ~ 1 + weighted_gini_walk + area_difference + ellipticity + distance_betweenness + area_difference & ellipticity + distance_betweenness & ellipticity\n",
       "\n",
       "Coefficients:\n",
       "──────────────────────────────────────────────────────────────────────────────────────────────────────────\n",
       "                                           Coef.   Std. Error       t  Pr(>|t|)    Lower 95%     Upper 95%\n",
       "──────────────────────────────────────────────────────────────────────────────────────────────────────────\n",
       "(Intercept)                          0.142622     0.00333615    42.75    <1e-99   0.13608      0.149163\n",
       "weighted_gini_walk                  -0.425188     0.00951503   -44.69    <1e-99  -0.443845    -0.40653\n",
       "area_difference                     -0.000533266  0.000194627   -2.74    0.0062  -0.0009149   -0.000151632\n",
       "ellipticity                         -0.0153827    0.0026604     -5.78    <1e-08  -0.0205994   -0.0101661\n",
       "distance_betweenness                -0.00129377   0.000196906   -6.57    <1e-10  -0.00167987  -0.000907667\n",
       "area_difference & ellipticity        0.00119821   0.000335031    3.58    0.0004   0.00054127   0.00185516\n",
       "distance_betweenness & ellipticity   0.00184656   0.000333082    5.54    <1e-07   0.00119344   0.00249968\n",
       "──────────────────────────────────────────────────────────────────────────────────────────────────────────"
      ]
     },
     "execution_count": 39,
     "metadata": {},
     "output_type": "execute_result"
    }
   ],
   "source": [
    "# helsinki1=lm(weighted_gini_multi-weighted_gini_walk ~\n",
    "#         #area+\n",
    "#         weighted_gini_walk+\n",
    "#           area_difference*ellipticity+\n",
    "#           distance_betweenness*ellipticity,\n",
    "#         data=helsinki)\n",
    "\n",
    "helsinki1 = lm(\n",
    "    @formula(weighted_gini_multi - weighted_gini_walk ~ weighted_gini_walk + (area_difference * ellipticity) + (distance_betweenness * ellipticity)),\n",
    "    helsinki,\n",
    ")"
   ]
  },
  {
   "cell_type": "code",
   "execution_count": 40,
   "id": "1041389e",
   "metadata": {},
   "outputs": [
    {
     "data": {
      "text/plain": [
       "StatsModels.TableRegressionModel{LinearModel{GLM.LmResp{Vector{Float64}}, GLM.DensePredChol{Float64, LinearAlgebra.CholeskyPivoted{Float64, Matrix{Float64}, Vector{Int64}}}}, Matrix{Float64}}\n",
       "\n",
       ":(weighted_gini_multi - weighted_gini_walk) ~ 1 + weighted_gini_walk + area_difference + ellipticity + distance_betweenness + area_difference & ellipticity + distance_betweenness & ellipticity\n",
       "\n",
       "Coefficients:\n",
       "───────────────────────────────────────────────────────────────────────────────────────────────────\n",
       "                                        Coef.  Std. Error       t  Pr(>|t|)   Lower 95%   Upper 95%\n",
       "───────────────────────────────────────────────────────────────────────────────────────────────────\n",
       "(Intercept)                          6.75931   0.213352     31.68    <1e-99   6.34105     7.17757\n",
       "weighted_gini_walk                  -0.183102  0.00481727  -38.01    <1e-99  -0.192546   -0.173659\n",
       "area_difference                      0.031518  0.0257577     1.22    0.2211  -0.0189779   0.082014\n",
       "ellipticity                         -0.775504  0.206341     -3.76    0.0002  -1.18002    -0.370989\n",
       "distance_betweenness                -0.133571  0.014976     -8.92    <1e-18  -0.16293    -0.104212\n",
       "area_difference & ellipticity       -0.10559   0.051656     -2.04    0.0410  -0.206857   -0.0043227\n",
       "distance_betweenness & ellipticity   0.103892  0.0270328     3.84    0.0001   0.050896    0.156887\n",
       "───────────────────────────────────────────────────────────────────────────────────────────────────"
      ]
     },
     "execution_count": 40,
     "metadata": {},
     "output_type": "execute_result"
    }
   ],
   "source": [
    "# madrid1=lm(weighted_gini_multi-weighted_gini_walk ~\n",
    "#         #area+\n",
    "#         weighted_gini_walk+\n",
    "#           area_difference*ellipticity+\n",
    "#           distance_betweenness*ellipticity,\n",
    "#         data=madrid)\n",
    "\n",
    "madrid1 = lm(\n",
    "    @formula(weighted_gini_multi - weighted_gini_walk ~ weighted_gini_walk + (area_difference * ellipticity) + (distance_betweenness * ellipticity)),\n",
    "    madrid,\n",
    ")"
   ]
  },
  {
   "cell_type": "markdown",
   "id": "e0383eb8",
   "metadata": {},
   "source": [
    "# 4.2 Access"
   ]
  },
  {
   "cell_type": "code",
   "execution_count": 41,
   "id": "660eda60",
   "metadata": {},
   "outputs": [
    {
     "data": {
      "text/plain": [
       "StatsModels.TableRegressionModel{LinearModel{GLM.LmResp{Vector{Float64}}, GLM.DensePredChol{Float64, LinearAlgebra.CholeskyPivoted{Float64, Matrix{Float64}, Vector{Int64}}}}, Matrix{Float64}}\n",
       "\n",
       ":(multimod_sum - walk_sum) ~ 1 + walk_sum + area_difference + ellipticity + distance_betweenness + area_difference & ellipticity + distance_betweenness & ellipticity\n",
       "\n",
       "Coefficients:\n",
       "─────────────────────────────────────────────────────────────────────────────────────────────────────\n",
       "                                         Coef.  Std. Error        t  Pr(>|t|)   Lower 95%   Upper 95%\n",
       "─────────────────────────────────────────────────────────────────────────────────────────────────────\n",
       "(Intercept)                          7.77785    0.0769979    101.01    <1e-99   7.6269      7.92881\n",
       "walk_sum                            -0.882395   0.0054656   -161.45    <1e-99  -0.893111   -0.87168\n",
       "area_difference                     -0.0548426  0.0103383     -5.30    <1e-06  -0.0751108  -0.0345743\n",
       "ellipticity                          0.164329   0.103076       1.59    0.1110  -0.0377509   0.366409\n",
       "distance_betweenness                 0.045198   0.00642268     7.04    <1e-11   0.0326063   0.0577896\n",
       "area_difference & ellipticity        0.208755   0.0182706     11.43    <1e-29   0.172935    0.244574\n",
       "distance_betweenness & ellipticity  -0.113906   0.0111527    -10.21    <1e-23  -0.135771   -0.0920415\n",
       "─────────────────────────────────────────────────────────────────────────────────────────────────────"
      ]
     },
     "execution_count": 41,
     "metadata": {},
     "output_type": "execute_result"
    }
   ],
   "source": [
    "# bp1a=lm(multimod_sum-walk_sum ~\n",
    "#           walk_sum+\n",
    "#           #area+\n",
    "#          area_difference*ellipticity+\n",
    "#          distance_betweenness*ellipticity,\n",
    "#        data=bp)\n",
    "\n",
    "bp1a = lm(\n",
    "    @formula(multimod_sum - walk_sum ~ walk_sum + (area_difference * ellipticity) + (distance_betweenness * ellipticity)),\n",
    "    bp,\n",
    ")"
   ]
  },
  {
   "cell_type": "code",
   "execution_count": 42,
   "id": "b9f35a38",
   "metadata": {},
   "outputs": [
    {
     "data": {
      "text/plain": [
       "StatsModels.TableRegressionModel{LinearModel{GLM.LmResp{Vector{Float64}}, GLM.DensePredChol{Float64, LinearAlgebra.CholeskyPivoted{Float64, Matrix{Float64}, Vector{Int64}}}}, Matrix{Float64}}\n",
       "\n",
       ":(multimod_sum - walk_sum) ~ 1 + walk_sum + area_difference + ellipticity + distance_betweenness + area_difference & ellipticity + distance_betweenness & ellipticity\n",
       "\n",
       "Coefficients:\n",
       "─────────────────────────────────────────────────────────────────────────────────────────────────────\n",
       "                                         Coef.  Std. Error       t  Pr(>|t|)   Lower 95%    Upper 95%\n",
       "─────────────────────────────────────────────────────────────────────────────────────────────────────\n",
       "(Intercept)                          6.4319      0.141244    45.54    <1e-99   6.15494     6.70886\n",
       "walk_sum                            -0.754485    0.0100931  -74.75    <1e-99  -0.774276   -0.734694\n",
       "area_difference                      0.0717488   0.0147269    4.87    <1e-05   0.0428716   0.100626\n",
       "ellipticity                          0.281423    0.201123     1.40    0.1619  -0.112949    0.675794\n",
       "distance_betweenness                -0.0390967   0.0149366   -2.62    0.0089  -0.0683851  -0.00980833\n",
       "area_difference & ellipticity        0.0204755   0.0253068    0.81    0.4185  -0.0291473   0.0700982\n",
       "distance_betweenness & ellipticity  -0.0144273   0.025158    -0.57    0.5664  -0.0637583   0.0349038\n",
       "─────────────────────────────────────────────────────────────────────────────────────────────────────"
      ]
     },
     "execution_count": 42,
     "metadata": {},
     "output_type": "execute_result"
    }
   ],
   "source": [
    "# helsinki1a=lm(multimod_sum-walk_sum ~\n",
    "#                 walk_sum+\n",
    "#                 #area+\n",
    "#                 area_difference*ellipticity+\n",
    "#                 distance_betweenness*ellipticity,\n",
    "#              data=helsinki)\n",
    "\n",
    "helsinki1a = lm(\n",
    "    @formula(multimod_sum - walk_sum ~ walk_sum + (area_difference * ellipticity) + (distance_betweenness * ellipticity)),\n",
    "    helsinki,\n",
    ")"
   ]
  },
  {
   "cell_type": "code",
   "execution_count": 43,
   "id": "f8720a74",
   "metadata": {},
   "outputs": [
    {
     "data": {
      "text/plain": [
       "StatsModels.TableRegressionModel{LinearModel{GLM.LmResp{Vector{Float64}}, GLM.DensePredChol{Float64, LinearAlgebra.CholeskyPivoted{Float64, Matrix{Float64}, Vector{Int64}}}}, Matrix{Float64}}\n",
       "\n",
       ":(multimod_sum - walk_sum) ~ 1 + walk_sum + area_difference + ellipticity + distance_betweenness + area_difference & ellipticity + distance_betweenness & ellipticity\n",
       "\n",
       "Coefficients:\n",
       "──────────────────────────────────────────────────────────────────────────────────────────────────────\n",
       "                                          Coef.  Std. Error       t  Pr(>|t|)   Lower 95%    Upper 95%\n",
       "──────────────────────────────────────────────────────────────────────────────────────────────────────\n",
       "(Intercept)                          5.15877     0.0903436    57.10    <1e-99   4.98166     5.33588\n",
       "walk_sum                            -0.572462    0.00817056  -70.06    <1e-99  -0.58848    -0.556444\n",
       "area_difference                      0.00628615  0.012578      0.50    0.6173  -0.018372    0.0309443\n",
       "ellipticity                          0.02994     0.0988255     0.30    0.7619  -0.163799    0.223679\n",
       "distance_betweenness                -0.0323948   0.00700539   -4.62    <1e-05  -0.0461283  -0.0186613\n",
       "area_difference & ellipticity        0.189193    0.0251863     7.51    <1e-13   0.139817    0.238569\n",
       "distance_betweenness & ellipticity  -0.02034     0.0129647    -1.57    0.1167  -0.0457562   0.00507627\n",
       "──────────────────────────────────────────────────────────────────────────────────────────────────────"
      ]
     },
     "execution_count": 43,
     "metadata": {},
     "output_type": "execute_result"
    }
   ],
   "source": [
    "# madrid1a=lm(multimod_sum-walk_sum ~\n",
    "#               walk_sum+\n",
    "#               #area+\n",
    "#               area_difference*ellipticity+\n",
    "#               distance_betweenness*ellipticity,\n",
    "#            data=madrid)\n",
    "madrid1a = lm(\n",
    "    @formula(multimod_sum - walk_sum ~ walk_sum + (area_difference * ellipticity) + (distance_betweenness * ellipticity)),\n",
    "    madrid,\n",
    ")"
   ]
  },
  {
   "cell_type": "code",
   "execution_count": 44,
   "id": "70c2dc37",
   "metadata": {},
   "outputs": [
    {
     "data": {
      "text/plain": [
       "\n",
       "---------------------------------------------------------------------------------------------------------------------------------------------------------------------------------------------\n",
       "                                          multimod_sum - walk_sum        weighted_gini_multi - weighted_gini_walk   gini_house_multimodal - gini_house_walk15   gini_multimodal - gini_walk15\n",
       "                                     ---------------------------------   ----------------------------------------   -----------------------------------------   -----------------------------\n",
       "                                           (1)         (2)         (3)                  (4)                   (5)                                         (6)                             (7)\n",
       "---------------------------------------------------------------------------------------------------------------------------------------------------------------------------------------------\n",
       "(Intercept)                           6.432***    5.159***    7.778***             0.143***              6.759***                                    0.027***                        0.078***\n",
       "                                       (0.141)     (0.090)     (0.077)              (0.003)               (0.213)                                     (0.005)                         (0.003)\n",
       "walk_sum                             -0.754***   -0.572***   -0.882***                                                                                                                       \n",
       "                                       (0.010)     (0.008)     (0.005)                                                                                                                       \n",
       "area_difference                       0.072***       0.006   -0.055***             -0.001**                 0.032                                   -0.003***                          -0.000\n",
       "                                       (0.015)     (0.013)     (0.010)              (0.000)               (0.026)                                     (0.001)                         (0.000)\n",
       "ellipticity                              0.281       0.030       0.164            -0.015***             -0.776***                                   -0.037***                        0.013***\n",
       "                                       (0.201)     (0.099)     (0.103)              (0.003)               (0.206)                                     (0.006)                         (0.004)\n",
       "distance_betweenness                  -0.039**   -0.032***    0.045***            -0.001***             -0.134***                                   -0.002***                       -0.004***\n",
       "                                       (0.015)     (0.007)     (0.006)              (0.000)               (0.015)                                     (0.000)                         (0.000)\n",
       "area_difference & ellipticity            0.020    0.189***    0.209***             0.001***               -0.106*                                    0.008***                           0.000\n",
       "                                       (0.025)     (0.025)     (0.018)              (0.000)               (0.052)                                     (0.001)                         (0.001)\n",
       "distance_betweenness & ellipticity      -0.014      -0.020   -0.114***             0.002***              0.104***                                    0.002***                           0.000\n",
       "                                       (0.025)     (0.013)     (0.011)              (0.000)               (0.027)                                     (0.001)                         (0.000)\n",
       "weighted_gini_walk                                                                -0.425***             -0.183***                                                                            \n",
       "                                                                                    (0.010)               (0.005)                                                                            \n",
       "gini_walk15                                                                                                                                          0.080***                       -0.344***\n",
       "                                                                                                                                                      (0.013)                         (0.009)\n",
       "---------------------------------------------------------------------------------------------------------------------------------------------------------------------------------------------\n",
       "N                                        2,694       5,212       4,424                2,694                 5,212                                       4,424                           4,424\n",
       "R2                                       0.706       0.521       0.877                0.446                 0.224                                       0.088                           0.303\n",
       "---------------------------------------------------------------------------------------------------------------------------------------------------------------------------------------------\n",
       "\n"
      ]
     },
     "execution_count": 44,
     "metadata": {},
     "output_type": "execute_result"
    }
   ],
   "source": [
    "# stargazer(helsinki1a, madrid1a, bp1a,helsinki1, madrid1, bp2, bp1,\n",
    "#           type=\"latex\",\n",
    "#           style=\"aer\",\n",
    "#           column.labels = c(\"Helsinki - Access\", \"Madrid - Access\",\n",
    "#                             \"BP - Access\",\n",
    "#                             \"Helsinki - Gini\", \"Madrid - Gini\",\n",
    "#                             \"BP residential - Gini\",\n",
    "#                             \"BP experienced - Gini\"),\n",
    "#           dep.var.labels.include = F,\n",
    "#           out=\"SI_Reg_4.tex\")\n",
    "regtable(\n",
    "    helsinki1a, madrid1a, bp1a,helsinki1, madrid1, bp2, bp1;\n",
    "    render = AsciiTable(),\n",
    "    file=\"$(output)/SI_Reg_4.txt\"\n",
    ")"
   ]
  },
  {
   "cell_type": "markdown",
   "id": "ee1a8de6",
   "metadata": {},
   "source": [
    "# 4.3 Standardized regressions with interactions"
   ]
  },
  {
   "cell_type": "code",
   "execution_count": 45,
   "id": "d663cf2c",
   "metadata": {},
   "outputs": [],
   "source": [
    "# bp.gini_diff_s = scale(bp.gini_diff)\n",
    "# bp.gini_walk15_s = scale(bp.gini_walk15)"
   ]
  },
  {
   "cell_type": "code",
   "execution_count": 46,
   "id": "f0058d59",
   "metadata": {},
   "outputs": [],
   "source": [
    "# bp <- bp %>%\n",
    "#   mutate(\n",
    "#     gini_diff_s = scale(gini_diff),\n",
    "#     gini_walk15_s = scale(gini_walk15),\n",
    "#     area_difference_s = scale(area_difference),\n",
    "#     ellipticity_s = scale(ellipticity),\n",
    "#     distance_betweenness_s = scale(distance_betweenness),\n",
    "#     gini_diff_house_s = scale(gini_diff_house),\n",
    "#     access_diff_s = scale(access_diff),\n",
    "#     walk_sum_s = scale(walk_sum)\n",
    "#   )\n",
    "\n",
    "# madrid <- madrid %>%\n",
    "#   mutate(\n",
    "#     gini_diff_s = scale(gini_diff),\n",
    "#     weighted_gini_walk_s = scale(weighted_gini_walk),\n",
    "#     area_difference_s = scale(area_difference),\n",
    "#     ellipticity_s = scale(ellipticity),\n",
    "#     distance_betweenness_s = scale(distance_betweenness),\n",
    "#     access_diff_s = scale(access_diff),\n",
    "#     walk_sum_s = scale(walk_sum)\n",
    "#   )\n",
    "\n",
    "\n",
    "# helsinki <- helsinki %>%\n",
    "#   mutate(\n",
    "#     gini_diff_s = scale(gini_diff),\n",
    "#     weighted_gini_walk_s = scale(weighted_gini_walk),\n",
    "#     area_difference_s = scale(area_difference),\n",
    "#     ellipticity_s = scale(ellipticity),\n",
    "#     distance_betweenness_s = scale(distance_betweenness),\n",
    "#     access_diff_s = scale(access_diff),\n",
    "#     walk_sum_s = scale(walk_sum)\n",
    "#   )\n",
    "\n",
    "to_scale = [\"gini_diff\", \"area_difference\", \"ellipticity\", \"distance_betweenness\", \"access_diff\", \"walk_sum\"];\n",
    "\n",
    "for i in vcat(to_scale, [\"gini_walk15\", \"gini_diff_house\"])\n",
    "    bp[!, \"$(i)_s\"] = scale(bp[!, i])\n",
    "end;\n",
    "for i in vcat(to_scale, [\"weighted_gini_walk\"])\n",
    "    madrid[!, \"$(i)_s\"] = scale(madrid[!, i])\n",
    "    helsinki[!, \"$(i)_s\"] = scale(helsinki[!, i])\n",
    "end;"
   ]
  },
  {
   "cell_type": "code",
   "execution_count": 47,
   "id": "0f579d60",
   "metadata": {},
   "outputs": [
    {
     "data": {
      "text/plain": [
       "4424-element Vector{Float64}:\n",
       "  1.9483758102967583\n",
       "  1.7076989596474048\n",
       " -0.6128569436284482\n",
       "  0.6834111261802216\n",
       "  0.259019323436053\n",
       " -1.4616405491167854\n",
       " -2.6296160546134333\n",
       " -0.4009176273849879\n",
       " -0.91562739540482\n",
       " -1.5904462836860556\n",
       "  1.7097516406763975\n",
       "  1.743620877654771\n",
       "  0.8440334166988731\n",
       "  ⋮\n",
       " -0.44197124796483495\n",
       " -0.9187064169483085\n",
       " -1.5750511759686128\n",
       " -0.7719397233753552\n",
       "  1.3474534390592476\n",
       "  0.38166701491834615\n",
       " -0.8078616413827214\n",
       " -0.40143079764223594\n",
       " -0.5374209158129793\n",
       " -0.26030897689901167\n",
       " -0.44145807770758694\n",
       " -0.7134383140490734"
      ]
     },
     "execution_count": 47,
     "metadata": {},
     "output_type": "execute_result"
    }
   ],
   "source": [
    "scalem(bp[!,:ellipticity])"
   ]
  },
  {
   "cell_type": "code",
   "execution_count": 48,
   "id": "6d502898",
   "metadata": {},
   "outputs": [
    {
     "data": {
      "text/plain": [
       "rscale (generic function with 1 method)"
      ]
     },
     "execution_count": 48,
     "metadata": {},
     "output_type": "execute_result"
    }
   ],
   "source": [
    "rscale(A) = mapslices(normalize!, A .- mean(A,dims=1), dims=1) * sqrt(size(A,1)-1)"
   ]
  },
  {
   "cell_type": "code",
   "execution_count": 49,
   "id": "4bd9f0ca",
   "metadata": {},
   "outputs": [],
   "source": [
    "using LinearAlgebra"
   ]
  },
  {
   "cell_type": "code",
   "execution_count": 50,
   "id": "9a5ca493",
   "metadata": {},
   "outputs": [
    {
     "data": {
      "text/html": [
       "<div><div style = \"float: left;\"><span>4426×2 DataFrame</span></div><div style = \"float: right;\"><span style = \"font-style: italic;\">4401 rows omitted</span></div><div style = \"clear: both;\"></div></div><div class = \"data-frame\" style = \"overflow-x: scroll;\"><table class = \"data-frame\" style = \"margin-bottom: 6px;\"><thead><tr class = \"header\"><th class = \"rowNumber\" style = \"font-weight: bold; text-align: right;\">Row</th><th style = \"text-align: left;\">ellipticity</th><th style = \"text-align: left;\">ellipticity_s</th></tr><tr class = \"subheader headerLastRow\"><th class = \"rowNumber\" style = \"font-weight: bold; text-align: right;\"></th><th title = \"Union{Missing, Float64}\" style = \"text-align: left;\">Float64?</th><th title = \"Missing\" style = \"text-align: left;\">Missing</th></tr></thead><tbody><tr><td class = \"rowNumber\" style = \"font-weight: bold; text-align: right;\">1</td><td style = \"text-align: right;\">0.9241</td><td style = \"font-style: italic; text-align: right;\">missing</td></tr><tr><td class = \"rowNumber\" style = \"font-weight: bold; text-align: right;\">2</td><td style = \"text-align: right;\">0.8772</td><td style = \"font-style: italic; text-align: right;\">missing</td></tr><tr><td class = \"rowNumber\" style = \"font-weight: bold; text-align: right;\">3</td><td style = \"text-align: right;\">0.425</td><td style = \"font-style: italic; text-align: right;\">missing</td></tr><tr><td class = \"rowNumber\" style = \"font-weight: bold; text-align: right;\">4</td><td style = \"text-align: right;\">0.6776</td><td style = \"font-style: italic; text-align: right;\">missing</td></tr><tr><td class = \"rowNumber\" style = \"font-weight: bold; text-align: right;\">5</td><td style = \"text-align: right;\">0.5949</td><td style = \"font-style: italic; text-align: right;\">missing</td></tr><tr><td class = \"rowNumber\" style = \"font-weight: bold; text-align: right;\">6</td><td style = \"text-align: right;\">0.2596</td><td style = \"font-style: italic; text-align: right;\">missing</td></tr><tr><td class = \"rowNumber\" style = \"font-weight: bold; text-align: right;\">7</td><td style = \"text-align: right;\">0.032</td><td style = \"font-style: italic; text-align: right;\">missing</td></tr><tr><td class = \"rowNumber\" style = \"font-weight: bold; text-align: right;\">8</td><td style = \"text-align: right;\">0.4663</td><td style = \"font-style: italic; text-align: right;\">missing</td></tr><tr><td class = \"rowNumber\" style = \"font-weight: bold; text-align: right;\">9</td><td style = \"text-align: right;\">0.366</td><td style = \"font-style: italic; text-align: right;\">missing</td></tr><tr><td class = \"rowNumber\" style = \"font-weight: bold; text-align: right;\">10</td><td style = \"text-align: right;\">0.2345</td><td style = \"font-style: italic; text-align: right;\">missing</td></tr><tr><td class = \"rowNumber\" style = \"font-weight: bold; text-align: right;\">11</td><td style = \"text-align: right;\">0.8776</td><td style = \"font-style: italic; text-align: right;\">missing</td></tr><tr><td class = \"rowNumber\" style = \"font-weight: bold; text-align: right;\">12</td><td style = \"text-align: right;\">0.8842</td><td style = \"font-style: italic; text-align: right;\">missing</td></tr><tr><td class = \"rowNumber\" style = \"font-weight: bold; text-align: right;\">13</td><td style = \"text-align: right;\">0.7089</td><td style = \"font-style: italic; text-align: right;\">missing</td></tr><tr><td style = \"text-align: right;\">&vellip;</td><td style = \"text-align: right;\">&vellip;</td><td style = \"text-align: right;\">&vellip;</td></tr><tr><td class = \"rowNumber\" style = \"font-weight: bold; text-align: right;\">4415</td><td style = \"text-align: right;\">0.4583</td><td style = \"font-style: italic; text-align: right;\">missing</td></tr><tr><td class = \"rowNumber\" style = \"font-weight: bold; text-align: right;\">4416</td><td style = \"text-align: right;\">0.3654</td><td style = \"font-style: italic; text-align: right;\">missing</td></tr><tr><td class = \"rowNumber\" style = \"font-weight: bold; text-align: right;\">4417</td><td style = \"text-align: right;\">0.2375</td><td style = \"font-style: italic; text-align: right;\">missing</td></tr><tr><td class = \"rowNumber\" style = \"font-weight: bold; text-align: right;\">4418</td><td style = \"text-align: right;\">0.394</td><td style = \"font-style: italic; text-align: right;\">missing</td></tr><tr><td class = \"rowNumber\" style = \"font-weight: bold; text-align: right;\">4419</td><td style = \"text-align: right;\">0.807</td><td style = \"font-style: italic; text-align: right;\">missing</td></tr><tr><td class = \"rowNumber\" style = \"font-weight: bold; text-align: right;\">4420</td><td style = \"text-align: right;\">0.6188</td><td style = \"font-style: italic; text-align: right;\">missing</td></tr><tr><td class = \"rowNumber\" style = \"font-weight: bold; text-align: right;\">4421</td><td style = \"text-align: right;\">0.387</td><td style = \"font-style: italic; text-align: right;\">missing</td></tr><tr><td class = \"rowNumber\" style = \"font-weight: bold; text-align: right;\">4422</td><td style = \"text-align: right;\">0.4662</td><td style = \"font-style: italic; text-align: right;\">missing</td></tr><tr><td class = \"rowNumber\" style = \"font-weight: bold; text-align: right;\">4423</td><td style = \"text-align: right;\">0.4397</td><td style = \"font-style: italic; text-align: right;\">missing</td></tr><tr><td class = \"rowNumber\" style = \"font-weight: bold; text-align: right;\">4424</td><td style = \"text-align: right;\">0.4937</td><td style = \"font-style: italic; text-align: right;\">missing</td></tr><tr><td class = \"rowNumber\" style = \"font-weight: bold; text-align: right;\">4425</td><td style = \"text-align: right;\">0.4584</td><td style = \"font-style: italic; text-align: right;\">missing</td></tr><tr><td class = \"rowNumber\" style = \"font-weight: bold; text-align: right;\">4426</td><td style = \"text-align: right;\">0.4054</td><td style = \"font-style: italic; text-align: right;\">missing</td></tr></tbody></table></div>"
      ],
      "text/latex": [
       "\\begin{tabular}{r|cc}\n",
       "\t& ellipticity & ellipticity\\_s\\\\\n",
       "\t\\hline\n",
       "\t& Float64? & Missing\\\\\n",
       "\t\\hline\n",
       "\t1 & 0.9241 & \\emph{missing} \\\\\n",
       "\t2 & 0.8772 & \\emph{missing} \\\\\n",
       "\t3 & 0.425 & \\emph{missing} \\\\\n",
       "\t4 & 0.6776 & \\emph{missing} \\\\\n",
       "\t5 & 0.5949 & \\emph{missing} \\\\\n",
       "\t6 & 0.2596 & \\emph{missing} \\\\\n",
       "\t7 & 0.032 & \\emph{missing} \\\\\n",
       "\t8 & 0.4663 & \\emph{missing} \\\\\n",
       "\t9 & 0.366 & \\emph{missing} \\\\\n",
       "\t10 & 0.2345 & \\emph{missing} \\\\\n",
       "\t11 & 0.8776 & \\emph{missing} \\\\\n",
       "\t12 & 0.8842 & \\emph{missing} \\\\\n",
       "\t13 & 0.7089 & \\emph{missing} \\\\\n",
       "\t14 & 0.445 & \\emph{missing} \\\\\n",
       "\t15 & 0.5245 & \\emph{missing} \\\\\n",
       "\t16 & 0.8077 & \\emph{missing} \\\\\n",
       "\t17 & 0.8688 & \\emph{missing} \\\\\n",
       "\t18 & 0.4161 & \\emph{missing} \\\\\n",
       "\t19 & 0.5303 & \\emph{missing} \\\\\n",
       "\t20 & 0.7103 & \\emph{missing} \\\\\n",
       "\t21 & 0.6401 & \\emph{missing} \\\\\n",
       "\t22 & 0.485 & \\emph{missing} \\\\\n",
       "\t23 & 0.4754 & \\emph{missing} \\\\\n",
       "\t24 & 0.897 & \\emph{missing} \\\\\n",
       "\t25 & 0.856 & \\emph{missing} \\\\\n",
       "\t26 & 0.918 & \\emph{missing} \\\\\n",
       "\t27 & 0.8812 & \\emph{missing} \\\\\n",
       "\t28 & 0.8812 & \\emph{missing} \\\\\n",
       "\t29 & 0.8812 & \\emph{missing} \\\\\n",
       "\t30 & 0.3903 & \\emph{missing} \\\\\n",
       "\t$\\dots$ & $\\dots$ & $\\dots$ \\\\\n",
       "\\end{tabular}\n"
      ],
      "text/plain": [
       "\u001b[1m4426×2 DataFrame\u001b[0m\n",
       "\u001b[1m  Row \u001b[0m│\u001b[1m ellipticity \u001b[0m\u001b[1m ellipticity_s \u001b[0m\n",
       "      │\u001b[90m Float64?    \u001b[0m\u001b[90m Missing       \u001b[0m\n",
       "──────┼────────────────────────────\n",
       "    1 │      0.9241 \u001b[90m       missing \u001b[0m\n",
       "    2 │      0.8772 \u001b[90m       missing \u001b[0m\n",
       "    3 │      0.425  \u001b[90m       missing \u001b[0m\n",
       "    4 │      0.6776 \u001b[90m       missing \u001b[0m\n",
       "    5 │      0.5949 \u001b[90m       missing \u001b[0m\n",
       "    6 │      0.2596 \u001b[90m       missing \u001b[0m\n",
       "    7 │      0.032  \u001b[90m       missing \u001b[0m\n",
       "    8 │      0.4663 \u001b[90m       missing \u001b[0m\n",
       "    9 │      0.366  \u001b[90m       missing \u001b[0m\n",
       "   10 │      0.2345 \u001b[90m       missing \u001b[0m\n",
       "   11 │      0.8776 \u001b[90m       missing \u001b[0m\n",
       "  ⋮   │      ⋮             ⋮\n",
       " 4417 │      0.2375 \u001b[90m       missing \u001b[0m\n",
       " 4418 │      0.394  \u001b[90m       missing \u001b[0m\n",
       " 4419 │      0.807  \u001b[90m       missing \u001b[0m\n",
       " 4420 │      0.6188 \u001b[90m       missing \u001b[0m\n",
       " 4421 │      0.387  \u001b[90m       missing \u001b[0m\n",
       " 4422 │      0.4662 \u001b[90m       missing \u001b[0m\n",
       " 4423 │      0.4397 \u001b[90m       missing \u001b[0m\n",
       " 4424 │      0.4937 \u001b[90m       missing \u001b[0m\n",
       " 4425 │      0.4584 \u001b[90m       missing \u001b[0m\n",
       " 4426 │      0.4054 \u001b[90m       missing \u001b[0m\n",
       "\u001b[36m                  4405 rows omitted\u001b[0m"
      ]
     },
     "execution_count": 50,
     "metadata": {},
     "output_type": "execute_result"
    }
   ],
   "source": [
    "bp[!, [\"ellipticity\", \"ellipticity_s\"]]"
   ]
  },
  {
   "cell_type": "code",
   "execution_count": 51,
   "id": "0acc521b",
   "metadata": {},
   "outputs": [
    {
     "data": {
      "text/plain": [
       "StatsModels.TableRegressionModel{LinearModel{GLM.LmResp{Vector{Float64}}, GLM.DensePredChol{Float64, CholeskyPivoted{Float64, Matrix{Float64}, Vector{Int64}}}}, Matrix{Float64}}\n",
       "\n",
       "gini_diff_s ~ 1 + gini_walk15_s + area_difference_s + ellipticity + distance_betweenness_s\n",
       "\n",
       "Coefficients:\n",
       "────────────────────────────────────────────────────────────────────────────────────────\n",
       "                              Coef.  Std. Error       t  Pr(>|t|)   Lower 95%  Upper 95%\n",
       "────────────────────────────────────────────────────────────────────────────────────────\n",
       "(Intercept)             -0.411259     0.0398222  -10.33    <1e-23  -0.48933    -0.333187\n",
       "gini_walk15_s           -0.684684     0.0171141  -40.01    <1e-99  -0.718236   -0.651132\n",
       "area_difference_s        0.00718907   0.0136429    0.53    0.5983  -0.0195579   0.033936\n",
       "ellipticity              0.755645     0.0694055   10.89    <1e-26   0.619576    0.891715\n",
       "distance_betweenness_s  -0.574823     0.0168849  -34.04    <1e-99  -0.607926   -0.54172\n",
       "────────────────────────────────────────────────────────────────────────────────────────"
      ]
     },
     "execution_count": 51,
     "metadata": {},
     "output_type": "execute_result"
    }
   ],
   "source": [
    "# bp1_s=lm(gini_diff_s ~\n",
    "#          gini_walk15_s+\n",
    "#          area_difference_s +\n",
    "#          ellipticity_s+\n",
    "#          distance_betweenness_s,\n",
    "#        data=bp)\n",
    "bp1_s = lm(\n",
    "    @formula(gini_diff_s ~ gini_walk15_s + area_difference_s + ellipticity + distance_betweenness_s),\n",
    "    bp,\n",
    ")\n",
    "# TODO: ellipticity is not scaled"
   ]
  },
  {
   "cell_type": "code",
   "execution_count": 52,
   "id": "fc6b8a43",
   "metadata": {},
   "outputs": [
    {
     "data": {
      "text/plain": [
       "StatsModels.TableRegressionModel{LinearModel{GLM.LmResp{Vector{Float64}}, GLM.DensePredChol{Float64, CholeskyPivoted{Float64, Matrix{Float64}, Vector{Int64}}}}, Matrix{Float64}}\n",
       "\n",
       "gini_diff_house_s ~ 1 + gini_walk15_s + area_difference_s + ellipticity + distance_betweenness_s\n",
       "\n",
       "Coefficients:\n",
       "───────────────────────────────────────────────────────────────────────────────────────\n",
       "                             Coef.  Std. Error      t  Pr(>|t|)   Lower 95%   Upper 95%\n",
       "───────────────────────────────────────────────────────────────────────────────────────\n",
       "(Intercept)             -0.0221326   0.0458845  -0.48    0.6296  -0.112089    0.067824\n",
       "gini_walk15_s            0.136726    0.0197194   6.93    <1e-11   0.0980657   0.175386\n",
       "area_difference_s        0.0984996   0.0157198   6.27    <1e-09   0.0676809   0.129318\n",
       "ellipticity              0.0394678   0.0799714   0.49    0.6217  -0.117316    0.196252\n",
       "distance_betweenness_s  -0.122375    0.0194554  -6.29    <1e-09  -0.160517   -0.0842324\n",
       "───────────────────────────────────────────────────────────────────────────────────────"
      ]
     },
     "execution_count": 52,
     "metadata": {},
     "output_type": "execute_result"
    }
   ],
   "source": [
    "# bp2_s=lm(gini_diff_house_s ~\n",
    "#          gini_walk15_s+\n",
    "#            area_difference_s +\n",
    "#            ellipticity_s+\n",
    "#            distance_betweenness_s,\n",
    "#        data=bp)\n",
    "\n",
    "bp2_s = lm(\n",
    "    @formula(gini_diff_house_s ~ gini_walk15_s + area_difference_s + ellipticity + distance_betweenness_s),\n",
    "    bp,\n",
    ")"
   ]
  },
  {
   "cell_type": "code",
   "execution_count": 53,
   "id": "2d369090",
   "metadata": {},
   "outputs": [
    {
     "data": {
      "text/plain": [
       "StatsModels.TableRegressionModel{LinearModel{GLM.LmResp{Vector{Float64}}, GLM.DensePredChol{Float64, CholeskyPivoted{Float64, Matrix{Float64}, Vector{Int64}}}}, Matrix{Float64}}\n",
       "\n",
       "gini_diff_s ~ 1 + weighted_gini_walk_s + area_difference_s + ellipticity + distance_betweenness_s\n",
       "\n",
       "Coefficients:\n",
       "─────────────────────────────────────────────────────────────────────────────────────────\n",
       "                             Coef.  Std. Error       t  Pr(>|t|)    Lower 95%   Upper 95%\n",
       "─────────────────────────────────────────────────────────────────────────────────────────\n",
       "(Intercept)              0.0316899   0.0474353    0.67    0.5041  -0.0613234    0.124703\n",
       "weighted_gini_walk_s    -0.689386    0.0154458  -44.63    <1e-99  -0.719672    -0.659099\n",
       "area_difference_s        0.0350933   0.0151461    2.32    0.0206   0.00539406   0.0647925\n",
       "ellipticity             -0.0546742   0.0821672   -0.67    0.5059  -0.215792     0.106443\n",
       "distance_betweenness_s  -0.0679004   0.0159192   -4.27    <1e-04  -0.0991155   -0.0366852\n",
       "─────────────────────────────────────────────────────────────────────────────────────────"
      ]
     },
     "execution_count": 53,
     "metadata": {},
     "output_type": "execute_result"
    }
   ],
   "source": [
    "# helsinki1_s=lm(gini_diff_s ~\n",
    "#          weighted_gini_walk_s+\n",
    "#            area_difference_s +\n",
    "#            ellipticity_s+\n",
    "#            distance_betweenness_s,\n",
    "#        data=helsinki)\n",
    "helsinki1_s = lm(\n",
    "    @formula(gini_diff_s ~ weighted_gini_walk_s + area_difference_s + ellipticity + distance_betweenness_s),\n",
    "    helsinki,\n",
    ")\n"
   ]
  },
  {
   "cell_type": "code",
   "execution_count": 54,
   "id": "588b0bfd",
   "metadata": {},
   "outputs": [
    {
     "data": {
      "text/plain": [
       "StatsModels.TableRegressionModel{LinearModel{GLM.LmResp{Vector{Float64}}, GLM.DensePredChol{Float64, CholeskyPivoted{Float64, Matrix{Float64}, Vector{Int64}}}}, Matrix{Float64}}\n",
       "\n",
       "gini_diff_s ~ 1 + weighted_gini_walk_s + area_difference_s + ellipticity + distance_betweenness_s\n",
       "\n",
       "Coefficients:\n",
       "─────────────────────────────────────────────────────────────────────────────────────────\n",
       "                             Coef.  Std. Error       t  Pr(>|t|)   Lower 95%    Upper 95%\n",
       "─────────────────────────────────────────────────────────────────────────────────────────\n",
       "(Intercept)              0.0783355   0.0331863    2.36    0.0183   0.0132764   0.143395\n",
       "weighted_gini_walk_s    -0.47407     0.0124724  -38.01    <1e-99  -0.498521   -0.449619\n",
       "area_difference_s       -0.0173815   0.012516    -1.39    0.1650  -0.0419182   0.00715515\n",
       "ellipticity             -0.168333    0.064204    -2.62    0.0088  -0.2942     -0.0424666\n",
       "distance_betweenness_s  -0.172254    0.0126184  -13.65    <1e-40  -0.196991   -0.147517\n",
       "─────────────────────────────────────────────────────────────────────────────────────────"
      ]
     },
     "execution_count": 54,
     "metadata": {},
     "output_type": "execute_result"
    }
   ],
   "source": [
    "# madrid1_s=lm(gini_diff_s ~\n",
    "#          weighted_gini_walk_s+\n",
    "#            area_difference_s +\n",
    "#            ellipticity_s+\n",
    "#            distance_betweenness_s,\n",
    "#        data=madrid)\n",
    "\n",
    "madrid1_s = lm(\n",
    "    @formula(gini_diff_s ~ weighted_gini_walk_s + area_difference_s + ellipticity + distance_betweenness_s),\n",
    "    madrid,\n",
    ")"
   ]
  },
  {
   "cell_type": "code",
   "execution_count": 55,
   "id": "98055d47",
   "metadata": {},
   "outputs": [
    {
     "data": {
      "text/plain": [
       "StatsModels.TableRegressionModel{LinearModel{GLM.LmResp{Vector{Float64}}, GLM.DensePredChol{Float64, CholeskyPivoted{Float64, Matrix{Float64}, Vector{Int64}}}}, Matrix{Float64}}\n",
       "\n",
       "access_diff_s ~ 1 + walk_sum_s + area_difference_s + ellipticity + distance_betweenness_s\n",
       "\n",
       "Coefficients:\n",
       "─────────────────────────────────────────────────────────────────────────────────────────\n",
       "                             Coef.  Std. Error        t  Pr(>|t|)   Lower 95%   Upper 95%\n",
       "─────────────────────────────────────────────────────────────────────────────────────────\n",
       "(Intercept)              0.0595675  0.0174096      3.42    0.0006   0.0254358   0.0936991\n",
       "walk_sum_s              -0.962247   0.00610239  -157.68    <1e-99  -0.974211   -0.950283\n",
       "area_difference_s        0.0824736  0.00584239    14.12    <1e-43   0.0710195   0.0939276\n",
       "ellipticity             -0.108116   0.0303785     -3.56    0.0004  -0.167673   -0.0485591\n",
       "distance_betweenness_s  -0.0380835  0.00597319    -6.38    <1e-09  -0.0497939  -0.026373\n",
       "─────────────────────────────────────────────────────────────────────────────────────────"
      ]
     },
     "execution_count": 55,
     "metadata": {},
     "output_type": "execute_result"
    }
   ],
   "source": [
    "# bp1a_s=lm(access_diff_s ~\n",
    "#           walk_sum_s+\n",
    "#             area_difference_s +\n",
    "#             ellipticity_s+\n",
    "#             distance_betweenness_s,\n",
    "#         data=bp)\n",
    "bp1a_s = lm(\n",
    "    @formula(access_diff_s ~ walk_sum_s + area_difference_s + ellipticity + distance_betweenness_s),\n",
    "    bp,\n",
    ")\n"
   ]
  },
  {
   "cell_type": "code",
   "execution_count": 56,
   "id": "3c304d0d",
   "metadata": {},
   "outputs": [
    {
     "data": {
      "text/plain": [
       "StatsModels.TableRegressionModel{LinearModel{GLM.LmResp{Vector{Float64}}, GLM.DensePredChol{Float64, CholeskyPivoted{Float64, Matrix{Float64}, Vector{Int64}}}}, Matrix{Float64}}\n",
       "\n",
       "access_diff_s ~ 1 + walk_sum_s + area_difference_s + ellipticity + distance_betweenness_s\n",
       "\n",
       "Coefficients:\n",
       "───────────────────────────────────────────────────────────────────────────────────────\n",
       "                            Coef.  Std. Error       t  Pr(>|t|)   Lower 95%   Upper 95%\n",
       "───────────────────────────────────────────────────────────────────────────────────────\n",
       "(Intercept)             -0.114426   0.0342337   -3.34    0.0008  -0.181553   -0.0472991\n",
       "walk_sum_s              -0.912686   0.012194   -74.85    <1e-99  -0.936596   -0.888775\n",
       "area_difference_s        0.208431   0.0109341   19.06    <1e-75   0.18699     0.229871\n",
       "ellipticity              0.213731   0.0592982    3.60    0.0003   0.0974563   0.330006\n",
       "distance_betweenness_s  -0.12541    0.0124681  -10.06    <1e-22  -0.149858   -0.100962\n",
       "───────────────────────────────────────────────────────────────────────────────────────"
      ]
     },
     "execution_count": 56,
     "metadata": {},
     "output_type": "execute_result"
    }
   ],
   "source": [
    "# helsinki1a_s=lm(access_diff_s ~\n",
    "#           walk_sum_s+\n",
    "#             area_difference_s +\n",
    "#             ellipticity_s+\n",
    "#             distance_betweenness_s,\n",
    "#         data=helsinki)\n",
    "helsinki1a_s = lm(\n",
    "    @formula(access_diff_s ~ walk_sum_s + area_difference_s + ellipticity + distance_betweenness_s),\n",
    "    helsinki,\n",
    ")"
   ]
  },
  {
   "cell_type": "code",
   "execution_count": 57,
   "id": "c36f3522",
   "metadata": {},
   "outputs": [
    {
     "data": {
      "text/plain": [
       "StatsModels.TableRegressionModel{LinearModel{GLM.LmResp{Vector{Float64}}, GLM.DensePredChol{Float64, CholeskyPivoted{Float64, Matrix{Float64}, Vector{Int64}}}}, Matrix{Float64}}\n",
       "\n",
       "access_diff_s ~ 1 + walk_sum_s + area_difference_s + ellipticity + distance_betweenness_s\n",
       "\n",
       "Coefficients:\n",
       "─────────────────────────────────────────────────────────────────────────────────────────\n",
       "                             Coef.  Std. Error       t  Pr(>|t|)   Lower 95%    Upper 95%\n",
       "─────────────────────────────────────────────────────────────────────────────────────────\n",
       "(Intercept)             -0.0444625  0.026322     -1.69    0.0912  -0.0960648   0.00713968\n",
       "walk_sum_s              -0.779955   0.0111398   -70.02    <1e-99  -0.801793   -0.758116\n",
       "area_difference_s        0.177807   0.00987951   18.00    <1e-69   0.158439    0.197175\n",
       "ellipticity              0.115347   0.0509664     2.26    0.0237   0.0154318   0.215263\n",
       "distance_betweenness_s  -0.143105   0.0107379   -13.33    <1e-39  -0.164155   -0.122054\n",
       "─────────────────────────────────────────────────────────────────────────────────────────"
      ]
     },
     "execution_count": 57,
     "metadata": {},
     "output_type": "execute_result"
    }
   ],
   "source": [
    "# madrid1a_s=lm(access_diff_s ~\n",
    "#           walk_sum_s+\n",
    "#             area_difference_s +\n",
    "#             ellipticity_s+\n",
    "#             distance_betweenness_s,\n",
    "#         data=madrid)\n",
    "\n",
    "madrid1a_s = lm(\n",
    "    @formula(access_diff_s ~ walk_sum_s + area_difference_s + ellipticity + distance_betweenness_s),\n",
    "    madrid,\n",
    ")"
   ]
  },
  {
   "cell_type": "code",
   "execution_count": 58,
   "id": "b9e61902",
   "metadata": {},
   "outputs": [
    {
     "data": {
      "text/plain": [
       "\n",
       "--------------------------------------------------------------------------------------------------------------------\n",
       "                                   access_diff_s                  gini_diff_s        gini_diff_house_s   gini_diff_s\n",
       "                         ---------------------------------   ---------------------   -----------------   -----------\n",
       "                               (1)         (2)         (3)         (4)         (5)                 (6)           (7)\n",
       "--------------------------------------------------------------------------------------------------------------------\n",
       "(Intercept)              -0.114***      -0.044    0.060***       0.032      0.078*              -0.022     -0.411***\n",
       "                           (0.034)     (0.026)     (0.017)     (0.047)     (0.033)             (0.046)       (0.040)\n",
       "walk_sum_s               -0.913***   -0.780***   -0.962***                                                          \n",
       "                           (0.012)     (0.011)     (0.006)                                                          \n",
       "area_difference_s         0.208***    0.178***    0.082***      0.035*      -0.017            0.098***         0.007\n",
       "                           (0.011)     (0.010)     (0.006)     (0.015)     (0.013)             (0.016)       (0.014)\n",
       "ellipticity               0.214***      0.115*   -0.108***      -0.055    -0.168**               0.039      0.756***\n",
       "                           (0.059)     (0.051)     (0.030)     (0.082)     (0.064)             (0.080)       (0.069)\n",
       "distance_betweenness_s   -0.125***   -0.143***   -0.038***   -0.068***   -0.172***           -0.122***     -0.575***\n",
       "                           (0.012)     (0.011)     (0.006)     (0.016)     (0.013)             (0.019)       (0.017)\n",
       "weighted_gini_walk_s                                         -0.689***   -0.474***                                  \n",
       "                                                               (0.015)     (0.012)                                  \n",
       "gini_walk15_s                                                                                 0.137***     -0.685***\n",
       "                                                                                               (0.020)       (0.017)\n",
       "--------------------------------------------------------------------------------------------------------------------\n",
       "N                            2,694       5,212       4,424       2,694       5,212               4,424         4,424\n",
       "R2                           0.706       0.515       0.870       0.439       0.221               0.073         0.303\n",
       "--------------------------------------------------------------------------------------------------------------------\n",
       "\n"
      ]
     },
     "execution_count": 58,
     "metadata": {},
     "output_type": "execute_result"
    }
   ],
   "source": [
    "# stargazer(helsinki1a_s, madrid1a_s, bp1a_s,helsinki1_s, madrid1_s, bp2_s, bp1_s,\n",
    "#           type=\"latex\",\n",
    "#           style=\"aer\",\n",
    "#           column.labels = c(\"Helsinki - Access\", \"Madrid - Access\",\n",
    "#                             \"BP - Access\",\n",
    "#                             \"Helsinki - Gini\", \"Madrid - Gini\",\n",
    "#                             \"BP residential - Gini\",\n",
    "#                             \"BP experienced - Gini\"),\n",
    "#           dep.var.labels.include = F,\n",
    "#           out=\"SI_Reg_5_s.tex\")\n",
    "regtable(\n",
    "    helsinki1a_s, madrid1a_s, bp1a_s,helsinki1_s, madrid1_s, bp2_s, bp1_s;\n",
    "    render = AsciiTable(),\n",
    "    file=\"$(output)/SI_Reg_5_s.txt\"\n",
    ")"
   ]
  },
  {
   "cell_type": "markdown",
   "id": "3494c67d",
   "metadata": {},
   "source": [
    "# 4.4 interplots"
   ]
  },
  {
   "cell_type": "code",
   "execution_count": 59,
   "id": "5f0d2e2f",
   "metadata": {},
   "outputs": [
    {
     "data": {
      "text/plain": [
       "StatsModels.TableRegressionModel{LinearModel{GLM.LmResp{Vector{Float64}}, GLM.DensePredChol{Float64, CholeskyPivoted{Float64, Matrix{Float64}, Vector{Int64}}}}, Matrix{Float64}}\n",
       "\n",
       ":(gini_multimodal - gini_walk15) ~ 1 + gini_walk15 + area_difference + distance_betweenness + ellipticity + distance_betweenness & ellipticity\n",
       "\n",
       "Coefficients:\n",
       "───────────────────────────────────────────────────────────────────────────────────────────────────────────\n",
       "                                           Coef.   Std. Error       t  Pr(>|t|)     Lower 95%     Upper 95%\n",
       "───────────────────────────────────────────────────────────────────────────────────────────────────────────\n",
       "(Intercept)                          0.0769461    0.0028897     26.63    <1e-99   0.0712808     0.0826113\n",
       "gini_walk15                         -0.343872     0.00877031   -39.21    <1e-99  -0.361066     -0.326678\n",
       "area_difference                      6.55563e-5   0.000132794    0.49    0.6216  -0.000194786   0.000325898\n",
       "distance_betweenness                -0.00350004   0.000260644  -13.43    <1e-39  -0.00401103   -0.00298905\n",
       "ellipticity                          0.0140156    0.00335697     4.18    <1e-04   0.00743429    0.020597\n",
       "distance_betweenness & ellipticity   0.000289977  0.000410049    0.71    0.4795  -0.000513925   0.00109388\n",
       "───────────────────────────────────────────────────────────────────────────────────────────────────────────"
      ]
     },
     "execution_count": 59,
     "metadata": {},
     "output_type": "execute_result"
    }
   ],
   "source": [
    "# bp1i=lm(gini_multimodal-gini_walk15 ~\n",
    "#          gini_walk15+\n",
    "#          area_difference+\n",
    "#          distance_betweenness*ellipticity,\n",
    "#        data=bp)\n",
    "bp1i = lm(\n",
    "    @formula(gini_multimodal - gini_walk15 ~ gini_walk15 + area_difference + (distance_betweenness * ellipticity)),\n",
    "    bp,\n",
    ")\n"
   ]
  },
  {
   "cell_type": "code",
   "execution_count": 60,
   "id": "30edec24",
   "metadata": {},
   "outputs": [
    {
     "data": {
      "text/plain": [
       "StatsModels.TableRegressionModel{LinearModel{GLM.LmResp{Vector{Float64}}, GLM.DensePredChol{Float64, CholeskyPivoted{Float64, Matrix{Float64}, Vector{Int64}}}}, Matrix{Float64}}\n",
       "\n",
       ":(gini_house_multimodal - gini_house_walk15) ~ 1 + gini_walk15 + area_difference + distance_betweenness + ellipticity + distance_betweenness & ellipticity\n",
       "\n",
       "Coefficients:\n",
       "────────────────────────────────────────────────────────────────────────────────────────────────────────\n",
       "                                          Coef.   Std. Error      t  Pr(>|t|)     Lower 95%    Upper 95%\n",
       "────────────────────────────────────────────────────────────────────────────────────────────────────────\n",
       "(Intercept)                          0.0129844   0.00446083    2.91    0.0036   0.00423894    0.0217299\n",
       "gini_walk15                          0.0818347   0.0135387     6.04    <1e-08   0.055292      0.108377\n",
       "area_difference                      0.00125257  0.000204993   6.11    <1e-08   0.000850685   0.00165446\n",
       "distance_betweenness                -0.00221231  0.000402356  -5.50    <1e-07  -0.00300113   -0.00142349\n",
       "ellipticity                         -0.0145949   0.00518216   -2.82    0.0049  -0.0247545    -0.00443525\n",
       "distance_betweenness & ellipticity   0.00214119  0.000632993   3.38    0.0007   0.000900205   0.00338217\n",
       "────────────────────────────────────────────────────────────────────────────────────────────────────────"
      ]
     },
     "execution_count": 60,
     "metadata": {},
     "output_type": "execute_result"
    }
   ],
   "source": [
    "# bp2i=lm(gini_house_multimodal-gini_house_walk15 ~\n",
    "#          gini_walk15+\n",
    "#          area_difference+\n",
    "#          distance_betweenness*ellipticity,\n",
    "#        data=bp)\n",
    "# TODO: biztos gini_walk15?\n",
    "\n",
    "bp2i = lm(\n",
    "    @formula(gini_house_multimodal - gini_house_walk15 ~ gini_walk15 + area_difference + (distance_betweenness * ellipticity)),\n",
    "    bp,\n",
    ")"
   ]
  },
  {
   "cell_type": "code",
   "execution_count": 61,
   "id": "218a01ec",
   "metadata": {},
   "outputs": [
    {
     "data": {
      "text/plain": [
       "StatsModels.TableRegressionModel{LinearModel{GLM.LmResp{Vector{Float64}}, GLM.DensePredChol{Float64, CholeskyPivoted{Float64, Matrix{Float64}, Vector{Int64}}}}, Matrix{Float64}}\n",
       "\n",
       ":(weighted_gini_multi - weighted_gini_walk) ~ 1 + weighted_gini_walk + area_difference + distance_betweenness + ellipticity + distance_betweenness & ellipticity\n",
       "\n",
       "Coefficients:\n",
       "─────────────────────────────────────────────────────────────────────────────────────────────────────────\n",
       "                                          Coef.   Std. Error       t  Pr(>|t|)    Lower 95%     Upper 95%\n",
       "─────────────────────────────────────────────────────────────────────────────────────────────────────────\n",
       "(Intercept)                          0.139096    0.00319414    43.55    <1e-99   0.132833     0.145359\n",
       "weighted_gini_walk                  -0.424457    0.00953368   -44.52    <1e-99  -0.443151    -0.405763\n",
       "area_difference                      0.00013149  5.78457e-5     2.27    0.0231   1.80634e-5   0.000244916\n",
       "distance_betweenness                -0.00111175  0.000190631   -5.83    <1e-08  -0.00148555  -0.000737948\n",
       "ellipticity                         -0.00959487  0.0021162     -4.53    <1e-05  -0.0137444   -0.00544532\n",
       "distance_betweenness & ellipticity   0.00153479  0.000322176    4.76    <1e-05   0.00090305   0.00216652\n",
       "─────────────────────────────────────────────────────────────────────────────────────────────────────────"
      ]
     },
     "execution_count": 61,
     "metadata": {},
     "output_type": "execute_result"
    }
   ],
   "source": [
    "# helsinki1i=lm(weighted_gini_multi-weighted_gini_walk ~\n",
    "#                weighted_gini_walk+\n",
    "#                area_difference+\n",
    "#                distance_betweenness*ellipticity,\n",
    "#              data=helsinki)\n",
    "\n",
    "helsinki1i = lm(\n",
    "    @formula(weighted_gini_multi - weighted_gini_walk ~ weighted_gini_walk + area_difference + (distance_betweenness * ellipticity)),\n",
    "    helsinki,\n",
    ")"
   ]
  },
  {
   "cell_type": "code",
   "execution_count": 62,
   "id": "9a99ea02",
   "metadata": {},
   "outputs": [
    {
     "data": {
      "text/plain": [
       "StatsModels.TableRegressionModel{LinearModel{GLM.LmResp{Vector{Float64}}, GLM.DensePredChol{Float64, CholeskyPivoted{Float64, Matrix{Float64}, Vector{Int64}}}}, Matrix{Float64}}\n",
       "\n",
       ":(weighted_gini_multi - weighted_gini_walk) ~ 1 + weighted_gini_walk + area_difference + distance_betweenness + ellipticity + distance_betweenness & ellipticity\n",
       "\n",
       "Coefficients:\n",
       "────────────────────────────────────────────────────────────────────────────────────────────────────\n",
       "                                         Coef.  Std. Error       t  Pr(>|t|)   Lower 95%   Upper 95%\n",
       "────────────────────────────────────────────────────────────────────────────────────────────────────\n",
       "(Intercept)                          6.85606    0.208099     32.95    <1e-99   6.4481      7.26403\n",
       "weighted_gini_walk                  -0.183401   0.00481652  -38.08    <1e-99  -0.192843   -0.173958\n",
       "area_difference                     -0.0166833  0.0103672    -1.61    0.1076  -0.0370073   0.0036407\n",
       "distance_betweenness                -0.138487   0.0147861    -9.37    <1e-19  -0.167474   -0.109501\n",
       "ellipticity                         -0.942747   0.189484     -4.98    <1e-06  -1.31422    -0.571279\n",
       "distance_betweenness & ellipticity   0.113247   0.0266506     4.25    <1e-04   0.0610008   0.165494\n",
       "────────────────────────────────────────────────────────────────────────────────────────────────────"
      ]
     },
     "execution_count": 62,
     "metadata": {},
     "output_type": "execute_result"
    }
   ],
   "source": [
    "# madrid1i=lm(weighted_gini_multi-weighted_gini_walk ~\n",
    "#              weighted_gini_walk+\n",
    "#              area_difference+\n",
    "#              distance_betweenness*ellipticity,\n",
    "#            data=madrid)\n",
    "\n",
    "madrid1i = lm(\n",
    "    @formula(weighted_gini_multi - weighted_gini_walk ~ weighted_gini_walk + area_difference + (distance_betweenness * ellipticity)),\n",
    "    madrid,\n",
    ")\n"
   ]
  },
  {
   "cell_type": "code",
   "execution_count": 63,
   "id": "a13d66c8",
   "metadata": {},
   "outputs": [
    {
     "data": {
      "text/plain": [
       "StatsModels.TableRegressionModel{LinearModel{GLM.LmResp{Vector{Float64}}, GLM.DensePredChol{Float64, CholeskyPivoted{Float64, Matrix{Float64}, Vector{Int64}}}}, Matrix{Float64}}\n",
       "\n",
       ":(multimod_sum - walk_sum) ~ 1 + walk_sum + area_difference + distance_betweenness + ellipticity + distance_betweenness & ellipticity\n",
       "\n",
       "Coefficients:\n",
       "─────────────────────────────────────────────────────────────────────────────────────────────────────\n",
       "                                         Coef.  Std. Error        t  Pr(>|t|)   Lower 95%   Upper 95%\n",
       "─────────────────────────────────────────────────────────────────────────────────────────────────────\n",
       "(Intercept)                          7.43006    0.0717552    103.55    <1e-99   7.28939     7.57074\n",
       "walk_sum                            -0.882381   0.00554515  -159.13    <1e-99  -0.893252   -0.87151\n",
       "area_difference                      0.0558518  0.0036609     15.26    <1e-50   0.0486746   0.063029\n",
       "distance_betweenness                 0.05195    0.00648853     8.01    <1e-14   0.0392293   0.0646708\n",
       "ellipticity                          0.735223   0.0914678      8.04    <1e-14   0.5559      0.914546\n",
       "distance_betweenness & ellipticity  -0.122727   0.0112879    -10.87    <1e-26  -0.144857   -0.100597\n",
       "─────────────────────────────────────────────────────────────────────────────────────────────────────"
      ]
     },
     "execution_count": 63,
     "metadata": {},
     "output_type": "execute_result"
    }
   ],
   "source": [
    "# bp1ai=lm(multimod_sum-walk_sum ~\n",
    "#           walk_sum+\n",
    "#           area_difference+\n",
    "#           distance_betweenness*ellipticity,\n",
    "#         data=bp)\n",
    "bp1ai = lm(\n",
    "    @formula(multimod_sum - walk_sum ~ walk_sum + area_difference + (distance_betweenness * ellipticity)),\n",
    "    bp,\n",
    ")"
   ]
  },
  {
   "cell_type": "code",
   "execution_count": 64,
   "id": "67ce75ef",
   "metadata": {},
   "outputs": [
    {
     "data": {
      "text/plain": [
       "StatsModels.TableRegressionModel{LinearModel{GLM.LmResp{Vector{Float64}}, GLM.DensePredChol{Float64, CholeskyPivoted{Float64, Matrix{Float64}, Vector{Int64}}}}, Matrix{Float64}}\n",
       "\n",
       ":(multimod_sum - walk_sum) ~ 1 + walk_sum + area_difference + distance_betweenness + ellipticity + distance_betweenness & ellipticity\n",
       "\n",
       "Coefficients:\n",
       "─────────────────────────────────────────────────────────────────────────────────────────────────────\n",
       "                                         Coef.  Std. Error       t  Pr(>|t|)   Lower 95%    Upper 95%\n",
       "─────────────────────────────────────────────────────────────────────────────────────────────────────\n",
       "(Intercept)                          6.37753    0.124224     51.34    <1e-99   6.13394     6.62111\n",
       "walk_sum                            -0.754734   0.0100878   -74.82    <1e-99  -0.774514   -0.734953\n",
       "area_difference                      0.08313    0.00435956   19.07    <1e-75   0.0745816   0.0916785\n",
       "distance_betweenness                -0.0360374  0.0144491    -2.49    0.0127  -0.06437    -0.00770485\n",
       "ellipticity                          0.38068    0.159365      2.39    0.0170   0.0681895   0.693171\n",
       "distance_betweenness & ellipticity  -0.0197994  0.0242645    -0.82    0.4146  -0.0673783   0.0277795\n",
       "─────────────────────────────────────────────────────────────────────────────────────────────────────"
      ]
     },
     "execution_count": 64,
     "metadata": {},
     "output_type": "execute_result"
    }
   ],
   "source": [
    "# helsinki1ai=lm(multimod_sum-walk_sum ~\n",
    "#                 walk_sum+\n",
    "#                 area_difference+\n",
    "#                 distance_betweenness*ellipticity,\n",
    "#               data=helsinki)\n",
    "\n",
    "helsinki1ai = lm(\n",
    "    @formula(multimod_sum - walk_sum ~ walk_sum + area_difference + (distance_betweenness * ellipticity)),\n",
    "    helsinki,\n",
    ")"
   ]
  },
  {
   "cell_type": "code",
   "execution_count": 65,
   "id": "178b11ba",
   "metadata": {},
   "outputs": [
    {
     "data": {
      "text/plain": [
       "StatsModels.TableRegressionModel{LinearModel{GLM.LmResp{Vector{Float64}}, GLM.DensePredChol{Float64, CholeskyPivoted{Float64, Matrix{Float64}, Vector{Int64}}}}, Matrix{Float64}}\n",
       "\n",
       ":(multimod_sum - walk_sum) ~ 1 + walk_sum + area_difference + distance_betweenness + ellipticity + distance_betweenness & ellipticity\n",
       "\n",
       "Coefficients:\n",
       "────────────────────────────────────────────────────────────────────────────────────────────────────\n",
       "                                         Coef.  Std. Error       t  Pr(>|t|)   Lower 95%   Upper 95%\n",
       "────────────────────────────────────────────────────────────────────────────────────────────────────\n",
       "(Intercept)                          5.01715    0.0888237    56.48    <1e-99   4.84302     5.19128\n",
       "walk_sum                            -0.573719   0.00821222  -69.86    <1e-99  -0.589818   -0.557619\n",
       "area_difference                      0.0927186  0.00510738   18.15    <1e-70   0.082706    0.102731\n",
       "distance_betweenness                -0.0241548  0.0069557    -3.47    0.0005  -0.0377909  -0.0105187\n",
       "ellipticity                          0.326061   0.0911037     3.58    0.0003   0.14746     0.504663\n",
       "distance_betweenness & ellipticity  -0.0367035  0.0128482    -2.86    0.0043  -0.0618914  -0.0115156\n",
       "────────────────────────────────────────────────────────────────────────────────────────────────────"
      ]
     },
     "execution_count": 65,
     "metadata": {},
     "output_type": "execute_result"
    }
   ],
   "source": [
    "# madrid1ai=lm(multimod_sum-walk_sum ~\n",
    "#               walk_sum+\n",
    "#               area_difference+\n",
    "#               distance_betweenness*ellipticity,\n",
    "#             data=madrid)\n",
    "madrid1ai = lm(\n",
    "    @formula(multimod_sum - walk_sum ~ walk_sum + area_difference + (distance_betweenness * ellipticity)),\n",
    "    madrid,\n",
    ")"
   ]
  },
  {
   "cell_type": "code",
   "execution_count": 66,
   "id": "ec97aca3",
   "metadata": {},
   "outputs": [
    {
     "data": {
      "text/plain": [
       "StatsModels.TableRegressionModel{LinearModel{GLM.LmResp{Vector{Float64}}, GLM.DensePredChol{Float64, CholeskyPivoted{Float64, Matrix{Float64}, Vector{Int64}}}}, Matrix{Float64}}\n",
       "\n",
       ":(gini_multimodal - gini_walk15) ~ 1 + gini_walk15 + area_difference + distance_betweenness + ellipticity + distance_betweenness & ellipticity\n",
       "\n",
       "Coefficients:\n",
       "───────────────────────────────────────────────────────────────────────────────────────────────────────────\n",
       "                                           Coef.   Std. Error       t  Pr(>|t|)     Lower 95%     Upper 95%\n",
       "───────────────────────────────────────────────────────────────────────────────────────────────────────────\n",
       "(Intercept)                          0.0769461    0.0028897     26.63    <1e-99   0.0712808     0.0826113\n",
       "gini_walk15                         -0.343872     0.00877031   -39.21    <1e-99  -0.361066     -0.326678\n",
       "area_difference                      6.55563e-5   0.000132794    0.49    0.6216  -0.000194786   0.000325898\n",
       "distance_betweenness                -0.00350004   0.000260644  -13.43    <1e-39  -0.00401103   -0.00298905\n",
       "ellipticity                          0.0140156    0.00335697     4.18    <1e-04   0.00743429    0.020597\n",
       "distance_betweenness & ellipticity   0.000289977  0.000410049    0.71    0.4795  -0.000513925   0.00109388\n",
       "───────────────────────────────────────────────────────────────────────────────────────────────────────────"
      ]
     },
     "execution_count": 66,
     "metadata": {},
     "output_type": "execute_result"
    }
   ],
   "source": [
    "bp1i"
   ]
  },
  {
   "cell_type": "code",
   "execution_count": 67,
   "id": "825c6af5",
   "metadata": {},
   "outputs": [
    {
     "data": {
      "text/plain": [
       "6-element Vector{Float64}:\n",
       "  0.07128078892301157\n",
       " -0.36106609925155575\n",
       " -0.00019478571770440497\n",
       " -0.004011034374749469\n",
       "  0.007434291938154646\n",
       " -0.0005139248061993861"
      ]
     },
     "execution_count": 67,
     "metadata": {},
     "output_type": "execute_result"
    }
   ],
   "source": [
    "GLM.coeftable(bp1i).cols[5]"
   ]
  },
  {
   "cell_type": "code",
   "execution_count": 68,
   "id": "715509b7",
   "metadata": {},
   "outputs": [
    {
     "data": {
      "text/plain": [
       "model_to_df (generic function with 1 method)"
      ]
     },
     "execution_count": 68,
     "metadata": {},
     "output_type": "execute_result"
    }
   ],
   "source": [
    "function model_to_df(model)\n",
    "    return DataFrame(\n",
    "        coef_name=GLM.coefnames(model),\n",
    "        coef=GLM.coef(model),\n",
    "        std_error=GLM.stderror(model),\n",
    "        t=GLM.coeftable(model).cols[3],\n",
    "        pr=GLM.coeftable(model).cols[4],\n",
    "        lower=GLM.confint(model)[:,1],\n",
    "        upper=GLM.confint(model)[:,2],\n",
    "    )\n",
    "end"
   ]
  },
  {
   "cell_type": "code",
   "execution_count": 69,
   "id": "5999e078",
   "metadata": {},
   "outputs": [
    {
     "data": {
      "text/plain": [
       "\"bp1i.csv\""
      ]
     },
     "execution_count": 69,
     "metadata": {},
     "output_type": "execute_result"
    }
   ],
   "source": [
    "CSV.write(\"bp1i.csv\", model_to_df(bp1i))"
   ]
  },
  {
   "cell_type": "code",
   "execution_count": 70,
   "id": "e219266a",
   "metadata": {},
   "outputs": [
    {
     "data": {
      "text/plain": [
       "-4.905531931974099e-5"
      ]
     },
     "execution_count": 70,
     "metadata": {},
     "output_type": "execute_result"
    }
   ],
   "source": [
    "coef(bp1i)[4] * coef(bp1i)[5]"
   ]
  },
  {
   "cell_type": "markdown",
   "id": "8ffb3350",
   "metadata": {},
   "source": [
    "# 4.6 Consider socio-economic status of walking area - interactions"
   ]
  },
  {
   "cell_type": "code",
   "execution_count": 71,
   "id": "a48b9e7b",
   "metadata": {},
   "outputs": [
    {
     "data": {
      "text/plain": [
       "StatsModels.TableRegressionModel{LinearModel{GLM.LmResp{Vector{Float64}}, GLM.DensePredChol{Float64, CholeskyPivoted{Float64, Matrix{Float64}, Vector{Int64}}}}, Matrix{Float64}}\n",
       "\n",
       ":(gini_multimodal - gini_walk15) ~ 1 + gini_walk15 + area_difference + ellipticity + distance_betweenness + area_difference & ellipticity + distance_betweenness & ellipticity\n",
       "\n",
       "Coefficients:\n",
       "───────────────────────────────────────────────────────────────────────────────────────────────────────────\n",
       "                                           Coef.   Std. Error       t  Pr(>|t|)     Lower 95%     Upper 95%\n",
       "───────────────────────────────────────────────────────────────────────────────────────────────────────────\n",
       "(Intercept)                          0.0686989    0.00381121    18.03    <1e-67   0.0612249     0.0761728\n",
       "gini_walk15                         -0.278827     0.0117163    -23.80    <1e-99  -0.301803     -0.255851\n",
       "area_difference                     -0.000522479  0.000414833   -1.26    0.2080  -0.00133598    0.000291025\n",
       "ellipticity                          0.0143653    0.00454612     3.16    0.0016   0.00545019    0.0232804\n",
       "distance_betweenness                -0.00338383   0.000369104   -9.17    <1e-18  -0.00410766   -0.00266\n",
       "area_difference & ellipticity        0.000633572  0.000779031    0.81    0.4161  -0.000894139   0.00216128\n",
       "distance_betweenness & ellipticity  -0.00109791   0.000675114   -1.63    0.1040  -0.00242184    0.000226013\n",
       "───────────────────────────────────────────────────────────────────────────────────────────────────────────"
      ]
     },
     "execution_count": 71,
     "metadata": {},
     "output_type": "execute_result"
    }
   ],
   "source": [
    "# bp1_l=lm(gini_multimodal-gini_walk15 ~\n",
    "#            #area+\n",
    "#            gini_walk15+\n",
    "#            area_difference*ellipticity+\n",
    "#            distance_betweenness*ellipticity,\n",
    "#          data=bp[bp$arpu_low_ratio_walk15>\n",
    "#                    median(bp$arpu_low_ratio_walk15),])\n",
    "\n",
    "bp1_l = lm(@formula(\n",
    "    gini_multimodal - gini_walk15 ~ gini_walk15 +( area_difference * ellipticity) + (distance_betweenness * ellipticity)),\n",
    "    filter(row -> row.arpu_low_ratio_walk15 > median(bp.arpu_low_ratio_walk15), bp),\n",
    ")\n"
   ]
  },
  {
   "cell_type": "code",
   "execution_count": 72,
   "id": "be86b94e",
   "metadata": {},
   "outputs": [
    {
     "data": {
      "text/plain": [
       "StatsModels.TableRegressionModel{LinearModel{GLM.LmResp{Vector{Float64}}, GLM.DensePredChol{Float64, CholeskyPivoted{Float64, Matrix{Float64}, Vector{Int64}}}}, Matrix{Float64}}\n",
       "\n",
       ":(gini_multimodal - gini_walk15) ~ 1 + gini_walk15 + area_difference + ellipticity + distance_betweenness + area_difference & ellipticity + distance_betweenness & ellipticity\n",
       "\n",
       "Coefficients:\n",
       "──────────────────────────────────────────────────────────────────────────────────────────────────────────\n",
       "                                          Coef.   Std. Error       t  Pr(>|t|)     Lower 95%     Upper 95%\n",
       "──────────────────────────────────────────────────────────────────────────────────────────────────────────\n",
       "(Intercept)                          0.088133    0.00520573    16.93    <1e-59   0.0779244     0.0983417\n",
       "gini_walk15                         -0.669236    0.0179922    -37.20    <1e-99  -0.70452      -0.633953\n",
       "area_difference                     -0.00156783  0.000649282   -2.41    0.0158  -0.0028411    -0.000294561\n",
       "ellipticity                          0.0610147   0.0071344      8.55    <1e-16   0.0470238     0.0750055\n",
       "distance_betweenness                 8.65611e-5  0.000467931    0.18    0.8533  -0.00083107    0.00100419\n",
       "area_difference & ellipticity        0.00263064  0.0010559      2.49    0.0128   0.000559984   0.00470129\n",
       "distance_betweenness & ellipticity  -0.00512157  0.000735258   -6.97    <1e-11  -0.00656344   -0.0036797\n",
       "──────────────────────────────────────────────────────────────────────────────────────────────────────────"
      ]
     },
     "execution_count": 72,
     "metadata": {},
     "output_type": "execute_result"
    }
   ],
   "source": [
    "# bp1_h=lm(gini_multimodal-gini_walk15 ~\n",
    "#            #area+\n",
    "#            gini_walk15+\n",
    "#            area_difference*ellipticity+\n",
    "#            distance_betweenness*ellipticity,\n",
    "#          data=bp[bp$arpu_low_ratio_walk15<\n",
    "#                    median(bp$arpu_low_ratio_walk15),])\n",
    "\n",
    "bp1_h = lm(@formula(\n",
    "    gini_multimodal - gini_walk15 ~ gini_walk15 +( area_difference * ellipticity) + (distance_betweenness * ellipticity)),\n",
    "    filter(row -> row.arpu_low_ratio_walk15 < median(bp.arpu_low_ratio_walk15), bp),\n",
    ")"
   ]
  },
  {
   "cell_type": "code",
   "execution_count": 73,
   "id": "179518a8",
   "metadata": {},
   "outputs": [
    {
     "data": {
      "text/plain": [
       "StatsModels.TableRegressionModel{LinearModel{GLM.LmResp{Vector{Float64}}, GLM.DensePredChol{Float64, CholeskyPivoted{Float64, Matrix{Float64}, Vector{Int64}}}}, Matrix{Float64}}\n",
       "\n",
       ":(gini_house_multimodal - gini_house_walk15) ~ 1 + gini_walk15 + area_difference + ellipticity + distance_betweenness + area_difference & ellipticity + distance_betweenness & ellipticity\n",
       "\n",
       "Coefficients:\n",
       "───────────────────────────────────────────────────────────────────────────────────────────────────────\n",
       "                                          Coef.   Std. Error      t  Pr(>|t|)    Lower 95%    Upper 95%\n",
       "───────────────────────────────────────────────────────────────────────────────────────────────────────\n",
       "(Intercept)                          0.0256038   0.00852649    3.00    0.0027   0.00888209   0.0423255\n",
       "gini_walk15                          0.212224    0.0290083     7.32    <1e-12   0.155335     0.269114\n",
       "area_difference                     -0.0049139   0.00101796   -4.83    <1e-05  -0.00691027  -0.00291754\n",
       "ellipticity                         -0.0527242   0.01233      -4.28    <1e-04  -0.0769051   -0.0285434\n",
       "distance_betweenness                -0.0039101   0.000697425  -5.61    <1e-07  -0.00527785  -0.00254235\n",
       "area_difference & ellipticity        0.00853436  0.00176131    4.85    <1e-05   0.00508018   0.0119886\n",
       "distance_betweenness & ellipticity   0.00491803  0.00114113    4.31    <1e-04   0.00268011   0.00715595\n",
       "───────────────────────────────────────────────────────────────────────────────────────────────────────"
      ]
     },
     "execution_count": 73,
     "metadata": {},
     "output_type": "execute_result"
    }
   ],
   "source": [
    "# bp2_l=lm(gini_house_multimodal-gini_house_walk15 ~\n",
    "#            #area+\n",
    "#            gini_walk15+\n",
    "#            area_difference*ellipticity+\n",
    "#            distance_betweenness*ellipticity,\n",
    "#          data=bp[bp$mean_price<\n",
    "#                    median(bp$mean_price, na.rm = T),])\n",
    "\n",
    "bp2_l = lm(@formula(\n",
    "    gini_house_multimodal - gini_house_walk15 ~ gini_walk15 + (area_difference * ellipticity) + (distance_betweenness * ellipticity)),\n",
    "    filter(row -> row.mean_price < median(skipmissing(bp.mean_price)), dropmissing(bp, :mean_price)),\n",
    ")"
   ]
  },
  {
   "cell_type": "code",
   "execution_count": 74,
   "id": "58860445",
   "metadata": {},
   "outputs": [
    {
     "data": {
      "text/plain": [
       "StatsModels.TableRegressionModel{LinearModel{GLM.LmResp{Vector{Float64}}, GLM.DensePredChol{Float64, CholeskyPivoted{Float64, Matrix{Float64}, Vector{Int64}}}}, Matrix{Float64}}\n",
       "\n",
       ":(gini_house_multimodal - gini_house_walk15) ~ 1 + gini_walk15 + area_difference + ellipticity + distance_betweenness + area_difference & ellipticity + distance_betweenness & ellipticity\n",
       "\n",
       "Coefficients:\n",
       "─────────────────────────────────────────────────────────────────────────────────────────────────────────\n",
       "                                           Coef.   Std. Error      t  Pr(>|t|)     Lower 95%    Upper 95%\n",
       "─────────────────────────────────────────────────────────────────────────────────────────────────────────\n",
       "(Intercept)                          0.0051543    0.00608701    0.85    0.3972  -0.00678321    0.0170918\n",
       "gini_walk15                          0.0227795    0.0174773     1.30    0.1926  -0.011496      0.057055\n",
       "area_difference                      0.000973815  0.000683011   1.43    0.1541  -0.000365668   0.0023133\n",
       "ellipticity                          0.0258954    0.00800821    3.23    0.0012   0.0101901     0.0416007\n",
       "distance_betweenness                 0.00189037   0.000615451   3.07    0.0022   0.000683381   0.00309736\n",
       "area_difference & ellipticity        0.00227997   0.00127518    1.79    0.0739  -0.000220857   0.00478079\n",
       "distance_betweenness & ellipticity  -0.00815188   0.00110682   -7.37    <1e-12  -0.0103225    -0.00598125\n",
       "─────────────────────────────────────────────────────────────────────────────────────────────────────────"
      ]
     },
     "execution_count": 74,
     "metadata": {},
     "output_type": "execute_result"
    }
   ],
   "source": [
    "# bp2_h=lm(gini_house_multimodal-gini_house_walk15 ~\n",
    "#            #area+\n",
    "#            gini_walk15+\n",
    "#            area_difference*ellipticity+\n",
    "#            distance_betweenness*ellipticity,\n",
    "#          data=bp[bp$mean_price>\n",
    "#                    median(bp$mean_price, na.rm = T),])\n",
    "\n",
    "bp2_h = lm(@formula(\n",
    "    gini_house_multimodal - gini_house_walk15 ~ gini_walk15 + (area_difference * ellipticity) + (distance_betweenness * ellipticity)),\n",
    "    filter(row -> row.mean_price > median(skipmissing(bp.mean_price)), dropmissing(bp, :mean_price)),\n",
    ")"
   ]
  },
  {
   "cell_type": "code",
   "execution_count": 75,
   "id": "10229c77",
   "metadata": {},
   "outputs": [
    {
     "data": {
      "text/plain": [
       "StatsModels.TableRegressionModel{LinearModel{GLM.LmResp{Vector{Float64}}, GLM.DensePredChol{Float64, CholeskyPivoted{Float64, Matrix{Float64}, Vector{Int64}}}}, Matrix{Float64}}\n",
       "\n",
       ":(weighted_gini_multi - weighted_gini_walk) ~ 1 + weighted_gini_walk + area_difference + ellipticity + distance_betweenness + area_difference & ellipticity + distance_betweenness & ellipticity\n",
       "\n",
       "Coefficients:\n",
       "───────────────────────────────────────────────────────────────────────────────────────────────────────────\n",
       "                                           Coef.   Std. Error       t  Pr(>|t|)     Lower 95%     Upper 95%\n",
       "───────────────────────────────────────────────────────────────────────────────────────────────────────────\n",
       "(Intercept)                          0.157795     0.00498395    31.66    <1e-99   0.148018      0.167572\n",
       "weighted_gini_walk                  -0.482267     0.0147236    -32.75    <1e-99  -0.511151     -0.453383\n",
       "area_difference                     -0.000424547  0.000272516   -1.56    0.1195  -0.000959151   0.000110058\n",
       "ellipticity                         -0.00678503   0.00384534    -1.76    0.0779  -0.0143286     0.000758518\n",
       "distance_betweenness                -0.000569453  0.000248498   -2.29    0.0221  -0.00105694   -8.19661e-5\n",
       "area_difference & ellipticity        0.000356223  0.000476897    0.75    0.4552  -0.000579323   0.00129177\n",
       "distance_betweenness & ellipticity   0.000605487  0.000444631    1.36    0.1735  -0.000266762   0.00147774\n",
       "───────────────────────────────────────────────────────────────────────────────────────────────────────────"
      ]
     },
     "execution_count": 75,
     "metadata": {},
     "output_type": "execute_result"
    }
   ],
   "source": [
    "# helsinki1_l=lm(weighted_gini_multi-weighted_gini_walk ~\n",
    "#                  #area+\n",
    "#                  weighted_gini_walk+\n",
    "#                  area_difference*ellipticity+\n",
    "#                  distance_betweenness*ellipticity,\n",
    "#                data=helsinki[helsinki$weighted_med_inc_walk<\n",
    "#                                median(helsinki$weighted_med_inc_walk),])\n",
    "\n",
    "helsinki1_l = lm(@formula(\n",
    "    weighted_gini_multi - weighted_gini_walk ~ weighted_gini_walk +(area_difference * ellipticity) + (distance_betweenness * ellipticity)),\n",
    "    filter(row -> row.weighted_med_inc_walk < median(helsinki.weighted_med_inc_walk), helsinki),\n",
    ")"
   ]
  },
  {
   "cell_type": "code",
   "execution_count": 76,
   "id": "344b2988",
   "metadata": {},
   "outputs": [
    {
     "data": {
      "text/plain": [
       "StatsModels.TableRegressionModel{LinearModel{GLM.LmResp{Vector{Float64}}, GLM.DensePredChol{Float64, CholeskyPivoted{Float64, Matrix{Float64}, Vector{Int64}}}}, Matrix{Float64}}\n",
       "\n",
       ":(weighted_gini_multi - weighted_gini_walk) ~ 1 + weighted_gini_walk + area_difference + ellipticity + distance_betweenness + area_difference & ellipticity + distance_betweenness & ellipticity\n",
       "\n",
       "Coefficients:\n",
       "───────────────────────────────────────────────────────────────────────────────────────────────────────────\n",
       "                                           Coef.   Std. Error       t  Pr(>|t|)     Lower 95%     Upper 95%\n",
       "───────────────────────────────────────────────────────────────────────────────────────────────────────────\n",
       "(Intercept)                          0.141114     0.00471528    29.93    <1e-99   0.131864      0.150365\n",
       "weighted_gini_walk                  -0.409224     0.0135222    -30.26    <1e-99  -0.435751     -0.382697\n",
       "area_difference                     -0.000428278  0.00027165    -1.58    0.1151  -0.000961184   0.000104628\n",
       "ellipticity                         -0.0228272    0.00392816    -5.81    <1e-08  -0.0305332    -0.0151212\n",
       "distance_betweenness                -0.00233204   0.000329257   -7.08    <1e-11  -0.00297796   -0.00168612\n",
       "area_difference & ellipticity        0.00162726   0.000464048    3.51    0.0005   0.000716923   0.0025376\n",
       "distance_betweenness & ellipticity   0.00340231   0.00053011     6.42    <1e-09   0.00236237    0.00444224\n",
       "───────────────────────────────────────────────────────────────────────────────────────────────────────────"
      ]
     },
     "execution_count": 76,
     "metadata": {},
     "output_type": "execute_result"
    }
   ],
   "source": [
    "# helsinki1_h=lm(weighted_gini_multi-weighted_gini_walk ~\n",
    "#                  #area+\n",
    "#                  weighted_gini_walk+\n",
    "#                  area_difference*ellipticity+\n",
    "#                  distance_betweenness*ellipticity,\n",
    "#                data=helsinki[helsinki$weighted_med_inc_walk>\n",
    "#                                median(helsinki$weighted_med_inc_walk),])\n",
    "\n",
    "helsinki1_h = lm(@formula(\n",
    "    weighted_gini_multi - weighted_gini_walk ~ weighted_gini_walk +(area_difference * ellipticity) + (distance_betweenness * ellipticity)),\n",
    "    filter(row -> row.weighted_med_inc_walk > median(helsinki.weighted_med_inc_walk), helsinki),\n",
    ")"
   ]
  },
  {
   "cell_type": "code",
   "execution_count": 77,
   "id": "0abcf640",
   "metadata": {},
   "outputs": [
    {
     "data": {
      "text/plain": [
       "StatsModels.TableRegressionModel{LinearModel{GLM.LmResp{Vector{Float64}}, GLM.DensePredChol{Float64, CholeskyPivoted{Float64, Matrix{Float64}, Vector{Int64}}}}, Matrix{Float64}}\n",
       "\n",
       ":(weighted_gini_multi - weighted_gini_walk) ~ 1 + weighted_gini_walk + area_difference + ellipticity + distance_betweenness + area_difference & ellipticity + distance_betweenness & ellipticity\n",
       "\n",
       "Coefficients:\n",
       "────────────────────────────────────────────────────────────────────────────────────────────────────\n",
       "                                         Coef.  Std. Error       t  Pr(>|t|)   Lower 95%   Upper 95%\n",
       "────────────────────────────────────────────────────────────────────────────────────────────────────\n",
       "(Intercept)                          6.1958     0.314269     19.71    <1e-80   5.57956     6.81205\n",
       "weighted_gini_walk                  -0.194609   0.00872147  -22.31    <1e-99  -0.211711   -0.177508\n",
       "area_difference                      0.0651708  0.0208612     3.12    0.0018   0.0242645   0.106077\n",
       "ellipticity                          0.184172   0.204691      0.90    0.3683  -0.217202    0.585547\n",
       "distance_betweenness                -0.0267004  0.0187532    -1.42    0.1546  -0.0634732   0.0100724\n",
       "area_difference & ellipticity       -0.0623246  0.0427064    -1.46    0.1446  -0.146067    0.0214175\n",
       "distance_betweenness & ellipticity  -0.0465947  0.0314073    -1.48    0.1380  -0.108181    0.0149912\n",
       "────────────────────────────────────────────────────────────────────────────────────────────────────"
      ]
     },
     "execution_count": 77,
     "metadata": {},
     "output_type": "execute_result"
    }
   ],
   "source": [
    "# madrid1_l=lm(weighted_gini_multi-weighted_gini_walk ~\n",
    "#                #area+\n",
    "#                weighted_gini_walk+\n",
    "#                area_difference*ellipticity+\n",
    "#                distance_betweenness*ellipticity,\n",
    "#              data=madrid[madrid$weighted_net_income_hh_walk<\n",
    "#                            median(madrid$weighted_net_income_hh_walk),])\n",
    "\n",
    "madrid1_l = lm(@formula(\n",
    "    weighted_gini_multi - weighted_gini_walk ~ weighted_gini_walk +(area_difference * ellipticity) + (distance_betweenness * ellipticity)),\n",
    "    filter(row -> row.weighted_net_income_hh_walk < median(madrid.weighted_net_income_hh_walk), madrid),\n",
    ")"
   ]
  },
  {
   "cell_type": "code",
   "execution_count": 78,
   "id": "916062b9",
   "metadata": {},
   "outputs": [
    {
     "data": {
      "text/plain": [
       "StatsModels.TableRegressionModel{LinearModel{GLM.LmResp{Vector{Float64}}, GLM.DensePredChol{Float64, CholeskyPivoted{Float64, Matrix{Float64}, Vector{Int64}}}}, Matrix{Float64}}\n",
       "\n",
       ":(weighted_gini_multi - weighted_gini_walk) ~ 1 + weighted_gini_walk + area_difference + ellipticity + distance_betweenness + area_difference & ellipticity + distance_betweenness & ellipticity\n",
       "\n",
       "Coefficients:\n",
       "────────────────────────────────────────────────────────────────────────────────────────────────────\n",
       "                                         Coef.  Std. Error       t  Pr(>|t|)  Lower 95%    Upper 95%\n",
       "────────────────────────────────────────────────────────────────────────────────────────────────────\n",
       "(Intercept)                          8.93477    0.349145     25.59    <1e-99   8.25014    9.6194\n",
       "weighted_gini_walk                  -0.230729   0.00751027  -30.72    <1e-99  -0.245456  -0.216002\n",
       "area_difference                     -0.0148265  0.0520717    -0.28    0.7759  -0.116933   0.0872797\n",
       "ellipticity                         -0.466901   0.366845     -1.27    0.2032  -1.18624    0.252437\n",
       "distance_betweenness                -0.203409   0.022362     -9.10    <1e-18  -0.247258  -0.15956\n",
       "area_difference & ellipticity       -0.207779   0.101566     -2.05    0.0409  -0.406936  -0.00862108\n",
       "distance_betweenness & ellipticity   0.125428   0.0420746     2.98    0.0029   0.042925   0.207931\n",
       "────────────────────────────────────────────────────────────────────────────────────────────────────"
      ]
     },
     "execution_count": 78,
     "metadata": {},
     "output_type": "execute_result"
    }
   ],
   "source": [
    "# madrid1_h=lm(weighted_gini_multi-weighted_gini_walk ~\n",
    "#                #area+\n",
    "#                weighted_gini_walk+\n",
    "#                area_difference*ellipticity+\n",
    "#                distance_betweenness*ellipticity,\n",
    "#              data=madrid[madrid$weighted_net_income_hh_walk>\n",
    "#                            median(madrid$weighted_net_income_hh_walk),])\n",
    "madrid1_h = lm(@formula(\n",
    "    weighted_gini_multi - weighted_gini_walk ~ weighted_gini_walk +(area_difference * ellipticity) + (distance_betweenness * ellipticity)),\n",
    "    filter(row -> row.weighted_net_income_hh_walk > median(madrid.weighted_net_income_hh_walk), madrid),\n",
    ")"
   ]
  },
  {
   "cell_type": "code",
   "execution_count": 79,
   "id": "83cf3bbd",
   "metadata": {},
   "outputs": [
    {
     "data": {
      "text/plain": [
       "StatsModels.TableRegressionModel{LinearModel{GLM.LmResp{Vector{Float64}}, GLM.DensePredChol{Float64, CholeskyPivoted{Float64, Matrix{Float64}, Vector{Int64}}}}, Matrix{Float64}}\n",
       "\n",
       ":(multimod_sum - walk_sum) ~ 1 + walk_sum + area_difference + ellipticity + distance_betweenness + area_difference & ellipticity + distance_betweenness & ellipticity\n",
       "\n",
       "Coefficients:\n",
       "────────────────────────────────────────────────────────────────────────────────────────────────────\n",
       "                                         Coef.  Std. Error        t  Pr(>|t|)  Lower 95%   Upper 95%\n",
       "────────────────────────────────────────────────────────────────────────────────────────────────────\n",
       "(Intercept)                          8.15947    0.154653      52.76    <1e-99   7.85618    8.46277\n",
       "walk_sum                            -0.900613   0.00767964  -117.27    <1e-99  -0.915674  -0.885552\n",
       "area_difference                     -0.158542   0.0190989     -8.30    <1e-15  -0.195998  -0.121086\n",
       "ellipticity                         -0.281444   0.231551      -1.22    0.2243  -0.735549   0.172661\n",
       "distance_betweenness                 0.0611711  0.0130475      4.69    <1e-05   0.035583   0.0867591\n",
       "area_difference & ellipticity        0.425032   0.0330709     12.85    <1e-35   0.360175   0.489889\n",
       "distance_betweenness & ellipticity  -0.141482   0.021564      -6.56    <1e-10  -0.183772  -0.0991913\n",
       "────────────────────────────────────────────────────────────────────────────────────────────────────"
      ]
     },
     "execution_count": 79,
     "metadata": {},
     "output_type": "execute_result"
    }
   ],
   "source": [
    "# bp1a_l=lm(multimod_sum-walk_sum ~\n",
    "#             walk_sum+\n",
    "#             #area+\n",
    "#             area_difference*ellipticity+\n",
    "#             distance_betweenness*ellipticity,\n",
    "#           data=bp[bp$mean_price<\n",
    "#                     median(bp$mean_price, na.rm = T),])\n",
    "bp1a_l = lm(@formula(\n",
    "    multimod_sum - walk_sum ~ walk_sum + (area_difference * ellipticity) + (distance_betweenness * ellipticity)),\n",
    "    filter(row -> row.mean_price < median(skipmissing(bp.mean_price)), dropmissing(bp, :mean_price)),\n",
    ")"
   ]
  },
  {
   "cell_type": "code",
   "execution_count": 80,
   "id": "57e76d86",
   "metadata": {},
   "outputs": [
    {
     "data": {
      "text/plain": [
       "StatsModels.TableRegressionModel{LinearModel{GLM.LmResp{Vector{Float64}}, GLM.DensePredChol{Float64, CholeskyPivoted{Float64, Matrix{Float64}, Vector{Int64}}}}, Matrix{Float64}}\n",
       "\n",
       ":(multimod_sum - walk_sum) ~ 1 + walk_sum + area_difference + ellipticity + distance_betweenness + area_difference & ellipticity + distance_betweenness & ellipticity\n",
       "\n",
       "Coefficients:\n",
       "──────────────────────────────────────────────────────────────────────────────────────────────────────\n",
       "                                         Coef.  Std. Error        t  Pr(>|t|)    Lower 95%   Upper 95%\n",
       "──────────────────────────────────────────────────────────────────────────────────────────────────────\n",
       "(Intercept)                          7.50389    0.0982507     76.37    <1e-99   7.3112       7.69657\n",
       "walk_sum                            -0.857416   0.00817491  -104.88    <1e-99  -0.873448    -0.841384\n",
       "area_difference                      0.017808   0.0111773      1.59    0.1113  -0.00411221   0.0397283\n",
       "ellipticity                          0.420137   0.132406       3.17    0.0015   0.16047      0.679805\n",
       "distance_betweenness                 0.0202892  0.009267       2.19    0.0287   0.00211525   0.0384631\n",
       "area_difference & ellipticity        0.012189   0.0208909      0.58    0.5596  -0.028781     0.0531591\n",
       "distance_betweenness & ellipticity  -0.0812836  0.01859       -4.37    <1e-04  -0.117741    -0.044826\n",
       "──────────────────────────────────────────────────────────────────────────────────────────────────────"
      ]
     },
     "execution_count": 80,
     "metadata": {},
     "output_type": "execute_result"
    }
   ],
   "source": [
    "# bp1a_h=lm(multimod_sum-walk_sum ~\n",
    "#             walk_sum+\n",
    "#             #area+\n",
    "#             area_difference*ellipticity+\n",
    "#             distance_betweenness*ellipticity,\n",
    "#           data=bp[bp$mean_price>\n",
    "#                     median(bp$mean_price, na.rm = T),])\n",
    "\n",
    "bp1a_h = lm(@formula(\n",
    "    multimod_sum - walk_sum ~ walk_sum + (area_difference * ellipticity) + (distance_betweenness * ellipticity)),\n",
    "    filter(row -> row.mean_price > median(skipmissing(bp.mean_price)), dropmissing(bp, :mean_price)),\n",
    ")"
   ]
  },
  {
   "cell_type": "code",
   "execution_count": 81,
   "id": "1dd602cb",
   "metadata": {},
   "outputs": [
    {
     "data": {
      "text/plain": [
       "StatsModels.TableRegressionModel{LinearModel{GLM.LmResp{Vector{Float64}}, GLM.DensePredChol{Float64, CholeskyPivoted{Float64, Matrix{Float64}, Vector{Int64}}}}, Matrix{Float64}}\n",
       "\n",
       ":(multimod_sum - walk_sum) ~ 1 + walk_sum + area_difference + ellipticity + distance_betweenness + area_difference & ellipticity + distance_betweenness & ellipticity\n",
       "\n",
       "Coefficients:\n",
       "────────────────────────────────────────────────────────────────────────────────────────────────────\n",
       "                                         Coef.  Std. Error       t  Pr(>|t|)   Lower 95%   Upper 95%\n",
       "────────────────────────────────────────────────────────────────────────────────────────────────────\n",
       "(Intercept)                          6.75684     0.165212    40.90    <1e-99   6.43274     7.08095\n",
       "walk_sum                            -0.838091    0.0137955  -60.75    <1e-99  -0.865154   -0.811028\n",
       "area_difference                      0.131507    0.0175061    7.51    <1e-12   0.0971651   0.16585\n",
       "ellipticity                          0.713278    0.24526      2.91    0.0037   0.232143    1.19441\n",
       "distance_betweenness                -0.0341877   0.0158848   -2.15    0.0316  -0.0653494  -0.0030259\n",
       "area_difference & ellipticity       -0.0859416   0.0305273   -2.82    0.0049  -0.145828   -0.0260552\n",
       "distance_betweenness & ellipticity   0.0118108   0.0284209    0.42    0.6778  -0.0439435   0.0675651\n",
       "────────────────────────────────────────────────────────────────────────────────────────────────────"
      ]
     },
     "execution_count": 81,
     "metadata": {},
     "output_type": "execute_result"
    }
   ],
   "source": [
    "# helsinki1a_l=lm(multimod_sum-walk_sum ~\n",
    "#                   walk_sum+\n",
    "#                   #area+\n",
    "#                   area_difference*ellipticity+\n",
    "#                   distance_betweenness*ellipticity,\n",
    "#                 data=helsinki[helsinki$weighted_med_inc_walk<\n",
    "#                                 median(helsinki$weighted_med_inc_walk),])\n",
    "\n",
    "\n",
    "helsinki1a_l = lm(@formula(\n",
    "    multimod_sum - walk_sum ~ walk_sum +(area_difference * ellipticity) + (distance_betweenness * ellipticity)),\n",
    "    filter(row -> row.weighted_med_inc_walk < median(helsinki.weighted_med_inc_walk), helsinki),\n",
    ")"
   ]
  },
  {
   "cell_type": "code",
   "execution_count": 82,
   "id": "d67769fa",
   "metadata": {},
   "outputs": [
    {
     "data": {
      "text/plain": [
       "StatsModels.TableRegressionModel{LinearModel{GLM.LmResp{Vector{Float64}}, GLM.DensePredChol{Float64, CholeskyPivoted{Float64, Matrix{Float64}, Vector{Int64}}}}, Matrix{Float64}}\n",
       "\n",
       ":(multimod_sum - walk_sum) ~ 1 + walk_sum + area_difference + ellipticity + distance_betweenness + area_difference & ellipticity + distance_betweenness & ellipticity\n",
       "\n",
       "Coefficients:\n",
       "─────────────────────────────────────────────────────────────────────────────────────────────────────\n",
       "                                          Coef.  Std. Error       t  Pr(>|t|)   Lower 95%   Upper 95%\n",
       "─────────────────────────────────────────────────────────────────────────────────────────────────────\n",
       "(Intercept)                          6.92918      0.257046    26.96    <1e-99   6.42492     7.43344\n",
       "walk_sum                            -0.75523      0.0153436  -49.22    <1e-99  -0.78533    -0.72513\n",
       "area_difference                      0.0230514    0.0229391    1.00    0.3151  -0.0219491   0.0680519\n",
       "ellipticity                         -0.262438     0.331264    -0.79    0.4284  -0.91229     0.387414\n",
       "distance_betweenness                -0.0799958    0.0286435   -2.79    0.0053  -0.136187   -0.0238048\n",
       "area_difference & ellipticity        0.100129     0.0391143    2.56    0.0106   0.0233971   0.176861\n",
       "distance_betweenness & ellipticity  -0.00539649   0.0445126   -0.12    0.9035  -0.0927185   0.0819255\n",
       "─────────────────────────────────────────────────────────────────────────────────────────────────────"
      ]
     },
     "execution_count": 82,
     "metadata": {},
     "output_type": "execute_result"
    }
   ],
   "source": [
    "# helsinki1a_h=lm(multimod_sum-walk_sum ~\n",
    "#                   walk_sum+\n",
    "#                   #area+\n",
    "#                   area_difference*ellipticity+\n",
    "#                   distance_betweenness*ellipticity,\n",
    "#                 data=helsinki[helsinki$weighted_med_inc_walk>\n",
    "#                                 median(helsinki$weighted_med_inc_walk),])\n",
    "\n",
    "helsinki1a_h = lm(@formula(\n",
    "    multimod_sum - walk_sum ~ walk_sum +(area_difference * ellipticity) + (distance_betweenness * ellipticity)),\n",
    "    filter(row -> row.weighted_med_inc_walk > median(helsinki.weighted_med_inc_walk), helsinki),\n",
    ")"
   ]
  },
  {
   "cell_type": "code",
   "execution_count": 83,
   "id": "1d15def4",
   "metadata": {},
   "outputs": [
    {
     "data": {
      "text/plain": [
       "StatsModels.TableRegressionModel{LinearModel{GLM.LmResp{Vector{Float64}}, GLM.DensePredChol{Float64, CholeskyPivoted{Float64, Matrix{Float64}, Vector{Int64}}}}, Matrix{Float64}}\n",
       "\n",
       ":(multimod_sum - walk_sum) ~ 1 + walk_sum + area_difference + ellipticity + distance_betweenness + area_difference & ellipticity + distance_betweenness & ellipticity\n",
       "\n",
       "Coefficients:\n",
       "─────────────────────────────────────────────────────────────────────────────────────────────────────\n",
       "                                          Coef.  Std. Error       t  Pr(>|t|)   Lower 95%   Upper 95%\n",
       "─────────────────────────────────────────────────────────────────────────────────────────────────────\n",
       "(Intercept)                          4.43372      0.13144     33.73    <1e-99   4.17598     4.69146\n",
       "walk_sum                            -0.515815     0.0111891  -46.10    <1e-99  -0.537755   -0.493875\n",
       "area_difference                      0.00775929   0.0157417    0.49    0.6221  -0.0231082   0.0386268\n",
       "ellipticity                          0.146853     0.154122     0.95    0.3408  -0.155361    0.449067\n",
       "distance_betweenness                 0.00735119   0.0137282    0.54    0.5924  -0.0195682   0.0342706\n",
       "area_difference & ellipticity        0.195293     0.0321183    6.08    <1e-08   0.132313    0.258273\n",
       "distance_betweenness & ellipticity  -0.0354477    0.0237426   -1.49    0.1356  -0.082004    0.0111086\n",
       "─────────────────────────────────────────────────────────────────────────────────────────────────────"
      ]
     },
     "execution_count": 83,
     "metadata": {},
     "output_type": "execute_result"
    }
   ],
   "source": [
    "# madrid1a_l=lm(multimod_sum-walk_sum ~\n",
    "#                 walk_sum+\n",
    "#                 #area+\n",
    "#                 area_difference*ellipticity+\n",
    "#                 distance_betweenness*ellipticity,\n",
    "#               data=madrid[madrid$weighted_net_income_hh_walk<\n",
    "#                             median(madrid$weighted_net_income_hh_walk),])\n",
    "\n",
    "madrid1a_l = lm(@formula(\n",
    "    multimod_sum - walk_sum ~ walk_sum +(area_difference * ellipticity) + (distance_betweenness * ellipticity)),\n",
    "    filter(row -> row.weighted_net_income_hh_walk < median(madrid.weighted_net_income_hh_walk), madrid),\n",
    ")"
   ]
  },
  {
   "cell_type": "code",
   "execution_count": 84,
   "id": "d212df71",
   "metadata": {},
   "outputs": [
    {
     "data": {
      "text/plain": [
       "StatsModels.TableRegressionModel{LinearModel{GLM.LmResp{Vector{Float64}}, GLM.DensePredChol{Float64, CholeskyPivoted{Float64, Matrix{Float64}, Vector{Int64}}}}, Matrix{Float64}}\n",
       "\n",
       ":(multimod_sum - walk_sum) ~ 1 + walk_sum + area_difference + ellipticity + distance_betweenness + area_difference & ellipticity + distance_betweenness & ellipticity\n",
       "\n",
       "Coefficients:\n",
       "─────────────────────────────────────────────────────────────────────────────────────────────────────\n",
       "                                         Coef.  Std. Error       t  Pr(>|t|)   Lower 95%    Upper 95%\n",
       "─────────────────────────────────────────────────────────────────────────────────────────────────────\n",
       "(Intercept)                          5.89997    0.129336     45.62    <1e-99   5.64636     6.15358\n",
       "walk_sum                            -0.64417    0.0118307   -54.45    <1e-99  -0.667368   -0.620971\n",
       "area_difference                     -0.0213257  0.0209101    -1.02    0.3079  -0.0623278   0.0196763\n",
       "ellipticity                          0.161235   0.145793      1.11    0.2689  -0.124647    0.447117\n",
       "distance_betweenness                -0.0493197  0.00852593   -5.78    <1e-08  -0.066038   -0.0326014\n",
       "area_difference & ellipticity        0.215817   0.0407647     5.29    <1e-06   0.135883    0.295752\n",
       "distance_betweenness & ellipticity  -0.041937   0.0166529    -2.52    0.0119  -0.0745913  -0.00928271\n",
       "─────────────────────────────────────────────────────────────────────────────────────────────────────"
      ]
     },
     "execution_count": 84,
     "metadata": {},
     "output_type": "execute_result"
    }
   ],
   "source": [
    "# madrid1a_h=lm(multimod_sum-walk_sum ~\n",
    "#                 walk_sum+\n",
    "#                 #area+\n",
    "#                 area_difference*ellipticity+\n",
    "#                 distance_betweenness*ellipticity,\n",
    "#               data=madrid[madrid$weighted_net_income_hh_walk>\n",
    "#                             median(madrid$weighted_net_income_hh_walk),])\n",
    "madrid1a_h = lm(@formula(\n",
    "    multimod_sum - walk_sum ~ walk_sum +(area_difference * ellipticity) + (distance_betweenness * ellipticity)),\n",
    "    filter(row -> row.weighted_net_income_hh_walk > median(madrid.weighted_net_income_hh_walk), madrid),\n",
    ")"
   ]
  },
  {
   "cell_type": "code",
   "execution_count": 85,
   "id": "39bc28d3",
   "metadata": {},
   "outputs": [
    {
     "data": {
      "text/plain": [
       "\n",
       "---------------------------------------------------------------------------------------------------------------------------------------------------------------------------------------------\n",
       "                                          multimod_sum - walk_sum        weighted_gini_multi - weighted_gini_walk   gini_house_multimodal - gini_house_walk15   gini_multimodal - gini_walk15\n",
       "                                     ---------------------------------   ----------------------------------------   -----------------------------------------   -----------------------------\n",
       "                                           (1)         (2)         (3)                  (4)                   (5)                                         (6)                             (7)\n",
       "---------------------------------------------------------------------------------------------------------------------------------------------------------------------------------------------\n",
       "(Intercept)                           6.757***    4.434***    8.159***             0.158***              6.196***                                     0.026**                        0.069***\n",
       "                                       (0.165)     (0.131)     (0.155)              (0.005)               (0.314)                                     (0.009)                         (0.004)\n",
       "walk_sum                             -0.838***   -0.516***   -0.901***                                                                                                                       \n",
       "                                       (0.014)     (0.011)     (0.008)                                                                                                                       \n",
       "area_difference                       0.132***       0.008   -0.159***               -0.000               0.065**                                   -0.005***                          -0.001\n",
       "                                       (0.018)     (0.016)     (0.019)              (0.000)               (0.021)                                     (0.001)                         (0.000)\n",
       "ellipticity                            0.713**       0.147      -0.281               -0.007                 0.184                                   -0.053***                         0.014**\n",
       "                                       (0.245)     (0.154)     (0.232)              (0.004)               (0.205)                                     (0.012)                         (0.005)\n",
       "distance_betweenness                   -0.034*       0.007    0.061***              -0.001*                -0.027                                   -0.004***                       -0.003***\n",
       "                                       (0.016)     (0.014)     (0.013)              (0.000)               (0.019)                                     (0.001)                         (0.000)\n",
       "area_difference & ellipticity         -0.086**    0.195***    0.425***                0.000                -0.062                                    0.009***                           0.001\n",
       "                                       (0.031)     (0.032)     (0.033)              (0.000)               (0.043)                                     (0.002)                         (0.001)\n",
       "distance_betweenness & ellipticity       0.012      -0.035   -0.141***                0.001                -0.047                                    0.005***                          -0.001\n",
       "                                       (0.028)     (0.024)     (0.022)              (0.000)               (0.031)                                     (0.001)                         (0.001)\n",
       "weighted_gini_walk                                                                -0.482***             -0.195***                                                                            \n",
       "                                                                                    (0.015)               (0.009)                                                                            \n",
       "gini_walk15                                                                                                                                          0.212***                       -0.279***\n",
       "                                                                                                                                                      (0.029)                         (0.012)\n",
       "---------------------------------------------------------------------------------------------------------------------------------------------------------------------------------------------\n",
       "N                                        1,348       2,604       2,015                1,348                 2,604                                       2,015                           2,213\n",
       "R2                                       0.747       0.482       0.884                0.466                 0.191                                       0.078                           0.240\n",
       "---------------------------------------------------------------------------------------------------------------------------------------------------------------------------------------------\n",
       "\n"
      ]
     },
     "execution_count": 85,
     "metadata": {},
     "output_type": "execute_result"
    }
   ],
   "source": [
    "# stargazer(helsinki1a_l, madrid1a_l, bp1a_l,\n",
    "#           helsinki1_l, madrid1_l, bp2_l, bp1_l,\n",
    "#           type=\"latex\",\n",
    "#           style=\"aer\",\n",
    "#           column.labels = c(\"Helsinki - Access\",\n",
    "#                             \"Madrid - Access\",\n",
    "#                             \"BP - Access\",\n",
    "#                             \"Helsinki - Gini\",\n",
    "#                             \"Madrid - Gini\",\n",
    "#                             \"BP residential - Gini\",\n",
    "#                             \"BP experienced - Gini\"),\n",
    "#           dep.var.labels.include = F,\n",
    "#           out=\"SI_Reg_6_low.tex\")\n",
    "regtable(\n",
    "    helsinki1a_l, madrid1a_l, bp1a_l, helsinki1_l, madrid1_l, bp2_l, bp1_l,;\n",
    "    render = AsciiTable(),\n",
    "    file=\"$(output)/SI_Reg_6_low.txt\"\n",
    ")\n"
   ]
  },
  {
   "cell_type": "code",
   "execution_count": 86,
   "id": "83cceb8f",
   "metadata": {},
   "outputs": [
    {
     "data": {
      "text/plain": [
       "\n",
       "---------------------------------------------------------------------------------------------------------------------------------------------------------------------------------------------\n",
       "                                          multimod_sum - walk_sum        weighted_gini_multi - weighted_gini_walk   gini_house_multimodal - gini_house_walk15   gini_multimodal - gini_walk15\n",
       "                                     ---------------------------------   ----------------------------------------   -----------------------------------------   -----------------------------\n",
       "                                           (1)         (2)         (3)                  (4)                   (5)                                         (6)                             (7)\n",
       "---------------------------------------------------------------------------------------------------------------------------------------------------------------------------------------------\n",
       "(Intercept)                           6.929***    5.900***    7.504***             0.141***              8.935***                                       0.005                        0.088***\n",
       "                                       (0.257)     (0.129)     (0.098)              (0.005)               (0.349)                                     (0.006)                         (0.005)\n",
       "walk_sum                             -0.755***   -0.644***   -0.857***                                                                                                                       \n",
       "                                       (0.015)     (0.012)     (0.008)                                                                                                                       \n",
       "area_difference                          0.023      -0.021       0.018               -0.000                -0.015                                       0.001                         -0.002*\n",
       "                                       (0.023)     (0.021)     (0.011)              (0.000)               (0.052)                                     (0.001)                         (0.001)\n",
       "ellipticity                             -0.262       0.161     0.420**            -0.023***                -0.467                                     0.026**                        0.061***\n",
       "                                       (0.331)     (0.146)     (0.132)              (0.004)               (0.367)                                     (0.008)                         (0.007)\n",
       "distance_betweenness                  -0.080**   -0.049***      0.020*            -0.002***             -0.203***                                     0.002**                           0.000\n",
       "                                       (0.029)     (0.009)     (0.009)              (0.000)               (0.022)                                     (0.001)                         (0.000)\n",
       "area_difference & ellipticity           0.100*    0.216***       0.012             0.002***               -0.208*                                       0.002                          0.003*\n",
       "                                       (0.039)     (0.041)     (0.021)              (0.000)               (0.102)                                     (0.001)                         (0.001)\n",
       "distance_betweenness & ellipticity      -0.005     -0.042*   -0.081***             0.003***               0.125**                                   -0.008***                       -0.005***\n",
       "                                       (0.045)     (0.017)     (0.019)              (0.001)               (0.042)                                     (0.001)                         (0.001)\n",
       "weighted_gini_walk                                                                -0.409***             -0.231***                                                                            \n",
       "                                                                                    (0.014)               (0.008)                                                                            \n",
       "gini_walk15                                                                                                                                             0.023                       -0.669***\n",
       "                                                                                                                                                      (0.017)                         (0.018)\n",
       "---------------------------------------------------------------------------------------------------------------------------------------------------------------------------------------------\n",
       "N                                        1,346       2,608       2,015                1,346                 2,608                                       2,015                           2,211\n",
       "R2                                       0.703       0.570       0.877                0.446                 0.287                                       0.206                           0.458\n",
       "---------------------------------------------------------------------------------------------------------------------------------------------------------------------------------------------\n",
       "\n"
      ]
     },
     "execution_count": 86,
     "metadata": {},
     "output_type": "execute_result"
    }
   ],
   "source": [
    "# stargazer(helsinki1a_h, madrid1a_h, bp1a_h,\n",
    "#           helsinki1_h, madrid1_h, bp2_h, bp1_h,\n",
    "#           type=\"latex\",\n",
    "#           style=\"aer\",\n",
    "#           column.labels = c(\"Helsinki - Access\",\n",
    "#                             \"Madrid - Access\",\n",
    "#                             \"BP - Access\",\n",
    "#                             \"Helsinki - Gini\",\n",
    "#                             \"Madrid - Gini\",\n",
    "#                             \"BP residential - Gini\",\n",
    "#                             \"BP experienced - Gini\"),\n",
    "#           dep.var.labels.include = F,\n",
    "#           out=\"SI_Reg_7_high.tex\")\n",
    "regtable(\n",
    "    helsinki1a_h, madrid1a_h, bp1a_h, helsinki1_h, madrid1_h, bp2_h, bp1_h;\n",
    "    render = AsciiTable(),\n",
    "    file=\"$(output)/SI_Reg_7_high.txt\"\n",
    ")"
   ]
  },
  {
   "cell_type": "markdown",
   "id": "01bad387",
   "metadata": {},
   "source": [
    "# 4.7 Correlation plots"
   ]
  },
  {
   "cell_type": "code",
   "execution_count": 87,
   "id": "1351c8cb",
   "metadata": {},
   "outputs": [],
   "source": [
    "vars_bp = [\"access_diff\",\"gini_diff\", \"gini_diff_house\", \"walk_sum\", \"gini_walk15\", \"area_difference\", \"ellipticity\", \"distance_betweenness\"];\n",
    "vars_he = [\"access_diff\",\"gini_diff\", \"walk_sum\",\"weighted_gini_walk\", \"area_difference\", \"ellipticity\", \"distance_betweenness\"];\n",
    "vars_ma = [\"access_diff\",\"gini_diff\", \"walk_sum\",\"weighted_gini_walk\", \"area_difference\", \"ellipticity\", \"distance_betweenness\"];"
   ]
  },
  {
   "cell_type": "code",
   "execution_count": 88,
   "id": "4aa2dbf1",
   "metadata": {},
   "outputs": [
    {
     "data": {
      "text/plain": [
       "8×8 Matrix{Union{Missing, Float64}}:\n",
       "  1.0         0.14718     0.0783427  …  -0.062878   missing   0.349401\n",
       "  0.14718     1.0         0.0474338     -0.122364   missing  -0.100184\n",
       "  0.0783427   0.0474338   1.0            0.134148   missing  -0.221754\n",
       " -0.926638   -0.107247   -0.06988        0.164111   missing  -0.414882\n",
       " -0.322724   -0.32259     0.236448       0.197499   missing  -0.666358\n",
       " -0.062878   -0.122364    0.134148   …   1.0        missing  -0.100913\n",
       "   missing     missing     missing        missing  1.0         missing\n",
       "  0.349401   -0.100184   -0.221754      -0.100913   missing   1.0"
      ]
     },
     "execution_count": 88,
     "metadata": {},
     "output_type": "execute_result"
    }
   ],
   "source": [
    "corr_mx_bp = cor(Matrix(bp[:,vars_bp]))"
   ]
  },
  {
   "cell_type": "code",
   "execution_count": 89,
   "id": "4bffc608",
   "metadata": {},
   "outputs": [],
   "source": [
    "CSV.write(\"$(output)/bud_for_corrplot.csv\", bp[:, vars_bp]);\n",
    "CSV.write(\"$(output)/hel_for_corrplot.csv\", helsinki[:, vars_he]);\n",
    "CSV.write(\"$(output)/mad_for_corrplot.csv\", madrid[:, vars_ma]);"
   ]
  },
  {
   "cell_type": "markdown",
   "id": "6de1b8f2",
   "metadata": {},
   "source": [
    "# 4.8 Variable Statistics"
   ]
  },
  {
   "cell_type": "code",
   "execution_count": 90,
   "id": "a160d992",
   "metadata": {},
   "outputs": [],
   "source": [
    "# Subset and drop missing data\n",
    "bp_sub = dropmissing(bp[:, vars_bp])\n",
    "helsinki_sub = dropmissing(helsinki[:, vars_he])\n",
    "madrid_sub = dropmissing(madrid[:, vars_ma])\n",
    ";"
   ]
  },
  {
   "cell_type": "code",
   "execution_count": 91,
   "id": "835a680e",
   "metadata": {},
   "outputs": [],
   "source": [
    "bud_sum = describe(bp_sub, :min, :q25, :median, :mean, :q75, :max, :std)\n",
    "CSV.write(\"$(output)/SI_summary_bp.csv\", bud_sum);\n",
    "hel_sum = describe(helsinki_sub, :min, :q25, :median, :mean, :q75, :max, :std)\n",
    "CSV.write(\"$(output)/SI_summary_helsinki.csv\", hel_sum);\n",
    "mad_sum = describe(madrid_sub, :min, :q25, :median, :mean, :q75, :max, :std)\n",
    "CSV.write(\"$(output)/SI_summary_madrid.csv\", mad_sum);"
   ]
  },
  {
   "cell_type": "code",
   "execution_count": 92,
   "id": "62015b33",
   "metadata": {},
   "outputs": [],
   "source": [
    "open(\"$(output)/SI_summary_bp.tex\", \"w\") do io\n",
    "    pretty_table(io, bud_sum, backend = Val(:latex); show_subheader=false, label = \"tab:budapest_stats\", title = \"Summary Statistics for Budapest\", wrap_table = true)\n",
    "end\n",
    "open(\"$(output)/SI_summary_helsinki.tex\", \"w\") do io\n",
    "    pretty_table(io, hel_sum, backend = Val(:latex); show_subheader=false, label = \"tab:helsinki_stats\", title = \"Summary Statistics for Helsinki\", wrap_table = true)\n",
    "end\n",
    "open(\"$(output)/SI_summary_madrid.tex\", \"w\") do io\n",
    "    pretty_table(io, mad_sum, backend = Val(:latex); show_subheader=false, label = \"tab:madrid_stats\", title = \"Summary Statistics for Madrid\", wrap_table = true)\n",
    "end\n",
    ";"
   ]
  },
  {
   "cell_type": "code",
   "execution_count": 93,
   "id": "252dc5a8",
   "metadata": {},
   "outputs": [],
   "source": [
    "# Write LaTeX summary tables\n",
    "# stargazer(bp_sub, type = \"latex\", out = \"SI_summary_bp.tex\",\n",
    "#           title = \"Summary Statistics for Budapest\",\n",
    "#           summary.stat = c(\"min\", \"p25\", \"median\", \"mean\", \"p75\", \"max\", \"sd\"))\n",
    "\n",
    "# stargazer(helsinki_sub, type = \"latex\", out = \"SI_summary_helsinki.tex\",\n",
    "#           title = \"Summary Statistics for Helsinki\",\n",
    "#           summary.stat = c(\"min\", \"p25\", \"median\", \"mean\", \"p75\", \"max\", \"sd\"))\n",
    "\n",
    "# stargazer(madrid_sub, type = \"latex\", out = \"SI_summary_madrid.tex\",\n",
    "#           title = \"Summary Statistics for Madrid\",\n",
    "#           summary.stat = c(\"min\", \"p25\", \"median\", \"mean\", \"p75\", \"max\", \"sd\"))"
   ]
  }
 ],
 "metadata": {
  "kernelspec": {
   "display_name": "Julia 1.11.5",
   "language": "julia",
   "name": "julia-1.11"
  },
  "language_info": {
   "file_extension": ".jl",
   "mimetype": "application/julia",
   "name": "julia",
   "version": "1.11.6"
  }
 },
 "nbformat": 4,
 "nbformat_minor": 5
}
