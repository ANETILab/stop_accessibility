{
 "cells": [
  {
   "cell_type": "code",
   "execution_count": 2,
   "id": "94bff75e",
   "metadata": {},
   "outputs": [],
   "source": [
    "using CSV, DataFrames, GLM, RegressionTables\n",
    "using Statistics"
   ]
  },
  {
   "cell_type": "code",
   "execution_count": null,
   "id": "773d70f2",
   "metadata": {},
   "outputs": [
    {
     "data": {
      "text/plain": [
       "scale (generic function with 2 methods)"
      ]
     },
     "execution_count": 3,
     "metadata": {},
     "output_type": "execute_result"
    }
   ],
   "source": [
    "function scale(df::DataFrame; cols::Vector{String} = names(df))\n",
    "    result = copy(df)\n",
    "    for col in cols\n",
    "        result[!, col] = (df[!, col] .- mean(df[!, col])) ./ std(df[!, col])\n",
    "    end\n",
    "    return result\n",
    "end\n",
    "\n",
    "function scale(x::AbstractVector)\n",
    "    return (x .- mean(x)) ./ std(x)\n",
    "end"
   ]
  },
  {
   "cell_type": "code",
   "execution_count": 179,
   "id": "649dacc6",
   "metadata": {},
   "outputs": [],
   "source": [
    "bp=CSV.read(\"../src/regression/budapest/bp_socioecon_merged5.csv\", DataFrame)\n",
    "madrid=CSV.read(\"../src/regression/madrid/madrid_socioecon_merged2.csv\", DataFrame)\n",
    "helsinki=CSV.read(\"../src/regression/helsinki/helsinki_socioecon_merged4.csv\", DataFrame)\n",
    ";"
   ]
  },
  {
   "cell_type": "code",
   "execution_count": null,
   "id": "a5af27c0",
   "metadata": {},
   "outputs": [],
   "source": [
    "cols=[\n",
    "    \"cultural_institutions_multimodal\",\n",
    "    \"drugstores_multimodal\",\n",
    "    \"groceries_multimodal\",\n",
    "    \"healthcare_multimodal\",\n",
    "    \"parks_multimodal\",\n",
    "    \"religious_organizations_multimodal\",\n",
    "    \"restaurants_multimodal\",\n",
    "    \"schools_multimodal\",\n",
    "    \"services_multimodal\",\n",
    "    \"cultural_institutions_walk15\",\n",
    "    \"drugstores_walk15\",\n",
    "    \"groceries_walk15\",\n",
    "    \"healthcare_walk15\",\n",
    "    \"parks_walk15\",\n",
    "    \"religious_organizations_walk15\",\n",
    "    \"restaurants_walk15\",\n",
    "    \"schools_walk15\",\n",
    "    \"services_walk15\",\n",
    "];\n"
   ]
  },
  {
   "cell_type": "code",
   "execution_count": null,
   "id": "379c1a41",
   "metadata": {},
   "outputs": [],
   "source": [
    "is_there_amenity(x) = x > 0 ? 1 : 0\n",
    "bp = bp[!, cols] .= is_there_amenity.(bp[!, cols])\n",
    "madrid = madrid[!, cols] .= is_there_amenity.(madrid[!, cols])\n",
    "helsinki = helsinki[!, cols] .= is_there_amenity.(helsinki[!, cols])\n",
    ";"
   ]
  },
  {
   "cell_type": "code",
   "execution_count": null,
   "id": "e0d035c9",
   "metadata": {},
   "outputs": [],
   "source": [
    "bp.walk_sum =\n",
    "    bp.cultural_institutions_walk15 .+ bp.drugstores_walk15 .+ bp.groceries_walk15 .+\n",
    "    bp.healthcare_walk15 .+ bp.parks_walk15 .+ bp.religious_organizations_walk15 .+\n",
    "    bp.restaurants_walk15 .+ bp.schools_walk15 .+ bp.services_walk15\n",
    ";\n",
    "bp.multimod_sum =\n",
    "    bp.cultural_institutions_multimodal .+ bp.drugstores_multimodal .+\n",
    "    bp.groceries_multimodal .+ bp.healthcare_multimodal .+ bp.parks_multimodal .+\n",
    "    bp.religious_organizations_multimodal .+ bp.restaurants_multimodal .+\n",
    "    bp.schools_multimodal .+ bp.services_multimodal\n",
    ";\n",
    "helsinki.walk_sum =\n",
    "    helsinki.cultural_institutions_walk15 .+ helsinki.drugstores_walk15 .+\n",
    "    helsinki.groceries_walk15 .+ helsinki.healthcare_walk15 .+ helsinki.parks_walk15 .+\n",
    "    helsinki.religious_organizations_walk15 .+ helsinki.restaurants_walk15 .+\n",
    "    helsinki.schools_walk15 .+ helsinki.services_walk15\n",
    ";\n",
    "helsinki.multimod_sum =\n",
    "    helsinki.cultural_institutions_multimodal .+ helsinki.drugstores_multimodal .+\n",
    "    helsinki.groceries_multimodal .+ helsinki.healthcare_multimodal .+\n",
    "    helsinki.parks_multimodal .+ helsinki.religious_organizations_multimodal .+\n",
    "    helsinki.restaurants_multimodal .+ helsinki.schools_multimodal .+\n",
    "    helsinki.services_multimodal\n",
    ";\n",
    "madrid.walk_sum =\n",
    "    madrid.cultural_institutions_walk15 .+ madrid.drugstores_walk15 .+\n",
    "    madrid.groceries_walk15 .+ madrid.healthcare_walk15 .+ madrid.parks_walk15 .+\n",
    "    madrid.religious_organizations_walk15 .+ madrid.restaurants_walk15 .+\n",
    "    madrid.schools_walk15 .+ madrid.services_walk15\n",
    ";\n",
    "madrid.multimod_sum =\n",
    "    madrid.cultural_institutions_multimodal .+ madrid.drugstores_multimodal .+\n",
    "    madrid.groceries_multimodal .+ madrid.healthcare_multimodal .+ madrid.parks_multimodal .+\n",
    "    madrid.religious_organizations_multimodal .+ madrid.restaurants_multimodal .+\n",
    "    madrid.schools_multimodal .+ madrid.services_multimodal\n",
    ";\n"
   ]
  },
  {
   "cell_type": "code",
   "execution_count": 183,
   "id": "1dc59580",
   "metadata": {},
   "outputs": [],
   "source": [
    "# Main regressions without interactions\n",
    "\n",
    "bp.gini_diff = bp.gini_multimodal .- bp.gini_walk15\n",
    "bp.gini_diff_house = bp.gini_house_multimodal .- bp.gini_house_walk15\n",
    "\n",
    "helsinki.gini_diff = helsinki.weighted_gini_multi .- helsinki.weighted_gini_walk\n",
    "madrid.gini_diff = madrid.weighted_gini_multi .- madrid.weighted_gini_walk\n",
    "\n",
    "\n",
    "bp.access_diff = bp.multimod_sum .- bp.walk_sum\n",
    "madrid.access_diff = madrid.multimod_sum .- madrid.walk_sum\n",
    "helsinki.access_diff = helsinki.multimod_sum .- helsinki.walk_sum\n",
    ";"
   ]
  },
  {
   "cell_type": "code",
   "execution_count": 184,
   "id": "d025234e",
   "metadata": {},
   "outputs": [
    {
     "data": {
      "text/plain": [
       "\"bp.jl.csv\""
      ]
     },
     "execution_count": 184,
     "metadata": {},
     "output_type": "execute_result"
    }
   ],
   "source": [
    "CSV.write(\"bp.jl.csv\", bp)"
   ]
  },
  {
   "cell_type": "code",
   "execution_count": null,
   "id": "f3c7627f",
   "metadata": {},
   "outputs": [
    {
     "data": {
      "text/plain": [
       "StatsModels.TableRegressionModel{LinearModel{GLM.LmResp{Vector{Float64}}, GLM.DensePredChol{Float64, LinearAlgebra.CholeskyPivoted{Float64, Matrix{Float64}, Vector{Int64}}}}, Matrix{Float64}}\n",
       "\n",
       "gini_diff ~ 1 + gini_walk15 + area_difference + ellipticity + distance_betweenness\n",
       "\n",
       "Coefficients:\n",
       "────────────────────────────────────────────────────────────────────────────────────────────\n",
       "                            Coef.   Std. Error       t  Pr(>|t|)     Lower 95%     Upper 95%\n",
       "────────────────────────────────────────────────────────────────────────────────────────────\n",
       "(Intercept)            0.0755072   0.00205188    36.80    <1e-99   0.0714845     0.0795299\n",
       "gini_walk15           -0.342529    0.00856171   -40.01    <1e-99  -0.359314     -0.325744\n",
       "area_difference        6.98962e-5  0.000132644    0.53    0.5983  -0.000190153   0.000329945\n",
       "ellipticity            0.0161454   0.00148294    10.89    <1e-26   0.0132381     0.0190527\n",
       "distance_betweenness  -0.00332919  9.77919e-5   -34.04    <1e-99  -0.00352091   -0.00313747\n",
       "────────────────────────────────────────────────────────────────────────────────────────────"
      ]
     },
     "execution_count": 185,
     "metadata": {},
     "output_type": "execute_result"
    }
   ],
   "source": [
    "# bp1_noint=lm(gini_diff ~\n",
    "#                gini_walk15+\n",
    "#                area_difference+\n",
    "#                ellipticity+\n",
    "#                distance_betweenness,\n",
    "#              data=bp)\n",
    "\n",
    "bp1_noint = lm(\n",
    "    @formula(\n",
    "        gini_diff ~ gini_walk15 + area_difference + ellipticity + distance_betweenness\n",
    "    ),\n",
    "    bp,\n",
    ")\n"
   ]
  },
  {
   "cell_type": "code",
   "execution_count": null,
   "id": "c9064426",
   "metadata": {},
   "outputs": [
    {
     "data": {
      "text/plain": [
       "StatsModels.TableRegressionModel{LinearModel{GLM.LmResp{Vector{Float64}}, GLM.DensePredChol{Float64, LinearAlgebra.CholeskyPivoted{Float64, Matrix{Float64}, Vector{Int64}}}}, Matrix{Float64}}\n",
       "\n",
       "gini_diff_house ~ 1 + gini_walk15 + area_difference + ellipticity + distance_betweenness\n",
       "\n",
       "Coefficients:\n",
       "────────────────────────────────────────────────────────────────────────────────────────────\n",
       "                             Coef.   Std. Error      t  Pr(>|t|)     Lower 95%     Upper 95%\n",
       "────────────────────────────────────────────────────────────────────────────────────────────\n",
       "(Intercept)            0.00236003   0.0031714     0.74    0.4568  -0.00385751    0.00857756\n",
       "gini_walk15            0.0917521    0.0132331     6.93    <1e-11   0.0658087     0.117696\n",
       "area_difference        0.00128462   0.000205016   6.27    <1e-09   0.000882687   0.00168656\n",
       "ellipticity            0.00113118   0.00229205    0.49    0.6217  -0.00336239    0.00562475\n",
       "distance_betweenness  -0.000950724  0.000151148  -6.29    <1e-09  -0.00124705   -0.000654398\n",
       "────────────────────────────────────────────────────────────────────────────────────────────"
      ]
     },
     "execution_count": 186,
     "metadata": {},
     "output_type": "execute_result"
    }
   ],
   "source": [
    "# bp2_noint=lm(bp$gini_diff_house ~\n",
    "#                gini_walk15+\n",
    "#                area_difference+\n",
    "#                ellipticity+\n",
    "#                distance_betweenness,\n",
    "#              data=bp)\n",
    "bp2_noint = lm(\n",
    "    @formula(\n",
    "        gini_diff_house ~\n",
    "        gini_walk15 + area_difference + ellipticity + distance_betweenness\n",
    "    ),\n",
    "    bp,\n",
    ")\n"
   ]
  },
  {
   "cell_type": "code",
   "execution_count": null,
   "id": "a0d266e6",
   "metadata": {},
   "outputs": [
    {
     "data": {
      "text/plain": [
       "StatsModels.TableRegressionModel{LinearModel{GLM.LmResp{Vector{Float64}}, GLM.DensePredChol{Float64, LinearAlgebra.CholeskyPivoted{Float64, Matrix{Float64}, Vector{Int64}}}}, Matrix{Float64}}\n",
       "\n",
       "gini_diff ~ 1 + weighted_gini_walk + area_difference + ellipticity + distance_betweenness\n",
       "\n",
       "Coefficients:\n",
       "────────────────────────────────────────────────────────────────────────────────────────────\n",
       "                             Coef.  Std. Error       t  Pr(>|t|)     Lower 95%     Upper 95%\n",
       "────────────────────────────────────────────────────────────────────────────────────────────\n",
       "(Intercept)            0.134816     0.0030788    43.79    <1e-99   0.128779      0.140853\n",
       "weighted_gini_walk    -0.420133     0.0093998   -44.70    <1e-99  -0.438565     -0.401702\n",
       "area_difference        0.000135629  6.06152e-5    2.24    0.0253   1.67715e-5    0.000254486\n",
       "ellipticity           -0.000761388  0.001023     -0.74    0.4568  -0.00276734    0.00124456\n",
       "distance_betweenness  -0.000172356  5.94224e-5   -2.90    0.0038  -0.000288874  -5.58374e-5\n",
       "────────────────────────────────────────────────────────────────────────────────────────────"
      ]
     },
     "execution_count": 187,
     "metadata": {},
     "output_type": "execute_result"
    }
   ],
   "source": [
    "# helsinki1_noint=lm(gini_diff ~\n",
    "#                      weighted_gini_walk+\n",
    "#                      area_difference+\n",
    "#                      ellipticity+\n",
    "#                      distance_betweenness,\n",
    "#                    data=helsinki)\n",
    "helsinki1_noint = lm(\n",
    "    @formula(\n",
    "        gini_diff ~\n",
    "        weighted_gini_walk + area_difference + ellipticity + distance_betweenness\n",
    "    ),\n",
    "    helsinki,\n",
    ")\n"
   ]
  },
  {
   "cell_type": "code",
   "execution_count": null,
   "id": "d862db1f",
   "metadata": {},
   "outputs": [
    {
     "data": {
      "text/plain": [
       "StatsModels.TableRegressionModel{LinearModel{GLM.LmResp{Vector{Float64}}, GLM.DensePredChol{Float64, LinearAlgebra.CholeskyPivoted{Float64, Matrix{Float64}, Vector{Int64}}}}, Matrix{Float64}}\n",
       "\n",
       "gini_diff ~ 1 + weighted_gini_walk + area_difference + ellipticity + distance_betweenness\n",
       "\n",
       "Coefficients:\n",
       "───────────────────────────────────────────────────────────────────────────────────────\n",
       "                           Coef.  Std. Error       t  Pr(>|t|)   Lower 95%    Upper 95%\n",
       "───────────────────────────────────────────────────────────────────────────────────────\n",
       "(Intercept)            6.35123    0.171134     37.11    <1e-99   6.01574     6.68673\n",
       "weighted_gini_walk    -0.178915   0.00470709  -38.01    <1e-99  -0.188143   -0.169687\n",
       "area_difference       -0.0144015  0.0103702    -1.39    0.1650  -0.0347314   0.00592842\n",
       "ellipticity           -0.222714   0.0849451    -2.62    0.0088  -0.389242   -0.0561854\n",
       "distance_betweenness  -0.0809069  0.00592679  -13.65    <1e-40  -0.0925259  -0.0692879\n",
       "───────────────────────────────────────────────────────────────────────────────────────"
      ]
     },
     "execution_count": 188,
     "metadata": {},
     "output_type": "execute_result"
    }
   ],
   "source": [
    "# madrid1_noint=lm(gini_diff ~\n",
    "#                    weighted_gini_walk+\n",
    "#                    area_difference+\n",
    "#                    ellipticity+\n",
    "#                    distance_betweenness,\n",
    "#                  data=madrid)\n",
    "madrid1_noint = lm(\n",
    "    @formula(\n",
    "        gini_diff ~\n",
    "        weighted_gini_walk + area_difference + ellipticity + distance_betweenness\n",
    "    ),\n",
    "    madrid,\n",
    ")\n"
   ]
  },
  {
   "cell_type": "code",
   "execution_count": null,
   "id": "a207cdb1",
   "metadata": {},
   "outputs": [
    {
     "data": {
      "text/plain": [
       "StatsModels.TableRegressionModel{LinearModel{GLM.LmResp{Vector{Float64}}, GLM.DensePredChol{Float64, LinearAlgebra.CholeskyPivoted{Float64, Matrix{Float64}, Vector{Int64}}}}, Matrix{Float64}}\n",
       "\n",
       "access_diff ~ 1 + walk_sum + area_difference + ellipticity + distance_betweenness\n",
       "\n",
       "Coefficients:\n",
       "────────────────────────────────────────────────────────────────────────────────────────\n",
       "                           Coef.  Std. Error        t  Pr(>|t|)   Lower 95%    Upper 95%\n",
       "────────────────────────────────────────────────────────────────────────────────────────\n",
       "(Intercept)            7.81914    0.0630147    124.08    <1e-99   7.6956      7.94268\n",
       "walk_sum              -0.871587   0.00552744  -157.68    <1e-99  -0.882424   -0.860751\n",
       "area_difference        0.0521302  0.00369288    14.12    <1e-43   0.0448903   0.0593701\n",
       "ellipticity           -0.150181   0.0421979     -3.56    0.0004  -0.23291    -0.067452\n",
       "distance_betweenness  -0.0143395  0.00224907    -6.38    <1e-09  -0.0187488  -0.00993018\n",
       "────────────────────────────────────────────────────────────────────────────────────────"
      ]
     },
     "execution_count": 189,
     "metadata": {},
     "output_type": "execute_result"
    }
   ],
   "source": [
    "# bp1a_noint=lm(access_diff ~\n",
    "#                 walk_sum+\n",
    "#                 area_difference+\n",
    "#                 ellipticity+\n",
    "#                 distance_betweenness,\n",
    "#               data=bp)\n",
    "bp1a_noint = lm(\n",
    "    @formula(access_diff ~ walk_sum + area_difference + ellipticity + distance_betweenness),\n",
    "    bp,\n",
    ")\n"
   ]
  },
  {
   "cell_type": "code",
   "execution_count": null,
   "id": "2c25d456",
   "metadata": {},
   "outputs": [
    {
     "data": {
      "text/plain": [
       "StatsModels.TableRegressionModel{LinearModel{GLM.LmResp{Vector{Float64}}, GLM.DensePredChol{Float64, LinearAlgebra.CholeskyPivoted{Float64, Matrix{Float64}, Vector{Int64}}}}, Matrix{Float64}}\n",
       "\n",
       "access_diff ~ 1 + walk_sum + area_difference + ellipticity + distance_betweenness\n",
       "\n",
       "Coefficients:\n",
       "──────────────────────────────────────────────────────────────────────────────────────\n",
       "                           Coef.  Std. Error       t  Pr(>|t|)   Lower 95%   Upper 95%\n",
       "──────────────────────────────────────────────────────────────────────────────────────\n",
       "(Intercept)            6.43826    0.0994535    64.74    <1e-99   6.24324     6.63327\n",
       "walk_sum              -0.754409   0.0100793   -74.85    <1e-99  -0.774173   -0.734645\n",
       "area_difference        0.0830943  0.00435907   19.06    <1e-75   0.0745469   0.0916418\n",
       "ellipticity            0.26535    0.0736195     3.60    0.0003   0.120993    0.409706\n",
       "distance_betweenness  -0.0471888  0.00469146  -10.06    <1e-22  -0.056388   -0.0379896\n",
       "──────────────────────────────────────────────────────────────────────────────────────"
      ]
     },
     "execution_count": 190,
     "metadata": {},
     "output_type": "execute_result"
    }
   ],
   "source": [
    "# helsinki1a_noint=lm(access_diff ~\n",
    "#                       walk_sum+\n",
    "#                       area_difference+\n",
    "#                       ellipticity+\n",
    "#                       distance_betweenness,\n",
    "#                     data=helsinki)\n",
    "helsinki1a_noint = lm(\n",
    "    @formula(access_diff ~ walk_sum + area_difference + ellipticity + distance_betweenness),\n",
    "    helsinki,\n",
    ")\n"
   ]
  },
  {
   "cell_type": "code",
   "execution_count": null,
   "id": "7ecff255",
   "metadata": {},
   "outputs": [
    {
     "data": {
      "text/plain": [
       "StatsModels.TableRegressionModel{LinearModel{GLM.LmResp{Vector{Float64}}, GLM.DensePredChol{Float64, LinearAlgebra.CholeskyPivoted{Float64, Matrix{Float64}, Vector{Int64}}}}, Matrix{Float64}}\n",
       "\n",
       "access_diff ~ 1 + walk_sum + area_difference + ellipticity + distance_betweenness\n",
       "\n",
       "Coefficients:\n",
       "──────────────────────────────────────────────────────────────────────────────────────\n",
       "                           Coef.  Std. Error       t  Pr(>|t|)   Lower 95%   Upper 95%\n",
       "──────────────────────────────────────────────────────────────────────────────────────\n",
       "(Intercept)            5.10217    0.0837467    60.92    <1e-99   4.93799     5.26635\n",
       "walk_sum              -0.570749   0.00815176  -70.02    <1e-99  -0.58673    -0.554768\n",
       "area_difference        0.0918017  0.00510078   18.00    <1e-69   0.081802    0.101801\n",
       "ellipticity            0.0950967  0.0420187     2.26    0.0237   0.0127225   0.177471\n",
       "distance_betweenness  -0.0418843  0.0031428   -13.33    <1e-39  -0.0480455  -0.0357231\n",
       "──────────────────────────────────────────────────────────────────────────────────────"
      ]
     },
     "execution_count": 191,
     "metadata": {},
     "output_type": "execute_result"
    }
   ],
   "source": [
    "# madrid1a_noint=lm(access_diff ~\n",
    "#                     walk_sum+\n",
    "#                     area_difference+\n",
    "#                     ellipticity+\n",
    "#                     distance_betweenness,\n",
    "#                   data=madrid)\n",
    "madrid1a_noint = lm(\n",
    "    @formula(access_diff ~ walk_sum + area_difference + ellipticity + distance_betweenness),\n",
    "    madrid,\n",
    ")\n"
   ]
  },
  {
   "cell_type": "code",
   "execution_count": null,
   "id": "19386c40",
   "metadata": {},
   "outputs": [],
   "source": [
    "# h1a = helsinki1a_noint\n",
    "# m1a = madrid1a_noint\n",
    "# h1 = helsinki1_noint\n",
    "# m1 = madrid1_noint\n",
    "# b1a = bp1a_noint\n",
    "# b1 = bp1_noint\n",
    "# b2 = bp2_noint\n",
    "\n",
    "# stargazer(h1a, m1a, b1a, h1, m1, b2, b1,\n",
    "#           type=\"latex\",\n",
    "#           style=\"aer\",\n",
    "#           column.labels = c(\"Helsinki - Access\",\n",
    "#                             \"Madrid - Access\",\n",
    "#                             \"BP - Access\",\n",
    "#                             \"Helsinki - Gini\",\n",
    "#                             \"Madrid - Gini\",\n",
    "#                             \"BP residential - Gini\",\n",
    "#                             \"BP experienced - Gini\"),\n",
    "#           dep.var.labels.include = F,\n",
    "#           out=\"SI_Reg_1_noint.tex\")"
   ]
  },
  {
   "cell_type": "code",
   "execution_count": null,
   "id": "e7c0666f",
   "metadata": {},
   "outputs": [
    {
     "data": {
      "text/plain": [
       "\n",
       "--------------------------------------------------------------------------------------------------------------\n",
       "                                  access_diff                    gini_diff         gini_diff_house   gini_diff\n",
       "                       ---------------------------------   ---------------------   ---------------   ---------\n",
       "                             (1)         (2)         (3)         (4)         (5)               (6)         (7)\n",
       "--------------------------------------------------------------------------------------------------------------\n",
       "(Intercept)             6.438***    5.102***    7.819***    0.135***    6.351***             0.002    0.076***\n",
       "                         (0.099)     (0.084)     (0.063)     (0.003)     (0.171)           (0.003)     (0.002)\n",
       "walk_sum               -0.754***   -0.571***   -0.872***                                                      \n",
       "                         (0.010)     (0.008)     (0.006)                                                      \n",
       "area_difference         0.083***    0.092***    0.052***      0.000*      -0.014          0.001***       0.000\n",
       "                         (0.004)     (0.005)     (0.004)     (0.000)     (0.010)           (0.000)     (0.000)\n",
       "ellipticity             0.265***      0.095*   -0.150***      -0.001    -0.223**             0.001    0.016***\n",
       "                         (0.074)     (0.042)     (0.042)     (0.001)     (0.085)           (0.002)     (0.001)\n",
       "distance_betweenness   -0.047***   -0.042***   -0.014***    -0.000**   -0.081***         -0.001***   -0.003***\n",
       "                         (0.005)     (0.003)     (0.002)     (0.000)     (0.006)           (0.000)     (0.000)\n",
       "weighted_gini_walk                                         -0.420***   -0.179***                              \n",
       "                                                             (0.009)     (0.005)                              \n",
       "gini_walk15                                                                               0.092***   -0.343***\n",
       "                                                                                           (0.013)     (0.009)\n",
       "--------------------------------------------------------------------------------------------------------------\n",
       "N                          2,694       5,212       4,424       2,694       5,212             4,424       4,424\n",
       "R2                         0.706       0.515       0.870       0.439       0.221             0.073       0.303\n",
       "--------------------------------------------------------------------------------------------------------------\n",
       "\n"
      ]
     },
     "execution_count": 192,
     "metadata": {},
     "output_type": "execute_result"
    }
   ],
   "source": [
    "regtable(\n",
    "    helsinki1a_noint,\n",
    "    madrid1a_noint,\n",
    "    bp1a_noint,\n",
    "    helsinki1_noint,\n",
    "    madrid1_noint,\n",
    "    bp2_noint,\n",
    "    bp1_noint;\n",
    "    render = AsciiTable(),\n",
    "    group = false,\n",
    "    # labels=Dict(\"access_diff\" => \"Helsinki - Access\")\n",
    ")\n"
   ]
  },
  {
   "cell_type": "code",
   "execution_count": null,
   "id": "3d7f463f",
   "metadata": {},
   "outputs": [],
   "source": []
  }
 ],
 "metadata": {
  "kernelspec": {
   "display_name": "Julia 1.11.5",
   "language": "julia",
   "name": "julia-1.11"
  },
  "language_info": {
   "file_extension": ".jl",
   "mimetype": "application/julia",
   "name": "julia",
   "version": "1.11.6"
  }
 },
 "nbformat": 4,
 "nbformat_minor": 5
}
