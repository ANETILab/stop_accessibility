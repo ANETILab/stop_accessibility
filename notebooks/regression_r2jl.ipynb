{
 "cells": [
  {
   "cell_type": "code",
   "execution_count": null,
   "id": "94bff75e",
   "metadata": {},
   "outputs": [],
   "source": [
    "using CSV, DataFrames, GLM, RegressionTables, Statistics, PrettyTables, Effects, LinearAlgebra, CairoMakie\n",
    "\n",
    "\n",
    "function scale(df::DataFrame; cols::Vector{String} = names(df))\n",
    "    result = copy(df)\n",
    "    for col in cols\n",
    "        result[!, col] = (df[!, col] .- mean(df[!, col])) ./ std(df[!, col])\n",
    "    end\n",
    "    return result\n",
    "end\n",
    "\n",
    "function scale(x::AbstractVector)\n",
    "    return (x .- mean(x)) ./ std(x)\n",
    "end\n",
    "function scalem(x::AbstractVector)\n",
    "    return (skipmissing(x) .- mean(skipmissing(x))) ./ std(skipmissing(x))\n",
    "end\n",
    ";"
   ]
  },
  {
   "cell_type": "code",
   "execution_count": null,
   "id": "193c781d",
   "metadata": {},
   "outputs": [],
   "source": [
    "\"\"\"\n",
    "conditional_coef_link(m, x1::Symbol, x2::Symbol, cvals; level=0.95)\n",
    "\n",
    "Compute the conditional coefficient of `x1` at values of `x2` = `cvals` on the *link scale*\n",
    "for a GLM/LM `m` that includes the interaction `x1 & x2`.\n",
    "Returns a DataFrame with estimate, SE, and confidence interval.\n",
    "\n",
    "This method is developed with the aid of chatGPT.\n",
    "\"\"\"\n",
    "function conditional_coef_link(m, x1::Symbol, x2::Symbol, cvals; level=0.95)\n",
    "    names = coefnames(m)\n",
    "    # find indices for main and interaction terms\n",
    "    ix1 = findfirst(==(String(x1)), names)\n",
    "    iint = findfirst(n -> occursin(String(x1), n) && occursin(String(x2), n), names)\n",
    "    isnothing(ix1)  && error(\"Couldn't find coefficient for $x1\")\n",
    "    isnothing(iint) && error(\"Couldn't find interaction coefficient for $x1:$x2\")\n",
    "\n",
    "    β   = coef(m)\n",
    "    V   = vcov(m)\n",
    "    α   = 1 - level\n",
    "    z   = quantile(Normal(), 1 - α/2)\n",
    "\n",
    "    out = DataFrame(x2_value = Float64[], estimate = Float64[],\n",
    "                    se = Float64[], lower = Float64[], upper = Float64[])\n",
    "\n",
    "    for c in cvals\n",
    "        est = β[ix1] + c * β[iint]\n",
    "        var = V[ix1, ix1] + c^2 * V[iint, iint] + 2c * V[ix1, iint]\n",
    "        se  = sqrt(var)\n",
    "        push!(out, (c, est, se, est - z*se, est + z*se))\n",
    "    end\n",
    "    out\n",
    "end\n"
   ]
  },
  {
   "cell_type": "code",
   "execution_count": 2,
   "id": "5f48dbfe",
   "metadata": {
    "tags": [
     "parameters"
    ]
   },
   "outputs": [],
   "source": [
    "output = \"../output/regression\"\n",
    ";"
   ]
  },
  {
   "cell_type": "code",
   "execution_count": 3,
   "id": "649dacc6",
   "metadata": {},
   "outputs": [],
   "source": [
    "bp=CSV.read(\"../src/regression/budapest/bp_socioecon_merged5.csv\", DataFrame)\n",
    "# madrid=CSV.read(\"../src/regression/madrid/madrid_socioecon_merged2.csv\", DataFrame)\n",
    "madrid=CSV.read(\"../output/madrid/socioecon_merged2.csv\", DataFrame)\n",
    "# helsinki=CSV.read(\"../src/regression/helsinki/helsinki_socioecon_merged4.csv\", DataFrame)\n",
    "helsinki=CSV.read(\"../output/helsinki/socioecon_merged4.csv\", DataFrame)\n",
    ";"
   ]
  },
  {
   "cell_type": "code",
   "execution_count": 4,
   "id": "a5af27c0",
   "metadata": {},
   "outputs": [],
   "source": [
    "cols=[\n",
    "    \"cultural_institutions_multimodal\",\n",
    "    \"drugstores_multimodal\",\n",
    "    \"groceries_multimodal\",\n",
    "    \"healthcare_multimodal\",\n",
    "    \"parks_multimodal\",\n",
    "    \"religious_organizations_multimodal\",\n",
    "    \"restaurants_multimodal\",\n",
    "    \"schools_multimodal\",\n",
    "    \"services_multimodal\",\n",
    "    \"cultural_institutions_walk15\",\n",
    "    \"drugstores_walk15\",\n",
    "    \"groceries_walk15\",\n",
    "    \"healthcare_walk15\",\n",
    "    \"parks_walk15\",\n",
    "    \"religious_organizations_walk15\",\n",
    "    \"restaurants_walk15\",\n",
    "    \"schools_walk15\",\n",
    "    \"services_walk15\",\n",
    "];\n"
   ]
  },
  {
   "cell_type": "code",
   "execution_count": 5,
   "id": "379c1a41",
   "metadata": {},
   "outputs": [],
   "source": [
    "is_there_amenity(x) = x > 0 ? 1 : 0\n",
    "bp = bp[!, cols] .= is_there_amenity.(bp[!, cols])\n",
    "madrid = madrid[!, cols] .= is_there_amenity.(madrid[!, cols])\n",
    "helsinki = helsinki[!, cols] .= is_there_amenity.(helsinki[!, cols])\n",
    ";"
   ]
  },
  {
   "cell_type": "code",
   "execution_count": 6,
   "id": "e0d035c9",
   "metadata": {},
   "outputs": [],
   "source": [
    "bp.walk_sum =\n",
    "    bp.cultural_institutions_walk15 .+ bp.drugstores_walk15 .+ bp.groceries_walk15 .+\n",
    "    bp.healthcare_walk15 .+ bp.parks_walk15 .+ bp.religious_organizations_walk15 .+\n",
    "    bp.restaurants_walk15 .+ bp.schools_walk15 .+ bp.services_walk15\n",
    ";\n",
    "bp.multimod_sum =\n",
    "    bp.cultural_institutions_multimodal .+ bp.drugstores_multimodal .+\n",
    "    bp.groceries_multimodal .+ bp.healthcare_multimodal .+ bp.parks_multimodal .+\n",
    "    bp.religious_organizations_multimodal .+ bp.restaurants_multimodal .+\n",
    "    bp.schools_multimodal .+ bp.services_multimodal\n",
    ";\n",
    "helsinki.walk_sum =\n",
    "    helsinki.cultural_institutions_walk15 .+ helsinki.drugstores_walk15 .+\n",
    "    helsinki.groceries_walk15 .+ helsinki.healthcare_walk15 .+ helsinki.parks_walk15 .+\n",
    "    helsinki.religious_organizations_walk15 .+ helsinki.restaurants_walk15 .+\n",
    "    helsinki.schools_walk15 .+ helsinki.services_walk15\n",
    ";\n",
    "helsinki.multimod_sum =\n",
    "    helsinki.cultural_institutions_multimodal .+ helsinki.drugstores_multimodal .+\n",
    "    helsinki.groceries_multimodal .+ helsinki.healthcare_multimodal .+\n",
    "    helsinki.parks_multimodal .+ helsinki.religious_organizations_multimodal .+\n",
    "    helsinki.restaurants_multimodal .+ helsinki.schools_multimodal .+\n",
    "    helsinki.services_multimodal\n",
    ";\n",
    "madrid.walk_sum =\n",
    "    madrid.cultural_institutions_walk15 .+ madrid.drugstores_walk15 .+\n",
    "    madrid.groceries_walk15 .+ madrid.healthcare_walk15 .+ madrid.parks_walk15 .+\n",
    "    madrid.religious_organizations_walk15 .+ madrid.restaurants_walk15 .+\n",
    "    madrid.schools_walk15 .+ madrid.services_walk15\n",
    ";\n",
    "madrid.multimod_sum =\n",
    "    madrid.cultural_institutions_multimodal .+ madrid.drugstores_multimodal .+\n",
    "    madrid.groceries_multimodal .+ madrid.healthcare_multimodal .+ madrid.parks_multimodal .+\n",
    "    madrid.religious_organizations_multimodal .+ madrid.restaurants_multimodal .+\n",
    "    madrid.schools_multimodal .+ madrid.services_multimodal\n",
    ";\n"
   ]
  },
  {
   "cell_type": "markdown",
   "id": "1dc59580",
   "metadata": {},
   "source": [
    "# 2.0 Main regressions without interactions"
   ]
  },
  {
   "cell_type": "code",
   "execution_count": 7,
   "id": "2031609b",
   "metadata": {},
   "outputs": [],
   "source": [
    "bp.gini_diff = bp.gini_multimodal .- bp.gini_walk15\n",
    "bp.gini_diff_house = bp.gini_house_multimodal .- bp.gini_house_walk15\n",
    "\n",
    "helsinki.gini_diff = helsinki.weighted_gini_multi .- helsinki.weighted_gini_walk\n",
    "madrid.gini_diff = madrid.weighted_gini_multi .- madrid.weighted_gini_walk\n",
    "\n",
    "\n",
    "bp.access_diff = bp.multimod_sum .- bp.walk_sum\n",
    "madrid.access_diff = madrid.multimod_sum .- madrid.walk_sum\n",
    "helsinki.access_diff = helsinki.multimod_sum .- helsinki.walk_sum\n",
    ";"
   ]
  },
  {
   "cell_type": "code",
   "execution_count": 8,
   "id": "f3c7627f",
   "metadata": {},
   "outputs": [
    {
     "data": {
      "text/plain": [
       "StatsModels.TableRegressionModel{LinearModel{GLM.LmResp{Vector{Float64}}, GLM.DensePredChol{Float64, LinearAlgebra.CholeskyPivoted{Float64, Matrix{Float64}, Vector{Int64}}}}, Matrix{Float64}}\n",
       "\n",
       "gini_diff ~ 1 + gini_walk15 + area_difference + ellipticity + distance_betweenness\n",
       "\n",
       "Coefficients:\n",
       "────────────────────────────────────────────────────────────────────────────────────────────\n",
       "                            Coef.   Std. Error       t  Pr(>|t|)     Lower 95%     Upper 95%\n",
       "────────────────────────────────────────────────────────────────────────────────────────────\n",
       "(Intercept)            0.0755072   0.00205188    36.80    <1e-99   0.0714845     0.0795299\n",
       "gini_walk15           -0.342529    0.00856171   -40.01    <1e-99  -0.359314     -0.325744\n",
       "area_difference        6.98962e-5  0.000132644    0.53    0.5983  -0.000190153   0.000329945\n",
       "ellipticity            0.0161454   0.00148294    10.89    <1e-26   0.0132381     0.0190527\n",
       "distance_betweenness  -0.00332919  9.77919e-5   -34.04    <1e-99  -0.00352091   -0.00313747\n",
       "────────────────────────────────────────────────────────────────────────────────────────────"
      ]
     },
     "execution_count": 8,
     "metadata": {},
     "output_type": "execute_result"
    }
   ],
   "source": [
    "# bp1_noint=lm(gini_diff ~\n",
    "#                gini_walk15+\n",
    "#                area_difference+\n",
    "#                ellipticity+\n",
    "#                distance_betweenness,\n",
    "#              data=bp)\n",
    "\n",
    "bp1_noint = lm(\n",
    "    @formula(\n",
    "        gini_diff ~ gini_walk15 + area_difference + ellipticity + distance_betweenness\n",
    "    ),\n",
    "    bp,\n",
    ")\n"
   ]
  },
  {
   "cell_type": "code",
   "execution_count": 9,
   "id": "c9064426",
   "metadata": {},
   "outputs": [
    {
     "data": {
      "text/plain": [
       "StatsModels.TableRegressionModel{LinearModel{GLM.LmResp{Vector{Float64}}, GLM.DensePredChol{Float64, LinearAlgebra.CholeskyPivoted{Float64, Matrix{Float64}, Vector{Int64}}}}, Matrix{Float64}}\n",
       "\n",
       "gini_diff_house ~ 1 + gini_walk15 + area_difference + ellipticity + distance_betweenness\n",
       "\n",
       "Coefficients:\n",
       "────────────────────────────────────────────────────────────────────────────────────────────\n",
       "                             Coef.   Std. Error      t  Pr(>|t|)     Lower 95%     Upper 95%\n",
       "────────────────────────────────────────────────────────────────────────────────────────────\n",
       "(Intercept)            0.00236003   0.0031714     0.74    0.4568  -0.00385751    0.00857756\n",
       "gini_walk15            0.0917521    0.0132331     6.93    <1e-11   0.0658087     0.117696\n",
       "area_difference        0.00128462   0.000205016   6.27    <1e-09   0.000882687   0.00168656\n",
       "ellipticity            0.00113118   0.00229205    0.49    0.6217  -0.00336239    0.00562475\n",
       "distance_betweenness  -0.000950724  0.000151148  -6.29    <1e-09  -0.00124705   -0.000654398\n",
       "────────────────────────────────────────────────────────────────────────────────────────────"
      ]
     },
     "execution_count": 9,
     "metadata": {},
     "output_type": "execute_result"
    }
   ],
   "source": [
    "# bp2_noint=lm(bp$gini_diff_house ~\n",
    "#                gini_walk15+\n",
    "#                area_difference+\n",
    "#                ellipticity+\n",
    "#                distance_betweenness,\n",
    "#              data=bp)\n",
    "bp2_noint = lm(\n",
    "    @formula(\n",
    "        gini_diff_house ~\n",
    "        gini_walk15 + area_difference + ellipticity + distance_betweenness\n",
    "    ),\n",
    "    bp,\n",
    ")\n"
   ]
  },
  {
   "cell_type": "code",
   "execution_count": 10,
   "id": "a0d266e6",
   "metadata": {},
   "outputs": [
    {
     "data": {
      "text/plain": [
       "StatsModels.TableRegressionModel{LinearModel{GLM.LmResp{Vector{Float64}}, GLM.DensePredChol{Float64, LinearAlgebra.CholeskyPivoted{Float64, Matrix{Float64}, Vector{Int64}}}}, Matrix{Float64}}\n",
       "\n",
       "gini_diff ~ 1 + weighted_gini_walk + area_difference + ellipticity + distance_betweenness\n",
       "\n",
       "Coefficients:\n",
       "─────────────────────────────────────────────────────────────────────────────────────────────\n",
       "                             Coef.   Std. Error       t  Pr(>|t|)     Lower 95%     Upper 95%\n",
       "─────────────────────────────────────────────────────────────────────────────────────────────\n",
       "(Intercept)            0.134882     0.00308156    43.77    <1e-99   0.128839      0.140924\n",
       "weighted_gini_walk    -0.426703     0.00956035   -44.63    <1e-99  -0.44545      -0.407957\n",
       "area_difference        0.000134559  5.80749e-5     2.32    0.0206   2.06825e-5    0.000248435\n",
       "ellipticity           -0.000652846  0.000981131   -0.67    0.5059  -0.00257669    0.001271\n",
       "distance_betweenness  -0.00024573   5.76113e-5    -4.27    <1e-04  -0.000358697  -0.000132763\n",
       "─────────────────────────────────────────────────────────────────────────────────────────────"
      ]
     },
     "execution_count": 10,
     "metadata": {},
     "output_type": "execute_result"
    }
   ],
   "source": [
    "# helsinki1_noint=lm(gini_diff ~\n",
    "#                      weighted_gini_walk+\n",
    "#                      area_difference+\n",
    "#                      ellipticity+\n",
    "#                      distance_betweenness,\n",
    "#                    data=helsinki)\n",
    "helsinki1_noint = lm(\n",
    "    @formula(\n",
    "        gini_diff ~\n",
    "        weighted_gini_walk + area_difference + ellipticity + distance_betweenness\n",
    "    ),\n",
    "    helsinki,\n",
    ")\n"
   ]
  },
  {
   "cell_type": "code",
   "execution_count": 11,
   "id": "d862db1f",
   "metadata": {},
   "outputs": [
    {
     "data": {
      "text/plain": [
       "StatsModels.TableRegressionModel{LinearModel{GLM.LmResp{Vector{Float64}}, GLM.DensePredChol{Float64, LinearAlgebra.CholeskyPivoted{Float64, Matrix{Float64}, Vector{Int64}}}}, Matrix{Float64}}\n",
       "\n",
       "gini_diff ~ 1 + weighted_gini_walk + area_difference + ellipticity + distance_betweenness\n",
       "\n",
       "Coefficients:\n",
       "───────────────────────────────────────────────────────────────────────────────────────\n",
       "                           Coef.  Std. Error       t  Pr(>|t|)   Lower 95%    Upper 95%\n",
       "───────────────────────────────────────────────────────────────────────────────────────\n",
       "(Intercept)            6.35123    0.171134     37.11    <1e-99   6.01574     6.68673\n",
       "weighted_gini_walk    -0.178915   0.00470709  -38.01    <1e-99  -0.188143   -0.169687\n",
       "area_difference       -0.0144015  0.0103702    -1.39    0.1650  -0.0347314   0.00592842\n",
       "ellipticity           -0.222714   0.0849451    -2.62    0.0088  -0.389242   -0.0561854\n",
       "distance_betweenness  -0.0809069  0.00592679  -13.65    <1e-40  -0.0925259  -0.0692879\n",
       "───────────────────────────────────────────────────────────────────────────────────────"
      ]
     },
     "execution_count": 11,
     "metadata": {},
     "output_type": "execute_result"
    }
   ],
   "source": [
    "# madrid1_noint=lm(gini_diff ~\n",
    "#                    weighted_gini_walk+\n",
    "#                    area_difference+\n",
    "#                    ellipticity+\n",
    "#                    distance_betweenness,\n",
    "#                  data=madrid)\n",
    "madrid1_noint = lm(\n",
    "    @formula(\n",
    "        gini_diff ~\n",
    "        weighted_gini_walk + area_difference + ellipticity + distance_betweenness\n",
    "    ),\n",
    "    madrid,\n",
    ")\n"
   ]
  },
  {
   "cell_type": "code",
   "execution_count": 12,
   "id": "a207cdb1",
   "metadata": {},
   "outputs": [
    {
     "data": {
      "text/plain": [
       "StatsModels.TableRegressionModel{LinearModel{GLM.LmResp{Vector{Float64}}, GLM.DensePredChol{Float64, LinearAlgebra.CholeskyPivoted{Float64, Matrix{Float64}, Vector{Int64}}}}, Matrix{Float64}}\n",
       "\n",
       "access_diff ~ 1 + walk_sum + area_difference + ellipticity + distance_betweenness\n",
       "\n",
       "Coefficients:\n",
       "────────────────────────────────────────────────────────────────────────────────────────\n",
       "                           Coef.  Std. Error        t  Pr(>|t|)   Lower 95%    Upper 95%\n",
       "────────────────────────────────────────────────────────────────────────────────────────\n",
       "(Intercept)            7.81914    0.0630147    124.08    <1e-99   7.6956      7.94268\n",
       "walk_sum              -0.871587   0.00552744  -157.68    <1e-99  -0.882424   -0.860751\n",
       "area_difference        0.0521302  0.00369288    14.12    <1e-43   0.0448903   0.0593701\n",
       "ellipticity           -0.150181   0.0421979     -3.56    0.0004  -0.23291    -0.067452\n",
       "distance_betweenness  -0.0143395  0.00224907    -6.38    <1e-09  -0.0187488  -0.00993018\n",
       "────────────────────────────────────────────────────────────────────────────────────────"
      ]
     },
     "execution_count": 12,
     "metadata": {},
     "output_type": "execute_result"
    }
   ],
   "source": [
    "# bp1a_noint=lm(access_diff ~\n",
    "#                 walk_sum+\n",
    "#                 area_difference+\n",
    "#                 ellipticity+\n",
    "#                 distance_betweenness,\n",
    "#               data=bp)\n",
    "bp1a_noint = lm(\n",
    "    @formula(access_diff ~ walk_sum + area_difference + ellipticity + distance_betweenness),\n",
    "    bp,\n",
    ")\n"
   ]
  },
  {
   "cell_type": "code",
   "execution_count": 13,
   "id": "2c25d456",
   "metadata": {},
   "outputs": [
    {
     "data": {
      "text/plain": [
       "StatsModels.TableRegressionModel{LinearModel{GLM.LmResp{Vector{Float64}}, GLM.DensePredChol{Float64, LinearAlgebra.CholeskyPivoted{Float64, Matrix{Float64}, Vector{Int64}}}}, Matrix{Float64}}\n",
       "\n",
       "access_diff ~ 1 + walk_sum + area_difference + ellipticity + distance_betweenness\n",
       "\n",
       "Coefficients:\n",
       "──────────────────────────────────────────────────────────────────────────────────────\n",
       "                           Coef.  Std. Error       t  Pr(>|t|)   Lower 95%   Upper 95%\n",
       "──────────────────────────────────────────────────────────────────────────────────────\n",
       "(Intercept)            6.43826    0.0994535    64.74    <1e-99   6.24324     6.63327\n",
       "walk_sum              -0.754409   0.0100793   -74.85    <1e-99  -0.774173   -0.734645\n",
       "area_difference        0.0830943  0.00435907   19.06    <1e-75   0.0745469   0.0916418\n",
       "ellipticity            0.26535    0.0736195     3.60    0.0003   0.120993    0.409706\n",
       "distance_betweenness  -0.0471888  0.00469146  -10.06    <1e-22  -0.056388   -0.0379896\n",
       "──────────────────────────────────────────────────────────────────────────────────────"
      ]
     },
     "execution_count": 13,
     "metadata": {},
     "output_type": "execute_result"
    }
   ],
   "source": [
    "# helsinki1a_noint=lm(access_diff ~\n",
    "#                       walk_sum+\n",
    "#                       area_difference+\n",
    "#                       ellipticity+\n",
    "#                       distance_betweenness,\n",
    "#                     data=helsinki)\n",
    "helsinki1a_noint = lm(\n",
    "    @formula(access_diff ~ walk_sum + area_difference + ellipticity + distance_betweenness),\n",
    "    helsinki,\n",
    ")\n"
   ]
  },
  {
   "cell_type": "code",
   "execution_count": 14,
   "id": "7ecff255",
   "metadata": {},
   "outputs": [
    {
     "data": {
      "text/plain": [
       "StatsModels.TableRegressionModel{LinearModel{GLM.LmResp{Vector{Float64}}, GLM.DensePredChol{Float64, LinearAlgebra.CholeskyPivoted{Float64, Matrix{Float64}, Vector{Int64}}}}, Matrix{Float64}}\n",
       "\n",
       "access_diff ~ 1 + walk_sum + area_difference + ellipticity + distance_betweenness\n",
       "\n",
       "Coefficients:\n",
       "──────────────────────────────────────────────────────────────────────────────────────\n",
       "                           Coef.  Std. Error       t  Pr(>|t|)   Lower 95%   Upper 95%\n",
       "──────────────────────────────────────────────────────────────────────────────────────\n",
       "(Intercept)            5.10217    0.0837467    60.92    <1e-99   4.93799     5.26635\n",
       "walk_sum              -0.570749   0.00815176  -70.02    <1e-99  -0.58673    -0.554768\n",
       "area_difference        0.0918017  0.00510078   18.00    <1e-69   0.081802    0.101801\n",
       "ellipticity            0.0950967  0.0420187     2.26    0.0237   0.0127225   0.177471\n",
       "distance_betweenness  -0.0418843  0.0031428   -13.33    <1e-39  -0.0480455  -0.0357231\n",
       "──────────────────────────────────────────────────────────────────────────────────────"
      ]
     },
     "execution_count": 14,
     "metadata": {},
     "output_type": "execute_result"
    }
   ],
   "source": [
    "# madrid1a_noint=lm(access_diff ~\n",
    "#                     walk_sum+\n",
    "#                     area_difference+\n",
    "#                     ellipticity+\n",
    "#                     distance_betweenness,\n",
    "#                   data=madrid)\n",
    "madrid1a_noint = lm(\n",
    "    @formula(access_diff ~ walk_sum + area_difference + ellipticity + distance_betweenness),\n",
    "    madrid,\n",
    ")\n"
   ]
  },
  {
   "cell_type": "code",
   "execution_count": 15,
   "id": "19386c40",
   "metadata": {},
   "outputs": [],
   "source": [
    "# h1a = helsinki1a_noint\n",
    "# m1a = madrid1a_noint\n",
    "# h1 = helsinki1_noint\n",
    "# m1 = madrid1_noint\n",
    "# b1a = bp1a_noint\n",
    "# b1 = bp1_noint\n",
    "# b2 = bp2_noint\n",
    "\n",
    "# stargazer(h1a, m1a, b1a, h1, m1, b2, b1,\n",
    "#           type=\"latex\",\n",
    "#           style=\"aer\",\n",
    "#           column.labels = c(\"Helsinki - Access\",\n",
    "#                             \"Madrid - Access\",\n",
    "#                             \"BP - Access\",\n",
    "#                             \"Helsinki - Gini\",\n",
    "#                             \"Madrid - Gini\",\n",
    "#                             \"BP residential - Gini\",\n",
    "#                             \"BP experienced - Gini\"),\n",
    "#           dep.var.labels.include = F,\n",
    "#           out=\"SI_Reg_1_noint.tex\")"
   ]
  },
  {
   "cell_type": "code",
   "execution_count": 16,
   "id": "1994b65a",
   "metadata": {},
   "outputs": [
    {
     "data": {
      "text/plain": [
       "\n",
       "----------------------------------------------------------------------------------------------------------------------\n",
       "                        Helsinki     Madrid     Budapest    Helsinki     Madrid                  Budapest             \n",
       "                       ---------   ---------   ---------   ---------   ---------   -----------------------------------\n",
       "                                     Access                   Experienced Gini     Residential Gini   Experienced Gini\n",
       "                       ---------------------------------   ---------------------   ----------------   ----------------\n",
       "                             (1)         (2)         (3)         (4)         (5)                (6)                (7)\n",
       "----------------------------------------------------------------------------------------------------------------------\n",
       "(Intercept)             6.438***    5.102***    7.819***    0.135***    6.351***              0.002           0.076***\n",
       "                         (0.099)     (0.084)     (0.063)     (0.003)     (0.171)            (0.003)            (0.002)\n",
       "walk_sum               -0.754***   -0.571***   -0.872***                                                              \n",
       "                         (0.010)     (0.008)     (0.006)                                                              \n",
       "area_difference         0.083***    0.092***    0.052***      0.000*      -0.014           0.001***              0.000\n",
       "                         (0.004)     (0.005)     (0.004)     (0.000)     (0.010)            (0.000)            (0.000)\n",
       "ellipticity             0.265***      0.095*   -0.150***      -0.001    -0.223**              0.001           0.016***\n",
       "                         (0.074)     (0.042)     (0.042)     (0.001)     (0.085)            (0.002)            (0.001)\n",
       "distance_betweenness   -0.047***   -0.042***   -0.014***   -0.000***   -0.081***          -0.001***          -0.003***\n",
       "                         (0.005)     (0.003)     (0.002)     (0.000)     (0.006)            (0.000)            (0.000)\n",
       "weighted_gini_walk                                         -0.427***   -0.179***                                      \n",
       "                                                             (0.010)     (0.005)                                      \n",
       "gini_walk15                                                                                0.092***          -0.343***\n",
       "                                                                                            (0.013)            (0.009)\n",
       "----------------------------------------------------------------------------------------------------------------------\n",
       "N                          2,694       5,212       4,424       2,694       5,212              4,424              4,424\n",
       "R2                         0.706       0.515       0.870       0.439       0.221              0.073              0.303\n",
       "----------------------------------------------------------------------------------------------------------------------\n",
       "\n"
      ]
     },
     "execution_count": 16,
     "metadata": {},
     "output_type": "execute_result"
    }
   ],
   "source": [
    "regtable(\n",
    "    helsinki1a_noint,\n",
    "    madrid1a_noint,\n",
    "    bp1a_noint,\n",
    "    helsinki1_noint,\n",
    "    madrid1_noint,\n",
    "    bp2_noint,\n",
    "    bp1_noint;\n",
    "    render = LatexTable(),\n",
    "    groups=[\"Helsinki\", \"Madrid\", \"Budapest\", \"Helsinki\", \"Madrid\", \"Budapest\", \"Budapest\"],\n",
    "    labels=Dict(\"access_diff\" => \"Access\", \"gini_diff\" => \"Gini\", \"gini_diff_house\" => \"Residential Gini\", \"gini_diff\" => \"Experienced Gini\"),\n",
    "    wrap_table = true,\n",
    "    label = \"tab:madrid_stats\",\n",
    "    file=\"$(output)/SI_Reg_1_noint.tex\"\n",
    ")\n",
    "# label = \"tab:madrid_stats\", title = \"Summary Statistics for Madrid\", wrap_table = true\n",
    "regtable(\n",
    "    helsinki1a_noint,\n",
    "    madrid1a_noint,\n",
    "    bp1a_noint,\n",
    "    helsinki1_noint,\n",
    "    madrid1_noint,\n",
    "    bp2_noint,\n",
    "    bp1_noint;\n",
    "    render = AsciiTable(),\n",
    "    groups=[\"Helsinki\", \"Madrid\", \"Budapest\", \"Helsinki\", \"Madrid\", \"Budapest\", \"Budapest\"],\n",
    "    labels=Dict(\"access_diff\" => \"Access\", \"gini_diff\" => \"Gini\", \"gini_diff_house\" => \"Residential Gini\", \"gini_diff\" => \"Experienced Gini\"),\n",
    "    file=\"$(output)/SI_Reg_1_noint.txt\"\n",
    ")"
   ]
  },
  {
   "cell_type": "code",
   "execution_count": 17,
   "id": "2293deb2",
   "metadata": {},
   "outputs": [],
   "source": [
    "# pretty_table(stdout, mad_sum, backend = Val(:latex); show_subheader=false, label = \"tab:madrid_stats\", title = \"Summary Statistics for Madrid\", wrap_table = true)"
   ]
  },
  {
   "cell_type": "markdown",
   "id": "2e15bfe1",
   "metadata": {},
   "source": []
  },
  {
   "cell_type": "code",
   "execution_count": 18,
   "id": "f24d6ad8",
   "metadata": {},
   "outputs": [],
   "source": [
    "bp_avg_price = CSV.read(\"../src/regression/budapest/stop_property_price.csv\", DataFrame);\n",
    "bp = leftjoin(bp, bp_avg_price, on=\"stop_id\");"
   ]
  },
  {
   "cell_type": "code",
   "execution_count": 19,
   "id": "3d7f463f",
   "metadata": {},
   "outputs": [
    {
     "data": {
      "text/plain": [
       "StatsModels.TableRegressionModel{LinearModel{GLM.LmResp{Vector{Float64}}, GLM.DensePredChol{Float64, LinearAlgebra.CholeskyPivoted{Float64, Matrix{Float64}, Vector{Int64}}}}, Matrix{Float64}}\n",
       "\n",
       "gini_diff ~ 1 + gini_walk15 + area_difference + ellipticity + distance_betweenness\n",
       "\n",
       "Coefficients:\n",
       "────────────────────────────────────────────────────────────────────────────────────────────\n",
       "                             Coef.   Std. Error       t  Pr(>|t|)     Lower 95%    Upper 95%\n",
       "────────────────────────────────────────────────────────────────────────────────────────────\n",
       "(Intercept)            0.0700856    0.00323664    21.65    <1e-93   0.0637384     0.0764328\n",
       "gini_walk15           -0.277602     0.0117019    -23.72    <1e-99  -0.30055      -0.254654\n",
       "area_difference       -0.000219526  0.000140259   -1.57    0.1177  -0.000494579   5.55274e-5\n",
       "ellipticity            0.010498     0.00180235     5.82    <1e-08   0.00696351    0.0140325\n",
       "distance_betweenness  -0.00386927   0.000207803  -18.62    <1e-71  -0.00427678   -0.00346176\n",
       "────────────────────────────────────────────────────────────────────────────────────────────"
      ]
     },
     "execution_count": 19,
     "metadata": {},
     "output_type": "execute_result"
    }
   ],
   "source": [
    "# bp1_noint_l=lm(gini_diff ~\n",
    "#                  gini_walk15+\n",
    "#                  area_difference+\n",
    "#                  ellipticity+\n",
    "#                  distance_betweenness,\n",
    "#                data=bp[bp$arpu_low_ratio_walk15>\n",
    "#                          median(bp$arpu_low_ratio_walk15),])\n",
    "\n",
    "bp1_noint_l = lm(@formula(\n",
    "  gini_diff ~ gini_walk15 + area_difference + ellipticity + distance_betweenness),\n",
    "    filter(row -> row.arpu_low_ratio_walk15 > median(bp.arpu_low_ratio_walk15), bp),\n",
    ")"
   ]
  },
  {
   "cell_type": "code",
   "execution_count": 20,
   "id": "2a87b61b",
   "metadata": {},
   "outputs": [
    {
     "data": {
      "text/plain": [
       "StatsModels.TableRegressionModel{LinearModel{GLM.LmResp{Vector{Float64}}, GLM.DensePredChol{Float64, LinearAlgebra.CholeskyPivoted{Float64, Matrix{Float64}, Vector{Int64}}}}, Matrix{Float64}}\n",
       "\n",
       "gini_diff ~ 1 + gini_walk15 + area_difference + ellipticity + distance_betweenness\n",
       "\n",
       "Coefficients:\n",
       "────────────────────────────────────────────────────────────────────────────────────────────\n",
       "                            Coef.   Std. Error       t  Pr(>|t|)     Lower 95%     Upper 95%\n",
       "────────────────────────────────────────────────────────────────────────────────────────────\n",
       "(Intercept)            0.11275     0.00311       36.25    <1e-99   0.106651      0.118849\n",
       "gini_walk15           -0.667147    0.0181825    -36.69    <1e-99  -0.702804     -0.631491\n",
       "area_difference       -3.95908e-5  0.000227291   -0.17    0.8617  -0.000485317   0.000406136\n",
       "ellipticity            0.0200523   0.00219426     9.14    <1e-18   0.0157493     0.0243554\n",
       "distance_betweenness  -0.00304315  0.000126564  -24.04    <1e-99  -0.00329135   -0.00279495\n",
       "────────────────────────────────────────────────────────────────────────────────────────────"
      ]
     },
     "execution_count": 20,
     "metadata": {},
     "output_type": "execute_result"
    }
   ],
   "source": [
    "# bp1_noint_h=lm(gini_diff ~\n",
    "#                  gini_walk15+\n",
    "#                  area_difference+\n",
    "#                  ellipticity+\n",
    "#                  distance_betweenness,\n",
    "#                  data=bp[bp$arpu_low_ratio_walk15<\n",
    "#                          median(bp$arpu_low_ratio_walk15),])\n",
    "\n",
    "bp1_noint_h = lm(@formula(\n",
    "  gini_diff ~ gini_walk15 + area_difference + ellipticity + distance_betweenness),\n",
    "    filter(row -> row.arpu_low_ratio_walk15 < median(bp.arpu_low_ratio_walk15), bp),\n",
    ")\n"
   ]
  },
  {
   "cell_type": "code",
   "execution_count": 21,
   "id": "b3e4e201",
   "metadata": {},
   "outputs": [
    {
     "data": {
      "text/plain": [
       "StatsModels.TableRegressionModel{LinearModel{GLM.LmResp{Vector{Float64}}, GLM.DensePredChol{Float64, LinearAlgebra.CholeskyPivoted{Float64, Matrix{Float64}, Vector{Int64}}}}, Matrix{Float64}}\n",
       "\n",
       "gini_diff_house ~ 1 + gini_walk15 + area_difference + ellipticity + distance_betweenness\n",
       "\n",
       "Coefficients:\n",
       "───────────────────────────────────────────────────────────────────────────────────────────\n",
       "                             Coef.   Std. Error      t  Pr(>|t|)    Lower 95%     Upper 95%\n",
       "───────────────────────────────────────────────────────────────────────────────────────────\n",
       "(Intercept)           -0.0148872    0.0051258    -2.90    0.0037  -0.0249397   -0.00483481\n",
       "gini_walk15            0.208286     0.0292797     7.11    <1e-11   0.150864     0.265708\n",
       "area_difference       -0.000187086  0.000339125  -0.55    0.5812  -0.00085216   0.000477987\n",
       "ellipticity            0.0169611    0.00358127    4.74    <1e-05   0.0099377    0.0239845\n",
       "distance_betweenness  -0.000980485  0.000205568  -4.77    <1e-05  -0.00138363  -0.000577335\n",
       "───────────────────────────────────────────────────────────────────────────────────────────"
      ]
     },
     "execution_count": 21,
     "metadata": {},
     "output_type": "execute_result"
    }
   ],
   "source": [
    "# bp2_noint_l=lm(gini_diff_house ~\n",
    "#                  gini_walk15+\n",
    "#                  area_difference+\n",
    "#                  ellipticity+\n",
    "#                  distance_betweenness,\n",
    "#                data=bp[bp$mean_price<\n",
    "#                          median(bp$mean_price, na.rm = T),])\n",
    "\n",
    "bp2_noint_l = lm(@formula(\n",
    "  gini_diff_house ~ gini_walk15 + area_difference + ellipticity + distance_betweenness),\n",
    "    filter(row -> row.mean_price < median(skipmissing(bp.mean_price)), dropmissing(bp, :mean_price)),\n",
    ")"
   ]
  },
  {
   "cell_type": "code",
   "execution_count": 22,
   "id": "1d99c4b2",
   "metadata": {},
   "outputs": [
    {
     "data": {
      "text/plain": [
       "StatsModels.TableRegressionModel{LinearModel{GLM.LmResp{Vector{Float64}}, GLM.DensePredChol{Float64, LinearAlgebra.CholeskyPivoted{Float64, Matrix{Float64}, Vector{Int64}}}}, Matrix{Float64}}\n",
       "\n",
       "gini_diff_house ~ 1 + gini_walk15 + area_difference + ellipticity + distance_betweenness\n",
       "\n",
       "Coefficients:\n",
       "─────────────────────────────────────────────────────────────────────────────────────────\n",
       "                            Coef.   Std. Error      t  Pr(>|t|)    Lower 95%    Upper 95%\n",
       "─────────────────────────────────────────────────────────────────────────────────────────\n",
       "(Intercept)            0.0233656   0.00493647    4.73    <1e-05   0.0136845    0.0330468\n",
       "gini_walk15            0.0171896   0.0177871     0.97    0.3340  -0.0176935    0.0520726\n",
       "area_difference        0.00232848  0.000253649   9.18    <1e-18   0.00183104   0.00282592\n",
       "ellipticity           -0.0122596   0.00291355   -4.21    <1e-04  -0.0179735   -0.00654575\n",
       "distance_betweenness  -0.00213125  0.000315031  -6.77    <1e-10  -0.00274907  -0.00151343\n",
       "─────────────────────────────────────────────────────────────────────────────────────────"
      ]
     },
     "execution_count": 22,
     "metadata": {},
     "output_type": "execute_result"
    }
   ],
   "source": [
    "# bp2_noint_h=lm(gini_diff_house ~\n",
    "#                  gini_walk15+\n",
    "#                  area_difference+\n",
    "#                  ellipticity+\n",
    "#                  distance_betweenness,\n",
    "#                data=bp[bp$mean_price>\n",
    "#                          median(bp$mean_price, na.rm = T),])\n",
    "\n",
    "bp2_noint_h = lm(@formula(\n",
    "  gini_diff_house ~ gini_walk15 + area_difference + ellipticity + distance_betweenness),\n",
    "    filter(row -> row.mean_price > median(skipmissing(bp.mean_price)), dropmissing(bp, :mean_price)),\n",
    ")"
   ]
  },
  {
   "cell_type": "code",
   "execution_count": 23,
   "id": "884e31fb",
   "metadata": {},
   "outputs": [
    {
     "data": {
      "text/plain": [
       "StatsModels.TableRegressionModel{LinearModel{GLM.LmResp{Vector{Float64}}, GLM.DensePredChol{Float64, LinearAlgebra.CholeskyPivoted{Float64, Matrix{Float64}, Vector{Int64}}}}, Matrix{Float64}}\n",
       "\n",
       "gini_diff ~ 1 + weighted_gini_walk + area_difference + ellipticity + distance_betweenness\n",
       "\n",
       "Coefficients:\n",
       "────────────────────────────────────────────────────────────────────────────────────────────\n",
       "                             Coef.  Std. Error       t  Pr(>|t|)     Lower 95%     Upper 95%\n",
       "────────────────────────────────────────────────────────────────────────────────────────────\n",
       "(Intercept)            0.155682     0.00473682   32.87    <1e-99   0.14639       0.164975\n",
       "weighted_gini_walk    -0.48345      0.01468     -32.93    <1e-99  -0.512249     -0.454652\n",
       "area_difference       -0.000235203  7.60645e-5   -3.09    0.0020  -0.000384421  -8.59844e-5\n",
       "ellipticity           -0.00194948   0.00137377   -1.42    0.1561  -0.00464444    0.000745493\n",
       "distance_betweenness  -0.000247697  7.69332e-5   -3.22    0.0013  -0.00039862   -9.67751e-5\n",
       "────────────────────────────────────────────────────────────────────────────────────────────"
      ]
     },
     "execution_count": 23,
     "metadata": {},
     "output_type": "execute_result"
    }
   ],
   "source": [
    "# helsinki1_noint_l=lm(gini_diff ~\n",
    "#                        weighted_gini_walk+\n",
    "#                        area_difference+\n",
    "#                        ellipticity+\n",
    "#                        distance_betweenness,\n",
    "#                      data=helsinki[helsinki$weighted_med_inc_walk<\n",
    "#                                      median(helsinki$weighted_med_inc_walk),])\n",
    "\n",
    "helsinki1_noint_l = lm(@formula(\n",
    "  gini_diff ~ weighted_gini_walk + area_difference + ellipticity + distance_betweenness),\n",
    "    filter(row -> row.weighted_med_inc_walk < median(helsinki.weighted_med_inc_walk), helsinki),\n",
    ")\n"
   ]
  },
  {
   "cell_type": "code",
   "execution_count": 24,
   "id": "460c64e6",
   "metadata": {},
   "outputs": [
    {
     "data": {
      "text/plain": [
       "StatsModels.TableRegressionModel{LinearModel{GLM.LmResp{Vector{Float64}}, GLM.DensePredChol{Float64, LinearAlgebra.CholeskyPivoted{Float64, Matrix{Float64}, Vector{Int64}}}}, Matrix{Float64}}\n",
       "\n",
       "gini_diff ~ 1 + weighted_gini_walk + area_difference + ellipticity + distance_betweenness\n",
       "\n",
       "Coefficients:\n",
       "────────────────────────────────────────────────────────────────────────────────────────────\n",
       "                             Coef.  Std. Error       t  Pr(>|t|)     Lower 95%     Upper 95%\n",
       "────────────────────────────────────────────────────────────────────────────────────────────\n",
       "(Intercept)            0.128247     0.00436481   29.38    <1e-99   0.119684      0.136809\n",
       "weighted_gini_walk    -0.416835     0.0135985   -30.65    <1e-99  -0.443512     -0.390158\n",
       "area_difference        0.000533055  8.78022e-5    6.07    <1e-08   0.000360811   0.0007053\n",
       "ellipticity            0.00247565   0.00139293    1.78    0.0757  -0.000256914   0.00520821\n",
       "distance_betweenness  -0.000282971  8.60749e-5   -3.29    0.0010  -0.000451828  -0.000114115\n",
       "────────────────────────────────────────────────────────────────────────────────────────────"
      ]
     },
     "execution_count": 24,
     "metadata": {},
     "output_type": "execute_result"
    }
   ],
   "source": [
    "# helsinki1_noint_h=lm(gini_diff ~\n",
    "#                        #area+\n",
    "#                        weighted_gini_walk+\n",
    "#                        area_difference+\n",
    "#                        ellipticity+\n",
    "#                        distance_betweenness,\n",
    "#                      data=helsinki[helsinki$weighted_med_inc_walk>\n",
    "#                                      median(helsinki$weighted_med_inc_walk),])\n",
    "helsinki1_noint_h = lm(@formula(\n",
    "  gini_diff ~ weighted_gini_walk + area_difference + ellipticity + distance_betweenness),\n",
    "    filter(row -> row.weighted_med_inc_walk > median(helsinki.weighted_med_inc_walk), helsinki),\n",
    ")"
   ]
  },
  {
   "cell_type": "code",
   "execution_count": 25,
   "id": "5ff44a58",
   "metadata": {},
   "outputs": [
    {
     "data": {
      "text/plain": [
       "StatsModels.TableRegressionModel{LinearModel{GLM.LmResp{Vector{Float64}}, GLM.DensePredChol{Float64, LinearAlgebra.CholeskyPivoted{Float64, Matrix{Float64}, Vector{Int64}}}}, Matrix{Float64}}\n",
       "\n",
       "gini_diff ~ 1 + weighted_gini_walk + area_difference + ellipticity + distance_betweenness\n",
       "\n",
       "Coefficients:\n",
       "──────────────────────────────────────────────────────────────────────────────────────\n",
       "                          Coef.  Std. Error       t  Pr(>|t|)   Lower 95%    Upper 95%\n",
       "──────────────────────────────────────────────────────────────────────────────────────\n",
       "(Intercept)            6.3433    0.300048     21.14    <1e-90   5.75494     6.93166\n",
       "weighted_gini_walk    -0.193874  0.00871532  -22.25    <1e-99  -0.210964   -0.176784\n",
       "area_difference        0.038419  0.00892628    4.30    <1e-04   0.0209157   0.0559223\n",
       "ellipticity           -0.148075  0.0791414    -1.87    0.0615  -0.303261    0.00711207\n",
       "distance_betweenness  -0.050571  0.00815262   -6.20    <1e-09  -0.0665573  -0.0345847\n",
       "──────────────────────────────────────────────────────────────────────────────────────"
      ]
     },
     "execution_count": 25,
     "metadata": {},
     "output_type": "execute_result"
    }
   ],
   "source": [
    "# madrid1_noint_l=lm(gini_diff ~\n",
    "#                      #area+\n",
    "#                      weighted_gini_walk+\n",
    "#                      area_difference+\n",
    "#                      ellipticity+\n",
    "#                      distance_betweenness,\n",
    "#                    data=madrid[madrid$weighted_net_income_hh_walk<\n",
    "#                                  median(madrid$weighted_net_income_hh_walk),])\n",
    "madrid1_noint_l = lm(@formula(\n",
    "  gini_diff ~ weighted_gini_walk + area_difference + ellipticity + distance_betweenness),\n",
    "    filter(row -> row.weighted_net_income_hh_walk < median(madrid.weighted_net_income_hh_walk), madrid),\n",
    ")"
   ]
  },
  {
   "cell_type": "code",
   "execution_count": 26,
   "id": "9c45b4ed",
   "metadata": {},
   "outputs": [
    {
     "data": {
      "text/plain": [
       "StatsModels.TableRegressionModel{LinearModel{GLM.LmResp{Vector{Float64}}, GLM.DensePredChol{Float64, LinearAlgebra.CholeskyPivoted{Float64, Matrix{Float64}, Vector{Int64}}}}, Matrix{Float64}}\n",
       "\n",
       "gini_diff ~ 1 + weighted_gini_walk + area_difference + ellipticity + distance_betweenness\n",
       "\n",
       "Coefficients:\n",
       "─────────────────────────────────────────────────────────────────────────────────────\n",
       "                          Coef.  Std. Error       t  Pr(>|t|)   Lower 95%   Upper 95%\n",
       "─────────────────────────────────────────────────────────────────────────────────────\n",
       "(Intercept)            8.41328   0.274918     30.60    <1e-99   7.8742      8.95236\n",
       "weighted_gini_walk    -0.223695  0.00729244  -30.67    <1e-99  -0.237994   -0.209395\n",
       "area_difference       -0.108638  0.0191365    -5.68    <1e-07  -0.146162   -0.0711138\n",
       "ellipticity            0.191975  0.144916      1.32    0.1854  -0.0921865   0.476136\n",
       "distance_betweenness  -0.144566  0.00913908  -15.82    <1e-53  -0.162486   -0.126645\n",
       "─────────────────────────────────────────────────────────────────────────────────────"
      ]
     },
     "execution_count": 26,
     "metadata": {},
     "output_type": "execute_result"
    }
   ],
   "source": [
    "# madrid1_noint_h=lm(gini_diff ~\n",
    "#                      #area+\n",
    "#                      weighted_gini_walk+\n",
    "#                      area_difference+\n",
    "#                      ellipticity+\n",
    "#                      distance_betweenness,\n",
    "#                    data=madrid[madrid$weighted_net_income_hh_walk>\n",
    "#                                  median(madrid$weighted_net_income_hh_walk),])\n",
    "madrid1_noint_h = lm(@formula(\n",
    "  gini_diff ~ weighted_gini_walk + area_difference + ellipticity + distance_betweenness),\n",
    "    filter(row -> row.weighted_net_income_hh_walk > median(madrid.weighted_net_income_hh_walk), madrid),\n",
    ")"
   ]
  },
  {
   "cell_type": "code",
   "execution_count": 27,
   "id": "d536fe5a",
   "metadata": {},
   "outputs": [
    {
     "data": {
      "text/plain": [
       "StatsModels.TableRegressionModel{LinearModel{GLM.LmResp{Vector{Float64}}, GLM.DensePredChol{Float64, LinearAlgebra.CholeskyPivoted{Float64, Matrix{Float64}, Vector{Int64}}}}, Matrix{Float64}}\n",
       "\n",
       "access_diff ~ 1 + walk_sum + area_difference + ellipticity + distance_betweenness\n",
       "\n",
       "Coefficients:\n",
       "────────────────────────────────────────────────────────────────────────────────────────\n",
       "                           Coef.  Std. Error        t  Pr(>|t|)   Lower 95%    Upper 95%\n",
       "────────────────────────────────────────────────────────────────────────────────────────\n",
       "(Intercept)            8.15807    0.0990653     82.35    <1e-99   7.96379     8.35236\n",
       "walk_sum              -0.895403   0.00801996  -111.65    <1e-99  -0.911131   -0.879674\n",
       "area_difference        0.070804   0.00661468    10.70    <1e-25   0.0578316   0.0837763\n",
       "ellipticity           -0.421569   0.0720148     -5.85    <1e-08  -0.5628     -0.280338\n",
       "distance_betweenness  -0.0176274  0.00390652    -4.51    <1e-05  -0.0252887  -0.00996615\n",
       "────────────────────────────────────────────────────────────────────────────────────────"
      ]
     },
     "execution_count": 27,
     "metadata": {},
     "output_type": "execute_result"
    }
   ],
   "source": [
    "# bp1a_noint_l=lm(access_diff ~\n",
    "#                   walk_sum+\n",
    "#                   #area+\n",
    "#                   area_difference+\n",
    "#                   ellipticity+\n",
    "#                   distance_betweenness,\n",
    "#                 data=bp[bp$mean_price<\n",
    "#                           median(bp$mean_price, na.rm = T),])\n",
    "bp1a_noint_l = lm(\n",
    "    @formula(access_diff ~ walk_sum + area_difference + ellipticity + distance_betweenness),\n",
    "    filter(row -> row.mean_price < median(skipmissing(bp.mean_price)), dropmissing(bp, :mean_price)),\n",
    ")"
   ]
  },
  {
   "cell_type": "code",
   "execution_count": 28,
   "id": "1fe1f709",
   "metadata": {},
   "outputs": [
    {
     "data": {
      "text/plain": [
       "StatsModels.TableRegressionModel{LinearModel{GLM.LmResp{Vector{Float64}}, GLM.DensePredChol{Float64, LinearAlgebra.CholeskyPivoted{Float64, Matrix{Float64}, Vector{Int64}}}}, Matrix{Float64}}\n",
       "\n",
       "access_diff ~ 1 + walk_sum + area_difference + ellipticity + distance_betweenness\n",
       "\n",
       "Coefficients:\n",
       "────────────────────────────────────────────────────────────────────────────────────────\n",
       "                           Coef.  Std. Error        t  Pr(>|t|)   Lower 95%    Upper 95%\n",
       "────────────────────────────────────────────────────────────────────────────────────────\n",
       "(Intercept)            7.59612    0.0860734     88.25    <1e-99   7.42732     7.76492\n",
       "walk_sum              -0.848139   0.00799277  -106.11    <1e-99  -0.863814   -0.832464\n",
       "area_difference        0.0254339  0.0040868      6.22    <1e-09   0.017419    0.0334487\n",
       "ellipticity            0.0195281  0.046779       0.42    0.6764  -0.0722123   0.111268\n",
       "distance_betweenness  -0.0169583  0.00384715    -4.41    <1e-04  -0.0245032  -0.00941352\n",
       "────────────────────────────────────────────────────────────────────────────────────────"
      ]
     },
     "execution_count": 28,
     "metadata": {},
     "output_type": "execute_result"
    }
   ],
   "source": [
    "# bp1a_noint_h=lm(access_diff ~\n",
    "#                   walk_sum+\n",
    "#                   #area+\n",
    "#                   area_difference+\n",
    "#                   ellipticity+\n",
    "#                   distance_betweenness,\n",
    "#                 data=bp[bp$mean_price>\n",
    "#                           median(bp$mean_price, na.rm = T),])\n",
    "bp1a_noint_h = lm(\n",
    "    @formula(access_diff ~ walk_sum + area_difference + ellipticity + distance_betweenness),\n",
    "    filter(row -> row.mean_price > median(skipmissing(bp.mean_price)), dropmissing(bp, :mean_price)),\n",
    ")\n"
   ]
  },
  {
   "cell_type": "code",
   "execution_count": 29,
   "id": "1cb8bf01",
   "metadata": {},
   "outputs": [
    {
     "data": {
      "text/plain": [
       "StatsModels.TableRegressionModel{LinearModel{GLM.LmResp{Vector{Float64}}, GLM.DensePredChol{Float64, LinearAlgebra.CholeskyPivoted{Float64, Matrix{Float64}, Vector{Int64}}}}, Matrix{Float64}}\n",
       "\n",
       "access_diff ~ 1 + walk_sum + area_difference + ellipticity + distance_betweenness\n",
       "\n",
       "Coefficients:\n",
       "──────────────────────────────────────────────────────────────────────────────────────\n",
       "                           Coef.  Std. Error       t  Pr(>|t|)   Lower 95%   Upper 95%\n",
       "──────────────────────────────────────────────────────────────────────────────────────\n",
       "(Intercept)            6.86857    0.122787     55.94    <1e-99   6.62769     7.10944\n",
       "walk_sum              -0.834876   0.013778    -60.59    <1e-99  -0.861904   -0.807847\n",
       "area_difference        0.083716   0.00491704   17.03    <1e-58   0.0740701   0.0933619\n",
       "ellipticity            0.478188   0.0875163     5.46    <1e-07   0.306505    0.649872\n",
       "distance_betweenness  -0.0278045  0.00494624   -5.62    <1e-07  -0.0375077  -0.0181013\n",
       "──────────────────────────────────────────────────────────────────────────────────────"
      ]
     },
     "execution_count": 29,
     "metadata": {},
     "output_type": "execute_result"
    }
   ],
   "source": [
    "# helsinki1a_noint_l=lm(access_diff ~\n",
    "#                         walk_sum+\n",
    "#                         #area+\n",
    "#                         area_difference+\n",
    "#                         ellipticity+\n",
    "#                         distance_betweenness,\n",
    "#                       data=helsinki[helsinki$weighted_med_inc_walk<\n",
    "#                                       median(helsinki$weighted_med_inc_walk),]\n",
    "# )\n",
    "helsinki1a_noint_l = lm(\n",
    "    @formula(access_diff ~ walk_sum + area_difference + ellipticity + distance_betweenness),\n",
    "    filter(row -> row.weighted_med_inc_walk < median(helsinki.weighted_med_inc_walk), helsinki),\n",
    ")\n"
   ]
  },
  {
   "cell_type": "code",
   "execution_count": 30,
   "id": "f356bb5b",
   "metadata": {},
   "outputs": [
    {
     "data": {
      "text/plain": [
       "StatsModels.TableRegressionModel{LinearModel{GLM.LmResp{Vector{Float64}}, GLM.DensePredChol{Float64, LinearAlgebra.CholeskyPivoted{Float64, Matrix{Float64}, Vector{Int64}}}}, Matrix{Float64}}\n",
       "\n",
       "access_diff ~ 1 + walk_sum + area_difference + ellipticity + distance_betweenness\n",
       "\n",
       "Coefficients:\n",
       "──────────────────────────────────────────────────────────────────────────────────────\n",
       "                           Coef.  Std. Error       t  Pr(>|t|)   Lower 95%   Upper 95%\n",
       "──────────────────────────────────────────────────────────────────────────────────────\n",
       "(Intercept)            6.76486    0.167768     40.32    <1e-99   6.43575     7.09398\n",
       "walk_sum              -0.754928   0.0153453   -49.20    <1e-99  -0.785032   -0.724825\n",
       "area_difference        0.0783749  0.00724501   10.82    <1e-25   0.0641621   0.0925877\n",
       "ellipticity            0.017889   0.115897      0.15    0.8774  -0.20947     0.245248\n",
       "distance_betweenness  -0.0830738  0.00863805   -9.62    <1e-20  -0.100019   -0.0661282\n",
       "──────────────────────────────────────────────────────────────────────────────────────"
      ]
     },
     "execution_count": 30,
     "metadata": {},
     "output_type": "execute_result"
    }
   ],
   "source": [
    "# helsinki1a_noint_h=lm(access_diff ~\n",
    "#                         walk_sum+\n",
    "#                         #area+\n",
    "#                         area_difference+\n",
    "#                         ellipticity+\n",
    "#                         distance_betweenness,\n",
    "#                       data=helsinki[helsinki$weighted_med_inc_walk>\n",
    "#                                       median(helsinki$weighted_med_inc_walk),])\n",
    "helsinki1a_noint_h = lm(\n",
    "    @formula(access_diff ~ walk_sum + area_difference + ellipticity + distance_betweenness),\n",
    "    filter(row -> row.weighted_med_inc_walk > median(helsinki.weighted_med_inc_walk), helsinki),\n",
    ")"
   ]
  },
  {
   "cell_type": "code",
   "execution_count": 31,
   "id": "4de4368a",
   "metadata": {},
   "outputs": [
    {
     "data": {
      "text/plain": [
       "StatsModels.TableRegressionModel{LinearModel{GLM.LmResp{Vector{Float64}}, GLM.DensePredChol{Float64, LinearAlgebra.CholeskyPivoted{Float64, Matrix{Float64}, Vector{Int64}}}}, Matrix{Float64}}\n",
       "\n",
       "access_diff ~ 1 + walk_sum + area_difference + ellipticity + distance_betweenness\n",
       "\n",
       "Coefficients:\n",
       "───────────────────────────────────────────────────────────────────────────────────────\n",
       "                           Coef.  Std. Error       t  Pr(>|t|)   Lower 95%    Upper 95%\n",
       "───────────────────────────────────────────────────────────────────────────────────────\n",
       "(Intercept)            4.45046    0.114785     38.77    <1e-99   4.22538     4.67554\n",
       "walk_sum              -0.515345   0.0112196   -45.93    <1e-99  -0.537345   -0.493345\n",
       "area_difference        0.0947684  0.00680429   13.93    <1e-41   0.081426    0.108111\n",
       "ellipticity            0.138275   0.0603813     2.29    0.0221   0.0198748   0.256675\n",
       "distance_betweenness  -0.0146119  0.00533038   -2.74    0.0062  -0.0250642  -0.00415971\n",
       "───────────────────────────────────────────────────────────────────────────────────────"
      ]
     },
     "execution_count": 31,
     "metadata": {},
     "output_type": "execute_result"
    }
   ],
   "source": [
    "# madrid1a_noint_l=lm(access_diff ~\n",
    "#                       walk_sum+\n",
    "#                       #area+\n",
    "#                       area_difference+\n",
    "#                       ellipticity+\n",
    "#                       distance_betweenness,\n",
    "#                     data=madrid[madrid$weighted_net_income_hh_walk<\n",
    "#                                   median(madrid$weighted_net_income_hh_walk),])\n",
    "madrid1a_noint_l = lm(\n",
    "    @formula(access_diff ~ walk_sum + area_difference + ellipticity + distance_betweenness),\n",
    "    filter(row -> row.weighted_net_income_hh_walk < median(madrid.weighted_net_income_hh_walk), madrid),\n",
    ")"
   ]
  },
  {
   "cell_type": "code",
   "execution_count": 32,
   "id": "311fb2f6",
   "metadata": {},
   "outputs": [
    {
     "data": {
      "text/plain": [
       "StatsModels.TableRegressionModel{LinearModel{GLM.LmResp{Vector{Float64}}, GLM.DensePredChol{Float64, LinearAlgebra.CholeskyPivoted{Float64, Matrix{Float64}, Vector{Int64}}}}, Matrix{Float64}}\n",
       "\n",
       "access_diff ~ 1 + walk_sum + area_difference + ellipticity + distance_betweenness\n",
       "\n",
       "Coefficients:\n",
       "──────────────────────────────────────────────────────────────────────────────────────\n",
       "                           Coef.  Std. Error       t  Pr(>|t|)   Lower 95%   Upper 95%\n",
       "──────────────────────────────────────────────────────────────────────────────────────\n",
       "(Intercept)            5.82533    0.121284     48.03    <1e-99   5.58751     6.06315\n",
       "walk_sum              -0.636203   0.0117364   -54.21    <1e-99  -0.659217   -0.61319\n",
       "area_difference        0.078901   0.00772715   10.21    <1e-23   0.063749    0.094053\n",
       "ellipticity            0.0931647  0.0589423     1.58    0.1141  -0.0224138   0.208743\n",
       "distance_betweenness  -0.0653763  0.00416847  -15.68    <1e-52  -0.0735502  -0.0572025\n",
       "──────────────────────────────────────────────────────────────────────────────────────"
      ]
     },
     "execution_count": 32,
     "metadata": {},
     "output_type": "execute_result"
    }
   ],
   "source": [
    "# madrid1a_noint_h=lm(access_diff ~\n",
    "#                       walk_sum+\n",
    "#                       #area+\n",
    "#                       area_difference+\n",
    "#                       ellipticity+\n",
    "#                       distance_betweenness,\n",
    "#                     data=madrid[madrid$weighted_net_income_hh_walk>\n",
    "#                                   median(madrid$weighted_net_income_hh_walk),])\n",
    "madrid1a_noint_h = lm(\n",
    "    @formula(access_diff ~ walk_sum + area_difference + ellipticity + distance_betweenness),\n",
    "    filter(row -> row.weighted_net_income_hh_walk > median(madrid.weighted_net_income_hh_walk), madrid),\n",
    ")"
   ]
  },
  {
   "cell_type": "code",
   "execution_count": 33,
   "id": "e5a3f97c",
   "metadata": {},
   "outputs": [
    {
     "data": {
      "text/plain": [
       "\n",
       "--------------------------------------------------------------------------------------------------------------\n",
       "                                  access_diff                    gini_diff         gini_diff_house   gini_diff\n",
       "                       ---------------------------------   ---------------------   ---------------   ---------\n",
       "                             (1)         (2)         (3)         (4)         (5)               (6)         (7)\n",
       "--------------------------------------------------------------------------------------------------------------\n",
       "(Intercept)             6.869***    4.450***    8.158***    0.156***    6.343***          -0.015**    0.070***\n",
       "                         (0.123)     (0.115)     (0.099)     (0.005)     (0.300)           (0.005)     (0.003)\n",
       "walk_sum               -0.835***   -0.515***   -0.895***                                                      \n",
       "                         (0.014)     (0.011)     (0.008)                                                      \n",
       "area_difference         0.084***    0.095***    0.071***    -0.000**    0.038***            -0.000      -0.000\n",
       "                         (0.005)     (0.007)     (0.007)     (0.000)     (0.009)           (0.000)     (0.000)\n",
       "ellipticity             0.478***      0.138*   -0.422***      -0.002      -0.148          0.017***    0.010***\n",
       "                         (0.088)     (0.060)     (0.072)     (0.001)     (0.079)           (0.004)     (0.002)\n",
       "distance_betweenness   -0.028***    -0.015**   -0.018***    -0.000**   -0.051***         -0.001***   -0.004***\n",
       "                         (0.005)     (0.005)     (0.004)     (0.000)     (0.008)           (0.000)     (0.000)\n",
       "weighted_gini_walk                                         -0.483***   -0.194***                              \n",
       "                                                             (0.015)     (0.009)                              \n",
       "gini_walk15                                                                               0.208***   -0.278***\n",
       "                                                                                           (0.029)     (0.012)\n",
       "--------------------------------------------------------------------------------------------------------------\n",
       "N                          1,348       2,604       2,015       1,348       2,604             2,015       2,213\n",
       "R2                         0.745       0.474       0.872       0.465       0.190             0.059       0.239\n",
       "--------------------------------------------------------------------------------------------------------------\n",
       "\n"
      ]
     },
     "execution_count": 33,
     "metadata": {},
     "output_type": "execute_result"
    }
   ],
   "source": [
    "# stargazer(helsinki1a_noint_l, madrid1a_noint_l, bp1a_noint_l,\n",
    "#           helsinki1_noint_l, madrid1_noint_l, bp2_noint_l, bp1_noint_l,\n",
    "#           type=\"latex\",\n",
    "#           style=\"aer\",\n",
    "#           column.labels = c(\"Helsinki - Access\", \"Madrid - Access\",\n",
    "#                             \"BP - Access\",\n",
    "#                             \"Helsinki - Gini\",\n",
    "#                             \"Madrid - Gini\",\n",
    "#                             \"BP residential - Gini\",\n",
    "#                             \"BP experienced - Gini\"),\n",
    "#           dep.var.labels.include = F,\n",
    "#           out=\"SI_Reg_2_noint_low.tex\")\n",
    "regtable(\n",
    "    helsinki1a_noint_l,\n",
    "    madrid1a_noint_l,\n",
    "    bp1a_noint_l,\n",
    "    helsinki1_noint_l,\n",
    "    madrid1_noint_l,\n",
    "    bp2_noint_l,\n",
    "    bp1_noint_l;\n",
    "    render = AsciiTable(),\n",
    "    file=\"$(output)/SI_Reg_2_noint_low.txt\"\n",
    ")\n"
   ]
  },
  {
   "cell_type": "code",
   "execution_count": 34,
   "id": "9b525b06",
   "metadata": {},
   "outputs": [
    {
     "data": {
      "text/plain": [
       "\n",
       "--------------------------------------------------------------------------------------------------------------\n",
       "                                  access_diff                    gini_diff         gini_diff_house   gini_diff\n",
       "                       ---------------------------------   ---------------------   ---------------   ---------\n",
       "                             (1)         (2)         (3)         (4)         (5)               (6)         (7)\n",
       "--------------------------------------------------------------------------------------------------------------\n",
       "(Intercept)             6.765***    5.825***    7.596***    0.128***    8.413***          0.023***    0.113***\n",
       "                         (0.168)     (0.121)     (0.086)     (0.004)     (0.275)           (0.005)     (0.003)\n",
       "walk_sum               -0.755***   -0.636***   -0.848***                                                      \n",
       "                         (0.015)     (0.012)     (0.008)                                                      \n",
       "area_difference         0.078***    0.079***    0.025***    0.001***   -0.109***          0.002***      -0.000\n",
       "                         (0.007)     (0.008)     (0.004)     (0.000)     (0.019)           (0.000)     (0.000)\n",
       "ellipticity                0.018       0.093       0.020       0.002       0.192         -0.012***    0.020***\n",
       "                         (0.116)     (0.059)     (0.047)     (0.001)     (0.145)           (0.003)     (0.002)\n",
       "distance_betweenness   -0.083***   -0.065***   -0.017***    -0.000**   -0.145***         -0.002***   -0.003***\n",
       "                         (0.009)     (0.004)     (0.004)     (0.000)     (0.009)           (0.000)     (0.000)\n",
       "weighted_gini_walk                                         -0.417***   -0.224***                              \n",
       "                                                             (0.014)     (0.007)                              \n",
       "gini_walk15                                                                                  0.017   -0.667***\n",
       "                                                                                           (0.018)     (0.018)\n",
       "--------------------------------------------------------------------------------------------------------------\n",
       "N                          1,346       2,608       2,015       1,346       2,608             2,015       2,211\n",
       "R2                         0.701       0.563       0.876       0.427       0.282             0.176       0.446\n",
       "--------------------------------------------------------------------------------------------------------------\n",
       "\n"
      ]
     },
     "execution_count": 34,
     "metadata": {},
     "output_type": "execute_result"
    }
   ],
   "source": [
    "# stargazer(helsinki1a_noint_h, madrid1a_noint_h, bp1a_noint_h,\n",
    "#           helsinki1_noint_h, madrid1_noint_h, bp2_noint_h, bp1_noint_h,\n",
    "#           type=\"latex\",\n",
    "#           style=\"aer\",\n",
    "#           column.labels = c(\"Helsinki - Access\", \"Madrid - Access\",\n",
    "#                             \"BP - Access\",\n",
    "#                             \"Helsinki - Gini\",\n",
    "#                             \"Madrid - Gini\",\n",
    "#                             \"BP residential - Gini\",\n",
    "#                             \"BP experienced - Gini\"),\n",
    "#           dep.var.labels.include = F,\n",
    "#           out=\"SI_Reg_3_noint_high.tex\")\n",
    "regtable(\n",
    "    helsinki1a_noint_h,\n",
    "    madrid1a_noint_h,\n",
    "    bp1a_noint_h,\n",
    "    helsinki1_noint_h,\n",
    "    madrid1_noint_h,\n",
    "    bp2_noint_h,\n",
    "    bp1_noint_h;\n",
    "    render = AsciiTable(),\n",
    "    file=\"$(output)/SI_Reg_3_noint_high.txt\"\n",
    ")"
   ]
  },
  {
   "cell_type": "markdown",
   "id": "db04af59",
   "metadata": {},
   "source": [
    "plotting"
   ]
  },
  {
   "cell_type": "code",
   "execution_count": 35,
   "id": "ce40e8dc",
   "metadata": {},
   "outputs": [],
   "source": [
    "model_names = [\"helsinki1a_noint\", \"madrid1a_noint\", \"bp1a_noint\",\n",
    "                 \"helsinki1_noint\", \"madrid1_noint\", \"bp2_noint\", \"bp1_noint\",\n",
    "                 \"helsinki1a_noint_l\", \"madrid1a_noint_l\", \"bp1a_noint_l\",\n",
    "                 \"helsinki1_noint_l\", \"madrid1_noint_l\", \"bp2_noint_l\", \"bp1_noint_l\",\n",
    "                 \"helsinki1a_noint_h\", \"madrid1a_noint_h\", \"bp1a_noint_h\",\n",
    "                 \"helsinki1_noint_h\", \"madrid1_noint_h\", \"bp2_noint_h\", \"bp1_noint_h\"];"
   ]
  },
  {
   "cell_type": "markdown",
   "id": "7f9136ec",
   "metadata": {},
   "source": [
    "# 4.2 Regressions with interactions into SI"
   ]
  },
  {
   "cell_type": "code",
   "execution_count": 36,
   "id": "a7de63f4",
   "metadata": {},
   "outputs": [
    {
     "data": {
      "text/plain": [
       "StatsModels.TableRegressionModel{LinearModel{GLM.LmResp{Vector{Float64}}, GLM.DensePredChol{Float64, LinearAlgebra.CholeskyPivoted{Float64, Matrix{Float64}, Vector{Int64}}}}, Matrix{Float64}}\n",
       "\n",
       ":(gini_multimodal - gini_walk15) ~ 1 + gini_walk15 + area_difference + ellipticity + distance_betweenness + area_difference & ellipticity + distance_betweenness & ellipticity\n",
       "\n",
       "Coefficients:\n",
       "───────────────────────────────────────────────────────────────────────────────────────────────────────────\n",
       "                                           Coef.   Std. Error       t  Pr(>|t|)     Lower 95%     Upper 95%\n",
       "───────────────────────────────────────────────────────────────────────────────────────────────────────────\n",
       "(Intercept)                          0.0778033    0.00311075    25.01    <1e-99   0.0717046     0.0839019\n",
       "gini_walk15                         -0.34399      0.00877219   -39.21    <1e-99  -0.361188     -0.326792\n",
       "area_difference                     -0.000198044  0.000378137   -0.52    0.6005  -0.000939382   0.000543295\n",
       "ellipticity                          0.0126454    0.0038285      3.30    0.0010   0.00513965    0.0201512\n",
       "distance_betweenness                -0.00351769   0.000261733  -13.44    <1e-39  -0.00403082   -0.00300456\n",
       "area_difference & ellipticity        0.000497588  0.000668328    0.74    0.4566  -0.00081267    0.00180785\n",
       "distance_betweenness & ellipticity   0.000312213  0.000411156    0.76    0.4477  -0.000493859   0.00111828\n",
       "───────────────────────────────────────────────────────────────────────────────────────────────────────────"
      ]
     },
     "execution_count": 36,
     "metadata": {},
     "output_type": "execute_result"
    }
   ],
   "source": [
    "# bp1=lm(gini_multimodal-gini_walk15 ~\n",
    "#         #area+\n",
    "#         gini_walk15+\n",
    "#          area_difference*ellipticity+\n",
    "#          distance_betweenness*ellipticity,\n",
    "#         data=bp)\n",
    "\n",
    "bp1 = lm(\n",
    "    @formula(gini_multimodal - gini_walk15 ~ gini_walk15 + (area_difference * ellipticity) + (distance_betweenness * ellipticity)),\n",
    "    bp,\n",
    ")"
   ]
  },
  {
   "cell_type": "code",
   "execution_count": 37,
   "id": "5bab95b8",
   "metadata": {},
   "outputs": [
    {
     "data": {
      "text/plain": [
       "StatsModels.TableRegressionModel{LinearModel{GLM.LmResp{Vector{Float64}}, GLM.DensePredChol{Float64, LinearAlgebra.CholeskyPivoted{Float64, Matrix{Float64}, Vector{Int64}}}}, Matrix{Float64}}\n",
       "\n",
       ":(gini_house_multimodal - gini_house_walk15) ~ 1 + gini_walk15 + area_difference + ellipticity + distance_betweenness + area_difference & ellipticity + distance_betweenness & ellipticity\n",
       "\n",
       "Coefficients:\n",
       "───────────────────────────────────────────────────────────────────────────────────────────────────────\n",
       "                                          Coef.   Std. Error      t  Pr(>|t|)    Lower 95%    Upper 95%\n",
       "───────────────────────────────────────────────────────────────────────────────────────────────────────\n",
       "(Intercept)                          0.0267652   0.00476958    5.61    <1e-07   0.0174144    0.036116\n",
       "gini_walk15                          0.0799321   0.01345       5.94    <1e-08   0.0535633    0.106301\n",
       "area_difference                     -0.0029852   0.000579781  -5.15    <1e-06  -0.00412186  -0.00184854\n",
       "ellipticity                         -0.0366232   0.00587007   -6.24    <1e-09  -0.0481315   -0.0251149\n",
       "distance_betweenness                -0.00249609  0.000401304  -6.22    <1e-09  -0.00328285  -0.00170933\n",
       "area_difference & ellipticity        0.0079995   0.00102472    7.81    <1e-14   0.00599053   0.0100085\n",
       "distance_betweenness & ellipticity   0.00249867  0.000630407   3.96    <1e-04   0.00126275   0.00373458\n",
       "───────────────────────────────────────────────────────────────────────────────────────────────────────"
      ]
     },
     "execution_count": 37,
     "metadata": {},
     "output_type": "execute_result"
    }
   ],
   "source": [
    "# bp2=lm(gini_house_multimodal-gini_house_walk15 ~\n",
    "#         #area+\n",
    "#         gini_walk15+\n",
    "#          area_difference*ellipticity+\n",
    "#          distance_betweenness*ellipticity,\n",
    "#         data=bp)\n",
    "\n",
    "bp2 = lm(\n",
    "    @formula(gini_house_multimodal - gini_house_walk15 ~ gini_walk15 + (area_difference * ellipticity) + (distance_betweenness * ellipticity)),\n",
    "    bp,\n",
    ")"
   ]
  },
  {
   "cell_type": "code",
   "execution_count": 38,
   "id": "98456146",
   "metadata": {},
   "outputs": [
    {
     "data": {
      "text/plain": [
       "StatsModels.TableRegressionModel{LinearModel{GLM.LmResp{Vector{Float64}}, GLM.DensePredChol{Float64, LinearAlgebra.CholeskyPivoted{Float64, Matrix{Float64}, Vector{Int64}}}}, Matrix{Float64}}\n",
       "\n",
       ":(weighted_gini_multi - weighted_gini_walk) ~ 1 + weighted_gini_walk + area_difference + ellipticity + distance_betweenness + area_difference & ellipticity + distance_betweenness & ellipticity\n",
       "\n",
       "Coefficients:\n",
       "──────────────────────────────────────────────────────────────────────────────────────────────────────────\n",
       "                                           Coef.   Std. Error       t  Pr(>|t|)    Lower 95%     Upper 95%\n",
       "──────────────────────────────────────────────────────────────────────────────────────────────────────────\n",
       "(Intercept)                          0.142622     0.00333615    42.75    <1e-99   0.13608      0.149163\n",
       "weighted_gini_walk                  -0.425188     0.00951503   -44.69    <1e-99  -0.443845    -0.40653\n",
       "area_difference                     -0.000533266  0.000194627   -2.74    0.0062  -0.0009149   -0.000151632\n",
       "ellipticity                         -0.0153827    0.0026604     -5.78    <1e-08  -0.0205994   -0.0101661\n",
       "distance_betweenness                -0.00129377   0.000196906   -6.57    <1e-10  -0.00167987  -0.000907667\n",
       "area_difference & ellipticity        0.00119821   0.000335031    3.58    0.0004   0.00054127   0.00185516\n",
       "distance_betweenness & ellipticity   0.00184656   0.000333082    5.54    <1e-07   0.00119344   0.00249968\n",
       "──────────────────────────────────────────────────────────────────────────────────────────────────────────"
      ]
     },
     "execution_count": 38,
     "metadata": {},
     "output_type": "execute_result"
    }
   ],
   "source": [
    "# helsinki1=lm(weighted_gini_multi-weighted_gini_walk ~\n",
    "#         #area+\n",
    "#         weighted_gini_walk+\n",
    "#           area_difference*ellipticity+\n",
    "#           distance_betweenness*ellipticity,\n",
    "#         data=helsinki)\n",
    "\n",
    "helsinki1 = lm(\n",
    "    @formula(weighted_gini_multi - weighted_gini_walk ~ weighted_gini_walk + (area_difference * ellipticity) + (distance_betweenness * ellipticity)),\n",
    "    helsinki,\n",
    ")"
   ]
  },
  {
   "cell_type": "code",
   "execution_count": 39,
   "id": "1041389e",
   "metadata": {},
   "outputs": [
    {
     "data": {
      "text/plain": [
       "StatsModels.TableRegressionModel{LinearModel{GLM.LmResp{Vector{Float64}}, GLM.DensePredChol{Float64, LinearAlgebra.CholeskyPivoted{Float64, Matrix{Float64}, Vector{Int64}}}}, Matrix{Float64}}\n",
       "\n",
       ":(weighted_gini_multi - weighted_gini_walk) ~ 1 + weighted_gini_walk + area_difference + ellipticity + distance_betweenness + area_difference & ellipticity + distance_betweenness & ellipticity\n",
       "\n",
       "Coefficients:\n",
       "───────────────────────────────────────────────────────────────────────────────────────────────────\n",
       "                                        Coef.  Std. Error       t  Pr(>|t|)   Lower 95%   Upper 95%\n",
       "───────────────────────────────────────────────────────────────────────────────────────────────────\n",
       "(Intercept)                          6.75931   0.213352     31.68    <1e-99   6.34105     7.17757\n",
       "weighted_gini_walk                  -0.183102  0.00481727  -38.01    <1e-99  -0.192546   -0.173659\n",
       "area_difference                      0.031518  0.0257577     1.22    0.2211  -0.0189779   0.082014\n",
       "ellipticity                         -0.775504  0.206341     -3.76    0.0002  -1.18002    -0.370989\n",
       "distance_betweenness                -0.133571  0.014976     -8.92    <1e-18  -0.16293    -0.104212\n",
       "area_difference & ellipticity       -0.10559   0.051656     -2.04    0.0410  -0.206857   -0.0043227\n",
       "distance_betweenness & ellipticity   0.103892  0.0270328     3.84    0.0001   0.050896    0.156887\n",
       "───────────────────────────────────────────────────────────────────────────────────────────────────"
      ]
     },
     "execution_count": 39,
     "metadata": {},
     "output_type": "execute_result"
    }
   ],
   "source": [
    "# madrid1=lm(weighted_gini_multi-weighted_gini_walk ~\n",
    "#         #area+\n",
    "#         weighted_gini_walk+\n",
    "#           area_difference*ellipticity+\n",
    "#           distance_betweenness*ellipticity,\n",
    "#         data=madrid)\n",
    "\n",
    "madrid1 = lm(\n",
    "    @formula(weighted_gini_multi - weighted_gini_walk ~ weighted_gini_walk + (area_difference * ellipticity) + (distance_betweenness * ellipticity)),\n",
    "    madrid,\n",
    ")"
   ]
  },
  {
   "cell_type": "markdown",
   "id": "e0383eb8",
   "metadata": {},
   "source": [
    "# 4.2 Access"
   ]
  },
  {
   "cell_type": "code",
   "execution_count": 40,
   "id": "660eda60",
   "metadata": {},
   "outputs": [
    {
     "data": {
      "text/plain": [
       "StatsModels.TableRegressionModel{LinearModel{GLM.LmResp{Vector{Float64}}, GLM.DensePredChol{Float64, LinearAlgebra.CholeskyPivoted{Float64, Matrix{Float64}, Vector{Int64}}}}, Matrix{Float64}}\n",
       "\n",
       ":(multimod_sum - walk_sum) ~ 1 + walk_sum + area_difference + ellipticity + distance_betweenness + area_difference & ellipticity + distance_betweenness & ellipticity\n",
       "\n",
       "Coefficients:\n",
       "─────────────────────────────────────────────────────────────────────────────────────────────────────\n",
       "                                         Coef.  Std. Error        t  Pr(>|t|)   Lower 95%   Upper 95%\n",
       "─────────────────────────────────────────────────────────────────────────────────────────────────────\n",
       "(Intercept)                          7.77785    0.0769979    101.01    <1e-99   7.6269      7.92881\n",
       "walk_sum                            -0.882395   0.0054656   -161.45    <1e-99  -0.893111   -0.87168\n",
       "area_difference                     -0.0548426  0.0103383     -5.30    <1e-06  -0.0751108  -0.0345743\n",
       "ellipticity                          0.164329   0.103076       1.59    0.1110  -0.0377509   0.366409\n",
       "distance_betweenness                 0.045198   0.00642268     7.04    <1e-11   0.0326063   0.0577896\n",
       "area_difference & ellipticity        0.208755   0.0182706     11.43    <1e-29   0.172935    0.244574\n",
       "distance_betweenness & ellipticity  -0.113906   0.0111527    -10.21    <1e-23  -0.135771   -0.0920415\n",
       "─────────────────────────────────────────────────────────────────────────────────────────────────────"
      ]
     },
     "execution_count": 40,
     "metadata": {},
     "output_type": "execute_result"
    }
   ],
   "source": [
    "# bp1a=lm(multimod_sum-walk_sum ~\n",
    "#           walk_sum+\n",
    "#           #area+\n",
    "#          area_difference*ellipticity+\n",
    "#          distance_betweenness*ellipticity,\n",
    "#        data=bp)\n",
    "\n",
    "bp1a = lm(\n",
    "    @formula(multimod_sum - walk_sum ~ walk_sum + (area_difference * ellipticity) + (distance_betweenness * ellipticity)),\n",
    "    bp,\n",
    ")"
   ]
  },
  {
   "cell_type": "code",
   "execution_count": 41,
   "id": "b9f35a38",
   "metadata": {},
   "outputs": [
    {
     "data": {
      "text/plain": [
       "StatsModels.TableRegressionModel{LinearModel{GLM.LmResp{Vector{Float64}}, GLM.DensePredChol{Float64, LinearAlgebra.CholeskyPivoted{Float64, Matrix{Float64}, Vector{Int64}}}}, Matrix{Float64}}\n",
       "\n",
       ":(multimod_sum - walk_sum) ~ 1 + walk_sum + area_difference + ellipticity + distance_betweenness + area_difference & ellipticity + distance_betweenness & ellipticity\n",
       "\n",
       "Coefficients:\n",
       "─────────────────────────────────────────────────────────────────────────────────────────────────────\n",
       "                                         Coef.  Std. Error       t  Pr(>|t|)   Lower 95%    Upper 95%\n",
       "─────────────────────────────────────────────────────────────────────────────────────────────────────\n",
       "(Intercept)                          6.4319      0.141244    45.54    <1e-99   6.15494     6.70886\n",
       "walk_sum                            -0.754485    0.0100931  -74.75    <1e-99  -0.774276   -0.734694\n",
       "area_difference                      0.0717488   0.0147269    4.87    <1e-05   0.0428716   0.100626\n",
       "ellipticity                          0.281423    0.201123     1.40    0.1619  -0.112949    0.675794\n",
       "distance_betweenness                -0.0390967   0.0149366   -2.62    0.0089  -0.0683851  -0.00980833\n",
       "area_difference & ellipticity        0.0204755   0.0253068    0.81    0.4185  -0.0291473   0.0700982\n",
       "distance_betweenness & ellipticity  -0.0144273   0.025158    -0.57    0.5664  -0.0637583   0.0349038\n",
       "─────────────────────────────────────────────────────────────────────────────────────────────────────"
      ]
     },
     "execution_count": 41,
     "metadata": {},
     "output_type": "execute_result"
    }
   ],
   "source": [
    "# helsinki1a=lm(multimod_sum-walk_sum ~\n",
    "#                 walk_sum+\n",
    "#                 #area+\n",
    "#                 area_difference*ellipticity+\n",
    "#                 distance_betweenness*ellipticity,\n",
    "#              data=helsinki)\n",
    "\n",
    "helsinki1a = lm(\n",
    "    @formula(multimod_sum - walk_sum ~ walk_sum + (area_difference * ellipticity) + (distance_betweenness * ellipticity)),\n",
    "    helsinki,\n",
    ")"
   ]
  },
  {
   "cell_type": "code",
   "execution_count": 42,
   "id": "f8720a74",
   "metadata": {},
   "outputs": [
    {
     "data": {
      "text/plain": [
       "StatsModels.TableRegressionModel{LinearModel{GLM.LmResp{Vector{Float64}}, GLM.DensePredChol{Float64, LinearAlgebra.CholeskyPivoted{Float64, Matrix{Float64}, Vector{Int64}}}}, Matrix{Float64}}\n",
       "\n",
       ":(multimod_sum - walk_sum) ~ 1 + walk_sum + area_difference + ellipticity + distance_betweenness + area_difference & ellipticity + distance_betweenness & ellipticity\n",
       "\n",
       "Coefficients:\n",
       "──────────────────────────────────────────────────────────────────────────────────────────────────────\n",
       "                                          Coef.  Std. Error       t  Pr(>|t|)   Lower 95%    Upper 95%\n",
       "──────────────────────────────────────────────────────────────────────────────────────────────────────\n",
       "(Intercept)                          5.15877     0.0903436    57.10    <1e-99   4.98166     5.33588\n",
       "walk_sum                            -0.572462    0.00817056  -70.06    <1e-99  -0.58848    -0.556444\n",
       "area_difference                      0.00628615  0.012578      0.50    0.6173  -0.018372    0.0309443\n",
       "ellipticity                          0.02994     0.0988255     0.30    0.7619  -0.163799    0.223679\n",
       "distance_betweenness                -0.0323948   0.00700539   -4.62    <1e-05  -0.0461283  -0.0186613\n",
       "area_difference & ellipticity        0.189193    0.0251863     7.51    <1e-13   0.139817    0.238569\n",
       "distance_betweenness & ellipticity  -0.02034     0.0129647    -1.57    0.1167  -0.0457562   0.00507627\n",
       "──────────────────────────────────────────────────────────────────────────────────────────────────────"
      ]
     },
     "execution_count": 42,
     "metadata": {},
     "output_type": "execute_result"
    }
   ],
   "source": [
    "# madrid1a=lm(multimod_sum-walk_sum ~\n",
    "#               walk_sum+\n",
    "#               #area+\n",
    "#               area_difference*ellipticity+\n",
    "#               distance_betweenness*ellipticity,\n",
    "#            data=madrid)\n",
    "madrid1a = lm(\n",
    "    @formula(multimod_sum - walk_sum ~ walk_sum + (area_difference * ellipticity) + (distance_betweenness * ellipticity)),\n",
    "    madrid,\n",
    ")"
   ]
  },
  {
   "cell_type": "code",
   "execution_count": 43,
   "id": "70c2dc37",
   "metadata": {},
   "outputs": [
    {
     "data": {
      "text/plain": [
       "\n",
       "---------------------------------------------------------------------------------------------------------------------------------------------------------------------------------------------\n",
       "                                          multimod_sum - walk_sum        weighted_gini_multi - weighted_gini_walk   gini_house_multimodal - gini_house_walk15   gini_multimodal - gini_walk15\n",
       "                                     ---------------------------------   ----------------------------------------   -----------------------------------------   -----------------------------\n",
       "                                           (1)         (2)         (3)                  (4)                   (5)                                         (6)                             (7)\n",
       "---------------------------------------------------------------------------------------------------------------------------------------------------------------------------------------------\n",
       "(Intercept)                           6.432***    5.159***    7.778***             0.143***              6.759***                                    0.027***                        0.078***\n",
       "                                       (0.141)     (0.090)     (0.077)              (0.003)               (0.213)                                     (0.005)                         (0.003)\n",
       "walk_sum                             -0.754***   -0.572***   -0.882***                                                                                                                       \n",
       "                                       (0.010)     (0.008)     (0.005)                                                                                                                       \n",
       "area_difference                       0.072***       0.006   -0.055***             -0.001**                 0.032                                   -0.003***                          -0.000\n",
       "                                       (0.015)     (0.013)     (0.010)              (0.000)               (0.026)                                     (0.001)                         (0.000)\n",
       "ellipticity                              0.281       0.030       0.164            -0.015***             -0.776***                                   -0.037***                        0.013***\n",
       "                                       (0.201)     (0.099)     (0.103)              (0.003)               (0.206)                                     (0.006)                         (0.004)\n",
       "distance_betweenness                  -0.039**   -0.032***    0.045***            -0.001***             -0.134***                                   -0.002***                       -0.004***\n",
       "                                       (0.015)     (0.007)     (0.006)              (0.000)               (0.015)                                     (0.000)                         (0.000)\n",
       "area_difference & ellipticity            0.020    0.189***    0.209***             0.001***               -0.106*                                    0.008***                           0.000\n",
       "                                       (0.025)     (0.025)     (0.018)              (0.000)               (0.052)                                     (0.001)                         (0.001)\n",
       "distance_betweenness & ellipticity      -0.014      -0.020   -0.114***             0.002***              0.104***                                    0.002***                           0.000\n",
       "                                       (0.025)     (0.013)     (0.011)              (0.000)               (0.027)                                     (0.001)                         (0.000)\n",
       "weighted_gini_walk                                                                -0.425***             -0.183***                                                                            \n",
       "                                                                                    (0.010)               (0.005)                                                                            \n",
       "gini_walk15                                                                                                                                          0.080***                       -0.344***\n",
       "                                                                                                                                                      (0.013)                         (0.009)\n",
       "---------------------------------------------------------------------------------------------------------------------------------------------------------------------------------------------\n",
       "N                                        2,694       5,212       4,424                2,694                 5,212                                       4,424                           4,424\n",
       "R2                                       0.706       0.521       0.877                0.446                 0.224                                       0.088                           0.303\n",
       "---------------------------------------------------------------------------------------------------------------------------------------------------------------------------------------------\n",
       "\n"
      ]
     },
     "execution_count": 43,
     "metadata": {},
     "output_type": "execute_result"
    }
   ],
   "source": [
    "# stargazer(helsinki1a, madrid1a, bp1a,helsinki1, madrid1, bp2, bp1,\n",
    "#           type=\"latex\",\n",
    "#           style=\"aer\",\n",
    "#           column.labels = c(\"Helsinki - Access\", \"Madrid - Access\",\n",
    "#                             \"BP - Access\",\n",
    "#                             \"Helsinki - Gini\", \"Madrid - Gini\",\n",
    "#                             \"BP residential - Gini\",\n",
    "#                             \"BP experienced - Gini\"),\n",
    "#           dep.var.labels.include = F,\n",
    "#           out=\"SI_Reg_4.tex\")\n",
    "regtable(\n",
    "    helsinki1a, madrid1a, bp1a,helsinki1, madrid1, bp2, bp1;\n",
    "    render = AsciiTable(),\n",
    "    file=\"$(output)/SI_Reg_4.txt\"\n",
    ")"
   ]
  },
  {
   "cell_type": "markdown",
   "id": "ee1a8de6",
   "metadata": {},
   "source": [
    "# 4.3 Standardized regressions with interactions"
   ]
  },
  {
   "cell_type": "code",
   "execution_count": 44,
   "id": "d663cf2c",
   "metadata": {},
   "outputs": [],
   "source": [
    "# bp.gini_diff_s = scale(bp.gini_diff)\n",
    "# bp.gini_walk15_s = scale(bp.gini_walk15)"
   ]
  },
  {
   "cell_type": "code",
   "execution_count": 45,
   "id": "f0058d59",
   "metadata": {},
   "outputs": [],
   "source": [
    "# bp <- bp %>%\n",
    "#   mutate(\n",
    "#     gini_diff_s = scale(gini_diff),\n",
    "#     gini_walk15_s = scale(gini_walk15),\n",
    "#     area_difference_s = scale(area_difference),\n",
    "#     ellipticity_s = scale(ellipticity),\n",
    "#     distance_betweenness_s = scale(distance_betweenness),\n",
    "#     gini_diff_house_s = scale(gini_diff_house),\n",
    "#     access_diff_s = scale(access_diff),\n",
    "#     walk_sum_s = scale(walk_sum)\n",
    "#   )\n",
    "\n",
    "# madrid <- madrid %>%\n",
    "#   mutate(\n",
    "#     gini_diff_s = scale(gini_diff),\n",
    "#     weighted_gini_walk_s = scale(weighted_gini_walk),\n",
    "#     area_difference_s = scale(area_difference),\n",
    "#     ellipticity_s = scale(ellipticity),\n",
    "#     distance_betweenness_s = scale(distance_betweenness),\n",
    "#     access_diff_s = scale(access_diff),\n",
    "#     walk_sum_s = scale(walk_sum)\n",
    "#   )\n",
    "\n",
    "\n",
    "# helsinki <- helsinki %>%\n",
    "#   mutate(\n",
    "#     gini_diff_s = scale(gini_diff),\n",
    "#     weighted_gini_walk_s = scale(weighted_gini_walk),\n",
    "#     area_difference_s = scale(area_difference),\n",
    "#     ellipticity_s = scale(ellipticity),\n",
    "#     distance_betweenness_s = scale(distance_betweenness),\n",
    "#     access_diff_s = scale(access_diff),\n",
    "#     walk_sum_s = scale(walk_sum)\n",
    "#   )\n",
    "\n",
    "to_scale = [\"gini_diff\", \"area_difference\", \"ellipticity\", \"distance_betweenness\", \"access_diff\", \"walk_sum\"];\n",
    "\n",
    "for i in vcat(to_scale, [\"gini_walk15\", \"gini_diff_house\"])\n",
    "    bp[!, \"$(i)_s\"] = scale(bp[!, i])\n",
    "end;\n",
    "for i in vcat(to_scale, [\"weighted_gini_walk\"])\n",
    "    madrid[!, \"$(i)_s\"] = scale(madrid[!, i])\n",
    "    helsinki[!, \"$(i)_s\"] = scale(helsinki[!, i])\n",
    "end;"
   ]
  },
  {
   "cell_type": "code",
   "execution_count": 46,
   "id": "0f579d60",
   "metadata": {},
   "outputs": [
    {
     "data": {
      "text/plain": [
       "4424-element Vector{Float64}:\n",
       "  1.9483758102967583\n",
       "  1.7076989596474048\n",
       " -0.6128569436284482\n",
       "  0.6834111261802216\n",
       "  0.259019323436053\n",
       " -1.4616405491167854\n",
       " -2.6296160546134333\n",
       " -0.4009176273849879\n",
       " -0.91562739540482\n",
       " -1.5904462836860556\n",
       "  1.7097516406763975\n",
       "  1.743620877654771\n",
       "  0.8440334166988731\n",
       "  ⋮\n",
       " -0.44197124796483495\n",
       " -0.9187064169483085\n",
       " -1.5750511759686128\n",
       " -0.7719397233753552\n",
       "  1.3474534390592476\n",
       "  0.38166701491834615\n",
       " -0.8078616413827214\n",
       " -0.40143079764223594\n",
       " -0.5374209158129793\n",
       " -0.26030897689901167\n",
       " -0.44145807770758694\n",
       " -0.7134383140490734"
      ]
     },
     "execution_count": 46,
     "metadata": {},
     "output_type": "execute_result"
    }
   ],
   "source": [
    "scalem(bp[!,:ellipticity])"
   ]
  },
  {
   "cell_type": "code",
   "execution_count": 47,
   "id": "6d502898",
   "metadata": {},
   "outputs": [
    {
     "data": {
      "text/plain": [
       "rscale (generic function with 1 method)"
      ]
     },
     "execution_count": 47,
     "metadata": {},
     "output_type": "execute_result"
    }
   ],
   "source": [
    "rscale(A) = mapslices(normalize!, A .- mean(A,dims=1), dims=1) * sqrt(size(A,1)-1)"
   ]
  },
  {
   "cell_type": "code",
   "execution_count": 48,
   "id": "4bd9f0ca",
   "metadata": {},
   "outputs": [],
   "source": [
    "using LinearAlgebra"
   ]
  },
  {
   "cell_type": "code",
   "execution_count": 49,
   "id": "9a5ca493",
   "metadata": {},
   "outputs": [
    {
     "data": {
      "text/html": [
       "<div><div style = \"float: left;\"><span>4426×2 DataFrame</span></div><div style = \"float: right;\"><span style = \"font-style: italic;\">4401 rows omitted</span></div><div style = \"clear: both;\"></div></div><div class = \"data-frame\" style = \"overflow-x: scroll;\"><table class = \"data-frame\" style = \"margin-bottom: 6px;\"><thead><tr class = \"header\"><th class = \"rowNumber\" style = \"font-weight: bold; text-align: right;\">Row</th><th style = \"text-align: left;\">ellipticity</th><th style = \"text-align: left;\">ellipticity_s</th></tr><tr class = \"subheader headerLastRow\"><th class = \"rowNumber\" style = \"font-weight: bold; text-align: right;\"></th><th title = \"Union{Missing, Float64}\" style = \"text-align: left;\">Float64?</th><th title = \"Missing\" style = \"text-align: left;\">Missing</th></tr></thead><tbody><tr><td class = \"rowNumber\" style = \"font-weight: bold; text-align: right;\">1</td><td style = \"text-align: right;\">0.9241</td><td style = \"font-style: italic; text-align: right;\">missing</td></tr><tr><td class = \"rowNumber\" style = \"font-weight: bold; text-align: right;\">2</td><td style = \"text-align: right;\">0.8772</td><td style = \"font-style: italic; text-align: right;\">missing</td></tr><tr><td class = \"rowNumber\" style = \"font-weight: bold; text-align: right;\">3</td><td style = \"text-align: right;\">0.425</td><td style = \"font-style: italic; text-align: right;\">missing</td></tr><tr><td class = \"rowNumber\" style = \"font-weight: bold; text-align: right;\">4</td><td style = \"text-align: right;\">0.6776</td><td style = \"font-style: italic; text-align: right;\">missing</td></tr><tr><td class = \"rowNumber\" style = \"font-weight: bold; text-align: right;\">5</td><td style = \"text-align: right;\">0.5949</td><td style = \"font-style: italic; text-align: right;\">missing</td></tr><tr><td class = \"rowNumber\" style = \"font-weight: bold; text-align: right;\">6</td><td style = \"text-align: right;\">0.2596</td><td style = \"font-style: italic; text-align: right;\">missing</td></tr><tr><td class = \"rowNumber\" style = \"font-weight: bold; text-align: right;\">7</td><td style = \"text-align: right;\">0.032</td><td style = \"font-style: italic; text-align: right;\">missing</td></tr><tr><td class = \"rowNumber\" style = \"font-weight: bold; text-align: right;\">8</td><td style = \"text-align: right;\">0.4663</td><td style = \"font-style: italic; text-align: right;\">missing</td></tr><tr><td class = \"rowNumber\" style = \"font-weight: bold; text-align: right;\">9</td><td style = \"text-align: right;\">0.366</td><td style = \"font-style: italic; text-align: right;\">missing</td></tr><tr><td class = \"rowNumber\" style = \"font-weight: bold; text-align: right;\">10</td><td style = \"text-align: right;\">0.2345</td><td style = \"font-style: italic; text-align: right;\">missing</td></tr><tr><td class = \"rowNumber\" style = \"font-weight: bold; text-align: right;\">11</td><td style = \"text-align: right;\">0.8776</td><td style = \"font-style: italic; text-align: right;\">missing</td></tr><tr><td class = \"rowNumber\" style = \"font-weight: bold; text-align: right;\">12</td><td style = \"text-align: right;\">0.8842</td><td style = \"font-style: italic; text-align: right;\">missing</td></tr><tr><td class = \"rowNumber\" style = \"font-weight: bold; text-align: right;\">13</td><td style = \"text-align: right;\">0.7089</td><td style = \"font-style: italic; text-align: right;\">missing</td></tr><tr><td style = \"text-align: right;\">&vellip;</td><td style = \"text-align: right;\">&vellip;</td><td style = \"text-align: right;\">&vellip;</td></tr><tr><td class = \"rowNumber\" style = \"font-weight: bold; text-align: right;\">4415</td><td style = \"text-align: right;\">0.4583</td><td style = \"font-style: italic; text-align: right;\">missing</td></tr><tr><td class = \"rowNumber\" style = \"font-weight: bold; text-align: right;\">4416</td><td style = \"text-align: right;\">0.3654</td><td style = \"font-style: italic; text-align: right;\">missing</td></tr><tr><td class = \"rowNumber\" style = \"font-weight: bold; text-align: right;\">4417</td><td style = \"text-align: right;\">0.2375</td><td style = \"font-style: italic; text-align: right;\">missing</td></tr><tr><td class = \"rowNumber\" style = \"font-weight: bold; text-align: right;\">4418</td><td style = \"text-align: right;\">0.394</td><td style = \"font-style: italic; text-align: right;\">missing</td></tr><tr><td class = \"rowNumber\" style = \"font-weight: bold; text-align: right;\">4419</td><td style = \"text-align: right;\">0.807</td><td style = \"font-style: italic; text-align: right;\">missing</td></tr><tr><td class = \"rowNumber\" style = \"font-weight: bold; text-align: right;\">4420</td><td style = \"text-align: right;\">0.6188</td><td style = \"font-style: italic; text-align: right;\">missing</td></tr><tr><td class = \"rowNumber\" style = \"font-weight: bold; text-align: right;\">4421</td><td style = \"text-align: right;\">0.387</td><td style = \"font-style: italic; text-align: right;\">missing</td></tr><tr><td class = \"rowNumber\" style = \"font-weight: bold; text-align: right;\">4422</td><td style = \"text-align: right;\">0.4662</td><td style = \"font-style: italic; text-align: right;\">missing</td></tr><tr><td class = \"rowNumber\" style = \"font-weight: bold; text-align: right;\">4423</td><td style = \"text-align: right;\">0.4397</td><td style = \"font-style: italic; text-align: right;\">missing</td></tr><tr><td class = \"rowNumber\" style = \"font-weight: bold; text-align: right;\">4424</td><td style = \"text-align: right;\">0.4937</td><td style = \"font-style: italic; text-align: right;\">missing</td></tr><tr><td class = \"rowNumber\" style = \"font-weight: bold; text-align: right;\">4425</td><td style = \"text-align: right;\">0.4584</td><td style = \"font-style: italic; text-align: right;\">missing</td></tr><tr><td class = \"rowNumber\" style = \"font-weight: bold; text-align: right;\">4426</td><td style = \"text-align: right;\">0.4054</td><td style = \"font-style: italic; text-align: right;\">missing</td></tr></tbody></table></div>"
      ],
      "text/latex": [
       "\\begin{tabular}{r|cc}\n",
       "\t& ellipticity & ellipticity\\_s\\\\\n",
       "\t\\hline\n",
       "\t& Float64? & Missing\\\\\n",
       "\t\\hline\n",
       "\t1 & 0.9241 & \\emph{missing} \\\\\n",
       "\t2 & 0.8772 & \\emph{missing} \\\\\n",
       "\t3 & 0.425 & \\emph{missing} \\\\\n",
       "\t4 & 0.6776 & \\emph{missing} \\\\\n",
       "\t5 & 0.5949 & \\emph{missing} \\\\\n",
       "\t6 & 0.2596 & \\emph{missing} \\\\\n",
       "\t7 & 0.032 & \\emph{missing} \\\\\n",
       "\t8 & 0.4663 & \\emph{missing} \\\\\n",
       "\t9 & 0.366 & \\emph{missing} \\\\\n",
       "\t10 & 0.2345 & \\emph{missing} \\\\\n",
       "\t11 & 0.8776 & \\emph{missing} \\\\\n",
       "\t12 & 0.8842 & \\emph{missing} \\\\\n",
       "\t13 & 0.7089 & \\emph{missing} \\\\\n",
       "\t14 & 0.445 & \\emph{missing} \\\\\n",
       "\t15 & 0.5245 & \\emph{missing} \\\\\n",
       "\t16 & 0.8077 & \\emph{missing} \\\\\n",
       "\t17 & 0.8688 & \\emph{missing} \\\\\n",
       "\t18 & 0.4161 & \\emph{missing} \\\\\n",
       "\t19 & 0.5303 & \\emph{missing} \\\\\n",
       "\t20 & 0.7103 & \\emph{missing} \\\\\n",
       "\t21 & 0.6401 & \\emph{missing} \\\\\n",
       "\t22 & 0.485 & \\emph{missing} \\\\\n",
       "\t23 & 0.4754 & \\emph{missing} \\\\\n",
       "\t24 & 0.897 & \\emph{missing} \\\\\n",
       "\t25 & 0.856 & \\emph{missing} \\\\\n",
       "\t26 & 0.918 & \\emph{missing} \\\\\n",
       "\t27 & 0.8812 & \\emph{missing} \\\\\n",
       "\t28 & 0.8812 & \\emph{missing} \\\\\n",
       "\t29 & 0.8812 & \\emph{missing} \\\\\n",
       "\t30 & 0.3903 & \\emph{missing} \\\\\n",
       "\t$\\dots$ & $\\dots$ & $\\dots$ \\\\\n",
       "\\end{tabular}\n"
      ],
      "text/plain": [
       "\u001b[1m4426×2 DataFrame\u001b[0m\n",
       "\u001b[1m  Row \u001b[0m│\u001b[1m ellipticity \u001b[0m\u001b[1m ellipticity_s \u001b[0m\n",
       "      │\u001b[90m Float64?    \u001b[0m\u001b[90m Missing       \u001b[0m\n",
       "──────┼────────────────────────────\n",
       "    1 │      0.9241 \u001b[90m       missing \u001b[0m\n",
       "    2 │      0.8772 \u001b[90m       missing \u001b[0m\n",
       "    3 │      0.425  \u001b[90m       missing \u001b[0m\n",
       "    4 │      0.6776 \u001b[90m       missing \u001b[0m\n",
       "    5 │      0.5949 \u001b[90m       missing \u001b[0m\n",
       "    6 │      0.2596 \u001b[90m       missing \u001b[0m\n",
       "    7 │      0.032  \u001b[90m       missing \u001b[0m\n",
       "    8 │      0.4663 \u001b[90m       missing \u001b[0m\n",
       "    9 │      0.366  \u001b[90m       missing \u001b[0m\n",
       "   10 │      0.2345 \u001b[90m       missing \u001b[0m\n",
       "   11 │      0.8776 \u001b[90m       missing \u001b[0m\n",
       "  ⋮   │      ⋮             ⋮\n",
       " 4417 │      0.2375 \u001b[90m       missing \u001b[0m\n",
       " 4418 │      0.394  \u001b[90m       missing \u001b[0m\n",
       " 4419 │      0.807  \u001b[90m       missing \u001b[0m\n",
       " 4420 │      0.6188 \u001b[90m       missing \u001b[0m\n",
       " 4421 │      0.387  \u001b[90m       missing \u001b[0m\n",
       " 4422 │      0.4662 \u001b[90m       missing \u001b[0m\n",
       " 4423 │      0.4397 \u001b[90m       missing \u001b[0m\n",
       " 4424 │      0.4937 \u001b[90m       missing \u001b[0m\n",
       " 4425 │      0.4584 \u001b[90m       missing \u001b[0m\n",
       " 4426 │      0.4054 \u001b[90m       missing \u001b[0m\n",
       "\u001b[36m                  4405 rows omitted\u001b[0m"
      ]
     },
     "execution_count": 49,
     "metadata": {},
     "output_type": "execute_result"
    }
   ],
   "source": [
    "bp[!, [\"ellipticity\", \"ellipticity_s\"]]"
   ]
  },
  {
   "cell_type": "code",
   "execution_count": 50,
   "id": "0acc521b",
   "metadata": {},
   "outputs": [
    {
     "data": {
      "text/plain": [
       "StatsModels.TableRegressionModel{LinearModel{GLM.LmResp{Vector{Float64}}, GLM.DensePredChol{Float64, CholeskyPivoted{Float64, Matrix{Float64}, Vector{Int64}}}}, Matrix{Float64}}\n",
       "\n",
       "gini_diff_s ~ 1 + gini_walk15_s + area_difference_s + ellipticity + distance_betweenness_s\n",
       "\n",
       "Coefficients:\n",
       "────────────────────────────────────────────────────────────────────────────────────────\n",
       "                              Coef.  Std. Error       t  Pr(>|t|)   Lower 95%  Upper 95%\n",
       "────────────────────────────────────────────────────────────────────────────────────────\n",
       "(Intercept)             -0.411259     0.0398222  -10.33    <1e-23  -0.48933    -0.333187\n",
       "gini_walk15_s           -0.684684     0.0171141  -40.01    <1e-99  -0.718236   -0.651132\n",
       "area_difference_s        0.00718907   0.0136429    0.53    0.5983  -0.0195579   0.033936\n",
       "ellipticity              0.755645     0.0694055   10.89    <1e-26   0.619576    0.891715\n",
       "distance_betweenness_s  -0.574823     0.0168849  -34.04    <1e-99  -0.607926   -0.54172\n",
       "────────────────────────────────────────────────────────────────────────────────────────"
      ]
     },
     "execution_count": 50,
     "metadata": {},
     "output_type": "execute_result"
    }
   ],
   "source": [
    "# bp1_s=lm(gini_diff_s ~\n",
    "#          gini_walk15_s+\n",
    "#          area_difference_s +\n",
    "#          ellipticity_s+\n",
    "#          distance_betweenness_s,\n",
    "#        data=bp)\n",
    "bp1_s = lm(\n",
    "    @formula(gini_diff_s ~ gini_walk15_s + area_difference_s + ellipticity + distance_betweenness_s),\n",
    "    bp,\n",
    ")\n",
    "# TODO: ellipticity is not scaled"
   ]
  },
  {
   "cell_type": "code",
   "execution_count": 51,
   "id": "fc6b8a43",
   "metadata": {},
   "outputs": [
    {
     "data": {
      "text/plain": [
       "StatsModels.TableRegressionModel{LinearModel{GLM.LmResp{Vector{Float64}}, GLM.DensePredChol{Float64, CholeskyPivoted{Float64, Matrix{Float64}, Vector{Int64}}}}, Matrix{Float64}}\n",
       "\n",
       "gini_diff_house_s ~ 1 + gini_walk15_s + area_difference_s + ellipticity + distance_betweenness_s\n",
       "\n",
       "Coefficients:\n",
       "───────────────────────────────────────────────────────────────────────────────────────\n",
       "                             Coef.  Std. Error      t  Pr(>|t|)   Lower 95%   Upper 95%\n",
       "───────────────────────────────────────────────────────────────────────────────────────\n",
       "(Intercept)             -0.0221326   0.0458845  -0.48    0.6296  -0.112089    0.067824\n",
       "gini_walk15_s            0.136726    0.0197194   6.93    <1e-11   0.0980657   0.175386\n",
       "area_difference_s        0.0984996   0.0157198   6.27    <1e-09   0.0676809   0.129318\n",
       "ellipticity              0.0394678   0.0799714   0.49    0.6217  -0.117316    0.196252\n",
       "distance_betweenness_s  -0.122375    0.0194554  -6.29    <1e-09  -0.160517   -0.0842324\n",
       "───────────────────────────────────────────────────────────────────────────────────────"
      ]
     },
     "execution_count": 51,
     "metadata": {},
     "output_type": "execute_result"
    }
   ],
   "source": [
    "# bp2_s=lm(gini_diff_house_s ~\n",
    "#          gini_walk15_s+\n",
    "#            area_difference_s +\n",
    "#            ellipticity_s+\n",
    "#            distance_betweenness_s,\n",
    "#        data=bp)\n",
    "\n",
    "bp2_s = lm(\n",
    "    @formula(gini_diff_house_s ~ gini_walk15_s + area_difference_s + ellipticity + distance_betweenness_s),\n",
    "    bp,\n",
    ")"
   ]
  },
  {
   "cell_type": "code",
   "execution_count": 52,
   "id": "2d369090",
   "metadata": {},
   "outputs": [
    {
     "data": {
      "text/plain": [
       "StatsModels.TableRegressionModel{LinearModel{GLM.LmResp{Vector{Float64}}, GLM.DensePredChol{Float64, CholeskyPivoted{Float64, Matrix{Float64}, Vector{Int64}}}}, Matrix{Float64}}\n",
       "\n",
       "gini_diff_s ~ 1 + weighted_gini_walk_s + area_difference_s + ellipticity + distance_betweenness_s\n",
       "\n",
       "Coefficients:\n",
       "─────────────────────────────────────────────────────────────────────────────────────────\n",
       "                             Coef.  Std. Error       t  Pr(>|t|)    Lower 95%   Upper 95%\n",
       "─────────────────────────────────────────────────────────────────────────────────────────\n",
       "(Intercept)              0.0316899   0.0474353    0.67    0.5041  -0.0613234    0.124703\n",
       "weighted_gini_walk_s    -0.689386    0.0154458  -44.63    <1e-99  -0.719672    -0.659099\n",
       "area_difference_s        0.0350933   0.0151461    2.32    0.0206   0.00539406   0.0647925\n",
       "ellipticity             -0.0546742   0.0821672   -0.67    0.5059  -0.215792     0.106443\n",
       "distance_betweenness_s  -0.0679004   0.0159192   -4.27    <1e-04  -0.0991155   -0.0366852\n",
       "─────────────────────────────────────────────────────────────────────────────────────────"
      ]
     },
     "execution_count": 52,
     "metadata": {},
     "output_type": "execute_result"
    }
   ],
   "source": [
    "# helsinki1_s=lm(gini_diff_s ~\n",
    "#          weighted_gini_walk_s+\n",
    "#            area_difference_s +\n",
    "#            ellipticity_s+\n",
    "#            distance_betweenness_s,\n",
    "#        data=helsinki)\n",
    "helsinki1_s = lm(\n",
    "    @formula(gini_diff_s ~ weighted_gini_walk_s + area_difference_s + ellipticity + distance_betweenness_s),\n",
    "    helsinki,\n",
    ")\n"
   ]
  },
  {
   "cell_type": "code",
   "execution_count": 53,
   "id": "588b0bfd",
   "metadata": {},
   "outputs": [
    {
     "data": {
      "text/plain": [
       "StatsModels.TableRegressionModel{LinearModel{GLM.LmResp{Vector{Float64}}, GLM.DensePredChol{Float64, CholeskyPivoted{Float64, Matrix{Float64}, Vector{Int64}}}}, Matrix{Float64}}\n",
       "\n",
       "gini_diff_s ~ 1 + weighted_gini_walk_s + area_difference_s + ellipticity + distance_betweenness_s\n",
       "\n",
       "Coefficients:\n",
       "─────────────────────────────────────────────────────────────────────────────────────────\n",
       "                             Coef.  Std. Error       t  Pr(>|t|)   Lower 95%    Upper 95%\n",
       "─────────────────────────────────────────────────────────────────────────────────────────\n",
       "(Intercept)              0.0783355   0.0331863    2.36    0.0183   0.0132764   0.143395\n",
       "weighted_gini_walk_s    -0.47407     0.0124724  -38.01    <1e-99  -0.498521   -0.449619\n",
       "area_difference_s       -0.0173815   0.012516    -1.39    0.1650  -0.0419182   0.00715515\n",
       "ellipticity             -0.168333    0.064204    -2.62    0.0088  -0.2942     -0.0424666\n",
       "distance_betweenness_s  -0.172254    0.0126184  -13.65    <1e-40  -0.196991   -0.147517\n",
       "─────────────────────────────────────────────────────────────────────────────────────────"
      ]
     },
     "execution_count": 53,
     "metadata": {},
     "output_type": "execute_result"
    }
   ],
   "source": [
    "# madrid1_s=lm(gini_diff_s ~\n",
    "#          weighted_gini_walk_s+\n",
    "#            area_difference_s +\n",
    "#            ellipticity_s+\n",
    "#            distance_betweenness_s,\n",
    "#        data=madrid)\n",
    "\n",
    "madrid1_s = lm(\n",
    "    @formula(gini_diff_s ~ weighted_gini_walk_s + area_difference_s + ellipticity + distance_betweenness_s),\n",
    "    madrid,\n",
    ")"
   ]
  },
  {
   "cell_type": "code",
   "execution_count": 54,
   "id": "98055d47",
   "metadata": {},
   "outputs": [
    {
     "data": {
      "text/plain": [
       "StatsModels.TableRegressionModel{LinearModel{GLM.LmResp{Vector{Float64}}, GLM.DensePredChol{Float64, CholeskyPivoted{Float64, Matrix{Float64}, Vector{Int64}}}}, Matrix{Float64}}\n",
       "\n",
       "access_diff_s ~ 1 + walk_sum_s + area_difference_s + ellipticity + distance_betweenness_s\n",
       "\n",
       "Coefficients:\n",
       "─────────────────────────────────────────────────────────────────────────────────────────\n",
       "                             Coef.  Std. Error        t  Pr(>|t|)   Lower 95%   Upper 95%\n",
       "─────────────────────────────────────────────────────────────────────────────────────────\n",
       "(Intercept)              0.0595675  0.0174096      3.42    0.0006   0.0254358   0.0936991\n",
       "walk_sum_s              -0.962247   0.00610239  -157.68    <1e-99  -0.974211   -0.950283\n",
       "area_difference_s        0.0824736  0.00584239    14.12    <1e-43   0.0710195   0.0939276\n",
       "ellipticity             -0.108116   0.0303785     -3.56    0.0004  -0.167673   -0.0485591\n",
       "distance_betweenness_s  -0.0380835  0.00597319    -6.38    <1e-09  -0.0497939  -0.026373\n",
       "─────────────────────────────────────────────────────────────────────────────────────────"
      ]
     },
     "execution_count": 54,
     "metadata": {},
     "output_type": "execute_result"
    }
   ],
   "source": [
    "# bp1a_s=lm(access_diff_s ~\n",
    "#           walk_sum_s+\n",
    "#             area_difference_s +\n",
    "#             ellipticity_s+\n",
    "#             distance_betweenness_s,\n",
    "#         data=bp)\n",
    "bp1a_s = lm(\n",
    "    @formula(access_diff_s ~ walk_sum_s + area_difference_s + ellipticity + distance_betweenness_s),\n",
    "    bp,\n",
    ")\n"
   ]
  },
  {
   "cell_type": "code",
   "execution_count": 55,
   "id": "3c304d0d",
   "metadata": {},
   "outputs": [
    {
     "data": {
      "text/plain": [
       "StatsModels.TableRegressionModel{LinearModel{GLM.LmResp{Vector{Float64}}, GLM.DensePredChol{Float64, CholeskyPivoted{Float64, Matrix{Float64}, Vector{Int64}}}}, Matrix{Float64}}\n",
       "\n",
       "access_diff_s ~ 1 + walk_sum_s + area_difference_s + ellipticity + distance_betweenness_s\n",
       "\n",
       "Coefficients:\n",
       "───────────────────────────────────────────────────────────────────────────────────────\n",
       "                            Coef.  Std. Error       t  Pr(>|t|)   Lower 95%   Upper 95%\n",
       "───────────────────────────────────────────────────────────────────────────────────────\n",
       "(Intercept)             -0.114426   0.0342337   -3.34    0.0008  -0.181553   -0.0472991\n",
       "walk_sum_s              -0.912686   0.012194   -74.85    <1e-99  -0.936596   -0.888775\n",
       "area_difference_s        0.208431   0.0109341   19.06    <1e-75   0.18699     0.229871\n",
       "ellipticity              0.213731   0.0592982    3.60    0.0003   0.0974563   0.330006\n",
       "distance_betweenness_s  -0.12541    0.0124681  -10.06    <1e-22  -0.149858   -0.100962\n",
       "───────────────────────────────────────────────────────────────────────────────────────"
      ]
     },
     "execution_count": 55,
     "metadata": {},
     "output_type": "execute_result"
    }
   ],
   "source": [
    "# helsinki1a_s=lm(access_diff_s ~\n",
    "#           walk_sum_s+\n",
    "#             area_difference_s +\n",
    "#             ellipticity_s+\n",
    "#             distance_betweenness_s,\n",
    "#         data=helsinki)\n",
    "helsinki1a_s = lm(\n",
    "    @formula(access_diff_s ~ walk_sum_s + area_difference_s + ellipticity + distance_betweenness_s),\n",
    "    helsinki,\n",
    ")"
   ]
  },
  {
   "cell_type": "code",
   "execution_count": 56,
   "id": "c36f3522",
   "metadata": {},
   "outputs": [
    {
     "data": {
      "text/plain": [
       "StatsModels.TableRegressionModel{LinearModel{GLM.LmResp{Vector{Float64}}, GLM.DensePredChol{Float64, CholeskyPivoted{Float64, Matrix{Float64}, Vector{Int64}}}}, Matrix{Float64}}\n",
       "\n",
       "access_diff_s ~ 1 + walk_sum_s + area_difference_s + ellipticity + distance_betweenness_s\n",
       "\n",
       "Coefficients:\n",
       "─────────────────────────────────────────────────────────────────────────────────────────\n",
       "                             Coef.  Std. Error       t  Pr(>|t|)   Lower 95%    Upper 95%\n",
       "─────────────────────────────────────────────────────────────────────────────────────────\n",
       "(Intercept)             -0.0444625  0.026322     -1.69    0.0912  -0.0960648   0.00713968\n",
       "walk_sum_s              -0.779955   0.0111398   -70.02    <1e-99  -0.801793   -0.758116\n",
       "area_difference_s        0.177807   0.00987951   18.00    <1e-69   0.158439    0.197175\n",
       "ellipticity              0.115347   0.0509664     2.26    0.0237   0.0154318   0.215263\n",
       "distance_betweenness_s  -0.143105   0.0107379   -13.33    <1e-39  -0.164155   -0.122054\n",
       "─────────────────────────────────────────────────────────────────────────────────────────"
      ]
     },
     "execution_count": 56,
     "metadata": {},
     "output_type": "execute_result"
    }
   ],
   "source": [
    "# madrid1a_s=lm(access_diff_s ~\n",
    "#           walk_sum_s+\n",
    "#             area_difference_s +\n",
    "#             ellipticity_s+\n",
    "#             distance_betweenness_s,\n",
    "#         data=madrid)\n",
    "\n",
    "madrid1a_s = lm(\n",
    "    @formula(access_diff_s ~ walk_sum_s + area_difference_s + ellipticity + distance_betweenness_s),\n",
    "    madrid,\n",
    ")"
   ]
  },
  {
   "cell_type": "code",
   "execution_count": 57,
   "id": "b9e61902",
   "metadata": {},
   "outputs": [
    {
     "data": {
      "text/plain": [
       "\n",
       "--------------------------------------------------------------------------------------------------------------------\n",
       "                                   access_diff_s                  gini_diff_s        gini_diff_house_s   gini_diff_s\n",
       "                         ---------------------------------   ---------------------   -----------------   -----------\n",
       "                               (1)         (2)         (3)         (4)         (5)                 (6)           (7)\n",
       "--------------------------------------------------------------------------------------------------------------------\n",
       "(Intercept)              -0.114***      -0.044    0.060***       0.032      0.078*              -0.022     -0.411***\n",
       "                           (0.034)     (0.026)     (0.017)     (0.047)     (0.033)             (0.046)       (0.040)\n",
       "walk_sum_s               -0.913***   -0.780***   -0.962***                                                          \n",
       "                           (0.012)     (0.011)     (0.006)                                                          \n",
       "area_difference_s         0.208***    0.178***    0.082***      0.035*      -0.017            0.098***         0.007\n",
       "                           (0.011)     (0.010)     (0.006)     (0.015)     (0.013)             (0.016)       (0.014)\n",
       "ellipticity               0.214***      0.115*   -0.108***      -0.055    -0.168**               0.039      0.756***\n",
       "                           (0.059)     (0.051)     (0.030)     (0.082)     (0.064)             (0.080)       (0.069)\n",
       "distance_betweenness_s   -0.125***   -0.143***   -0.038***   -0.068***   -0.172***           -0.122***     -0.575***\n",
       "                           (0.012)     (0.011)     (0.006)     (0.016)     (0.013)             (0.019)       (0.017)\n",
       "weighted_gini_walk_s                                         -0.689***   -0.474***                                  \n",
       "                                                               (0.015)     (0.012)                                  \n",
       "gini_walk15_s                                                                                 0.137***     -0.685***\n",
       "                                                                                               (0.020)       (0.017)\n",
       "--------------------------------------------------------------------------------------------------------------------\n",
       "N                            2,694       5,212       4,424       2,694       5,212               4,424         4,424\n",
       "R2                           0.706       0.515       0.870       0.439       0.221               0.073         0.303\n",
       "--------------------------------------------------------------------------------------------------------------------\n",
       "\n"
      ]
     },
     "execution_count": 57,
     "metadata": {},
     "output_type": "execute_result"
    }
   ],
   "source": [
    "# stargazer(helsinki1a_s, madrid1a_s, bp1a_s,helsinki1_s, madrid1_s, bp2_s, bp1_s,\n",
    "#           type=\"latex\",\n",
    "#           style=\"aer\",\n",
    "#           column.labels = c(\"Helsinki - Access\", \"Madrid - Access\",\n",
    "#                             \"BP - Access\",\n",
    "#                             \"Helsinki - Gini\", \"Madrid - Gini\",\n",
    "#                             \"BP residential - Gini\",\n",
    "#                             \"BP experienced - Gini\"),\n",
    "#           dep.var.labels.include = F,\n",
    "#           out=\"SI_Reg_5_s.tex\")\n",
    "regtable(\n",
    "    helsinki1a_s, madrid1a_s, bp1a_s,helsinki1_s, madrid1_s, bp2_s, bp1_s;\n",
    "    render = AsciiTable(),\n",
    "    file=\"$(output)/SI_Reg_5_s.txt\"\n",
    ")"
   ]
  },
  {
   "cell_type": "markdown",
   "id": "3494c67d",
   "metadata": {},
   "source": [
    "# 4.4 interplots"
   ]
  },
  {
   "cell_type": "code",
   "execution_count": 58,
   "id": "5f0d2e2f",
   "metadata": {},
   "outputs": [
    {
     "data": {
      "text/plain": [
       "StatsModels.TableRegressionModel{LinearModel{GLM.LmResp{Vector{Float64}}, GLM.DensePredChol{Float64, CholeskyPivoted{Float64, Matrix{Float64}, Vector{Int64}}}}, Matrix{Float64}}\n",
       "\n",
       ":(gini_multimodal - gini_walk15) ~ 1 + gini_walk15 + area_difference + distance_betweenness + ellipticity + distance_betweenness & ellipticity\n",
       "\n",
       "Coefficients:\n",
       "───────────────────────────────────────────────────────────────────────────────────────────────────────────\n",
       "                                           Coef.   Std. Error       t  Pr(>|t|)     Lower 95%     Upper 95%\n",
       "───────────────────────────────────────────────────────────────────────────────────────────────────────────\n",
       "(Intercept)                          0.0769461    0.0028897     26.63    <1e-99   0.0712808     0.0826113\n",
       "gini_walk15                         -0.343872     0.00877031   -39.21    <1e-99  -0.361066     -0.326678\n",
       "area_difference                      6.55563e-5   0.000132794    0.49    0.6216  -0.000194786   0.000325898\n",
       "distance_betweenness                -0.00350004   0.000260644  -13.43    <1e-39  -0.00401103   -0.00298905\n",
       "ellipticity                          0.0140156    0.00335697     4.18    <1e-04   0.00743429    0.020597\n",
       "distance_betweenness & ellipticity   0.000289977  0.000410049    0.71    0.4795  -0.000513925   0.00109388\n",
       "───────────────────────────────────────────────────────────────────────────────────────────────────────────"
      ]
     },
     "execution_count": 58,
     "metadata": {},
     "output_type": "execute_result"
    }
   ],
   "source": [
    "# bp1i=lm(gini_multimodal-gini_walk15 ~\n",
    "#          gini_walk15+\n",
    "#          area_difference+\n",
    "#          distance_betweenness*ellipticity,\n",
    "#        data=bp)\n",
    "bp1i = lm(\n",
    "    @formula(gini_multimodal - gini_walk15 ~ gini_walk15 + area_difference + (distance_betweenness * ellipticity)),\n",
    "    bp,\n",
    ")\n"
   ]
  },
  {
   "cell_type": "code",
   "execution_count": 59,
   "id": "30edec24",
   "metadata": {},
   "outputs": [
    {
     "data": {
      "text/plain": [
       "StatsModels.TableRegressionModel{LinearModel{GLM.LmResp{Vector{Float64}}, GLM.DensePredChol{Float64, CholeskyPivoted{Float64, Matrix{Float64}, Vector{Int64}}}}, Matrix{Float64}}\n",
       "\n",
       ":(gini_house_multimodal - gini_house_walk15) ~ 1 + gini_walk15 + area_difference + distance_betweenness + ellipticity + distance_betweenness & ellipticity\n",
       "\n",
       "Coefficients:\n",
       "────────────────────────────────────────────────────────────────────────────────────────────────────────\n",
       "                                          Coef.   Std. Error      t  Pr(>|t|)     Lower 95%    Upper 95%\n",
       "────────────────────────────────────────────────────────────────────────────────────────────────────────\n",
       "(Intercept)                          0.0129844   0.00446083    2.91    0.0036   0.00423894    0.0217299\n",
       "gini_walk15                          0.0818347   0.0135387     6.04    <1e-08   0.055292      0.108377\n",
       "area_difference                      0.00125257  0.000204993   6.11    <1e-08   0.000850685   0.00165446\n",
       "distance_betweenness                -0.00221231  0.000402356  -5.50    <1e-07  -0.00300113   -0.00142349\n",
       "ellipticity                         -0.0145949   0.00518216   -2.82    0.0049  -0.0247545    -0.00443525\n",
       "distance_betweenness & ellipticity   0.00214119  0.000632993   3.38    0.0007   0.000900205   0.00338217\n",
       "────────────────────────────────────────────────────────────────────────────────────────────────────────"
      ]
     },
     "execution_count": 59,
     "metadata": {},
     "output_type": "execute_result"
    }
   ],
   "source": [
    "# bp2i=lm(gini_house_multimodal-gini_house_walk15 ~\n",
    "#          gini_walk15+\n",
    "#          area_difference+\n",
    "#          distance_betweenness*ellipticity,\n",
    "#        data=bp)\n",
    "# TODO: biztos gini_walk15?\n",
    "\n",
    "bp2i = lm(\n",
    "    @formula(gini_house_multimodal - gini_house_walk15 ~ gini_walk15 + area_difference + (distance_betweenness * ellipticity)),\n",
    "    bp,\n",
    ")"
   ]
  },
  {
   "cell_type": "code",
   "execution_count": 60,
   "id": "218a01ec",
   "metadata": {},
   "outputs": [
    {
     "data": {
      "text/plain": [
       "StatsModels.TableRegressionModel{LinearModel{GLM.LmResp{Vector{Float64}}, GLM.DensePredChol{Float64, CholeskyPivoted{Float64, Matrix{Float64}, Vector{Int64}}}}, Matrix{Float64}}\n",
       "\n",
       ":(weighted_gini_multi - weighted_gini_walk) ~ 1 + weighted_gini_walk + area_difference + distance_betweenness + ellipticity + distance_betweenness & ellipticity\n",
       "\n",
       "Coefficients:\n",
       "─────────────────────────────────────────────────────────────────────────────────────────────────────────\n",
       "                                          Coef.   Std. Error       t  Pr(>|t|)    Lower 95%     Upper 95%\n",
       "─────────────────────────────────────────────────────────────────────────────────────────────────────────\n",
       "(Intercept)                          0.139096    0.00319414    43.55    <1e-99   0.132833     0.145359\n",
       "weighted_gini_walk                  -0.424457    0.00953368   -44.52    <1e-99  -0.443151    -0.405763\n",
       "area_difference                      0.00013149  5.78457e-5     2.27    0.0231   1.80634e-5   0.000244916\n",
       "distance_betweenness                -0.00111175  0.000190631   -5.83    <1e-08  -0.00148555  -0.000737948\n",
       "ellipticity                         -0.00959487  0.0021162     -4.53    <1e-05  -0.0137444   -0.00544532\n",
       "distance_betweenness & ellipticity   0.00153479  0.000322176    4.76    <1e-05   0.00090305   0.00216652\n",
       "─────────────────────────────────────────────────────────────────────────────────────────────────────────"
      ]
     },
     "execution_count": 60,
     "metadata": {},
     "output_type": "execute_result"
    }
   ],
   "source": [
    "# helsinki1i=lm(weighted_gini_multi-weighted_gini_walk ~\n",
    "#                weighted_gini_walk+\n",
    "#                area_difference+\n",
    "#                distance_betweenness*ellipticity,\n",
    "#              data=helsinki)\n",
    "\n",
    "helsinki1i = lm(\n",
    "    @formula(weighted_gini_multi - weighted_gini_walk ~ weighted_gini_walk + area_difference + (distance_betweenness * ellipticity)),\n",
    "    helsinki,\n",
    ")"
   ]
  },
  {
   "cell_type": "code",
   "execution_count": 61,
   "id": "9a99ea02",
   "metadata": {},
   "outputs": [
    {
     "data": {
      "text/plain": [
       "StatsModels.TableRegressionModel{LinearModel{GLM.LmResp{Vector{Float64}}, GLM.DensePredChol{Float64, CholeskyPivoted{Float64, Matrix{Float64}, Vector{Int64}}}}, Matrix{Float64}}\n",
       "\n",
       ":(weighted_gini_multi - weighted_gini_walk) ~ 1 + weighted_gini_walk + area_difference + distance_betweenness + ellipticity + distance_betweenness & ellipticity\n",
       "\n",
       "Coefficients:\n",
       "────────────────────────────────────────────────────────────────────────────────────────────────────\n",
       "                                         Coef.  Std. Error       t  Pr(>|t|)   Lower 95%   Upper 95%\n",
       "────────────────────────────────────────────────────────────────────────────────────────────────────\n",
       "(Intercept)                          6.85606    0.208099     32.95    <1e-99   6.4481      7.26403\n",
       "weighted_gini_walk                  -0.183401   0.00481652  -38.08    <1e-99  -0.192843   -0.173958\n",
       "area_difference                     -0.0166833  0.0103672    -1.61    0.1076  -0.0370073   0.0036407\n",
       "distance_betweenness                -0.138487   0.0147861    -9.37    <1e-19  -0.167474   -0.109501\n",
       "ellipticity                         -0.942747   0.189484     -4.98    <1e-06  -1.31422    -0.571279\n",
       "distance_betweenness & ellipticity   0.113247   0.0266506     4.25    <1e-04   0.0610008   0.165494\n",
       "────────────────────────────────────────────────────────────────────────────────────────────────────"
      ]
     },
     "execution_count": 61,
     "metadata": {},
     "output_type": "execute_result"
    }
   ],
   "source": [
    "# madrid1i=lm(weighted_gini_multi-weighted_gini_walk ~\n",
    "#              weighted_gini_walk+\n",
    "#              area_difference+\n",
    "#              distance_betweenness*ellipticity,\n",
    "#            data=madrid)\n",
    "\n",
    "madrid1i = lm(\n",
    "    @formula(weighted_gini_multi - weighted_gini_walk ~ weighted_gini_walk + area_difference + (distance_betweenness * ellipticity)),\n",
    "    madrid,\n",
    ")\n"
   ]
  },
  {
   "cell_type": "code",
   "execution_count": 62,
   "id": "a13d66c8",
   "metadata": {},
   "outputs": [
    {
     "data": {
      "text/plain": [
       "StatsModels.TableRegressionModel{LinearModel{GLM.LmResp{Vector{Float64}}, GLM.DensePredChol{Float64, CholeskyPivoted{Float64, Matrix{Float64}, Vector{Int64}}}}, Matrix{Float64}}\n",
       "\n",
       ":(multimod_sum - walk_sum) ~ 1 + walk_sum + area_difference + distance_betweenness + ellipticity + distance_betweenness & ellipticity\n",
       "\n",
       "Coefficients:\n",
       "─────────────────────────────────────────────────────────────────────────────────────────────────────\n",
       "                                         Coef.  Std. Error        t  Pr(>|t|)   Lower 95%   Upper 95%\n",
       "─────────────────────────────────────────────────────────────────────────────────────────────────────\n",
       "(Intercept)                          7.43006    0.0717552    103.55    <1e-99   7.28939     7.57074\n",
       "walk_sum                            -0.882381   0.00554515  -159.13    <1e-99  -0.893252   -0.87151\n",
       "area_difference                      0.0558518  0.0036609     15.26    <1e-50   0.0486746   0.063029\n",
       "distance_betweenness                 0.05195    0.00648853     8.01    <1e-14   0.0392293   0.0646708\n",
       "ellipticity                          0.735223   0.0914678      8.04    <1e-14   0.5559      0.914546\n",
       "distance_betweenness & ellipticity  -0.122727   0.0112879    -10.87    <1e-26  -0.144857   -0.100597\n",
       "─────────────────────────────────────────────────────────────────────────────────────────────────────"
      ]
     },
     "execution_count": 62,
     "metadata": {},
     "output_type": "execute_result"
    }
   ],
   "source": [
    "# bp1ai=lm(multimod_sum-walk_sum ~\n",
    "#           walk_sum+\n",
    "#           area_difference+\n",
    "#           distance_betweenness*ellipticity,\n",
    "#         data=bp)\n",
    "bp1ai = lm(\n",
    "    @formula(multimod_sum - walk_sum ~ walk_sum + area_difference + (distance_betweenness * ellipticity)),\n",
    "    bp,\n",
    ")"
   ]
  },
  {
   "cell_type": "code",
   "execution_count": 63,
   "id": "67ce75ef",
   "metadata": {},
   "outputs": [
    {
     "data": {
      "text/plain": [
       "StatsModels.TableRegressionModel{LinearModel{GLM.LmResp{Vector{Float64}}, GLM.DensePredChol{Float64, CholeskyPivoted{Float64, Matrix{Float64}, Vector{Int64}}}}, Matrix{Float64}}\n",
       "\n",
       ":(multimod_sum - walk_sum) ~ 1 + walk_sum + area_difference + distance_betweenness + ellipticity + distance_betweenness & ellipticity\n",
       "\n",
       "Coefficients:\n",
       "─────────────────────────────────────────────────────────────────────────────────────────────────────\n",
       "                                         Coef.  Std. Error       t  Pr(>|t|)   Lower 95%    Upper 95%\n",
       "─────────────────────────────────────────────────────────────────────────────────────────────────────\n",
       "(Intercept)                          6.37753    0.124224     51.34    <1e-99   6.13394     6.62111\n",
       "walk_sum                            -0.754734   0.0100878   -74.82    <1e-99  -0.774514   -0.734953\n",
       "area_difference                      0.08313    0.00435956   19.07    <1e-75   0.0745816   0.0916785\n",
       "distance_betweenness                -0.0360374  0.0144491    -2.49    0.0127  -0.06437    -0.00770485\n",
       "ellipticity                          0.38068    0.159365      2.39    0.0170   0.0681895   0.693171\n",
       "distance_betweenness & ellipticity  -0.0197994  0.0242645    -0.82    0.4146  -0.0673783   0.0277795\n",
       "─────────────────────────────────────────────────────────────────────────────────────────────────────"
      ]
     },
     "execution_count": 63,
     "metadata": {},
     "output_type": "execute_result"
    }
   ],
   "source": [
    "# helsinki1ai=lm(multimod_sum-walk_sum ~\n",
    "#                 walk_sum+\n",
    "#                 area_difference+\n",
    "#                 distance_betweenness*ellipticity,\n",
    "#               data=helsinki)\n",
    "\n",
    "helsinki1ai = lm(\n",
    "    @formula(multimod_sum - walk_sum ~ walk_sum + area_difference + (distance_betweenness * ellipticity)),\n",
    "    helsinki,\n",
    ")"
   ]
  },
  {
   "cell_type": "code",
   "execution_count": 64,
   "id": "178b11ba",
   "metadata": {},
   "outputs": [
    {
     "data": {
      "text/plain": [
       "StatsModels.TableRegressionModel{LinearModel{GLM.LmResp{Vector{Float64}}, GLM.DensePredChol{Float64, CholeskyPivoted{Float64, Matrix{Float64}, Vector{Int64}}}}, Matrix{Float64}}\n",
       "\n",
       ":(multimod_sum - walk_sum) ~ 1 + walk_sum + area_difference + distance_betweenness + ellipticity + distance_betweenness & ellipticity\n",
       "\n",
       "Coefficients:\n",
       "────────────────────────────────────────────────────────────────────────────────────────────────────\n",
       "                                         Coef.  Std. Error       t  Pr(>|t|)   Lower 95%   Upper 95%\n",
       "────────────────────────────────────────────────────────────────────────────────────────────────────\n",
       "(Intercept)                          5.01715    0.0888237    56.48    <1e-99   4.84302     5.19128\n",
       "walk_sum                            -0.573719   0.00821222  -69.86    <1e-99  -0.589818   -0.557619\n",
       "area_difference                      0.0927186  0.00510738   18.15    <1e-70   0.082706    0.102731\n",
       "distance_betweenness                -0.0241548  0.0069557    -3.47    0.0005  -0.0377909  -0.0105187\n",
       "ellipticity                          0.326061   0.0911037     3.58    0.0003   0.14746     0.504663\n",
       "distance_betweenness & ellipticity  -0.0367035  0.0128482    -2.86    0.0043  -0.0618914  -0.0115156\n",
       "────────────────────────────────────────────────────────────────────────────────────────────────────"
      ]
     },
     "execution_count": 64,
     "metadata": {},
     "output_type": "execute_result"
    }
   ],
   "source": [
    "# madrid1ai=lm(multimod_sum-walk_sum ~\n",
    "#               walk_sum+\n",
    "#               area_difference+\n",
    "#               distance_betweenness*ellipticity,\n",
    "#             data=madrid)\n",
    "madrid1ai = lm(\n",
    "    @formula(multimod_sum - walk_sum ~ walk_sum + area_difference + (distance_betweenness * ellipticity)),\n",
    "    madrid,\n",
    ")"
   ]
  },
  {
   "cell_type": "code",
   "execution_count": 65,
   "id": "ec97aca3",
   "metadata": {},
   "outputs": [
    {
     "data": {
      "text/plain": [
       "StatsModels.TableRegressionModel{LinearModel{GLM.LmResp{Vector{Float64}}, GLM.DensePredChol{Float64, CholeskyPivoted{Float64, Matrix{Float64}, Vector{Int64}}}}, Matrix{Float64}}\n",
       "\n",
       ":(gini_multimodal - gini_walk15) ~ 1 + gini_walk15 + area_difference + distance_betweenness + ellipticity + distance_betweenness & ellipticity\n",
       "\n",
       "Coefficients:\n",
       "───────────────────────────────────────────────────────────────────────────────────────────────────────────\n",
       "                                           Coef.   Std. Error       t  Pr(>|t|)     Lower 95%     Upper 95%\n",
       "───────────────────────────────────────────────────────────────────────────────────────────────────────────\n",
       "(Intercept)                          0.0769461    0.0028897     26.63    <1e-99   0.0712808     0.0826113\n",
       "gini_walk15                         -0.343872     0.00877031   -39.21    <1e-99  -0.361066     -0.326678\n",
       "area_difference                      6.55563e-5   0.000132794    0.49    0.6216  -0.000194786   0.000325898\n",
       "distance_betweenness                -0.00350004   0.000260644  -13.43    <1e-39  -0.00401103   -0.00298905\n",
       "ellipticity                          0.0140156    0.00335697     4.18    <1e-04   0.00743429    0.020597\n",
       "distance_betweenness & ellipticity   0.000289977  0.000410049    0.71    0.4795  -0.000513925   0.00109388\n",
       "───────────────────────────────────────────────────────────────────────────────────────────────────────────"
      ]
     },
     "execution_count": 65,
     "metadata": {},
     "output_type": "execute_result"
    }
   ],
   "source": [
    "bp1i"
   ]
  },
  {
   "cell_type": "code",
   "execution_count": 66,
   "id": "825c6af5",
   "metadata": {},
   "outputs": [
    {
     "data": {
      "text/plain": [
       "6-element Vector{Float64}:\n",
       "  0.07128078892301157\n",
       " -0.36106609925155575\n",
       " -0.00019478571770440497\n",
       " -0.004011034374749469\n",
       "  0.007434291938154646\n",
       " -0.0005139248061993861"
      ]
     },
     "execution_count": 66,
     "metadata": {},
     "output_type": "execute_result"
    }
   ],
   "source": [
    "GLM.coeftable(bp1i).cols[5]"
   ]
  },
  {
   "cell_type": "code",
   "execution_count": 67,
   "id": "715509b7",
   "metadata": {},
   "outputs": [
    {
     "data": {
      "text/plain": [
       "model_to_df (generic function with 1 method)"
      ]
     },
     "execution_count": 67,
     "metadata": {},
     "output_type": "execute_result"
    }
   ],
   "source": [
    "function model_to_df(model)\n",
    "    return DataFrame(\n",
    "        coef_name=GLM.coefnames(model),\n",
    "        coef=GLM.coef(model),\n",
    "        std_error=GLM.stderror(model),\n",
    "        t=GLM.coeftable(model).cols[3],\n",
    "        pr=GLM.coeftable(model).cols[4],\n",
    "        lower=GLM.confint(model)[:,1],\n",
    "        upper=GLM.confint(model)[:,2],\n",
    "    )\n",
    "end"
   ]
  },
  {
   "cell_type": "code",
   "execution_count": 68,
   "id": "5999e078",
   "metadata": {},
   "outputs": [
    {
     "data": {
      "text/plain": [
       "\"bp1i.csv\""
      ]
     },
     "execution_count": 68,
     "metadata": {},
     "output_type": "execute_result"
    }
   ],
   "source": [
    "CSV.write(\"bp1i.csv\", model_to_df(bp1i))"
   ]
  },
  {
   "cell_type": "code",
   "execution_count": 69,
   "id": "e219266a",
   "metadata": {},
   "outputs": [
    {
     "data": {
      "text/plain": [
       "-4.905531931974099e-5"
      ]
     },
     "execution_count": 69,
     "metadata": {},
     "output_type": "execute_result"
    }
   ],
   "source": [
    "coef(bp1i)[4] * coef(bp1i)[5]"
   ]
  },
  {
   "cell_type": "code",
   "execution_count": 70,
   "id": "40188331",
   "metadata": {},
   "outputs": [],
   "source": [
    "# png(\"Main_interplot_bp1.png\", width=1200, height=1200)\n",
    "# interplot(m = bp1i, var1 = \"ellipticity\", var2 = \"distance_betweenness\", hist=FALSE, point =T,\n",
    "#           steps = 30,\n",
    "#           esize = 2,\n",
    "#           ercolor = \"black\")+\n",
    "#   # Change the background\n",
    "#   # theme_bw() +\n",
    "#   theme(panel.grid.major = element_blank(), panel.grid.minor = element_blank(),\n",
    "#         panel.background = element_blank(), axis.line = element_line(colour = \"black\")) +\n",
    "#   # Add a horizontal line at y = 0\n",
    "#   geom_hline(yintercept = 0, linetype = \"dashed\") +\n",
    "#   # Add labels for X and Y axes\n",
    "#   xlab(expression(italic(D[i]))) +\n",
    "#   ylab(expression(paste('Coefficient of ', italic(E[i]), ' on ', italic(G[i]),' by levels of ', italic(D[i]))))+\n",
    "#   theme(axis.title=element_text(size=60),text = element_text(size=60))+\n",
    "#   theme(plot.title = element_text(face=\"bold\")) +\n",
    "#   scale_x_continuous(breaks=c(0,2,4,6,8,10,12,14,16,18,20))\n"
   ]
  },
  {
   "cell_type": "code",
   "execution_count": null,
   "id": "ecc41edf",
   "metadata": {},
   "outputs": [
    {
     "data": {
      "text/html": [
       "<div><div style = \"float: left;\"><span>11×5 DataFrame</span></div><div style = \"clear: both;\"></div></div><div class = \"data-frame\" style = \"overflow-x: scroll;\"><table class = \"data-frame\" style = \"margin-bottom: 6px;\"><thead><tr class = \"header\"><th class = \"rowNumber\" style = \"font-weight: bold; text-align: right;\">Row</th><th style = \"text-align: left;\">x2_value</th><th style = \"text-align: left;\">estimate</th><th style = \"text-align: left;\">se</th><th style = \"text-align: left;\">lower</th><th style = \"text-align: left;\">upper</th></tr><tr class = \"subheader headerLastRow\"><th class = \"rowNumber\" style = \"font-weight: bold; text-align: right;\"></th><th title = \"Float64\" style = \"text-align: left;\">Float64</th><th title = \"Float64\" style = \"text-align: left;\">Float64</th><th title = \"Float64\" style = \"text-align: left;\">Float64</th><th title = \"Float64\" style = \"text-align: left;\">Float64</th><th title = \"Float64\" style = \"text-align: left;\">Float64</th></tr></thead><tbody><tr><td class = \"rowNumber\" style = \"font-weight: bold; text-align: right;\">1</td><td style = \"text-align: right;\">0.032</td><td style = \"text-align: right;\">0.0140249</td><td style = \"text-align: right;\">0.00334521</td><td style = \"text-align: right;\">0.00746844</td><td style = \"text-align: right;\">0.0205814</td></tr><tr><td class = \"rowNumber\" style = \"font-weight: bold; text-align: right;\">2</td><td style = \"text-align: right;\">2.5445</td><td style = \"text-align: right;\">0.0147535</td><td style = \"text-align: right;\">0.00246443</td><td style = \"text-align: right;\">0.0099233</td><td style = \"text-align: right;\">0.0195837</td></tr><tr><td class = \"rowNumber\" style = \"font-weight: bold; text-align: right;\">3</td><td style = \"text-align: right;\">3.837</td><td style = \"text-align: right;\">0.0151283</td><td style = \"text-align: right;\">0.00206591</td><td style = \"text-align: right;\">0.0110792</td><td style = \"text-align: right;\">0.0191774</td></tr><tr><td class = \"rowNumber\" style = \"font-weight: bold; text-align: right;\">4</td><td style = \"text-align: right;\">5.0035</td><td style = \"text-align: right;\">0.0154665</td><td style = \"text-align: right;\">0.0017666</td><td style = \"text-align: right;\">0.0120041</td><td style = \"text-align: right;\">0.018929</td></tr><tr><td class = \"rowNumber\" style = \"font-weight: bold; text-align: right;\">5</td><td style = \"text-align: right;\">5.878</td><td style = \"text-align: right;\">0.0157201</td><td style = \"text-align: right;\">0.00160031</td><td style = \"text-align: right;\">0.0125836</td><td style = \"text-align: right;\">0.0188567</td></tr><tr><td class = \"rowNumber\" style = \"font-weight: bold; text-align: right;\">6</td><td style = \"text-align: right;\">6.885</td><td style = \"text-align: right;\">0.0160121</td><td style = \"text-align: right;\">0.00149495</td><td style = \"text-align: right;\">0.0130821</td><td style = \"text-align: right;\">0.0189422</td></tr><tr><td class = \"rowNumber\" style = \"font-weight: bold; text-align: right;\">7</td><td style = \"text-align: right;\">7.885</td><td style = \"text-align: right;\">0.0163021</td><td style = \"text-align: right;\">0.00149949</td><td style = \"text-align: right;\">0.0133632</td><td style = \"text-align: right;\">0.0192411</td></tr><tr><td class = \"rowNumber\" style = \"font-weight: bold; text-align: right;\">8</td><td style = \"text-align: right;\">8.899</td><td style = \"text-align: right;\">0.0165961</td><td style = \"text-align: right;\">0.0016142</td><td style = \"text-align: right;\">0.0134324</td><td style = \"text-align: right;\">0.0197599</td></tr><tr><td class = \"rowNumber\" style = \"font-weight: bold; text-align: right;\">9</td><td style = \"text-align: right;\">10.21</td><td style = \"text-align: right;\">0.0169763</td><td style = \"text-align: right;\">0.00189207</td><td style = \"text-align: right;\">0.0132679</td><td style = \"text-align: right;\">0.0206847</td></tr><tr><td class = \"rowNumber\" style = \"font-weight: bold; text-align: right;\">10</td><td style = \"text-align: right;\">12.0985</td><td style = \"text-align: right;\">0.0175239</td><td style = \"text-align: right;\">0.00244936</td><td style = \"text-align: right;\">0.0127233</td><td style = \"text-align: right;\">0.0223246</td></tr><tr><td class = \"rowNumber\" style = \"font-weight: bold; text-align: right;\">11</td><td style = \"text-align: right;\">19.528</td><td style = \"text-align: right;\">0.0196783</td><td style = \"text-align: right;\">0.00521129</td><td style = \"text-align: right;\">0.00946437</td><td style = \"text-align: right;\">0.0298922</td></tr></tbody></table></div>"
      ],
      "text/latex": [
       "\\begin{tabular}{r|ccccc}\n",
       "\t& x2\\_value & estimate & se & lower & upper\\\\\n",
       "\t\\hline\n",
       "\t& Float64 & Float64 & Float64 & Float64 & Float64\\\\\n",
       "\t\\hline\n",
       "\t1 & 0.032 & 0.0140249 & 0.00334521 & 0.00746844 & 0.0205814 \\\\\n",
       "\t2 & 2.5445 & 0.0147535 & 0.00246443 & 0.0099233 & 0.0195837 \\\\\n",
       "\t3 & 3.837 & 0.0151283 & 0.00206591 & 0.0110792 & 0.0191774 \\\\\n",
       "\t4 & 5.0035 & 0.0154665 & 0.0017666 & 0.0120041 & 0.018929 \\\\\n",
       "\t5 & 5.878 & 0.0157201 & 0.00160031 & 0.0125836 & 0.0188567 \\\\\n",
       "\t6 & 6.885 & 0.0160121 & 0.00149495 & 0.0130821 & 0.0189422 \\\\\n",
       "\t7 & 7.885 & 0.0163021 & 0.00149949 & 0.0133632 & 0.0192411 \\\\\n",
       "\t8 & 8.899 & 0.0165961 & 0.0016142 & 0.0134324 & 0.0197599 \\\\\n",
       "\t9 & 10.21 & 0.0169763 & 0.00189207 & 0.0132679 & 0.0206847 \\\\\n",
       "\t10 & 12.0985 & 0.0175239 & 0.00244936 & 0.0127233 & 0.0223246 \\\\\n",
       "\t11 & 19.528 & 0.0196783 & 0.00521129 & 0.00946437 & 0.0298922 \\\\\n",
       "\\end{tabular}\n"
      ],
      "text/plain": [
       "\u001b[1m11×5 DataFrame\u001b[0m\n",
       "\u001b[1m Row \u001b[0m│\u001b[1m x2_value \u001b[0m\u001b[1m estimate  \u001b[0m\u001b[1m se         \u001b[0m\u001b[1m lower      \u001b[0m\u001b[1m upper     \u001b[0m\n",
       "     │\u001b[90m Float64  \u001b[0m\u001b[90m Float64   \u001b[0m\u001b[90m Float64    \u001b[0m\u001b[90m Float64    \u001b[0m\u001b[90m Float64   \u001b[0m\n",
       "─────┼────────────────────────────────────────────────────────\n",
       "   1 │   0.032   0.0140249  0.00334521  0.00746844  0.0205814\n",
       "   2 │   2.5445  0.0147535  0.00246443  0.0099233   0.0195837\n",
       "   3 │   3.837   0.0151283  0.00206591  0.0110792   0.0191774\n",
       "   4 │   5.0035  0.0154665  0.0017666   0.0120041   0.018929\n",
       "   5 │   5.878   0.0157201  0.00160031  0.0125836   0.0188567\n",
       "   6 │   6.885   0.0160121  0.00149495  0.0130821   0.0189422\n",
       "   7 │   7.885   0.0163021  0.00149949  0.0133632   0.0192411\n",
       "   8 │   8.899   0.0165961  0.0016142   0.0134324   0.0197599\n",
       "   9 │  10.21    0.0169763  0.00189207  0.0132679   0.0206847\n",
       "  10 │  12.0985  0.0175239  0.00244936  0.0127233   0.0223246\n",
       "  11 │  19.528   0.0196783  0.00521129  0.00946437  0.0298922"
      ]
     },
     "execution_count": 97,
     "metadata": {},
     "output_type": "execute_result"
    }
   ],
   "source": [
    "cvals = quantile(bp.distance_betweenness, 0:0.1:1)  # pick any values you like\n",
    "res_link = conditional_coef_link(bp1i, :ellipticity, :distance_betweenness, cvals)"
   ]
  },
  {
   "cell_type": "code",
   "execution_count": 98,
   "id": "e958eb7c",
   "metadata": {},
   "outputs": [
    {
     "data": {
      "image/png": "[encoded data removed]",
      "text/html": [
       "<img width=600 height=450 style='object-fit: contain; height: auto;' src=\"data:image/png;base64, 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\"/>"
      ]
     },
     "execution_count": 98,
     "metadata": {},
     "output_type": "execute_result"
    }
   ],
   "source": [
    "fig = Figure()\n",
    "ax = Axis(fig[1, 1],\n",
    "    xlabel = \"distance_betweenness\",\n",
    "    ylabel = \"Conditional effect of ellipticity\",\n",
    "    # title  = \"Conditional Coefficient Plot\"\n",
    ")\n",
    "\n",
    "lines!(ax, res_link.x2_value, res_link.estimate, color=:blue)\n",
    "band!(ax, res_link.x2_value, res_link.lower, res_link.upper, color=(:blue, 0.3))\n",
    "\n",
    "# hline!(ax, [0], color=:black, linestyle=:dash)  # zero line for reference\n",
    "\n",
    "fig"
   ]
  },
  {
   "cell_type": "markdown",
   "id": "8ffb3350",
   "metadata": {},
   "source": [
    "# 4.6 Consider socio-economic status of walking area - interactions"
   ]
  },
  {
   "cell_type": "code",
   "execution_count": null,
   "id": "a48b9e7b",
   "metadata": {},
   "outputs": [
    {
     "data": {
      "text/plain": [
       "StatsModels.TableRegressionModel{LinearModel{GLM.LmResp{Vector{Float64}}, GLM.DensePredChol{Float64, CholeskyPivoted{Float64, Matrix{Float64}, Vector{Int64}}}}, Matrix{Float64}}\n",
       "\n",
       ":(gini_multimodal - gini_walk15) ~ 1 + gini_walk15 + area_difference + ellipticity + distance_betweenness + area_difference & ellipticity + distance_betweenness & ellipticity\n",
       "\n",
       "Coefficients:\n",
       "───────────────────────────────────────────────────────────────────────────────────────────────────────────\n",
       "                                           Coef.   Std. Error       t  Pr(>|t|)     Lower 95%     Upper 95%\n",
       "───────────────────────────────────────────────────────────────────────────────────────────────────────────\n",
       "(Intercept)                          0.0686989    0.00381121    18.03    <1e-67   0.0612249     0.0761728\n",
       "gini_walk15                         -0.278827     0.0117163    -23.80    <1e-99  -0.301803     -0.255851\n",
       "area_difference                     -0.000522479  0.000414833   -1.26    0.2080  -0.00133598    0.000291025\n",
       "ellipticity                          0.0143653    0.00454612     3.16    0.0016   0.00545019    0.0232804\n",
       "distance_betweenness                -0.00338383   0.000369104   -9.17    <1e-18  -0.00410766   -0.00266\n",
       "area_difference & ellipticity        0.000633572  0.000779031    0.81    0.4161  -0.000894139   0.00216128\n",
       "distance_betweenness & ellipticity  -0.00109791   0.000675114   -1.63    0.1040  -0.00242184    0.000226013\n",
       "───────────────────────────────────────────────────────────────────────────────────────────────────────────"
      ]
     },
     "execution_count": 70,
     "metadata": {},
     "output_type": "execute_result"
    }
   ],
   "source": [
    "# bp1_l=lm(gini_multimodal-gini_walk15 ~\n",
    "#            #area+\n",
    "#            gini_walk15+\n",
    "#            area_difference*ellipticity+\n",
    "#            distance_betweenness*ellipticity,\n",
    "#          data=bp[bp$arpu_low_ratio_walk15>\n",
    "#                    median(bp$arpu_low_ratio_walk15),])\n",
    "\n",
    "bp1_l = lm(@formula(\n",
    "    gini_multimodal - gini_walk15 ~ gini_walk15 +( area_difference * ellipticity) + (distance_betweenness * ellipticity)),\n",
    "    filter(row -> row.arpu_low_ratio_walk15 > median(bp.arpu_low_ratio_walk15), bp),\n",
    ")\n"
   ]
  },
  {
   "cell_type": "code",
   "execution_count": null,
   "id": "be86b94e",
   "metadata": {},
   "outputs": [
    {
     "data": {
      "text/plain": [
       "StatsModels.TableRegressionModel{LinearModel{GLM.LmResp{Vector{Float64}}, GLM.DensePredChol{Float64, CholeskyPivoted{Float64, Matrix{Float64}, Vector{Int64}}}}, Matrix{Float64}}\n",
       "\n",
       ":(gini_multimodal - gini_walk15) ~ 1 + gini_walk15 + area_difference + ellipticity + distance_betweenness + area_difference & ellipticity + distance_betweenness & ellipticity\n",
       "\n",
       "Coefficients:\n",
       "──────────────────────────────────────────────────────────────────────────────────────────────────────────\n",
       "                                          Coef.   Std. Error       t  Pr(>|t|)     Lower 95%     Upper 95%\n",
       "──────────────────────────────────────────────────────────────────────────────────────────────────────────\n",
       "(Intercept)                          0.088133    0.00520573    16.93    <1e-59   0.0779244     0.0983417\n",
       "gini_walk15                         -0.669236    0.0179922    -37.20    <1e-99  -0.70452      -0.633953\n",
       "area_difference                     -0.00156783  0.000649282   -2.41    0.0158  -0.0028411    -0.000294561\n",
       "ellipticity                          0.0610147   0.0071344      8.55    <1e-16   0.0470238     0.0750055\n",
       "distance_betweenness                 8.65611e-5  0.000467931    0.18    0.8533  -0.00083107    0.00100419\n",
       "area_difference & ellipticity        0.00263064  0.0010559      2.49    0.0128   0.000559984   0.00470129\n",
       "distance_betweenness & ellipticity  -0.00512157  0.000735258   -6.97    <1e-11  -0.00656344   -0.0036797\n",
       "──────────────────────────────────────────────────────────────────────────────────────────────────────────"
      ]
     },
     "execution_count": 71,
     "metadata": {},
     "output_type": "execute_result"
    }
   ],
   "source": [
    "# bp1_h=lm(gini_multimodal-gini_walk15 ~\n",
    "#            #area+\n",
    "#            gini_walk15+\n",
    "#            area_difference*ellipticity+\n",
    "#            distance_betweenness*ellipticity,\n",
    "#          data=bp[bp$arpu_low_ratio_walk15<\n",
    "#                    median(bp$arpu_low_ratio_walk15),])\n",
    "\n",
    "bp1_h = lm(@formula(\n",
    "    gini_multimodal - gini_walk15 ~ gini_walk15 +( area_difference * ellipticity) + (distance_betweenness * ellipticity)),\n",
    "    filter(row -> row.arpu_low_ratio_walk15 < median(bp.arpu_low_ratio_walk15), bp),\n",
    ")"
   ]
  },
  {
   "cell_type": "code",
   "execution_count": null,
   "id": "179518a8",
   "metadata": {},
   "outputs": [
    {
     "data": {
      "text/plain": [
       "StatsModels.TableRegressionModel{LinearModel{GLM.LmResp{Vector{Float64}}, GLM.DensePredChol{Float64, CholeskyPivoted{Float64, Matrix{Float64}, Vector{Int64}}}}, Matrix{Float64}}\n",
       "\n",
       ":(gini_house_multimodal - gini_house_walk15) ~ 1 + gini_walk15 + area_difference + ellipticity + distance_betweenness + area_difference & ellipticity + distance_betweenness & ellipticity\n",
       "\n",
       "Coefficients:\n",
       "───────────────────────────────────────────────────────────────────────────────────────────────────────\n",
       "                                          Coef.   Std. Error      t  Pr(>|t|)    Lower 95%    Upper 95%\n",
       "───────────────────────────────────────────────────────────────────────────────────────────────────────\n",
       "(Intercept)                          0.0256038   0.00852649    3.00    0.0027   0.00888209   0.0423255\n",
       "gini_walk15                          0.212224    0.0290083     7.32    <1e-12   0.155335     0.269114\n",
       "area_difference                     -0.0049139   0.00101796   -4.83    <1e-05  -0.00691027  -0.00291754\n",
       "ellipticity                         -0.0527242   0.01233      -4.28    <1e-04  -0.0769051   -0.0285434\n",
       "distance_betweenness                -0.0039101   0.000697425  -5.61    <1e-07  -0.00527785  -0.00254235\n",
       "area_difference & ellipticity        0.00853436  0.00176131    4.85    <1e-05   0.00508018   0.0119886\n",
       "distance_betweenness & ellipticity   0.00491803  0.00114113    4.31    <1e-04   0.00268011   0.00715595\n",
       "───────────────────────────────────────────────────────────────────────────────────────────────────────"
      ]
     },
     "execution_count": 72,
     "metadata": {},
     "output_type": "execute_result"
    }
   ],
   "source": [
    "# bp2_l=lm(gini_house_multimodal-gini_house_walk15 ~\n",
    "#            #area+\n",
    "#            gini_walk15+\n",
    "#            area_difference*ellipticity+\n",
    "#            distance_betweenness*ellipticity,\n",
    "#          data=bp[bp$mean_price<\n",
    "#                    median(bp$mean_price, na.rm = T),])\n",
    "\n",
    "bp2_l = lm(@formula(\n",
    "    gini_house_multimodal - gini_house_walk15 ~ gini_walk15 + (area_difference * ellipticity) + (distance_betweenness * ellipticity)),\n",
    "    filter(row -> row.mean_price < median(skipmissing(bp.mean_price)), dropmissing(bp, :mean_price)),\n",
    ")"
   ]
  },
  {
   "cell_type": "code",
   "execution_count": null,
   "id": "58860445",
   "metadata": {},
   "outputs": [
    {
     "data": {
      "text/plain": [
       "StatsModels.TableRegressionModel{LinearModel{GLM.LmResp{Vector{Float64}}, GLM.DensePredChol{Float64, CholeskyPivoted{Float64, Matrix{Float64}, Vector{Int64}}}}, Matrix{Float64}}\n",
       "\n",
       ":(gini_house_multimodal - gini_house_walk15) ~ 1 + gini_walk15 + area_difference + ellipticity + distance_betweenness + area_difference & ellipticity + distance_betweenness & ellipticity\n",
       "\n",
       "Coefficients:\n",
       "─────────────────────────────────────────────────────────────────────────────────────────────────────────\n",
       "                                           Coef.   Std. Error      t  Pr(>|t|)     Lower 95%    Upper 95%\n",
       "─────────────────────────────────────────────────────────────────────────────────────────────────────────\n",
       "(Intercept)                          0.0051543    0.00608701    0.85    0.3972  -0.00678321    0.0170918\n",
       "gini_walk15                          0.0227795    0.0174773     1.30    0.1926  -0.011496      0.057055\n",
       "area_difference                      0.000973815  0.000683011   1.43    0.1541  -0.000365668   0.0023133\n",
       "ellipticity                          0.0258954    0.00800821    3.23    0.0012   0.0101901     0.0416007\n",
       "distance_betweenness                 0.00189037   0.000615451   3.07    0.0022   0.000683381   0.00309736\n",
       "area_difference & ellipticity        0.00227997   0.00127518    1.79    0.0739  -0.000220857   0.00478079\n",
       "distance_betweenness & ellipticity  -0.00815188   0.00110682   -7.37    <1e-12  -0.0103225    -0.00598125\n",
       "─────────────────────────────────────────────────────────────────────────────────────────────────────────"
      ]
     },
     "execution_count": 73,
     "metadata": {},
     "output_type": "execute_result"
    }
   ],
   "source": [
    "# bp2_h=lm(gini_house_multimodal-gini_house_walk15 ~\n",
    "#            #area+\n",
    "#            gini_walk15+\n",
    "#            area_difference*ellipticity+\n",
    "#            distance_betweenness*ellipticity,\n",
    "#          data=bp[bp$mean_price>\n",
    "#                    median(bp$mean_price, na.rm = T),])\n",
    "\n",
    "bp2_h = lm(@formula(\n",
    "    gini_house_multimodal - gini_house_walk15 ~ gini_walk15 + (area_difference * ellipticity) + (distance_betweenness * ellipticity)),\n",
    "    filter(row -> row.mean_price > median(skipmissing(bp.mean_price)), dropmissing(bp, :mean_price)),\n",
    ")"
   ]
  },
  {
   "cell_type": "code",
   "execution_count": null,
   "id": "10229c77",
   "metadata": {},
   "outputs": [
    {
     "data": {
      "text/plain": [
       "StatsModels.TableRegressionModel{LinearModel{GLM.LmResp{Vector{Float64}}, GLM.DensePredChol{Float64, CholeskyPivoted{Float64, Matrix{Float64}, Vector{Int64}}}}, Matrix{Float64}}\n",
       "\n",
       ":(weighted_gini_multi - weighted_gini_walk) ~ 1 + weighted_gini_walk + area_difference + ellipticity + distance_betweenness + area_difference & ellipticity + distance_betweenness & ellipticity\n",
       "\n",
       "Coefficients:\n",
       "───────────────────────────────────────────────────────────────────────────────────────────────────────────\n",
       "                                           Coef.   Std. Error       t  Pr(>|t|)     Lower 95%     Upper 95%\n",
       "───────────────────────────────────────────────────────────────────────────────────────────────────────────\n",
       "(Intercept)                          0.157795     0.00498395    31.66    <1e-99   0.148018      0.167572\n",
       "weighted_gini_walk                  -0.482267     0.0147236    -32.75    <1e-99  -0.511151     -0.453383\n",
       "area_difference                     -0.000424547  0.000272516   -1.56    0.1195  -0.000959151   0.000110058\n",
       "ellipticity                         -0.00678503   0.00384534    -1.76    0.0779  -0.0143286     0.000758518\n",
       "distance_betweenness                -0.000569453  0.000248498   -2.29    0.0221  -0.00105694   -8.19661e-5\n",
       "area_difference & ellipticity        0.000356223  0.000476897    0.75    0.4552  -0.000579323   0.00129177\n",
       "distance_betweenness & ellipticity   0.000605487  0.000444631    1.36    0.1735  -0.000266762   0.00147774\n",
       "───────────────────────────────────────────────────────────────────────────────────────────────────────────"
      ]
     },
     "execution_count": 74,
     "metadata": {},
     "output_type": "execute_result"
    }
   ],
   "source": [
    "# helsinki1_l=lm(weighted_gini_multi-weighted_gini_walk ~\n",
    "#                  #area+\n",
    "#                  weighted_gini_walk+\n",
    "#                  area_difference*ellipticity+\n",
    "#                  distance_betweenness*ellipticity,\n",
    "#                data=helsinki[helsinki$weighted_med_inc_walk<\n",
    "#                                median(helsinki$weighted_med_inc_walk),])\n",
    "\n",
    "helsinki1_l = lm(@formula(\n",
    "    weighted_gini_multi - weighted_gini_walk ~ weighted_gini_walk +(area_difference * ellipticity) + (distance_betweenness * ellipticity)),\n",
    "    filter(row -> row.weighted_med_inc_walk < median(helsinki.weighted_med_inc_walk), helsinki),\n",
    ")"
   ]
  },
  {
   "cell_type": "code",
   "execution_count": null,
   "id": "344b2988",
   "metadata": {},
   "outputs": [
    {
     "data": {
      "text/plain": [
       "StatsModels.TableRegressionModel{LinearModel{GLM.LmResp{Vector{Float64}}, GLM.DensePredChol{Float64, CholeskyPivoted{Float64, Matrix{Float64}, Vector{Int64}}}}, Matrix{Float64}}\n",
       "\n",
       ":(weighted_gini_multi - weighted_gini_walk) ~ 1 + weighted_gini_walk + area_difference + ellipticity + distance_betweenness + area_difference & ellipticity + distance_betweenness & ellipticity\n",
       "\n",
       "Coefficients:\n",
       "───────────────────────────────────────────────────────────────────────────────────────────────────────────\n",
       "                                           Coef.   Std. Error       t  Pr(>|t|)     Lower 95%     Upper 95%\n",
       "───────────────────────────────────────────────────────────────────────────────────────────────────────────\n",
       "(Intercept)                          0.141114     0.00471528    29.93    <1e-99   0.131864      0.150365\n",
       "weighted_gini_walk                  -0.409224     0.0135222    -30.26    <1e-99  -0.435751     -0.382697\n",
       "area_difference                     -0.000428278  0.00027165    -1.58    0.1151  -0.000961184   0.000104628\n",
       "ellipticity                         -0.0228272    0.00392816    -5.81    <1e-08  -0.0305332    -0.0151212\n",
       "distance_betweenness                -0.00233204   0.000329257   -7.08    <1e-11  -0.00297796   -0.00168612\n",
       "area_difference & ellipticity        0.00162726   0.000464048    3.51    0.0005   0.000716923   0.0025376\n",
       "distance_betweenness & ellipticity   0.00340231   0.00053011     6.42    <1e-09   0.00236237    0.00444224\n",
       "───────────────────────────────────────────────────────────────────────────────────────────────────────────"
      ]
     },
     "execution_count": 75,
     "metadata": {},
     "output_type": "execute_result"
    }
   ],
   "source": [
    "# helsinki1_h=lm(weighted_gini_multi-weighted_gini_walk ~\n",
    "#                  #area+\n",
    "#                  weighted_gini_walk+\n",
    "#                  area_difference*ellipticity+\n",
    "#                  distance_betweenness*ellipticity,\n",
    "#                data=helsinki[helsinki$weighted_med_inc_walk>\n",
    "#                                median(helsinki$weighted_med_inc_walk),])\n",
    "\n",
    "helsinki1_h = lm(@formula(\n",
    "    weighted_gini_multi - weighted_gini_walk ~ weighted_gini_walk +(area_difference * ellipticity) + (distance_betweenness * ellipticity)),\n",
    "    filter(row -> row.weighted_med_inc_walk > median(helsinki.weighted_med_inc_walk), helsinki),\n",
    ")"
   ]
  },
  {
   "cell_type": "code",
   "execution_count": null,
   "id": "0abcf640",
   "metadata": {},
   "outputs": [
    {
     "data": {
      "text/plain": [
       "StatsModels.TableRegressionModel{LinearModel{GLM.LmResp{Vector{Float64}}, GLM.DensePredChol{Float64, CholeskyPivoted{Float64, Matrix{Float64}, Vector{Int64}}}}, Matrix{Float64}}\n",
       "\n",
       ":(weighted_gini_multi - weighted_gini_walk) ~ 1 + weighted_gini_walk + area_difference + ellipticity + distance_betweenness + area_difference & ellipticity + distance_betweenness & ellipticity\n",
       "\n",
       "Coefficients:\n",
       "────────────────────────────────────────────────────────────────────────────────────────────────────\n",
       "                                         Coef.  Std. Error       t  Pr(>|t|)   Lower 95%   Upper 95%\n",
       "────────────────────────────────────────────────────────────────────────────────────────────────────\n",
       "(Intercept)                          6.1958     0.314269     19.71    <1e-80   5.57956     6.81205\n",
       "weighted_gini_walk                  -0.194609   0.00872147  -22.31    <1e-99  -0.211711   -0.177508\n",
       "area_difference                      0.0651708  0.0208612     3.12    0.0018   0.0242645   0.106077\n",
       "ellipticity                          0.184172   0.204691      0.90    0.3683  -0.217202    0.585547\n",
       "distance_betweenness                -0.0267004  0.0187532    -1.42    0.1546  -0.0634732   0.0100724\n",
       "area_difference & ellipticity       -0.0623246  0.0427064    -1.46    0.1446  -0.146067    0.0214175\n",
       "distance_betweenness & ellipticity  -0.0465947  0.0314073    -1.48    0.1380  -0.108181    0.0149912\n",
       "────────────────────────────────────────────────────────────────────────────────────────────────────"
      ]
     },
     "execution_count": 76,
     "metadata": {},
     "output_type": "execute_result"
    }
   ],
   "source": [
    "# madrid1_l=lm(weighted_gini_multi-weighted_gini_walk ~\n",
    "#                #area+\n",
    "#                weighted_gini_walk+\n",
    "#                area_difference*ellipticity+\n",
    "#                distance_betweenness*ellipticity,\n",
    "#              data=madrid[madrid$weighted_net_income_hh_walk<\n",
    "#                            median(madrid$weighted_net_income_hh_walk),])\n",
    "\n",
    "madrid1_l = lm(@formula(\n",
    "    weighted_gini_multi - weighted_gini_walk ~ weighted_gini_walk +(area_difference * ellipticity) + (distance_betweenness * ellipticity)),\n",
    "    filter(row -> row.weighted_net_income_hh_walk < median(madrid.weighted_net_income_hh_walk), madrid),\n",
    ")"
   ]
  },
  {
   "cell_type": "code",
   "execution_count": null,
   "id": "916062b9",
   "metadata": {},
   "outputs": [
    {
     "data": {
      "text/plain": [
       "StatsModels.TableRegressionModel{LinearModel{GLM.LmResp{Vector{Float64}}, GLM.DensePredChol{Float64, CholeskyPivoted{Float64, Matrix{Float64}, Vector{Int64}}}}, Matrix{Float64}}\n",
       "\n",
       ":(weighted_gini_multi - weighted_gini_walk) ~ 1 + weighted_gini_walk + area_difference + ellipticity + distance_betweenness + area_difference & ellipticity + distance_betweenness & ellipticity\n",
       "\n",
       "Coefficients:\n",
       "────────────────────────────────────────────────────────────────────────────────────────────────────\n",
       "                                         Coef.  Std. Error       t  Pr(>|t|)  Lower 95%    Upper 95%\n",
       "────────────────────────────────────────────────────────────────────────────────────────────────────\n",
       "(Intercept)                          8.93477    0.349145     25.59    <1e-99   8.25014    9.6194\n",
       "weighted_gini_walk                  -0.230729   0.00751027  -30.72    <1e-99  -0.245456  -0.216002\n",
       "area_difference                     -0.0148265  0.0520717    -0.28    0.7759  -0.116933   0.0872797\n",
       "ellipticity                         -0.466901   0.366845     -1.27    0.2032  -1.18624    0.252437\n",
       "distance_betweenness                -0.203409   0.022362     -9.10    <1e-18  -0.247258  -0.15956\n",
       "area_difference & ellipticity       -0.207779   0.101566     -2.05    0.0409  -0.406936  -0.00862108\n",
       "distance_betweenness & ellipticity   0.125428   0.0420746     2.98    0.0029   0.042925   0.207931\n",
       "────────────────────────────────────────────────────────────────────────────────────────────────────"
      ]
     },
     "execution_count": 77,
     "metadata": {},
     "output_type": "execute_result"
    }
   ],
   "source": [
    "# madrid1_h=lm(weighted_gini_multi-weighted_gini_walk ~\n",
    "#                #area+\n",
    "#                weighted_gini_walk+\n",
    "#                area_difference*ellipticity+\n",
    "#                distance_betweenness*ellipticity,\n",
    "#              data=madrid[madrid$weighted_net_income_hh_walk>\n",
    "#                            median(madrid$weighted_net_income_hh_walk),])\n",
    "madrid1_h = lm(@formula(\n",
    "    weighted_gini_multi - weighted_gini_walk ~ weighted_gini_walk +(area_difference * ellipticity) + (distance_betweenness * ellipticity)),\n",
    "    filter(row -> row.weighted_net_income_hh_walk > median(madrid.weighted_net_income_hh_walk), madrid),\n",
    ")"
   ]
  },
  {
   "cell_type": "code",
   "execution_count": null,
   "id": "83cf3bbd",
   "metadata": {},
   "outputs": [
    {
     "data": {
      "text/plain": [
       "StatsModels.TableRegressionModel{LinearModel{GLM.LmResp{Vector{Float64}}, GLM.DensePredChol{Float64, CholeskyPivoted{Float64, Matrix{Float64}, Vector{Int64}}}}, Matrix{Float64}}\n",
       "\n",
       ":(multimod_sum - walk_sum) ~ 1 + walk_sum + area_difference + ellipticity + distance_betweenness + area_difference & ellipticity + distance_betweenness & ellipticity\n",
       "\n",
       "Coefficients:\n",
       "────────────────────────────────────────────────────────────────────────────────────────────────────\n",
       "                                         Coef.  Std. Error        t  Pr(>|t|)  Lower 95%   Upper 95%\n",
       "────────────────────────────────────────────────────────────────────────────────────────────────────\n",
       "(Intercept)                          8.15947    0.154653      52.76    <1e-99   7.85618    8.46277\n",
       "walk_sum                            -0.900613   0.00767964  -117.27    <1e-99  -0.915674  -0.885552\n",
       "area_difference                     -0.158542   0.0190989     -8.30    <1e-15  -0.195998  -0.121086\n",
       "ellipticity                         -0.281444   0.231551      -1.22    0.2243  -0.735549   0.172661\n",
       "distance_betweenness                 0.0611711  0.0130475      4.69    <1e-05   0.035583   0.0867591\n",
       "area_difference & ellipticity        0.425032   0.0330709     12.85    <1e-35   0.360175   0.489889\n",
       "distance_betweenness & ellipticity  -0.141482   0.021564      -6.56    <1e-10  -0.183772  -0.0991913\n",
       "────────────────────────────────────────────────────────────────────────────────────────────────────"
      ]
     },
     "execution_count": 78,
     "metadata": {},
     "output_type": "execute_result"
    }
   ],
   "source": [
    "# bp1a_l=lm(multimod_sum-walk_sum ~\n",
    "#             walk_sum+\n",
    "#             #area+\n",
    "#             area_difference*ellipticity+\n",
    "#             distance_betweenness*ellipticity,\n",
    "#           data=bp[bp$mean_price<\n",
    "#                     median(bp$mean_price, na.rm = T),])\n",
    "bp1a_l = lm(@formula(\n",
    "    multimod_sum - walk_sum ~ walk_sum + (area_difference * ellipticity) + (distance_betweenness * ellipticity)),\n",
    "    filter(row -> row.mean_price < median(skipmissing(bp.mean_price)), dropmissing(bp, :mean_price)),\n",
    ")"
   ]
  },
  {
   "cell_type": "code",
   "execution_count": null,
   "id": "57e76d86",
   "metadata": {},
   "outputs": [
    {
     "data": {
      "text/plain": [
       "StatsModels.TableRegressionModel{LinearModel{GLM.LmResp{Vector{Float64}}, GLM.DensePredChol{Float64, CholeskyPivoted{Float64, Matrix{Float64}, Vector{Int64}}}}, Matrix{Float64}}\n",
       "\n",
       ":(multimod_sum - walk_sum) ~ 1 + walk_sum + area_difference + ellipticity + distance_betweenness + area_difference & ellipticity + distance_betweenness & ellipticity\n",
       "\n",
       "Coefficients:\n",
       "──────────────────────────────────────────────────────────────────────────────────────────────────────\n",
       "                                         Coef.  Std. Error        t  Pr(>|t|)    Lower 95%   Upper 95%\n",
       "──────────────────────────────────────────────────────────────────────────────────────────────────────\n",
       "(Intercept)                          7.50389    0.0982507     76.37    <1e-99   7.3112       7.69657\n",
       "walk_sum                            -0.857416   0.00817491  -104.88    <1e-99  -0.873448    -0.841384\n",
       "area_difference                      0.017808   0.0111773      1.59    0.1113  -0.00411221   0.0397283\n",
       "ellipticity                          0.420137   0.132406       3.17    0.0015   0.16047      0.679805\n",
       "distance_betweenness                 0.0202892  0.009267       2.19    0.0287   0.00211525   0.0384631\n",
       "area_difference & ellipticity        0.012189   0.0208909      0.58    0.5596  -0.028781     0.0531591\n",
       "distance_betweenness & ellipticity  -0.0812836  0.01859       -4.37    <1e-04  -0.117741    -0.044826\n",
       "──────────────────────────────────────────────────────────────────────────────────────────────────────"
      ]
     },
     "execution_count": 79,
     "metadata": {},
     "output_type": "execute_result"
    }
   ],
   "source": [
    "# bp1a_h=lm(multimod_sum-walk_sum ~\n",
    "#             walk_sum+\n",
    "#             #area+\n",
    "#             area_difference*ellipticity+\n",
    "#             distance_betweenness*ellipticity,\n",
    "#           data=bp[bp$mean_price>\n",
    "#                     median(bp$mean_price, na.rm = T),])\n",
    "\n",
    "bp1a_h = lm(@formula(\n",
    "    multimod_sum - walk_sum ~ walk_sum + (area_difference * ellipticity) + (distance_betweenness * ellipticity)),\n",
    "    filter(row -> row.mean_price > median(skipmissing(bp.mean_price)), dropmissing(bp, :mean_price)),\n",
    ")"
   ]
  },
  {
   "cell_type": "code",
   "execution_count": null,
   "id": "1dd602cb",
   "metadata": {},
   "outputs": [
    {
     "data": {
      "text/plain": [
       "StatsModels.TableRegressionModel{LinearModel{GLM.LmResp{Vector{Float64}}, GLM.DensePredChol{Float64, CholeskyPivoted{Float64, Matrix{Float64}, Vector{Int64}}}}, Matrix{Float64}}\n",
       "\n",
       ":(multimod_sum - walk_sum) ~ 1 + walk_sum + area_difference + ellipticity + distance_betweenness + area_difference & ellipticity + distance_betweenness & ellipticity\n",
       "\n",
       "Coefficients:\n",
       "────────────────────────────────────────────────────────────────────────────────────────────────────\n",
       "                                         Coef.  Std. Error       t  Pr(>|t|)   Lower 95%   Upper 95%\n",
       "────────────────────────────────────────────────────────────────────────────────────────────────────\n",
       "(Intercept)                          6.75684     0.165212    40.90    <1e-99   6.43274     7.08095\n",
       "walk_sum                            -0.838091    0.0137955  -60.75    <1e-99  -0.865154   -0.811028\n",
       "area_difference                      0.131507    0.0175061    7.51    <1e-12   0.0971651   0.16585\n",
       "ellipticity                          0.713278    0.24526      2.91    0.0037   0.232143    1.19441\n",
       "distance_betweenness                -0.0341877   0.0158848   -2.15    0.0316  -0.0653494  -0.0030259\n",
       "area_difference & ellipticity       -0.0859416   0.0305273   -2.82    0.0049  -0.145828   -0.0260552\n",
       "distance_betweenness & ellipticity   0.0118108   0.0284209    0.42    0.6778  -0.0439435   0.0675651\n",
       "────────────────────────────────────────────────────────────────────────────────────────────────────"
      ]
     },
     "execution_count": 80,
     "metadata": {},
     "output_type": "execute_result"
    }
   ],
   "source": [
    "# helsinki1a_l=lm(multimod_sum-walk_sum ~\n",
    "#                   walk_sum+\n",
    "#                   #area+\n",
    "#                   area_difference*ellipticity+\n",
    "#                   distance_betweenness*ellipticity,\n",
    "#                 data=helsinki[helsinki$weighted_med_inc_walk<\n",
    "#                                 median(helsinki$weighted_med_inc_walk),])\n",
    "\n",
    "\n",
    "helsinki1a_l = lm(@formula(\n",
    "    multimod_sum - walk_sum ~ walk_sum +(area_difference * ellipticity) + (distance_betweenness * ellipticity)),\n",
    "    filter(row -> row.weighted_med_inc_walk < median(helsinki.weighted_med_inc_walk), helsinki),\n",
    ")"
   ]
  },
  {
   "cell_type": "code",
   "execution_count": null,
   "id": "d67769fa",
   "metadata": {},
   "outputs": [
    {
     "data": {
      "text/plain": [
       "StatsModels.TableRegressionModel{LinearModel{GLM.LmResp{Vector{Float64}}, GLM.DensePredChol{Float64, CholeskyPivoted{Float64, Matrix{Float64}, Vector{Int64}}}}, Matrix{Float64}}\n",
       "\n",
       ":(multimod_sum - walk_sum) ~ 1 + walk_sum + area_difference + ellipticity + distance_betweenness + area_difference & ellipticity + distance_betweenness & ellipticity\n",
       "\n",
       "Coefficients:\n",
       "─────────────────────────────────────────────────────────────────────────────────────────────────────\n",
       "                                          Coef.  Std. Error       t  Pr(>|t|)   Lower 95%   Upper 95%\n",
       "─────────────────────────────────────────────────────────────────────────────────────────────────────\n",
       "(Intercept)                          6.92918      0.257046    26.96    <1e-99   6.42492     7.43344\n",
       "walk_sum                            -0.75523      0.0153436  -49.22    <1e-99  -0.78533    -0.72513\n",
       "area_difference                      0.0230514    0.0229391    1.00    0.3151  -0.0219491   0.0680519\n",
       "ellipticity                         -0.262438     0.331264    -0.79    0.4284  -0.91229     0.387414\n",
       "distance_betweenness                -0.0799958    0.0286435   -2.79    0.0053  -0.136187   -0.0238048\n",
       "area_difference & ellipticity        0.100129     0.0391143    2.56    0.0106   0.0233971   0.176861\n",
       "distance_betweenness & ellipticity  -0.00539649   0.0445126   -0.12    0.9035  -0.0927185   0.0819255\n",
       "─────────────────────────────────────────────────────────────────────────────────────────────────────"
      ]
     },
     "execution_count": 81,
     "metadata": {},
     "output_type": "execute_result"
    }
   ],
   "source": [
    "# helsinki1a_h=lm(multimod_sum-walk_sum ~\n",
    "#                   walk_sum+\n",
    "#                   #area+\n",
    "#                   area_difference*ellipticity+\n",
    "#                   distance_betweenness*ellipticity,\n",
    "#                 data=helsinki[helsinki$weighted_med_inc_walk>\n",
    "#                                 median(helsinki$weighted_med_inc_walk),])\n",
    "\n",
    "helsinki1a_h = lm(@formula(\n",
    "    multimod_sum - walk_sum ~ walk_sum +(area_difference * ellipticity) + (distance_betweenness * ellipticity)),\n",
    "    filter(row -> row.weighted_med_inc_walk > median(helsinki.weighted_med_inc_walk), helsinki),\n",
    ")"
   ]
  },
  {
   "cell_type": "code",
   "execution_count": null,
   "id": "1d15def4",
   "metadata": {},
   "outputs": [
    {
     "data": {
      "text/plain": [
       "StatsModels.TableRegressionModel{LinearModel{GLM.LmResp{Vector{Float64}}, GLM.DensePredChol{Float64, CholeskyPivoted{Float64, Matrix{Float64}, Vector{Int64}}}}, Matrix{Float64}}\n",
       "\n",
       ":(multimod_sum - walk_sum) ~ 1 + walk_sum + area_difference + ellipticity + distance_betweenness + area_difference & ellipticity + distance_betweenness & ellipticity\n",
       "\n",
       "Coefficients:\n",
       "─────────────────────────────────────────────────────────────────────────────────────────────────────\n",
       "                                          Coef.  Std. Error       t  Pr(>|t|)   Lower 95%   Upper 95%\n",
       "─────────────────────────────────────────────────────────────────────────────────────────────────────\n",
       "(Intercept)                          4.43372      0.13144     33.73    <1e-99   4.17598     4.69146\n",
       "walk_sum                            -0.515815     0.0111891  -46.10    <1e-99  -0.537755   -0.493875\n",
       "area_difference                      0.00775929   0.0157417    0.49    0.6221  -0.0231082   0.0386268\n",
       "ellipticity                          0.146853     0.154122     0.95    0.3408  -0.155361    0.449067\n",
       "distance_betweenness                 0.00735119   0.0137282    0.54    0.5924  -0.0195682   0.0342706\n",
       "area_difference & ellipticity        0.195293     0.0321183    6.08    <1e-08   0.132313    0.258273\n",
       "distance_betweenness & ellipticity  -0.0354477    0.0237426   -1.49    0.1356  -0.082004    0.0111086\n",
       "─────────────────────────────────────────────────────────────────────────────────────────────────────"
      ]
     },
     "execution_count": 82,
     "metadata": {},
     "output_type": "execute_result"
    }
   ],
   "source": [
    "# madrid1a_l=lm(multimod_sum-walk_sum ~\n",
    "#                 walk_sum+\n",
    "#                 #area+\n",
    "#                 area_difference*ellipticity+\n",
    "#                 distance_betweenness*ellipticity,\n",
    "#               data=madrid[madrid$weighted_net_income_hh_walk<\n",
    "#                             median(madrid$weighted_net_income_hh_walk),])\n",
    "\n",
    "madrid1a_l = lm(@formula(\n",
    "    multimod_sum - walk_sum ~ walk_sum +(area_difference * ellipticity) + (distance_betweenness * ellipticity)),\n",
    "    filter(row -> row.weighted_net_income_hh_walk < median(madrid.weighted_net_income_hh_walk), madrid),\n",
    ")"
   ]
  },
  {
   "cell_type": "code",
   "execution_count": null,
   "id": "d212df71",
   "metadata": {},
   "outputs": [
    {
     "data": {
      "text/plain": [
       "StatsModels.TableRegressionModel{LinearModel{GLM.LmResp{Vector{Float64}}, GLM.DensePredChol{Float64, CholeskyPivoted{Float64, Matrix{Float64}, Vector{Int64}}}}, Matrix{Float64}}\n",
       "\n",
       ":(multimod_sum - walk_sum) ~ 1 + walk_sum + area_difference + ellipticity + distance_betweenness + area_difference & ellipticity + distance_betweenness & ellipticity\n",
       "\n",
       "Coefficients:\n",
       "─────────────────────────────────────────────────────────────────────────────────────────────────────\n",
       "                                         Coef.  Std. Error       t  Pr(>|t|)   Lower 95%    Upper 95%\n",
       "─────────────────────────────────────────────────────────────────────────────────────────────────────\n",
       "(Intercept)                          5.89997    0.129336     45.62    <1e-99   5.64636     6.15358\n",
       "walk_sum                            -0.64417    0.0118307   -54.45    <1e-99  -0.667368   -0.620971\n",
       "area_difference                     -0.0213257  0.0209101    -1.02    0.3079  -0.0623278   0.0196763\n",
       "ellipticity                          0.161235   0.145793      1.11    0.2689  -0.124647    0.447117\n",
       "distance_betweenness                -0.0493197  0.00852593   -5.78    <1e-08  -0.066038   -0.0326014\n",
       "area_difference & ellipticity        0.215817   0.0407647     5.29    <1e-06   0.135883    0.295752\n",
       "distance_betweenness & ellipticity  -0.041937   0.0166529    -2.52    0.0119  -0.0745913  -0.00928271\n",
       "─────────────────────────────────────────────────────────────────────────────────────────────────────"
      ]
     },
     "execution_count": 83,
     "metadata": {},
     "output_type": "execute_result"
    }
   ],
   "source": [
    "# madrid1a_h=lm(multimod_sum-walk_sum ~\n",
    "#                 walk_sum+\n",
    "#                 #area+\n",
    "#                 area_difference*ellipticity+\n",
    "#                 distance_betweenness*ellipticity,\n",
    "#               data=madrid[madrid$weighted_net_income_hh_walk>\n",
    "#                             median(madrid$weighted_net_income_hh_walk),])\n",
    "madrid1a_h = lm(@formula(\n",
    "    multimod_sum - walk_sum ~ walk_sum +(area_difference * ellipticity) + (distance_betweenness * ellipticity)),\n",
    "    filter(row -> row.weighted_net_income_hh_walk > median(madrid.weighted_net_income_hh_walk), madrid),\n",
    ")"
   ]
  },
  {
   "cell_type": "code",
   "execution_count": null,
   "id": "39bc28d3",
   "metadata": {},
   "outputs": [
    {
     "data": {
      "text/plain": [
       "\n",
       "---------------------------------------------------------------------------------------------------------------------------------------------------------------------------------------------\n",
       "                                          multimod_sum - walk_sum        weighted_gini_multi - weighted_gini_walk   gini_house_multimodal - gini_house_walk15   gini_multimodal - gini_walk15\n",
       "                                     ---------------------------------   ----------------------------------------   -----------------------------------------   -----------------------------\n",
       "                                           (1)         (2)         (3)                  (4)                   (5)                                         (6)                             (7)\n",
       "---------------------------------------------------------------------------------------------------------------------------------------------------------------------------------------------\n",
       "(Intercept)                           6.757***    4.434***    8.159***             0.158***              6.196***                                     0.026**                        0.069***\n",
       "                                       (0.165)     (0.131)     (0.155)              (0.005)               (0.314)                                     (0.009)                         (0.004)\n",
       "walk_sum                             -0.838***   -0.516***   -0.901***                                                                                                                       \n",
       "                                       (0.014)     (0.011)     (0.008)                                                                                                                       \n",
       "area_difference                       0.132***       0.008   -0.159***               -0.000               0.065**                                   -0.005***                          -0.001\n",
       "                                       (0.018)     (0.016)     (0.019)              (0.000)               (0.021)                                     (0.001)                         (0.000)\n",
       "ellipticity                            0.713**       0.147      -0.281               -0.007                 0.184                                   -0.053***                         0.014**\n",
       "                                       (0.245)     (0.154)     (0.232)              (0.004)               (0.205)                                     (0.012)                         (0.005)\n",
       "distance_betweenness                   -0.034*       0.007    0.061***              -0.001*                -0.027                                   -0.004***                       -0.003***\n",
       "                                       (0.016)     (0.014)     (0.013)              (0.000)               (0.019)                                     (0.001)                         (0.000)\n",
       "area_difference & ellipticity         -0.086**    0.195***    0.425***                0.000                -0.062                                    0.009***                           0.001\n",
       "                                       (0.031)     (0.032)     (0.033)              (0.000)               (0.043)                                     (0.002)                         (0.001)\n",
       "distance_betweenness & ellipticity       0.012      -0.035   -0.141***                0.001                -0.047                                    0.005***                          -0.001\n",
       "                                       (0.028)     (0.024)     (0.022)              (0.000)               (0.031)                                     (0.001)                         (0.001)\n",
       "weighted_gini_walk                                                                -0.482***             -0.195***                                                                            \n",
       "                                                                                    (0.015)               (0.009)                                                                            \n",
       "gini_walk15                                                                                                                                          0.212***                       -0.279***\n",
       "                                                                                                                                                      (0.029)                         (0.012)\n",
       "---------------------------------------------------------------------------------------------------------------------------------------------------------------------------------------------\n",
       "N                                        1,348       2,604       2,015                1,348                 2,604                                       2,015                           2,213\n",
       "R2                                       0.747       0.482       0.884                0.466                 0.191                                       0.078                           0.240\n",
       "---------------------------------------------------------------------------------------------------------------------------------------------------------------------------------------------\n",
       "\n"
      ]
     },
     "execution_count": 84,
     "metadata": {},
     "output_type": "execute_result"
    }
   ],
   "source": [
    "# stargazer(helsinki1a_l, madrid1a_l, bp1a_l,\n",
    "#           helsinki1_l, madrid1_l, bp2_l, bp1_l,\n",
    "#           type=\"latex\",\n",
    "#           style=\"aer\",\n",
    "#           column.labels = c(\"Helsinki - Access\",\n",
    "#                             \"Madrid - Access\",\n",
    "#                             \"BP - Access\",\n",
    "#                             \"Helsinki - Gini\",\n",
    "#                             \"Madrid - Gini\",\n",
    "#                             \"BP residential - Gini\",\n",
    "#                             \"BP experienced - Gini\"),\n",
    "#           dep.var.labels.include = F,\n",
    "#           out=\"SI_Reg_6_low.tex\")\n",
    "regtable(\n",
    "    helsinki1a_l, madrid1a_l, bp1a_l, helsinki1_l, madrid1_l, bp2_l, bp1_l,;\n",
    "    render = AsciiTable(),\n",
    "    file=\"$(output)/SI_Reg_6_low.txt\"\n",
    ")\n"
   ]
  },
  {
   "cell_type": "code",
   "execution_count": null,
   "id": "83cceb8f",
   "metadata": {},
   "outputs": [
    {
     "data": {
      "text/plain": [
       "\n",
       "---------------------------------------------------------------------------------------------------------------------------------------------------------------------------------------------\n",
       "                                          multimod_sum - walk_sum        weighted_gini_multi - weighted_gini_walk   gini_house_multimodal - gini_house_walk15   gini_multimodal - gini_walk15\n",
       "                                     ---------------------------------   ----------------------------------------   -----------------------------------------   -----------------------------\n",
       "                                           (1)         (2)         (3)                  (4)                   (5)                                         (6)                             (7)\n",
       "---------------------------------------------------------------------------------------------------------------------------------------------------------------------------------------------\n",
       "(Intercept)                           6.929***    5.900***    7.504***             0.141***              8.935***                                       0.005                        0.088***\n",
       "                                       (0.257)     (0.129)     (0.098)              (0.005)               (0.349)                                     (0.006)                         (0.005)\n",
       "walk_sum                             -0.755***   -0.644***   -0.857***                                                                                                                       \n",
       "                                       (0.015)     (0.012)     (0.008)                                                                                                                       \n",
       "area_difference                          0.023      -0.021       0.018               -0.000                -0.015                                       0.001                         -0.002*\n",
       "                                       (0.023)     (0.021)     (0.011)              (0.000)               (0.052)                                     (0.001)                         (0.001)\n",
       "ellipticity                             -0.262       0.161     0.420**            -0.023***                -0.467                                     0.026**                        0.061***\n",
       "                                       (0.331)     (0.146)     (0.132)              (0.004)               (0.367)                                     (0.008)                         (0.007)\n",
       "distance_betweenness                  -0.080**   -0.049***      0.020*            -0.002***             -0.203***                                     0.002**                           0.000\n",
       "                                       (0.029)     (0.009)     (0.009)              (0.000)               (0.022)                                     (0.001)                         (0.000)\n",
       "area_difference & ellipticity           0.100*    0.216***       0.012             0.002***               -0.208*                                       0.002                          0.003*\n",
       "                                       (0.039)     (0.041)     (0.021)              (0.000)               (0.102)                                     (0.001)                         (0.001)\n",
       "distance_betweenness & ellipticity      -0.005     -0.042*   -0.081***             0.003***               0.125**                                   -0.008***                       -0.005***\n",
       "                                       (0.045)     (0.017)     (0.019)              (0.001)               (0.042)                                     (0.001)                         (0.001)\n",
       "weighted_gini_walk                                                                -0.409***             -0.231***                                                                            \n",
       "                                                                                    (0.014)               (0.008)                                                                            \n",
       "gini_walk15                                                                                                                                             0.023                       -0.669***\n",
       "                                                                                                                                                      (0.017)                         (0.018)\n",
       "---------------------------------------------------------------------------------------------------------------------------------------------------------------------------------------------\n",
       "N                                        1,346       2,608       2,015                1,346                 2,608                                       2,015                           2,211\n",
       "R2                                       0.703       0.570       0.877                0.446                 0.287                                       0.206                           0.458\n",
       "---------------------------------------------------------------------------------------------------------------------------------------------------------------------------------------------\n",
       "\n"
      ]
     },
     "execution_count": 85,
     "metadata": {},
     "output_type": "execute_result"
    }
   ],
   "source": [
    "# stargazer(helsinki1a_h, madrid1a_h, bp1a_h,\n",
    "#           helsinki1_h, madrid1_h, bp2_h, bp1_h,\n",
    "#           type=\"latex\",\n",
    "#           style=\"aer\",\n",
    "#           column.labels = c(\"Helsinki - Access\",\n",
    "#                             \"Madrid - Access\",\n",
    "#                             \"BP - Access\",\n",
    "#                             \"Helsinki - Gini\",\n",
    "#                             \"Madrid - Gini\",\n",
    "#                             \"BP residential - Gini\",\n",
    "#                             \"BP experienced - Gini\"),\n",
    "#           dep.var.labels.include = F,\n",
    "#           out=\"SI_Reg_7_high.tex\")\n",
    "regtable(\n",
    "    helsinki1a_h, madrid1a_h, bp1a_h, helsinki1_h, madrid1_h, bp2_h, bp1_h;\n",
    "    render = AsciiTable(),\n",
    "    file=\"$(output)/SI_Reg_7_high.txt\"\n",
    ")"
   ]
  },
  {
   "cell_type": "markdown",
   "id": "01bad387",
   "metadata": {},
   "source": [
    "# 4.7 Correlation plots"
   ]
  },
  {
   "cell_type": "code",
   "execution_count": null,
   "id": "1351c8cb",
   "metadata": {},
   "outputs": [],
   "source": [
    "vars_bp = [\"access_diff\",\"gini_diff\", \"gini_diff_house\", \"walk_sum\", \"gini_walk15\", \"area_difference\", \"ellipticity\", \"distance_betweenness\"];\n",
    "vars_he = [\"access_diff\",\"gini_diff\", \"walk_sum\",\"weighted_gini_walk\", \"area_difference\", \"ellipticity\", \"distance_betweenness\"];\n",
    "vars_ma = [\"access_diff\",\"gini_diff\", \"walk_sum\",\"weighted_gini_walk\", \"area_difference\", \"ellipticity\", \"distance_betweenness\"];"
   ]
  },
  {
   "cell_type": "code",
   "execution_count": null,
   "id": "4aa2dbf1",
   "metadata": {},
   "outputs": [
    {
     "data": {
      "text/plain": [
       "8×8 Matrix{Union{Missing, Float64}}:\n",
       "  1.0         0.14718     0.0783427  …  -0.062878   missing   0.349401\n",
       "  0.14718     1.0         0.0474338     -0.122364   missing  -0.100184\n",
       "  0.0783427   0.0474338   1.0            0.134148   missing  -0.221754\n",
       " -0.926638   -0.107247   -0.06988        0.164111   missing  -0.414882\n",
       " -0.322724   -0.32259     0.236448       0.197499   missing  -0.666358\n",
       " -0.062878   -0.122364    0.134148   …   1.0        missing  -0.100913\n",
       "   missing     missing     missing        missing  1.0         missing\n",
       "  0.349401   -0.100184   -0.221754      -0.100913   missing   1.0"
      ]
     },
     "execution_count": 87,
     "metadata": {},
     "output_type": "execute_result"
    }
   ],
   "source": [
    "corr_mx_bp = cor(Matrix(bp[:,vars_bp]))"
   ]
  },
  {
   "cell_type": "code",
   "execution_count": null,
   "id": "4bffc608",
   "metadata": {},
   "outputs": [],
   "source": [
    "CSV.write(\"$(output)/bud_for_corrplot.csv\", bp[:, vars_bp]);\n",
    "CSV.write(\"$(output)/hel_for_corrplot.csv\", helsinki[:, vars_he]);\n",
    "CSV.write(\"$(output)/mad_for_corrplot.csv\", madrid[:, vars_ma]);"
   ]
  },
  {
   "cell_type": "markdown",
   "id": "6de1b8f2",
   "metadata": {},
   "source": [
    "# 4.8 Variable Statistics"
   ]
  },
  {
   "cell_type": "code",
   "execution_count": null,
   "id": "a160d992",
   "metadata": {},
   "outputs": [],
   "source": [
    "# Subset and drop missing data\n",
    "bp_sub = dropmissing(bp[:, vars_bp])\n",
    "helsinki_sub = dropmissing(helsinki[:, vars_he])\n",
    "madrid_sub = dropmissing(madrid[:, vars_ma])\n",
    ";"
   ]
  },
  {
   "cell_type": "code",
   "execution_count": null,
   "id": "835a680e",
   "metadata": {},
   "outputs": [],
   "source": [
    "bud_sum = describe(bp_sub, :min, :q25, :median, :mean, :q75, :max, :std)\n",
    "CSV.write(\"$(output)/SI_summary_bp.csv\", bud_sum);\n",
    "hel_sum = describe(helsinki_sub, :min, :q25, :median, :mean, :q75, :max, :std)\n",
    "CSV.write(\"$(output)/SI_summary_helsinki.csv\", hel_sum);\n",
    "mad_sum = describe(madrid_sub, :min, :q25, :median, :mean, :q75, :max, :std)\n",
    "CSV.write(\"$(output)/SI_summary_madrid.csv\", mad_sum);"
   ]
  },
  {
   "cell_type": "code",
   "execution_count": null,
   "id": "62015b33",
   "metadata": {},
   "outputs": [],
   "source": [
    "open(\"$(output)/SI_summary_bp.tex\", \"w\") do io\n",
    "    pretty_table(io, bud_sum, backend = Val(:latex); show_subheader=false, label = \"tab:budapest_stats\", title = \"Summary Statistics for Budapest\", wrap_table = true)\n",
    "end\n",
    "open(\"$(output)/SI_summary_helsinki.tex\", \"w\") do io\n",
    "    pretty_table(io, hel_sum, backend = Val(:latex); show_subheader=false, label = \"tab:helsinki_stats\", title = \"Summary Statistics for Helsinki\", wrap_table = true)\n",
    "end\n",
    "open(\"$(output)/SI_summary_madrid.tex\", \"w\") do io\n",
    "    pretty_table(io, mad_sum, backend = Val(:latex); show_subheader=false, label = \"tab:madrid_stats\", title = \"Summary Statistics for Madrid\", wrap_table = true)\n",
    "end\n",
    ";"
   ]
  },
  {
   "cell_type": "code",
   "execution_count": null,
   "id": "252dc5a8",
   "metadata": {},
   "outputs": [],
   "source": [
    "# Write LaTeX summary tables\n",
    "# stargazer(bp_sub, type = \"latex\", out = \"SI_summary_bp.tex\",\n",
    "#           title = \"Summary Statistics for Budapest\",\n",
    "#           summary.stat = c(\"min\", \"p25\", \"median\", \"mean\", \"p75\", \"max\", \"sd\"))\n",
    "\n",
    "# stargazer(helsinki_sub, type = \"latex\", out = \"SI_summary_helsinki.tex\",\n",
    "#           title = \"Summary Statistics for Helsinki\",\n",
    "#           summary.stat = c(\"min\", \"p25\", \"median\", \"mean\", \"p75\", \"max\", \"sd\"))\n",
    "\n",
    "# stargazer(madrid_sub, type = \"latex\", out = \"SI_summary_madrid.tex\",\n",
    "#           title = \"Summary Statistics for Madrid\",\n",
    "#           summary.stat = c(\"min\", \"p25\", \"median\", \"mean\", \"p75\", \"max\", \"sd\"))"
   ]
  }
 ],
 "metadata": {
  "kernelspec": {
   "display_name": "Julia 1.11.5",
   "language": "julia",
   "name": "julia-1.11"
  },
  "language_info": {
   "file_extension": ".jl",
   "mimetype": "application/julia",
   "name": "julia",
   "version": "1.11.6"
  }
 },
 "nbformat": 4,
 "nbformat_minor": 5
}
