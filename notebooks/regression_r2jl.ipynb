{
 "cells": [
  {
   "cell_type": "code",
   "execution_count": 2,
   "id": "94bff75e",
   "metadata": {},
   "outputs": [],
   "source": [
    "using CSV, DataFrames, GLM, RegressionTables\n",
    "using Statistics"
   ]
  },
  {
   "cell_type": "code",
   "execution_count": null,
   "id": "773d70f2",
   "metadata": {},
   "outputs": [
    {
     "data": {
      "text/plain": [
       "scale (generic function with 2 methods)"
      ]
     },
     "execution_count": 3,
     "metadata": {},
     "output_type": "execute_result"
    }
   ],
   "source": [
    "function scale(df::DataFrame; cols::Vector{String} = names(df))\n",
    "    result = copy(df)\n",
    "    for col in cols\n",
    "        result[!, col] = (df[!, col] .- mean(df[!, col])) ./ std(df[!, col])\n",
    "    end\n",
    "    return result\n",
    "end\n",
    "\n",
    "function scale(x::AbstractVector)\n",
    "    return (x .- mean(x)) ./ std(x)\n",
    "end"
   ]
  },
  {
   "cell_type": "code",
   "execution_count": null,
   "id": "2e40afe6",
   "metadata": {},
   "outputs": [],
   "source": [
    "# CITY = \"helsinki\"\n",
    "# VERSION = \"20250428\"\n",
    "# YEAR = 2022\n",
    "# ;"
   ]
  },
  {
   "cell_type": "code",
   "execution_count": 179,
   "id": "649dacc6",
   "metadata": {},
   "outputs": [],
   "source": [
    "bp=CSV.read(\"../src/regression/budapest/bp_socioecon_merged5.csv\", DataFrame)\n",
    "madrid=CSV.read(\"../src/regression/madrid/madrid_socioecon_merged2.csv\", DataFrame)\n",
    "helsinki=CSV.read(\"../src/regression/helsinki/helsinki_socioecon_merged4.csv\", DataFrame)\n",
    ";"
   ]
  },
  {
   "cell_type": "code",
   "execution_count": null,
   "id": "a5093e49",
   "metadata": {},
   "outputs": [],
   "source": [
    "# bp = filter(row ->\n",
    "#     row.cultural_institutions_multimodal > 0\n",
    "#     && row.drugstores_multimodal > 0\n",
    "#     && row.groceries_multimodal > 0\n",
    "#     && row.healthcare_multimodal > 0\n",
    "#     && row.parks_multimodal > 0\n",
    "#     && row.religious_organizations_multimodal > 0\n",
    "#     && row.restaurants_multimodal > 0\n",
    "#     && row.schools_multimodal > 0\n",
    "#     && row.services_multimodal > 0\n",
    "#     && row.cultural_institutions_walk15 > 0\n",
    "#     && row.drugstores_walk15 > 0\n",
    "#     && row.groceries_walk15 > 0\n",
    "#     && row.healthcare_walk15 > 0\n",
    "#     && row.parks_walk15 > 0\n",
    "#     && row.religious_organizations_walk15 > 0\n",
    "#     && row.restaurants_walk15 > 0\n",
    "#     && row.schools_walk15 > 0\n",
    "#     && row.services_walk15 > 0,\n",
    "#     bp\n",
    "# )\n",
    "# helsinki = filter(row ->\n",
    "#     row.cultural_institutions_multimodal > 0\n",
    "#     && row.drugstores_multimodal > 0\n",
    "#     && row.groceries_multimodal > 0\n",
    "#     && row.healthcare_multimodal > 0\n",
    "#     && row.parks_multimodal > 0\n",
    "#     && row.religious_organizations_multimodal > 0\n",
    "#     && row.restaurants_multimodal > 0\n",
    "#     && row.schools_multimodal > 0\n",
    "#     && row.services_multimodal > 0\n",
    "#     && row.cultural_institutions_walk15 > 0\n",
    "#     && row.drugstores_walk15 > 0\n",
    "#     && row.groceries_walk15 > 0\n",
    "#     && row.healthcare_walk15 > 0\n",
    "#     && row.parks_walk15 > 0\n",
    "#     && row.religious_organizations_walk15 > 0\n",
    "#     && row.restaurants_walk15 > 0\n",
    "#     && row.schools_walk15 > 0\n",
    "#     && row.services_walk15 > 0,\n",
    "#     helsinki\n",
    "# )\n",
    "# madrid = filter(row ->\n",
    "#     row.cultural_institutions_multimodal > 0\n",
    "#     && row.drugstores_multimodal > 0\n",
    "#     && row.groceries_multimodal > 0\n",
    "#     && row.healthcare_multimodal > 0\n",
    "#     && row.parks_multimodal > 0\n",
    "#     && row.religious_organizations_multimodal > 0\n",
    "#     && row.restaurants_multimodal > 0\n",
    "#     && row.schools_multimodal > 0\n",
    "#     && row.services_multimodal > 0\n",
    "#     && row.cultural_institutions_walk15 > 0\n",
    "#     && row.drugstores_walk15 > 0\n",
    "#     && row.groceries_walk15 > 0\n",
    "#     && row.healthcare_walk15 > 0\n",
    "#     && row.parks_walk15 > 0\n",
    "#     && row.religious_organizations_walk15 > 0\n",
    "#     && row.restaurants_walk15 > 0\n",
    "#     && row.schools_walk15 > 0\n",
    "#     && row.services_walk15 > 0,\n",
    "#     madrid\n",
    "# )\n",
    "# ;"
   ]
  },
  {
   "cell_type": "code",
   "execution_count": null,
   "id": "a5af27c0",
   "metadata": {},
   "outputs": [],
   "source": [
    "cols=[\n",
    "    \"cultural_institutions_multimodal\",\n",
    "    \"drugstores_multimodal\",\n",
    "    \"groceries_multimodal\",\n",
    "    \"healthcare_multimodal\",\n",
    "    \"parks_multimodal\",\n",
    "    \"religious_organizations_multimodal\",\n",
    "    \"restaurants_multimodal\",\n",
    "    \"schools_multimodal\",\n",
    "    \"services_multimodal\",\n",
    "    \"cultural_institutions_walk15\",\n",
    "    \"drugstores_walk15\",\n",
    "    \"groceries_walk15\",\n",
    "    \"healthcare_walk15\",\n",
    "    \"parks_walk15\",\n",
    "    \"religious_organizations_walk15\",\n",
    "    \"restaurants_walk15\",\n",
    "    \"schools_walk15\",\n",
    "    \"services_walk15\",\n",
    "];\n"
   ]
  },
  {
   "cell_type": "code",
   "execution_count": null,
   "id": "af096869",
   "metadata": {},
   "outputs": [
    {
     "name": "stdout",
     "output_type": "stream",
     "text": [
      "0\n",
      "1\n",
      "1\n"
     ]
    }
   ],
   "source": [
    "# for i in [0,1,2]\n",
    "#     # println(0^i)\n",
    "#     println(i > 0 ? 1 : 0 )\n",
    "# end"
   ]
  },
  {
   "cell_type": "code",
   "execution_count": 181,
   "id": "379c1a41",
   "metadata": {},
   "outputs": [
    {
     "data": {
      "text/html": [
       "<div><div style = \"float: left;\"><span>2696×53 DataFrame</span></div><div style = \"float: right;\"><span style = \"font-style: italic;\">2671 rows omitted</span></div><div style = \"clear: both;\"></div></div><div class = \"data-frame\" style = \"overflow-x: scroll;\"><table class = \"data-frame\" style = \"margin-bottom: 6px;\"><thead><tr class = \"header\"><th class = \"rowNumber\" style = \"font-weight: bold; text-align: right;\">Row</th><th style = \"text-align: left;\">stop_id</th><th style = \"text-align: left;\">weighted_med_inc_multi</th><th style = \"text-align: left;\">weighted_med_inc_walk</th><th style = \"text-align: left;\">percent_change_income</th><th style = \"text-align: left;\">log_change_income</th><th style = \"text-align: left;\">weighted_gini_multi</th><th style = \"text-align: left;\">weighted_gini_walk</th><th style = \"text-align: left;\">percent_change_gini</th><th style = \"text-align: left;\">log_change_gini</th><th style = \"text-align: left;\">weighted_hh_low_multi</th><th style = \"text-align: left;\">weighted_hh_mid_multi</th><th style = \"text-align: left;\">weighted_hh_high_multi</th><th style = \"text-align: left;\">entropy_multi</th><th style = \"text-align: left;\">weighted_hh_low_walk</th><th style = \"text-align: left;\">weighted_hh_mid_walk</th><th style = \"text-align: left;\">weighted_hh_high_walk</th><th style = \"text-align: left;\">entropy_walk</th><th style = \"text-align: left;\">percent_change_entropy</th><th style = \"text-align: left;\">log_change_entropy</th><th style = \"text-align: left;\">area</th><th style = \"text-align: left;\">ellipticity</th><th style = \"text-align: left;\">number_of_accessible_stops</th><th style = \"text-align: left;\">concave_area</th><th style = \"text-align: left;\">distance_betweenness</th><th style = \"text-align: left;\">distance_from_landuse_centroid</th><th style = \"text-align: left;\">cultural_institutions_multimodal</th><th style = \"text-align: left;\">drugstores_multimodal</th><th style = \"text-align: left;\">groceries_multimodal</th><th style = \"text-align: left;\">healthcare_multimodal</th><th style = \"text-align: left;\">parks_multimodal</th><th style = \"text-align: left;\">religious_organizations_multimodal</th><th style = \"text-align: left;\">restaurants_multimodal</th><th style = \"text-align: left;\">schools_multimodal</th><th style = \"text-align: left;\">services_multimodal</th><th style = \"text-align: left;\">cultural_institutions_walk15</th><th style = \"text-align: left;\">drugstores_walk15</th><th style = \"text-align: left;\">groceries_walk15</th><th style = \"text-align: left;\">healthcare_walk15</th><th style = \"text-align: left;\">parks_walk15</th><th style = \"text-align: left;\">religious_organizations_walk15</th><th style = \"text-align: left;\">restaurants_walk15</th><th style = \"text-align: left;\">schools_walk15</th><th style = \"text-align: left;\">services_walk15</th><th style = \"text-align: left;\">walk_area</th><th style = \"text-align: left;\">area_difference</th><th style = \"text-align: left;\">eigenvector_centrality</th><th style = \"text-align: left;\">degree_centrality</th><th style = \"text-align: left;\">closeness_centrality</th><th style = \"text-align: left;\">betweenness_centrality</th><th style = \"text-align: left;\">cluster</th><th style = \"text-align: left;\">stop_lat</th><th style = \"text-align: left;\">stop_lon</th><th style = \"text-align: left;\">stop_name</th></tr><tr class = \"subheader headerLastRow\"><th class = \"rowNumber\" style = \"font-weight: bold; text-align: right;\"></th><th title = \"Int64\" style = \"text-align: left;\">Int64</th><th title = \"Float64\" style = \"text-align: left;\">Float64</th><th title = \"Float64\" style = \"text-align: left;\">Float64</th><th title = \"Float64\" style = \"text-align: left;\">Float64</th><th title = \"Float64\" style = \"text-align: left;\">Float64</th><th title = \"Float64\" style = \"text-align: left;\">Float64</th><th title = \"Float64\" style = \"text-align: left;\">Float64</th><th title = \"Float64\" style = \"text-align: left;\">Float64</th><th title = \"Float64\" style = \"text-align: left;\">Float64</th><th title = \"Float64\" style = \"text-align: left;\">Float64</th><th title = \"Float64\" style = \"text-align: left;\">Float64</th><th title = \"Float64\" style = \"text-align: left;\">Float64</th><th title = \"Float64\" style = \"text-align: left;\">Float64</th><th title = \"Float64\" style = \"text-align: left;\">Float64</th><th title = \"Float64\" style = \"text-align: left;\">Float64</th><th title = \"Float64\" style = \"text-align: left;\">Float64</th><th title = \"Float64\" style = \"text-align: left;\">Float64</th><th title = \"Float64\" style = \"text-align: left;\">Float64</th><th title = \"Float64\" style = \"text-align: left;\">Float64</th><th title = \"Float64\" style = \"text-align: left;\">Float64</th><th title = \"Union{Missing, Float64}\" style = \"text-align: left;\">Float64?</th><th title = \"Int64\" style = \"text-align: left;\">Int64</th><th title = \"Float64\" style = \"text-align: left;\">Float64</th><th title = \"Float64\" style = \"text-align: left;\">Float64</th><th title = \"Float64\" style = \"text-align: left;\">Float64</th><th title = \"Int64\" style = \"text-align: left;\">Int64</th><th title = \"Int64\" style = \"text-align: left;\">Int64</th><th title = \"Int64\" style = \"text-align: left;\">Int64</th><th title = \"Int64\" style = \"text-align: left;\">Int64</th><th title = \"Int64\" style = \"text-align: left;\">Int64</th><th title = \"Int64\" style = \"text-align: left;\">Int64</th><th title = \"Int64\" style = \"text-align: left;\">Int64</th><th title = \"Int64\" style = \"text-align: left;\">Int64</th><th title = \"Int64\" style = \"text-align: left;\">Int64</th><th title = \"Int64\" style = \"text-align: left;\">Int64</th><th title = \"Int64\" style = \"text-align: left;\">Int64</th><th title = \"Int64\" style = \"text-align: left;\">Int64</th><th title = \"Int64\" style = \"text-align: left;\">Int64</th><th title = \"Int64\" style = \"text-align: left;\">Int64</th><th title = \"Int64\" style = \"text-align: left;\">Int64</th><th title = \"Int64\" style = \"text-align: left;\">Int64</th><th title = \"Int64\" style = \"text-align: left;\">Int64</th><th title = \"Int64\" style = \"text-align: left;\">Int64</th><th title = \"Float64\" style = \"text-align: left;\">Float64</th><th title = \"Float64\" style = \"text-align: left;\">Float64</th><th title = \"Float64\" style = \"text-align: left;\">Float64</th><th title = \"Float64\" style = \"text-align: left;\">Float64</th><th title = \"Float64\" style = \"text-align: left;\">Float64</th><th title = \"Float64\" style = \"text-align: left;\">Float64</th><th title = \"Int64\" style = \"text-align: left;\">Int64</th><th title = \"Float64\" style = \"text-align: left;\">Float64</th><th title = \"Float64\" style = \"text-align: left;\">Float64</th><th title = \"String31\" style = \"text-align: left;\">String31</th></tr></thead><tbody><tr><td class = \"rowNumber\" style = \"font-weight: bold; text-align: right;\">1</td><td style = \"text-align: right;\">1010102</td><td style = \"text-align: right;\">49133.7</td><td style = \"text-align: right;\">51163.7</td><td style = \"text-align: right;\">-3.9677</td><td style = \"text-align: right;\">-0.0404856</td><td style = \"text-align: right;\">0.306076</td><td style = \"text-align: right;\">0.30097</td><td style = \"text-align: right;\">1.69628</td><td style = \"text-align: right;\">0.0168205</td><td style = \"text-align: right;\">747.072</td><td style = \"text-align: right;\">1771.92</td><td style = \"text-align: right;\">1725.39</td><td style = \"text-align: right;\">1.49516</td><td style = \"text-align: right;\">529.042</td><td style = \"text-align: right;\">1328.33</td><td style = \"text-align: right;\">1418.63</td><td style = \"text-align: right;\">1.47572</td><td style = \"text-align: right;\">1.31743</td><td style = \"text-align: right;\">0.0130882</td><td style = \"text-align: right;\">4.357</td><td style = \"text-align: right;\">0.4129</td><td style = \"text-align: right;\">69</td><td style = \"text-align: right;\">1.669</td><td style = \"text-align: right;\">3.562</td><td style = \"text-align: right;\">7.386</td><td style = \"text-align: right;\">1</td><td style = \"text-align: right;\">1</td><td style = \"text-align: right;\">1</td><td style = \"text-align: right;\">1</td><td style = \"text-align: right;\">1</td><td style = \"text-align: right;\">1</td><td style = \"text-align: right;\">1</td><td style = \"text-align: right;\">1</td><td style = \"text-align: right;\">1</td><td style = \"text-align: right;\">1</td><td style = \"text-align: right;\">1</td><td style = \"text-align: right;\">1</td><td style = \"text-align: right;\">1</td><td style = \"text-align: right;\">1</td><td style = \"text-align: right;\">1</td><td style = \"text-align: right;\">1</td><td style = \"text-align: right;\">1</td><td style = \"text-align: right;\">1</td><td style = \"text-align: right;\">2.742</td><td style = \"text-align: right;\">1.615</td><td style = \"text-align: right;\">0.0040281</td><td style = \"text-align: right;\">0.00686106</td><td style = \"text-align: right;\">0.0923177</td><td style = \"text-align: right;\">0.0168499</td><td style = \"text-align: right;\">1052</td><td style = \"text-align: right;\">60.1695</td><td style = \"text-align: right;\">24.9567</td><td style = \"text-align: left;\">Ritarihuone</td></tr><tr><td class = \"rowNumber\" style = \"font-weight: bold; text-align: right;\">2</td><td style = \"text-align: right;\">1010103</td><td style = \"text-align: right;\">46938.1</td><td style = \"text-align: right;\">50411.7</td><td style = \"text-align: right;\">-6.89063</td><td style = \"text-align: right;\">-0.0713953</td><td style = \"text-align: right;\">0.310503</td><td style = \"text-align: right;\">0.303095</td><td style = \"text-align: right;\">2.44412</td><td style = \"text-align: right;\">0.0241473</td><td style = \"text-align: right;\">959.482</td><td style = \"text-align: right;\">2171.96</td><td style = \"text-align: right;\">1560.38</td><td style = \"text-align: right;\">1.51086</td><td style = \"text-align: right;\">657.954</td><td style = \"text-align: right;\">1606.14</td><td style = \"text-align: right;\">1543.33</td><td style = \"text-align: right;\">1.49104</td><td style = \"text-align: right;\">1.32916</td><td style = \"text-align: right;\">0.013204</td><td style = \"text-align: right;\">2.994</td><td style = \"text-align: right;\">0.3024</td><td style = \"text-align: right;\">51</td><td style = \"text-align: right;\">0.974</td><td style = \"text-align: right;\">3.373</td><td style = \"text-align: right;\">7.197</td><td style = \"text-align: right;\">1</td><td style = \"text-align: right;\">1</td><td style = \"text-align: right;\">1</td><td style = \"text-align: right;\">1</td><td style = \"text-align: right;\">1</td><td style = \"text-align: right;\">1</td><td style = \"text-align: right;\">1</td><td style = \"text-align: right;\">1</td><td style = \"text-align: right;\">1</td><td style = \"text-align: right;\">1</td><td style = \"text-align: right;\">1</td><td style = \"text-align: right;\">1</td><td style = \"text-align: right;\">0</td><td style = \"text-align: right;\">1</td><td style = \"text-align: right;\">1</td><td style = \"text-align: right;\">1</td><td style = \"text-align: right;\">1</td><td style = \"text-align: right;\">1</td><td style = \"text-align: right;\">2.621</td><td style = \"text-align: right;\">0.373</td><td style = \"text-align: right;\">0.00135358</td><td style = \"text-align: right;\">0.00171527</td><td style = \"text-align: right;\">0.0863815</td><td style = \"text-align: right;\">0.0</td><td style = \"text-align: right;\">1056</td><td style = \"text-align: right;\">60.1713</td><td style = \"text-align: right;\">24.9566</td><td style = \"text-align: left;\">Kirkkokatu</td></tr><tr><td class = \"rowNumber\" style = \"font-weight: bold; text-align: right;\">3</td><td style = \"text-align: right;\">1010105</td><td style = \"text-align: right;\">44797.6</td><td style = \"text-align: right;\">49264.6</td><td style = \"text-align: right;\">-9.06738</td><td style = \"text-align: right;\">-0.0950514</td><td style = \"text-align: right;\">0.31475</td><td style = \"text-align: right;\">0.306095</td><td style = \"text-align: right;\">2.82755</td><td style = \"text-align: right;\">0.0278831</td><td style = \"text-align: right;\">1176.07</td><td style = \"text-align: right;\">2518.7</td><td style = \"text-align: right;\">1663.13</td><td style = \"text-align: right;\">1.51602</td><td style = \"text-align: right;\">814.85</td><td style = \"text-align: right;\">1948.99</td><td style = \"text-align: right;\">1699.14</td><td style = \"text-align: right;\">1.50034</td><td style = \"text-align: right;\">1.0452</td><td style = \"text-align: right;\">0.0103977</td><td style = \"text-align: right;\">4.244</td><td style = \"text-align: right;\">0.2114</td><td style = \"text-align: right;\">64</td><td style = \"text-align: right;\">1.341</td><td style = \"text-align: right;\">3.237</td><td style = \"text-align: right;\">7.06</td><td style = \"text-align: right;\">1</td><td style = \"text-align: right;\">1</td><td style = \"text-align: right;\">1</td><td style = \"text-align: right;\">1</td><td style = \"text-align: right;\">1</td><td style = \"text-align: right;\">1</td><td style = \"text-align: right;\">1</td><td style = \"text-align: right;\">1</td><td style = \"text-align: right;\">1</td><td style = \"text-align: right;\">1</td><td style = \"text-align: right;\">1</td><td style = \"text-align: right;\">1</td><td style = \"text-align: right;\">0</td><td style = \"text-align: right;\">1</td><td style = \"text-align: right;\">1</td><td style = \"text-align: right;\">1</td><td style = \"text-align: right;\">1</td><td style = \"text-align: right;\">1</td><td style = \"text-align: right;\">2.538</td><td style = \"text-align: right;\">1.706</td><td style = \"text-align: right;\">0.00364783</td><td style = \"text-align: right;\">0.0025729</td><td style = \"text-align: right;\">0.0886146</td><td style = \"text-align: right;\">0.00311057</td><td style = \"text-align: right;\">1055</td><td style = \"text-align: right;\">60.1726</td><td style = \"text-align: right;\">24.9566</td><td style = \"text-align: left;\">Vironkatu</td></tr><tr><td class = \"rowNumber\" style = \"font-weight: bold; text-align: right;\">4</td><td style = \"text-align: right;\">1010106</td><td style = \"text-align: right;\">48715.5</td><td style = \"text-align: right;\">48795.5</td><td style = \"text-align: right;\">-0.163972</td><td style = \"text-align: right;\">-0.00164106</td><td style = \"text-align: right;\">0.306649</td><td style = \"text-align: right;\">0.30731</td><td style = \"text-align: right;\">-0.215108</td><td style = \"text-align: right;\">-0.0021534</td><td style = \"text-align: right;\">817.266</td><td style = \"text-align: right;\">1906.14</td><td style = \"text-align: right;\">1664.14</td><td style = \"text-align: right;\">1.50463</td><td style = \"text-align: right;\">880.571</td><td style = \"text-align: right;\">2090.69</td><td style = \"text-align: right;\">1775.52</td><td style = \"text-align: right;\">1.50256</td><td style = \"text-align: right;\">0.13776</td><td style = \"text-align: right;\">0.00137666</td><td style = \"text-align: right;\">3.951</td><td style = \"text-align: right;\">0.3057</td><td style = \"text-align: right;\">56</td><td style = \"text-align: right;\">1.199</td><td style = \"text-align: right;\">3.192</td><td style = \"text-align: right;\">7.02</td><td style = \"text-align: right;\">1</td><td style = \"text-align: right;\">1</td><td style = \"text-align: right;\">1</td><td style = \"text-align: right;\">1</td><td style = \"text-align: right;\">1</td><td style = \"text-align: right;\">1</td><td style = \"text-align: right;\">1</td><td style = \"text-align: right;\">1</td><td style = \"text-align: right;\">1</td><td style = \"text-align: right;\">1</td><td style = \"text-align: right;\">1</td><td style = \"text-align: right;\">1</td><td style = \"text-align: right;\">0</td><td style = \"text-align: right;\">1</td><td style = \"text-align: right;\">1</td><td style = \"text-align: right;\">1</td><td style = \"text-align: right;\">1</td><td style = \"text-align: right;\">1</td><td style = \"text-align: right;\">2.531</td><td style = \"text-align: right;\">1.42</td><td style = \"text-align: right;\">0.00364783</td><td style = \"text-align: right;\">0.0025729</td><td style = \"text-align: right;\">0.0886146</td><td style = \"text-align: right;\">0.00311057</td><td style = \"text-align: right;\">1055</td><td style = \"text-align: right;\">60.173</td><td style = \"text-align: right;\">24.9564</td><td style = \"text-align: left;\">Vironkatu</td></tr><tr><td class = \"rowNumber\" style = \"font-weight: bold; text-align: right;\">5</td><td style = \"text-align: right;\">1010107</td><td style = \"text-align: right;\">45393.7</td><td style = \"text-align: right;\">47427.0</td><td style = \"text-align: right;\">-4.28717</td><td style = \"text-align: right;\">-0.0438178</td><td style = \"text-align: right;\">0.315403</td><td style = \"text-align: right;\">0.310746</td><td style = \"text-align: right;\">1.49872</td><td style = \"text-align: right;\">0.014876</td><td style = \"text-align: right;\">1022.24</td><td style = \"text-align: right;\">2239.26</td><td style = \"text-align: right;\">1510.86</td><td style = \"text-align: right;\">1.51371</td><td style = \"text-align: right;\">1075.77</td><td style = \"text-align: right;\">2504.16</td><td style = \"text-align: right;\">1992.52</td><td style = \"text-align: right;\">1.50721</td><td style = \"text-align: right;\">0.43169</td><td style = \"text-align: right;\">0.00430761</td><td style = \"text-align: right;\">4.734</td><td style = \"text-align: right;\">0.6582</td><td style = \"text-align: right;\">62</td><td style = \"text-align: right;\">1.685</td><td style = \"text-align: right;\">3.082</td><td style = \"text-align: right;\">6.886</td><td style = \"text-align: right;\">1</td><td style = \"text-align: right;\">1</td><td style = \"text-align: right;\">1</td><td style = \"text-align: right;\">1</td><td style = \"text-align: right;\">1</td><td style = \"text-align: right;\">1</td><td style = \"text-align: right;\">1</td><td style = \"text-align: right;\">1</td><td style = \"text-align: right;\">1</td><td style = \"text-align: right;\">1</td><td style = \"text-align: right;\">1</td><td style = \"text-align: right;\">1</td><td style = \"text-align: right;\">0</td><td style = \"text-align: right;\">1</td><td style = \"text-align: right;\">1</td><td style = \"text-align: right;\">1</td><td style = \"text-align: right;\">1</td><td style = \"text-align: right;\">1</td><td style = \"text-align: right;\">2.563</td><td style = \"text-align: right;\">2.171</td><td style = \"text-align: right;\">0.0153048</td><td style = \"text-align: right;\">0.0025729</td><td style = \"text-align: right;\">0.0967449</td><td style = \"text-align: right;\">0.0045105</td><td style = \"text-align: right;\">1054</td><td style = \"text-align: right;\">60.1742</td><td style = \"text-align: right;\">24.9569</td><td style = \"text-align: left;\">Meritullinkatu</td></tr><tr><td class = \"rowNumber\" style = \"font-weight: bold; text-align: right;\">6</td><td style = \"text-align: right;\">1010108</td><td style = \"text-align: right;\">45128.7</td><td style = \"text-align: right;\">47410.2</td><td style = \"text-align: right;\">-4.81231</td><td style = \"text-align: right;\">-0.0493196</td><td style = \"text-align: right;\">0.314553</td><td style = \"text-align: right;\">0.310762</td><td style = \"text-align: right;\">1.22015</td><td style = \"text-align: right;\">0.0121276</td><td style = \"text-align: right;\">1117.77</td><td style = \"text-align: right;\">2431.36</td><td style = \"text-align: right;\">1704.07</td><td style = \"text-align: right;\">1.51633</td><td style = \"text-align: right;\">1077.82</td><td style = \"text-align: right;\">2510.87</td><td style = \"text-align: right;\">1998.95</td><td style = \"text-align: right;\">1.50707</td><td style = \"text-align: right;\">0.613898</td><td style = \"text-align: right;\">0.00612022</td><td style = \"text-align: right;\">5.835</td><td style = \"text-align: right;\">0.4068</td><td style = \"text-align: right;\">130</td><td style = \"text-align: right;\">1.664</td><td style = \"text-align: right;\">3.061</td><td style = \"text-align: right;\">6.881</td><td style = \"text-align: right;\">1</td><td style = \"text-align: right;\">1</td><td style = \"text-align: right;\">1</td><td style = \"text-align: right;\">1</td><td style = \"text-align: right;\">1</td><td style = \"text-align: right;\">1</td><td style = \"text-align: right;\">1</td><td style = \"text-align: right;\">1</td><td style = \"text-align: right;\">1</td><td style = \"text-align: right;\">1</td><td style = \"text-align: right;\">1</td><td style = \"text-align: right;\">1</td><td style = \"text-align: right;\">0</td><td style = \"text-align: right;\">1</td><td style = \"text-align: right;\">1</td><td style = \"text-align: right;\">1</td><td style = \"text-align: right;\">1</td><td style = \"text-align: right;\">1</td><td style = \"text-align: right;\">2.638</td><td style = \"text-align: right;\">3.197</td><td style = \"text-align: right;\">0.0153048</td><td style = \"text-align: right;\">0.0025729</td><td style = \"text-align: right;\">0.0967449</td><td style = \"text-align: right;\">0.0045105</td><td style = \"text-align: right;\">1054</td><td style = \"text-align: right;\">60.1743</td><td style = \"text-align: right;\">24.9565</td><td style = \"text-align: left;\">Meritullinkatu</td></tr><tr><td class = \"rowNumber\" style = \"font-weight: bold; text-align: right;\">7</td><td style = \"text-align: right;\">1010109</td><td style = \"text-align: right;\">44097.0</td><td style = \"text-align: right;\">46945.3</td><td style = \"text-align: right;\">-6.06718</td><td style = \"text-align: right;\">-0.0625904</td><td style = \"text-align: right;\">0.318396</td><td style = \"text-align: right;\">0.312195</td><td style = \"text-align: right;\">1.98634</td><td style = \"text-align: right;\">0.0196687</td><td style = \"text-align: right;\">1114.49</td><td style = \"text-align: right;\">2379.9</td><td style = \"text-align: right;\">1500.2</td><td style = \"text-align: right;\">1.51366</td><td style = \"text-align: right;\">1121.68</td><td style = \"text-align: right;\">2613.84</td><td style = \"text-align: right;\">2007.0</td><td style = \"text-align: right;\">1.50712</td><td style = \"text-align: right;\">0.434155</td><td style = \"text-align: right;\">0.00433215</td><td style = \"text-align: right;\">4.972</td><td style = \"text-align: right;\">0.6738</td><td style = \"text-align: right;\">60</td><td style = \"text-align: right;\">1.797</td><td style = \"text-align: right;\">3.166</td><td style = \"text-align: right;\">6.806</td><td style = \"text-align: right;\">1</td><td style = \"text-align: right;\">1</td><td style = \"text-align: right;\">1</td><td style = \"text-align: right;\">1</td><td style = \"text-align: right;\">1</td><td style = \"text-align: right;\">1</td><td style = \"text-align: right;\">1</td><td style = \"text-align: right;\">1</td><td style = \"text-align: right;\">1</td><td style = \"text-align: right;\">1</td><td style = \"text-align: right;\">1</td><td style = \"text-align: right;\">1</td><td style = \"text-align: right;\">0</td><td style = \"text-align: right;\">1</td><td style = \"text-align: right;\">1</td><td style = \"text-align: right;\">1</td><td style = \"text-align: right;\">1</td><td style = \"text-align: right;\">1</td><td style = \"text-align: right;\">2.268</td><td style = \"text-align: right;\">2.704</td><td style = \"text-align: right;\">0.0312281</td><td style = \"text-align: right;\">0.0025729</td><td style = \"text-align: right;\">0.106645</td><td style = \"text-align: right;\">0.00287345</td><td style = \"text-align: right;\">1046</td><td style = \"text-align: right;\">60.1743</td><td style = \"text-align: right;\">24.9607</td><td style = \"text-align: left;\">Liisanpuistikko</td></tr><tr><td class = \"rowNumber\" style = \"font-weight: bold; text-align: right;\">8</td><td style = \"text-align: right;\">1010110</td><td style = \"text-align: right;\">44862.4</td><td style = \"text-align: right;\">46748.4</td><td style = \"text-align: right;\">-4.03417</td><td style = \"text-align: right;\">-0.041178</td><td style = \"text-align: right;\">0.315199</td><td style = \"text-align: right;\">0.312965</td><td style = \"text-align: right;\">0.713933</td><td style = \"text-align: right;\">0.00711397</td><td style = \"text-align: right;\">1140.39</td><td style = \"text-align: right;\">2451.82</td><td style = \"text-align: right;\">1643.26</td><td style = \"text-align: right;\">1.5162</td><td style = \"text-align: right;\">1158.65</td><td style = \"text-align: right;\">2691.71</td><td style = \"text-align: right;\">2082.36</td><td style = \"text-align: right;\">1.50764</td><td style = \"text-align: right;\">0.567851</td><td style = \"text-align: right;\">0.00566245</td><td style = \"text-align: right;\">4.764</td><td style = \"text-align: right;\">0.3264</td><td style = \"text-align: right;\">81</td><td style = \"text-align: right;\">1.981</td><td style = \"text-align: right;\">3.148</td><td style = \"text-align: right;\">6.809</td><td style = \"text-align: right;\">1</td><td style = \"text-align: right;\">1</td><td style = \"text-align: right;\">1</td><td style = \"text-align: right;\">1</td><td style = \"text-align: right;\">1</td><td style = \"text-align: right;\">1</td><td style = \"text-align: right;\">1</td><td style = \"text-align: right;\">1</td><td style = \"text-align: right;\">1</td><td style = \"text-align: right;\">1</td><td style = \"text-align: right;\">1</td><td style = \"text-align: right;\">1</td><td style = \"text-align: right;\">0</td><td style = \"text-align: right;\">1</td><td style = \"text-align: right;\">1</td><td style = \"text-align: right;\">1</td><td style = \"text-align: right;\">1</td><td style = \"text-align: right;\">1</td><td style = \"text-align: right;\">2.238</td><td style = \"text-align: right;\">2.526</td><td style = \"text-align: right;\">0.0312281</td><td style = \"text-align: right;\">0.0025729</td><td style = \"text-align: right;\">0.106645</td><td style = \"text-align: right;\">0.00287345</td><td style = \"text-align: right;\">1046</td><td style = \"text-align: right;\">60.1743</td><td style = \"text-align: right;\">24.9602</td><td style = \"text-align: left;\">Liisanpuistikko</td></tr><tr><td class = \"rowNumber\" style = \"font-weight: bold; text-align: right;\">9</td><td style = \"text-align: right;\">1010115</td><td style = \"text-align: right;\">48668.1</td><td style = \"text-align: right;\">51182.6</td><td style = \"text-align: right;\">-4.91274</td><td style = \"text-align: right;\">-0.0503752</td><td style = \"text-align: right;\">0.306492</td><td style = \"text-align: right;\">0.300929</td><td style = \"text-align: right;\">1.84844</td><td style = \"text-align: right;\">0.0183156</td><td style = \"text-align: right;\">837.678</td><td style = \"text-align: right;\">1964.61</td><td style = \"text-align: right;\">1731.49</td><td style = \"text-align: right;\">1.50328</td><td style = \"text-align: right;\">523.145</td><td style = \"text-align: right;\">1317.73</td><td style = \"text-align: right;\">1409.24</td><td style = \"text-align: right;\">1.47496</td><td style = \"text-align: right;\">1.9201</td><td style = \"text-align: right;\">0.019019</td><td style = \"text-align: right;\">4.07</td><td style = \"text-align: right;\">0.4864</td><td style = \"text-align: right;\">65</td><td style = \"text-align: right;\">1.039</td><td style = \"text-align: right;\">3.579</td><td style = \"text-align: right;\">7.391</td><td style = \"text-align: right;\">1</td><td style = \"text-align: right;\">1</td><td style = \"text-align: right;\">1</td><td style = \"text-align: right;\">1</td><td style = \"text-align: right;\">1</td><td style = \"text-align: right;\">1</td><td style = \"text-align: right;\">1</td><td style = \"text-align: right;\">1</td><td style = \"text-align: right;\">1</td><td style = \"text-align: right;\">1</td><td style = \"text-align: right;\">1</td><td style = \"text-align: right;\">1</td><td style = \"text-align: right;\">1</td><td style = \"text-align: right;\">1</td><td style = \"text-align: right;\">1</td><td style = \"text-align: right;\">1</td><td style = \"text-align: right;\">1</td><td style = \"text-align: right;\">1</td><td style = \"text-align: right;\">2.68</td><td style = \"text-align: right;\">1.39</td><td style = \"text-align: right;\">0.0040281</td><td style = \"text-align: right;\">0.00686106</td><td style = \"text-align: right;\">0.0923177</td><td style = \"text-align: right;\">0.0168499</td><td style = \"text-align: right;\">1052</td><td style = \"text-align: right;\">60.1694</td><td style = \"text-align: right;\">24.957</td><td style = \"text-align: left;\">Ritarihuone</td></tr><tr><td class = \"rowNumber\" style = \"font-weight: bold; text-align: right;\">10</td><td style = \"text-align: right;\">1010124</td><td style = \"text-align: right;\">42310.9</td><td style = \"text-align: right;\">47439.2</td><td style = \"text-align: right;\">-10.8101</td><td style = \"text-align: right;\">-0.114403</td><td style = \"text-align: right;\">0.321541</td><td style = \"text-align: right;\">0.310223</td><td style = \"text-align: right;\">3.6485</td><td style = \"text-align: right;\">0.0358352</td><td style = \"text-align: right;\">1382.93</td><td style = \"text-align: right;\">2903.81</td><td style = \"text-align: right;\">1781.7</td><td style = \"text-align: right;\">1.51417</td><td style = \"text-align: right;\">1094.32</td><td style = \"text-align: right;\">2500.88</td><td style = \"text-align: right;\">2007.61</td><td style = \"text-align: right;\">1.51018</td><td style = \"text-align: right;\">0.263937</td><td style = \"text-align: right;\">0.0026359</td><td style = \"text-align: right;\">5.578</td><td style = \"text-align: right;\">0.6749</td><td style = \"text-align: right;\">128</td><td style = \"text-align: right;\">2.227</td><td style = \"text-align: right;\">3.004</td><td style = \"text-align: right;\">6.993</td><td style = \"text-align: right;\">1</td><td style = \"text-align: right;\">1</td><td style = \"text-align: right;\">1</td><td style = \"text-align: right;\">1</td><td style = \"text-align: right;\">1</td><td style = \"text-align: right;\">1</td><td style = \"text-align: right;\">1</td><td style = \"text-align: right;\">1</td><td style = \"text-align: right;\">1</td><td style = \"text-align: right;\">1</td><td style = \"text-align: right;\">1</td><td style = \"text-align: right;\">1</td><td style = \"text-align: right;\">0</td><td style = \"text-align: right;\">1</td><td style = \"text-align: right;\">1</td><td style = \"text-align: right;\">1</td><td style = \"text-align: right;\">1</td><td style = \"text-align: right;\">1</td><td style = \"text-align: right;\">3.038</td><td style = \"text-align: right;\">2.54</td><td style = \"text-align: right;\">0.0519187</td><td style = \"text-align: right;\">0.00428816</td><td style = \"text-align: right;\">0.10645</td><td style = \"text-align: right;\">0.00644697</td><td style = \"text-align: right;\">1024</td><td style = \"text-align: right;\">60.174</td><td style = \"text-align: right;\">24.9524</td><td style = \"text-align: left;\">Snellmaninkatu</td></tr><tr><td class = \"rowNumber\" style = \"font-weight: bold; text-align: right;\">11</td><td style = \"text-align: right;\">1010125</td><td style = \"text-align: right;\">40706.3</td><td style = \"text-align: right;\">47176.4</td><td style = \"text-align: right;\">-13.7146</td><td style = \"text-align: right;\">-0.14751</td><td style = \"text-align: right;\">0.325067</td><td style = \"text-align: right;\">0.310775</td><td style = \"text-align: right;\">4.59893</td><td style = \"text-align: right;\">0.0449632</td><td style = \"text-align: right;\">1497.81</td><td style = \"text-align: right;\">3131.86</td><td style = \"text-align: right;\">1857.47</td><td style = \"text-align: right;\">1.51207</td><td style = \"text-align: right;\">1127.71</td><td style = \"text-align: right;\">2572.08</td><td style = \"text-align: right;\">2031.66</td><td style = \"text-align: right;\">1.51064</td><td style = \"text-align: right;\">0.0948641</td><td style = \"text-align: right;\">0.000948191</td><td style = \"text-align: right;\">6.2</td><td style = \"text-align: right;\">0.6427</td><td style = \"text-align: right;\">127</td><td style = \"text-align: right;\">2.486</td><td style = \"text-align: right;\">2.992</td><td style = \"text-align: right;\">6.992</td><td style = \"text-align: right;\">1</td><td style = \"text-align: right;\">1</td><td style = \"text-align: right;\">1</td><td style = \"text-align: right;\">1</td><td style = \"text-align: right;\">1</td><td style = \"text-align: right;\">1</td><td style = \"text-align: right;\">1</td><td style = \"text-align: right;\">1</td><td style = \"text-align: right;\">1</td><td style = \"text-align: right;\">1</td><td style = \"text-align: right;\">1</td><td style = \"text-align: right;\">1</td><td style = \"text-align: right;\">0</td><td style = \"text-align: right;\">1</td><td style = \"text-align: right;\">1</td><td style = \"text-align: right;\">1</td><td style = \"text-align: right;\">1</td><td style = \"text-align: right;\">1</td><td style = \"text-align: right;\">3.092</td><td style = \"text-align: right;\">3.108</td><td style = \"text-align: right;\">0.0519187</td><td style = \"text-align: right;\">0.00428816</td><td style = \"text-align: right;\">0.10645</td><td style = \"text-align: right;\">0.00644697</td><td style = \"text-align: right;\">1024</td><td style = \"text-align: right;\">60.1741</td><td style = \"text-align: right;\">24.9521</td><td style = \"text-align: left;\">Snellmaninkatu</td></tr><tr><td class = \"rowNumber\" style = \"font-weight: bold; text-align: right;\">12</td><td style = \"text-align: right;\">1010128</td><td style = \"text-align: right;\">43628.2</td><td style = \"text-align: right;\">47814.6</td><td style = \"text-align: right;\">-8.75542</td><td style = \"text-align: right;\">-0.0916266</td><td style = \"text-align: right;\">0.317935</td><td style = \"text-align: right;\">0.30977</td><td style = \"text-align: right;\">2.63576</td><td style = \"text-align: right;\">0.0260162</td><td style = \"text-align: right;\">1266.83</td><td style = \"text-align: right;\">2703.54</td><td style = \"text-align: right;\">1679.13</td><td style = \"text-align: right;\">1.51273</td><td style = \"text-align: right;\">1024.01</td><td style = \"text-align: right;\">2394.96</td><td style = \"text-align: right;\">1947.58</td><td style = \"text-align: right;\">1.50615</td><td style = \"text-align: right;\">0.437193</td><td style = \"text-align: right;\">0.0043624</td><td style = \"text-align: right;\">4.425</td><td style = \"text-align: right;\">0.4366</td><td style = \"text-align: right;\">74</td><td style = \"text-align: right;\">1.288</td><td style = \"text-align: right;\">3.087</td><td style = \"text-align: right;\">6.921</td><td style = \"text-align: right;\">1</td><td style = \"text-align: right;\">1</td><td style = \"text-align: right;\">1</td><td style = \"text-align: right;\">1</td><td style = \"text-align: right;\">1</td><td style = \"text-align: right;\">1</td><td style = \"text-align: right;\">1</td><td style = \"text-align: right;\">1</td><td style = \"text-align: right;\">1</td><td style = \"text-align: right;\">1</td><td style = \"text-align: right;\">1</td><td style = \"text-align: right;\">1</td><td style = \"text-align: right;\">0</td><td style = \"text-align: right;\">1</td><td style = \"text-align: right;\">1</td><td style = \"text-align: right;\">1</td><td style = \"text-align: right;\">1</td><td style = \"text-align: right;\">1</td><td style = \"text-align: right;\">2.622</td><td style = \"text-align: right;\">1.803</td><td style = \"text-align: right;\">0.0153048</td><td style = \"text-align: right;\">0.0025729</td><td style = \"text-align: right;\">0.0967449</td><td style = \"text-align: right;\">0.0045105</td><td style = \"text-align: right;\">1054</td><td style = \"text-align: right;\">60.174</td><td style = \"text-align: right;\">24.9562</td><td style = \"text-align: left;\">Liisankatu</td></tr><tr><td class = \"rowNumber\" style = \"font-weight: bold; text-align: right;\">13</td><td style = \"text-align: right;\">1010180</td><td style = \"text-align: right;\">50305.2</td><td style = \"text-align: right;\">50527.4</td><td style = \"text-align: right;\">-0.439832</td><td style = \"text-align: right;\">-0.00440802</td><td style = \"text-align: right;\">0.303869</td><td style = \"text-align: right;\">0.302376</td><td style = \"text-align: right;\">0.493788</td><td style = \"text-align: right;\">0.00492573</td><td style = \"text-align: right;\">571.334</td><td style = \"text-align: right;\">1290.6</td><td style = \"text-align: right;\">1461.71</td><td style = \"text-align: right;\">1.48782</td><td style = \"text-align: right;\">565.034</td><td style = \"text-align: right;\">1391.84</td><td style = \"text-align: right;\">1520.63</td><td style = \"text-align: right;\">1.47655</td><td style = \"text-align: right;\">0.763335</td><td style = \"text-align: right;\">0.00760437</td><td style = \"text-align: right;\">2.021</td><td style = \"text-align: right;\">0.0789</td><td style = \"text-align: right;\">27</td><td style = \"text-align: right;\">0.4</td><td style = \"text-align: right;\">3.667</td><td style = \"text-align: right;\">7.588</td><td style = \"text-align: right;\">1</td><td style = \"text-align: right;\">1</td><td style = \"text-align: right;\">1</td><td style = \"text-align: right;\">1</td><td style = \"text-align: right;\">1</td><td style = \"text-align: right;\">1</td><td style = \"text-align: right;\">1</td><td style = \"text-align: right;\">1</td><td style = \"text-align: right;\">1</td><td style = \"text-align: right;\">1</td><td style = \"text-align: right;\">1</td><td style = \"text-align: right;\">1</td><td style = \"text-align: right;\">1</td><td style = \"text-align: right;\">1</td><td style = \"text-align: right;\">1</td><td style = \"text-align: right;\">1</td><td style = \"text-align: right;\">1</td><td style = \"text-align: right;\">1</td><td style = \"text-align: right;\">3.175</td><td style = \"text-align: right;\">-1.154</td><td style = \"text-align: right;\">0.000931887</td><td style = \"text-align: right;\">0.00171527</td><td style = \"text-align: right;\">0.0846448</td><td style = \"text-align: right;\">0.0</td><td style = \"text-align: right;\">1049</td><td style = \"text-align: right;\">60.168</td><td style = \"text-align: right;\">24.954</td><td style = \"text-align: left;\">Kauppatori</td></tr><tr><td style = \"text-align: right;\">&vellip;</td><td style = \"text-align: right;\">&vellip;</td><td style = \"text-align: right;\">&vellip;</td><td style = \"text-align: right;\">&vellip;</td><td style = \"text-align: right;\">&vellip;</td><td style = \"text-align: right;\">&vellip;</td><td style = \"text-align: right;\">&vellip;</td><td style = \"text-align: right;\">&vellip;</td><td style = \"text-align: right;\">&vellip;</td><td style = \"text-align: right;\">&vellip;</td><td style = \"text-align: right;\">&vellip;</td><td style = \"text-align: right;\">&vellip;</td><td style = \"text-align: right;\">&vellip;</td><td style = \"text-align: right;\">&vellip;</td><td style = \"text-align: right;\">&vellip;</td><td style = \"text-align: right;\">&vellip;</td><td style = \"text-align: right;\">&vellip;</td><td style = \"text-align: right;\">&vellip;</td><td style = \"text-align: right;\">&vellip;</td><td style = \"text-align: right;\">&vellip;</td><td style = \"text-align: right;\">&vellip;</td><td style = \"text-align: right;\">&vellip;</td><td style = \"text-align: right;\">&vellip;</td><td style = \"text-align: right;\">&vellip;</td><td style = \"text-align: right;\">&vellip;</td><td style = \"text-align: right;\">&vellip;</td><td style = \"text-align: right;\">&vellip;</td><td style = \"text-align: right;\">&vellip;</td><td style = \"text-align: right;\">&vellip;</td><td style = \"text-align: right;\">&vellip;</td><td style = \"text-align: right;\">&vellip;</td><td style = \"text-align: right;\">&vellip;</td><td style = \"text-align: right;\">&vellip;</td><td style = \"text-align: right;\">&vellip;</td><td style = \"text-align: right;\">&vellip;</td><td style = \"text-align: right;\">&vellip;</td><td style = \"text-align: right;\">&vellip;</td><td style = \"text-align: right;\">&vellip;</td><td style = \"text-align: right;\">&vellip;</td><td style = \"text-align: right;\">&vellip;</td><td style = \"text-align: right;\">&vellip;</td><td style = \"text-align: right;\">&vellip;</td><td style = \"text-align: right;\">&vellip;</td><td style = \"text-align: right;\">&vellip;</td><td style = \"text-align: right;\">&vellip;</td><td style = \"text-align: right;\">&vellip;</td><td style = \"text-align: right;\">&vellip;</td><td style = \"text-align: right;\">&vellip;</td><td style = \"text-align: right;\">&vellip;</td><td style = \"text-align: right;\">&vellip;</td><td style = \"text-align: right;\">&vellip;</td><td style = \"text-align: right;\">&vellip;</td><td style = \"text-align: right;\">&vellip;</td><td style = \"text-align: right;\">&vellip;</td></tr><tr><td class = \"rowNumber\" style = \"font-weight: bold; text-align: right;\">2685</td><td style = \"text-align: right;\">1601209</td><td style = \"text-align: right;\">82938.0</td><td style = \"text-align: right;\">82938.0</td><td style = \"text-align: right;\">0.0</td><td style = \"text-align: right;\">0.0</td><td style = \"text-align: right;\">0.244962</td><td style = \"text-align: right;\">0.244962</td><td style = \"text-align: right;\">0.0</td><td style = \"text-align: right;\">0.0</td><td style = \"text-align: right;\">53.0</td><td style = \"text-align: right;\">234.0</td><td style = \"text-align: right;\">372.0</td><td style = \"text-align: right;\">1.28855</td><td style = \"text-align: right;\">53.0</td><td style = \"text-align: right;\">234.0</td><td style = \"text-align: right;\">372.0</td><td style = \"text-align: right;\">1.28855</td><td style = \"text-align: right;\">0.0</td><td style = \"text-align: right;\">0.0</td><td style = \"text-align: right;\">3.148</td><td style = \"text-align: right;\">0.6869</td><td style = \"text-align: right;\">24</td><td style = \"text-align: right;\">1.881</td><td style = \"text-align: right;\">16.515</td><td style = \"text-align: right;\">12.05</td><td style = \"text-align: right;\">0</td><td style = \"text-align: right;\">0</td><td style = \"text-align: right;\">1</td><td style = \"text-align: right;\">0</td><td style = \"text-align: right;\">1</td><td style = \"text-align: right;\">1</td><td style = \"text-align: right;\">1</td><td style = \"text-align: right;\">1</td><td style = \"text-align: right;\">0</td><td style = \"text-align: right;\">0</td><td style = \"text-align: right;\">0</td><td style = \"text-align: right;\">0</td><td style = \"text-align: right;\">0</td><td style = \"text-align: right;\">1</td><td style = \"text-align: right;\">0</td><td style = \"text-align: right;\">0</td><td style = \"text-align: right;\">1</td><td style = \"text-align: right;\">0</td><td style = \"text-align: right;\">1.238</td><td style = \"text-align: right;\">1.91</td><td style = \"text-align: right;\">1.67858e-11</td><td style = \"text-align: right;\">0.00171527</td><td style = \"text-align: right;\">0.0516148</td><td style = \"text-align: right;\">0.00512813</td><td style = \"text-align: right;\">1180</td><td style = \"text-align: right;\">60.2503</td><td style = \"text-align: right;\">25.2137</td><td style = \"text-align: left;\">Reelinki</td></tr><tr><td class = \"rowNumber\" style = \"font-weight: bold; text-align: right;\">2686</td><td style = \"text-align: right;\">1601210</td><td style = \"text-align: right;\">58946.3</td><td style = \"text-align: right;\">82938.0</td><td style = \"text-align: right;\">-28.9273</td><td style = \"text-align: right;\">-0.341466</td><td style = \"text-align: right;\">0.275914</td><td style = \"text-align: right;\">0.244962</td><td style = \"text-align: right;\">12.6353</td><td style = \"text-align: right;\">0.118985</td><td style = \"text-align: right;\">746.211</td><td style = \"text-align: right;\">1722.81</td><td style = \"text-align: right;\">598.674</td><td style = \"text-align: right;\">1.42361</td><td style = \"text-align: right;\">53.0</td><td style = \"text-align: right;\">234.0</td><td style = \"text-align: right;\">372.0</td><td style = \"text-align: right;\">1.28855</td><td style = \"text-align: right;\">10.482</td><td style = \"text-align: right;\">0.0996829</td><td style = \"text-align: right;\">4.017</td><td style = \"text-align: right;\">0.7378</td><td style = \"text-align: right;\">38</td><td style = \"text-align: right;\">3.418</td><td style = \"text-align: right;\">16.552</td><td style = \"text-align: right;\">12.089</td><td style = \"text-align: right;\">0</td><td style = \"text-align: right;\">0</td><td style = \"text-align: right;\">1</td><td style = \"text-align: right;\">0</td><td style = \"text-align: right;\">1</td><td style = \"text-align: right;\">1</td><td style = \"text-align: right;\">1</td><td style = \"text-align: right;\">1</td><td style = \"text-align: right;\">1</td><td style = \"text-align: right;\">0</td><td style = \"text-align: right;\">0</td><td style = \"text-align: right;\">0</td><td style = \"text-align: right;\">0</td><td style = \"text-align: right;\">1</td><td style = \"text-align: right;\">0</td><td style = \"text-align: right;\">0</td><td style = \"text-align: right;\">1</td><td style = \"text-align: right;\">0</td><td style = \"text-align: right;\">1.298</td><td style = \"text-align: right;\">2.719</td><td style = \"text-align: right;\">1.67858e-11</td><td style = \"text-align: right;\">0.00171527</td><td style = \"text-align: right;\">0.0516148</td><td style = \"text-align: right;\">0.00512813</td><td style = \"text-align: right;\">1180</td><td style = \"text-align: right;\">60.2503</td><td style = \"text-align: right;\">25.2145</td><td style = \"text-align: left;\">Reelinki</td></tr><tr><td class = \"rowNumber\" style = \"font-weight: bold; text-align: right;\">2687</td><td style = \"text-align: right;\">1602101</td><td style = \"text-align: right;\">82938.0</td><td style = \"text-align: right;\">82938.0</td><td style = \"text-align: right;\">0.0</td><td style = \"text-align: right;\">0.0</td><td style = \"text-align: right;\">0.244962</td><td style = \"text-align: right;\">0.244962</td><td style = \"text-align: right;\">1.13305e-14</td><td style = \"text-align: right;\">2.22045e-16</td><td style = \"text-align: right;\">53.0</td><td style = \"text-align: right;\">234.0</td><td style = \"text-align: right;\">372.0</td><td style = \"text-align: right;\">1.28855</td><td style = \"text-align: right;\">53.0</td><td style = \"text-align: right;\">234.0</td><td style = \"text-align: right;\">372.0</td><td style = \"text-align: right;\">1.28855</td><td style = \"text-align: right;\">0.0</td><td style = \"text-align: right;\">0.0</td><td style = \"text-align: right;\">1.163</td><td style = \"text-align: right;\">0.2774</td><td style = \"text-align: right;\">10</td><td style = \"text-align: right;\">4.337</td><td style = \"text-align: right;\">19.908</td><td style = \"text-align: right;\">14.954</td><td style = \"text-align: right;\">0</td><td style = \"text-align: right;\">0</td><td style = \"text-align: right;\">0</td><td style = \"text-align: right;\">0</td><td style = \"text-align: right;\">1</td><td style = \"text-align: right;\">0</td><td style = \"text-align: right;\">0</td><td style = \"text-align: right;\">1</td><td style = \"text-align: right;\">0</td><td style = \"text-align: right;\">0</td><td style = \"text-align: right;\">0</td><td style = \"text-align: right;\">0</td><td style = \"text-align: right;\">0</td><td style = \"text-align: right;\">1</td><td style = \"text-align: right;\">0</td><td style = \"text-align: right;\">0</td><td style = \"text-align: right;\">0</td><td style = \"text-align: right;\">0</td><td style = \"text-align: right;\">1.269</td><td style = \"text-align: right;\">-0.106</td><td style = \"text-align: right;\">8.48487e-12</td><td style = \"text-align: right;\">0.000857633</td><td style = \"text-align: right;\">0.0491001</td><td style = \"text-align: right;\">0.0</td><td style = \"text-align: right;\">1195</td><td style = \"text-align: right;\">60.2923</td><td style = \"text-align: right;\">25.2409</td><td style = \"text-align: left;\">Puroniityntie</td></tr><tr><td class = \"rowNumber\" style = \"font-weight: bold; text-align: right;\">2688</td><td style = \"text-align: right;\">1602102</td><td style = \"text-align: right;\">82769.8</td><td style = \"text-align: right;\">82938.0</td><td style = \"text-align: right;\">-0.202843</td><td style = \"text-align: right;\">-0.00203049</td><td style = \"text-align: right;\">0.245146</td><td style = \"text-align: right;\">0.244962</td><td style = \"text-align: right;\">0.0749402</td><td style = \"text-align: right;\">0.000749121</td><td style = \"text-align: right;\">58.3829</td><td style = \"text-align: right;\">244.987</td><td style = \"text-align: right;\">373.081</td><td style = \"text-align: right;\">1.3092</td><td style = \"text-align: right;\">53.0</td><td style = \"text-align: right;\">234.0</td><td style = \"text-align: right;\">372.0</td><td style = \"text-align: right;\">1.28855</td><td style = \"text-align: right;\">1.60283</td><td style = \"text-align: right;\">0.0159012</td><td style = \"text-align: right;\">3.615</td><td style = \"text-align: right;\">0.6168</td><td style = \"text-align: right;\">33</td><td style = \"text-align: right;\">3.088</td><td style = \"text-align: right;\">16.824</td><td style = \"text-align: right;\">11.991</td><td style = \"text-align: right;\">0</td><td style = \"text-align: right;\">0</td><td style = \"text-align: right;\">1</td><td style = \"text-align: right;\">0</td><td style = \"text-align: right;\">1</td><td style = \"text-align: right;\">1</td><td style = \"text-align: right;\">1</td><td style = \"text-align: right;\">1</td><td style = \"text-align: right;\">0</td><td style = \"text-align: right;\">0</td><td style = \"text-align: right;\">0</td><td style = \"text-align: right;\">0</td><td style = \"text-align: right;\">0</td><td style = \"text-align: right;\">1</td><td style = \"text-align: right;\">0</td><td style = \"text-align: right;\">0</td><td style = \"text-align: right;\">1</td><td style = \"text-align: right;\">0</td><td style = \"text-align: right;\">2.397</td><td style = \"text-align: right;\">1.218</td><td style = \"text-align: right;\">5.889e-12</td><td style = \"text-align: right;\">0.0025729</td><td style = \"text-align: right;\">0.049125</td><td style = \"text-align: right;\">0.00512887</td><td style = \"text-align: right;\">1187</td><td style = \"text-align: right;\">60.2708</td><td style = \"text-align: right;\">25.2015</td><td style = \"text-align: left;\">Landbo</td></tr><tr><td class = \"rowNumber\" style = \"font-weight: bold; text-align: right;\">2689</td><td style = \"text-align: right;\">1602109</td><td style = \"text-align: right;\">82938.0</td><td style = \"text-align: right;\">82938.0</td><td style = \"text-align: right;\">0.0</td><td style = \"text-align: right;\">0.0</td><td style = \"text-align: right;\">0.244962</td><td style = \"text-align: right;\">0.244962</td><td style = \"text-align: right;\">-1.13305e-14</td><td style = \"text-align: right;\">-1.11022e-16</td><td style = \"text-align: right;\">53.0</td><td style = \"text-align: right;\">234.0</td><td style = \"text-align: right;\">372.0</td><td style = \"text-align: right;\">1.28855</td><td style = \"text-align: right;\">53.0</td><td style = \"text-align: right;\">234.0</td><td style = \"text-align: right;\">372.0</td><td style = \"text-align: right;\">1.28855</td><td style = \"text-align: right;\">0.0</td><td style = \"text-align: right;\">0.0</td><td style = \"text-align: right;\">2.597</td><td style = \"text-align: right;\">0.6033</td><td style = \"text-align: right;\">21</td><td style = \"text-align: right;\">2.448</td><td style = \"text-align: right;\">16.531</td><td style = \"text-align: right;\">11.714</td><td style = \"text-align: right;\">0</td><td style = \"text-align: right;\">0</td><td style = \"text-align: right;\">1</td><td style = \"text-align: right;\">0</td><td style = \"text-align: right;\">1</td><td style = \"text-align: right;\">0</td><td style = \"text-align: right;\">1</td><td style = \"text-align: right;\">1</td><td style = \"text-align: right;\">0</td><td style = \"text-align: right;\">0</td><td style = \"text-align: right;\">0</td><td style = \"text-align: right;\">0</td><td style = \"text-align: right;\">0</td><td style = \"text-align: right;\">1</td><td style = \"text-align: right;\">0</td><td style = \"text-align: right;\">0</td><td style = \"text-align: right;\">0</td><td style = \"text-align: right;\">0</td><td style = \"text-align: right;\">2.014</td><td style = \"text-align: right;\">0.583</td><td style = \"text-align: right;\">1.14469e-12</td><td style = \"text-align: right;\">0.00171527</td><td style = \"text-align: right;\">0.0468267</td><td style = \"text-align: right;\">0.000855424</td><td style = \"text-align: right;\">1184</td><td style = \"text-align: right;\">60.2687</td><td style = \"text-align: right;\">25.1977</td><td style = \"text-align: left;\">Landbonpolku</td></tr><tr><td class = \"rowNumber\" style = \"font-weight: bold; text-align: right;\">2690</td><td style = \"text-align: right;\">1602110</td><td style = \"text-align: right;\">82938.0</td><td style = \"text-align: right;\">82938.0</td><td style = \"text-align: right;\">0.0</td><td style = \"text-align: right;\">0.0</td><td style = \"text-align: right;\">0.244962</td><td style = \"text-align: right;\">0.244962</td><td style = \"text-align: right;\">0.0</td><td style = \"text-align: right;\">0.0</td><td style = \"text-align: right;\">53.0</td><td style = \"text-align: right;\">234.0</td><td style = \"text-align: right;\">372.0</td><td style = \"text-align: right;\">1.28855</td><td style = \"text-align: right;\">53.0</td><td style = \"text-align: right;\">234.0</td><td style = \"text-align: right;\">372.0</td><td style = \"text-align: right;\">1.28855</td><td style = \"text-align: right;\">0.0</td><td style = \"text-align: right;\">0.0</td><td style = \"text-align: right;\">3.116</td><td style = \"text-align: right;\">0.4874</td><td style = \"text-align: right;\">24</td><td style = \"text-align: right;\">2.475</td><td style = \"text-align: right;\">16.33</td><td style = \"text-align: right;\">11.486</td><td style = \"text-align: right;\">0</td><td style = \"text-align: right;\">0</td><td style = \"text-align: right;\">1</td><td style = \"text-align: right;\">0</td><td style = \"text-align: right;\">1</td><td style = \"text-align: right;\">1</td><td style = \"text-align: right;\">1</td><td style = \"text-align: right;\">1</td><td style = \"text-align: right;\">0</td><td style = \"text-align: right;\">0</td><td style = \"text-align: right;\">0</td><td style = \"text-align: right;\">0</td><td style = \"text-align: right;\">0</td><td style = \"text-align: right;\">1</td><td style = \"text-align: right;\">0</td><td style = \"text-align: right;\">0</td><td style = \"text-align: right;\">0</td><td style = \"text-align: right;\">0</td><td style = \"text-align: right;\">2.222</td><td style = \"text-align: right;\">0.894</td><td style = \"text-align: right;\">4.16633e-13</td><td style = \"text-align: right;\">0.00171527</td><td style = \"text-align: right;\">0.0447337</td><td style = \"text-align: right;\">7.36166e-7</td><td style = \"text-align: right;\">1186</td><td style = \"text-align: right;\">60.2696</td><td style = \"text-align: right;\">25.1926</td><td style = \"text-align: left;\">Karhunevantie</td></tr><tr><td class = \"rowNumber\" style = \"font-weight: bold; text-align: right;\">2691</td><td style = \"text-align: right;\">1602111</td><td style = \"text-align: right;\">82759.9</td><td style = \"text-align: right;\">82938.0</td><td style = \"text-align: right;\">-0.214795</td><td style = \"text-align: right;\">-0.00215026</td><td style = \"text-align: right;\">0.245157</td><td style = \"text-align: right;\">0.244962</td><td style = \"text-align: right;\">0.0793557</td><td style = \"text-align: right;\">0.000793242</td><td style = \"text-align: right;\">58.7</td><td style = \"text-align: right;\">245.635</td><td style = \"text-align: right;\">373.145</td><td style = \"text-align: right;\">1.31035</td><td style = \"text-align: right;\">53.0</td><td style = \"text-align: right;\">234.0</td><td style = \"text-align: right;\">372.0</td><td style = \"text-align: right;\">1.28855</td><td style = \"text-align: right;\">1.6918</td><td style = \"text-align: right;\">0.0167765</td><td style = \"text-align: right;\">3.42</td><td style = \"text-align: right;\">0.6073</td><td style = \"text-align: right;\">27</td><td style = \"text-align: right;\">2.951</td><td style = \"text-align: right;\">16.555</td><td style = \"text-align: right;\">11.689</td><td style = \"text-align: right;\">0</td><td style = \"text-align: right;\">0</td><td style = \"text-align: right;\">1</td><td style = \"text-align: right;\">0</td><td style = \"text-align: right;\">1</td><td style = \"text-align: right;\">1</td><td style = \"text-align: right;\">1</td><td style = \"text-align: right;\">1</td><td style = \"text-align: right;\">0</td><td style = \"text-align: right;\">0</td><td style = \"text-align: right;\">0</td><td style = \"text-align: right;\">0</td><td style = \"text-align: right;\">0</td><td style = \"text-align: right;\">1</td><td style = \"text-align: right;\">0</td><td style = \"text-align: right;\">0</td><td style = \"text-align: right;\">0</td><td style = \"text-align: right;\">0</td><td style = \"text-align: right;\">2.261</td><td style = \"text-align: right;\">1.159</td><td style = \"text-align: right;\">1.14469e-12</td><td style = \"text-align: right;\">0.00171527</td><td style = \"text-align: right;\">0.0468267</td><td style = \"text-align: right;\">0.000855424</td><td style = \"text-align: right;\">1185</td><td style = \"text-align: right;\">60.2718</td><td style = \"text-align: right;\">25.1948</td><td style = \"text-align: left;\">Miilumäentie</td></tr><tr><td class = \"rowNumber\" style = \"font-weight: bold; text-align: right;\">2692</td><td style = \"text-align: right;\">1602201</td><td style = \"text-align: right;\">82760.6</td><td style = \"text-align: right;\">82938.0</td><td style = \"text-align: right;\">-0.213878</td><td style = \"text-align: right;\">-0.00214107</td><td style = \"text-align: right;\">0.245156</td><td style = \"text-align: right;\">0.244962</td><td style = \"text-align: right;\">0.0790169</td><td style = \"text-align: right;\">0.000789857</td><td style = \"text-align: right;\">58.6757</td><td style = \"text-align: right;\">245.585</td><td style = \"text-align: right;\">373.14</td><td style = \"text-align: right;\">1.31026</td><td style = \"text-align: right;\">53.0</td><td style = \"text-align: right;\">234.0</td><td style = \"text-align: right;\">372.0</td><td style = \"text-align: right;\">1.28855</td><td style = \"text-align: right;\">1.68499</td><td style = \"text-align: right;\">0.0167096</td><td style = \"text-align: right;\">3.433</td><td style = \"text-align: right;\">0.6082</td><td style = \"text-align: right;\">28</td><td style = \"text-align: right;\">2.951</td><td style = \"text-align: right;\">16.76</td><td style = \"text-align: right;\">12.095</td><td style = \"text-align: right;\">0</td><td style = \"text-align: right;\">0</td><td style = \"text-align: right;\">1</td><td style = \"text-align: right;\">0</td><td style = \"text-align: right;\">1</td><td style = \"text-align: right;\">1</td><td style = \"text-align: right;\">1</td><td style = \"text-align: right;\">1</td><td style = \"text-align: right;\">0</td><td style = \"text-align: right;\">0</td><td style = \"text-align: right;\">0</td><td style = \"text-align: right;\">0</td><td style = \"text-align: right;\">0</td><td style = \"text-align: right;\">1</td><td style = \"text-align: right;\">0</td><td style = \"text-align: right;\">0</td><td style = \"text-align: right;\">1</td><td style = \"text-align: right;\">0</td><td style = \"text-align: right;\">1.965</td><td style = \"text-align: right;\">1.468</td><td style = \"text-align: right;\">1.32223e-10</td><td style = \"text-align: right;\">0.0051458</td><td style = \"text-align: right;\">0.0544442</td><td style = \"text-align: right;\">0.0153314</td><td style = \"text-align: right;\">1188</td><td style = \"text-align: right;\">60.2609</td><td style = \"text-align: right;\">25.2099</td><td style = \"text-align: left;\">Sakarinmäen koulu</td></tr><tr><td class = \"rowNumber\" style = \"font-weight: bold; text-align: right;\">2693</td><td style = \"text-align: right;\">1602202</td><td style = \"text-align: right;\">60625.6</td><td style = \"text-align: right;\">82938.0</td><td style = \"text-align: right;\">-26.9025</td><td style = \"text-align: right;\">-0.313376</td><td style = \"text-align: right;\">0.273748</td><td style = \"text-align: right;\">0.244962</td><td style = \"text-align: right;\">11.7509</td><td style = \"text-align: right;\">0.111102</td><td style = \"text-align: right;\">697.69</td><td style = \"text-align: right;\">1618.6</td><td style = \"text-align: right;\">582.808</td><td style = \"text-align: right;\">1.42929</td><td style = \"text-align: right;\">53.0</td><td style = \"text-align: right;\">234.0</td><td style = \"text-align: right;\">372.0</td><td style = \"text-align: right;\">1.28855</td><td style = \"text-align: right;\">10.9224</td><td style = \"text-align: right;\">0.10366</td><td style = \"text-align: right;\">4.551</td><td style = \"text-align: right;\">0.6735</td><td style = \"text-align: right;\">41</td><td style = \"text-align: right;\">6.18</td><td style = \"text-align: right;\">16.767</td><td style = \"text-align: right;\">12.099</td><td style = \"text-align: right;\">0</td><td style = \"text-align: right;\">0</td><td style = \"text-align: right;\">1</td><td style = \"text-align: right;\">0</td><td style = \"text-align: right;\">1</td><td style = \"text-align: right;\">1</td><td style = \"text-align: right;\">1</td><td style = \"text-align: right;\">1</td><td style = \"text-align: right;\">1</td><td style = \"text-align: right;\">0</td><td style = \"text-align: right;\">0</td><td style = \"text-align: right;\">0</td><td style = \"text-align: right;\">0</td><td style = \"text-align: right;\">1</td><td style = \"text-align: right;\">0</td><td style = \"text-align: right;\">0</td><td style = \"text-align: right;\">1</td><td style = \"text-align: right;\">0</td><td style = \"text-align: right;\">1.981</td><td style = \"text-align: right;\">2.57</td><td style = \"text-align: right;\">1.32223e-10</td><td style = \"text-align: right;\">0.0051458</td><td style = \"text-align: right;\">0.0544442</td><td style = \"text-align: right;\">0.0153314</td><td style = \"text-align: right;\">1188</td><td style = \"text-align: right;\">60.261</td><td style = \"text-align: right;\">25.2099</td><td style = \"text-align: left;\">Sakarinmäen koulu</td></tr><tr><td class = \"rowNumber\" style = \"font-weight: bold; text-align: right;\">2694</td><td style = \"text-align: right;\">1602203</td><td style = \"text-align: right;\">82938.0</td><td style = \"text-align: right;\">82938.0</td><td style = \"text-align: right;\">0.0</td><td style = \"text-align: right;\">0.0</td><td style = \"text-align: right;\">0.244962</td><td style = \"text-align: right;\">0.244962</td><td style = \"text-align: right;\">0.0</td><td style = \"text-align: right;\">0.0</td><td style = \"text-align: right;\">53.0</td><td style = \"text-align: right;\">234.0</td><td style = \"text-align: right;\">372.0</td><td style = \"text-align: right;\">1.28855</td><td style = \"text-align: right;\">53.0</td><td style = \"text-align: right;\">234.0</td><td style = \"text-align: right;\">372.0</td><td style = \"text-align: right;\">1.28855</td><td style = \"text-align: right;\">0.0</td><td style = \"text-align: right;\">0.0</td><td style = \"text-align: right;\">2.44</td><td style = \"text-align: right;\">0.5208</td><td style = \"text-align: right;\">19</td><td style = \"text-align: right;\">1.918</td><td style = \"text-align: right;\">16.849</td><td style = \"text-align: right;\">12.014</td><td style = \"text-align: right;\">0</td><td style = \"text-align: right;\">0</td><td style = \"text-align: right;\">1</td><td style = \"text-align: right;\">0</td><td style = \"text-align: right;\">1</td><td style = \"text-align: right;\">0</td><td style = \"text-align: right;\">1</td><td style = \"text-align: right;\">1</td><td style = \"text-align: right;\">0</td><td style = \"text-align: right;\">0</td><td style = \"text-align: right;\">0</td><td style = \"text-align: right;\">0</td><td style = \"text-align: right;\">0</td><td style = \"text-align: right;\">1</td><td style = \"text-align: right;\">0</td><td style = \"text-align: right;\">0</td><td style = \"text-align: right;\">1</td><td style = \"text-align: right;\">0</td><td style = \"text-align: right;\">2.371</td><td style = \"text-align: right;\">0.069</td><td style = \"text-align: right;\">5.889e-12</td><td style = \"text-align: right;\">0.0025729</td><td style = \"text-align: right;\">0.049125</td><td style = \"text-align: right;\">0.00512887</td><td style = \"text-align: right;\">1187</td><td style = \"text-align: right;\">60.2709</td><td style = \"text-align: right;\">25.2018</td><td style = \"text-align: left;\">Landbo</td></tr><tr><td class = \"rowNumber\" style = \"font-weight: bold; text-align: right;\">2695</td><td style = \"text-align: right;\">1602204</td><td style = \"text-align: right;\">61713.6</td><td style = \"text-align: right;\">82938.0</td><td style = \"text-align: right;\">-25.5907</td><td style = \"text-align: right;\">-0.295589</td><td style = \"text-align: right;\">0.271242</td><td style = \"text-align: right;\">0.244962</td><td style = \"text-align: right;\">10.728</td><td style = \"text-align: right;\">0.101907</td><td style = \"text-align: right;\">683.444</td><td style = \"text-align: right;\">1569.12</td><td style = \"text-align: right;\">555.788</td><td style = \"text-align: right;\">1.42791</td><td style = \"text-align: right;\">53.0</td><td style = \"text-align: right;\">234.0</td><td style = \"text-align: right;\">372.0</td><td style = \"text-align: right;\">1.28855</td><td style = \"text-align: right;\">10.8153</td><td style = \"text-align: right;\">0.102695</td><td style = \"text-align: right;\">4.462</td><td style = \"text-align: right;\">0.6354</td><td style = \"text-align: right;\">39</td><td style = \"text-align: right;\">6.156</td><td style = \"text-align: right;\">16.953</td><td style = \"text-align: right;\">12.22</td><td style = \"text-align: right;\">0</td><td style = \"text-align: right;\">0</td><td style = \"text-align: right;\">1</td><td style = \"text-align: right;\">0</td><td style = \"text-align: right;\">1</td><td style = \"text-align: right;\">1</td><td style = \"text-align: right;\">1</td><td style = \"text-align: right;\">1</td><td style = \"text-align: right;\">1</td><td style = \"text-align: right;\">0</td><td style = \"text-align: right;\">0</td><td style = \"text-align: right;\">0</td><td style = \"text-align: right;\">0</td><td style = \"text-align: right;\">1</td><td style = \"text-align: right;\">0</td><td style = \"text-align: right;\">0</td><td style = \"text-align: right;\">1</td><td style = \"text-align: right;\">0</td><td style = \"text-align: right;\">1.685</td><td style = \"text-align: right;\">2.777</td><td style = \"text-align: right;\">3.02381e-11</td><td style = \"text-align: right;\">0.0025729</td><td style = \"text-align: right;\">0.0516515</td><td style = \"text-align: right;\">0.00683162</td><td style = \"text-align: right;\">1193</td><td style = \"text-align: right;\">60.2652</td><td style = \"text-align: right;\">25.2098</td><td style = \"text-align: left;\">Porvoonväylä</td></tr><tr><td class = \"rowNumber\" style = \"font-weight: bold; text-align: right;\">2696</td><td style = \"text-align: right;\">1602205</td><td style = \"text-align: right;\">82938.0</td><td style = \"text-align: right;\">82938.0</td><td style = \"text-align: right;\">0.0</td><td style = \"text-align: right;\">0.0</td><td style = \"text-align: right;\">0.244962</td><td style = \"text-align: right;\">0.244962</td><td style = \"text-align: right;\">0.0</td><td style = \"text-align: right;\">0.0</td><td style = \"text-align: right;\">53.0</td><td style = \"text-align: right;\">234.0</td><td style = \"text-align: right;\">372.0</td><td style = \"text-align: right;\">1.28855</td><td style = \"text-align: right;\">53.0</td><td style = \"text-align: right;\">234.0</td><td style = \"text-align: right;\">372.0</td><td style = \"text-align: right;\">1.28855</td><td style = \"text-align: right;\">0.0</td><td style = \"text-align: right;\">0.0</td><td style = \"text-align: right;\">2.386</td><td style = \"text-align: right;\">0.3561</td><td style = \"text-align: right;\">20</td><td style = \"text-align: right;\">1.643</td><td style = \"text-align: right;\">17.247</td><td style = \"text-align: right;\">12.271</td><td style = \"text-align: right;\">0</td><td style = \"text-align: right;\">0</td><td style = \"text-align: right;\">1</td><td style = \"text-align: right;\">0</td><td style = \"text-align: right;\">1</td><td style = \"text-align: right;\">1</td><td style = \"text-align: right;\">1</td><td style = \"text-align: right;\">1</td><td style = \"text-align: right;\">0</td><td style = \"text-align: right;\">0</td><td style = \"text-align: right;\">0</td><td style = \"text-align: right;\">0</td><td style = \"text-align: right;\">0</td><td style = \"text-align: right;\">1</td><td style = \"text-align: right;\">0</td><td style = \"text-align: right;\">0</td><td style = \"text-align: right;\">0</td><td style = \"text-align: right;\">0</td><td style = \"text-align: right;\">1.276</td><td style = \"text-align: right;\">1.11</td><td style = \"text-align: right;\">2.93339e-11</td><td style = \"text-align: right;\">0.00171527</td><td style = \"text-align: right;\">0.0516423</td><td style = \"text-align: right;\">0.0</td><td style = \"text-align: right;\">1194</td><td style = \"text-align: right;\">60.2825</td><td style = \"text-align: right;\">25.1965</td><td style = \"text-align: left;\">Rajapysäkki</td></tr></tbody></table></div>"
      ],
      "text/latex": [
       "\\begin{tabular}{r|cccccc}\n",
       "\t& stop\\_id & weighted\\_med\\_inc\\_multi & weighted\\_med\\_inc\\_walk & percent\\_change\\_income & log\\_change\\_income & \\\\\n",
       "\t\\hline\n",
       "\t& Int64 & Float64 & Float64 & Float64 & Float64 & \\\\\n",
       "\t\\hline\n",
       "\t1 & 1010102 & 49133.7 & 51163.7 & -3.9677 & -0.0404856 & $\\dots$ \\\\\n",
       "\t2 & 1010103 & 46938.1 & 50411.7 & -6.89063 & -0.0713953 & $\\dots$ \\\\\n",
       "\t3 & 1010105 & 44797.6 & 49264.6 & -9.06738 & -0.0950514 & $\\dots$ \\\\\n",
       "\t4 & 1010106 & 48715.5 & 48795.5 & -0.163972 & -0.00164106 & $\\dots$ \\\\\n",
       "\t5 & 1010107 & 45393.7 & 47427.0 & -4.28717 & -0.0438178 & $\\dots$ \\\\\n",
       "\t6 & 1010108 & 45128.7 & 47410.2 & -4.81231 & -0.0493196 & $\\dots$ \\\\\n",
       "\t7 & 1010109 & 44097.0 & 46945.3 & -6.06718 & -0.0625904 & $\\dots$ \\\\\n",
       "\t8 & 1010110 & 44862.4 & 46748.4 & -4.03417 & -0.041178 & $\\dots$ \\\\\n",
       "\t9 & 1010115 & 48668.1 & 51182.6 & -4.91274 & -0.0503752 & $\\dots$ \\\\\n",
       "\t10 & 1010124 & 42310.9 & 47439.2 & -10.8101 & -0.114403 & $\\dots$ \\\\\n",
       "\t11 & 1010125 & 40706.3 & 47176.4 & -13.7146 & -0.14751 & $\\dots$ \\\\\n",
       "\t12 & 1010128 & 43628.2 & 47814.6 & -8.75542 & -0.0916266 & $\\dots$ \\\\\n",
       "\t13 & 1010180 & 50305.2 & 50527.4 & -0.439832 & -0.00440802 & $\\dots$ \\\\\n",
       "\t14 & 1010419 & 45171.4 & 50386.3 & -10.3498 & -0.109255 & $\\dots$ \\\\\n",
       "\t15 & 1010420 & 41345.3 & 50324.1 & -17.8419 & -0.196525 & $\\dots$ \\\\\n",
       "\t16 & 1010421 & 40983.3 & 49508.4 & -17.2196 & -0.188979 & $\\dots$ \\\\\n",
       "\t17 & 1010422 & 44364.4 & 49723.8 & -10.7782 & -0.114045 & $\\dots$ \\\\\n",
       "\t18 & 1010424 & 45978.0 & 51082.5 & -9.99263 & -0.105279 & $\\dots$ \\\\\n",
       "\t19 & 1010425 & 49654.7 & 50973.0 & -2.58633 & -0.0262037 & $\\dots$ \\\\\n",
       "\t20 & 1010427 & 40635.0 & 47176.4 & -13.8659 & -0.149264 & $\\dots$ \\\\\n",
       "\t21 & 1010428 & 43071.8 & 47439.2 & -9.20613 & -0.0965785 & $\\dots$ \\\\\n",
       "\t22 & 1020100 & 43080.3 & 47869.4 & -10.0045 & -0.105411 & $\\dots$ \\\\\n",
       "\t23 & 1020101 & 43077.8 & 47862.3 & -9.99648 & -0.105321 & $\\dots$ \\\\\n",
       "\t24 & 1020105 & 39854.3 & 45896.6 & -13.1649 & -0.14116 & $\\dots$ \\\\\n",
       "\t25 & 1020106 & 41298.3 & 47313.4 & -12.7135 & -0.135974 & $\\dots$ \\\\\n",
       "\t26 & 1020112 & 43080.1 & 48367.8 & -10.9324 & -0.115775 & $\\dots$ \\\\\n",
       "\t27 & 1020113 & 42835.8 & 48538.4 & -11.7485 & -0.12498 & $\\dots$ \\\\\n",
       "\t28 & 1020115 & 42124.0 & 48207.8 & -12.6199 & -0.134902 & $\\dots$ \\\\\n",
       "\t29 & 1020116 & 42765.2 & 48338.8 & -11.5303 & -0.12251 & $\\dots$ \\\\\n",
       "\t30 & 1020117 & 42989.5 & 48231.4 & -10.8682 & -0.115055 & $\\dots$ \\\\\n",
       "\t$\\dots$ & $\\dots$ & $\\dots$ & $\\dots$ & $\\dots$ & $\\dots$ &  \\\\\n",
       "\\end{tabular}\n"
      ],
      "text/plain": [
       "\u001b[1m2696×53 DataFrame\u001b[0m\n",
       "\u001b[1m  Row \u001b[0m│\u001b[1m stop_id \u001b[0m\u001b[1m weighted_med_inc_multi \u001b[0m\u001b[1m weighted_med_inc_walk \u001b[0m\u001b[1m percent_change\u001b[0m ⋯\n",
       "      │\u001b[90m Int64   \u001b[0m\u001b[90m Float64                \u001b[0m\u001b[90m Float64               \u001b[0m\u001b[90m Float64       \u001b[0m ⋯\n",
       "──────┼─────────────────────────────────────────────────────────────────────────\n",
       "    1 │ 1010102                 49133.7                51163.7              -3 ⋯\n",
       "    2 │ 1010103                 46938.1                50411.7              -6\n",
       "    3 │ 1010105                 44797.6                49264.6              -9\n",
       "    4 │ 1010106                 48715.5                48795.5              -0\n",
       "    5 │ 1010107                 45393.7                47427.0              -4 ⋯\n",
       "    6 │ 1010108                 45128.7                47410.2              -4\n",
       "    7 │ 1010109                 44097.0                46945.3              -6\n",
       "    8 │ 1010110                 44862.4                46748.4              -4\n",
       "    9 │ 1010115                 48668.1                51182.6              -4 ⋯\n",
       "   10 │ 1010124                 42310.9                47439.2             -10\n",
       "   11 │ 1010125                 40706.3                47176.4             -13\n",
       "  ⋮   │    ⋮               ⋮                       ⋮                      ⋮    ⋱\n",
       " 2687 │ 1602101                 82938.0                82938.0               0\n",
       " 2688 │ 1602102                 82769.8                82938.0              -0 ⋯\n",
       " 2689 │ 1602109                 82938.0                82938.0               0\n",
       " 2690 │ 1602110                 82938.0                82938.0               0\n",
       " 2691 │ 1602111                 82759.9                82938.0              -0\n",
       " 2692 │ 1602201                 82760.6                82938.0              -0 ⋯\n",
       " 2693 │ 1602202                 60625.6                82938.0             -26\n",
       " 2694 │ 1602203                 82938.0                82938.0               0\n",
       " 2695 │ 1602204                 61713.6                82938.0             -25\n",
       " 2696 │ 1602205                 82938.0                82938.0               0 ⋯\n",
       "\u001b[36m                                                50 columns and 2675 rows omitted\u001b[0m"
      ]
     },
     "execution_count": 181,
     "metadata": {},
     "output_type": "execute_result"
    }
   ],
   "source": [
    "is_there_amenity(x) = x > 0 ? 1 : 0\n",
    "bp = bp[!, cols] .= is_there_amenity.(bp[!, cols])\n",
    "madrid = madrid[!, cols] .= is_there_amenity.(madrid[!, cols])\n",
    "helsinki = helsinki[!, cols] .= is_there_amenity.(helsinki[!, cols])"
   ]
  },
  {
   "cell_type": "code",
   "execution_count": null,
   "id": "d4f7889d",
   "metadata": {},
   "outputs": [
    {
     "data": {
      "text/plain": [
       "2654-element Vector{Int64}:\n",
       " 1\n",
       " 1\n",
       " 1\n",
       " 1\n",
       " 1\n",
       " 1\n",
       " 1\n",
       " 1\n",
       " 1\n",
       " 1\n",
       " 1\n",
       " 1\n",
       " 1\n",
       " ⋮\n",
       " 1\n",
       " 1\n",
       " 1\n",
       " 1\n",
       " 1\n",
       " 1\n",
       " 1\n",
       " 1\n",
       " 1\n",
       " 1\n",
       " 1\n",
       " 1"
      ]
     },
     "execution_count": 171,
     "metadata": {},
     "output_type": "execute_result"
    }
   ],
   "source": [
    "# is_there_amenity.(bp[!,:drugstores_multimodal]);"
   ]
  },
  {
   "cell_type": "code",
   "execution_count": null,
   "id": "ba5a9e45",
   "metadata": {},
   "outputs": [],
   "source": [
    "# bp = filter(row ->\n",
    "#     row.cultural_institutions_multimodal > 0\n",
    "#     && row.drugstores_multimodal > 0\n",
    "#     && row.groceries_multimodal > 0\n",
    "#     && row.healthcare_multimodal > 0\n",
    "#     && row.parks_multimodal > 0\n",
    "#     && row.religious_organizations_multimodal > 0\n",
    "#     && row.restaurants_multimodal > 0\n",
    "#     && row.schools_multimodal > 0\n",
    "#     && row.services_multimodal > 0\n",
    "#     && row.cultural_institutions_walk15 > 0\n",
    "#     && row.drugstores_walk15 > 0\n",
    "#     && row.groceries_walk15 > 0\n",
    "#     && row.healthcare_walk15 > 0\n",
    "#     && row.parks_walk15 > 0\n",
    "#     && row.religious_organizations_walk15 > 0\n",
    "#     && row.restaurants_walk15 > 0\n",
    "#     && row.schools_walk15 > 0\n",
    "#     && row.services_walk15 > 0,\n",
    "#     bp\n",
    "# )\n",
    "# helsinki = filter(row ->\n",
    "#     row.cultural_institutions_multimodal > 0\n",
    "#     && row.drugstores_multimodal > 0\n",
    "#     && row.groceries_multimodal > 0\n",
    "#     && row.healthcare_multimodal > 0\n",
    "#     && row.parks_multimodal > 0\n",
    "#     && row.religious_organizations_multimodal > 0\n",
    "#     && row.restaurants_multimodal > 0\n",
    "#     && row.schools_multimodal > 0\n",
    "#     && row.services_multimodal > 0\n",
    "#     && row.cultural_institutions_walk15 > 0\n",
    "#     && row.drugstores_walk15 > 0\n",
    "#     && row.groceries_walk15 > 0\n",
    "#     && row.healthcare_walk15 > 0\n",
    "#     && row.parks_walk15 > 0\n",
    "#     && row.religious_organizations_walk15 > 0\n",
    "#     && row.restaurants_walk15 > 0\n",
    "#     && row.schools_walk15 > 0\n",
    "#     && row.services_walk15 > 0,\n",
    "#     helsinki\n",
    "# )\n",
    "# madrid = filter(row ->\n",
    "#     row.cultural_institutions_multimodal > 0\n",
    "#     && row.drugstores_multimodal > 0\n",
    "#     && row.groceries_multimodal > 0\n",
    "#     && row.healthcare_multimodal > 0\n",
    "#     && row.parks_multimodal > 0\n",
    "#     && row.religious_organizations_multimodal > 0\n",
    "#     && row.restaurants_multimodal > 0\n",
    "#     && row.schools_multimodal > 0\n",
    "#     && row.services_multimodal > 0\n",
    "#     && row.cultural_institutions_walk15 > 0\n",
    "#     && row.drugstores_walk15 > 0\n",
    "#     && row.groceries_walk15 > 0\n",
    "#     && row.healthcare_walk15 > 0\n",
    "#     && row.parks_walk15 > 0\n",
    "#     && row.religious_organizations_walk15 > 0\n",
    "#     && row.restaurants_walk15 > 0\n",
    "#     && row.schools_walk15 > 0\n",
    "#     && row.services_walk15 > 0,\n",
    "#     madrid\n",
    "# )\n",
    "# ;"
   ]
  },
  {
   "cell_type": "code",
   "execution_count": null,
   "id": "e0d035c9",
   "metadata": {},
   "outputs": [],
   "source": [
    "bp.walk_sum =\n",
    "    bp.cultural_institutions_walk15 .+ bp.drugstores_walk15 .+ bp.groceries_walk15 .+\n",
    "    bp.healthcare_walk15 .+ bp.parks_walk15 .+ bp.religious_organizations_walk15 .+\n",
    "    bp.restaurants_walk15 .+ bp.schools_walk15 .+ bp.services_walk15\n",
    ";\n",
    "bp.multimod_sum =\n",
    "    bp.cultural_institutions_multimodal .+ bp.drugstores_multimodal .+\n",
    "    bp.groceries_multimodal .+ bp.healthcare_multimodal .+ bp.parks_multimodal .+\n",
    "    bp.religious_organizations_multimodal .+ bp.restaurants_multimodal .+\n",
    "    bp.schools_multimodal .+ bp.services_multimodal\n",
    ";\n",
    "helsinki.walk_sum =\n",
    "    helsinki.cultural_institutions_walk15 .+ helsinki.drugstores_walk15 .+\n",
    "    helsinki.groceries_walk15 .+ helsinki.healthcare_walk15 .+ helsinki.parks_walk15 .+\n",
    "    helsinki.religious_organizations_walk15 .+ helsinki.restaurants_walk15 .+\n",
    "    helsinki.schools_walk15 .+ helsinki.services_walk15\n",
    ";\n",
    "helsinki.multimod_sum =\n",
    "    helsinki.cultural_institutions_multimodal .+ helsinki.drugstores_multimodal .+\n",
    "    helsinki.groceries_multimodal .+ helsinki.healthcare_multimodal .+\n",
    "    helsinki.parks_multimodal .+ helsinki.religious_organizations_multimodal .+\n",
    "    helsinki.restaurants_multimodal .+ helsinki.schools_multimodal .+\n",
    "    helsinki.services_multimodal\n",
    ";\n",
    "madrid.walk_sum =\n",
    "    madrid.cultural_institutions_walk15 .+ madrid.drugstores_walk15 .+\n",
    "    madrid.groceries_walk15 .+ madrid.healthcare_walk15 .+ madrid.parks_walk15 .+\n",
    "    madrid.religious_organizations_walk15 .+ madrid.restaurants_walk15 .+\n",
    "    madrid.schools_walk15 .+ madrid.services_walk15\n",
    ";\n",
    "madrid.multimod_sum =\n",
    "    madrid.cultural_institutions_multimodal .+ madrid.drugstores_multimodal .+\n",
    "    madrid.groceries_multimodal .+ madrid.healthcare_multimodal .+ madrid.parks_multimodal .+\n",
    "    madrid.religious_organizations_multimodal .+ madrid.restaurants_multimodal .+\n",
    "    madrid.schools_multimodal .+ madrid.services_multimodal\n",
    ";\n"
   ]
  },
  {
   "cell_type": "code",
   "execution_count": 183,
   "id": "1dc59580",
   "metadata": {},
   "outputs": [],
   "source": [
    "# Main regressions without interactions\n",
    "\n",
    "bp.gini_diff = bp.gini_multimodal .- bp.gini_walk15\n",
    "bp.gini_diff_house = bp.gini_house_multimodal .- bp.gini_house_walk15\n",
    "\n",
    "helsinki.gini_diff = helsinki.weighted_gini_multi .- helsinki.weighted_gini_walk\n",
    "madrid.gini_diff = madrid.weighted_gini_multi .- madrid.weighted_gini_walk\n",
    "\n",
    "\n",
    "bp.access_diff = bp.multimod_sum .- bp.walk_sum\n",
    "madrid.access_diff = madrid.multimod_sum .- madrid.walk_sum\n",
    "helsinki.access_diff = helsinki.multimod_sum .- helsinki.walk_sum\n",
    ";"
   ]
  },
  {
   "cell_type": "code",
   "execution_count": 184,
   "id": "d025234e",
   "metadata": {},
   "outputs": [
    {
     "data": {
      "text/plain": [
       "\"bp.jl.csv\""
      ]
     },
     "execution_count": 184,
     "metadata": {},
     "output_type": "execute_result"
    }
   ],
   "source": [
    "CSV.write(\"bp.jl.csv\", bp)"
   ]
  },
  {
   "cell_type": "code",
   "execution_count": null,
   "id": "f3c7627f",
   "metadata": {},
   "outputs": [
    {
     "data": {
      "text/plain": [
       "StatsModels.TableRegressionModel{LinearModel{GLM.LmResp{Vector{Float64}}, GLM.DensePredChol{Float64, LinearAlgebra.CholeskyPivoted{Float64, Matrix{Float64}, Vector{Int64}}}}, Matrix{Float64}}\n",
       "\n",
       "gini_diff ~ 1 + gini_walk15 + area_difference + ellipticity + distance_betweenness\n",
       "\n",
       "Coefficients:\n",
       "────────────────────────────────────────────────────────────────────────────────────────────\n",
       "                            Coef.   Std. Error       t  Pr(>|t|)     Lower 95%     Upper 95%\n",
       "────────────────────────────────────────────────────────────────────────────────────────────\n",
       "(Intercept)            0.0755072   0.00205188    36.80    <1e-99   0.0714845     0.0795299\n",
       "gini_walk15           -0.342529    0.00856171   -40.01    <1e-99  -0.359314     -0.325744\n",
       "area_difference        6.98962e-5  0.000132644    0.53    0.5983  -0.000190153   0.000329945\n",
       "ellipticity            0.0161454   0.00148294    10.89    <1e-26   0.0132381     0.0190527\n",
       "distance_betweenness  -0.00332919  9.77919e-5   -34.04    <1e-99  -0.00352091   -0.00313747\n",
       "────────────────────────────────────────────────────────────────────────────────────────────"
      ]
     },
     "execution_count": 185,
     "metadata": {},
     "output_type": "execute_result"
    }
   ],
   "source": [
    "# bp1_noint=lm(gini_diff ~\n",
    "#                gini_walk15+\n",
    "#                area_difference+\n",
    "#                ellipticity+\n",
    "#                distance_betweenness,\n",
    "#              data=bp)\n",
    "\n",
    "bp1_noint = lm(\n",
    "    @formula(\n",
    "        gini_diff ~ gini_walk15 + area_difference + ellipticity + distance_betweenness\n",
    "    ),\n",
    "    bp,\n",
    ")\n"
   ]
  },
  {
   "cell_type": "code",
   "execution_count": null,
   "id": "c9064426",
   "metadata": {},
   "outputs": [
    {
     "data": {
      "text/plain": [
       "StatsModels.TableRegressionModel{LinearModel{GLM.LmResp{Vector{Float64}}, GLM.DensePredChol{Float64, LinearAlgebra.CholeskyPivoted{Float64, Matrix{Float64}, Vector{Int64}}}}, Matrix{Float64}}\n",
       "\n",
       "gini_diff_house ~ 1 + gini_walk15 + area_difference + ellipticity + distance_betweenness\n",
       "\n",
       "Coefficients:\n",
       "────────────────────────────────────────────────────────────────────────────────────────────\n",
       "                             Coef.   Std. Error      t  Pr(>|t|)     Lower 95%     Upper 95%\n",
       "────────────────────────────────────────────────────────────────────────────────────────────\n",
       "(Intercept)            0.00236003   0.0031714     0.74    0.4568  -0.00385751    0.00857756\n",
       "gini_walk15            0.0917521    0.0132331     6.93    <1e-11   0.0658087     0.117696\n",
       "area_difference        0.00128462   0.000205016   6.27    <1e-09   0.000882687   0.00168656\n",
       "ellipticity            0.00113118   0.00229205    0.49    0.6217  -0.00336239    0.00562475\n",
       "distance_betweenness  -0.000950724  0.000151148  -6.29    <1e-09  -0.00124705   -0.000654398\n",
       "────────────────────────────────────────────────────────────────────────────────────────────"
      ]
     },
     "execution_count": 186,
     "metadata": {},
     "output_type": "execute_result"
    }
   ],
   "source": [
    "# bp2_noint=lm(bp$gini_diff_house ~\n",
    "#                gini_walk15+\n",
    "#                area_difference+\n",
    "#                ellipticity+\n",
    "#                distance_betweenness,\n",
    "#              data=bp)\n",
    "bp2_noint = lm(\n",
    "    @formula(\n",
    "        gini_diff_house ~\n",
    "        gini_walk15 + area_difference + ellipticity + distance_betweenness\n",
    "    ),\n",
    "    bp,\n",
    ")\n"
   ]
  },
  {
   "cell_type": "code",
   "execution_count": null,
   "id": "a0d266e6",
   "metadata": {},
   "outputs": [
    {
     "data": {
      "text/plain": [
       "StatsModels.TableRegressionModel{LinearModel{GLM.LmResp{Vector{Float64}}, GLM.DensePredChol{Float64, LinearAlgebra.CholeskyPivoted{Float64, Matrix{Float64}, Vector{Int64}}}}, Matrix{Float64}}\n",
       "\n",
       "gini_diff ~ 1 + weighted_gini_walk + area_difference + ellipticity + distance_betweenness\n",
       "\n",
       "Coefficients:\n",
       "────────────────────────────────────────────────────────────────────────────────────────────\n",
       "                             Coef.  Std. Error       t  Pr(>|t|)     Lower 95%     Upper 95%\n",
       "────────────────────────────────────────────────────────────────────────────────────────────\n",
       "(Intercept)            0.134816     0.0030788    43.79    <1e-99   0.128779      0.140853\n",
       "weighted_gini_walk    -0.420133     0.0093998   -44.70    <1e-99  -0.438565     -0.401702\n",
       "area_difference        0.000135629  6.06152e-5    2.24    0.0253   1.67715e-5    0.000254486\n",
       "ellipticity           -0.000761388  0.001023     -0.74    0.4568  -0.00276734    0.00124456\n",
       "distance_betweenness  -0.000172356  5.94224e-5   -2.90    0.0038  -0.000288874  -5.58374e-5\n",
       "────────────────────────────────────────────────────────────────────────────────────────────"
      ]
     },
     "execution_count": 187,
     "metadata": {},
     "output_type": "execute_result"
    }
   ],
   "source": [
    "# helsinki1_noint=lm(gini_diff ~\n",
    "#                      weighted_gini_walk+\n",
    "#                      area_difference+\n",
    "#                      ellipticity+\n",
    "#                      distance_betweenness,\n",
    "#                    data=helsinki)\n",
    "helsinki1_noint = lm(\n",
    "    @formula(\n",
    "        gini_diff ~\n",
    "        weighted_gini_walk + area_difference + ellipticity + distance_betweenness\n",
    "    ),\n",
    "    helsinki,\n",
    ")\n"
   ]
  },
  {
   "cell_type": "code",
   "execution_count": null,
   "id": "d862db1f",
   "metadata": {},
   "outputs": [
    {
     "data": {
      "text/plain": [
       "StatsModels.TableRegressionModel{LinearModel{GLM.LmResp{Vector{Float64}}, GLM.DensePredChol{Float64, LinearAlgebra.CholeskyPivoted{Float64, Matrix{Float64}, Vector{Int64}}}}, Matrix{Float64}}\n",
       "\n",
       "gini_diff ~ 1 + weighted_gini_walk + area_difference + ellipticity + distance_betweenness\n",
       "\n",
       "Coefficients:\n",
       "───────────────────────────────────────────────────────────────────────────────────────\n",
       "                           Coef.  Std. Error       t  Pr(>|t|)   Lower 95%    Upper 95%\n",
       "───────────────────────────────────────────────────────────────────────────────────────\n",
       "(Intercept)            6.35123    0.171134     37.11    <1e-99   6.01574     6.68673\n",
       "weighted_gini_walk    -0.178915   0.00470709  -38.01    <1e-99  -0.188143   -0.169687\n",
       "area_difference       -0.0144015  0.0103702    -1.39    0.1650  -0.0347314   0.00592842\n",
       "ellipticity           -0.222714   0.0849451    -2.62    0.0088  -0.389242   -0.0561854\n",
       "distance_betweenness  -0.0809069  0.00592679  -13.65    <1e-40  -0.0925259  -0.0692879\n",
       "───────────────────────────────────────────────────────────────────────────────────────"
      ]
     },
     "execution_count": 188,
     "metadata": {},
     "output_type": "execute_result"
    }
   ],
   "source": [
    "# madrid1_noint=lm(gini_diff ~\n",
    "#                    weighted_gini_walk+\n",
    "#                    area_difference+\n",
    "#                    ellipticity+\n",
    "#                    distance_betweenness,\n",
    "#                  data=madrid)\n",
    "madrid1_noint = lm(\n",
    "    @formula(\n",
    "        gini_diff ~\n",
    "        weighted_gini_walk + area_difference + ellipticity + distance_betweenness\n",
    "    ),\n",
    "    madrid,\n",
    ")\n"
   ]
  },
  {
   "cell_type": "code",
   "execution_count": null,
   "id": "a207cdb1",
   "metadata": {},
   "outputs": [
    {
     "data": {
      "text/plain": [
       "StatsModels.TableRegressionModel{LinearModel{GLM.LmResp{Vector{Float64}}, GLM.DensePredChol{Float64, LinearAlgebra.CholeskyPivoted{Float64, Matrix{Float64}, Vector{Int64}}}}, Matrix{Float64}}\n",
       "\n",
       "access_diff ~ 1 + walk_sum + area_difference + ellipticity + distance_betweenness\n",
       "\n",
       "Coefficients:\n",
       "────────────────────────────────────────────────────────────────────────────────────────\n",
       "                           Coef.  Std. Error        t  Pr(>|t|)   Lower 95%    Upper 95%\n",
       "────────────────────────────────────────────────────────────────────────────────────────\n",
       "(Intercept)            7.81914    0.0630147    124.08    <1e-99   7.6956      7.94268\n",
       "walk_sum              -0.871587   0.00552744  -157.68    <1e-99  -0.882424   -0.860751\n",
       "area_difference        0.0521302  0.00369288    14.12    <1e-43   0.0448903   0.0593701\n",
       "ellipticity           -0.150181   0.0421979     -3.56    0.0004  -0.23291    -0.067452\n",
       "distance_betweenness  -0.0143395  0.00224907    -6.38    <1e-09  -0.0187488  -0.00993018\n",
       "────────────────────────────────────────────────────────────────────────────────────────"
      ]
     },
     "execution_count": 189,
     "metadata": {},
     "output_type": "execute_result"
    }
   ],
   "source": [
    "# bp1a_noint=lm(access_diff ~\n",
    "#                 walk_sum+\n",
    "#                 area_difference+\n",
    "#                 ellipticity+\n",
    "#                 distance_betweenness,\n",
    "#               data=bp)\n",
    "bp1a_noint = lm(\n",
    "    @formula(access_diff ~ walk_sum + area_difference + ellipticity + distance_betweenness),\n",
    "    bp,\n",
    ")\n"
   ]
  },
  {
   "cell_type": "code",
   "execution_count": null,
   "id": "2c25d456",
   "metadata": {},
   "outputs": [
    {
     "data": {
      "text/plain": [
       "StatsModels.TableRegressionModel{LinearModel{GLM.LmResp{Vector{Float64}}, GLM.DensePredChol{Float64, LinearAlgebra.CholeskyPivoted{Float64, Matrix{Float64}, Vector{Int64}}}}, Matrix{Float64}}\n",
       "\n",
       "access_diff ~ 1 + walk_sum + area_difference + ellipticity + distance_betweenness\n",
       "\n",
       "Coefficients:\n",
       "──────────────────────────────────────────────────────────────────────────────────────\n",
       "                           Coef.  Std. Error       t  Pr(>|t|)   Lower 95%   Upper 95%\n",
       "──────────────────────────────────────────────────────────────────────────────────────\n",
       "(Intercept)            6.43826    0.0994535    64.74    <1e-99   6.24324     6.63327\n",
       "walk_sum              -0.754409   0.0100793   -74.85    <1e-99  -0.774173   -0.734645\n",
       "area_difference        0.0830943  0.00435907   19.06    <1e-75   0.0745469   0.0916418\n",
       "ellipticity            0.26535    0.0736195     3.60    0.0003   0.120993    0.409706\n",
       "distance_betweenness  -0.0471888  0.00469146  -10.06    <1e-22  -0.056388   -0.0379896\n",
       "──────────────────────────────────────────────────────────────────────────────────────"
      ]
     },
     "execution_count": 190,
     "metadata": {},
     "output_type": "execute_result"
    }
   ],
   "source": [
    "# helsinki1a_noint=lm(access_diff ~\n",
    "#                       walk_sum+\n",
    "#                       area_difference+\n",
    "#                       ellipticity+\n",
    "#                       distance_betweenness,\n",
    "#                     data=helsinki)\n",
    "helsinki1a_noint = lm(\n",
    "    @formula(access_diff ~ walk_sum + area_difference + ellipticity + distance_betweenness),\n",
    "    helsinki,\n",
    ")\n"
   ]
  },
  {
   "cell_type": "code",
   "execution_count": null,
   "id": "7ecff255",
   "metadata": {},
   "outputs": [
    {
     "data": {
      "text/plain": [
       "StatsModels.TableRegressionModel{LinearModel{GLM.LmResp{Vector{Float64}}, GLM.DensePredChol{Float64, LinearAlgebra.CholeskyPivoted{Float64, Matrix{Float64}, Vector{Int64}}}}, Matrix{Float64}}\n",
       "\n",
       "access_diff ~ 1 + walk_sum + area_difference + ellipticity + distance_betweenness\n",
       "\n",
       "Coefficients:\n",
       "──────────────────────────────────────────────────────────────────────────────────────\n",
       "                           Coef.  Std. Error       t  Pr(>|t|)   Lower 95%   Upper 95%\n",
       "──────────────────────────────────────────────────────────────────────────────────────\n",
       "(Intercept)            5.10217    0.0837467    60.92    <1e-99   4.93799     5.26635\n",
       "walk_sum              -0.570749   0.00815176  -70.02    <1e-99  -0.58673    -0.554768\n",
       "area_difference        0.0918017  0.00510078   18.00    <1e-69   0.081802    0.101801\n",
       "ellipticity            0.0950967  0.0420187     2.26    0.0237   0.0127225   0.177471\n",
       "distance_betweenness  -0.0418843  0.0031428   -13.33    <1e-39  -0.0480455  -0.0357231\n",
       "──────────────────────────────────────────────────────────────────────────────────────"
      ]
     },
     "execution_count": 191,
     "metadata": {},
     "output_type": "execute_result"
    }
   ],
   "source": [
    "# madrid1a_noint=lm(access_diff ~\n",
    "#                     walk_sum+\n",
    "#                     area_difference+\n",
    "#                     ellipticity+\n",
    "#                     distance_betweenness,\n",
    "#                   data=madrid)\n",
    "madrid1a_noint = lm(\n",
    "    @formula(access_diff ~ walk_sum + area_difference + ellipticity + distance_betweenness),\n",
    "    madrid,\n",
    ")\n"
   ]
  },
  {
   "cell_type": "code",
   "execution_count": null,
   "id": "19386c40",
   "metadata": {},
   "outputs": [],
   "source": [
    "# h1a = helsinki1a_noint\n",
    "# m1a = madrid1a_noint\n",
    "# h1 = helsinki1_noint\n",
    "# m1 = madrid1_noint\n",
    "# b1a = bp1a_noint\n",
    "# b1 = bp1_noint\n",
    "# b2 = bp2_noint\n",
    "\n",
    "# stargazer(h1a, m1a, b1a, h1, m1, b2, b1,\n",
    "#           type=\"latex\",\n",
    "#           style=\"aer\",\n",
    "#           column.labels = c(\"Helsinki - Access\",\n",
    "#                             \"Madrid - Access\",\n",
    "#                             \"BP - Access\",\n",
    "#                             \"Helsinki - Gini\",\n",
    "#                             \"Madrid - Gini\",\n",
    "#                             \"BP residential - Gini\",\n",
    "#                             \"BP experienced - Gini\"),\n",
    "#           dep.var.labels.include = F,\n",
    "#           out=\"SI_Reg_1_noint.tex\")"
   ]
  },
  {
   "cell_type": "code",
   "execution_count": null,
   "id": "e7c0666f",
   "metadata": {},
   "outputs": [
    {
     "data": {
      "text/plain": [
       "\n",
       "--------------------------------------------------------------------------------------------------------------\n",
       "                                  access_diff                    gini_diff         gini_diff_house   gini_diff\n",
       "                       ---------------------------------   ---------------------   ---------------   ---------\n",
       "                             (1)         (2)         (3)         (4)         (5)               (6)         (7)\n",
       "--------------------------------------------------------------------------------------------------------------\n",
       "(Intercept)             6.438***    5.102***    7.819***    0.135***    6.351***             0.002    0.076***\n",
       "                         (0.099)     (0.084)     (0.063)     (0.003)     (0.171)           (0.003)     (0.002)\n",
       "walk_sum               -0.754***   -0.571***   -0.872***                                                      \n",
       "                         (0.010)     (0.008)     (0.006)                                                      \n",
       "area_difference         0.083***    0.092***    0.052***      0.000*      -0.014          0.001***       0.000\n",
       "                         (0.004)     (0.005)     (0.004)     (0.000)     (0.010)           (0.000)     (0.000)\n",
       "ellipticity             0.265***      0.095*   -0.150***      -0.001    -0.223**             0.001    0.016***\n",
       "                         (0.074)     (0.042)     (0.042)     (0.001)     (0.085)           (0.002)     (0.001)\n",
       "distance_betweenness   -0.047***   -0.042***   -0.014***    -0.000**   -0.081***         -0.001***   -0.003***\n",
       "                         (0.005)     (0.003)     (0.002)     (0.000)     (0.006)           (0.000)     (0.000)\n",
       "weighted_gini_walk                                         -0.420***   -0.179***                              \n",
       "                                                             (0.009)     (0.005)                              \n",
       "gini_walk15                                                                               0.092***   -0.343***\n",
       "                                                                                           (0.013)     (0.009)\n",
       "--------------------------------------------------------------------------------------------------------------\n",
       "N                          2,694       5,212       4,424       2,694       5,212             4,424       4,424\n",
       "R2                         0.706       0.515       0.870       0.439       0.221             0.073       0.303\n",
       "--------------------------------------------------------------------------------------------------------------\n",
       "\n"
      ]
     },
     "execution_count": 192,
     "metadata": {},
     "output_type": "execute_result"
    }
   ],
   "source": [
    "regtable(\n",
    "    helsinki1a_noint,\n",
    "    madrid1a_noint,\n",
    "    bp1a_noint,\n",
    "    helsinki1_noint,\n",
    "    madrid1_noint,\n",
    "    bp2_noint,\n",
    "    bp1_noint;\n",
    "    render = AsciiTable(),\n",
    "    group = false,\n",
    "    # labels=Dict(\"access_diff\" => \"Helsinki - Access\")\n",
    ")\n"
   ]
  },
  {
   "cell_type": "code",
   "execution_count": null,
   "id": "779add73",
   "metadata": {},
   "outputs": [
    {
     "ename": "LoadError",
     "evalue": "syntax: invalid keyword argument name \"\"Only x1\"\" around In[95]:6",
     "output_type": "error",
     "traceback": [
      "syntax: invalid keyword argument name \"\"Only x1\"\" around In[95]:6",
      "",
      "Stacktrace:",
      " [1] top-level scope",
      "   @ In[95]:6"
     ]
    }
   ],
   "source": [
    "df = DataFrame(y = randn(100), x1 = randn(100), x2 = randn(100))\n",
    "\n",
    "m1 = lm(@formula(y ~ x1), df)\n",
    "m2 = lm(@formula(y ~ x1 + x2), df)\n",
    "\n",
    "regtable(\"Only x1\" = m1, \"x1 and x2\" = m2)\n"
   ]
  },
  {
   "cell_type": "markdown",
   "id": "688d0190",
   "metadata": {},
   "source": [
    "rewrite"
   ]
  },
  {
   "cell_type": "code",
   "execution_count": 9,
   "id": "340d4158",
   "metadata": {},
   "outputs": [],
   "source": [
    "data = CSV.read(\"../output/$CITY/$VERSION/merged.csv\", DataFrame)\n",
    "socioecon = CSV.read(\"../output/$CITY//socioecon_change.csv\", DataFrame)\n",
    ";\n",
    "data = innerjoin(data, socioecon, on = :stop_id)\n",
    ";\n",
    "# data.total_multimodal = scale(data.total_multimodal)\n",
    "# data.total_walk15 = scale(data.total_walk15)\n",
    "# data.area_difference = scale(data.area_difference)\n",
    "# data.distance_betweenness = scale(data.distance_betweenness)\n",
    ";"
   ]
  },
  {
   "cell_type": "code",
   "execution_count": 88,
   "id": "0aa8bc8a",
   "metadata": {},
   "outputs": [],
   "source": [
    "# select(data, Not(:geometry))"
   ]
  },
  {
   "cell_type": "code",
   "execution_count": 69,
   "id": "b0fa3711",
   "metadata": {},
   "outputs": [],
   "source": [
    "# data = scale(data, cols=setdiff(names(data), [\"stop_id\", \"geometry\", \"stop_name\", \"stop_lat\", \"stop_lon\", \"ellipticity\"]))\n",
    ";"
   ]
  },
  {
   "cell_type": "code",
   "execution_count": null,
   "id": "8080f5c5",
   "metadata": {},
   "outputs": [],
   "source": [
    "# data[!, :gini_change] = data[!, :multimodal_gini] .- data[!, :walk15_gini]\n",
    ";"
   ]
  },
  {
   "cell_type": "code",
   "execution_count": null,
   "id": "650be609",
   "metadata": {},
   "outputs": [],
   "source": [
    "# helsinki1\n",
    "# helsinki_gini = reg(data, @formula(weighted_gini_multi - weighted_gini_walk ~ weighted_gini_walk + (area_difference * ellipticity) + (distance_betweenness * ellipticity)))\n",
    "helsinki_gini = GLM.lm(\n",
    "    @formula(\n",
    "        weighted_gini_multi - weighted_gini_walk ~\n",
    "        weighted_gini_walk +\n",
    "        (area_difference * ellipticity) +\n",
    "        (distance_betweenness * ellipticity)\n",
    "    ),\n",
    "    data,\n",
    ")\n",
    "# helsinki1a\n",
    "# helsinki_access = reg(data, @formula(total_multimodal - total_walk15 ~ total_walk15 + (area_difference*ellipticity) + (distance_betweenness*ellipticity)))\n",
    "helsinki_access = GLM.lm(\n",
    "    @formula(\n",
    "        total_multimodal - total_walk15 ~\n",
    "        total_walk15 + (area_difference*ellipticity) + (distance_betweenness*ellipticity)\n",
    "    ),\n",
    "    data,\n",
    ")\n",
    ";\n"
   ]
  },
  {
   "cell_type": "code",
   "execution_count": 106,
   "id": "7eac9bde",
   "metadata": {},
   "outputs": [
    {
     "name": "stdout",
     "output_type": "stream",
     "text": [
      "────────────────────────────────────────────────────────────────────────────────────────────────────\n",
      "                                         Coef.  Std. Error      t  Pr(>|t|)    Lower 95%   Upper 95%\n",
      "────────────────────────────────────────────────────────────────────────────────────────────────────\n",
      "(Intercept)                         -75.3995    38.8948     -1.94    0.0527  -151.666       0.867252\n",
      "total_walk15                          0.652123   0.0164174  39.72    <1e-99     0.619931    0.684315\n",
      "area_difference                      38.766      4.79293     8.09    <1e-15    29.3678     48.1642\n",
      "ellipticity                         335.461     65.6205      5.11    <1e-06   206.789     464.132\n",
      "distance_betweenness                 -5.79035    4.90384    -1.18    0.2378   -15.406       3.82533\n",
      "area_difference & ellipticity        31.3209     8.25055     3.80    0.0002    15.1428     47.499\n",
      "distance_betweenness & ellipticity  -28.5244     8.20917    -3.47    0.0005   -44.6213    -12.4275\n",
      "────────────────────────────────────────────────────────────────────────────────────────────────────\n"
     ]
    }
   ],
   "source": [
    "println(coeftable(helsinki_access))"
   ]
  },
  {
   "cell_type": "code",
   "execution_count": null,
   "id": "50c42e59",
   "metadata": {},
   "outputs": [
    {
     "data": {
      "text/plain": [
       "\n",
       "------------------------------------------------------------------------\n",
       "                                     Helsinki - Gini   Helsinki - Access\n",
       "                                     ---------------   -----------------\n",
       "                                                 (1)                 (2)\n",
       "------------------------------------------------------------------------\n",
       "(Intercept)                                 0.143***             -75.400\n",
       "                                             (0.003)            (38.895)\n",
       "weighted_gini_walk                         -0.425***                    \n",
       "                                             (0.010)                    \n",
       "area_difference                             -0.001**           38.766***\n",
       "                                             (0.000)             (4.793)\n",
       "ellipticity                                -0.015***          335.461***\n",
       "                                             (0.003)            (65.620)\n",
       "distance_betweenness                       -0.001***              -5.790\n",
       "                                             (0.000)             (4.904)\n",
       "area_difference & ellipticity               0.001***           31.321***\n",
       "                                             (0.000)             (8.251)\n",
       "distance_betweenness & ellipticity          0.002***          -28.524***\n",
       "                                             (0.000)             (8.209)\n",
       "total_walk15                                                    0.652***\n",
       "                                                                 (0.016)\n",
       "------------------------------------------------------------------------\n",
       "N                                              2,694               2,694\n",
       "R2                                             0.446               0.664\n",
       "------------------------------------------------------------------------\n",
       "\n"
      ]
     },
     "execution_count": 104,
     "metadata": {},
     "output_type": "execute_result"
    }
   ],
   "source": [
    "regtable(\n",
    "    [helsinki_gini, helsinki_access]...;\n",
    "    render = AsciiTable(),\n",
    "    labels = Dict(\n",
    "        \"weighted_gini_multi - weighted_gini_walk\" => \"Helsinki - Gini\",\n",
    "        \"total_multimodal - total_walk15\" => \"Helsinki - Access\",\n",
    "    ),\n",
    ")\n"
   ]
  },
  {
   "cell_type": "code",
   "execution_count": null,
   "id": "b8981b02",
   "metadata": {},
   "outputs": [
    {
     "data": {
      "text/plain": [
       "                                        FixedEffectModel                                        \n",
       "================================================================================================\n",
       "Number of obs:                             4425  Converged:                                 true\n",
       "dof (model):                                  5  dof (residuals):                           4418\n",
       "R²:                                       0.204  R² adjusted:                              0.203\n",
       "F-statistic:                            226.782  P-value:                                  0.000\n",
       "================================================================================================\n",
       "                          Estimate   Std. Error     t-stat  Pr(>|t|)     Lower 95%     Upper 95%\n",
       "────────────────────────────────────────────────────────────────────────────────────────────────\n",
       "walk15_gini            0.286285     0.0090286    31.7086      <1e-99   0.268584      0.303985\n",
       "area                  -5.56795e-5   0.000143451  -0.388143    0.6979  -0.000336915   0.000225556\n",
       "distance_betweenness   0.000497824  0.000102409   4.86114     <1e-05   0.000297051   0.000698596\n",
       "closeness_centrality   0.385421     0.0316587    12.1742      <1e-32   0.323354      0.447488\n",
       "ellipticity           -0.00403876   0.0014656    -2.7557      0.0059  -0.00691207   -0.00116545\n",
       "(Intercept)            0.0992882    0.00298842   33.2243      <1e-99   0.0934294     0.105147\n",
       "================================================================================================\n"
      ]
     },
     "execution_count": 20,
     "metadata": {},
     "output_type": "execute_result"
    }
   ],
   "source": [
    "# m0 = reg(data, @formula(gini_change ~ area + distance_betweenness + closeness_centrality + ellipticity))\n",
    "m2 = reg(\n",
    "    data,\n",
    "    @formula(\n",
    "        multimodal_gini ~\n",
    "        walk15_gini + area + distance_betweenness + closeness_centrality + ellipticity\n",
    "    )\n",
    ")\n"
   ]
  },
  {
   "cell_type": "code",
   "execution_count": null,
   "id": "88523f5c",
   "metadata": {},
   "outputs": [
    {
     "data": {
      "text/plain": [
       "\n",
       "--------------------------------------\n",
       "                       multimodal_gini\n",
       "--------------------------------------\n",
       "(Intercept)                   0.099***\n",
       "                               (0.003)\n",
       "walk15_gini                   0.286***\n",
       "                               (0.009)\n",
       "area                            -0.000\n",
       "                               (0.000)\n",
       "distance_betweenness          0.000***\n",
       "                               (0.000)\n",
       "closeness_centrality          0.385***\n",
       "                               (0.032)\n",
       "ellipticity                   -0.004**\n",
       "                               (0.001)\n",
       "--------------------------------------\n",
       "N                                4,425\n",
       "R2                               0.204\n",
       "--------------------------------------\n",
       "\n"
      ]
     },
     "execution_count": 21,
     "metadata": {},
     "output_type": "execute_result"
    }
   ],
   "source": [
    "regtable([m2]...; render = AsciiTable(), file = \"m1.txt\")\n"
   ]
  },
  {
   "cell_type": "code",
   "execution_count": null,
   "id": "3d7f463f",
   "metadata": {},
   "outputs": [],
   "source": []
  }
 ],
 "metadata": {
  "kernelspec": {
   "display_name": "Julia 1.11.5",
   "language": "julia",
   "name": "julia-1.11"
  },
  "language_info": {
   "file_extension": ".jl",
   "mimetype": "application/julia",
   "name": "julia",
   "version": "1.11.6"
  }
 },
 "nbformat": 4,
 "nbformat_minor": 5
}
