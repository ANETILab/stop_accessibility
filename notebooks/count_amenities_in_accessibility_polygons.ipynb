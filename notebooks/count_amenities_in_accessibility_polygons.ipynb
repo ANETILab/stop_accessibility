{
 "cells": [
  {
   "cell_type": "code",
   "execution_count": 2,
   "metadata": {},
   "outputs": [],
   "source": [
    "import geopandas as gpd\n",
    "import pandas as pd\n",
    "import structlog\n",
    "import yaml\n",
    "from shapely import from_wkt\n",
    "\n",
    "\n",
    "def create_lookup(essential_amenities: dict[str, list[str]]) -> dict[str, str]:\n",
    "    result = {}\n",
    "    for cat, osm_list in essential_amenities.items():\n",
    "        for i in osm_list:\n",
    "            result[i] = cat\n",
    "    return result\n",
    "\n",
    "\n",
    "with open(\"../data/essential_amenities.yaml\") as fp:\n",
    "    essential_amenities = yaml.safe_load(fp)\n",
    "\n",
    "logger = structlog.get_logger()\n",
    "\n",
    "lookup = create_lookup(essential_amenities)"
   ]
  },
  {
   "cell_type": "code",
   "execution_count": 3,
   "metadata": {
    "tags": [
     "parameters"
    ]
   },
   "outputs": [],
   "source": [
    "CITY = \"budapest\"\n",
    "CITY = \"paris\""
   ]
  },
  {
   "cell_type": "code",
   "execution_count": 4,
   "metadata": {},
   "outputs": [
    {
     "data": {
      "text/html": [
       "<div>\n",
       "<style scoped>\n",
       "    .dataframe tbody tr th:only-of-type {\n",
       "        vertical-align: middle;\n",
       "    }\n",
       "\n",
       "    .dataframe tbody tr th {\n",
       "        vertical-align: top;\n",
       "    }\n",
       "\n",
       "    .dataframe thead th {\n",
       "        text-align: right;\n",
       "    }\n",
       "</style>\n",
       "<table border=\"1\" class=\"dataframe\">\n",
       "  <thead>\n",
       "    <tr style=\"text-align: right;\">\n",
       "      <th></th>\n",
       "      <th>osm_id</th>\n",
       "      <th>osm_category</th>\n",
       "      <th>name</th>\n",
       "      <th>geometry_type</th>\n",
       "      <th>geometry</th>\n",
       "      <th>category</th>\n",
       "    </tr>\n",
       "  </thead>\n",
       "  <tbody>\n",
       "    <tr>\n",
       "      <th>89</th>\n",
       "      <td>27091941</td>\n",
       "      <td>amenity:cinema</td>\n",
       "      <td>Le Capitole</td>\n",
       "      <td>Point</td>\n",
       "      <td>POINT (2.22871 48.87055)</td>\n",
       "      <td>cultural_institutions</td>\n",
       "    </tr>\n",
       "    <tr>\n",
       "      <th>91</th>\n",
       "      <td>27091971</td>\n",
       "      <td>amenity:post_office</td>\n",
       "      <td>La Poste Suresnes Hôtel-de-Ville</td>\n",
       "      <td>Point</td>\n",
       "      <td>POINT (2.22557 48.87002)</td>\n",
       "      <td>services</td>\n",
       "    </tr>\n",
       "    <tr>\n",
       "      <th>94</th>\n",
       "      <td>27415802</td>\n",
       "      <td>amenity:post_office</td>\n",
       "      <td>Paris 17 Wagram</td>\n",
       "      <td>Point</td>\n",
       "      <td>POINT (2.30221 48.88328)</td>\n",
       "      <td>services</td>\n",
       "    </tr>\n",
       "  </tbody>\n",
       "</table>\n",
       "</div>"
      ],
      "text/plain": [
       "      osm_id         osm_category                              name  \\\n",
       "89  27091941       amenity:cinema                       Le Capitole   \n",
       "91  27091971  amenity:post_office  La Poste Suresnes Hôtel-de-Ville   \n",
       "94  27415802  amenity:post_office                   Paris 17 Wagram   \n",
       "\n",
       "   geometry_type                  geometry               category  \n",
       "89         Point  POINT (2.22871 48.87055)  cultural_institutions  \n",
       "91         Point  POINT (2.22557 48.87002)               services  \n",
       "94         Point  POINT (2.30221 48.88328)               services  "
      ]
     },
     "execution_count": 4,
     "metadata": {},
     "output_type": "execute_result"
    }
   ],
   "source": [
    "amenities = gpd.read_file(\n",
    "    f\"../output/{CITY}/amenities/amenities_filtered.wkt.csv\", engine=\"pyogrio\"\n",
    ")\n",
    "amenities.rename({\"category\": \"osm_category\"}, axis=1, inplace=True)\n",
    "amenities[\"category\"] = amenities[\"osm_category\"].map(lookup)\n",
    "amenities.dropna(subset=[\"category\"], inplace=True)\n",
    "amenities.drop([\"osm_type\", \"amenity_type\", \"amenity_subtype\"], axis=1, inplace=True)\n",
    "amenities[\"geometry\"] = amenities[\"geometry\"].apply(from_wkt)\n",
    "amenities = gpd.GeoDataFrame(amenities, geometry=\"geometry\", crs=4326)\n",
    "amenities.head(3)"
   ]
  },
  {
   "cell_type": "code",
   "execution_count": 5,
   "metadata": {},
   "outputs": [
    {
     "data": {
      "text/html": [
       "<div>\n",
       "<style scoped>\n",
       "    .dataframe tbody tr th:only-of-type {\n",
       "        vertical-align: middle;\n",
       "    }\n",
       "\n",
       "    .dataframe tbody tr th {\n",
       "        vertical-align: top;\n",
       "    }\n",
       "\n",
       "    .dataframe thead th {\n",
       "        text-align: right;\n",
       "    }\n",
       "</style>\n",
       "<table border=\"1\" class=\"dataframe\">\n",
       "  <thead>\n",
       "    <tr style=\"text-align: right;\">\n",
       "      <th></th>\n",
       "      <th>stop_id</th>\n",
       "      <th>costing</th>\n",
       "      <th>range</th>\n",
       "      <th>geometry</th>\n",
       "    </tr>\n",
       "  </thead>\n",
       "  <tbody>\n",
       "    <tr>\n",
       "      <th>0</th>\n",
       "      <td>9375373</td>\n",
       "      <td>walk</td>\n",
       "      <td>5</td>\n",
       "      <td>POLYGON ((2.55953 49.01458, 2.55881 49.01322, ...</td>\n",
       "    </tr>\n",
       "    <tr>\n",
       "      <th>1</th>\n",
       "      <td>9375373</td>\n",
       "      <td>walk</td>\n",
       "      <td>10</td>\n",
       "      <td>POLYGON ((2.55653 49.01653, 2.55572 49.01431, ...</td>\n",
       "    </tr>\n",
       "    <tr>\n",
       "      <th>2</th>\n",
       "      <td>9375373</td>\n",
       "      <td>walk</td>\n",
       "      <td>15</td>\n",
       "      <td>POLYGON ((2.55553 49.01995, 2.55453 49.01895, ...</td>\n",
       "    </tr>\n",
       "  </tbody>\n",
       "</table>\n",
       "</div>"
      ],
      "text/plain": [
       "   stop_id costing  range                                           geometry\n",
       "0  9375373    walk      5  POLYGON ((2.55953 49.01458, 2.55881 49.01322, ...\n",
       "1  9375373    walk     10  POLYGON ((2.55653 49.01653, 2.55572 49.01431, ...\n",
       "2  9375373    walk     15  POLYGON ((2.55553 49.01995, 2.55453 49.01895, ..."
      ]
     },
     "execution_count": 5,
     "metadata": {},
     "output_type": "execute_result"
    }
   ],
   "source": [
    "isochrones = gpd.read_file(f\"../output/{CITY}/isochrones.geojson\", engine=\"pyogrio\")\n",
    "isochrones.head(3)"
   ]
  },
  {
   "cell_type": "code",
   "execution_count": 6,
   "metadata": {},
   "outputs": [],
   "source": [
    "result = pd.DataFrame()\n",
    "for i in isochrones[[\"costing\", \"range\"]].drop_duplicates().itertuples():\n",
    "    ac = (\n",
    "        isochrones.query(f\"range == {i.range} & costing=='{i.costing}'\")\n",
    "        .sjoin(amenities)\n",
    "        .groupby([\"stop_id\", \"category\"])[\"osm_id\"]\n",
    "        .count()\n",
    "        .reset_index()\n",
    "    )\n",
    "    ac.rename({\"osm_id\": \"count\"}, axis=1, inplace=True)\n",
    "\n",
    "    ac = (\n",
    "        pd.pivot_table(ac, index=[\"stop_id\"], columns=[\"category\"], values=\"count\")\n",
    "        .fillna(0)\n",
    "        .map(int)\n",
    "        .reset_index()\n",
    "    )\n",
    "\n",
    "    ac[\"costing\"] = i.costing\n",
    "    ac[\"range\"] = i.range\n",
    "    result = pd.concat([result, ac])\n",
    "\n",
    "result.to_csv(f\"../output/{CITY}/amenity_counts_in_accessibility.csv\", index=False)"
   ]
  },
  {
   "cell_type": "code",
   "execution_count": 7,
   "metadata": {},
   "outputs": [],
   "source": [
    "sgfw = gpd.read_file(f\"../output/{CITY}/stop_geometries_from_walk.geojson\")"
   ]
  },
  {
   "cell_type": "code",
   "execution_count": 8,
   "metadata": {},
   "outputs": [
    {
     "data": {
      "text/html": [
       "<div>\n",
       "<style scoped>\n",
       "    .dataframe tbody tr th:only-of-type {\n",
       "        vertical-align: middle;\n",
       "    }\n",
       "\n",
       "    .dataframe tbody tr th {\n",
       "        vertical-align: top;\n",
       "    }\n",
       "\n",
       "    .dataframe thead th {\n",
       "        text-align: right;\n",
       "    }\n",
       "</style>\n",
       "<table border=\"1\" class=\"dataframe\">\n",
       "  <thead>\n",
       "    <tr style=\"text-align: right;\">\n",
       "      <th></th>\n",
       "      <th>stop_id</th>\n",
       "      <th>area</th>\n",
       "      <th>ellipticity</th>\n",
       "      <th>geometry</th>\n",
       "    </tr>\n",
       "  </thead>\n",
       "  <tbody>\n",
       "    <tr>\n",
       "      <th>0</th>\n",
       "      <td>9375373</td>\n",
       "      <td>0.306</td>\n",
       "      <td>NaN</td>\n",
       "      <td>POLYGON ((2.55953 49.01458, 2.56197 49.0135, 2...</td>\n",
       "    </tr>\n",
       "    <tr>\n",
       "      <th>1</th>\n",
       "      <td>9375374</td>\n",
       "      <td>0.306</td>\n",
       "      <td>NaN</td>\n",
       "      <td>POLYGON ((2.55953 49.01458, 2.56197 49.0135, 2...</td>\n",
       "    </tr>\n",
       "    <tr>\n",
       "      <th>2</th>\n",
       "      <td>3672258</td>\n",
       "      <td>0.871</td>\n",
       "      <td>0.7305</td>\n",
       "      <td>MULTIPOLYGON (((2.56836 49.00184, 2.56833 49.0...</td>\n",
       "    </tr>\n",
       "  </tbody>\n",
       "</table>\n",
       "</div>"
      ],
      "text/plain": [
       "   stop_id   area  ellipticity  \\\n",
       "0  9375373  0.306          NaN   \n",
       "1  9375374  0.306          NaN   \n",
       "2  3672258  0.871       0.7305   \n",
       "\n",
       "                                            geometry  \n",
       "0  POLYGON ((2.55953 49.01458, 2.56197 49.0135, 2...  \n",
       "1  POLYGON ((2.55953 49.01458, 2.56197 49.0135, 2...  \n",
       "2  MULTIPOLYGON (((2.56836 49.00184, 2.56833 49.0...  "
      ]
     },
     "execution_count": 8,
     "metadata": {},
     "output_type": "execute_result"
    }
   ],
   "source": [
    "sgfw.head(3)"
   ]
  },
  {
   "cell_type": "code",
   "execution_count": 9,
   "metadata": {},
   "outputs": [],
   "source": [
    "temp = sgfw.sjoin(amenities)\n",
    "temp = temp.groupby([\"stop_id\", \"category\"])[\"osm_id\"].count().reset_index()\n",
    "temp.rename({\"osm_id\": \"count\"}, axis=1, inplace=True)\n",
    "temp = (\n",
    "    pd.pivot_table(temp, index=[\"stop_id\"], columns=[\"category\"], values=\"count\")\n",
    "    .fillna(0)\n",
    "    .map(int)\n",
    "    .reset_index()\n",
    ")\n",
    "temp[\"costing\"] = \"public_transport\"\n",
    "# temp[\"range\"] = \"10+5\"\n",
    "temp[\"range\"] = pd.NA\n",
    "temp.to_csv(\n",
    "    f\"../output/{CITY}/amenity_counts_in_public_transport_accessibility.csv\",\n",
    "    index=False,\n",
    ")"
   ]
  }
 ],
 "metadata": {
  "kernelspec": {
   "display_name": "calculate_accessibility-4Q_DyPin-py3.11",
   "language": "python",
   "name": "python3"
  },
  "language_info": {
   "codemirror_mode": {
    "name": "ipython",
    "version": 3
   },
   "file_extension": ".py",
   "mimetype": "text/x-python",
   "name": "python",
   "nbconvert_exporter": "python",
   "pygments_lexer": "ipython3",
   "version": "3.11.11"
  }
 },
 "nbformat": 4,
 "nbformat_minor": 2
}
