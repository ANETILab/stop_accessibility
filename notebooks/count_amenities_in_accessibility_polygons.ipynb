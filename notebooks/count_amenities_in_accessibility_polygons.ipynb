{
 "cells": [
  {
   "cell_type": "code",
   "execution_count": null,
   "metadata": {},
   "outputs": [],
   "source": [
    "import geopandas as gpd\n",
    "import pandas as pd\n",
    "import yaml\n",
    "from common import load_isochrones\n",
    "from shapely import from_wkt\n",
    "\n",
    "\n",
    "def count_amenities_in_walk_accessibility(\n",
    "    isochrones: gpd.GeoDataFrame,\n",
    "    amenities: gpd.GeoDataFrame,\n",
    ") -> pd.DataFrame:\n",
    "    result = pd.DataFrame()\n",
    "    for i in isochrones[[\"costing\", \"range\"]].drop_duplicates().itertuples():\n",
    "        ac = (\n",
    "            isochrones.query(f\"range == {i.range} & costing=='{i.costing}'\")\n",
    "            .sjoin(amenities)\n",
    "            .groupby([\"stop_id\", \"category\"])[\"osm_id\"]\n",
    "            .count()\n",
    "            .reset_index()\n",
    "        )\n",
    "        ac.rename({\"osm_id\": \"count\"}, axis=1, inplace=True)\n",
    "\n",
    "        ac = (\n",
    "            pd.pivot_table(ac, index=[\"stop_id\"], columns=[\"category\"], values=\"count\")\n",
    "            .fillna(0)\n",
    "            .map(int)\n",
    "            .reset_index()\n",
    "        )\n",
    "\n",
    "        ac[\"costing\"] = i.costing\n",
    "        ac[\"range\"] = i.range\n",
    "        result = pd.concat([result, ac])\n",
    "    return result\n",
    "\n",
    "\n",
    "def count_amenities_in_public_transport_accessibility(\n",
    "    sgfw: gpd.GeoDataFrame,\n",
    "    amenities: gpd.GeoDataFrame,\n",
    ") -> pd.DataFrame:\n",
    "    temp = sgfw.sjoin(amenities)\n",
    "    temp = temp.groupby([\"stop_id\", \"category\"])[\"osm_id\"].count().reset_index()\n",
    "    temp.rename({\"osm_id\": \"count\"}, axis=1, inplace=True)\n",
    "    temp = (\n",
    "        pd.pivot_table(temp, index=[\"stop_id\"], columns=[\"category\"], values=\"count\")\n",
    "        .fillna(0)\n",
    "        .map(int)\n",
    "        .reset_index()\n",
    "    )\n",
    "    temp[\"costing\"] = \"public_transport\"\n",
    "    # temp[\"range\"] = \"10+5\"\n",
    "    temp[\"range\"] = pd.NA\n",
    "    return temp\n",
    "\n",
    "\n",
    "def create_lookup(essential_amenities: dict[str, list[str]]) -> dict[str, str]:\n",
    "    result = {}\n",
    "    for cat, osm_list in essential_amenities.items():\n",
    "        for i in osm_list:\n",
    "            result[i] = cat\n",
    "    return result\n",
    "\n",
    "\n",
    "def load_category_lookup():\n",
    "    with open(\"../data/essential_amenities.yaml\", \"r\") as fp:\n",
    "        essential_amenities = yaml.safe_load(fp)\n",
    "    return create_lookup(essential_amenities)\n",
    "\n",
    "\n",
    "def prepare_amenities(city: str) -> gpd.GeoDataFrame:\n",
    "    lookup = load_category_lookup()\n",
    "    amenities = gpd.read_file(\n",
    "        f\"../output/{city}/amenities/amenities_filtered.wkt.csv\", engine=\"pyogrio\"\n",
    "    )\n",
    "    amenities.rename({\"category\": \"osm_category\"}, axis=1, inplace=True)\n",
    "    amenities[\"category\"] = amenities[\"osm_category\"].map(lookup)\n",
    "    amenities.dropna(subset=[\"category\"], inplace=True)\n",
    "    amenities.drop(\n",
    "        [\"osm_type\", \"amenity_type\", \"amenity_subtype\"],\n",
    "        axis=1,\n",
    "        inplace=True,\n",
    "    )\n",
    "    amenities[\"geometry\"] = amenities[\"geometry\"].apply(from_wkt)\n",
    "    amenities = gpd.GeoDataFrame(amenities, geometry=\"geometry\", crs=4326)\n",
    "    return amenities"
   ]
  },
  {
   "cell_type": "code",
   "execution_count": 3,
   "metadata": {
    "tags": [
     "parameters"
    ]
   },
   "outputs": [],
   "source": [
    "CITY = \"helsinki\""
   ]
  },
  {
   "cell_type": "code",
   "execution_count": null,
   "metadata": {},
   "outputs": [],
   "source": [
    "isochrones = load_isochrones(CITY)\n",
    "amenities = prepare_amenities(CITY)\n",
    "\n",
    "aciwa = count_amenities_in_walk_accessibility(isochrones, amenities)\n",
    "aciwa.to_csv(f\"../output/{CITY}/amenity_counts_in_accessibility.csv\", index=False)"
   ]
  },
  {
   "cell_type": "code",
   "execution_count": null,
   "metadata": {},
   "outputs": [],
   "source": [
    "sgfw = gpd.read_file(f\"../output/{CITY}/stop_geometries_from_walk.geojson\")\n",
    "sgfw[\"stop_id\"] = sgfw[\"stop_id\"].apply(str)\n",
    "\n",
    "acipta = count_amenities_in_public_transport_accessibility(sgfw, amenities)\n",
    "acipta.to_csv(\n",
    "    f\"../output/{CITY}/amenity_counts_in_public_transport_accessibility.csv\",\n",
    "    index=False,\n",
    ")"
   ]
  }
 ],
 "metadata": {
  "kernelspec": {
   "display_name": "calculate_accessibility-4Q_DyPin-py3.11",
   "language": "python",
   "name": "python3"
  },
  "language_info": {
   "codemirror_mode": {
    "name": "ipython",
    "version": 3
   },
   "file_extension": ".py",
   "mimetype": "text/x-python",
   "name": "python",
   "nbconvert_exporter": "python",
   "pygments_lexer": "ipython3",
   "version": "3.11.11"
  }
 },
 "nbformat": 4,
 "nbformat_minor": 2
}
