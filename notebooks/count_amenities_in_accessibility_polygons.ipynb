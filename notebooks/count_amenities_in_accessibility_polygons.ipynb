{
 "cells": [
  {
   "cell_type": "code",
   "execution_count": 1,
   "metadata": {},
   "outputs": [],
   "source": [
    "import geopandas as gpd\n",
    "import pandas as pd\n",
    "import structlog\n",
    "import yaml\n",
    "from shapely import from_wkt\n",
    "\n",
    "\n",
    "def create_lookup(essential_amenities: dict[str, list[str]]) -> dict[str, str]:\n",
    "    result = {}\n",
    "    for cat, osm_list in essential_amenities.items():\n",
    "        for i in osm_list:\n",
    "            result[i] = cat\n",
    "    return result\n",
    "\n",
    "\n",
    "with open(\"../data/essential_amenities.yaml\") as fp:\n",
    "    essential_amenities = yaml.safe_load(fp)\n",
    "\n",
    "logger = structlog.get_logger()\n",
    "\n",
    "lookup = create_lookup(essential_amenities)"
   ]
  },
  {
   "cell_type": "code",
   "execution_count": 2,
   "metadata": {
    "tags": [
     "parameters"
    ]
   },
   "outputs": [],
   "source": [
    "CITY = \"madrid\""
   ]
  },
  {
   "cell_type": "code",
   "execution_count": 3,
   "metadata": {},
   "outputs": [
    {
     "data": {
      "text/html": [
       "<div>\n",
       "<style scoped>\n",
       "    .dataframe tbody tr th:only-of-type {\n",
       "        vertical-align: middle;\n",
       "    }\n",
       "\n",
       "    .dataframe tbody tr th {\n",
       "        vertical-align: top;\n",
       "    }\n",
       "\n",
       "    .dataframe thead th {\n",
       "        text-align: right;\n",
       "    }\n",
       "</style>\n",
       "<table border=\"1\" class=\"dataframe\">\n",
       "  <thead>\n",
       "    <tr style=\"text-align: right;\">\n",
       "      <th></th>\n",
       "      <th>osm_id</th>\n",
       "      <th>osm_category</th>\n",
       "      <th>name</th>\n",
       "      <th>geometry_type</th>\n",
       "      <th>geometry</th>\n",
       "      <th>category</th>\n",
       "    </tr>\n",
       "  </thead>\n",
       "  <tbody>\n",
       "    <tr>\n",
       "      <th>32</th>\n",
       "      <td>25931627</td>\n",
       "      <td>amenity:cinema</td>\n",
       "      <td>mk2 Palacio de Hielo</td>\n",
       "      <td>Point</td>\n",
       "      <td>POINT (-3.6361 40.46314)</td>\n",
       "      <td>cultural_institutions</td>\n",
       "    </tr>\n",
       "    <tr>\n",
       "      <th>36</th>\n",
       "      <td>26065697</td>\n",
       "      <td>amenity:restaurant</td>\n",
       "      <td>Café Comercial</td>\n",
       "      <td>Point</td>\n",
       "      <td>POINT (-3.702 40.42873)</td>\n",
       "      <td>restaurants</td>\n",
       "    </tr>\n",
       "    <tr>\n",
       "      <th>37</th>\n",
       "      <td>26065699</td>\n",
       "      <td>amenity:restaurant</td>\n",
       "      <td>Honest Greens</td>\n",
       "      <td>Point</td>\n",
       "      <td>POINT (-3.7017 40.42703)</td>\n",
       "      <td>restaurants</td>\n",
       "    </tr>\n",
       "  </tbody>\n",
       "</table>\n",
       "</div>"
      ],
      "text/plain": [
       "      osm_id        osm_category                  name geometry_type  \\\n",
       "32  25931627      amenity:cinema  mk2 Palacio de Hielo         Point   \n",
       "36  26065697  amenity:restaurant        Café Comercial         Point   \n",
       "37  26065699  amenity:restaurant         Honest Greens         Point   \n",
       "\n",
       "                    geometry               category  \n",
       "32  POINT (-3.6361 40.46314)  cultural_institutions  \n",
       "36   POINT (-3.702 40.42873)            restaurants  \n",
       "37  POINT (-3.7017 40.42703)            restaurants  "
      ]
     },
     "execution_count": 3,
     "metadata": {},
     "output_type": "execute_result"
    }
   ],
   "source": [
    "amenities = gpd.read_file(\n",
    "    f\"../output/{CITY}/amenities/amenities_filtered.wkt.csv\", engine=\"pyogrio\"\n",
    ")\n",
    "amenities.rename({\"category\": \"osm_category\"}, axis=1, inplace=True)\n",
    "amenities[\"category\"] = amenities[\"osm_category\"].map(lookup)\n",
    "amenities.dropna(subset=[\"category\"], inplace=True)\n",
    "amenities.drop([\"osm_type\", \"amenity_type\", \"amenity_subtype\"], axis=1, inplace=True)\n",
    "amenities[\"geometry\"] = amenities[\"geometry\"].apply(from_wkt)\n",
    "amenities = gpd.GeoDataFrame(amenities, geometry=\"geometry\", crs=4326)\n",
    "amenities.head(3)"
   ]
  },
  {
   "cell_type": "code",
   "execution_count": 4,
   "metadata": {},
   "outputs": [
    {
     "data": {
      "text/html": [
       "<div>\n",
       "<style scoped>\n",
       "    .dataframe tbody tr th:only-of-type {\n",
       "        vertical-align: middle;\n",
       "    }\n",
       "\n",
       "    .dataframe tbody tr th {\n",
       "        vertical-align: top;\n",
       "    }\n",
       "\n",
       "    .dataframe thead th {\n",
       "        text-align: right;\n",
       "    }\n",
       "</style>\n",
       "<table border=\"1\" class=\"dataframe\">\n",
       "  <thead>\n",
       "    <tr style=\"text-align: right;\">\n",
       "      <th></th>\n",
       "      <th>stop_id</th>\n",
       "      <th>costing</th>\n",
       "      <th>range</th>\n",
       "      <th>geometry</th>\n",
       "    </tr>\n",
       "  </thead>\n",
       "  <tbody>\n",
       "    <tr>\n",
       "      <th>0</th>\n",
       "      <td>5130</td>\n",
       "      <td>walk</td>\n",
       "      <td>5</td>\n",
       "      <td>POLYGON ((-3.68506 40.51101, -3.68806 40.51031...</td>\n",
       "    </tr>\n",
       "    <tr>\n",
       "      <th>1</th>\n",
       "      <td>5130</td>\n",
       "      <td>walk</td>\n",
       "      <td>10</td>\n",
       "      <td>POLYGON ((-3.68306 40.513, -3.68606 40.51116, ...</td>\n",
       "    </tr>\n",
       "    <tr>\n",
       "      <th>2</th>\n",
       "      <td>5130</td>\n",
       "      <td>walk</td>\n",
       "      <td>15</td>\n",
       "      <td>POLYGON ((-3.69006 40.51454, -3.69306 40.51509...</td>\n",
       "    </tr>\n",
       "  </tbody>\n",
       "</table>\n",
       "</div>"
      ],
      "text/plain": [
       "  stop_id costing  range                                           geometry\n",
       "0    5130    walk      5  POLYGON ((-3.68506 40.51101, -3.68806 40.51031...\n",
       "1    5130    walk     10  POLYGON ((-3.68306 40.513, -3.68606 40.51116, ...\n",
       "2    5130    walk     15  POLYGON ((-3.69006 40.51454, -3.69306 40.51509..."
      ]
     },
     "execution_count": 4,
     "metadata": {},
     "output_type": "execute_result"
    }
   ],
   "source": [
    "isochrones = gpd.read_file(f\"../output/{CITY}/isochrones.geojson\", engine=\"pyogrio\")\n",
    "isochrones.head(3)"
   ]
  },
  {
   "cell_type": "code",
   "execution_count": 5,
   "metadata": {},
   "outputs": [],
   "source": [
    "result = pd.DataFrame()\n",
    "for i in isochrones[[\"costing\", \"range\"]].drop_duplicates().itertuples():\n",
    "    ac = (\n",
    "        isochrones.query(f\"range == {i.range} & costing=='{i.costing}'\")\n",
    "        .sjoin(amenities)\n",
    "        .groupby([\"stop_id\", \"category\"])[\"osm_id\"]\n",
    "        .count()\n",
    "        .reset_index()\n",
    "    )\n",
    "    ac.rename({\"osm_id\": \"count\"}, axis=1, inplace=True)\n",
    "\n",
    "    ac = (\n",
    "        pd.pivot_table(ac, index=[\"stop_id\"], columns=[\"category\"], values=\"count\")\n",
    "        .fillna(0)\n",
    "        .map(int)\n",
    "        .reset_index()\n",
    "    )\n",
    "\n",
    "    ac[\"costing\"] = i.costing\n",
    "    ac[\"range\"] = i.range\n",
    "    result = pd.concat([result, ac])\n",
    "\n",
    "result.to_csv(f\"../output/{CITY}/amenity_counts_in_accessibility.csv\", index=False)"
   ]
  },
  {
   "cell_type": "code",
   "execution_count": 6,
   "metadata": {},
   "outputs": [],
   "source": [
    "sgfw = gpd.read_file(f\"../output/{CITY}/stop_geometries_from_walk.geojson\")"
   ]
  },
  {
   "cell_type": "code",
   "execution_count": 7,
   "metadata": {},
   "outputs": [
    {
     "data": {
      "text/html": [
       "<div>\n",
       "<style scoped>\n",
       "    .dataframe tbody tr th:only-of-type {\n",
       "        vertical-align: middle;\n",
       "    }\n",
       "\n",
       "    .dataframe tbody tr th {\n",
       "        vertical-align: top;\n",
       "    }\n",
       "\n",
       "    .dataframe thead th {\n",
       "        text-align: right;\n",
       "    }\n",
       "</style>\n",
       "<table border=\"1\" class=\"dataframe\">\n",
       "  <thead>\n",
       "    <tr style=\"text-align: right;\">\n",
       "      <th></th>\n",
       "      <th>stop_id</th>\n",
       "      <th>area</th>\n",
       "      <th>ellipticity</th>\n",
       "      <th>geometry</th>\n",
       "    </tr>\n",
       "  </thead>\n",
       "  <tbody>\n",
       "    <tr>\n",
       "      <th>0</th>\n",
       "      <td>5130</td>\n",
       "      <td>1.977</td>\n",
       "      <td>0.8803</td>\n",
       "      <td>MULTIPOLYGON (((-3.69881 40.50731, -3.69878 40...</td>\n",
       "    </tr>\n",
       "    <tr>\n",
       "      <th>1</th>\n",
       "      <td>5166</td>\n",
       "      <td>1.977</td>\n",
       "      <td>0.8803</td>\n",
       "      <td>MULTIPOLYGON (((-3.69881 40.50731, -3.69878 40...</td>\n",
       "    </tr>\n",
       "    <tr>\n",
       "      <th>2</th>\n",
       "      <td>3881</td>\n",
       "      <td>1.984</td>\n",
       "      <td>0.5615</td>\n",
       "      <td>MULTIPOLYGON (((-3.68241 40.50059, -3.68501 40...</td>\n",
       "    </tr>\n",
       "  </tbody>\n",
       "</table>\n",
       "</div>"
      ],
      "text/plain": [
       "  stop_id   area  ellipticity  \\\n",
       "0    5130  1.977       0.8803   \n",
       "1    5166  1.977       0.8803   \n",
       "2    3881  1.984       0.5615   \n",
       "\n",
       "                                            geometry  \n",
       "0  MULTIPOLYGON (((-3.69881 40.50731, -3.69878 40...  \n",
       "1  MULTIPOLYGON (((-3.69881 40.50731, -3.69878 40...  \n",
       "2  MULTIPOLYGON (((-3.68241 40.50059, -3.68501 40...  "
      ]
     },
     "execution_count": 7,
     "metadata": {},
     "output_type": "execute_result"
    }
   ],
   "source": [
    "sgfw.head(3)"
   ]
  },
  {
   "cell_type": "code",
   "execution_count": 8,
   "metadata": {},
   "outputs": [],
   "source": [
    "temp = sgfw.sjoin(amenities)\n",
    "temp = temp.groupby([\"stop_id\", \"category\"])[\"osm_id\"].count().reset_index()\n",
    "temp.rename({\"osm_id\": \"count\"}, axis=1, inplace=True)\n",
    "temp = (\n",
    "    pd.pivot_table(temp, index=[\"stop_id\"], columns=[\"category\"], values=\"count\")\n",
    "    .fillna(0)\n",
    "    .map(int)\n",
    "    .reset_index()\n",
    ")\n",
    "temp[\"costing\"] = \"public_transport\"\n",
    "# temp[\"range\"] = \"10+5\"\n",
    "temp[\"range\"] = pd.NA\n",
    "temp.to_csv(\n",
    "    f\"../output/{CITY}/amenity_counts_in_public_transport_accessibility.csv\",\n",
    "    index=False,\n",
    ")"
   ]
  }
 ],
 "metadata": {
  "kernelspec": {
   "display_name": "calculate_accessibility-4Q_DyPin-py3.11",
   "language": "python",
   "name": "python3"
  },
  "language_info": {
   "codemirror_mode": {
    "name": "ipython",
    "version": 3
   },
   "file_extension": ".py",
   "mimetype": "text/x-python",
   "name": "python",
   "nbconvert_exporter": "python",
   "pygments_lexer": "ipython3",
   "version": "3.11.11"
  }
 },
 "nbformat": 4,
 "nbformat_minor": 2
}
