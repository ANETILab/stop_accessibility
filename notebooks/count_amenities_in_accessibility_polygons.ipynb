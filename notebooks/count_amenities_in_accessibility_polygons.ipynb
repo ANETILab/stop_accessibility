{
 "cells": [
  {
   "cell_type": "code",
   "execution_count": null,
   "metadata": {},
   "outputs": [],
   "source": [
    "import geopandas as gpd\n",
    "import pandas as pd\n",
    "import structlog\n",
    "import yaml\n",
    "from common import load_isochrones\n",
    "from shapely import from_wkt\n",
    "\n",
    "\n",
    "def create_lookup(essential_amenities: dict[str, list[str]]) -> dict[str, str]:\n",
    "    result = {}\n",
    "    for cat, osm_list in essential_amenities.items():\n",
    "        for i in osm_list:\n",
    "            result[i] = cat\n",
    "    return result\n",
    "\n",
    "\n",
    "with open(\"../data/essential_amenities.yaml\") as fp:\n",
    "    essential_amenities = yaml.safe_load(fp)\n",
    "\n",
    "logger = structlog.get_logger()\n",
    "\n",
    "lookup = create_lookup(essential_amenities)"
   ]
  },
  {
   "cell_type": "code",
   "execution_count": null,
   "metadata": {},
   "outputs": [],
   "source": [
    "def count_amenities_in_walk_accessibility(\n",
    "    isochrones: gpd.GeoDataFrame,\n",
    "    amenities: gpd.GeoDataFrame,\n",
    ") -> pd.DataFrame:\n",
    "    result = pd.DataFrame()\n",
    "    for i in isochrones[[\"costing\", \"range\"]].drop_duplicates().itertuples():\n",
    "        ac = (\n",
    "            isochrones.query(f\"range == {i.range} & costing=='{i.costing}'\")\n",
    "            .sjoin(amenities)\n",
    "            .groupby([\"stop_id\", \"category\"])[\"osm_id\"]\n",
    "            .count()\n",
    "            .reset_index()\n",
    "        )\n",
    "        ac.rename({\"osm_id\": \"count\"}, axis=1, inplace=True)\n",
    "\n",
    "        ac = (\n",
    "            pd.pivot_table(ac, index=[\"stop_id\"], columns=[\"category\"], values=\"count\")\n",
    "            .fillna(0)\n",
    "            .map(int)\n",
    "            .reset_index()\n",
    "        )\n",
    "\n",
    "        ac[\"costing\"] = i.costing\n",
    "        ac[\"range\"] = i.range\n",
    "        result = pd.concat([result, ac])\n",
    "    return result\n",
    "\n",
    "\n",
    "def count_amenities_in_public_transport_accessibility(\n",
    "    sgfw: gpd.GeoDataFrame,\n",
    "    amenities: gpd.GeoDataFrame,\n",
    ") -> pd.DataFrame:\n",
    "    temp = sgfw.sjoin(amenities)\n",
    "    temp = temp.groupby([\"stop_id\", \"category\"])[\"osm_id\"].count().reset_index()\n",
    "    temp.rename({\"osm_id\": \"count\"}, axis=1, inplace=True)\n",
    "    temp = (\n",
    "        pd.pivot_table(temp, index=[\"stop_id\"], columns=[\"category\"], values=\"count\")\n",
    "        .fillna(0)\n",
    "        .map(int)\n",
    "        .reset_index()\n",
    "    )\n",
    "    temp[\"costing\"] = \"public_transport\"\n",
    "    # temp[\"range\"] = \"10+5\"\n",
    "    temp[\"range\"] = pd.NA\n",
    "    return temp"
   ]
  },
  {
   "cell_type": "code",
   "execution_count": 2,
   "metadata": {
    "tags": [
     "parameters"
    ]
   },
   "outputs": [],
   "source": [
    "CITY = \"helsinki\""
   ]
  },
  {
   "cell_type": "code",
   "execution_count": 3,
   "metadata": {},
   "outputs": [
    {
     "data": {
      "text/html": [
       "<div>\n",
       "<style scoped>\n",
       "    .dataframe tbody tr th:only-of-type {\n",
       "        vertical-align: middle;\n",
       "    }\n",
       "\n",
       "    .dataframe tbody tr th {\n",
       "        vertical-align: top;\n",
       "    }\n",
       "\n",
       "    .dataframe thead th {\n",
       "        text-align: right;\n",
       "    }\n",
       "</style>\n",
       "<table border=\"1\" class=\"dataframe\">\n",
       "  <thead>\n",
       "    <tr style=\"text-align: right;\">\n",
       "      <th></th>\n",
       "      <th>osm_id</th>\n",
       "      <th>osm_category</th>\n",
       "      <th>name</th>\n",
       "      <th>geometry_type</th>\n",
       "      <th>geometry</th>\n",
       "      <th>category</th>\n",
       "    </tr>\n",
       "  </thead>\n",
       "  <tbody>\n",
       "    <tr>\n",
       "      <th>12</th>\n",
       "      <td>25279508</td>\n",
       "      <td>amenity:restaurant</td>\n",
       "      <td>Pikku Ranska</td>\n",
       "      <td>Point</td>\n",
       "      <td>POINT (24.86684 60.20897)</td>\n",
       "      <td>restaurants</td>\n",
       "    </tr>\n",
       "    <tr>\n",
       "      <th>35</th>\n",
       "      <td>26110348</td>\n",
       "      <td>amenity:restaurant</td>\n",
       "      <td>Viinille</td>\n",
       "      <td>Point</td>\n",
       "      <td>POINT (22.25919 60.45037)</td>\n",
       "      <td>restaurants</td>\n",
       "    </tr>\n",
       "    <tr>\n",
       "      <th>36</th>\n",
       "      <td>26110351</td>\n",
       "      <td>amenity:pharmacy</td>\n",
       "      <td>Kasken apteekki</td>\n",
       "      <td>Point</td>\n",
       "      <td>POINT (22.27494 60.44527)</td>\n",
       "      <td>drugstores</td>\n",
       "    </tr>\n",
       "  </tbody>\n",
       "</table>\n",
       "</div>"
      ],
      "text/plain": [
       "      osm_id        osm_category             name geometry_type  \\\n",
       "12  25279508  amenity:restaurant     Pikku Ranska         Point   \n",
       "35  26110348  amenity:restaurant         Viinille         Point   \n",
       "36  26110351    amenity:pharmacy  Kasken apteekki         Point   \n",
       "\n",
       "                     geometry     category  \n",
       "12  POINT (24.86684 60.20897)  restaurants  \n",
       "35  POINT (22.25919 60.45037)  restaurants  \n",
       "36  POINT (22.27494 60.44527)   drugstores  "
      ]
     },
     "execution_count": 3,
     "metadata": {},
     "output_type": "execute_result"
    }
   ],
   "source": [
    "amenities = gpd.read_file(\n",
    "    f\"../output/{CITY}/amenities/amenities_filtered.wkt.csv\", engine=\"pyogrio\"\n",
    ")\n",
    "amenities.rename({\"category\": \"osm_category\"}, axis=1, inplace=True)\n",
    "amenities[\"category\"] = amenities[\"osm_category\"].map(lookup)\n",
    "amenities.dropna(subset=[\"category\"], inplace=True)\n",
    "amenities.drop([\"osm_type\", \"amenity_type\", \"amenity_subtype\"], axis=1, inplace=True)\n",
    "amenities[\"geometry\"] = amenities[\"geometry\"].apply(from_wkt)\n",
    "amenities = gpd.GeoDataFrame(amenities, geometry=\"geometry\", crs=4326)\n",
    "amenities.head(3)"
   ]
  },
  {
   "cell_type": "code",
   "execution_count": null,
   "metadata": {},
   "outputs": [],
   "source": [
    "isochrones = load_isochrones(CITY)\n",
    "\n",
    "aciwa = count_amenities_in_walk_accessibility(isochrones, amenities)\n",
    "aciwa.to_csv(f\"../output/{CITY}/amenity_counts_in_accessibility.csv\", index=False)"
   ]
  },
  {
   "cell_type": "code",
   "execution_count": null,
   "metadata": {},
   "outputs": [
    {
     "data": {
      "text/html": [
       "<div>\n",
       "<style scoped>\n",
       "    .dataframe tbody tr th:only-of-type {\n",
       "        vertical-align: middle;\n",
       "    }\n",
       "\n",
       "    .dataframe tbody tr th {\n",
       "        vertical-align: top;\n",
       "    }\n",
       "\n",
       "    .dataframe thead th {\n",
       "        text-align: right;\n",
       "    }\n",
       "</style>\n",
       "<table border=\"1\" class=\"dataframe\">\n",
       "  <thead>\n",
       "    <tr style=\"text-align: right;\">\n",
       "      <th></th>\n",
       "      <th>stop_id</th>\n",
       "      <th>area</th>\n",
       "      <th>ellipticity</th>\n",
       "      <th>geometry</th>\n",
       "    </tr>\n",
       "  </thead>\n",
       "  <tbody>\n",
       "    <tr>\n",
       "      <th>0</th>\n",
       "      <td>9300202</td>\n",
       "      <td>0.195</td>\n",
       "      <td>NaN</td>\n",
       "      <td>POLYGON ((25.48089 60.40198, 25.47589 60.40224...</td>\n",
       "    </tr>\n",
       "    <tr>\n",
       "      <th>1</th>\n",
       "      <td>9300203</td>\n",
       "      <td>0.186</td>\n",
       "      <td>NaN</td>\n",
       "      <td>POLYGON ((25.48241 60.40294, 25.48141 60.40293...</td>\n",
       "    </tr>\n",
       "    <tr>\n",
       "      <th>2</th>\n",
       "      <td>9221209</td>\n",
       "      <td>0.219</td>\n",
       "      <td>NaN</td>\n",
       "      <td>POLYGON ((25.35389 60.37758, 25.3532 60.37703,...</td>\n",
       "    </tr>\n",
       "  </tbody>\n",
       "</table>\n",
       "</div>"
      ],
      "text/plain": [
       "   stop_id   area  ellipticity  \\\n",
       "0  9300202  0.195          NaN   \n",
       "1  9300203  0.186          NaN   \n",
       "2  9221209  0.219          NaN   \n",
       "\n",
       "                                            geometry  \n",
       "0  POLYGON ((25.48089 60.40198, 25.47589 60.40224...  \n",
       "1  POLYGON ((25.48241 60.40294, 25.48141 60.40293...  \n",
       "2  POLYGON ((25.35389 60.37758, 25.3532 60.37703,...  "
      ]
     },
     "execution_count": 6,
     "metadata": {},
     "output_type": "execute_result"
    }
   ],
   "source": [
    "sgfw = gpd.read_file(f\"../output/{CITY}/stop_geometries_from_walk.geojson\")\n",
    "sgfw[\"stop_id\"] = sgfw[\"stop_id\"].apply(str)\n",
    "sgfw.head(3)"
   ]
  },
  {
   "cell_type": "code",
   "execution_count": null,
   "metadata": {},
   "outputs": [],
   "source": [
    "acipta = count_amenities_in_public_transport_accessibility(sgfw, amenities)\n",
    "acipta.to_csv(\n",
    "    f\"../output/{CITY}/amenity_counts_in_public_transport_accessibility.csv\",\n",
    "    index=False,\n",
    ")"
   ]
  }
 ],
 "metadata": {
  "kernelspec": {
   "display_name": "calculate_accessibility-4Q_DyPin-py3.11",
   "language": "python",
   "name": "python3"
  },
  "language_info": {
   "codemirror_mode": {
    "name": "ipython",
    "version": 3
   },
   "file_extension": ".py",
   "mimetype": "text/x-python",
   "name": "python",
   "nbconvert_exporter": "python",
   "pygments_lexer": "ipython3",
   "version": "3.11.11"
  }
 },
 "nbformat": 4,
 "nbformat_minor": 2
}
