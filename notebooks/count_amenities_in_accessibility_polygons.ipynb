{
 "cells": [
  {
   "cell_type": "code",
   "execution_count": null,
   "metadata": {},
   "outputs": [],
   "source": [
    "import geopandas as gpd\n",
    "from common import load_isochrones\n",
    "from count_amenities_in_accessibility_polygons import (\n",
    "    count_amenities_in_public_transport_accessibility,\n",
    "    count_amenities_in_walk_accessibility,\n",
    "    prepare_amenities,\n",
    ")"
   ]
  },
  {
   "cell_type": "code",
   "execution_count": 3,
   "metadata": {
    "tags": [
     "parameters"
    ]
   },
   "outputs": [],
   "source": [
    "CITY = \"helsinki\""
   ]
  },
  {
   "cell_type": "code",
   "execution_count": null,
   "metadata": {},
   "outputs": [],
   "source": [
    "isochrones = load_isochrones(CITY)\n",
    "amenities = prepare_amenities(CITY)\n",
    "\n",
    "aciwa = count_amenities_in_walk_accessibility(isochrones, amenities)\n",
    "aciwa.to_csv(f\"../output/{CITY}/amenity_counts_in_accessibility.csv\", index=False)"
   ]
  },
  {
   "cell_type": "code",
   "execution_count": null,
   "metadata": {},
   "outputs": [],
   "source": [
    "sgfw = gpd.read_file(f\"../output/{CITY}/stop_geometries_from_walk.geojson\")\n",
    "sgfw[\"stop_id\"] = sgfw[\"stop_id\"].apply(str)\n",
    "\n",
    "acipta = count_amenities_in_public_transport_accessibility(sgfw, amenities)\n",
    "acipta.to_csv(\n",
    "    f\"../output/{CITY}/amenity_counts_in_public_transport_accessibility.csv\",\n",
    "    index=False,\n",
    ")"
   ]
  }
 ],
 "metadata": {
  "kernelspec": {
   "display_name": "calculate_accessibility-4Q_DyPin-py3.11",
   "language": "python",
   "name": "python3"
  },
  "language_info": {
   "codemirror_mode": {
    "name": "ipython",
    "version": 3
   },
   "file_extension": ".py",
   "mimetype": "text/x-python",
   "name": "python",
   "nbconvert_exporter": "python",
   "pygments_lexer": "ipython3",
   "version": "3.11.11"
  }
 },
 "nbformat": 4,
 "nbformat_minor": 2
}
