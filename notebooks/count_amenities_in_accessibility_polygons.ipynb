{
 "cells": [
  {
   "cell_type": "code",
   "execution_count": null,
   "metadata": {},
   "outputs": [],
   "source": [
    "import geopandas as gpd\n",
    "import yaml\n",
    "from common import load_isochrones\n",
    "from count_amenities_in_accessibility_polygons import (\n",
    "    count_amenities_in_public_transport_accessibility,\n",
    "    count_amenities_in_walk_accessibility,\n",
    "    prepare_amenities,\n",
    ")\n",
    "\n",
    "with open(\"../data/essential_amenities.yaml\", \"r\") as fp:\n",
    "    amenitiy_categories = list(yaml.safe_load(fp).keys())"
   ]
  },
  {
   "cell_type": "code",
   "execution_count": 2,
   "metadata": {
    "tags": [
     "parameters"
    ]
   },
   "outputs": [],
   "source": [
    "CITY = \"helsinki\"\n",
    "VERSION = \"20250428\""
   ]
  },
  {
   "cell_type": "code",
   "execution_count": null,
   "metadata": {},
   "outputs": [],
   "source": [
    "isochrones = load_isochrones(CITY, VERSION)\n",
    "amenities = prepare_amenities(CITY)\n",
    "\n",
    "aciwa = count_amenities_in_walk_accessibility(isochrones, amenities)\n",
    "aciwa[\"total\"] = aciwa[amenitiy_categories].sum(axis=1)\n",
    "aciwa.to_csv(\n",
    "    f\"../output/{CITY}/{VERSION}/amenity_counts_in_accessibility.csv\",\n",
    "    index=False,\n",
    ")"
   ]
  },
  {
   "cell_type": "code",
   "execution_count": null,
   "metadata": {},
   "outputs": [],
   "source": [
    "sgfw = gpd.read_file(f\"../output/{CITY}/{VERSION}/stop_geometries_from_walk.geojson\")\n",
    "sgfw[\"stop_id\"] = sgfw[\"stop_id\"].apply(str)\n",
    "\n",
    "acipta = count_amenities_in_public_transport_accessibility(sgfw, amenities)\n",
    "acipta[\"total\"] = acipta[amenitiy_categories].sum(axis=1)\n",
    "acipta.to_csv(\n",
    "    f\"../output/{CITY}/{VERSION}/amenity_counts_in_public_transport_accessibility.csv\",\n",
    "    index=False,\n",
    ")"
   ]
  }
 ],
 "metadata": {
  "kernelspec": {
   "display_name": "calculate_accessibility-4Q_DyPin-py3.11",
   "language": "python",
   "name": "python3"
  },
  "language_info": {
   "codemirror_mode": {
    "name": "ipython",
    "version": 3
   },
   "file_extension": ".py",
   "mimetype": "text/x-python",
   "name": "python",
   "nbconvert_exporter": "python",
   "pygments_lexer": "ipython3",
   "version": "3.11.12"
  }
 },
 "nbformat": 4,
 "nbformat_minor": 2
}
