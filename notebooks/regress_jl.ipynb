{
 "cells": [
  {
   "cell_type": "code",
   "execution_count": 1,
   "id": "94bff75e",
   "metadata": {},
   "outputs": [
    {
     "name": "stderr",
     "output_type": "stream",
     "text": [
      "\u001b[36m\u001b[1m[ \u001b[22m\u001b[39m\u001b[36m\u001b[1mInfo: \u001b[22m\u001b[39mPrecompiling CSV [336ed68f-0bac-5ca0-87d4-7b16caf5d00b] (cache misses: incompatible header (2))\n",
      "\u001b[36m\u001b[1m[ \u001b[22m\u001b[39m\u001b[36m\u001b[1mInfo: \u001b[22m\u001b[39mPrecompiling DataFrames [a93c6f00-e57d-5684-b7b6-d8193f3e46c0] (cache misses: incompatible header (2))\n",
      "\u001b[36m\u001b[1m[ \u001b[22m\u001b[39m\u001b[36m\u001b[1mInfo: \u001b[22m\u001b[39mPrecompiling GLM [38e38edf-8417-5370-95a0-9cbb8c7f171a] (cache misses: incompatible header (2))\n",
      "\u001b[36m\u001b[1m[ \u001b[22m\u001b[39m\u001b[36m\u001b[1mInfo: \u001b[22m\u001b[39mWaiting for another process (pid: 57502) to finish precompiling RegressionTables [d519eb52-b820-54da-95a6-98e1306fdade]. Pidfile: /home/gergo/.julia/compiled/v1.11/RegressionTables/cYvie_aAiQW.ji.pidfile\n",
      "\u001b[36m\u001b[1m[ \u001b[22m\u001b[39m\u001b[36m\u001b[1mInfo: \u001b[22m\u001b[39mPrecompiling RegressionTablesGLMExt [6eb700d4-e7d6-5b1a-bdb7-659d42738381] (cache misses: incompatible header (2))\n"
     ]
    },
    {
     "ename": "LoadError",
     "evalue": "ArgumentError: Package c not found in current path.\n- Run `import Pkg; Pkg.add(\"c\")` to install the c package.",
     "output_type": "error",
     "traceback": [
      "ArgumentError: Package c not found in current path.\n- Run `import Pkg; Pkg.add(\"c\")` to install the c package.",
      ""
     ]
    }
   ],
   "source": [
    "using CSV, DataFrames, GLM, RegressionTables, c\n",
    "using Statistics"
   ]
  },
  {
   "cell_type": "code",
   "execution_count": 76,
   "id": "773d70f2",
   "metadata": {},
   "outputs": [
    {
     "data": {
      "text/plain": [
       "scale (generic function with 2 methods)"
      ]
     },
     "execution_count": 76,
     "metadata": {},
     "output_type": "execute_result"
    }
   ],
   "source": [
    "function scale(df::DataFrame; cols::Vector{String}=names(df))\n",
    "    result = copy(df)\n",
    "    for col in cols\n",
    "        result[!, col] = (df[!, col] .- mean(df[!, col])) ./ std(df[!, col])\n",
    "    end\n",
    "    return result\n",
    "end\n",
    "\n",
    "function scale(x::AbstractVector)\n",
    "    return (x .- mean(x)) ./ std(x)\n",
    "end"
   ]
  },
  {
   "cell_type": "code",
   "execution_count": 2,
   "id": "74942ac4",
   "metadata": {},
   "outputs": [],
   "source": [
    "CITY = \"helsinki\"\n",
    "VERSION = \"20250428\"\n",
    "YEAR = 2022\n",
    ";"
   ]
  },
  {
   "cell_type": "code",
   "execution_count": 96,
   "id": "340d4158",
   "metadata": {},
   "outputs": [],
   "source": [
    "data = CSV.read(\"../output/$CITY/$VERSION/merged.csv\", DataFrame)\n",
    "socioecon = CSV.read(\"../output/$CITY//socioecon_change.csv\", DataFrame)\n",
    ";\n",
    "data = innerjoin(data, socioecon, on = :stop_id)\n",
    ";\n",
    "# data.total_multimodal = scale(data.total_multimodal)\n",
    "# data.total_walk15 = scale(data.total_walk15)\n",
    "# data.area_difference = scale(data.area_difference)\n",
    "# data.distance_betweenness = scale(data.distance_betweenness)\n",
    ";"
   ]
  },
  {
   "cell_type": "code",
   "execution_count": 88,
   "id": "0aa8bc8a",
   "metadata": {},
   "outputs": [],
   "source": [
    "# select(data, Not(:geometry))"
   ]
  },
  {
   "cell_type": "code",
   "execution_count": 69,
   "id": "b0fa3711",
   "metadata": {},
   "outputs": [],
   "source": [
    "# data = scale(data, cols=setdiff(names(data), [\"stop_id\", \"geometry\", \"stop_name\", \"stop_lat\", \"stop_lon\", \"ellipticity\"]))\n",
    ";"
   ]
  },
  {
   "cell_type": "code",
   "execution_count": null,
   "id": "8080f5c5",
   "metadata": {},
   "outputs": [],
   "source": [
    "# data[!, :gini_change] = data[!, :multimodal_gini] .- data[!, :walk15_gini]\n",
    ";"
   ]
  },
  {
   "cell_type": "code",
   "execution_count": 103,
   "id": "650be609",
   "metadata": {},
   "outputs": [],
   "source": [
    "# helsinki1\n",
    "# helsinki_gini = reg(data, @formula(weighted_gini_multi - weighted_gini_walk ~ weighted_gini_walk + (area_difference * ellipticity) + (distance_betweenness * ellipticity)))\n",
    "helsinki_gini = GLM.lm(@formula(weighted_gini_multi - weighted_gini_walk ~ weighted_gini_walk + (area_difference * ellipticity) + (distance_betweenness * ellipticity)), data)\n",
    "# helsinki1a\n",
    "# helsinki_access = reg(data, @formula(total_multimodal - total_walk15 ~ total_walk15 + (area_difference*ellipticity) + (distance_betweenness*ellipticity)))\n",
    "helsinki_access = GLM.lm(@formula(total_multimodal - total_walk15 ~ total_walk15 + (area_difference*ellipticity) + (distance_betweenness*ellipticity)), data)\n",
    ";"
   ]
  },
  {
   "cell_type": "code",
   "execution_count": 106,
   "id": "7eac9bde",
   "metadata": {},
   "outputs": [
    {
     "name": "stdout",
     "output_type": "stream",
     "text": [
      "────────────────────────────────────────────────────────────────────────────────────────────────────\n",
      "                                         Coef.  Std. Error      t  Pr(>|t|)    Lower 95%   Upper 95%\n",
      "────────────────────────────────────────────────────────────────────────────────────────────────────\n",
      "(Intercept)                         -75.3995    38.8948     -1.94    0.0527  -151.666       0.867252\n",
      "total_walk15                          0.652123   0.0164174  39.72    <1e-99     0.619931    0.684315\n",
      "area_difference                      38.766      4.79293     8.09    <1e-15    29.3678     48.1642\n",
      "ellipticity                         335.461     65.6205      5.11    <1e-06   206.789     464.132\n",
      "distance_betweenness                 -5.79035    4.90384    -1.18    0.2378   -15.406       3.82533\n",
      "area_difference & ellipticity        31.3209     8.25055     3.80    0.0002    15.1428     47.499\n",
      "distance_betweenness & ellipticity  -28.5244     8.20917    -3.47    0.0005   -44.6213    -12.4275\n",
      "────────────────────────────────────────────────────────────────────────────────────────────────────\n"
     ]
    }
   ],
   "source": [
    "println(coeftable(helsinki_access))"
   ]
  },
  {
   "cell_type": "code",
   "execution_count": 104,
   "id": "50c42e59",
   "metadata": {},
   "outputs": [
    {
     "data": {
      "text/plain": [
       "\n",
       "------------------------------------------------------------------------\n",
       "                                     Helsinki - Gini   Helsinki - Access\n",
       "                                     ---------------   -----------------\n",
       "                                                 (1)                 (2)\n",
       "------------------------------------------------------------------------\n",
       "(Intercept)                                 0.143***             -75.400\n",
       "                                             (0.003)            (38.895)\n",
       "weighted_gini_walk                         -0.425***                    \n",
       "                                             (0.010)                    \n",
       "area_difference                             -0.001**           38.766***\n",
       "                                             (0.000)             (4.793)\n",
       "ellipticity                                -0.015***          335.461***\n",
       "                                             (0.003)            (65.620)\n",
       "distance_betweenness                       -0.001***              -5.790\n",
       "                                             (0.000)             (4.904)\n",
       "area_difference & ellipticity               0.001***           31.321***\n",
       "                                             (0.000)             (8.251)\n",
       "distance_betweenness & ellipticity          0.002***          -28.524***\n",
       "                                             (0.000)             (8.209)\n",
       "total_walk15                                                    0.652***\n",
       "                                                                 (0.016)\n",
       "------------------------------------------------------------------------\n",
       "N                                              2,694               2,694\n",
       "R2                                             0.446               0.664\n",
       "------------------------------------------------------------------------\n",
       "\n"
      ]
     },
     "execution_count": 104,
     "metadata": {},
     "output_type": "execute_result"
    }
   ],
   "source": [
    "regtable([helsinki_gini, helsinki_access]...; render=AsciiTable(), labels=Dict(\"weighted_gini_multi - weighted_gini_walk\" => \"Helsinki - Gini\", \"total_multimodal - total_walk15\" => \"Helsinki - Access\"))"
   ]
  },
  {
   "cell_type": "code",
   "execution_count": null,
   "id": "b8981b02",
   "metadata": {},
   "outputs": [
    {
     "data": {
      "text/plain": [
       "                                        FixedEffectModel                                        \n",
       "================================================================================================\n",
       "Number of obs:                             4425  Converged:                                 true\n",
       "dof (model):                                  5  dof (residuals):                           4418\n",
       "R²:                                       0.204  R² adjusted:                              0.203\n",
       "F-statistic:                            226.782  P-value:                                  0.000\n",
       "================================================================================================\n",
       "                          Estimate   Std. Error     t-stat  Pr(>|t|)     Lower 95%     Upper 95%\n",
       "────────────────────────────────────────────────────────────────────────────────────────────────\n",
       "walk15_gini            0.286285     0.0090286    31.7086      <1e-99   0.268584      0.303985\n",
       "area                  -5.56795e-5   0.000143451  -0.388143    0.6979  -0.000336915   0.000225556\n",
       "distance_betweenness   0.000497824  0.000102409   4.86114     <1e-05   0.000297051   0.000698596\n",
       "closeness_centrality   0.385421     0.0316587    12.1742      <1e-32   0.323354      0.447488\n",
       "ellipticity           -0.00403876   0.0014656    -2.7557      0.0059  -0.00691207   -0.00116545\n",
       "(Intercept)            0.0992882    0.00298842   33.2243      <1e-99   0.0934294     0.105147\n",
       "================================================================================================\n"
      ]
     },
     "execution_count": 20,
     "metadata": {},
     "output_type": "execute_result"
    }
   ],
   "source": [
    "# m0 = reg(data, @formula(gini_change ~ area + distance_betweenness + closeness_centrality + ellipticity))\n",
    "m2 = reg(data, @formula(multimodal_gini ~ walk15_gini + area + distance_betweenness + closeness_centrality + ellipticity))"
   ]
  },
  {
   "cell_type": "code",
   "execution_count": null,
   "id": "88523f5c",
   "metadata": {},
   "outputs": [
    {
     "data": {
      "text/plain": [
       "\n",
       "--------------------------------------\n",
       "                       multimodal_gini\n",
       "--------------------------------------\n",
       "(Intercept)                   0.099***\n",
       "                               (0.003)\n",
       "walk15_gini                   0.286***\n",
       "                               (0.009)\n",
       "area                            -0.000\n",
       "                               (0.000)\n",
       "distance_betweenness          0.000***\n",
       "                               (0.000)\n",
       "closeness_centrality          0.385***\n",
       "                               (0.032)\n",
       "ellipticity                   -0.004**\n",
       "                               (0.001)\n",
       "--------------------------------------\n",
       "N                                4,425\n",
       "R2                               0.204\n",
       "--------------------------------------\n",
       "\n"
      ]
     },
     "execution_count": 21,
     "metadata": {},
     "output_type": "execute_result"
    }
   ],
   "source": [
    "regtable([m2]...; render=AsciiTable(), file=\"m1.txt\")"
   ]
  },
  {
   "cell_type": "code",
   "execution_count": null,
   "id": "3d7f463f",
   "metadata": {},
   "outputs": [],
   "source": []
  }
 ],
 "metadata": {
  "kernelspec": {
   "display_name": "Julia 1.11.5",
   "language": "julia",
   "name": "julia-1.11"
  },
  "language_info": {
   "file_extension": ".jl",
   "mimetype": "application/julia",
   "name": "julia",
   "version": "1.11.6"
  }
 },
 "nbformat": 4,
 "nbformat_minor": 5
}
