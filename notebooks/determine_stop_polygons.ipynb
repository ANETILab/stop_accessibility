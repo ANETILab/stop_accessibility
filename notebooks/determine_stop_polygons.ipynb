{
 "cells": [
  {
   "cell_type": "code",
   "execution_count": null,
   "metadata": {},
   "outputs": [],
   "source": [
    "import json\n",
    "\n",
    "import geopandas as gpd\n",
    "import pandas as pd\n",
    "import shapely\n",
    "from common import load_crs, load_stops\n",
    "from determine_stop_polygons import determine_stop_geometries_from_walk"
   ]
  },
  {
   "cell_type": "code",
   "execution_count": 3,
   "metadata": {
    "tags": [
     "parameters"
    ]
   },
   "outputs": [],
   "source": [
    "CITY = \"paris\"\n",
    "ELLIPTICITY_THRESHOLD = 5"
   ]
  },
  {
   "cell_type": "code",
   "execution_count": null,
   "metadata": {},
   "outputs": [],
   "source": [
    "crs = load_crs()\n",
    "\n",
    "with open(f\"../data/stops/{CITY}/accessible_stops.json\", \"r\") as fp:\n",
    "    accessible_stops = json.load(fp)\n",
    "\n",
    "# all_stops = set([i for k, v in accessible_stops.items() for i in v])\n",
    "# len(all_stops)\n",
    "\n",
    "isochrones = pd.read_csv(f\"../output/{CITY}/isochrones.csv\", dtype={\"stop_id\": str})\n",
    "isochrones[\"geometry\"] = isochrones[\"geometry\"].apply(shapely.from_wkt)\n",
    "isochrones = gpd.GeoDataFrame(isochrones, geometry=\"geometry\", crs=4326)\n",
    "\n",
    "stops = load_stops(CITY)"
   ]
  },
  {
   "cell_type": "code",
   "execution_count": null,
   "metadata": {},
   "outputs": [
    {
     "name": "stderr",
     "output_type": "stream",
     "text": [
      "/tmp/ipykernel_38907/1949567208.py:37: RuntimeWarning: invalid value encountered in sqrt\n",
      "  minor_axis_length = np.sqrt(eigenvalues[1])\n"
     ]
    }
   ],
   "source": [
    "sgfw = determine_stop_geometries_from_walk(\n",
    "    stops,\n",
    "    isochrones.query(\"costing == 'walk' & range == 5\"),\n",
    "    accessible_stops,\n",
    "    crs=crs[CITY],\n",
    "    ellipticity_threshold=ELLIPTICITY_THRESHOLD,\n",
    ")\n",
    "sgfw.to_csv(f\"../output/{CITY}/stop_geometries_from_walk.csv\", index=False)\n",
    "sgfw.to_file(f\"../output/{CITY}/stop_geometries_from_walk.geojson\")"
   ]
  },
  {
   "cell_type": "code",
   "execution_count": 16,
   "metadata": {},
   "outputs": [
    {
     "data": {
      "text/html": [
       "<div>\n",
       "<style scoped>\n",
       "    .dataframe tbody tr th:only-of-type {\n",
       "        vertical-align: middle;\n",
       "    }\n",
       "\n",
       "    .dataframe tbody tr th {\n",
       "        vertical-align: top;\n",
       "    }\n",
       "\n",
       "    .dataframe thead th {\n",
       "        text-align: right;\n",
       "    }\n",
       "</style>\n",
       "<table border=\"1\" class=\"dataframe\">\n",
       "  <thead>\n",
       "    <tr style=\"text-align: right;\">\n",
       "      <th></th>\n",
       "      <th>stop_id</th>\n",
       "      <th>geometry</th>\n",
       "      <th>area</th>\n",
       "      <th>ellipticity</th>\n",
       "      <th>number_of_accessible_stops</th>\n",
       "    </tr>\n",
       "  </thead>\n",
       "  <tbody>\n",
       "    <tr>\n",
       "      <th>0</th>\n",
       "      <td>9375374</td>\n",
       "      <td>POLYGON ((2.55953 49.01458, 2.56197 49.0135, 2...</td>\n",
       "      <td>0.306</td>\n",
       "      <td>NaN</td>\n",
       "      <td>2</td>\n",
       "    </tr>\n",
       "    <tr>\n",
       "      <th>1</th>\n",
       "      <td>8185379</td>\n",
       "      <td>POLYGON ((2.14701 48.81059, 2.14714 48.81084, ...</td>\n",
       "      <td>2.874</td>\n",
       "      <td>0.9237</td>\n",
       "      <td>21</td>\n",
       "    </tr>\n",
       "    <tr>\n",
       "      <th>2</th>\n",
       "      <td>4109795</td>\n",
       "      <td>POLYGON ((2.50654 48.88261, 2.50452 48.88437, ...</td>\n",
       "      <td>1.893</td>\n",
       "      <td>0.6463</td>\n",
       "      <td>17</td>\n",
       "    </tr>\n",
       "    <tr>\n",
       "      <th>3</th>\n",
       "      <td>4109789</td>\n",
       "      <td>POLYGON ((2.51062 48.88033, 2.50981 48.88104, ...</td>\n",
       "      <td>2.106</td>\n",
       "      <td>0.5963</td>\n",
       "      <td>29</td>\n",
       "    </tr>\n",
       "    <tr>\n",
       "      <th>4</th>\n",
       "      <td>7647719</td>\n",
       "      <td>POLYGON ((2.38138 48.89728, 2.37856 48.89745, ...</td>\n",
       "      <td>1.730</td>\n",
       "      <td>0.8079</td>\n",
       "      <td>17</td>\n",
       "    </tr>\n",
       "    <tr>\n",
       "      <th>...</th>\n",
       "      <td>...</td>\n",
       "      <td>...</td>\n",
       "      <td>...</td>\n",
       "      <td>...</td>\n",
       "      <td>...</td>\n",
       "    </tr>\n",
       "    <tr>\n",
       "      <th>7007</th>\n",
       "      <td>9296791</td>\n",
       "      <td>POLYGON ((2.4619 48.77467, 2.46126 48.77497, 2...</td>\n",
       "      <td>2.339</td>\n",
       "      <td>0.6576</td>\n",
       "      <td>38</td>\n",
       "    </tr>\n",
       "    <tr>\n",
       "      <th>7008</th>\n",
       "      <td>3619886</td>\n",
       "      <td>POLYGON ((2.46283 48.77166, 2.46247 48.77279, ...</td>\n",
       "      <td>2.234</td>\n",
       "      <td>0.6056</td>\n",
       "      <td>34</td>\n",
       "    </tr>\n",
       "    <tr>\n",
       "      <th>7009</th>\n",
       "      <td>8219623</td>\n",
       "      <td>POLYGON ((2.32971 48.79304, 2.32956 48.79441, ...</td>\n",
       "      <td>2.226</td>\n",
       "      <td>0.6391</td>\n",
       "      <td>33</td>\n",
       "    </tr>\n",
       "    <tr>\n",
       "      <th>7010</th>\n",
       "      <td>4036670</td>\n",
       "      <td>POLYGON ((2.28068 48.89295, 2.27615 48.89334, ...</td>\n",
       "      <td>1.694</td>\n",
       "      <td>0.6491</td>\n",
       "      <td>25</td>\n",
       "    </tr>\n",
       "    <tr>\n",
       "      <th>7011</th>\n",
       "      <td>7512855</td>\n",
       "      <td>POLYGON ((2.28068 48.89295, 2.27615 48.89334, ...</td>\n",
       "      <td>1.694</td>\n",
       "      <td>0.6491</td>\n",
       "      <td>25</td>\n",
       "    </tr>\n",
       "  </tbody>\n",
       "</table>\n",
       "<p>7012 rows × 5 columns</p>\n",
       "</div>"
      ],
      "text/plain": [
       "      stop_id                                           geometry   area  \\\n",
       "0     9375374  POLYGON ((2.55953 49.01458, 2.56197 49.0135, 2...  0.306   \n",
       "1     8185379  POLYGON ((2.14701 48.81059, 2.14714 48.81084, ...  2.874   \n",
       "2     4109795  POLYGON ((2.50654 48.88261, 2.50452 48.88437, ...  1.893   \n",
       "3     4109789  POLYGON ((2.51062 48.88033, 2.50981 48.88104, ...  2.106   \n",
       "4     7647719  POLYGON ((2.38138 48.89728, 2.37856 48.89745, ...  1.730   \n",
       "...       ...                                                ...    ...   \n",
       "7007  9296791  POLYGON ((2.4619 48.77467, 2.46126 48.77497, 2...  2.339   \n",
       "7008  3619886  POLYGON ((2.46283 48.77166, 2.46247 48.77279, ...  2.234   \n",
       "7009  8219623  POLYGON ((2.32971 48.79304, 2.32956 48.79441, ...  2.226   \n",
       "7010  4036670  POLYGON ((2.28068 48.89295, 2.27615 48.89334, ...  1.694   \n",
       "7011  7512855  POLYGON ((2.28068 48.89295, 2.27615 48.89334, ...  1.694   \n",
       "\n",
       "      ellipticity  number_of_accessible_stops  \n",
       "0             NaN                           2  \n",
       "1          0.9237                          21  \n",
       "2          0.6463                          17  \n",
       "3          0.5963                          29  \n",
       "4          0.8079                          17  \n",
       "...           ...                         ...  \n",
       "7007       0.6576                          38  \n",
       "7008       0.6056                          34  \n",
       "7009       0.6391                          33  \n",
       "7010       0.6491                          25  \n",
       "7011       0.6491                          25  \n",
       "\n",
       "[7012 rows x 5 columns]"
      ]
     },
     "execution_count": 16,
     "metadata": {},
     "output_type": "execute_result"
    }
   ],
   "source": [
    "sgfw"
   ]
  },
  {
   "cell_type": "code",
   "execution_count": 43,
   "metadata": {},
   "outputs": [],
   "source": [
    "# stop = \"009461\"\n",
    "# # stop = \"009749\"\n",
    "# fig, ax = plt.subplots()\n",
    "# sgfw[sgfw[\"stop_id\"] == stop].plot(ax=ax, fc=\"#afdfff\", ec=\"#00aaff\")\n",
    "# stops[\n",
    "#     (stops[\"stop_id\"].isin(accessible_stops[stop])) & (stops[\"stop_id\"] != stop)\n",
    "# ].plot(ax=ax, color=\"#2d2d2d\", markersize=15, zorder=5)\n",
    "# stops[stops[\"stop_id\"] == stop].plot(ax=ax, color=\"red\", markersize=20, zorder=10)"
   ]
  },
  {
   "cell_type": "code",
   "execution_count": null,
   "metadata": {},
   "outputs": [],
   "source": []
  }
 ],
 "metadata": {
  "kernelspec": {
   "display_name": "calculate_accessibility-4Q_DyPin-py3.11",
   "language": "python",
   "name": "python3"
  },
  "language_info": {
   "codemirror_mode": {
    "name": "ipython",
    "version": 3
   },
   "file_extension": ".py",
   "mimetype": "text/x-python",
   "name": "python",
   "nbconvert_exporter": "python",
   "pygments_lexer": "ipython3",
   "version": "3.11.11"
  }
 },
 "nbformat": 4,
 "nbformat_minor": 2
}
