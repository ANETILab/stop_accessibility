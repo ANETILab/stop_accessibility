{
 "cells": [
  {
   "cell_type": "code",
   "execution_count": 1,
   "metadata": {},
   "outputs": [],
   "source": [
    "import json\n",
    "\n",
    "import geopandas as gpd\n",
    "import networkx as nx\n",
    "import numpy as np\n",
    "import pandas as pd\n",
    "import shapely\n",
    "import structlog\n",
    "from shapely import Point, Polygon\n",
    "\n",
    "\n",
    "def compute_ellipticity(points: np.array) -> float:\n",
    "    \"\"\"\n",
    "    Compute ellipticity of a set of points.\n",
    "\n",
    "    Parameters:\n",
    "    - points (numpy array): Array of shape (n, 2) representing (x, y) coordinates of points.\n",
    "\n",
    "    Returns:\n",
    "    - ellipticity (float): Ellipticity value.\n",
    "    \"\"\"\n",
    "\n",
    "    # Calculate the covariance matrix of the points\n",
    "    cov_matrix = np.cov(points, rowvar=False)\n",
    "\n",
    "    # Calculate eigenvalues and eigenvectors of the covariance matrix\n",
    "    eigenvalues, eigenvectors = np.linalg.eigh(cov_matrix)\n",
    "\n",
    "    # Sort eigenvalues in descending order\n",
    "    sorted_indices = np.argsort(eigenvalues)[::-1]\n",
    "    eigenvalues = eigenvalues[sorted_indices]\n",
    "    eigenvectors = eigenvectors[:, sorted_indices]\n",
    "\n",
    "    # Major and minor axis lengths are square roots of eigenvalues\n",
    "    major_axis_length = np.sqrt(eigenvalues[0])\n",
    "    minor_axis_length = np.sqrt(eigenvalues[1])\n",
    "\n",
    "    # Compute ellipticity\n",
    "    ellipticity = 1.0 - (minor_axis_length / major_axis_length)\n",
    "\n",
    "    return ellipticity\n",
    "\n",
    "\n",
    "def ellipticity(points: list[Point], threshold: int = 10, decimals: int = 4) -> float:\n",
    "    points = [(i.x, i.y) for i in points]\n",
    "    if len(points) < threshold:\n",
    "        return None\n",
    "\n",
    "    return np.round(compute_ellipticity(points), decimals)\n",
    "\n",
    "\n",
    "def determine_stop_geometries(\n",
    "    stops: gpd.GeoDataFrame,\n",
    "    subgraphs: dict,\n",
    "    time_marker: int = 39,\n",
    "    suffix: str = \"\",\n",
    "    concaveness_ratio: float = 0.2,\n",
    "    # include_key: bool = True,\n",
    "    include_empty: bool = False,\n",
    ") -> pd.DataFrame:\n",
    "    \"\"\"\n",
    "    Calculates convex and concave hulls of the accessible network, and also the ellipticity of the stops.\n",
    "\n",
    "    While the convex hull is unambiguous, multiple concave hulls can be constructed.\n",
    "    \"\"\"\n",
    "    records = []\n",
    "    for row in stops.itertuples():\n",
    "        accessible_stops = list(\n",
    "            subgraphs.get(f\"{row.stop_id}_network_{time_marker}\", nx.Graph())\n",
    "        )\n",
    "        accessible_stops = stops[stops[\"stop_id\"].isin(accessible_stops)].copy()\n",
    "        if len(accessible_stops) == 0:\n",
    "            if include_empty:\n",
    "                records.append([row.stop_id, Polygon(), 0, Polygon(), 0, 0])\n",
    "            continue\n",
    "        points = accessible_stops.union_all()\n",
    "        cv = shapely.convex_hull(points)\n",
    "        cc = shapely.concave_hull(points, ratio=concaveness_ratio)\n",
    "        el = ellipticity(accessible_stops.geometry.tolist())\n",
    "\n",
    "        records.append(\n",
    "            [\n",
    "                row.stop_id,\n",
    "                cv,\n",
    "                round(cv.area / 1e6, 3),\n",
    "                cc,\n",
    "                round(cc.area / 1e6, 3),\n",
    "                el,\n",
    "            ]\n",
    "        )\n",
    "    columns = [\"stop_id\"] + [\n",
    "        i + suffix\n",
    "        for i in [\n",
    "            \"convex\",\n",
    "            \"convex_area\",\n",
    "            \"concave\",\n",
    "            \"concave_area\",\n",
    "            \"ellipticity\",\n",
    "        ]\n",
    "    ]\n",
    "\n",
    "    return pd.DataFrame.from_records(records, columns=columns)\n",
    "    # if include_key:\n",
    "    #     result[\"time\"] = time_marker\n",
    "    # return result"
   ]
  },
  {
   "cell_type": "code",
   "execution_count": 2,
   "metadata": {},
   "outputs": [],
   "source": [
    "def determine_stop_geometries_from_walk(\n",
    "    stops: gpd.GeoDataFrame,\n",
    "    isochrones: gpd.GeoDataFrame,\n",
    "    accessible_stops,\n",
    "    crs: int = 23700,\n",
    ") -> gpd.GeoDataFrame:\n",
    "    records = []\n",
    "    for row in stops.itertuples():\n",
    "        if row.stop_id not in accessible_stops:\n",
    "            # logger.info(row.stop_id)\n",
    "            continue\n",
    "        accessible = stops[stops[\"stop_id\"].isin(accessible_stops[row.stop_id])].copy()\n",
    "\n",
    "        el = ellipticity(accessible.geometry.tolist())\n",
    "        accessible_area = isochrones[\n",
    "            (isochrones[\"stop_id\"].isin(accessible_stops[row.stop_id]))\n",
    "            & (isochrones[\"costing\"] == \"walk\")\n",
    "            & (isochrones[\"range\"] == 5)\n",
    "        ].copy()\n",
    "        accessible_area_crs = accessible_area.to_crs(crs).union_all()\n",
    "        records.append(\n",
    "            [\n",
    "                row.stop_id,\n",
    "                accessible_area.union_all(),\n",
    "                round(accessible_area_crs.area / 1e6, 3),\n",
    "                el,\n",
    "            ]\n",
    "        )\n",
    "    df = pd.DataFrame.from_records(\n",
    "        records,\n",
    "        columns=[\"stop_id\", \"geometry\", \"area\", \"ellipticity\"],\n",
    "    )\n",
    "    return gpd.GeoDataFrame(df, crs=4326)"
   ]
  },
  {
   "cell_type": "code",
   "execution_count": 3,
   "metadata": {},
   "outputs": [],
   "source": [
    "logger = structlog.get_logger()"
   ]
  },
  {
   "cell_type": "code",
   "execution_count": 4,
   "metadata": {
    "tags": [
     "parameters"
    ]
   },
   "outputs": [],
   "source": [
    "CITY = \"budapest\"\n",
    "CRS = 23700\n",
    "STOPS_FILENAME = \"Budapest_stops_with_centrality.csv\"\n",
    "# DICT_FILENAME = \"Budapest_10min_walbetclus.pkl\""
   ]
  },
  {
   "cell_type": "code",
   "execution_count": 97,
   "metadata": {},
   "outputs": [],
   "source": [
    "# CITY = \"madrid\"\n",
    "# CRS = 2062\n",
    "# STOPS_FILENAME = \"Madrid_stops_with_centrality.csv\""
   ]
  },
  {
   "cell_type": "code",
   "execution_count": 98,
   "metadata": {},
   "outputs": [],
   "source": [
    "# CITY = \"rotterdam\"\n",
    "# CRS = 2193\n",
    "# STOPS_FILENAME = \"Rotterdam_stops_with_centrality.csv\""
   ]
  },
  {
   "cell_type": "code",
   "execution_count": 5,
   "metadata": {},
   "outputs": [],
   "source": [
    "CITY = \"paris\"\n",
    "CRS = 2154\n",
    "STOPS_FILENAME = \"Paris_stops_with_centrality.csv\""
   ]
  },
  {
   "cell_type": "code",
   "execution_count": 6,
   "metadata": {},
   "outputs": [],
   "source": [
    "with open(f\"../data/stops/{CITY}/accessible_stops.json\", \"r\") as fp:\n",
    "    accessible_stops = json.load(fp)"
   ]
  },
  {
   "cell_type": "code",
   "execution_count": 24,
   "metadata": {},
   "outputs": [],
   "source": [
    "if CITY == \"paris\":\n",
    "    accessible_stops = {int(float(k)): v for k, v in accessible_stops.items()}"
   ]
  },
  {
   "cell_type": "code",
   "execution_count": 7,
   "metadata": {},
   "outputs": [
    {
     "data": {
      "text/plain": [
       "24143"
      ]
     },
     "execution_count": 7,
     "metadata": {},
     "output_type": "execute_result"
    }
   ],
   "source": [
    "all_stops = set([i for k, v in accessible_stops.items() for i in v])\n",
    "len(all_stops)"
   ]
  },
  {
   "cell_type": "code",
   "execution_count": 8,
   "metadata": {},
   "outputs": [],
   "source": [
    "isochrones = pd.read_csv(f\"../output/{CITY}/isochrones.csv\")\n",
    "isochrones[\"geometry\"] = isochrones[\"geometry\"].apply(shapely.from_wkt)\n",
    "isochrones = gpd.GeoDataFrame(isochrones, geometry=\"geometry\", crs=4326)"
   ]
  },
  {
   "cell_type": "code",
   "execution_count": 9,
   "metadata": {},
   "outputs": [
    {
     "data": {
      "text/html": [
       "<div>\n",
       "<style scoped>\n",
       "    .dataframe tbody tr th:only-of-type {\n",
       "        vertical-align: middle;\n",
       "    }\n",
       "\n",
       "    .dataframe tbody tr th {\n",
       "        vertical-align: top;\n",
       "    }\n",
       "\n",
       "    .dataframe thead th {\n",
       "        text-align: right;\n",
       "    }\n",
       "</style>\n",
       "<table border=\"1\" class=\"dataframe\">\n",
       "  <thead>\n",
       "    <tr style=\"text-align: right;\">\n",
       "      <th></th>\n",
       "      <th>Node</th>\n",
       "      <th>Eigenvector Centrality</th>\n",
       "      <th>Degree Centrality</th>\n",
       "      <th>Closeness Centrality</th>\n",
       "      <th>Betweenness Centrality</th>\n",
       "      <th>stop_id</th>\n",
       "      <th>clust</th>\n",
       "      <th>stop_lat</th>\n",
       "      <th>stop_lon</th>\n",
       "      <th>geometry</th>\n",
       "    </tr>\n",
       "  </thead>\n",
       "  <tbody>\n",
       "    <tr>\n",
       "      <th>0</th>\n",
       "      <td>1.0</td>\n",
       "      <td>0.000139</td>\n",
       "      <td>0.000171</td>\n",
       "      <td>0.036953</td>\n",
       "      <td>0.000000</td>\n",
       "      <td>9375373</td>\n",
       "      <td>1</td>\n",
       "      <td>49.010502</td>\n",
       "      <td>2.559527</td>\n",
       "      <td>POINT (2.55953 49.0105)</td>\n",
       "    </tr>\n",
       "    <tr>\n",
       "      <th>1</th>\n",
       "      <td>1.0</td>\n",
       "      <td>0.000139</td>\n",
       "      <td>0.000171</td>\n",
       "      <td>0.036953</td>\n",
       "      <td>0.000000</td>\n",
       "      <td>9375374</td>\n",
       "      <td>1</td>\n",
       "      <td>49.010502</td>\n",
       "      <td>2.559527</td>\n",
       "      <td>POINT (2.55953 49.0105)</td>\n",
       "    </tr>\n",
       "    <tr>\n",
       "      <th>2</th>\n",
       "      <td>86.0</td>\n",
       "      <td>0.000725</td>\n",
       "      <td>0.000856</td>\n",
       "      <td>0.038477</td>\n",
       "      <td>0.000865</td>\n",
       "      <td>3672258</td>\n",
       "      <td>86</td>\n",
       "      <td>49.003367</td>\n",
       "      <td>2.564359</td>\n",
       "      <td>POINT (2.56436 49.00337)</td>\n",
       "    </tr>\n",
       "  </tbody>\n",
       "</table>\n",
       "</div>"
      ],
      "text/plain": [
       "   Node  Eigenvector Centrality  Degree Centrality  Closeness Centrality  \\\n",
       "0   1.0                0.000139           0.000171              0.036953   \n",
       "1   1.0                0.000139           0.000171              0.036953   \n",
       "2  86.0                0.000725           0.000856              0.038477   \n",
       "\n",
       "   Betweenness Centrality  stop_id  clust   stop_lat  stop_lon  \\\n",
       "0                0.000000  9375373      1  49.010502  2.559527   \n",
       "1                0.000000  9375374      1  49.010502  2.559527   \n",
       "2                0.000865  3672258     86  49.003367  2.564359   \n",
       "\n",
       "                   geometry  \n",
       "0   POINT (2.55953 49.0105)  \n",
       "1   POINT (2.55953 49.0105)  \n",
       "2  POINT (2.56436 49.00337)  "
      ]
     },
     "execution_count": 9,
     "metadata": {},
     "output_type": "execute_result"
    }
   ],
   "source": [
    "stops = pd.read_csv(f\"../data/stops/{CITY}/{STOPS_FILENAME}\", engine=\"pyarrow\")\n",
    "stops[\"geometry\"] = stops.apply(lambda x: Point(x[\"stop_lon\"], x[\"stop_lat\"]), axis=1)\n",
    "stops = gpd.GeoDataFrame(stops, geometry=\"geometry\", crs=4326)\n",
    "# stops.to_crs(CRS, inplace=True)\n",
    "stops.head(3)"
   ]
  },
  {
   "cell_type": "code",
   "execution_count": 115,
   "metadata": {},
   "outputs": [],
   "source": [
    "# stops[stops[\"stop_id\"].isin(all_stops)]\n",
    "# stops[stops[\"stop_id\"].isin(accessible_stops.keys())]"
   ]
  },
  {
   "cell_type": "code",
   "execution_count": 26,
   "metadata": {},
   "outputs": [],
   "source": [
    "sgfw = determine_stop_geometries_from_walk(\n",
    "    stops, isochrones.query(\"costing == 'walk' & range == 5\"), accessible_stops, crs=CRS\n",
    ")\n",
    "sgfw.to_csv(f\"../output/{CITY}/stop_geometries_from_walk.csv\", index=False)\n",
    "sgfw.to_file(f\"../output/{CITY}/stop_geometries_from_walk.geojson\")"
   ]
  },
  {
   "cell_type": "code",
   "execution_count": 117,
   "metadata": {},
   "outputs": [],
   "source": [
    "# stop = \"009461\"\n",
    "# # stop = \"009749\"\n",
    "# fig, ax = plt.subplots()\n",
    "# sgfw[sgfw[\"stop_id\"] == stop].plot(ax=ax, fc=\"#afdfff\", ec=\"#00aaff\")\n",
    "# stops[\n",
    "#     (stops[\"stop_id\"].isin(accessible_stops[stop])) & (stops[\"stop_id\"] != stop)\n",
    "# ].plot(ax=ax, color=\"#2d2d2d\", markersize=15, zorder=5)\n",
    "# stops[stops[\"stop_id\"] == stop].plot(ax=ax, color=\"red\", markersize=20, zorder=10)"
   ]
  },
  {
   "cell_type": "code",
   "execution_count": 118,
   "metadata": {},
   "outputs": [],
   "source": [
    "# stops_accessibility = determine_stop_geometries(stops, subgraphs, suffix=SUFFIX)\n",
    "# stops_accessibility.head(3)\n",
    "# stops_accessibility.to_csv(f\"../output/{CITY}/stop_geometries.csv\", index=False)"
   ]
  },
  {
   "cell_type": "code",
   "execution_count": 119,
   "metadata": {},
   "outputs": [],
   "source": [
    "# try:\n",
    "#     full = pd.read_csv(f\"../output/{CITY}/stop_geometries.csv\", engine=\"pyarrow\")\n",
    "# except FileNotFoundError:\n",
    "#     # runs 12m for 10-minute only\n",
    "#     full = pd.DataFrame()\n",
    "#     for i in range(72):\n",
    "#         sa = determine_stop_geometries(stops, subgraphs, time_marker=i)\n",
    "#         sa[\"time\"] = i\n",
    "#         full = pd.concat([full, sa])\n",
    "#     full.to_csv(f\"../output/{CITY}/stop_geometries.csv\", index=False)\n",
    "#     full.drop([\"convex\", \"concave\"], axis=1).to_csv(\n",
    "#         f\"../output/{CITY}/stop_metrics.csv\", index=False\n",
    "#     )"
   ]
  },
  {
   "cell_type": "code",
   "execution_count": 120,
   "metadata": {},
   "outputs": [],
   "source": [
    "# def kernel(i: int) -> pd.DataFrame:\n",
    "#     sa = determine_stop_geometries(stops, subgraphs, time_marker=i, include_empty=True)\n",
    "#     sa[\"time\"] = i\n",
    "#     return sa\n",
    "\n",
    "\n",
    "# with Pool(4) as p:\n",
    "#     partials = p.map(kernel, range(72))\n",
    "\n",
    "# full = pd.DataFrame()\n",
    "# for i in partials:\n",
    "#     full = pd.concat([full, i])\n",
    "\n",
    "# full.to_csv(f\"../output/{CITY}/stop_geometries.csv\", index=False)\n",
    "# full.drop([\"convex\", \"concave\"], axis=1).to_csv(\n",
    "#     f\"../output/{CITY}/stop_metrics.csv\", index=False\n",
    "# )"
   ]
  },
  {
   "cell_type": "code",
   "execution_count": null,
   "metadata": {},
   "outputs": [],
   "source": []
  }
 ],
 "metadata": {
  "kernelspec": {
   "display_name": "calculate_accessibility-4Q_DyPin-py3.11",
   "language": "python",
   "name": "python3"
  },
  "language_info": {
   "codemirror_mode": {
    "name": "ipython",
    "version": 3
   },
   "file_extension": ".py",
   "mimetype": "text/x-python",
   "name": "python",
   "nbconvert_exporter": "python",
   "pygments_lexer": "ipython3",
   "version": "3.11.11"
  }
 },
 "nbformat": 4,
 "nbformat_minor": 2
}
