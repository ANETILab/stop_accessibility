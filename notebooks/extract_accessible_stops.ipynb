{
 "cells": [
  {
   "cell_type": "code",
   "execution_count": 9,
   "metadata": {},
   "outputs": [],
   "source": [
    "import pickle\n",
    "import json\n",
    "\n",
    "cities = {\n",
    "    \"budapest\": \"Budapest_10min_walbetclus.pkl\",\n",
    "    \"madrid\": \"Madrid_10min_travel_walbetclus.pkl\",\n",
    "    \"paris\": \"Paris_10min_walbetclus.pkl\",\n",
    "    \"rotterdam\": \"Rotterdam_10min_walbetclus.pkl\",\n",
    "}"
   ]
  },
  {
   "cell_type": "markdown",
   "metadata": {},
   "source": [
    "The pickle contains a `dict[str, tuple[list, set[str]]]` structure, where the set contains the accessible stops in a given hour of a given day.\n",
    "The list describes alternative routes from a given stop with times."
   ]
  },
  {
   "cell_type": "code",
   "execution_count": 10,
   "metadata": {},
   "outputs": [],
   "source": [
    "for city, filename in cities.items():\n",
    "    \n",
    "    with open(f\"../data/stops/{city}/{filename}\", \"rb\") as fp:\n",
    "        subgraphs = pickle.load(fp)\n",
    "\n",
    "    accessible_stops = {k: list(v[1]) for k, v in subgraphs.items()}\n",
    "    with open(f\"../data/stops/{city}/accessible_stops.json\", \"w\") as fp:\n",
    "        json.dump(accessible_stops, fp)"
   ]
  },
  {
   "cell_type": "code",
   "execution_count": null,
   "metadata": {},
   "outputs": [],
   "source": []
  }
 ],
 "metadata": {
  "kernelspec": {
   "display_name": "Python 3",
   "language": "python",
   "name": "python3"
  },
  "language_info": {
   "codemirror_mode": {
    "name": "ipython",
    "version": 3
   },
   "file_extension": ".py",
   "mimetype": "text/x-python",
   "name": "python",
   "nbconvert_exporter": "python",
   "pygments_lexer": "ipython3",
   "version": "3.12.6"
  }
 },
 "nbformat": 4,
 "nbformat_minor": 2
}
