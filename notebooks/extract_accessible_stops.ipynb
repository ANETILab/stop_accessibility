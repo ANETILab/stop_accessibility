{
 "cells": [
  {
   "cell_type": "code",
   "execution_count": null,
   "metadata": {},
   "outputs": [],
   "source": [
    "import json\n",
    "import pickle\n",
    "\n",
    "cities = [\"budapest\", \"madrid\", \"paris\", \"rotterdam\"]"
   ]
  },
  {
   "cell_type": "markdown",
   "metadata": {},
   "source": [
    "The pickle contains a `dict[str, tuple[list, set[str]]]` structure, where the set contains the accessible stops in a given hour of a given day.\n",
    "The list describes alternative routes from a given stop with times."
   ]
  },
  {
   "cell_type": "code",
   "execution_count": null,
   "metadata": {},
   "outputs": [],
   "source": [
    "for city, filename in cities:\n",
    "    with open(f\"../data/stops/{city}/10min_walbetclus.pkl\", \"rb\") as fp:\n",
    "        subgraphs = pickle.load(fp)\n",
    "\n",
    "    accessible_stops = {k: list(v[1]) for k, v in subgraphs.items()}\n",
    "    with open(f\"../data/stops/{city}/accessible_stops.json\", \"w\") as fp:\n",
    "        json.dump(accessible_stops, fp)"
   ]
  },
  {
   "cell_type": "code",
   "execution_count": null,
   "metadata": {},
   "outputs": [],
   "source": []
  }
 ],
 "metadata": {
  "kernelspec": {
   "display_name": "calculate_accessibility-4Q_DyPin-py3.11",
   "language": "python",
   "name": "python3"
  },
  "language_info": {
   "codemirror_mode": {
    "name": "ipython",
    "version": 3
   },
   "file_extension": ".py",
   "mimetype": "text/x-python",
   "name": "python",
   "nbconvert_exporter": "python",
   "pygments_lexer": "ipython3",
   "version": "3.11.11"
  }
 },
 "nbformat": 4,
 "nbformat_minor": 2
}
