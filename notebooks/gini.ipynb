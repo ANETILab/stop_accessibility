{
 "cells": [
  {
   "cell_type": "code",
   "execution_count": 2,
   "id": "d190a627",
   "metadata": {},
   "outputs": [],
   "source": [
    "import numpy as np"
   ]
  },
  {
   "cell_type": "code",
   "execution_count": 8,
   "id": "de5ca0fb",
   "metadata": {},
   "outputs": [],
   "source": [
    "def gini(array):\n",
    "    \"\"\"Calculate the Gini coefficient of a numpy array.\"\"\"\n",
    "    # based on bottom eq:\n",
    "    # http://www.statsdirect.com/help/generatedimages/equations/equation154.svg\n",
    "    # from:\n",
    "    # http://www.statsdirect.com/help/default.htm#nonparametric_methods/gini.htm\n",
    "    # All values are treated equally, arrays must be 1d:\n",
    "    array = array.flatten()\n",
    "    if np.amin(array) < 0:\n",
    "        # Values cannot be negative:\n",
    "        array -= np.amin(array)\n",
    "    # Values cannot be 0:\n",
    "    array = array + 0.0000001\n",
    "    # Values must be sorted:\n",
    "    array = np.sort(array)\n",
    "    # Index per array element:\n",
    "    index = np.arange(1, array.shape[0] + 1)\n",
    "    # Number of array elements:\n",
    "    n = array.shape[0]\n",
    "    # Gini coefficient:\n",
    "    return (np.sum((2 * index - n - 1) * array)) / (n * np.sum(array))"
   ]
  },
  {
   "cell_type": "code",
   "execution_count": 9,
   "id": "36317b60",
   "metadata": {},
   "outputs": [
    {
     "data": {
      "text/plain": [
       "0.3999999920000002"
      ]
     },
     "execution_count": 9,
     "metadata": {},
     "output_type": "execute_result"
    }
   ],
   "source": [
    "gini(np.array([0, 2.5, 5.0, 7.5, 10.0]))"
   ]
  },
  {
   "cell_type": "code",
   "execution_count": null,
   "id": "41ab05ae",
   "metadata": {},
   "outputs": [],
   "source": [
    "def calculate_gini(array: np.array) -> np.float64:\n",
    "    \"\"\"Calculate the Gini coefficient of a numpy array.\n",
    "    based on : https://github.com/oliviaguest/gini (CC0 1.0)\n",
    "    \"\"\"\n",
    "    # Values must be sorted:\n",
    "    array = np.sort(array)\n",
    "    # Index per array element:\n",
    "    index = np.arange(1, array.shape[0] + 1)\n",
    "    # Number of array elements:\n",
    "    n = array.shape[0]\n",
    "    # Gini coefficient:\n",
    "    return (np.sum((2 * index - n - 1) * array)) / (n * np.sum(array))"
   ]
  },
  {
   "cell_type": "code",
   "execution_count": 20,
   "id": "08dbb109",
   "metadata": {},
   "outputs": [
    {
     "data": {
      "text/plain": [
       "0.4"
      ]
     },
     "execution_count": 20,
     "metadata": {},
     "output_type": "execute_result"
    }
   ],
   "source": [
    "calculate_gini(np.array([0, 2.5, 5.0, 7.5, 10.0]))"
   ]
  },
  {
   "cell_type": "code",
   "execution_count": null,
   "id": "c158c001",
   "metadata": {},
   "outputs": [],
   "source": [
    "# https://www.ellipsix.net/blog/2012/11/the-gini-coefficient-for-distribution-inequality.html\n",
    "# CC BY-SA 2.5\n",
    "def gini_coeff(x):\n",
    "    # requires all values in x to be zero or positive numbers,\n",
    "    # otherwise results are undefined\n",
    "    n = len(x)\n",
    "    s = x.sum()\n",
    "    r = np.argsort(np.argsort(-x))  # calculates zero-based ranks\n",
    "    return 1 - (2.0 * (r * x).sum() + s) / (n * s)"
   ]
  },
  {
   "cell_type": "code",
   "execution_count": 11,
   "id": "03260544",
   "metadata": {},
   "outputs": [
    {
     "data": {
      "text/plain": [
       "0.4"
      ]
     },
     "execution_count": 11,
     "metadata": {},
     "output_type": "execute_result"
    }
   ],
   "source": [
    "gini_coeff(np.array([0, 2.5, 5.0, 7.5, 10.0]))"
   ]
  },
  {
   "cell_type": "code",
   "execution_count": null,
   "id": "96a47574",
   "metadata": {},
   "outputs": [],
   "source": []
  }
 ],
 "metadata": {
  "kernelspec": {
   "display_name": "calculate_accessibility-4Q_DyPin-py3.11",
   "language": "python",
   "name": "python3"
  },
  "language_info": {
   "codemirror_mode": {
    "name": "ipython",
    "version": 3
   },
   "file_extension": ".py",
   "mimetype": "text/x-python",
   "name": "python",
   "nbconvert_exporter": "python",
   "pygments_lexer": "ipython3",
   "version": "3.11.11"
  }
 },
 "nbformat": 4,
 "nbformat_minor": 5
}
