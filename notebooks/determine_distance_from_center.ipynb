{
 "cells": [
  {
   "cell_type": "code",
   "execution_count": 1,
   "metadata": {},
   "outputs": [],
   "source": [
    "import geopandas as gpd\n",
    "import numpy as np\n",
    "import osmnx as ox\n",
    "import pandas as pd\n",
    "import yaml\n",
    "from shapely import Point, Polygon\n",
    "\n",
    "ox.settings.use_cache = True\n",
    "ox.settings.log_console = False\n",
    "\n",
    "with open(\"../data/crs.yaml\", \"r\") as fp:\n",
    "    crs = yaml.safe_load(fp)"
   ]
  },
  {
   "cell_type": "code",
   "execution_count": 2,
   "metadata": {
    "tags": [
     "parameters"
    ]
   },
   "outputs": [],
   "source": [
    "CITY = \"helsinki\"\n",
    "# possible values: Eigenvector Centrality, Degree Centrality, Closeness Centrality, Betweenness Centrality\n",
    "CENTRALITY = \"Betweenness Centrality\""
   ]
  },
  {
   "cell_type": "code",
   "execution_count": 3,
   "metadata": {},
   "outputs": [
    {
     "data": {
      "text/html": [
       "<div>\n",
       "<style scoped>\n",
       "    .dataframe tbody tr th:only-of-type {\n",
       "        vertical-align: middle;\n",
       "    }\n",
       "\n",
       "    .dataframe tbody tr th {\n",
       "        vertical-align: top;\n",
       "    }\n",
       "\n",
       "    .dataframe thead th {\n",
       "        text-align: right;\n",
       "    }\n",
       "</style>\n",
       "<table border=\"1\" class=\"dataframe\">\n",
       "  <thead>\n",
       "    <tr style=\"text-align: right;\">\n",
       "      <th></th>\n",
       "      <th>Node</th>\n",
       "      <th>Eigenvector Centrality</th>\n",
       "      <th>Degree Centrality</th>\n",
       "      <th>Closeness Centrality</th>\n",
       "      <th>Betweenness Centrality</th>\n",
       "      <th>stop_id</th>\n",
       "      <th>clust</th>\n",
       "      <th>stop_lat</th>\n",
       "      <th>stop_lon</th>\n",
       "      <th>stop_name</th>\n",
       "      <th>geometry</th>\n",
       "    </tr>\n",
       "  </thead>\n",
       "  <tbody>\n",
       "    <tr>\n",
       "      <th>0</th>\n",
       "      <td>2.0</td>\n",
       "      <td>2.163418e-09</td>\n",
       "      <td>0.000278</td>\n",
       "      <td>0.043629</td>\n",
       "      <td>0.000000</td>\n",
       "      <td>5020503</td>\n",
       "      <td>2</td>\n",
       "      <td>60.976337</td>\n",
       "      <td>25.657594</td>\n",
       "      <td>Lahti</td>\n",
       "      <td>POINT (427344.362 6760895.965)</td>\n",
       "    </tr>\n",
       "    <tr>\n",
       "      <th>1</th>\n",
       "      <td>2.0</td>\n",
       "      <td>2.163418e-09</td>\n",
       "      <td>0.000278</td>\n",
       "      <td>0.043629</td>\n",
       "      <td>0.000000</td>\n",
       "      <td>5020553</td>\n",
       "      <td>2</td>\n",
       "      <td>60.976337</td>\n",
       "      <td>25.657575</td>\n",
       "      <td>Lahti</td>\n",
       "      <td>POINT (427343.334 6760895.986)</td>\n",
       "    </tr>\n",
       "    <tr>\n",
       "      <th>2</th>\n",
       "      <td>3904.0</td>\n",
       "      <td>1.127121e-08</td>\n",
       "      <td>0.000557</td>\n",
       "      <td>0.045619</td>\n",
       "      <td>0.000557</td>\n",
       "      <td>5020502</td>\n",
       "      <td>3904</td>\n",
       "      <td>60.647434</td>\n",
       "      <td>25.307804</td>\n",
       "      <td>Mäntsälä</td>\n",
       "      <td>POINT (407470.505 6724709.096)</td>\n",
       "    </tr>\n",
       "  </tbody>\n",
       "</table>\n",
       "</div>"
      ],
      "text/plain": [
       "     Node  Eigenvector Centrality  Degree Centrality  Closeness Centrality  \\\n",
       "0     2.0            2.163418e-09           0.000278              0.043629   \n",
       "1     2.0            2.163418e-09           0.000278              0.043629   \n",
       "2  3904.0            1.127121e-08           0.000557              0.045619   \n",
       "\n",
       "   Betweenness Centrality  stop_id  clust   stop_lat   stop_lon stop_name  \\\n",
       "0                0.000000  5020503      2  60.976337  25.657594     Lahti   \n",
       "1                0.000000  5020553      2  60.976337  25.657575     Lahti   \n",
       "2                0.000557  5020502   3904  60.647434  25.307804  Mäntsälä   \n",
       "\n",
       "                         geometry  \n",
       "0  POINT (427344.362 6760895.965)  \n",
       "1  POINT (427343.334 6760895.986)  \n",
       "2  POINT (407470.505 6724709.096)  "
      ]
     },
     "execution_count": 3,
     "metadata": {},
     "output_type": "execute_result"
    }
   ],
   "source": [
    "stops = pd.read_csv(f\"../data/stops/{CITY}/stops_with_centrality.csv\", engine=\"pyarrow\")\n",
    "stops[\"geometry\"] = stops.apply(lambda x: Point(x[\"stop_lon\"], x[\"stop_lat\"]), axis=1)\n",
    "stops = gpd.GeoDataFrame(stops, geometry=\"geometry\", crs=4326)\n",
    "stops.to_crs(crs[CITY], inplace=True)\n",
    "stops.head(3)"
   ]
  },
  {
   "cell_type": "code",
   "execution_count": 4,
   "metadata": {},
   "outputs": [],
   "source": [
    "def read_boundary(city: str) -> Polygon:\n",
    "    boundary = gpd.read_file(f\"../output/{city}/boundary.geojson\").set_crs(4326)\n",
    "    return boundary.geometry[0]\n",
    "\n",
    "\n",
    "def determine_city_centroid_by_landuse(boundary: Polygon, crs: int) -> Point:\n",
    "    landuse = ox.features_from_polygon(\n",
    "        boundary,\n",
    "        tags={\n",
    "            \"landuse\": [\n",
    "                \"residential\",\n",
    "                # \"retail\",\n",
    "                # \"industrial\",\n",
    "            ],\n",
    "        },\n",
    "    )\n",
    "    landuse = landuse[landuse[\"geometry\"].geom_type == \"Polygon\"].copy()\n",
    "    landuse.to_crs(crs, inplace=True)\n",
    "    return landuse.union_all().centroid"
   ]
  },
  {
   "cell_type": "code",
   "execution_count": 5,
   "metadata": {},
   "outputs": [],
   "source": [
    "landuse_centroid = determine_city_centroid_by_landuse(read_boundary(CITY), crs[CITY])\n",
    "# gpd.GeoDataFrame(geometry=[landuse_centroid], crs=crs[CITY]).to_crs(4326)"
   ]
  },
  {
   "cell_type": "code",
   "execution_count": 6,
   "metadata": {},
   "outputs": [],
   "source": [
    "# stops[stops[\"Betweenness Centrality\"] > 0.3446914]"
   ]
  },
  {
   "cell_type": "code",
   "execution_count": 6,
   "metadata": {},
   "outputs": [],
   "source": [
    "# based on: https://stackoverflow.com/a/38022636/4737417\n",
    "def distance_matrix(data: pd.DataFrame):\n",
    "    result = []\n",
    "    # result.append(data[\"stop_id\"].tolist())\n",
    "    for i in data.itertuples():\n",
    "        r = []\n",
    "        for j in data.itertuples():\n",
    "            d = np.round(i.geometry.distance(j.geometry))\n",
    "            r.append(d)\n",
    "        # result.append([i.stop_id] + r)\n",
    "        result.append(r)\n",
    "    result = np.array(result)\n",
    "    return result\n",
    "\n",
    "\n",
    "def medoid_index(distamce_matrix: np.array) -> int:\n",
    "    return int(np.argmin(distamce_matrix.sum(axis=0)))\n",
    "\n",
    "\n",
    "def calculate_medoid(data: pd.DataFrame, id_column: str = \"stop_id\") -> int:\n",
    "    dmx = distance_matrix(data)\n",
    "    i = int(np.argmin(dmx.sum(axis=0)))\n",
    "    return data[id_column].tolist()[i]"
   ]
  },
  {
   "cell_type": "code",
   "execution_count": 8,
   "metadata": {},
   "outputs": [],
   "source": [
    "# dmx = distance_matrix(stops[stops[\"Betweenness Centrality\"] > 0.3446914])\n",
    "# medoid_index(dmx)"
   ]
  },
  {
   "cell_type": "code",
   "execution_count": 7,
   "metadata": {},
   "outputs": [],
   "source": [
    "maxc = stops[CENTRALITY].max()\n",
    "medoid_id = calculate_medoid(stops[stops[\"Betweenness Centrality\"] == maxc])\n",
    "medoid = stops[stops[\"stop_id\"] == medoid_id][\"geometry\"].tolist()[0]\n",
    "centroid = stops[stops[\"Betweenness Centrality\"] == maxc].union_all().centroid"
   ]
  },
  {
   "cell_type": "code",
   "execution_count": 10,
   "metadata": {},
   "outputs": [],
   "source": [
    "# stops[\"distance_from_city_centroid\"] = stops[\"geometry\"].apply(\n",
    "#     lambda x: np.round(x.distance(boundary.centroid) / 1000, 3)\n",
    "# )"
   ]
  },
  {
   "cell_type": "code",
   "execution_count": 8,
   "metadata": {},
   "outputs": [],
   "source": [
    "stops[\"distance_from_largest_betweenness_medoid\"] = stops[\"geometry\"].apply(\n",
    "    lambda x: np.round(x.distance(medoid) / 1000, 3)\n",
    ")\n",
    "stops[\"distance_from_largest_betweenness_centroid\"] = stops[\"geometry\"].apply(\n",
    "    lambda x: np.round(x.distance(centroid) / 1000, 3)\n",
    ")\n",
    "stops[\"distance_from_landuse_centroid\"] = stops[\"geometry\"].apply(\n",
    "    lambda x: np.round(x.distance(landuse_centroid) / 1000, 3)\n",
    ")"
   ]
  },
  {
   "cell_type": "code",
   "execution_count": 9,
   "metadata": {},
   "outputs": [],
   "source": [
    "m = stops[\n",
    "    [\n",
    "        \"stop_id\",\n",
    "        # \"distance_from_city_centroid\",\n",
    "        \"distance_from_largest_betweenness_centroid\",\n",
    "        \"distance_from_largest_betweenness_medoid\",\n",
    "        \"distance_from_landuse_centroid\",\n",
    "    ]\n",
    "]\n",
    "m.dropna(subset=[\"stop_id\"]).to_csv(f\"../output/{CITY}/distance.csv\", index=False)"
   ]
  }
 ],
 "metadata": {
  "kernelspec": {
   "display_name": "calculate_accessibility-4Q_DyPin-py3.11",
   "language": "python",
   "name": "python3"
  },
  "language_info": {
   "codemirror_mode": {
    "name": "ipython",
    "version": 3
   },
   "file_extension": ".py",
   "mimetype": "text/x-python",
   "name": "python",
   "nbconvert_exporter": "python",
   "pygments_lexer": "ipython3",
   "version": "3.11.11"
  }
 },
 "nbformat": 4,
 "nbformat_minor": 2
}
