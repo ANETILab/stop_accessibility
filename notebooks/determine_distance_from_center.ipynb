{
 "cells": [
  {
   "cell_type": "code",
   "execution_count": null,
   "metadata": {},
   "outputs": [],
   "source": [
    "from pathlib import Path\n",
    "\n",
    "import geopandas as gpd\n",
    "import numpy as np\n",
    "import osmnx as ox\n",
    "import pandas as pd\n",
    "from common import load_crs, load_stops\n",
    "from shapely import Point, Polygon\n",
    "\n",
    "ox.settings.use_cache = True\n",
    "ox.settings.log_console = False\n",
    "\n",
    "crs = load_crs()"
   ]
  },
  {
   "cell_type": "code",
   "execution_count": null,
   "metadata": {},
   "outputs": [],
   "source": [
    "def read_boundary(city: str) -> Polygon:\n",
    "    boundary = gpd.read_file(f\"../output/{city}/boundary.geojson\").set_crs(4326)\n",
    "    return boundary.geometry[0]\n",
    "\n",
    "\n",
    "def determine_city_centroid_by_landuse(\n",
    "    boundary: Polygon,\n",
    "    crs: int,\n",
    "    landuse: list[str] = [\"residential\"],\n",
    "    # landuse: list[str] = [\"residential\", \"retail\", \"industrial\"],\n",
    ") -> Point:\n",
    "    landuse = ox.features_from_polygon(\n",
    "        boundary,\n",
    "        tags={\"landuse\": landuse},\n",
    "    )\n",
    "    landuse = landuse[landuse[\"geometry\"].geom_type == \"Polygon\"].copy()\n",
    "    landuse.to_crs(crs, inplace=True)\n",
    "    return landuse.union_all().centroid\n",
    "\n",
    "\n",
    "# based on: https://stackoverflow.com/a/38022636/4737417\n",
    "def distance_matrix(data: pd.DataFrame):\n",
    "    result = []\n",
    "    for i in data.itertuples():\n",
    "        r = []\n",
    "        for j in data.itertuples():\n",
    "            d = np.round(i.geometry.distance(j.geometry))\n",
    "            r.append(d)\n",
    "        result.append(r)\n",
    "    result = np.array(result)\n",
    "    return result\n",
    "\n",
    "\n",
    "def medoid_index(distamce_matrix: np.array) -> int:\n",
    "    return int(np.argmin(distamce_matrix.sum(axis=0)))\n",
    "\n",
    "\n",
    "def calculate_medoid(data: pd.DataFrame, id_column: str = \"stop_id\") -> int:\n",
    "    dmx = distance_matrix(data)\n",
    "    i = int(np.argmin(dmx.sum(axis=0)))\n",
    "    return data[id_column].tolist()[i]"
   ]
  },
  {
   "cell_type": "code",
   "execution_count": 2,
   "metadata": {
    "tags": [
     "parameters"
    ]
   },
   "outputs": [],
   "source": [
    "CITY = \"helsinki\"\n",
    "# possible values: Eigenvector Centrality, Degree Centrality, Closeness Centrality, Betweenness Centrality\n",
    "CENTRALITY = \"Betweenness Centrality\""
   ]
  },
  {
   "cell_type": "code",
   "execution_count": null,
   "metadata": {},
   "outputs": [],
   "source": [
    "stops = load_stops(CITY)\n",
    "stops.to_crs(crs[CITY], inplace=True)"
   ]
  },
  {
   "cell_type": "code",
   "execution_count": null,
   "metadata": {},
   "outputs": [],
   "source": [
    "landuse_centroid = determine_city_centroid_by_landuse(read_boundary(CITY), crs[CITY])"
   ]
  },
  {
   "cell_type": "code",
   "execution_count": 7,
   "metadata": {},
   "outputs": [],
   "source": [
    "maxc = stops[CENTRALITY].max()\n",
    "medoid_id = calculate_medoid(stops[stops[\"Betweenness Centrality\"] == maxc])\n",
    "medoid = stops[stops[\"stop_id\"] == medoid_id][\"geometry\"].tolist()[0]\n",
    "centroid = stops[stops[\"Betweenness Centrality\"] == maxc].union_all().centroid"
   ]
  },
  {
   "cell_type": "code",
   "execution_count": 8,
   "metadata": {},
   "outputs": [],
   "source": [
    "stops[\"distance_from_largest_betweenness_medoid\"] = stops[\"geometry\"].apply(\n",
    "    lambda x: np.round(x.distance(medoid) / 1000, 3)\n",
    ")\n",
    "stops[\"distance_from_largest_betweenness_centroid\"] = stops[\"geometry\"].apply(\n",
    "    lambda x: np.round(x.distance(centroid) / 1000, 3)\n",
    ")\n",
    "stops[\"distance_from_landuse_centroid\"] = stops[\"geometry\"].apply(\n",
    "    lambda x: np.round(x.distance(landuse_centroid) / 1000, 3)\n",
    ")"
   ]
  },
  {
   "cell_type": "code",
   "execution_count": null,
   "metadata": {},
   "outputs": [],
   "source": [
    "distance = stops[\n",
    "    [\n",
    "        \"stop_id\",\n",
    "        \"distance_from_largest_betweenness_centroid\",\n",
    "        \"distance_from_largest_betweenness_medoid\",\n",
    "        \"distance_from_landuse_centroid\",\n",
    "    ]\n",
    "].copy()\n",
    "Path(f\"../output/{CITY}\").mkdir(parents=True, exist_ok=True)\n",
    "distance.dropna(subset=[\"stop_id\"]).to_csv(\n",
    "    f\"../output/{CITY}/distance.csv\", index=False\n",
    ")"
   ]
  }
 ],
 "metadata": {
  "kernelspec": {
   "display_name": "calculate_accessibility-4Q_DyPin-py3.11",
   "language": "python",
   "name": "python3"
  },
  "language_info": {
   "codemirror_mode": {
    "name": "ipython",
    "version": 3
   },
   "file_extension": ".py",
   "mimetype": "text/x-python",
   "name": "python",
   "nbconvert_exporter": "python",
   "pygments_lexer": "ipython3",
   "version": "3.11.11"
  }
 },
 "nbformat": 4,
 "nbformat_minor": 2
}
