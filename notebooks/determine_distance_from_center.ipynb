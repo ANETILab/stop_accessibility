{
 "cells": [
  {
   "cell_type": "code",
   "execution_count": null,
   "metadata": {},
   "outputs": [],
   "source": [
    "from pathlib import Path\n",
    "\n",
    "import numpy as np\n",
    "import osmnx as ox\n",
    "from common import load_crs, load_stops\n",
    "from determine_distance_from_center import (\n",
    "    calculate_medoid,\n",
    "    determine_city_centroid_by_landuse,\n",
    "    read_boundary,\n",
    ")\n",
    "\n",
    "ox.settings.use_cache = True\n",
    "ox.settings.log_console = False\n",
    "\n",
    "crs = load_crs()"
   ]
  },
  {
   "cell_type": "code",
   "execution_count": null,
   "metadata": {
    "tags": [
     "parameters"
    ]
   },
   "outputs": [],
   "source": [
    "CITY = \"helsinki\"\n",
    "VERSION = \"\"\n",
    "# possible values: Eigenvector Centrality, Degree Centrality, Closeness Centrality, Betweenness Centrality\n",
    "CENTRALITY = \"Betweenness Centrality\""
   ]
  },
  {
   "cell_type": "code",
   "execution_count": null,
   "metadata": {},
   "outputs": [],
   "source": [
    "stops = load_stops(CITY, VERSION)\n",
    "stops.to_crs(crs[CITY], inplace=True)"
   ]
  },
  {
   "cell_type": "code",
   "execution_count": null,
   "metadata": {},
   "outputs": [],
   "source": [
    "landuse_centroid = determine_city_centroid_by_landuse(read_boundary(CITY), crs[CITY])"
   ]
  },
  {
   "cell_type": "code",
   "execution_count": 7,
   "metadata": {},
   "outputs": [],
   "source": [
    "maxc = stops[CENTRALITY].max()\n",
    "medoid_id = calculate_medoid(stops[stops[\"Betweenness Centrality\"] == maxc])\n",
    "medoid = stops[stops[\"stop_id\"] == medoid_id][\"geometry\"].tolist()[0]\n",
    "centroid = stops[stops[\"Betweenness Centrality\"] == maxc].union_all().centroid"
   ]
  },
  {
   "cell_type": "code",
   "execution_count": 8,
   "metadata": {},
   "outputs": [],
   "source": [
    "stops[\"distance_from_largest_betweenness_medoid\"] = stops[\"geometry\"].apply(\n",
    "    lambda x: np.round(x.distance(medoid) / 1000, 3)\n",
    ")\n",
    "stops[\"distance_from_largest_betweenness_centroid\"] = stops[\"geometry\"].apply(\n",
    "    lambda x: np.round(x.distance(centroid) / 1000, 3)\n",
    ")\n",
    "stops[\"distance_from_landuse_centroid\"] = stops[\"geometry\"].apply(\n",
    "    lambda x: np.round(x.distance(landuse_centroid) / 1000, 3)\n",
    ")"
   ]
  },
  {
   "cell_type": "code",
   "execution_count": null,
   "metadata": {},
   "outputs": [],
   "source": [
    "distance = stops[\n",
    "    [\n",
    "        \"stop_id\",\n",
    "        \"distance_from_largest_betweenness_centroid\",\n",
    "        \"distance_from_largest_betweenness_medoid\",\n",
    "        \"distance_from_landuse_centroid\",\n",
    "    ]\n",
    "].copy()\n",
    "path = f\"../output/{CITY}/{VERSION}\"\n",
    "Path(path).mkdir(parents=True, exist_ok=True)\n",
    "distance.dropna(subset=[\"stop_id\"]).to_csv(f\"{path}/distance.csv\", index=False)"
   ]
  }
 ],
 "metadata": {
  "kernelspec": {
   "display_name": "calculate_accessibility-4Q_DyPin-py3.11",
   "language": "python",
   "name": "python3"
  },
  "language_info": {
   "codemirror_mode": {
    "name": "ipython",
    "version": 3
   },
   "file_extension": ".py",
   "mimetype": "text/x-python",
   "name": "python",
   "nbconvert_exporter": "python",
   "pygments_lexer": "ipython3",
   "version": "3.11.11"
  }
 },
 "nbformat": 4,
 "nbformat_minor": 2
}
