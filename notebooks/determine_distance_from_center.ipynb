{
 "cells": [
  {
   "cell_type": "code",
   "execution_count": null,
   "metadata": {},
   "outputs": [],
   "source": [
    "import geopandas as gpd\n",
    "import osmnx as ox\n",
    "import pandas as pd\n",
    "from shapely import Point\n",
    "\n",
    "ox.settings.use_cache = True\n",
    "ox.settings.log_console = False"
   ]
  },
  {
   "cell_type": "code",
   "execution_count": 2,
   "metadata": {
    "tags": [
     "parameters"
    ]
   },
   "outputs": [],
   "source": [
    "CITY = \"budapest\"\n",
    "CRS = 23700\n",
    "STOPS_FILENAME = \"Budapest_stops_with_centrality.csv\""
   ]
  },
  {
   "cell_type": "code",
   "execution_count": 4,
   "metadata": {},
   "outputs": [
    {
     "data": {
      "text/html": [
       "<div>\n",
       "<style scoped>\n",
       "    .dataframe tbody tr th:only-of-type {\n",
       "        vertical-align: middle;\n",
       "    }\n",
       "\n",
       "    .dataframe tbody tr th {\n",
       "        vertical-align: top;\n",
       "    }\n",
       "\n",
       "    .dataframe thead th {\n",
       "        text-align: right;\n",
       "    }\n",
       "</style>\n",
       "<table border=\"1\" class=\"dataframe\">\n",
       "  <thead>\n",
       "    <tr style=\"text-align: right;\">\n",
       "      <th></th>\n",
       "      <th>Node</th>\n",
       "      <th>Eigenvector Centrality</th>\n",
       "      <th>Degree Centrality</th>\n",
       "      <th>Closeness Centrality</th>\n",
       "      <th>Betweenness Centrality</th>\n",
       "      <th>stop_id</th>\n",
       "      <th>clust</th>\n",
       "      <th>stop_lat</th>\n",
       "      <th>stop_lon</th>\n",
       "      <th>geometry</th>\n",
       "    </tr>\n",
       "  </thead>\n",
       "  <tbody>\n",
       "    <tr>\n",
       "      <th>0</th>\n",
       "      <td>1.0</td>\n",
       "      <td>3.632075e-15</td>\n",
       "      <td>0.000437</td>\n",
       "      <td>0.033463</td>\n",
       "      <td>0.00000</td>\n",
       "      <td>044369</td>\n",
       "      <td>1</td>\n",
       "      <td>47.175605</td>\n",
       "      <td>18.941796</td>\n",
       "      <td>POINT (641991.147 203505.079)</td>\n",
       "    </tr>\n",
       "    <tr>\n",
       "      <th>1</th>\n",
       "      <td>1.0</td>\n",
       "      <td>3.632075e-15</td>\n",
       "      <td>0.000437</td>\n",
       "      <td>0.033463</td>\n",
       "      <td>0.00000</td>\n",
       "      <td>088453</td>\n",
       "      <td>1</td>\n",
       "      <td>47.174793</td>\n",
       "      <td>18.941817</td>\n",
       "      <td>POINT (641992.615 203414.809)</td>\n",
       "    </tr>\n",
       "    <tr>\n",
       "      <th>2</th>\n",
       "      <td>2.0</td>\n",
       "      <td>1.878265e-14</td>\n",
       "      <td>0.001311</td>\n",
       "      <td>0.034621</td>\n",
       "      <td>0.00262</td>\n",
       "      <td>CSF04632</td>\n",
       "      <td>2</td>\n",
       "      <td>47.227924</td>\n",
       "      <td>18.946067</td>\n",
       "      <td>POINT (642322.523 209320.816)</td>\n",
       "    </tr>\n",
       "  </tbody>\n",
       "</table>\n",
       "</div>"
      ],
      "text/plain": [
       "   Node  Eigenvector Centrality  Degree Centrality  Closeness Centrality  \\\n",
       "0   1.0            3.632075e-15           0.000437              0.033463   \n",
       "1   1.0            3.632075e-15           0.000437              0.033463   \n",
       "2   2.0            1.878265e-14           0.001311              0.034621   \n",
       "\n",
       "   Betweenness Centrality   stop_id  clust   stop_lat   stop_lon  \\\n",
       "0                 0.00000    044369      1  47.175605  18.941796   \n",
       "1                 0.00000    088453      1  47.174793  18.941817   \n",
       "2                 0.00262  CSF04632      2  47.227924  18.946067   \n",
       "\n",
       "                        geometry  \n",
       "0  POINT (641991.147 203505.079)  \n",
       "1  POINT (641992.615 203414.809)  \n",
       "2  POINT (642322.523 209320.816)  "
      ]
     },
     "execution_count": 4,
     "metadata": {},
     "output_type": "execute_result"
    }
   ],
   "source": [
    "stops = pd.read_csv(f\"../data/stops/{CITY}/{STOPS_FILENAME}\", engine=\"pyarrow\")\n",
    "stops[\"geometry\"] = stops.apply(lambda x: Point(x[\"stop_lon\"], x[\"stop_lat\"]), axis=1)\n",
    "stops = gpd.GeoDataFrame(stops, geometry=\"geometry\", crs=4326)\n",
    "stops.to_crs(CRS, inplace=True)\n",
    "stops.head(3)"
   ]
  },
  {
   "cell_type": "code",
   "execution_count": null,
   "metadata": {},
   "outputs": [],
   "source": [
    "boundary = gpd.read_file(f\"../data/geojson/{CITY}/boundary.geojson\").set_crs(4326)\n",
    "boundary.to_crs(CRS, inplace=True)"
   ]
  },
  {
   "cell_type": "code",
   "execution_count": 10,
   "metadata": {},
   "outputs": [
    {
     "data": {
      "text/plain": [
       "0    POINT (654535.962 237790.095)\n",
       "dtype: geometry"
      ]
     },
     "execution_count": 10,
     "metadata": {},
     "output_type": "execute_result"
    }
   ],
   "source": [
    "boundary.centroid"
   ]
  },
  {
   "cell_type": "code",
   "execution_count": null,
   "metadata": {},
   "outputs": [],
   "source": []
  }
 ],
 "metadata": {
  "kernelspec": {
   "display_name": "calculate_accessibility-4Q_DyPin-py3.11",
   "language": "python",
   "name": "python3"
  },
  "language_info": {
   "codemirror_mode": {
    "name": "ipython",
    "version": 3
   },
   "file_extension": ".py",
   "mimetype": "text/x-python",
   "name": "python",
   "nbconvert_exporter": "python",
   "pygments_lexer": "ipython3",
   "version": "3.11.11"
  }
 },
 "nbformat": 4,
 "nbformat_minor": 2
}
